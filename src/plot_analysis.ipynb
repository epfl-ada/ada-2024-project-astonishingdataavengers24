{
 "cells": [
  {
   "cell_type": "code",
   "execution_count": 1,
   "metadata": {},
   "outputs": [],
   "source": [
    "# Importing the necessary libraries\n",
    "import pandas as pd\n",
    "import re\n",
    "from collections import defaultdict\n",
    "from scipy.sparse import csr_matrix\n",
    "import matplotlib.pyplot as plt\n",
    "import numpy as np\n",
    "import gensim\n",
    "import gensim.downloader as api\n",
    "from sklearn.cluster import KMeans\n",
    "from sklearn.feature_extraction.text import CountVectorizer"
   ]
  },
  {
   "cell_type": "code",
   "execution_count": 2,
   "metadata": {},
   "outputs": [],
   "source": [
    "# Import code from other files\n",
    "from model import model as m"
   ]
  },
  {
   "cell_type": "code",
   "execution_count": 3,
   "metadata": {},
   "outputs": [
    {
     "name": "stdout",
     "output_type": "stream",
     "text": [
      "Number of words in the model:  39291\n",
      "Number of words not in the model (should be 0 now):  0\n"
     ]
    },
    {
     "name": "stderr",
     "output_type": "stream",
     "text": [
      "/Users/antoine/anaconda3/envs/gensim_env/lib/python3.10/site-packages/scipy/sparse/_base.py:665: RuntimeWarning: invalid value encountered in divide\n",
      "  return np.true_divide(self.todense(), other)\n"
     ]
    },
    {
     "name": "stdout",
     "output_type": "stream",
     "text": [
      "(42303, 39290)\n"
     ]
    }
   ],
   "source": [
    "# Fit the model\n",
    "\n",
    "# Get data and model\n",
    "data, meta_data, valid_words = m.get_data()\n",
    "w2v_model = m.get_model()\n",
    "# Preprocess the data\n",
    "data, word2vec = m.w2v_preprocessing(data, valid_words, w2v_model)\n",
    "# Get the vectorized wordcount data\n",
    "X_sparse, word_to_index, movie_id_to_index = m.get_vectorized_data(data)\n",
    "# Get the tf-idf matrix\n",
    "tf_idf = m.compute_tf_idf(X_sparse)\n",
    "print(tf_idf.shape)\n"
   ]
  },
  {
   "cell_type": "code",
   "execution_count": 4,
   "metadata": {},
   "outputs": [],
   "source": [
    "# Get the movie vectors\n",
    "movie_vectors = m.compute_movie_vectors(tf_idf, w2v_model, word_to_index, movie_id_to_index, data)"
   ]
  },
  {
   "cell_type": "code",
   "execution_count": 11,
   "metadata": {},
   "outputs": [
    {
     "name": "stdout",
     "output_type": "stream",
     "text": [
      "Cluster 1\n",
      "Closest words :  ['pretending', 'pretend', 'thinks', 'telling', 'knowing', 'two-timing', 'something', 'terrified', 'afraid', 'indeed']\n",
      "\n",
      "Movie : 0 The three meet each other for the first time at Mumbai's airport and decide to find a place together. In the course of the movie, Krishna finds out that, in order to break into the local film industry, he must first win the  patronage of Don Mastana , a godfather of the Mumbai underworld who's also a film producer. Mastana is a violent man who thinks nothing of impaling a lizard with a knife or shattering the skull of a fellow crime boss for making a pass at his girlfriend. Ricardo, the serious-looking Australian, finds out the sad fate of his brother, but also manages to fall in love with Mastana's spunky moll Dolly , igniting further flames. Xerxes, who's a Parsi, is led to embrace his latent homosexuality by their gay landlord .\n",
      "\n",
      "\n",
      "Movie : 1 Chevy Chase once again plays the reporter Irwin M. \"Fletch\" Fletcher, who learns that he has inherited a plantation in Louisiana. Upon arriving, Fletch's aunt's lawyer is murdered, leaving Fletch to unravel the mystery. In order to catch the real killers and clear his name, Fletch dons a series of disguises and infiltrates the congregation of television evangelist Jimmy Lee Farnsworth , who the audience is led to believe wants to gain control of Fletch's land in order to build a Christian theme park. It is subsequently revealed that, in actuality, a chemical company wants the land so it can dump its toxic waste there. Fletch Lives was filmed in Louisiana.\n",
      "\n",
      "\n",
      "Movie : 2 The film shows how terrorist outfits use money to lure unemployed youth to do their bidding. A mentally challenged young woman wanders on the city streets creating a lot of commotion. Many people, including policemen, take advantage of her. A report on her miserable plight is aired on television. Following this, Aboobacker , a rich businessman, seeks out the young woman and gets her admitted to a hospital. Aboobacker is certain that the young woman is Raziya . As Raziya's past unfolds, we learn that she was in love with Raghu , her neighbour. We also come to know that his family depended on her father for survival.\n",
      "\n",
      "\n",
      "Movie : 3 Attempting suicide, sultry but down-on-her-luck swindler Liz  is rescued by lonely tow truck driver Aiden . But instead of rushing her to the hospital, Liz’s savior abducts her to his remote farmhouse, convinced that she is the wife who abandoned him years earlier. Cut off from civilization, kept prisoner and guarded day and night by vicious attack dogs, Liz realizes she must rely on her skills as a con artist to talk her way out of this hostage situation. In the satiric tradition of Misery, Buffalo 66, Secretary and Black Snake Moan comes this captivating black comedy about the ties that bind.\n",
      "\n",
      "\n",
      "Movie : 4 Marcia  is a single mom and street vendor barely scraping by even with a financial assist from the seemingly avuncular Larry , a gun-toting strongman with a twisted desire for Marcia's teenage daughter, Tanya . Complicating things is Priest , a murderous hood who killed Marcia's friend and now is terrorizing the defenseless woman. Facing three big problems--Larry, Priest, and a lack of money---Marcia arrives at an inspired solution: develop an alter ego, a dancing celebrity called the Mystery Lady who can compete in a cash-prize contest and put both of the men against one another. Which is exactly what she does, and it's great fun watching Marcia instigate her complicated plan with a little help from sympathetic friends.\n",
      "\n",
      "Cluster 2\n",
      "Closest words :  ['review', 'reviewed', 'reviewing', 'reviewer', 'Reviews', 'reviews', 'Reviewer', 'Reviewing', 'allmusic', 'Foundas']\n",
      "\n",
      "Movie : 0 Thanhouser literature describes it as \"A laughable parody on Sherlock Holmes.http://www.nitrateville.com/viewtopic.php?t=8562\"\n",
      "\n",
      "\n",
      "Movie : 1 Pippi, with friends Tommy and Annika, adventures on the South Seas to hunt for her father, who has been kidnapped by pirates.Editorial Reviews of the movie of Amazon.com\n",
      "\n",
      "\n",
      "Movie : 2 The fifty-minute movie was described as a \"point-by-point PowerPoint rebuttal\"{{cite news|urlIn a Filmdom Premiere, a Foe for Gore|lastJesse|dateNew York Times|accessdatenyt/>\n",
      "\n",
      "\n",
      "Movie : 3 Dotson>{{cite web|lastHorace|title}{ http://voices.yahoo.com/wild-seed1965-review-8662797.html?cat27 April 2012|dateCastReferences {{Reflist}}\n",
      "\n",
      "\n",
      "Movie : 4 A man is cited as the co-respondent in a divorce case, but is cheerfully unashamed when he appears in court.http://ftvdb.bfi.org.uk/sift/title/31393\n",
      "\n",
      "Cluster 3\n",
      "Closest words :  ['tempore', 'Tempore', 'tem', 'pro', 'Senate', 'Speaker', 'Tem', 'pro-tem', 'senate', 'senator']\n",
      "\n",
      "Movie : 0  *Ed Kavalee as Tom *Toby Truslove as Red *Lachy Hulme as Adam *Henry Nixon as David *Christian Clark as Bernie *Glenn Robbins as Brett *Tony Martin as Luke *Peter Helliar as Andre *Samantha Tolj as Amy *Dave Hughes as Trent *Kate Langbroek as Sasha *Ryan Shelton as Dan *Claudia Hruschka as Illana *Julia Perrott-Clarke as Mia *Amelia Ryan as Jane *Ash Williams as Mooney *Luke McGregor as Carl\n",
      "\n",
      "\n",
      "Movie : 1  * Ally Walker: Audrey Macleah * Martin Sheen: Captain Swaggert * Ron Perlman: Dr. Douglas Eben * Tara Subkoff: Jordan Thomas / Jennifer Lynn Eben * Robert Knepper: Lt. Jimmy Creedmore * Scott Lawrence: Sergeant Footman * John P. Connolly: Sergeant Belvin\n",
      "\n",
      "\n",
      "Movie : 2 -->  *Pola Alonso *Arturo Arcari *Héctor Armendáriz *Lina Bardo *Alfredo Dalton *Juancito Díaz *Francisco Pablo Donadio *Rolando Dumas *Carlos A. Dusso *José María Fra *Arturo Huber *Jorge Leval *Eugenio Novile *Juan Carlos Prevende *Virginia Romay *Marcelo Ruggero *Héctor Silva *Silvia Sisley *José Soriano *Osvaldo Tempore *Mateo Velich <!--\n",
      "\n",
      "\n",
      "Movie : 3 -->  *Miguel Ángel Aijón - Aijón *Miguel Ángel Aparicio - Caspas *Mayte Navales - Carla *Nacho Rubio - El Duende *Salomé Jiménez - La Puños *Santiago Segura - Padre Pelayo/Entrecot/Himself *Raúl Sanz - Johhny Maldad *Natalia Moreno - Luchi *Marianico el Corto - Padre de Aijón\n",
      "\n",
      "\n",
      "Movie : 4 It is a biography of General José de San Martín , Argentine military man and hero of the Independence of Argentina, Chile and Peru\n",
      "\n",
      "Cluster 4\n",
      "Closest words :  ['blustery', 'windy', 'muggy', 'brash', 'gruff', 'ornery', 'grumpy', 'clownish', 'fast-talking', 'stuffy']\n",
      "\n",
      "Movie : 0 Cast  *Violent J&nbsp;– J *Shaggy 2 Dope&nbsp;– Shaggy *Krista Kalmus&nbsp;– Amy *Lindsay Ballew&nbsp;– Stacy *Kathlyne Pham&nbsp;– Tiffany *Damian Lea&nbsp;– Brad *Sabin Rich&nbsp;– Carl *Mark Jury&nbsp;– Guy In Car *Roxxi Dolt&nbsp;– Girl In Car\n",
      "\n",
      "\n",
      "Movie : 1  *Broncho Billy Anderson as The Cowboy *Gladys Field as Jennie Lee *Arthur Mackley as Jennie's Father *John B. O'Brien as The Cowboy's Friend *Fred Church *Harry Todd *Brinsley Shaw *Victor Potel\n",
      "\n",
      "\n",
      "Movie : 2 Piedmont Mumblethunder  is embarrassed at the effeminacy of his kilt-wearing Scottish nephew Philip .\n",
      "\n",
      "\n",
      "Movie : 3 Sam Damon  is a good family man and praiseworthy warrior. Courtney Massengale  is the opposite—a womanizing, self-aggrandizing conniver.\n",
      "\n",
      "\n",
      "Movie : 4 * Winnie the Pooh and the Honey Tree * Winnie the Pooh and the Blustery Day * Winnie the Pooh and Tigger Too\n",
      "\n",
      "Cluster 5\n",
      "Closest words :  ['tripod', 'tripods', 'bipod', 'swivel', 'pintle', 'mount', 'trunnions', 'swivelling', 'baseplate', 'lug']\n",
      "\n",
      "Movie : 0  {| class\"50%\" |- bgcolor=\"#CCCCCC\" ! Actor !! Role |- | P. U. Chinnappa || Kaathavaraayan |- | M. S. Sarojini || Aryamala |- | M. R. Santhanalakshmi || Goddess Parvathi |- | T. S. Balaiah || |- | A. Sakunthala || |- | N. S. Krishnan || |- | T. A. Madhuram || |- | S. R. Janaki || |- | Kulathu Mani || |- | P. S. Gnanam || |- | A. R. Sakunthala || |- | B. Rajagopala Iyer || Lord Shiva |}\n",
      "\n",
      "\n",
      "Movie : 1  *John Gilbert as Jack *Wallace Beery as Tripod McMasters *Jim Tully as Ginger *Leila Hyams as Joan *Polly Moran as Polly *Doris Lloyd as Flossy\n",
      "\n",
      "\n",
      "Movie : 2 *Ving Rhames- James \"Animal\" Allen *Terrence Howard – Darius Allen *Jim Brown – Berwell *Chazz Palminteri – Kassada *Wes Studi - Creeper *Black Child – Spyda *Taraji P. Henson – Ramona\n",
      "\n",
      "\n",
      "Movie : 3  * Jomari Yllana as Bert * Richard Gutierrez as Marvin * Iza Calzado as Anna * Angel Locsin as Pinky * James Blanco as Jude * Ella Guevara as Lara * Lui Manansala as Marvin's Mother * Tessie Villarama as Pinky's Mother * Pocholo Montes as Pinky's Father\n",
      "\n",
      "\n",
      "Movie : 4  *John Ritter as Bubba Newman *Susan Dey as Megan Barrett *Doug McKeon as Michael *James Gregory as Scotty *Jeremy Licht as Paul *Dick O'Neill as Phil *Rod Gist as Ray Carver *Michael Lembeck as Tony *Patrick Swayze as Chuck *Angela Aames as Sherry *Tan Adams as Shirley *Abraham Alvarez as Frank *Kevin King Cooper as Tank *Kim Fields as Molly\n",
      "\n",
      "Cluster 6\n"
     ]
    },
    {
     "ename": "IndexError",
     "evalue": "index 5 is out of bounds for axis 0 with size 5",
     "output_type": "error",
     "traceback": [
      "\u001b[0;31m---------------------------------------------------------------------------\u001b[0m",
      "\u001b[0;31mIndexError\u001b[0m                                Traceback (most recent call last)",
      "Cell \u001b[0;32mIn[11], line 12\u001b[0m\n\u001b[1;32m     10\u001b[0m \u001b[38;5;28mprint\u001b[39m(\u001b[38;5;124m\"\u001b[39m\u001b[38;5;124mCluster\u001b[39m\u001b[38;5;124m\"\u001b[39m, i\u001b[38;5;241m+\u001b[39m\u001b[38;5;241m1\u001b[39m)\n\u001b[1;32m     11\u001b[0m \u001b[38;5;66;03m# Print the 5 closest words to the cluster center\u001b[39;00m\n\u001b[0;32m---> 12\u001b[0m \u001b[38;5;28mprint\u001b[39m(\u001b[38;5;124m\"\u001b[39m\u001b[38;5;124mClosest words : \u001b[39m\u001b[38;5;124m\"\u001b[39m, [w2v_model\u001b[38;5;241m.\u001b[39msimilar_by_vector(kmeans\u001b[38;5;241m.\u001b[39mcluster_centers_[i])[j][\u001b[38;5;241m0\u001b[39m] \u001b[38;5;28;01mfor\u001b[39;00m j \u001b[38;5;129;01min\u001b[39;00m \u001b[38;5;28mrange\u001b[39m(\u001b[38;5;241m10\u001b[39m)])\n\u001b[1;32m     13\u001b[0m \u001b[38;5;66;03m# For each cluster, print the movie descriptions to see if the clustering makes sense\u001b[39;00m\n\u001b[1;32m     14\u001b[0m closest_movies_ids \u001b[38;5;241m=\u001b[39m data\u001b[38;5;241m.\u001b[39miloc[np\u001b[38;5;241m.\u001b[39margsort(np\u001b[38;5;241m.\u001b[39mlinalg\u001b[38;5;241m.\u001b[39mnorm(movie_vectors \u001b[38;5;241m-\u001b[39m kmeans\u001b[38;5;241m.\u001b[39mcluster_centers_[i], axis\u001b[38;5;241m=\u001b[39m\u001b[38;5;241m1\u001b[39m))[:\u001b[38;5;241m5\u001b[39m]][\u001b[38;5;124m\"\u001b[39m\u001b[38;5;124mWikipedia_movie_ID\u001b[39m\u001b[38;5;124m\"\u001b[39m]\u001b[38;5;241m.\u001b[39mvalues\n",
      "Cell \u001b[0;32mIn[11], line 12\u001b[0m, in \u001b[0;36m<listcomp>\u001b[0;34m(.0)\u001b[0m\n\u001b[1;32m     10\u001b[0m \u001b[38;5;28mprint\u001b[39m(\u001b[38;5;124m\"\u001b[39m\u001b[38;5;124mCluster\u001b[39m\u001b[38;5;124m\"\u001b[39m, i\u001b[38;5;241m+\u001b[39m\u001b[38;5;241m1\u001b[39m)\n\u001b[1;32m     11\u001b[0m \u001b[38;5;66;03m# Print the 5 closest words to the cluster center\u001b[39;00m\n\u001b[0;32m---> 12\u001b[0m \u001b[38;5;28mprint\u001b[39m(\u001b[38;5;124m\"\u001b[39m\u001b[38;5;124mClosest words : \u001b[39m\u001b[38;5;124m\"\u001b[39m, [w2v_model\u001b[38;5;241m.\u001b[39msimilar_by_vector(\u001b[43mkmeans\u001b[49m\u001b[38;5;241;43m.\u001b[39;49m\u001b[43mcluster_centers_\u001b[49m\u001b[43m[\u001b[49m\u001b[43mi\u001b[49m\u001b[43m]\u001b[49m)[j][\u001b[38;5;241m0\u001b[39m] \u001b[38;5;28;01mfor\u001b[39;00m j \u001b[38;5;129;01min\u001b[39;00m \u001b[38;5;28mrange\u001b[39m(\u001b[38;5;241m10\u001b[39m)])\n\u001b[1;32m     13\u001b[0m \u001b[38;5;66;03m# For each cluster, print the movie descriptions to see if the clustering makes sense\u001b[39;00m\n\u001b[1;32m     14\u001b[0m closest_movies_ids \u001b[38;5;241m=\u001b[39m data\u001b[38;5;241m.\u001b[39miloc[np\u001b[38;5;241m.\u001b[39margsort(np\u001b[38;5;241m.\u001b[39mlinalg\u001b[38;5;241m.\u001b[39mnorm(movie_vectors \u001b[38;5;241m-\u001b[39m kmeans\u001b[38;5;241m.\u001b[39mcluster_centers_[i], axis\u001b[38;5;241m=\u001b[39m\u001b[38;5;241m1\u001b[39m))[:\u001b[38;5;241m5\u001b[39m]][\u001b[38;5;124m\"\u001b[39m\u001b[38;5;124mWikipedia_movie_ID\u001b[39m\u001b[38;5;124m\"\u001b[39m]\u001b[38;5;241m.\u001b[39mvalues\n",
      "\u001b[0;31mIndexError\u001b[0m: index 5 is out of bounds for axis 0 with size 5"
     ]
    }
   ],
   "source": [
    "# clustering the movies\n",
    "\n",
    "df_plot = pd.read_csv('../data/MovieSummaries/plot_summaries.txt', sep=\"\\t\", header=None)\n",
    "df_plot.columns = [\"Movie ID\", \"Plot_summary\"]\n",
    "\n",
    "kmeans = KMeans(n_clusters=5, random_state=0).fit(movie_vectors)\n",
    "\n",
    "# Get the 5 movies closest from each cluster center\n",
    "for i in range(15):\n",
    "    print(\"Cluster\", i+1)\n",
    "    # Print the 5 closest words to the cluster center\n",
    "    print(\"Closest words : \", [w2v_model.similar_by_vector(kmeans.cluster_centers_[i])[j][0] for j in range(10)])\n",
    "    # For each cluster, print the movie descriptions to see if the clustering makes sense\n",
    "    closest_movies_ids = data.iloc[np.argsort(np.linalg.norm(movie_vectors - kmeans.cluster_centers_[i], axis=1))[:5]][\"Wikipedia_movie_ID\"].values\n",
    "    for j in range(5):\n",
    "        print()\n",
    "        print(\"Movie :\", j, df_plot[df_plot[\"Movie ID\"].isin(closest_movies_ids)][\"Plot_summary\"].values[j])\n",
    "        print()"
   ]
  }
 ],
 "metadata": {
  "kernelspec": {
   "display_name": "gensim_env",
   "language": "python",
   "name": "python3"
  },
  "language_info": {
   "codemirror_mode": {
    "name": "ipython",
    "version": 3
   },
   "file_extension": ".py",
   "mimetype": "text/x-python",
   "name": "python",
   "nbconvert_exporter": "python",
   "pygments_lexer": "ipython3",
   "version": "3.10.15"
  }
 },
 "nbformat": 4,
 "nbformat_minor": 2
}
