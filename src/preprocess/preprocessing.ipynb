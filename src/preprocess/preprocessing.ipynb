{
 "cells": [
  {
   "cell_type": "markdown",
   "id": "536ea791",
   "metadata": {},
   "source": [
    "# Preprocessing the data"
   ]
  },
  {
   "cell_type": "code",
   "execution_count": 2,
   "id": "b1100a43",
   "metadata": {},
   "outputs": [
    {
     "name": "stderr",
     "output_type": "stream",
     "text": [
      "[nltk_data] Downloading package stopwords to\n",
      "[nltk_data]     /Users/antoine/nltk_data...\n",
      "[nltk_data]   Package stopwords is already up-to-date!\n"
     ]
    },
    {
     "data": {
      "text/plain": [
       "True"
      ]
     },
     "execution_count": 2,
     "metadata": {},
     "output_type": "execute_result"
    }
   ],
   "source": [
    "import pandas as pd\n",
    "import numpy as np\n",
    "import matplotlib.pyplot as plt\n",
    "%matplotlib inline\n",
    "import seaborn as sns\n",
    "import string\n",
    "import nltk\n",
    "\n",
    "from nltk.corpus import stopwords\n",
    "\n",
    "\n",
    "nltk.download('stopwords')"
   ]
  },
  {
   "cell_type": "markdown",
   "id": "75a261ea",
   "metadata": {},
   "source": [
    "## Load the dataset"
   ]
  },
  {
   "cell_type": "markdown",
   "id": "2eb13d50",
   "metadata": {},
   "source": [
    "We want to process the movie summaries to analyze them."
   ]
  },
  {
   "cell_type": "code",
   "execution_count": 3,
   "id": "c53f8b38",
   "metadata": {
    "scrolled": false
   },
   "outputs": [
    {
     "data": {
      "text/html": [
       "<div>\n",
       "<style scoped>\n",
       "    .dataframe tbody tr th:only-of-type {\n",
       "        vertical-align: middle;\n",
       "    }\n",
       "\n",
       "    .dataframe tbody tr th {\n",
       "        vertical-align: top;\n",
       "    }\n",
       "\n",
       "    .dataframe thead th {\n",
       "        text-align: right;\n",
       "    }\n",
       "</style>\n",
       "<table border=\"1\" class=\"dataframe\">\n",
       "  <thead>\n",
       "    <tr style=\"text-align: right;\">\n",
       "      <th></th>\n",
       "      <th>Movie ID</th>\n",
       "      <th>Plot summary</th>\n",
       "    </tr>\n",
       "  </thead>\n",
       "  <tbody>\n",
       "    <tr>\n",
       "      <th>0</th>\n",
       "      <td>23890098</td>\n",
       "      <td>Shlykov, a hard-working taxi driver and Lyosha...</td>\n",
       "    </tr>\n",
       "    <tr>\n",
       "      <th>1</th>\n",
       "      <td>31186339</td>\n",
       "      <td>The nation of Panem consists of a wealthy Capi...</td>\n",
       "    </tr>\n",
       "    <tr>\n",
       "      <th>2</th>\n",
       "      <td>20663735</td>\n",
       "      <td>Poovalli Induchoodan  is sentenced for six yea...</td>\n",
       "    </tr>\n",
       "    <tr>\n",
       "      <th>3</th>\n",
       "      <td>2231378</td>\n",
       "      <td>The Lemon Drop Kid , a New York City swindler,...</td>\n",
       "    </tr>\n",
       "    <tr>\n",
       "      <th>4</th>\n",
       "      <td>595909</td>\n",
       "      <td>Seventh-day Adventist Church pastor Michael Ch...</td>\n",
       "    </tr>\n",
       "    <tr>\n",
       "      <th>...</th>\n",
       "      <td>...</td>\n",
       "      <td>...</td>\n",
       "    </tr>\n",
       "    <tr>\n",
       "      <th>42298</th>\n",
       "      <td>34808485</td>\n",
       "      <td>The story is about Reema , a young Muslim scho...</td>\n",
       "    </tr>\n",
       "    <tr>\n",
       "      <th>42299</th>\n",
       "      <td>1096473</td>\n",
       "      <td>In 1928 Hollywood, director Leo Andreyev  look...</td>\n",
       "    </tr>\n",
       "    <tr>\n",
       "      <th>42300</th>\n",
       "      <td>35102018</td>\n",
       "      <td>American Luthier focuses on Randy Parsons’ tra...</td>\n",
       "    </tr>\n",
       "    <tr>\n",
       "      <th>42301</th>\n",
       "      <td>8628195</td>\n",
       "      <td>Abdur Rehman Khan , a middle-aged dry fruit se...</td>\n",
       "    </tr>\n",
       "    <tr>\n",
       "      <th>42302</th>\n",
       "      <td>6040782</td>\n",
       "      <td>1940 - Operation Dynamo has just taken place. ...</td>\n",
       "    </tr>\n",
       "  </tbody>\n",
       "</table>\n",
       "<p>42303 rows × 2 columns</p>\n",
       "</div>"
      ],
      "text/plain": [
       "       Movie ID                                       Plot summary\n",
       "0      23890098  Shlykov, a hard-working taxi driver and Lyosha...\n",
       "1      31186339  The nation of Panem consists of a wealthy Capi...\n",
       "2      20663735  Poovalli Induchoodan  is sentenced for six yea...\n",
       "3       2231378  The Lemon Drop Kid , a New York City swindler,...\n",
       "4        595909  Seventh-day Adventist Church pastor Michael Ch...\n",
       "...         ...                                                ...\n",
       "42298  34808485  The story is about Reema , a young Muslim scho...\n",
       "42299   1096473  In 1928 Hollywood, director Leo Andreyev  look...\n",
       "42300  35102018  American Luthier focuses on Randy Parsons’ tra...\n",
       "42301   8628195  Abdur Rehman Khan , a middle-aged dry fruit se...\n",
       "42302   6040782  1940 - Operation Dynamo has just taken place. ...\n",
       "\n",
       "[42303 rows x 2 columns]"
      ]
     },
     "execution_count": 3,
     "metadata": {},
     "output_type": "execute_result"
    }
   ],
   "source": [
    "data_folder = '../../data/MovieSummaries'\n",
    "df_plot = pd.read_csv(data_folder + '/plot_summaries.txt', sep=\"\\t\", header=None)\n",
    "df_plot.columns = [\"Movie ID\", \"Plot summary\"]\n",
    "\n",
    "df_plot[['Movie ID', 'Plot summary']]"
   ]
  },
  {
   "cell_type": "markdown",
   "id": "45ff945c",
   "metadata": {},
   "source": [
    "We are preprocessing the data of the movie summaries using the following steps:\n",
    "1. Remove all punctuations\n",
    "2. Put all characters of the text in lower case\n",
    "3. Remove stop words\n",
    "4. Use stemming or lemmatization"
   ]
  },
  {
   "cell_type": "code",
   "execution_count": 4,
   "id": "67e47a6e",
   "metadata": {},
   "outputs": [
    {
     "data": {
      "text/html": [
       "<div>\n",
       "<style scoped>\n",
       "    .dataframe tbody tr th:only-of-type {\n",
       "        vertical-align: middle;\n",
       "    }\n",
       "\n",
       "    .dataframe tbody tr th {\n",
       "        vertical-align: top;\n",
       "    }\n",
       "\n",
       "    .dataframe thead th {\n",
       "        text-align: right;\n",
       "    }\n",
       "</style>\n",
       "<table border=\"1\" class=\"dataframe\">\n",
       "  <thead>\n",
       "    <tr style=\"text-align: right;\">\n",
       "      <th></th>\n",
       "      <th>Plot summary</th>\n",
       "    </tr>\n",
       "  </thead>\n",
       "  <tbody>\n",
       "    <tr>\n",
       "      <th>0</th>\n",
       "      <td>Shlykov a hardworking taxi driver and Lyosha a...</td>\n",
       "    </tr>\n",
       "    <tr>\n",
       "      <th>1</th>\n",
       "      <td>The nation of Panem consists of a wealthy Capi...</td>\n",
       "    </tr>\n",
       "    <tr>\n",
       "      <th>2</th>\n",
       "      <td>Poovalli Induchoodan  is sentenced for six yea...</td>\n",
       "    </tr>\n",
       "    <tr>\n",
       "      <th>3</th>\n",
       "      <td>The Lemon Drop Kid  a New York City swindler i...</td>\n",
       "    </tr>\n",
       "    <tr>\n",
       "      <th>4</th>\n",
       "      <td>Seventhday Adventist Church pastor Michael Cha...</td>\n",
       "    </tr>\n",
       "    <tr>\n",
       "      <th>...</th>\n",
       "      <td>...</td>\n",
       "    </tr>\n",
       "    <tr>\n",
       "      <th>42298</th>\n",
       "      <td>The story is about Reema  a young Muslim schoo...</td>\n",
       "    </tr>\n",
       "    <tr>\n",
       "      <th>42299</th>\n",
       "      <td>In 1928 Hollywood director Leo Andreyev  looks...</td>\n",
       "    </tr>\n",
       "    <tr>\n",
       "      <th>42300</th>\n",
       "      <td>American Luthier focuses on Randy Parsons’ tra...</td>\n",
       "    </tr>\n",
       "    <tr>\n",
       "      <th>42301</th>\n",
       "      <td>Abdur Rehman Khan  a middleaged dry fruit sell...</td>\n",
       "    </tr>\n",
       "    <tr>\n",
       "      <th>42302</th>\n",
       "      <td>1940  Operation Dynamo has just taken place Fr...</td>\n",
       "    </tr>\n",
       "  </tbody>\n",
       "</table>\n",
       "<p>42303 rows × 1 columns</p>\n",
       "</div>"
      ],
      "text/plain": [
       "                                            Plot summary\n",
       "0      Shlykov a hardworking taxi driver and Lyosha a...\n",
       "1      The nation of Panem consists of a wealthy Capi...\n",
       "2      Poovalli Induchoodan  is sentenced for six yea...\n",
       "3      The Lemon Drop Kid  a New York City swindler i...\n",
       "4      Seventhday Adventist Church pastor Michael Cha...\n",
       "...                                                  ...\n",
       "42298  The story is about Reema  a young Muslim schoo...\n",
       "42299  In 1928 Hollywood director Leo Andreyev  looks...\n",
       "42300  American Luthier focuses on Randy Parsons’ tra...\n",
       "42301  Abdur Rehman Khan  a middleaged dry fruit sell...\n",
       "42302  1940  Operation Dynamo has just taken place Fr...\n",
       "\n",
       "[42303 rows x 1 columns]"
      ]
     },
     "execution_count": 4,
     "metadata": {},
     "output_type": "execute_result"
    }
   ],
   "source": [
    "# Remove punctuation and transform all char in lower case\n",
    "df_plot[\"Plot summary\"] = df_plot[\"Plot summary\"].apply(lambda x: x.translate(str.maketrans(\"\", \"\", string.punctuation)))\n",
    "df_plot[['Plot summary']]"
   ]
  },
  {
   "cell_type": "code",
   "execution_count": 5,
   "id": "f3affc79",
   "metadata": {},
   "outputs": [
    {
     "data": {
      "text/html": [
       "<div>\n",
       "<style scoped>\n",
       "    .dataframe tbody tr th:only-of-type {\n",
       "        vertical-align: middle;\n",
       "    }\n",
       "\n",
       "    .dataframe tbody tr th {\n",
       "        vertical-align: top;\n",
       "    }\n",
       "\n",
       "    .dataframe thead th {\n",
       "        text-align: right;\n",
       "    }\n",
       "</style>\n",
       "<table border=\"1\" class=\"dataframe\">\n",
       "  <thead>\n",
       "    <tr style=\"text-align: right;\">\n",
       "      <th></th>\n",
       "      <th>Plot summary</th>\n",
       "    </tr>\n",
       "  </thead>\n",
       "  <tbody>\n",
       "    <tr>\n",
       "      <th>0</th>\n",
       "      <td>Shlykov hardworking taxi driver Lyosha saxopho...</td>\n",
       "    </tr>\n",
       "    <tr>\n",
       "      <th>1</th>\n",
       "      <td>nation Panem consists wealthy Capitol twelve p...</td>\n",
       "    </tr>\n",
       "    <tr>\n",
       "      <th>2</th>\n",
       "      <td>Poovalli Induchoodan sentenced six years priso...</td>\n",
       "    </tr>\n",
       "    <tr>\n",
       "      <th>3</th>\n",
       "      <td>Lemon Drop Kid New York City swindler illegall...</td>\n",
       "    </tr>\n",
       "    <tr>\n",
       "      <th>4</th>\n",
       "      <td>Seventhday Adventist Church pastor Michael Cha...</td>\n",
       "    </tr>\n",
       "    <tr>\n",
       "      <th>...</th>\n",
       "      <td>...</td>\n",
       "    </tr>\n",
       "    <tr>\n",
       "      <th>42298</th>\n",
       "      <td>story Reema young Muslim schoolgirl Malabar lo...</td>\n",
       "    </tr>\n",
       "    <tr>\n",
       "      <th>42299</th>\n",
       "      <td>1928 Hollywood director Leo Andreyev looks pho...</td>\n",
       "    </tr>\n",
       "    <tr>\n",
       "      <th>42300</th>\n",
       "      <td>American Luthier focuses Randy Parsons’ transf...</td>\n",
       "    </tr>\n",
       "    <tr>\n",
       "      <th>42301</th>\n",
       "      <td>Abdur Rehman Khan middleaged dry fruit seller ...</td>\n",
       "    </tr>\n",
       "    <tr>\n",
       "      <th>42302</th>\n",
       "      <td>1940 Operation Dynamo taken place newly conque...</td>\n",
       "    </tr>\n",
       "  </tbody>\n",
       "</table>\n",
       "<p>42303 rows × 1 columns</p>\n",
       "</div>"
      ],
      "text/plain": [
       "                                            Plot summary\n",
       "0      Shlykov hardworking taxi driver Lyosha saxopho...\n",
       "1      nation Panem consists wealthy Capitol twelve p...\n",
       "2      Poovalli Induchoodan sentenced six years priso...\n",
       "3      Lemon Drop Kid New York City swindler illegall...\n",
       "4      Seventhday Adventist Church pastor Michael Cha...\n",
       "...                                                  ...\n",
       "42298  story Reema young Muslim schoolgirl Malabar lo...\n",
       "42299  1928 Hollywood director Leo Andreyev looks pho...\n",
       "42300  American Luthier focuses Randy Parsons’ transf...\n",
       "42301  Abdur Rehman Khan middleaged dry fruit seller ...\n",
       "42302  1940 Operation Dynamo taken place newly conque...\n",
       "\n",
       "[42303 rows x 1 columns]"
      ]
     },
     "execution_count": 5,
     "metadata": {},
     "output_type": "execute_result"
    }
   ],
   "source": [
    "# Remove stop words\n",
    "\n",
    "# Use the nltk package to load english stop words\n",
    "# If package not usable, create manually a list of stop words to remove\n",
    "stop_words = set(stopwords.words('english'))\n",
    "# print(stop_words)\n",
    "\n",
    "df_plot[\"Plot summary\"] = df_plot[\"Plot summary\"].apply(lambda x: ' '.join([word for word in x.split() if word.lower() not in stop_words]))\n",
    "df_plot[['Plot summary']]"
   ]
  },
  {
   "cell_type": "code",
   "execution_count": 6,
   "id": "38eab8ad",
   "metadata": {},
   "outputs": [],
   "source": [
    "# Save the cleaned data\n",
    "df_plot.to_csv(data_folder + '/plot_summaries_cleaned.csv', index=False)"
   ]
  }
 ],
 "metadata": {
  "kernelspec": {
   "display_name": "ada",
   "language": "python",
   "name": "python3"
  },
  "language_info": {
   "codemirror_mode": {
    "name": "ipython",
    "version": 3
   },
   "file_extension": ".py",
   "mimetype": "text/x-python",
   "name": "python",
   "nbconvert_exporter": "python",
   "pygments_lexer": "ipython3",
   "version": "3.11.8"
  }
 },
 "nbformat": 4,
 "nbformat_minor": 5
}
