{
 "cells": [
  {
   "cell_type": "code",
   "execution_count": 19,
   "id": "578fee10",
   "metadata": {},
   "outputs": [],
   "source": [
    "import dask.dataframe as dd\n",
    "from sklearn.feature_extraction.text import CountVectorizer\n",
    "from sklearn.decomposition import LatentDirichletAllocation\n",
    "from nltk.corpus import stopwords\n",
    "from sklearn.feature_extraction.text import TfidfVectorizer\n",
    "from sklearn.decomposition import TruncatedSVD\n",
    "import nltk\n",
    "import re\n",
    "import pandas as pd\n",
    "from scipy.spatial.distance import cosine\n",
    "from gensim.models import Word2Vec\n",
    "from gensim.models import KeyedVectors\n",
    "from gensim.utils import simple_preprocess\n",
    "from scipy.spatial.distance import cdist\n",
    "import numpy as np"
   ]
  },
  {
   "cell_type": "code",
   "execution_count": null,
   "id": "7e010d41",
   "metadata": {},
   "outputs": [],
   "source": [
    "# function for preprocessing\n",
    "nltk.download('stopwords')\n",
    "stop_words = set(stopwords.words('english'))\n",
    "\n",
    "def preprocess_text(text):\n",
    "    if pd.isna(text):  \n",
    "        return \"\"\n",
    "    text = text.lower()  \n",
    "    text = re.sub(r'\\W', ' ', text)  \n",
    "    text = re.sub(r'\\s+', ' ', text)\n",
    "    text = re.sub(r'[^a-z\\s]', '', text)\n",
    "    words = text.split()\n",
    "    words = [word for word in words if word not in stop_words and word.isalpha() and len(word) > 4]\n",
    "    return ' '.join(words)"
   ]
  },
  {
   "cell_type": "code",
   "execution_count": 2,
   "id": "c7f7d3a2",
   "metadata": {},
   "outputs": [],
   "source": [
    "ddf = dd.read_parquet('nyt_data.parquet')"
   ]
  },
  {
   "cell_type": "code",
   "execution_count": 55,
   "id": "00cf4d0c",
   "metadata": {},
   "outputs": [],
   "source": [
    "filtered_ddf = ddf[(ddf['year'] >= 1968) & (ddf['year'] <= 1968)]\n",
    "\n",
    "filtered_ddf = filtered_ddf.reset_index(drop=True)"
   ]
  },
  {
   "cell_type": "code",
   "execution_count": 56,
   "id": "811fc4c7",
   "metadata": {},
   "outputs": [],
   "source": [
    "filtered_ddf['combined_text'] = filtered_ddf['title'] + filtered_ddf['excerpt']"
   ]
  },
  {
   "cell_type": "code",
   "execution_count": 57,
   "id": "6db40170",
   "metadata": {},
   "outputs": [],
   "source": [
    "filtered_ddf['processed_text'] = filtered_ddf['combined_text'].apply(preprocess_text, meta=('processed_text', 'str'))"
   ]
  },
  {
   "cell_type": "markdown",
   "id": "6fd3ea1d",
   "metadata": {},
   "source": [
    "## Topic modeling by LDA"
   ]
  },
  {
   "cell_type": "code",
   "execution_count": 58,
   "id": "f34291ff",
   "metadata": {},
   "outputs": [],
   "source": [
    "\n",
    "stop_words = stopwords.words('english')\n",
    "vectorizer = CountVectorizer(max_df=0.95, min_df=2, stop_words=stop_words, token_pattern=r'\\b[a-zA-Z]+\\b')\n",
    "\n",
    "\n",
    "text_data = filtered_ddf['processed_text'].compute() \n",
    "dtm = vectorizer.fit_transform(text_data)\n"
   ]
  },
  {
   "cell_type": "code",
   "execution_count": 63,
   "id": "0800f181",
   "metadata": {},
   "outputs": [
    {
     "data": {
      "text/html": [
       "<style>#sk-container-id-3 {color: black;background-color: white;}#sk-container-id-3 pre{padding: 0;}#sk-container-id-3 div.sk-toggleable {background-color: white;}#sk-container-id-3 label.sk-toggleable__label {cursor: pointer;display: block;width: 100%;margin-bottom: 0;padding: 0.3em;box-sizing: border-box;text-align: center;}#sk-container-id-3 label.sk-toggleable__label-arrow:before {content: \"▸\";float: left;margin-right: 0.25em;color: #696969;}#sk-container-id-3 label.sk-toggleable__label-arrow:hover:before {color: black;}#sk-container-id-3 div.sk-estimator:hover label.sk-toggleable__label-arrow:before {color: black;}#sk-container-id-3 div.sk-toggleable__content {max-height: 0;max-width: 0;overflow: hidden;text-align: left;background-color: #f0f8ff;}#sk-container-id-3 div.sk-toggleable__content pre {margin: 0.2em;color: black;border-radius: 0.25em;background-color: #f0f8ff;}#sk-container-id-3 input.sk-toggleable__control:checked~div.sk-toggleable__content {max-height: 200px;max-width: 100%;overflow: auto;}#sk-container-id-3 input.sk-toggleable__control:checked~label.sk-toggleable__label-arrow:before {content: \"▾\";}#sk-container-id-3 div.sk-estimator input.sk-toggleable__control:checked~label.sk-toggleable__label {background-color: #d4ebff;}#sk-container-id-3 div.sk-label input.sk-toggleable__control:checked~label.sk-toggleable__label {background-color: #d4ebff;}#sk-container-id-3 input.sk-hidden--visually {border: 0;clip: rect(1px 1px 1px 1px);clip: rect(1px, 1px, 1px, 1px);height: 1px;margin: -1px;overflow: hidden;padding: 0;position: absolute;width: 1px;}#sk-container-id-3 div.sk-estimator {font-family: monospace;background-color: #f0f8ff;border: 1px dotted black;border-radius: 0.25em;box-sizing: border-box;margin-bottom: 0.5em;}#sk-container-id-3 div.sk-estimator:hover {background-color: #d4ebff;}#sk-container-id-3 div.sk-parallel-item::after {content: \"\";width: 100%;border-bottom: 1px solid gray;flex-grow: 1;}#sk-container-id-3 div.sk-label:hover label.sk-toggleable__label {background-color: #d4ebff;}#sk-container-id-3 div.sk-serial::before {content: \"\";position: absolute;border-left: 1px solid gray;box-sizing: border-box;top: 0;bottom: 0;left: 50%;z-index: 0;}#sk-container-id-3 div.sk-serial {display: flex;flex-direction: column;align-items: center;background-color: white;padding-right: 0.2em;padding-left: 0.2em;position: relative;}#sk-container-id-3 div.sk-item {position: relative;z-index: 1;}#sk-container-id-3 div.sk-parallel {display: flex;align-items: stretch;justify-content: center;background-color: white;position: relative;}#sk-container-id-3 div.sk-item::before, #sk-container-id-3 div.sk-parallel-item::before {content: \"\";position: absolute;border-left: 1px solid gray;box-sizing: border-box;top: 0;bottom: 0;left: 50%;z-index: -1;}#sk-container-id-3 div.sk-parallel-item {display: flex;flex-direction: column;z-index: 1;position: relative;background-color: white;}#sk-container-id-3 div.sk-parallel-item:first-child::after {align-self: flex-end;width: 50%;}#sk-container-id-3 div.sk-parallel-item:last-child::after {align-self: flex-start;width: 50%;}#sk-container-id-3 div.sk-parallel-item:only-child::after {width: 0;}#sk-container-id-3 div.sk-dashed-wrapped {border: 1px dashed gray;margin: 0 0.4em 0.5em 0.4em;box-sizing: border-box;padding-bottom: 0.4em;background-color: white;}#sk-container-id-3 div.sk-label label {font-family: monospace;font-weight: bold;display: inline-block;line-height: 1.2em;}#sk-container-id-3 div.sk-label-container {text-align: center;}#sk-container-id-3 div.sk-container {/* jupyter's `normalize.less` sets `[hidden] { display: none; }` but bootstrap.min.css set `[hidden] { display: none !important; }` so we also need the `!important` here to be able to override the default hidden behavior on the sphinx rendered scikit-learn.org. See: https://github.com/scikit-learn/scikit-learn/issues/21755 */display: inline-block !important;position: relative;}#sk-container-id-3 div.sk-text-repr-fallback {display: none;}</style><div id=\"sk-container-id-3\" class=\"sk-top-container\"><div class=\"sk-text-repr-fallback\"><pre>LatentDirichletAllocation(n_components=30, random_state=0)</pre><b>In a Jupyter environment, please rerun this cell to show the HTML representation or trust the notebook. <br />On GitHub, the HTML representation is unable to render, please try loading this page with nbviewer.org.</b></div><div class=\"sk-container\" hidden><div class=\"sk-item\"><div class=\"sk-estimator sk-toggleable\"><input class=\"sk-toggleable__control sk-hidden--visually\" id=\"sk-estimator-id-3\" type=\"checkbox\" checked><label for=\"sk-estimator-id-3\" class=\"sk-toggleable__label sk-toggleable__label-arrow\">LatentDirichletAllocation</label><div class=\"sk-toggleable__content\"><pre>LatentDirichletAllocation(n_components=30, random_state=0)</pre></div></div></div></div></div>"
      ],
      "text/plain": [
       "LatentDirichletAllocation(n_components=30, random_state=0)"
      ]
     },
     "execution_count": 63,
     "metadata": {},
     "output_type": "execute_result"
    }
   ],
   "source": [
    "lda = LatentDirichletAllocation(n_components=30, random_state=0)\n",
    "lda.fit(dtm)"
   ]
  },
  {
   "cell_type": "code",
   "execution_count": 64,
   "id": "a7721bb0",
   "metadata": {},
   "outputs": [
    {
     "name": "stdout",
     "output_type": "stream",
     "text": [
      "Theme 1:\n",
      "black negro international american memorial medal germany tonight history tomorrow today series states yonkers champion round united mexico first jones games chess peter world night square olympic madison james garden\n",
      "Theme 2:\n",
      "annual winter states transport freight players rates contract major computer cargo pollution pacific american speed today plans meeting airlines offer world traffic united service african water lines bridge south africa\n",
      "Theme 3:\n",
      "nuptials programs billion foundation cities study training funds white research faculty college project plans state budget urban group community campus housing columbia negroes schools protest program student negro school students\n",
      "Theme 4:\n",
      "reporter family given addicts smith novel wilkins sutton quake producer merchant patrick slain flood burns cleaver slalom bodies kennedy missing illus freeman giant fiancee cooke lewis marine harlem london found\n",
      "Theme 5:\n",
      "action noted border korean offensive israel areas reported planes north battle allied soldiers wounded attacks south reptd vietnam fighting israeli vietcong attack jordan vietnamese forces repts saigon troops killed enemy\n",
      "Theme 6:\n",
      "conviction jerusalem elect comment illus cabinet scores meets lindsay arabs corps reptdly calls mideast canal council nasser jarring peace cairo aides would romney security israeli governor agnew israel rockefeller nixon\n",
      "Theme 7:\n",
      "spending fiscal construction seeks jewish urges private service investment power business personal increase development costs study council growth plant income program taxes finance repts plans would funds state indus million\n",
      "Theme 8:\n",
      "raceway length auction races lengths roosevelt victor florida stakes hunter george winner aqueduct handicap first prison march senior beach edward richard track takes miami thomas washington racing horse smith today\n",
      "Theme 9:\n",
      "mission spokesman regatta delegation comment henry washington clifford sound would noted harriman pilots sailing peace today north class yacht child thieu nguyen officials saigon bombing hanoi vietnamese paris vietnam talks\n",
      "Theme 10:\n",
      "rockefeller democratic debate would javits backs convention finds democrats drive reagan senator leaders nomination candidates votes primary candidate delegates repub support state election wallace party nixon campaign mccarthy kennedy humphrey\n",
      "Theme 11:\n",
      "order memphis canceled antiwar meeting curfew cancels illus death white council group clark groups negro mayor swiss riots disorders racial daley service black police workers force violence civil rights chicago\n",
      "Theme 12:\n",
      "program portugal visits philharmonic publishers mcnamara sihanouk nigerian cigarette given smoking talks times norman goodman japanese cancer music nigeria conducts prime arrives tokyo biafra relief papers wilson opera japan visit\n",
      "Theme 13:\n",
      "health business services calls labor programs probe group inquiry problems radio birth priests legis panel repts state hearing hearings members council urges crime study system welfare charges mayor control lindsay\n",
      "Theme 14:\n",
      "nassau assembly river upholds hudson story subway transit state delay central acquisition approval court justice planned plane ruling county fortas senate proposed plans approved trust office airport approves travel merger\n",
      "Theme 15:\n",
      "senators inning tonight twins plays national frank homer music indians tigers young series yankees white victory three baseball yesterday baltimore night robert louis detroit today sports season years boston first\n",
      "Theme 16:\n",
      "doctors hospital blaiberg murray tests books cohen world around albert barnard operation transplants launched illustrated patient blood condition surgery review announcement harry transplant marriage charles obituary joseph letter editor heart\n",
      "Theme 17:\n",
      "hamilton illustrated fairleigh manchester cartoons balanchine rugby lloyd leslie dickinson shakespeare richard dancers opera royal troupe barnes birth company notice theater review dance ballet cartoon editorial front engaged title article\n",
      "Theme 18:\n",
      "service safety retire american appointed state manager queen member general appoints announced group company picks chairman advertising elizabeth apptd board director officer executive william elects names chief president elected named\n",
      "Theme 19:\n",
      "division stars association third philadelphia period scores triumph soccer defeat american hockey coach points season three second angeles basketball state scored university college first football national tonight league today victory\n",
      "Theme 20:\n",
      "woman shooting policeman narcotics accused convicted slaying clash negro sentenced injured grand indicted charge youths arrest davis guilty policemen persons murder youth bronx charged seized brooklyn death charges arrested police\n",
      "Theme 21:\n",
      "volume interest share quarter shares increase shows ended months issues stocks american decline gains london company million steel reported earnings exchange billion trading price record sales market stock prices yesterday\n",
      "Theme 22:\n",
      "leader collision state truck mississippi explosion damages frederick sirhan widow taylor latin chief woman rabbi jersey orders denies bridal lawyer excerpts quits blast trial bishop martin kills killed crash resigns\n",
      "Theme 23:\n",
      "shows chase concert italian films children society world evening manhattan plaza night opens street hospital annual lincoln modern japanese works festival train hotel dance music dinner theater museum benefit center\n",
      "Theme 24:\n",
      "canadian regis officials offices legal stamp hearing charge refuses rican state orders suffolk parents justice ruling appeal charges cases berlin county rules store sales stores puerto order trial judge court\n",
      "Theme 25:\n",
      "rescued following crash boating department futures pentagon guard glass coast girls still defense boats fishing illus craft washington signs atlantic servicemen pakistan crashes storm safety today casualties killed silver vietnam\n",
      "Theme 26:\n",
      "writer radio invasion repts russian astronauts german poland parties earth leader sweden greece leaders warsaw world french revolution polish czech space apollo premier greek flight moscow regime communist soviet party\n",
      "Theme 27:\n",
      "broadway boycott accord powell walkout schools drivers state talks members shanker return teacher strikes ocean labor washington unions employes children local contract workers school proceedings dispute theater teachers union strike\n",
      "Theme 28:\n",
      "island nancy championships marry bridge takes susan second fiance daughter amateur betrothed australia david event victor world becomes tournament first championship round final married tennis women states united bride today\n",
      "Theme 29:\n",
      "credit europe occupation charges money reserves holds monetary countries czechs curbs dollar treaty affairs abroad press moscow invasion nations nuclear policy reserve crisis banks prague trade draft soviet czech foreign\n",
      "Theme 30:\n",
      "release stand calls meeting decision communist comment chinese thant korea peking bombing message pueblo washington china urges french would white france gaulle house talks statement president policy vietnam peace johnson\n"
     ]
    }
   ],
   "source": [
    "\n",
    "words = vectorizer.get_feature_names_out()\n",
    "for idx, topic in enumerate(lda.components_):\n",
    "    print(f\"Theme {idx+1}:\")\n",
    "    print(\" \".join([words[i] for i in topic.argsort()[-30:]]))"
   ]
  },
  {
   "cell_type": "code",
   "execution_count": 65,
   "id": "c58ac107",
   "metadata": {},
   "outputs": [
    {
     "name": "stdout",
     "output_type": "stream",
     "text": [
      "Theme 1: black negro international american memorial medal germany tonight history tomorrow today series states yonkers champion round united mexico first jones games chess peter world night square olympic madison james garden\n",
      "Theme 2: annual winter states transport freight players rates contract major computer cargo pollution pacific american speed today plans meeting airlines offer world traffic united service african water lines bridge south africa\n",
      "Theme 3: nuptials programs billion foundation cities study training funds white research faculty college project plans state budget urban group community campus housing columbia negroes schools protest program student negro school students\n",
      "Theme 4: reporter family given addicts smith novel wilkins sutton quake producer merchant patrick slain flood burns cleaver slalom bodies kennedy missing illus freeman giant fiancee cooke lewis marine harlem london found\n",
      "Theme 5: action noted border korean offensive israel areas reported planes north battle allied soldiers wounded attacks south reptd vietnam fighting israeli vietcong attack jordan vietnamese forces repts saigon troops killed enemy\n",
      "Theme 6: conviction jerusalem elect comment illus cabinet scores meets lindsay arabs corps reptdly calls mideast canal council nasser jarring peace cairo aides would romney security israeli governor agnew israel rockefeller nixon\n",
      "Theme 7: spending fiscal construction seeks jewish urges private service investment power business personal increase development costs study council growth plant income program taxes finance repts plans would funds state indus million\n",
      "Theme 8: raceway length auction races lengths roosevelt victor florida stakes hunter george winner aqueduct handicap first prison march senior beach edward richard track takes miami thomas washington racing horse smith today\n",
      "Theme 9: mission spokesman regatta delegation comment henry washington clifford sound would noted harriman pilots sailing peace today north class yacht child thieu nguyen officials saigon bombing hanoi vietnamese paris vietnam talks\n",
      "Theme 10: rockefeller democratic debate would javits backs convention finds democrats drive reagan senator leaders nomination candidates votes primary candidate delegates repub support state election wallace party nixon campaign mccarthy kennedy humphrey\n",
      "Theme 11: order memphis canceled antiwar meeting curfew cancels illus death white council group clark groups negro mayor swiss riots disorders racial daley service black police workers force violence civil rights chicago\n",
      "Theme 12: program portugal visits philharmonic publishers mcnamara sihanouk nigerian cigarette given smoking talks times norman goodman japanese cancer music nigeria conducts prime arrives tokyo biafra relief papers wilson opera japan visit\n",
      "Theme 13: health business services calls labor programs probe group inquiry problems radio birth priests legis panel repts state hearing hearings members council urges crime study system welfare charges mayor control lindsay\n",
      "Theme 14: nassau assembly river upholds hudson story subway transit state delay central acquisition approval court justice planned plane ruling county fortas senate proposed plans approved trust office airport approves travel merger\n",
      "Theme 15: senators inning tonight twins plays national frank homer music indians tigers young series yankees white victory three baseball yesterday baltimore night robert louis detroit today sports season years boston first\n",
      "Theme 16: doctors hospital blaiberg murray tests books cohen world around albert barnard operation transplants launched illustrated patient blood condition surgery review announcement harry transplant marriage charles obituary joseph letter editor heart\n",
      "Theme 17: hamilton illustrated fairleigh manchester cartoons balanchine rugby lloyd leslie dickinson shakespeare richard dancers opera royal troupe barnes birth company notice theater review dance ballet cartoon editorial front engaged title article\n",
      "Theme 18: service safety retire american appointed state manager queen member general appoints announced group company picks chairman advertising elizabeth apptd board director officer executive william elects names chief president elected named\n",
      "Theme 19: division stars association third philadelphia period scores triumph soccer defeat american hockey coach points season three second angeles basketball state scored university college first football national tonight league today victory\n",
      "Theme 20: woman shooting policeman narcotics accused convicted slaying clash negro sentenced injured grand indicted charge youths arrest davis guilty policemen persons murder youth bronx charged seized brooklyn death charges arrested police\n",
      "Theme 21: volume interest share quarter shares increase shows ended months issues stocks american decline gains london company million steel reported earnings exchange billion trading price record sales market stock prices yesterday\n",
      "Theme 22: leader collision state truck mississippi explosion damages frederick sirhan widow taylor latin chief woman rabbi jersey orders denies bridal lawyer excerpts quits blast trial bishop martin kills killed crash resigns\n",
      "Theme 23: shows chase concert italian films children society world evening manhattan plaza night opens street hospital annual lincoln modern japanese works festival train hotel dance music dinner theater museum benefit center\n",
      "Theme 24: canadian regis officials offices legal stamp hearing charge refuses rican state orders suffolk parents justice ruling appeal charges cases berlin county rules store sales stores puerto order trial judge court\n",
      "Theme 25: rescued following crash boating department futures pentagon guard glass coast girls still defense boats fishing illus craft washington signs atlantic servicemen pakistan crashes storm safety today casualties killed silver vietnam\n",
      "Theme 26: writer radio invasion repts russian astronauts german poland parties earth leader sweden greece leaders warsaw world french revolution polish czech space apollo premier greek flight moscow regime communist soviet party\n",
      "Theme 27: broadway boycott accord powell walkout schools drivers state talks members shanker return teacher strikes ocean labor washington unions employes children local contract workers school proceedings dispute theater teachers union strike\n",
      "Theme 28: island nancy championships marry bridge takes susan second fiance daughter amateur betrothed australia david event victor world becomes tournament first championship round final married tennis women states united bride today\n",
      "Theme 29: credit europe occupation charges money reserves holds monetary countries czechs curbs dollar treaty affairs abroad press moscow invasion nations nuclear policy reserve crisis banks prague trade draft soviet czech foreign\n",
      "Theme 30: release stand calls meeting decision communist comment chinese thant korea peking bombing message pueblo washington china urges french would white france gaulle house talks statement president policy vietnam peace johnson\n"
     ]
    }
   ],
   "source": [
    "topics_lda = {}\n",
    "\n",
    "# Loop over each topic generated by the LDA model\n",
    "words = vectorizer.get_feature_names_out()\n",
    "for idx, topic in enumerate(lda.components_):\n",
    "    # Get the top 30 words for this topic\n",
    "    top_words = [words[i] for i in topic.argsort()[-30:]]\n",
    "    \n",
    "    # Store the words in the dictionary under the topic index\n",
    "    topics_lda[f\"Theme {idx+1}\"] = top_words\n",
    "\n",
    "# Now you can print or access the words for each topic\n",
    "for theme, words in topics_lda.items():\n",
    "    print(f\"{theme}: {' '.join(words)}\")"
   ]
  },
  {
   "cell_type": "markdown",
   "id": "9e94541c",
   "metadata": {},
   "source": [
    "## Topic modeling by LSI"
   ]
  },
  {
   "cell_type": "code",
   "execution_count": 72,
   "id": "c600b8ec",
   "metadata": {},
   "outputs": [
    {
     "name": "stderr",
     "output_type": "stream",
     "text": [
      "[nltk_data] Downloading package stopwords to\n",
      "[nltk_data]     /Users/clementine/nltk_data...\n",
      "[nltk_data]   Package stopwords is already up-to-date!\n"
     ]
    }
   ],
   "source": [
    "# Preprocess to the text data\n",
    "filtered_ddf['processed_text'] = filtered_ddf['combined_text'].apply(preprocess_text, meta=('processed_text', 'str'))"
   ]
  },
  {
   "cell_type": "code",
   "execution_count": 49,
   "id": "d6d2e101",
   "metadata": {},
   "outputs": [],
   "source": [
    "# Use TF-IDF Vectorizer\n",
    "tfidf_vectorizer = TfidfVectorizer(max_features=5000)  \n",
    "tfidf_matrix = tfidf_vectorizer.fit_transform(filtered_ddf['processed_text'])"
   ]
  },
  {
   "cell_type": "code",
   "execution_count": 50,
   "id": "30873766",
   "metadata": {},
   "outputs": [],
   "source": [
    "n_topics = 10  # Number of opics\n",
    "svd_model = TruncatedSVD(n_components=n_topics, random_state=42)\n",
    "lsi_matrix = svd_model.fit_transform(tfidf_matrix)"
   ]
  },
  {
   "cell_type": "code",
   "execution_count": 53,
   "id": "8367edb8",
   "metadata": {},
   "outputs": [
    {
     "name": "stdout",
     "output_type": "stream",
     "text": [
      "Topic 1: picture takes state world today birth notice named letter editor illus marriage announcement elected front editorial cartoon obituary article title\n",
      "Topic 2: chicago program school record american yesterday washington plans world eisenhower soviet group named million nixon first president state today kennedy\n",
      "Topic 3: betrothed smith judith debutante harvard barbara susan william future becomes robert prospective fiancee marry alumna graduate student bride engaged married\n",
      "Topic 4: charles smith susan betrothed jersey harvard obituary marriage fiancee robert alumna graduate becomes future student william marry prospective engaged bride\n",
      "Topic 5: election article stevenson backs elect rockefeller humphrey state party child senator eisenhower named campaign engaged johnson bride president nixon kennedy\n",
      "Topic 6: center repts elects david children william fiancee world record khrushchev robert daughter title plans output soviet proceedings million obituary child\n",
      "Topic 7: heads executive council prospective board director apptd picks william officer eisenhower proceedings group elected chief bride elects names president named\n",
      "Topic 8: chief program officer times books group graduate president fiancee elects plans world william school student article million named marry engaged\n",
      "Topic 9: notice president school kennedy letter editor first announcement elects marriage william names front state editorial cartoon named engaged title obituary\n",
      "Topic 10: second world dinner national louis american named engaged washington kennedy victory chicago tonight times books today first president william proceedings\n"
     ]
    }
   ],
   "source": [
    "# Display the top terms for each topics and store them\n",
    "topics_lsi = {}\n",
    "\n",
    "terms = tfidf_vectorizer.get_feature_names_out()\n",
    "for i, topic in enumerate(svd_model.components_):\n",
    "\n",
    "    # Take the 20 best terms\n",
    "    top_terms = [terms[j] for j in topic.argsort()[-20:]]\n",
    "    \n",
    "    # Store the terms\n",
    "    topics_lsi[f\"Topic {i+1}\"] = top_terms\n",
    "\n",
    "for topic, terms in topics_lsi.items():\n",
    "    print(f\"{topic}: {' '.join(terms)}\")"
   ]
  },
  {
   "cell_type": "markdown",
   "id": "1f18f3de",
   "metadata": {},
   "source": [
    "## Find title for topic"
   ]
  },
  {
   "cell_type": "code",
   "execution_count": 12,
   "id": "0450417e",
   "metadata": {},
   "outputs": [
    {
     "name": "stderr",
     "output_type": "stream",
     "text": [
      "/Users/clementine/miniconda3/lib/python3.9/site-packages/dask_expr/_collection.py:4371: UserWarning: \n",
      "You did not provide metadata, so Dask is running your function on a small dataset to guess output types. It is possible that Dask will guess incorrectly.\n",
      "To provide an explicit output types or to silence this message, please provide the `meta=` keyword, as described in the map or apply function that you are using.\n",
      "  Before: .apply(func)\n",
      "  After:  .apply(func, meta=('processed_text', 'object'))\n",
      "\n",
      "  warnings.warn(meta_warning(meta))\n"
     ]
    }
   ],
   "source": [
    "preprocessed_sentences = filtered_ddf['processed_text'].apply(simple_preprocess)"
   ]
  },
  {
   "cell_type": "code",
   "execution_count": null,
   "id": "a0b32c0a",
   "metadata": {},
   "outputs": [],
   "source": [
    "# Train a Word2Vec model and save it\n",
    "filtered_ddf = ddf[(ddf['year'] >= 1960) & (ddf['year'] <= 2000)]\n",
    "\n",
    "filtered_ddf = filtered_ddf.reset_index(drop=True)\n",
    "filtered_ddf['combined_text'] = filtered_ddf['title'] + filtered_ddf['excerpt']\n",
    "\n",
    "filtered_ddf['processed_text'] = filtered_ddf['combined_text'].apply(preprocess_text, meta=('processed_text', 'str'))\n",
    "\n",
    "preprocessed_sentences = filtered_ddf['processed_text'].apply(lambda x: x.split())\n",
    "preprocessed_sentences = preprocessed_sentences.compute().tolist()\n",
    "model = Word2Vec(sentences=preprocessed_sentences, vector_size=100, window=5, min_count=1, workers=4)\n",
    "model.wv.save_word2vec_format(\"word2vec.bin\", binary=True)"
   ]
  },
  {
   "cell_type": "code",
   "execution_count": 76,
   "id": "afa200eb",
   "metadata": {},
   "outputs": [],
   "source": [
    "# Load the model\n",
    "model = KeyedVectors.load_word2vec_format(\"word2vec.bin\", binary=True)"
   ]
  },
  {
   "cell_type": "code",
   "execution_count": 95,
   "id": "fd5e7679",
   "metadata": {},
   "outputs": [],
   "source": [
    "# Find a word that summarizes the themes found above\n",
    "def find_theme(list_words, model):\n",
    "    vectors = []\n",
    "    # Caculate the average vector for the theme\n",
    "    for w in list_words:\n",
    "        if w in model:\n",
    "            vectors.append(model[w])\n",
    "    if vectors:\n",
    "        avg_vec = sum(vectors) / len(vectors)\n",
    "    else:\n",
    "        avg_vec = None\n",
    "        \n",
    "    # Find the closest word\n",
    "    closest_words = model.most_similar(positive=[avg_vec], topn=1)\n",
    "\n",
    "    closest_w, sim_max = closest_words[0] \n",
    "    return closest_w"
   ]
  },
  {
   "cell_type": "code",
   "execution_count": 96,
   "id": "5b45687d",
   "metadata": {},
   "outputs": [
    {
     "name": "stdout",
     "output_type": "stream",
     "text": [
      "Theme 1\n",
      "Terms\n",
      "['black', 'negro', 'international', 'american', 'memorial', 'medal', 'germany', 'tonight', 'history', 'tomorrow', 'today', 'series', 'states', 'yonkers', 'champion', 'round', 'united', 'mexico', 'first', 'jones', 'games', 'chess', 'peter', 'world', 'night', 'square', 'olympic', 'madison', 'james', 'garden']\n",
      "night\n",
      "Theme word : night\n",
      "Theme 2\n",
      "Terms\n",
      "['annual', 'winter', 'states', 'transport', 'freight', 'players', 'rates', 'contract', 'major', 'computer', 'cargo', 'pollution', 'pacific', 'american', 'speed', 'today', 'plans', 'meeting', 'airlines', 'offer', 'world', 'traffic', 'united', 'service', 'african', 'water', 'lines', 'bridge', 'south', 'africa']\n",
      "carriers\n",
      "Theme word : carriers\n",
      "Theme 3\n",
      "Terms\n",
      "['nuptials', 'programs', 'billion', 'foundation', 'cities', 'study', 'training', 'funds', 'white', 'research', 'faculty', 'college', 'project', 'plans', 'state', 'budget', 'urban', 'group', 'community', 'campus', 'housing', 'columbia', 'negroes', 'schools', 'protest', 'program', 'student', 'negro', 'school', 'students']\n",
      "schools\n",
      "Theme word : schools\n",
      "Theme 4\n",
      "Terms\n",
      "['reporter', 'family', 'given', 'addicts', 'smith', 'novel', 'wilkins', 'sutton', 'quake', 'producer', 'merchant', 'patrick', 'slain', 'flood', 'burns', 'cleaver', 'slalom', 'bodies', 'kennedy', 'missing', 'illus', 'freeman', 'giant', 'fiancee', 'cooke', 'lewis', 'marine', 'harlem', 'london', 'found']\n",
      "petrina\n",
      "Theme word : petrina\n",
      "Theme 5\n",
      "Terms\n",
      "['action', 'noted', 'border', 'korean', 'offensive', 'israel', 'areas', 'reported', 'planes', 'north', 'battle', 'allied', 'soldiers', 'wounded', 'attacks', 'south', 'reptd', 'vietnam', 'fighting', 'israeli', 'vietcong', 'attack', 'jordan', 'vietnamese', 'forces', 'repts', 'saigon', 'troops', 'killed', 'enemy']\n",
      "enemy\n",
      "Theme word : enemy\n",
      "Theme 6\n",
      "Terms\n",
      "['conviction', 'jerusalem', 'elect', 'comment', 'illus', 'cabinet', 'scores', 'meets', 'lindsay', 'arabs', 'corps', 'reptdly', 'calls', 'mideast', 'canal', 'council', 'nasser', 'jarring', 'peace', 'cairo', 'aides', 'would', 'romney', 'security', 'israeli', 'governor', 'agnew', 'israel', 'rockefeller', 'nixon']\n",
      "nasser\n",
      "Theme word : nasser\n",
      "Theme 7\n",
      "Terms\n",
      "['spending', 'fiscal', 'construction', 'seeks', 'jewish', 'urges', 'private', 'service', 'investment', 'power', 'business', 'personal', 'increase', 'development', 'costs', 'study', 'council', 'growth', 'plant', 'income', 'program', 'taxes', 'finance', 'repts', 'plans', 'would', 'funds', 'state', 'indus', 'million']\n",
      "funding\n",
      "Theme word : funding\n",
      "Theme 8\n",
      "Terms\n",
      "['raceway', 'length', 'auction', 'races', 'lengths', 'roosevelt', 'victor', 'florida', 'stakes', 'hunter', 'george', 'winner', 'aqueduct', 'handicap', 'first', 'prison', 'march', 'senior', 'beach', 'edward', 'richard', 'track', 'takes', 'miami', 'thomas', 'washington', 'racing', 'horse', 'smith', 'today']\n",
      "fillies\n",
      "Theme word : fillies\n",
      "Theme 9\n",
      "Terms\n",
      "['mission', 'spokesman', 'regatta', 'delegation', 'comment', 'henry', 'washington', 'clifford', 'sound', 'would', 'noted', 'harriman', 'pilots', 'sailing', 'peace', 'today', 'north', 'class', 'yacht', 'child', 'thieu', 'nguyen', 'officials', 'saigon', 'bombing', 'hanoi', 'vietnamese', 'paris', 'vietnam', 'talks']\n",
      "vietnam\n",
      "Theme word : vietnam\n",
      "Theme 10\n",
      "Terms\n",
      "['rockefeller', 'democratic', 'debate', 'would', 'javits', 'backs', 'convention', 'finds', 'democrats', 'drive', 'reagan', 'senator', 'leaders', 'nomination', 'candidates', 'votes', 'primary', 'candidate', 'delegates', 'repub', 'support', 'state', 'election', 'wallace', 'party', 'nixon', 'campaign', 'mccarthy', 'kennedy', 'humphrey']\n",
      "democrats\n",
      "Theme word : democrats\n",
      "Theme 11\n",
      "Terms\n",
      "['order', 'memphis', 'canceled', 'antiwar', 'meeting', 'curfew', 'cancels', 'illus', 'death', 'white', 'council', 'group', 'clark', 'groups', 'negro', 'mayor', 'swiss', 'riots', 'disorders', 'racial', 'daley', 'service', 'black', 'police', 'workers', 'force', 'violence', 'civil', 'rights', 'chicago']\n",
      "negroes\n",
      "Theme word : negroes\n",
      "Theme 12\n",
      "Terms\n",
      "['program', 'portugal', 'visits', 'philharmonic', 'publishers', 'mcnamara', 'sihanouk', 'nigerian', 'cigarette', 'given', 'smoking', 'talks', 'times', 'norman', 'goodman', 'japanese', 'cancer', 'music', 'nigeria', 'conducts', 'prime', 'arrives', 'tokyo', 'biafra', 'relief', 'papers', 'wilson', 'opera', 'japan', 'visit']\n",
      "hanoi\n",
      "Theme word : hanoi\n",
      "Theme 13\n",
      "Terms\n",
      "['health', 'business', 'services', 'calls', 'labor', 'programs', 'probe', 'group', 'inquiry', 'problems', 'radio', 'birth', 'priests', 'legis', 'panel', 'repts', 'state', 'hearing', 'hearings', 'members', 'council', 'urges', 'crime', 'study', 'system', 'welfare', 'charges', 'mayor', 'control', 'lindsay']\n",
      "panel\n",
      "Theme word : panel\n",
      "Theme 14\n",
      "Terms\n",
      "['nassau', 'assembly', 'river', 'upholds', 'hudson', 'story', 'subway', 'transit', 'state', 'delay', 'central', 'acquisition', 'approval', 'court', 'justice', 'planned', 'plane', 'ruling', 'county', 'fortas', 'senate', 'proposed', 'plans', 'approved', 'trust', 'office', 'airport', 'approves', 'travel', 'merger']\n",
      "proposed\n",
      "Theme word : proposed\n",
      "Theme 15\n",
      "Terms\n",
      "['senators', 'inning', 'tonight', 'twins', 'plays', 'national', 'frank', 'homer', 'music', 'indians', 'tigers', 'young', 'series', 'yankees', 'white', 'victory', 'three', 'baseball', 'yesterday', 'baltimore', 'night', 'robert', 'louis', 'detroit', 'today', 'sports', 'season', 'years', 'boston', 'first']\n",
      "yankees\n",
      "Theme word : yankees\n",
      "Theme 16\n",
      "Terms\n",
      "['doctors', 'hospital', 'blaiberg', 'murray', 'tests', 'books', 'cohen', 'world', 'around', 'albert', 'barnard', 'operation', 'transplants', 'launched', 'illustrated', 'patient', 'blood', 'condition', 'surgery', 'review', 'announcement', 'harry', 'transplant', 'marriage', 'charles', 'obituary', 'joseph', 'letter', 'editor', 'heart']\n",
      "inflammation\n",
      "Theme word : inflammation\n",
      "Theme 17\n",
      "Terms\n",
      "['hamilton', 'illustrated', 'fairleigh', 'manchester', 'cartoons', 'balanchine', 'rugby', 'lloyd', 'leslie', 'dickinson', 'shakespeare', 'richard', 'dancers', 'opera', 'royal', 'troupe', 'barnes', 'birth', 'company', 'notice', 'theater', 'review', 'dance', 'ballet', 'cartoon', 'editorial', 'front', 'engaged', 'title', 'article']\n",
      "ballets\n",
      "Theme word : ballets\n",
      "Theme 18\n",
      "Terms\n",
      "['service', 'safety', 'retire', 'american', 'appointed', 'state', 'manager', 'queen', 'member', 'general', 'appoints', 'announced', 'group', 'company', 'picks', 'chairman', 'advertising', 'elizabeth', 'apptd', 'board', 'director', 'officer', 'executive', 'william', 'elects', 'names', 'chief', 'president', 'elected', 'named']\n",
      "executive\n",
      "Theme word : executive\n",
      "Theme 19\n",
      "Terms\n",
      "['division', 'stars', 'association', 'third', 'philadelphia', 'period', 'scores', 'triumph', 'soccer', 'defeat', 'american', 'hockey', 'coach', 'points', 'season', 'three', 'second', 'angeles', 'basketball', 'state', 'scored', 'university', 'college', 'first', 'football', 'national', 'tonight', 'league', 'today', 'victory']\n",
      "eleven\n",
      "Theme word : eleven\n",
      "Theme 20\n",
      "Terms\n",
      "['woman', 'shooting', 'policeman', 'narcotics', 'accused', 'convicted', 'slaying', 'clash', 'negro', 'sentenced', 'injured', 'grand', 'indicted', 'charge', 'youths', 'arrest', 'davis', 'guilty', 'policemen', 'persons', 'murder', 'youth', 'bronx', 'charged', 'seized', 'brooklyn', 'death', 'charges', 'arrested', 'police']\n",
      "arrested\n",
      "Theme word : arrested\n",
      "Theme 21\n",
      "Terms\n",
      "['volume', 'interest', 'share', 'quarter', 'shares', 'increase', 'shows', 'ended', 'months', 'issues', 'stocks', 'american', 'decline', 'gains', 'london', 'company', 'million', 'steel', 'reported', 'earnings', 'exchange', 'billion', 'trading', 'price', 'record', 'sales', 'market', 'stock', 'prices', 'yesterday']\n",
      "volume\n",
      "Theme word : volume\n",
      "Theme 22\n",
      "Terms\n",
      "['leader', 'collision', 'state', 'truck', 'mississippi', 'explosion', 'damages', 'frederick', 'sirhan', 'widow', 'taylor', 'latin', 'chief', 'woman', 'rabbi', 'jersey', 'orders', 'denies', 'bridal', 'lawyer', 'excerpts', 'quits', 'blast', 'trial', 'bishop', 'martin', 'kills', 'killed', 'crash', 'resigns']\n",
      "killing\n",
      "Theme word : killing\n",
      "Theme 23\n",
      "Terms\n",
      "['shows', 'chase', 'concert', 'italian', 'films', 'children', 'society', 'world', 'evening', 'manhattan', 'plaza', 'night', 'opens', 'street', 'hospital', 'annual', 'lincoln', 'modern', 'japanese', 'works', 'festival', 'train', 'hotel', 'dance', 'music', 'dinner', 'theater', 'museum', 'benefit', 'center']\n",
      "evenings\n",
      "Theme word : evenings\n",
      "Theme 24\n",
      "Terms\n",
      "['canadian', 'regis', 'officials', 'offices', 'legal', 'stamp', 'hearing', 'charge', 'refuses', 'rican', 'state', 'orders', 'suffolk', 'parents', 'justice', 'ruling', 'appeal', 'charges', 'cases', 'berlin', 'county', 'rules', 'store', 'sales', 'stores', 'puerto', 'order', 'trial', 'judge', 'court']\n",
      "order\n",
      "Theme word : order\n",
      "Theme 25\n",
      "Terms\n",
      "['rescued', 'following', 'crash', 'boating', 'department', 'futures', 'pentagon', 'guard', 'glass', 'coast', 'girls', 'still', 'defense', 'boats', 'fishing', 'illus', 'craft', 'washington', 'signs', 'atlantic', 'servicemen', 'pakistan', 'crashes', 'storm', 'safety', 'today', 'casualties', 'killed', 'silver', 'vietnam']\n",
      "plane\n",
      "Theme word : plane\n",
      "Theme 26\n",
      "Terms\n",
      "['writer', 'radio', 'invasion', 'repts', 'russian', 'astronauts', 'german', 'poland', 'parties', 'earth', 'leader', 'sweden', 'greece', 'leaders', 'warsaw', 'world', 'french', 'revolution', 'polish', 'czech', 'space', 'apollo', 'premier', 'greek', 'flight', 'moscow', 'regime', 'communist', 'soviet', 'party']\n"
     ]
    },
    {
     "name": "stdout",
     "output_type": "stream",
     "text": [
      "moscow\n",
      "Theme word : moscow\n",
      "Theme 27\n",
      "Terms\n",
      "['broadway', 'boycott', 'accord', 'powell', 'walkout', 'schools', 'drivers', 'state', 'talks', 'members', 'shanker', 'return', 'teacher', 'strikes', 'ocean', 'labor', 'washington', 'unions', 'employes', 'children', 'local', 'contract', 'workers', 'school', 'proceedings', 'dispute', 'theater', 'teachers', 'union', 'strike']\n",
      "unions\n",
      "Theme word : unions\n",
      "Theme 28\n",
      "Terms\n",
      "['island', 'nancy', 'championships', 'marry', 'bridge', 'takes', 'susan', 'second', 'fiance', 'daughter', 'amateur', 'betrothed', 'australia', 'david', 'event', 'victor', 'world', 'becomes', 'tournament', 'first', 'championship', 'round', 'final', 'married', 'tennis', 'women', 'states', 'united', 'bride', 'today']\n",
      "tourna\n",
      "Theme word : tourna\n",
      "Theme 29\n",
      "Terms\n",
      "['credit', 'europe', 'occupation', 'charges', 'money', 'reserves', 'holds', 'monetary', 'countries', 'czechs', 'curbs', 'dollar', 'treaty', 'affairs', 'abroad', 'press', 'moscow', 'invasion', 'nations', 'nuclear', 'policy', 'reserve', 'crisis', 'banks', 'prague', 'trade', 'draft', 'soviet', 'czech', 'foreign']\n",
      "allies\n",
      "Theme word : allies\n",
      "Theme 30\n",
      "Terms\n",
      "['release', 'stand', 'calls', 'meeting', 'decision', 'communist', 'comment', 'chinese', 'thant', 'korea', 'peking', 'bombing', 'message', 'pueblo', 'washington', 'china', 'urges', 'french', 'would', 'white', 'france', 'gaulle', 'house', 'talks', 'statement', 'president', 'policy', 'vietnam', 'peace', 'johnson']\n",
      "vietnam\n",
      "Theme word : vietnam\n"
     ]
    }
   ],
   "source": [
    "# Print the topics found\n",
    "for t, ws in topics_lda.items():\n",
    "    print(t)\n",
    "    print(\"Terms\")\n",
    "    print(ws)\n",
    "    theme = find_theme(ws, model)\n",
    "    print(f\"Theme word : {theme}\")\n",
    "    "
   ]
  },
  {
   "cell_type": "code",
   "execution_count": null,
   "id": "d2f7f228",
   "metadata": {},
   "outputs": [],
   "source": []
  }
 ],
 "metadata": {
  "kernelspec": {
   "display_name": "Python 3 (ipykernel)",
   "language": "python",
   "name": "python3"
  },
  "language_info": {
   "codemirror_mode": {
    "name": "ipython",
    "version": 3
   },
   "file_extension": ".py",
   "mimetype": "text/x-python",
   "name": "python",
   "nbconvert_exporter": "python",
   "pygments_lexer": "ipython3",
   "version": "3.9.16"
  }
 },
 "nbformat": 4,
 "nbformat_minor": 5
}
