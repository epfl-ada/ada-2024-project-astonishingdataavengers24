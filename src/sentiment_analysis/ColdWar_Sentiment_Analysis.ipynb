{
 "cells": [
  {
   "cell_type": "markdown",
   "id": "58c178b4",
   "metadata": {},
   "source": [
    "# Cold War Genres and Sentiment Analysis"
   ]
  },
  {
   "cell_type": "code",
   "execution_count": 1,
   "id": "9d3407e5",
   "metadata": {},
   "outputs": [],
   "source": [
    "import numpy as np\n",
    "import pandas as pd\n",
    "import sys\n",
    "import os\n",
    "sys.path.append(os.path.abspath(os.path.join(os.getcwd(), \"../../\")))\n",
    "from src.utils.helpers_sentiment_analysis import *\n",
    "from src.utils.helpers_temporality_analysis import *\n",
    "from src.utils.helpers_movies_genres import *\n",
    "from src.utils.helpers_movies import *"
   ]
  },
  {
   "cell_type": "markdown",
   "id": "874b9802",
   "metadata": {},
   "source": [
    "The Cold War (circa 1947–1991) was a period of intense geopolitical tension between the United States (and its allies, representing capitalist democracies) and the Soviet Union (and its allies, representing communist states). Despite the absence of direct military conflict between the two superpowers, this rivalry shaped global politics, economics, and military strategies for decades."
   ]
  },
  {
   "cell_type": "markdown",
   "id": "0528aed9",
   "metadata": {},
   "source": [
    "## 1. Load the dataset for Cold War"
   ]
  },
  {
   "cell_type": "code",
   "execution_count": 2,
   "id": "58a9a65a",
   "metadata": {},
   "outputs": [],
   "source": [
    "theme = \"Cold War\" \n",
    "df_plot = load_theme_dataset(\"movies_cold_war.csv\")"
   ]
  },
  {
   "cell_type": "markdown",
   "id": "0be961e5",
   "metadata": {},
   "source": [
    "## 2. Genres Analysis"
   ]
  },
  {
   "cell_type": "code",
   "execution_count": 3,
   "id": "4ebaaee0",
   "metadata": {},
   "outputs": [
    {
     "data": {
      "application/vnd.plotly.v1+json": {
       "config": {
        "plotlyServerURL": "https://plot.ly"
       },
       "data": [
        {
         "hovertemplate": "Year=%{x}<br>Percentage of movies about Cold War theme in the dataset=%{y:.2f%}<extra></extra>",
         "legendgroup": "",
         "line": {
          "color": "rgb(29, 105, 150)",
          "dash": "solid"
         },
         "marker": {
          "symbol": "circle"
         },
         "mode": "lines+markers",
         "name": "",
         "orientation": "v",
         "showlegend": false,
         "type": "scatter",
         "x": [
          1933,
          1935,
          1936,
          1938,
          1939,
          1940,
          1943,
          1944,
          1946,
          1947,
          1948,
          1949,
          1950,
          1952,
          1953,
          1954,
          1955,
          1956,
          1959,
          1960,
          1962,
          1963,
          1964,
          1965,
          1966,
          1967,
          1968,
          1970,
          1971,
          1972,
          1973,
          1974,
          1976,
          1977,
          1978,
          1979,
          1980,
          1981,
          1982,
          1983,
          1984,
          1985,
          1986,
          1988,
          1989,
          1990,
          1991,
          1992,
          1993,
          1994,
          1995,
          1996,
          1997,
          1998,
          1999,
          2000,
          2002,
          2003,
          2004,
          2005,
          2006,
          2007,
          2008,
          2009,
          2010,
          2011,
          2012
         ],
         "xaxis": "x",
         "y": [
          0.004878048780487805,
          0.008771929824561403,
          0.012711864406779662,
          0.009009009009009009,
          0.009302325581395349,
          0.0049504950495049506,
          0.023148148148148147,
          0.009900990099009901,
          0.00546448087431694,
          0.004807692307692308,
          0.008658008658008658,
          0.004032258064516129,
          0.004149377593360996,
          0.0038314176245210726,
          0.0035587188612099642,
          0.00398406374501992,
          0.003861003861003861,
          0.0036900369003690036,
          0.011320754716981131,
          0.00423728813559322,
          0.003952569169960474,
          0.004347826086956522,
          0.014705882352941176,
          0.014234875444839857,
          0.025362318840579712,
          0.016611295681063124,
          0.010869565217391304,
          0.010135135135135136,
          0.01607717041800643,
          0.014925373134328358,
          0.0125,
          0.0030864197530864196,
          0.0031545741324921135,
          0.01935483870967742,
          0.002967359050445104,
          0.011730205278592375,
          0.005319148936170213,
          0.002770083102493075,
          0.005479452054794521,
          0.00819672131147541,
          0.007653061224489796,
          0.008928571428571428,
          0.0045871559633027525,
          0.007874015748031496,
          0.006172839506172839,
          0.00992063492063492,
          0.010330578512396695,
          0.006072874493927126,
          0.005338078291814947,
          0.00859106529209622,
          0.003683241252302026,
          0.009900990099009901,
          0.0029985007496251873,
          0.007363770250368188,
          0.00424929178470255,
          0.00639386189258312,
          0.005279831045406547,
          0.003766478342749529,
          0.0035810205908683975,
          0.0031446540880503146,
          0.0032743942370661427,
          0.0026195153896529143,
          0.005572755417956657,
          0.005134788189987163,
          0.002183406113537118,
          0.0051635111876075735,
          0.004531722054380665
         ],
         "yaxis": "y"
        }
       ],
       "layout": {
        "legend": {
         "tracegroupgap": 0
        },
        "template": {
         "data": {
          "bar": [
           {
            "error_x": {
             "color": "#2a3f5f"
            },
            "error_y": {
             "color": "#2a3f5f"
            },
            "marker": {
             "line": {
              "color": "white",
              "width": 0.5
             },
             "pattern": {
              "fillmode": "overlay",
              "size": 10,
              "solidity": 0.2
             }
            },
            "type": "bar"
           }
          ],
          "barpolar": [
           {
            "marker": {
             "line": {
              "color": "white",
              "width": 0.5
             },
             "pattern": {
              "fillmode": "overlay",
              "size": 10,
              "solidity": 0.2
             }
            },
            "type": "barpolar"
           }
          ],
          "carpet": [
           {
            "aaxis": {
             "endlinecolor": "#2a3f5f",
             "gridcolor": "#C8D4E3",
             "linecolor": "#C8D4E3",
             "minorgridcolor": "#C8D4E3",
             "startlinecolor": "#2a3f5f"
            },
            "baxis": {
             "endlinecolor": "#2a3f5f",
             "gridcolor": "#C8D4E3",
             "linecolor": "#C8D4E3",
             "minorgridcolor": "#C8D4E3",
             "startlinecolor": "#2a3f5f"
            },
            "type": "carpet"
           }
          ],
          "choropleth": [
           {
            "colorbar": {
             "outlinewidth": 0,
             "ticks": ""
            },
            "type": "choropleth"
           }
          ],
          "contour": [
           {
            "colorbar": {
             "outlinewidth": 0,
             "ticks": ""
            },
            "colorscale": [
             [
              0,
              "#0d0887"
             ],
             [
              0.1111111111111111,
              "#46039f"
             ],
             [
              0.2222222222222222,
              "#7201a8"
             ],
             [
              0.3333333333333333,
              "#9c179e"
             ],
             [
              0.4444444444444444,
              "#bd3786"
             ],
             [
              0.5555555555555556,
              "#d8576b"
             ],
             [
              0.6666666666666666,
              "#ed7953"
             ],
             [
              0.7777777777777778,
              "#fb9f3a"
             ],
             [
              0.8888888888888888,
              "#fdca26"
             ],
             [
              1,
              "#f0f921"
             ]
            ],
            "type": "contour"
           }
          ],
          "contourcarpet": [
           {
            "colorbar": {
             "outlinewidth": 0,
             "ticks": ""
            },
            "type": "contourcarpet"
           }
          ],
          "heatmap": [
           {
            "colorbar": {
             "outlinewidth": 0,
             "ticks": ""
            },
            "colorscale": [
             [
              0,
              "#0d0887"
             ],
             [
              0.1111111111111111,
              "#46039f"
             ],
             [
              0.2222222222222222,
              "#7201a8"
             ],
             [
              0.3333333333333333,
              "#9c179e"
             ],
             [
              0.4444444444444444,
              "#bd3786"
             ],
             [
              0.5555555555555556,
              "#d8576b"
             ],
             [
              0.6666666666666666,
              "#ed7953"
             ],
             [
              0.7777777777777778,
              "#fb9f3a"
             ],
             [
              0.8888888888888888,
              "#fdca26"
             ],
             [
              1,
              "#f0f921"
             ]
            ],
            "type": "heatmap"
           }
          ],
          "heatmapgl": [
           {
            "colorbar": {
             "outlinewidth": 0,
             "ticks": ""
            },
            "colorscale": [
             [
              0,
              "#0d0887"
             ],
             [
              0.1111111111111111,
              "#46039f"
             ],
             [
              0.2222222222222222,
              "#7201a8"
             ],
             [
              0.3333333333333333,
              "#9c179e"
             ],
             [
              0.4444444444444444,
              "#bd3786"
             ],
             [
              0.5555555555555556,
              "#d8576b"
             ],
             [
              0.6666666666666666,
              "#ed7953"
             ],
             [
              0.7777777777777778,
              "#fb9f3a"
             ],
             [
              0.8888888888888888,
              "#fdca26"
             ],
             [
              1,
              "#f0f921"
             ]
            ],
            "type": "heatmapgl"
           }
          ],
          "histogram": [
           {
            "marker": {
             "pattern": {
              "fillmode": "overlay",
              "size": 10,
              "solidity": 0.2
             }
            },
            "type": "histogram"
           }
          ],
          "histogram2d": [
           {
            "colorbar": {
             "outlinewidth": 0,
             "ticks": ""
            },
            "colorscale": [
             [
              0,
              "#0d0887"
             ],
             [
              0.1111111111111111,
              "#46039f"
             ],
             [
              0.2222222222222222,
              "#7201a8"
             ],
             [
              0.3333333333333333,
              "#9c179e"
             ],
             [
              0.4444444444444444,
              "#bd3786"
             ],
             [
              0.5555555555555556,
              "#d8576b"
             ],
             [
              0.6666666666666666,
              "#ed7953"
             ],
             [
              0.7777777777777778,
              "#fb9f3a"
             ],
             [
              0.8888888888888888,
              "#fdca26"
             ],
             [
              1,
              "#f0f921"
             ]
            ],
            "type": "histogram2d"
           }
          ],
          "histogram2dcontour": [
           {
            "colorbar": {
             "outlinewidth": 0,
             "ticks": ""
            },
            "colorscale": [
             [
              0,
              "#0d0887"
             ],
             [
              0.1111111111111111,
              "#46039f"
             ],
             [
              0.2222222222222222,
              "#7201a8"
             ],
             [
              0.3333333333333333,
              "#9c179e"
             ],
             [
              0.4444444444444444,
              "#bd3786"
             ],
             [
              0.5555555555555556,
              "#d8576b"
             ],
             [
              0.6666666666666666,
              "#ed7953"
             ],
             [
              0.7777777777777778,
              "#fb9f3a"
             ],
             [
              0.8888888888888888,
              "#fdca26"
             ],
             [
              1,
              "#f0f921"
             ]
            ],
            "type": "histogram2dcontour"
           }
          ],
          "mesh3d": [
           {
            "colorbar": {
             "outlinewidth": 0,
             "ticks": ""
            },
            "type": "mesh3d"
           }
          ],
          "parcoords": [
           {
            "line": {
             "colorbar": {
              "outlinewidth": 0,
              "ticks": ""
             }
            },
            "type": "parcoords"
           }
          ],
          "pie": [
           {
            "automargin": true,
            "type": "pie"
           }
          ],
          "scatter": [
           {
            "fillpattern": {
             "fillmode": "overlay",
             "size": 10,
             "solidity": 0.2
            },
            "type": "scatter"
           }
          ],
          "scatter3d": [
           {
            "line": {
             "colorbar": {
              "outlinewidth": 0,
              "ticks": ""
             }
            },
            "marker": {
             "colorbar": {
              "outlinewidth": 0,
              "ticks": ""
             }
            },
            "type": "scatter3d"
           }
          ],
          "scattercarpet": [
           {
            "marker": {
             "colorbar": {
              "outlinewidth": 0,
              "ticks": ""
             }
            },
            "type": "scattercarpet"
           }
          ],
          "scattergeo": [
           {
            "marker": {
             "colorbar": {
              "outlinewidth": 0,
              "ticks": ""
             }
            },
            "type": "scattergeo"
           }
          ],
          "scattergl": [
           {
            "marker": {
             "colorbar": {
              "outlinewidth": 0,
              "ticks": ""
             }
            },
            "type": "scattergl"
           }
          ],
          "scattermapbox": [
           {
            "marker": {
             "colorbar": {
              "outlinewidth": 0,
              "ticks": ""
             }
            },
            "type": "scattermapbox"
           }
          ],
          "scatterpolar": [
           {
            "marker": {
             "colorbar": {
              "outlinewidth": 0,
              "ticks": ""
             }
            },
            "type": "scatterpolar"
           }
          ],
          "scatterpolargl": [
           {
            "marker": {
             "colorbar": {
              "outlinewidth": 0,
              "ticks": ""
             }
            },
            "type": "scatterpolargl"
           }
          ],
          "scatterternary": [
           {
            "marker": {
             "colorbar": {
              "outlinewidth": 0,
              "ticks": ""
             }
            },
            "type": "scatterternary"
           }
          ],
          "surface": [
           {
            "colorbar": {
             "outlinewidth": 0,
             "ticks": ""
            },
            "colorscale": [
             [
              0,
              "#0d0887"
             ],
             [
              0.1111111111111111,
              "#46039f"
             ],
             [
              0.2222222222222222,
              "#7201a8"
             ],
             [
              0.3333333333333333,
              "#9c179e"
             ],
             [
              0.4444444444444444,
              "#bd3786"
             ],
             [
              0.5555555555555556,
              "#d8576b"
             ],
             [
              0.6666666666666666,
              "#ed7953"
             ],
             [
              0.7777777777777778,
              "#fb9f3a"
             ],
             [
              0.8888888888888888,
              "#fdca26"
             ],
             [
              1,
              "#f0f921"
             ]
            ],
            "type": "surface"
           }
          ],
          "table": [
           {
            "cells": {
             "fill": {
              "color": "#EBF0F8"
             },
             "line": {
              "color": "white"
             }
            },
            "header": {
             "fill": {
              "color": "#C8D4E3"
             },
             "line": {
              "color": "white"
             }
            },
            "type": "table"
           }
          ]
         },
         "layout": {
          "annotationdefaults": {
           "arrowcolor": "#2a3f5f",
           "arrowhead": 0,
           "arrowwidth": 1
          },
          "autotypenumbers": "strict",
          "coloraxis": {
           "colorbar": {
            "outlinewidth": 0,
            "ticks": ""
           }
          },
          "colorscale": {
           "diverging": [
            [
             0,
             "#8e0152"
            ],
            [
             0.1,
             "#c51b7d"
            ],
            [
             0.2,
             "#de77ae"
            ],
            [
             0.3,
             "#f1b6da"
            ],
            [
             0.4,
             "#fde0ef"
            ],
            [
             0.5,
             "#f7f7f7"
            ],
            [
             0.6,
             "#e6f5d0"
            ],
            [
             0.7,
             "#b8e186"
            ],
            [
             0.8,
             "#7fbc41"
            ],
            [
             0.9,
             "#4d9221"
            ],
            [
             1,
             "#276419"
            ]
           ],
           "sequential": [
            [
             0,
             "#0d0887"
            ],
            [
             0.1111111111111111,
             "#46039f"
            ],
            [
             0.2222222222222222,
             "#7201a8"
            ],
            [
             0.3333333333333333,
             "#9c179e"
            ],
            [
             0.4444444444444444,
             "#bd3786"
            ],
            [
             0.5555555555555556,
             "#d8576b"
            ],
            [
             0.6666666666666666,
             "#ed7953"
            ],
            [
             0.7777777777777778,
             "#fb9f3a"
            ],
            [
             0.8888888888888888,
             "#fdca26"
            ],
            [
             1,
             "#f0f921"
            ]
           ],
           "sequentialminus": [
            [
             0,
             "#0d0887"
            ],
            [
             0.1111111111111111,
             "#46039f"
            ],
            [
             0.2222222222222222,
             "#7201a8"
            ],
            [
             0.3333333333333333,
             "#9c179e"
            ],
            [
             0.4444444444444444,
             "#bd3786"
            ],
            [
             0.5555555555555556,
             "#d8576b"
            ],
            [
             0.6666666666666666,
             "#ed7953"
            ],
            [
             0.7777777777777778,
             "#fb9f3a"
            ],
            [
             0.8888888888888888,
             "#fdca26"
            ],
            [
             1,
             "#f0f921"
            ]
           ]
          },
          "colorway": [
           "#636efa",
           "#EF553B",
           "#00cc96",
           "#ab63fa",
           "#FFA15A",
           "#19d3f3",
           "#FF6692",
           "#B6E880",
           "#FF97FF",
           "#FECB52"
          ],
          "font": {
           "color": "#2a3f5f"
          },
          "geo": {
           "bgcolor": "white",
           "lakecolor": "white",
           "landcolor": "white",
           "showlakes": true,
           "showland": true,
           "subunitcolor": "#C8D4E3"
          },
          "hoverlabel": {
           "align": "left"
          },
          "hovermode": "closest",
          "mapbox": {
           "style": "light"
          },
          "paper_bgcolor": "white",
          "plot_bgcolor": "white",
          "polar": {
           "angularaxis": {
            "gridcolor": "#EBF0F8",
            "linecolor": "#EBF0F8",
            "ticks": ""
           },
           "bgcolor": "white",
           "radialaxis": {
            "gridcolor": "#EBF0F8",
            "linecolor": "#EBF0F8",
            "ticks": ""
           }
          },
          "scene": {
           "xaxis": {
            "backgroundcolor": "white",
            "gridcolor": "#DFE8F3",
            "gridwidth": 2,
            "linecolor": "#EBF0F8",
            "showbackground": true,
            "ticks": "",
            "zerolinecolor": "#EBF0F8"
           },
           "yaxis": {
            "backgroundcolor": "white",
            "gridcolor": "#DFE8F3",
            "gridwidth": 2,
            "linecolor": "#EBF0F8",
            "showbackground": true,
            "ticks": "",
            "zerolinecolor": "#EBF0F8"
           },
           "zaxis": {
            "backgroundcolor": "white",
            "gridcolor": "#DFE8F3",
            "gridwidth": 2,
            "linecolor": "#EBF0F8",
            "showbackground": true,
            "ticks": "",
            "zerolinecolor": "#EBF0F8"
           }
          },
          "shapedefaults": {
           "line": {
            "color": "#2a3f5f"
           }
          },
          "ternary": {
           "aaxis": {
            "gridcolor": "#DFE8F3",
            "linecolor": "#A2B1C6",
            "ticks": ""
           },
           "baxis": {
            "gridcolor": "#DFE8F3",
            "linecolor": "#A2B1C6",
            "ticks": ""
           },
           "bgcolor": "white",
           "caxis": {
            "gridcolor": "#DFE8F3",
            "linecolor": "#A2B1C6",
            "ticks": ""
           }
          },
          "title": {
           "x": 0.05
          },
          "xaxis": {
           "automargin": true,
           "gridcolor": "#EBF0F8",
           "linecolor": "#EBF0F8",
           "ticks": "",
           "title": {
            "standoff": 15
           },
           "zerolinecolor": "#EBF0F8",
           "zerolinewidth": 2
          },
          "yaxis": {
           "automargin": true,
           "gridcolor": "#EBF0F8",
           "linecolor": "#EBF0F8",
           "ticks": "",
           "title": {
            "standoff": 15
           },
           "zerolinecolor": "#EBF0F8",
           "zerolinewidth": 2
          }
         }
        },
        "title": {
         "text": "Evolution of Movie Frequency by Year"
        },
        "xaxis": {
         "anchor": "y",
         "domain": [
          0,
          1
         ],
         "tickangle": 45,
         "title": {
          "text": "Year"
         }
        },
        "yaxis": {
         "anchor": "x",
         "domain": [
          0,
          1
         ],
         "title": {
          "text": "Percentage of movies about Cold War theme in the dataset"
         }
        }
       }
      }
     },
     "metadata": {},
     "output_type": "display_data"
    }
   ],
   "source": [
    "plot_movie_frequency(df_plot, theme, time_unit='Year')"
   ]
  },
  {
   "cell_type": "markdown",
   "id": "8adc0c48",
   "metadata": {},
   "source": [
    "By analyzing the movvies turing the periods 1943 and the decades 1960s-1970s, we can observe:"
   ]
  },
  {
   "cell_type": "markdown",
   "id": "b49b0a85",
   "metadata": {},
   "source": [
    "### 1943"
   ]
  },
  {
   "cell_type": "markdown",
   "id": "246733e5",
   "metadata": {},
   "source": [
    "Here the themes are Anti-Nazi and positive towards the USSR"
   ]
  },
  {
   "cell_type": "markdown",
   "id": "dc9bec6b",
   "metadata": {},
   "source": [
    "### 1960s and 1970s"
   ]
  },
  {
   "cell_type": "markdown",
   "id": "61bb52f8",
   "metadata": {},
   "source": [
    "The main themes are:\n",
    "- Nuclear anxiety: Themes often include accidental nuclear strikes, space races, and clashes between democracy and communism.\n",
    "- War and Resistance: Stories about World War II and other conflicts dominate, showing the  resistance movements, espionage, and personal sacrifices during wartime.\n",
    "- Political satire: Some movies use humor and satire to critique political ideologies, societal norms, which reflects Cold War propaganda or domestic issues.\n",
    "- Technology: Themes around technological advancements, particularly in space exploration and military innovation, shows the fascination and fear associated with rapid scientific progress during the Cold War.\n",
    "- Human relationship: a recurring theme is the resilience of human connections—family, friendship, and love—as a counterpoint to the larger conflicts."
   ]
  },
  {
   "cell_type": "code",
   "execution_count": 4,
   "id": "f28e4720",
   "metadata": {},
   "outputs": [
    {
     "data": {
      "application/vnd.plotly.v1+json": {
       "config": {
        "plotlyServerURL": "https://plot.ly"
       },
       "data": [
        {
         "hovertemplate": "Decade=%{x}<br>Percentage of movies about Cold War theme in the dataset=%{y:.2f%}<extra></extra>",
         "legendgroup": "",
         "line": {
          "color": "rgb(29, 105, 150)",
          "dash": "solid"
         },
         "marker": {
          "symbol": "circle"
         },
         "mode": "lines+markers",
         "name": "",
         "orientation": "v",
         "showlegend": false,
         "type": "scatter",
         "x": [
          1930,
          1940,
          1950,
          1960,
          1970,
          1980,
          1990,
          2000,
          2010
         ],
         "xaxis": "x",
         "y": [
          0.00481000481000481,
          0.006094702297233943,
          0.0034065102195306586,
          0.009752438109527382,
          0.00945179584120983,
          0.005664385178192117,
          0.006692980950746525,
          0.0039196472317491425,
          0.003667481662591687
         ],
         "yaxis": "y"
        }
       ],
       "layout": {
        "legend": {
         "tracegroupgap": 0
        },
        "template": {
         "data": {
          "bar": [
           {
            "error_x": {
             "color": "#2a3f5f"
            },
            "error_y": {
             "color": "#2a3f5f"
            },
            "marker": {
             "line": {
              "color": "white",
              "width": 0.5
             },
             "pattern": {
              "fillmode": "overlay",
              "size": 10,
              "solidity": 0.2
             }
            },
            "type": "bar"
           }
          ],
          "barpolar": [
           {
            "marker": {
             "line": {
              "color": "white",
              "width": 0.5
             },
             "pattern": {
              "fillmode": "overlay",
              "size": 10,
              "solidity": 0.2
             }
            },
            "type": "barpolar"
           }
          ],
          "carpet": [
           {
            "aaxis": {
             "endlinecolor": "#2a3f5f",
             "gridcolor": "#C8D4E3",
             "linecolor": "#C8D4E3",
             "minorgridcolor": "#C8D4E3",
             "startlinecolor": "#2a3f5f"
            },
            "baxis": {
             "endlinecolor": "#2a3f5f",
             "gridcolor": "#C8D4E3",
             "linecolor": "#C8D4E3",
             "minorgridcolor": "#C8D4E3",
             "startlinecolor": "#2a3f5f"
            },
            "type": "carpet"
           }
          ],
          "choropleth": [
           {
            "colorbar": {
             "outlinewidth": 0,
             "ticks": ""
            },
            "type": "choropleth"
           }
          ],
          "contour": [
           {
            "colorbar": {
             "outlinewidth": 0,
             "ticks": ""
            },
            "colorscale": [
             [
              0,
              "#0d0887"
             ],
             [
              0.1111111111111111,
              "#46039f"
             ],
             [
              0.2222222222222222,
              "#7201a8"
             ],
             [
              0.3333333333333333,
              "#9c179e"
             ],
             [
              0.4444444444444444,
              "#bd3786"
             ],
             [
              0.5555555555555556,
              "#d8576b"
             ],
             [
              0.6666666666666666,
              "#ed7953"
             ],
             [
              0.7777777777777778,
              "#fb9f3a"
             ],
             [
              0.8888888888888888,
              "#fdca26"
             ],
             [
              1,
              "#f0f921"
             ]
            ],
            "type": "contour"
           }
          ],
          "contourcarpet": [
           {
            "colorbar": {
             "outlinewidth": 0,
             "ticks": ""
            },
            "type": "contourcarpet"
           }
          ],
          "heatmap": [
           {
            "colorbar": {
             "outlinewidth": 0,
             "ticks": ""
            },
            "colorscale": [
             [
              0,
              "#0d0887"
             ],
             [
              0.1111111111111111,
              "#46039f"
             ],
             [
              0.2222222222222222,
              "#7201a8"
             ],
             [
              0.3333333333333333,
              "#9c179e"
             ],
             [
              0.4444444444444444,
              "#bd3786"
             ],
             [
              0.5555555555555556,
              "#d8576b"
             ],
             [
              0.6666666666666666,
              "#ed7953"
             ],
             [
              0.7777777777777778,
              "#fb9f3a"
             ],
             [
              0.8888888888888888,
              "#fdca26"
             ],
             [
              1,
              "#f0f921"
             ]
            ],
            "type": "heatmap"
           }
          ],
          "heatmapgl": [
           {
            "colorbar": {
             "outlinewidth": 0,
             "ticks": ""
            },
            "colorscale": [
             [
              0,
              "#0d0887"
             ],
             [
              0.1111111111111111,
              "#46039f"
             ],
             [
              0.2222222222222222,
              "#7201a8"
             ],
             [
              0.3333333333333333,
              "#9c179e"
             ],
             [
              0.4444444444444444,
              "#bd3786"
             ],
             [
              0.5555555555555556,
              "#d8576b"
             ],
             [
              0.6666666666666666,
              "#ed7953"
             ],
             [
              0.7777777777777778,
              "#fb9f3a"
             ],
             [
              0.8888888888888888,
              "#fdca26"
             ],
             [
              1,
              "#f0f921"
             ]
            ],
            "type": "heatmapgl"
           }
          ],
          "histogram": [
           {
            "marker": {
             "pattern": {
              "fillmode": "overlay",
              "size": 10,
              "solidity": 0.2
             }
            },
            "type": "histogram"
           }
          ],
          "histogram2d": [
           {
            "colorbar": {
             "outlinewidth": 0,
             "ticks": ""
            },
            "colorscale": [
             [
              0,
              "#0d0887"
             ],
             [
              0.1111111111111111,
              "#46039f"
             ],
             [
              0.2222222222222222,
              "#7201a8"
             ],
             [
              0.3333333333333333,
              "#9c179e"
             ],
             [
              0.4444444444444444,
              "#bd3786"
             ],
             [
              0.5555555555555556,
              "#d8576b"
             ],
             [
              0.6666666666666666,
              "#ed7953"
             ],
             [
              0.7777777777777778,
              "#fb9f3a"
             ],
             [
              0.8888888888888888,
              "#fdca26"
             ],
             [
              1,
              "#f0f921"
             ]
            ],
            "type": "histogram2d"
           }
          ],
          "histogram2dcontour": [
           {
            "colorbar": {
             "outlinewidth": 0,
             "ticks": ""
            },
            "colorscale": [
             [
              0,
              "#0d0887"
             ],
             [
              0.1111111111111111,
              "#46039f"
             ],
             [
              0.2222222222222222,
              "#7201a8"
             ],
             [
              0.3333333333333333,
              "#9c179e"
             ],
             [
              0.4444444444444444,
              "#bd3786"
             ],
             [
              0.5555555555555556,
              "#d8576b"
             ],
             [
              0.6666666666666666,
              "#ed7953"
             ],
             [
              0.7777777777777778,
              "#fb9f3a"
             ],
             [
              0.8888888888888888,
              "#fdca26"
             ],
             [
              1,
              "#f0f921"
             ]
            ],
            "type": "histogram2dcontour"
           }
          ],
          "mesh3d": [
           {
            "colorbar": {
             "outlinewidth": 0,
             "ticks": ""
            },
            "type": "mesh3d"
           }
          ],
          "parcoords": [
           {
            "line": {
             "colorbar": {
              "outlinewidth": 0,
              "ticks": ""
             }
            },
            "type": "parcoords"
           }
          ],
          "pie": [
           {
            "automargin": true,
            "type": "pie"
           }
          ],
          "scatter": [
           {
            "fillpattern": {
             "fillmode": "overlay",
             "size": 10,
             "solidity": 0.2
            },
            "type": "scatter"
           }
          ],
          "scatter3d": [
           {
            "line": {
             "colorbar": {
              "outlinewidth": 0,
              "ticks": ""
             }
            },
            "marker": {
             "colorbar": {
              "outlinewidth": 0,
              "ticks": ""
             }
            },
            "type": "scatter3d"
           }
          ],
          "scattercarpet": [
           {
            "marker": {
             "colorbar": {
              "outlinewidth": 0,
              "ticks": ""
             }
            },
            "type": "scattercarpet"
           }
          ],
          "scattergeo": [
           {
            "marker": {
             "colorbar": {
              "outlinewidth": 0,
              "ticks": ""
             }
            },
            "type": "scattergeo"
           }
          ],
          "scattergl": [
           {
            "marker": {
             "colorbar": {
              "outlinewidth": 0,
              "ticks": ""
             }
            },
            "type": "scattergl"
           }
          ],
          "scattermapbox": [
           {
            "marker": {
             "colorbar": {
              "outlinewidth": 0,
              "ticks": ""
             }
            },
            "type": "scattermapbox"
           }
          ],
          "scatterpolar": [
           {
            "marker": {
             "colorbar": {
              "outlinewidth": 0,
              "ticks": ""
             }
            },
            "type": "scatterpolar"
           }
          ],
          "scatterpolargl": [
           {
            "marker": {
             "colorbar": {
              "outlinewidth": 0,
              "ticks": ""
             }
            },
            "type": "scatterpolargl"
           }
          ],
          "scatterternary": [
           {
            "marker": {
             "colorbar": {
              "outlinewidth": 0,
              "ticks": ""
             }
            },
            "type": "scatterternary"
           }
          ],
          "surface": [
           {
            "colorbar": {
             "outlinewidth": 0,
             "ticks": ""
            },
            "colorscale": [
             [
              0,
              "#0d0887"
             ],
             [
              0.1111111111111111,
              "#46039f"
             ],
             [
              0.2222222222222222,
              "#7201a8"
             ],
             [
              0.3333333333333333,
              "#9c179e"
             ],
             [
              0.4444444444444444,
              "#bd3786"
             ],
             [
              0.5555555555555556,
              "#d8576b"
             ],
             [
              0.6666666666666666,
              "#ed7953"
             ],
             [
              0.7777777777777778,
              "#fb9f3a"
             ],
             [
              0.8888888888888888,
              "#fdca26"
             ],
             [
              1,
              "#f0f921"
             ]
            ],
            "type": "surface"
           }
          ],
          "table": [
           {
            "cells": {
             "fill": {
              "color": "#EBF0F8"
             },
             "line": {
              "color": "white"
             }
            },
            "header": {
             "fill": {
              "color": "#C8D4E3"
             },
             "line": {
              "color": "white"
             }
            },
            "type": "table"
           }
          ]
         },
         "layout": {
          "annotationdefaults": {
           "arrowcolor": "#2a3f5f",
           "arrowhead": 0,
           "arrowwidth": 1
          },
          "autotypenumbers": "strict",
          "coloraxis": {
           "colorbar": {
            "outlinewidth": 0,
            "ticks": ""
           }
          },
          "colorscale": {
           "diverging": [
            [
             0,
             "#8e0152"
            ],
            [
             0.1,
             "#c51b7d"
            ],
            [
             0.2,
             "#de77ae"
            ],
            [
             0.3,
             "#f1b6da"
            ],
            [
             0.4,
             "#fde0ef"
            ],
            [
             0.5,
             "#f7f7f7"
            ],
            [
             0.6,
             "#e6f5d0"
            ],
            [
             0.7,
             "#b8e186"
            ],
            [
             0.8,
             "#7fbc41"
            ],
            [
             0.9,
             "#4d9221"
            ],
            [
             1,
             "#276419"
            ]
           ],
           "sequential": [
            [
             0,
             "#0d0887"
            ],
            [
             0.1111111111111111,
             "#46039f"
            ],
            [
             0.2222222222222222,
             "#7201a8"
            ],
            [
             0.3333333333333333,
             "#9c179e"
            ],
            [
             0.4444444444444444,
             "#bd3786"
            ],
            [
             0.5555555555555556,
             "#d8576b"
            ],
            [
             0.6666666666666666,
             "#ed7953"
            ],
            [
             0.7777777777777778,
             "#fb9f3a"
            ],
            [
             0.8888888888888888,
             "#fdca26"
            ],
            [
             1,
             "#f0f921"
            ]
           ],
           "sequentialminus": [
            [
             0,
             "#0d0887"
            ],
            [
             0.1111111111111111,
             "#46039f"
            ],
            [
             0.2222222222222222,
             "#7201a8"
            ],
            [
             0.3333333333333333,
             "#9c179e"
            ],
            [
             0.4444444444444444,
             "#bd3786"
            ],
            [
             0.5555555555555556,
             "#d8576b"
            ],
            [
             0.6666666666666666,
             "#ed7953"
            ],
            [
             0.7777777777777778,
             "#fb9f3a"
            ],
            [
             0.8888888888888888,
             "#fdca26"
            ],
            [
             1,
             "#f0f921"
            ]
           ]
          },
          "colorway": [
           "#636efa",
           "#EF553B",
           "#00cc96",
           "#ab63fa",
           "#FFA15A",
           "#19d3f3",
           "#FF6692",
           "#B6E880",
           "#FF97FF",
           "#FECB52"
          ],
          "font": {
           "color": "#2a3f5f"
          },
          "geo": {
           "bgcolor": "white",
           "lakecolor": "white",
           "landcolor": "white",
           "showlakes": true,
           "showland": true,
           "subunitcolor": "#C8D4E3"
          },
          "hoverlabel": {
           "align": "left"
          },
          "hovermode": "closest",
          "mapbox": {
           "style": "light"
          },
          "paper_bgcolor": "white",
          "plot_bgcolor": "white",
          "polar": {
           "angularaxis": {
            "gridcolor": "#EBF0F8",
            "linecolor": "#EBF0F8",
            "ticks": ""
           },
           "bgcolor": "white",
           "radialaxis": {
            "gridcolor": "#EBF0F8",
            "linecolor": "#EBF0F8",
            "ticks": ""
           }
          },
          "scene": {
           "xaxis": {
            "backgroundcolor": "white",
            "gridcolor": "#DFE8F3",
            "gridwidth": 2,
            "linecolor": "#EBF0F8",
            "showbackground": true,
            "ticks": "",
            "zerolinecolor": "#EBF0F8"
           },
           "yaxis": {
            "backgroundcolor": "white",
            "gridcolor": "#DFE8F3",
            "gridwidth": 2,
            "linecolor": "#EBF0F8",
            "showbackground": true,
            "ticks": "",
            "zerolinecolor": "#EBF0F8"
           },
           "zaxis": {
            "backgroundcolor": "white",
            "gridcolor": "#DFE8F3",
            "gridwidth": 2,
            "linecolor": "#EBF0F8",
            "showbackground": true,
            "ticks": "",
            "zerolinecolor": "#EBF0F8"
           }
          },
          "shapedefaults": {
           "line": {
            "color": "#2a3f5f"
           }
          },
          "ternary": {
           "aaxis": {
            "gridcolor": "#DFE8F3",
            "linecolor": "#A2B1C6",
            "ticks": ""
           },
           "baxis": {
            "gridcolor": "#DFE8F3",
            "linecolor": "#A2B1C6",
            "ticks": ""
           },
           "bgcolor": "white",
           "caxis": {
            "gridcolor": "#DFE8F3",
            "linecolor": "#A2B1C6",
            "ticks": ""
           }
          },
          "title": {
           "x": 0.05
          },
          "xaxis": {
           "automargin": true,
           "gridcolor": "#EBF0F8",
           "linecolor": "#EBF0F8",
           "ticks": "",
           "title": {
            "standoff": 15
           },
           "zerolinecolor": "#EBF0F8",
           "zerolinewidth": 2
          },
          "yaxis": {
           "automargin": true,
           "gridcolor": "#EBF0F8",
           "linecolor": "#EBF0F8",
           "ticks": "",
           "title": {
            "standoff": 15
           },
           "zerolinecolor": "#EBF0F8",
           "zerolinewidth": 2
          }
         }
        },
        "title": {
         "text": "Evolution of Movie Frequency by Decade"
        },
        "xaxis": {
         "anchor": "y",
         "domain": [
          0,
          1
         ],
         "tickangle": 45,
         "title": {
          "text": "Decade"
         }
        },
        "yaxis": {
         "anchor": "x",
         "domain": [
          0,
          1
         ],
         "title": {
          "text": "Percentage of movies about Cold War theme in the dataset"
         }
        }
       }
      }
     },
     "metadata": {},
     "output_type": "display_data"
    }
   ],
   "source": [
    "plot_movie_frequency(df_plot, theme, time_unit='Decade')"
   ]
  },
  {
   "cell_type": "code",
   "execution_count": 5,
   "id": "272ac4fb",
   "metadata": {
    "scrolled": true
   },
   "outputs": [
    {
     "data": {
      "application/vnd.plotly.v1+json": {
       "config": {
        "plotlyServerURL": "https://plot.ly"
       },
       "data": [
        {
         "domain": {
          "x": [
           0,
           1
          ],
          "y": [
           0,
           1
          ]
         },
         "hovertemplate": "Genre=%{label}<br>Count=%{value}<extra></extra>",
         "labels": [
          "Drama",
          "Action/Adventure",
          "War",
          "Thriller",
          "Comedy"
         ],
         "legendgroup": "",
         "name": "",
         "pull": [
          0.1,
          0,
          0,
          0,
          0
         ],
         "showlegend": true,
         "textinfo": "percent+label",
         "type": "pie",
         "values": [
          123,
          50,
          47,
          45,
          43
         ]
        }
       ],
       "layout": {
        "height": 600,
        "legend": {
         "tracegroupgap": 0
        },
        "piecolorway": [
         "rgb(95, 70, 144)",
         "rgb(29, 105, 150)",
         "rgb(56, 166, 165)",
         "rgb(15, 133, 84)",
         "rgb(115, 175, 72)",
         "rgb(237, 173, 8)",
         "rgb(225, 124, 5)",
         "rgb(204, 80, 62)",
         "rgb(148, 52, 110)",
         "rgb(111, 64, 112)",
         "rgb(102, 102, 102)"
        ],
        "template": {
         "data": {
          "bar": [
           {
            "error_x": {
             "color": "#2a3f5f"
            },
            "error_y": {
             "color": "#2a3f5f"
            },
            "marker": {
             "line": {
              "color": "#E5ECF6",
              "width": 0.5
             },
             "pattern": {
              "fillmode": "overlay",
              "size": 10,
              "solidity": 0.2
             }
            },
            "type": "bar"
           }
          ],
          "barpolar": [
           {
            "marker": {
             "line": {
              "color": "#E5ECF6",
              "width": 0.5
             },
             "pattern": {
              "fillmode": "overlay",
              "size": 10,
              "solidity": 0.2
             }
            },
            "type": "barpolar"
           }
          ],
          "carpet": [
           {
            "aaxis": {
             "endlinecolor": "#2a3f5f",
             "gridcolor": "white",
             "linecolor": "white",
             "minorgridcolor": "white",
             "startlinecolor": "#2a3f5f"
            },
            "baxis": {
             "endlinecolor": "#2a3f5f",
             "gridcolor": "white",
             "linecolor": "white",
             "minorgridcolor": "white",
             "startlinecolor": "#2a3f5f"
            },
            "type": "carpet"
           }
          ],
          "choropleth": [
           {
            "colorbar": {
             "outlinewidth": 0,
             "ticks": ""
            },
            "type": "choropleth"
           }
          ],
          "contour": [
           {
            "colorbar": {
             "outlinewidth": 0,
             "ticks": ""
            },
            "colorscale": [
             [
              0,
              "#0d0887"
             ],
             [
              0.1111111111111111,
              "#46039f"
             ],
             [
              0.2222222222222222,
              "#7201a8"
             ],
             [
              0.3333333333333333,
              "#9c179e"
             ],
             [
              0.4444444444444444,
              "#bd3786"
             ],
             [
              0.5555555555555556,
              "#d8576b"
             ],
             [
              0.6666666666666666,
              "#ed7953"
             ],
             [
              0.7777777777777778,
              "#fb9f3a"
             ],
             [
              0.8888888888888888,
              "#fdca26"
             ],
             [
              1,
              "#f0f921"
             ]
            ],
            "type": "contour"
           }
          ],
          "contourcarpet": [
           {
            "colorbar": {
             "outlinewidth": 0,
             "ticks": ""
            },
            "type": "contourcarpet"
           }
          ],
          "heatmap": [
           {
            "colorbar": {
             "outlinewidth": 0,
             "ticks": ""
            },
            "colorscale": [
             [
              0,
              "#0d0887"
             ],
             [
              0.1111111111111111,
              "#46039f"
             ],
             [
              0.2222222222222222,
              "#7201a8"
             ],
             [
              0.3333333333333333,
              "#9c179e"
             ],
             [
              0.4444444444444444,
              "#bd3786"
             ],
             [
              0.5555555555555556,
              "#d8576b"
             ],
             [
              0.6666666666666666,
              "#ed7953"
             ],
             [
              0.7777777777777778,
              "#fb9f3a"
             ],
             [
              0.8888888888888888,
              "#fdca26"
             ],
             [
              1,
              "#f0f921"
             ]
            ],
            "type": "heatmap"
           }
          ],
          "heatmapgl": [
           {
            "colorbar": {
             "outlinewidth": 0,
             "ticks": ""
            },
            "colorscale": [
             [
              0,
              "#0d0887"
             ],
             [
              0.1111111111111111,
              "#46039f"
             ],
             [
              0.2222222222222222,
              "#7201a8"
             ],
             [
              0.3333333333333333,
              "#9c179e"
             ],
             [
              0.4444444444444444,
              "#bd3786"
             ],
             [
              0.5555555555555556,
              "#d8576b"
             ],
             [
              0.6666666666666666,
              "#ed7953"
             ],
             [
              0.7777777777777778,
              "#fb9f3a"
             ],
             [
              0.8888888888888888,
              "#fdca26"
             ],
             [
              1,
              "#f0f921"
             ]
            ],
            "type": "heatmapgl"
           }
          ],
          "histogram": [
           {
            "marker": {
             "pattern": {
              "fillmode": "overlay",
              "size": 10,
              "solidity": 0.2
             }
            },
            "type": "histogram"
           }
          ],
          "histogram2d": [
           {
            "colorbar": {
             "outlinewidth": 0,
             "ticks": ""
            },
            "colorscale": [
             [
              0,
              "#0d0887"
             ],
             [
              0.1111111111111111,
              "#46039f"
             ],
             [
              0.2222222222222222,
              "#7201a8"
             ],
             [
              0.3333333333333333,
              "#9c179e"
             ],
             [
              0.4444444444444444,
              "#bd3786"
             ],
             [
              0.5555555555555556,
              "#d8576b"
             ],
             [
              0.6666666666666666,
              "#ed7953"
             ],
             [
              0.7777777777777778,
              "#fb9f3a"
             ],
             [
              0.8888888888888888,
              "#fdca26"
             ],
             [
              1,
              "#f0f921"
             ]
            ],
            "type": "histogram2d"
           }
          ],
          "histogram2dcontour": [
           {
            "colorbar": {
             "outlinewidth": 0,
             "ticks": ""
            },
            "colorscale": [
             [
              0,
              "#0d0887"
             ],
             [
              0.1111111111111111,
              "#46039f"
             ],
             [
              0.2222222222222222,
              "#7201a8"
             ],
             [
              0.3333333333333333,
              "#9c179e"
             ],
             [
              0.4444444444444444,
              "#bd3786"
             ],
             [
              0.5555555555555556,
              "#d8576b"
             ],
             [
              0.6666666666666666,
              "#ed7953"
             ],
             [
              0.7777777777777778,
              "#fb9f3a"
             ],
             [
              0.8888888888888888,
              "#fdca26"
             ],
             [
              1,
              "#f0f921"
             ]
            ],
            "type": "histogram2dcontour"
           }
          ],
          "mesh3d": [
           {
            "colorbar": {
             "outlinewidth": 0,
             "ticks": ""
            },
            "type": "mesh3d"
           }
          ],
          "parcoords": [
           {
            "line": {
             "colorbar": {
              "outlinewidth": 0,
              "ticks": ""
             }
            },
            "type": "parcoords"
           }
          ],
          "pie": [
           {
            "automargin": true,
            "type": "pie"
           }
          ],
          "scatter": [
           {
            "fillpattern": {
             "fillmode": "overlay",
             "size": 10,
             "solidity": 0.2
            },
            "type": "scatter"
           }
          ],
          "scatter3d": [
           {
            "line": {
             "colorbar": {
              "outlinewidth": 0,
              "ticks": ""
             }
            },
            "marker": {
             "colorbar": {
              "outlinewidth": 0,
              "ticks": ""
             }
            },
            "type": "scatter3d"
           }
          ],
          "scattercarpet": [
           {
            "marker": {
             "colorbar": {
              "outlinewidth": 0,
              "ticks": ""
             }
            },
            "type": "scattercarpet"
           }
          ],
          "scattergeo": [
           {
            "marker": {
             "colorbar": {
              "outlinewidth": 0,
              "ticks": ""
             }
            },
            "type": "scattergeo"
           }
          ],
          "scattergl": [
           {
            "marker": {
             "colorbar": {
              "outlinewidth": 0,
              "ticks": ""
             }
            },
            "type": "scattergl"
           }
          ],
          "scattermapbox": [
           {
            "marker": {
             "colorbar": {
              "outlinewidth": 0,
              "ticks": ""
             }
            },
            "type": "scattermapbox"
           }
          ],
          "scatterpolar": [
           {
            "marker": {
             "colorbar": {
              "outlinewidth": 0,
              "ticks": ""
             }
            },
            "type": "scatterpolar"
           }
          ],
          "scatterpolargl": [
           {
            "marker": {
             "colorbar": {
              "outlinewidth": 0,
              "ticks": ""
             }
            },
            "type": "scatterpolargl"
           }
          ],
          "scatterternary": [
           {
            "marker": {
             "colorbar": {
              "outlinewidth": 0,
              "ticks": ""
             }
            },
            "type": "scatterternary"
           }
          ],
          "surface": [
           {
            "colorbar": {
             "outlinewidth": 0,
             "ticks": ""
            },
            "colorscale": [
             [
              0,
              "#0d0887"
             ],
             [
              0.1111111111111111,
              "#46039f"
             ],
             [
              0.2222222222222222,
              "#7201a8"
             ],
             [
              0.3333333333333333,
              "#9c179e"
             ],
             [
              0.4444444444444444,
              "#bd3786"
             ],
             [
              0.5555555555555556,
              "#d8576b"
             ],
             [
              0.6666666666666666,
              "#ed7953"
             ],
             [
              0.7777777777777778,
              "#fb9f3a"
             ],
             [
              0.8888888888888888,
              "#fdca26"
             ],
             [
              1,
              "#f0f921"
             ]
            ],
            "type": "surface"
           }
          ],
          "table": [
           {
            "cells": {
             "fill": {
              "color": "#EBF0F8"
             },
             "line": {
              "color": "white"
             }
            },
            "header": {
             "fill": {
              "color": "#C8D4E3"
             },
             "line": {
              "color": "white"
             }
            },
            "type": "table"
           }
          ]
         },
         "layout": {
          "annotationdefaults": {
           "arrowcolor": "#2a3f5f",
           "arrowhead": 0,
           "arrowwidth": 1
          },
          "autotypenumbers": "strict",
          "coloraxis": {
           "colorbar": {
            "outlinewidth": 0,
            "ticks": ""
           }
          },
          "colorscale": {
           "diverging": [
            [
             0,
             "#8e0152"
            ],
            [
             0.1,
             "#c51b7d"
            ],
            [
             0.2,
             "#de77ae"
            ],
            [
             0.3,
             "#f1b6da"
            ],
            [
             0.4,
             "#fde0ef"
            ],
            [
             0.5,
             "#f7f7f7"
            ],
            [
             0.6,
             "#e6f5d0"
            ],
            [
             0.7,
             "#b8e186"
            ],
            [
             0.8,
             "#7fbc41"
            ],
            [
             0.9,
             "#4d9221"
            ],
            [
             1,
             "#276419"
            ]
           ],
           "sequential": [
            [
             0,
             "#0d0887"
            ],
            [
             0.1111111111111111,
             "#46039f"
            ],
            [
             0.2222222222222222,
             "#7201a8"
            ],
            [
             0.3333333333333333,
             "#9c179e"
            ],
            [
             0.4444444444444444,
             "#bd3786"
            ],
            [
             0.5555555555555556,
             "#d8576b"
            ],
            [
             0.6666666666666666,
             "#ed7953"
            ],
            [
             0.7777777777777778,
             "#fb9f3a"
            ],
            [
             0.8888888888888888,
             "#fdca26"
            ],
            [
             1,
             "#f0f921"
            ]
           ],
           "sequentialminus": [
            [
             0,
             "#0d0887"
            ],
            [
             0.1111111111111111,
             "#46039f"
            ],
            [
             0.2222222222222222,
             "#7201a8"
            ],
            [
             0.3333333333333333,
             "#9c179e"
            ],
            [
             0.4444444444444444,
             "#bd3786"
            ],
            [
             0.5555555555555556,
             "#d8576b"
            ],
            [
             0.6666666666666666,
             "#ed7953"
            ],
            [
             0.7777777777777778,
             "#fb9f3a"
            ],
            [
             0.8888888888888888,
             "#fdca26"
            ],
            [
             1,
             "#f0f921"
            ]
           ]
          },
          "colorway": [
           "#636efa",
           "#EF553B",
           "#00cc96",
           "#ab63fa",
           "#FFA15A",
           "#19d3f3",
           "#FF6692",
           "#B6E880",
           "#FF97FF",
           "#FECB52"
          ],
          "font": {
           "color": "#2a3f5f"
          },
          "geo": {
           "bgcolor": "white",
           "lakecolor": "white",
           "landcolor": "#E5ECF6",
           "showlakes": true,
           "showland": true,
           "subunitcolor": "white"
          },
          "hoverlabel": {
           "align": "left"
          },
          "hovermode": "closest",
          "mapbox": {
           "style": "light"
          },
          "paper_bgcolor": "white",
          "plot_bgcolor": "#E5ECF6",
          "polar": {
           "angularaxis": {
            "gridcolor": "white",
            "linecolor": "white",
            "ticks": ""
           },
           "bgcolor": "#E5ECF6",
           "radialaxis": {
            "gridcolor": "white",
            "linecolor": "white",
            "ticks": ""
           }
          },
          "scene": {
           "xaxis": {
            "backgroundcolor": "#E5ECF6",
            "gridcolor": "white",
            "gridwidth": 2,
            "linecolor": "white",
            "showbackground": true,
            "ticks": "",
            "zerolinecolor": "white"
           },
           "yaxis": {
            "backgroundcolor": "#E5ECF6",
            "gridcolor": "white",
            "gridwidth": 2,
            "linecolor": "white",
            "showbackground": true,
            "ticks": "",
            "zerolinecolor": "white"
           },
           "zaxis": {
            "backgroundcolor": "#E5ECF6",
            "gridcolor": "white",
            "gridwidth": 2,
            "linecolor": "white",
            "showbackground": true,
            "ticks": "",
            "zerolinecolor": "white"
           }
          },
          "shapedefaults": {
           "line": {
            "color": "#2a3f5f"
           }
          },
          "ternary": {
           "aaxis": {
            "gridcolor": "white",
            "linecolor": "white",
            "ticks": ""
           },
           "baxis": {
            "gridcolor": "white",
            "linecolor": "white",
            "ticks": ""
           },
           "bgcolor": "#E5ECF6",
           "caxis": {
            "gridcolor": "white",
            "linecolor": "white",
            "ticks": ""
           }
          },
          "title": {
           "x": 0.05
          },
          "xaxis": {
           "automargin": true,
           "gridcolor": "white",
           "linecolor": "white",
           "ticks": "",
           "title": {
            "standoff": 15
           },
           "zerolinecolor": "white",
           "zerolinewidth": 2
          },
          "yaxis": {
           "automargin": true,
           "gridcolor": "white",
           "linecolor": "white",
           "ticks": "",
           "title": {
            "standoff": 15
           },
           "zerolinecolor": "white",
           "zerolinewidth": 2
          }
         }
        },
        "title": {
         "text": "Overall Top 5 Movie Genres for Cold War Theme"
        },
        "width": 600
       }
      }
     },
     "metadata": {},
     "output_type": "display_data"
    }
   ],
   "source": [
    "plot_overall_top_genres(df_plot, theme, x=5)"
   ]
  },
  {
   "cell_type": "markdown",
   "id": "0f87a901",
   "metadata": {},
   "source": [
    "Top 5 movies genres:\n",
    "- Drama: Shows messy conflicts and personal struggles of that time\n",
    "- Action Adventure: Action, conflicts and tensions of that time\n",
    "- War\n",
    "- Thriller: Espionage, intrigues\n",
    "- Comedy: satire, dark-humor"
   ]
  },
  {
   "cell_type": "code",
   "execution_count": 6,
   "id": "81e93fc3",
   "metadata": {},
   "outputs": [
    {
     "data": {
      "application/vnd.plotly.v1+json": {
       "config": {
        "plotlyServerURL": "https://plot.ly"
       },
       "data": [
        {
         "marker": {
          "color": "rgba(194, 41, 74, 0.8)"
         },
         "name": "Action/Adventure",
         "type": "bar",
         "x": [
          1930,
          1940,
          1950,
          1960,
          1970,
          1980,
          1990,
          2000,
          2010
         ],
         "y": [
          0,
          0,
          25,
          11.904761904761903,
          18.421052631578945,
          20.588235294117645,
          17.647058823529413,
          12.790697674418606,
          16.666666666666664
         ]
        },
        {
         "marker": {
          "color": "rgba(223, 77, 75, 0.8)"
         },
         "name": "Biography",
         "type": "bar",
         "x": [
          1930,
          1940,
          1950,
          1960,
          1970,
          1980,
          1990,
          2000,
          2010
         ],
         "y": [
          12.5,
          0,
          0,
          0,
          0,
          8.823529411764707,
          0,
          0,
          0
         ]
        },
        {
         "marker": {
          "color": "rgba(244, 109, 67, 0.8)"
         },
         "name": "Black-and-white",
         "type": "bar",
         "x": [
          1930,
          1940,
          1950,
          1960,
          1970,
          1980,
          1990,
          2000,
          2010
         ],
         "y": [
          25,
          20,
          8.333333333333332,
          0,
          0,
          0,
          0,
          0,
          0
         ]
        },
        {
         "marker": {
          "color": "rgba(250, 152, 86, 0.8)"
         },
         "name": "Comedy",
         "type": "bar",
         "x": [
          1930,
          1940,
          1950,
          1960,
          1970,
          1980,
          1990,
          2000,
          2010
         ],
         "y": [
          0,
          0,
          8.333333333333332,
          19.047619047619047,
          13.157894736842104,
          0,
          17.647058823529413,
          10.465116279069768,
          16.666666666666664
         ]
        },
        {
         "marker": {
          "color": "rgba(253, 190, 110, 0.8)"
         },
         "name": "Drama",
         "type": "bar",
         "x": [
          1930,
          1940,
          1950,
          1960,
          1970,
          1980,
          1990,
          2000,
          2010
         ],
         "y": [
          31.25,
          24,
          41.66666666666667,
          33.33333333333333,
          39.473684210526315,
          41.17647058823529,
          35.294117647058826,
          40.69767441860465,
          27.77777777777778
         ]
        },
        {
         "marker": {
          "color": "rgba(254, 224, 139, 0.8)"
         },
         "name": "Historical",
         "type": "bar",
         "x": [
          1930,
          1940,
          1950,
          1960,
          1970,
          1980,
          1990,
          2000,
          2010
         ],
         "y": [
          0,
          0,
          0,
          0,
          0,
          0,
          0,
          0,
          16.666666666666664
         ]
        },
        {
         "marker": {
          "color": "rgba(254, 244, 173, 0.8)"
         },
         "name": "Political",
         "type": "bar",
         "x": [
          1930,
          1940,
          1950,
          1960,
          1970,
          1980,
          1990,
          2000,
          2010
         ],
         "y": [
          0,
          0,
          0,
          0,
          0,
          11.76470588235294,
          0,
          0,
          0
         ]
        },
        {
         "marker": {
          "color": "rgba(246, 251, 178, 0.8)"
         },
         "name": "Propaganda film",
         "type": "bar",
         "x": [
          1930,
          1940,
          1950,
          1960,
          1970,
          1980,
          1990,
          2000,
          2010
         ],
         "y": [
          12.5,
          16,
          0,
          0,
          0,
          0,
          0,
          0,
          0
         ]
        },
        {
         "marker": {
          "color": "rgba(230, 245, 152, 0.8)"
         },
         "name": "Romance",
         "type": "bar",
         "x": [
          1930,
          1940,
          1950,
          1960,
          1970,
          1980,
          1990,
          2000,
          2010
         ],
         "y": [
          18.75,
          0,
          0,
          0,
          0,
          0,
          0,
          0,
          0
         ]
        },
        {
         "marker": {
          "color": "rgba(190, 229, 160, 0.8)"
         },
         "name": "Science Fiction",
         "type": "bar",
         "x": [
          1930,
          1940,
          1950,
          1960,
          1970,
          1980,
          1990,
          2000,
          2010
         ],
         "y": [
          0,
          0,
          16.666666666666664,
          0,
          0,
          0,
          0,
          0,
          0
         ]
        },
        {
         "marker": {
          "color": "rgba(148, 212, 164, 0.8)"
         },
         "name": "Spy",
         "type": "bar",
         "x": [
          1930,
          1940,
          1950,
          1960,
          1970,
          1980,
          1990,
          2000,
          2010
         ],
         "y": [
          0,
          12,
          0,
          0,
          13.157894736842104,
          0,
          0,
          0,
          0
         ]
        },
        {
         "marker": {
          "color": "rgba(102, 194, 165, 0.8)"
         },
         "name": "Thriller",
         "type": "bar",
         "x": [
          1930,
          1940,
          1950,
          1960,
          1970,
          1980,
          1990,
          2000,
          2010
         ],
         "y": [
          0,
          0,
          0,
          0,
          0,
          17.647058823529413,
          13.23529411764706,
          18.6046511627907,
          22.22222222222222
         ]
        },
        {
         "marker": {
          "color": "rgba(67, 155, 181, 0.8)"
         },
         "name": "War",
         "type": "bar",
         "x": [
          1930,
          1940,
          1950,
          1960,
          1970,
          1980,
          1990,
          2000,
          2010
         ],
         "y": [
          0,
          28.000000000000004,
          0,
          23.809523809523807,
          15.789473684210526,
          0,
          0,
          0,
          0
         ]
        },
        {
         "marker": {
          "color": "rgba(64, 117, 180, 0.8)"
         },
         "name": "World",
         "type": "bar",
         "x": [
          1930,
          1940,
          1950,
          1960,
          1970,
          1980,
          1990,
          2000,
          2010
         ],
         "y": [
          0,
          0,
          0,
          11.904761904761903,
          0,
          0,
          16.176470588235293,
          17.441860465116278,
          0
         ]
        }
       ],
       "layout": {
        "barmode": "stack",
        "height": 600,
        "legend": {
         "title": {
          "text": "Genres"
         }
        },
        "template": {
         "data": {
          "bar": [
           {
            "error_x": {
             "color": "#2a3f5f"
            },
            "error_y": {
             "color": "#2a3f5f"
            },
            "marker": {
             "line": {
              "color": "white",
              "width": 0.5
             },
             "pattern": {
              "fillmode": "overlay",
              "size": 10,
              "solidity": 0.2
             }
            },
            "type": "bar"
           }
          ],
          "barpolar": [
           {
            "marker": {
             "line": {
              "color": "white",
              "width": 0.5
             },
             "pattern": {
              "fillmode": "overlay",
              "size": 10,
              "solidity": 0.2
             }
            },
            "type": "barpolar"
           }
          ],
          "carpet": [
           {
            "aaxis": {
             "endlinecolor": "#2a3f5f",
             "gridcolor": "#C8D4E3",
             "linecolor": "#C8D4E3",
             "minorgridcolor": "#C8D4E3",
             "startlinecolor": "#2a3f5f"
            },
            "baxis": {
             "endlinecolor": "#2a3f5f",
             "gridcolor": "#C8D4E3",
             "linecolor": "#C8D4E3",
             "minorgridcolor": "#C8D4E3",
             "startlinecolor": "#2a3f5f"
            },
            "type": "carpet"
           }
          ],
          "choropleth": [
           {
            "colorbar": {
             "outlinewidth": 0,
             "ticks": ""
            },
            "type": "choropleth"
           }
          ],
          "contour": [
           {
            "colorbar": {
             "outlinewidth": 0,
             "ticks": ""
            },
            "colorscale": [
             [
              0,
              "#0d0887"
             ],
             [
              0.1111111111111111,
              "#46039f"
             ],
             [
              0.2222222222222222,
              "#7201a8"
             ],
             [
              0.3333333333333333,
              "#9c179e"
             ],
             [
              0.4444444444444444,
              "#bd3786"
             ],
             [
              0.5555555555555556,
              "#d8576b"
             ],
             [
              0.6666666666666666,
              "#ed7953"
             ],
             [
              0.7777777777777778,
              "#fb9f3a"
             ],
             [
              0.8888888888888888,
              "#fdca26"
             ],
             [
              1,
              "#f0f921"
             ]
            ],
            "type": "contour"
           }
          ],
          "contourcarpet": [
           {
            "colorbar": {
             "outlinewidth": 0,
             "ticks": ""
            },
            "type": "contourcarpet"
           }
          ],
          "heatmap": [
           {
            "colorbar": {
             "outlinewidth": 0,
             "ticks": ""
            },
            "colorscale": [
             [
              0,
              "#0d0887"
             ],
             [
              0.1111111111111111,
              "#46039f"
             ],
             [
              0.2222222222222222,
              "#7201a8"
             ],
             [
              0.3333333333333333,
              "#9c179e"
             ],
             [
              0.4444444444444444,
              "#bd3786"
             ],
             [
              0.5555555555555556,
              "#d8576b"
             ],
             [
              0.6666666666666666,
              "#ed7953"
             ],
             [
              0.7777777777777778,
              "#fb9f3a"
             ],
             [
              0.8888888888888888,
              "#fdca26"
             ],
             [
              1,
              "#f0f921"
             ]
            ],
            "type": "heatmap"
           }
          ],
          "heatmapgl": [
           {
            "colorbar": {
             "outlinewidth": 0,
             "ticks": ""
            },
            "colorscale": [
             [
              0,
              "#0d0887"
             ],
             [
              0.1111111111111111,
              "#46039f"
             ],
             [
              0.2222222222222222,
              "#7201a8"
             ],
             [
              0.3333333333333333,
              "#9c179e"
             ],
             [
              0.4444444444444444,
              "#bd3786"
             ],
             [
              0.5555555555555556,
              "#d8576b"
             ],
             [
              0.6666666666666666,
              "#ed7953"
             ],
             [
              0.7777777777777778,
              "#fb9f3a"
             ],
             [
              0.8888888888888888,
              "#fdca26"
             ],
             [
              1,
              "#f0f921"
             ]
            ],
            "type": "heatmapgl"
           }
          ],
          "histogram": [
           {
            "marker": {
             "pattern": {
              "fillmode": "overlay",
              "size": 10,
              "solidity": 0.2
             }
            },
            "type": "histogram"
           }
          ],
          "histogram2d": [
           {
            "colorbar": {
             "outlinewidth": 0,
             "ticks": ""
            },
            "colorscale": [
             [
              0,
              "#0d0887"
             ],
             [
              0.1111111111111111,
              "#46039f"
             ],
             [
              0.2222222222222222,
              "#7201a8"
             ],
             [
              0.3333333333333333,
              "#9c179e"
             ],
             [
              0.4444444444444444,
              "#bd3786"
             ],
             [
              0.5555555555555556,
              "#d8576b"
             ],
             [
              0.6666666666666666,
              "#ed7953"
             ],
             [
              0.7777777777777778,
              "#fb9f3a"
             ],
             [
              0.8888888888888888,
              "#fdca26"
             ],
             [
              1,
              "#f0f921"
             ]
            ],
            "type": "histogram2d"
           }
          ],
          "histogram2dcontour": [
           {
            "colorbar": {
             "outlinewidth": 0,
             "ticks": ""
            },
            "colorscale": [
             [
              0,
              "#0d0887"
             ],
             [
              0.1111111111111111,
              "#46039f"
             ],
             [
              0.2222222222222222,
              "#7201a8"
             ],
             [
              0.3333333333333333,
              "#9c179e"
             ],
             [
              0.4444444444444444,
              "#bd3786"
             ],
             [
              0.5555555555555556,
              "#d8576b"
             ],
             [
              0.6666666666666666,
              "#ed7953"
             ],
             [
              0.7777777777777778,
              "#fb9f3a"
             ],
             [
              0.8888888888888888,
              "#fdca26"
             ],
             [
              1,
              "#f0f921"
             ]
            ],
            "type": "histogram2dcontour"
           }
          ],
          "mesh3d": [
           {
            "colorbar": {
             "outlinewidth": 0,
             "ticks": ""
            },
            "type": "mesh3d"
           }
          ],
          "parcoords": [
           {
            "line": {
             "colorbar": {
              "outlinewidth": 0,
              "ticks": ""
             }
            },
            "type": "parcoords"
           }
          ],
          "pie": [
           {
            "automargin": true,
            "type": "pie"
           }
          ],
          "scatter": [
           {
            "fillpattern": {
             "fillmode": "overlay",
             "size": 10,
             "solidity": 0.2
            },
            "type": "scatter"
           }
          ],
          "scatter3d": [
           {
            "line": {
             "colorbar": {
              "outlinewidth": 0,
              "ticks": ""
             }
            },
            "marker": {
             "colorbar": {
              "outlinewidth": 0,
              "ticks": ""
             }
            },
            "type": "scatter3d"
           }
          ],
          "scattercarpet": [
           {
            "marker": {
             "colorbar": {
              "outlinewidth": 0,
              "ticks": ""
             }
            },
            "type": "scattercarpet"
           }
          ],
          "scattergeo": [
           {
            "marker": {
             "colorbar": {
              "outlinewidth": 0,
              "ticks": ""
             }
            },
            "type": "scattergeo"
           }
          ],
          "scattergl": [
           {
            "marker": {
             "colorbar": {
              "outlinewidth": 0,
              "ticks": ""
             }
            },
            "type": "scattergl"
           }
          ],
          "scattermapbox": [
           {
            "marker": {
             "colorbar": {
              "outlinewidth": 0,
              "ticks": ""
             }
            },
            "type": "scattermapbox"
           }
          ],
          "scatterpolar": [
           {
            "marker": {
             "colorbar": {
              "outlinewidth": 0,
              "ticks": ""
             }
            },
            "type": "scatterpolar"
           }
          ],
          "scatterpolargl": [
           {
            "marker": {
             "colorbar": {
              "outlinewidth": 0,
              "ticks": ""
             }
            },
            "type": "scatterpolargl"
           }
          ],
          "scatterternary": [
           {
            "marker": {
             "colorbar": {
              "outlinewidth": 0,
              "ticks": ""
             }
            },
            "type": "scatterternary"
           }
          ],
          "surface": [
           {
            "colorbar": {
             "outlinewidth": 0,
             "ticks": ""
            },
            "colorscale": [
             [
              0,
              "#0d0887"
             ],
             [
              0.1111111111111111,
              "#46039f"
             ],
             [
              0.2222222222222222,
              "#7201a8"
             ],
             [
              0.3333333333333333,
              "#9c179e"
             ],
             [
              0.4444444444444444,
              "#bd3786"
             ],
             [
              0.5555555555555556,
              "#d8576b"
             ],
             [
              0.6666666666666666,
              "#ed7953"
             ],
             [
              0.7777777777777778,
              "#fb9f3a"
             ],
             [
              0.8888888888888888,
              "#fdca26"
             ],
             [
              1,
              "#f0f921"
             ]
            ],
            "type": "surface"
           }
          ],
          "table": [
           {
            "cells": {
             "fill": {
              "color": "#EBF0F8"
             },
             "line": {
              "color": "white"
             }
            },
            "header": {
             "fill": {
              "color": "#C8D4E3"
             },
             "line": {
              "color": "white"
             }
            },
            "type": "table"
           }
          ]
         },
         "layout": {
          "annotationdefaults": {
           "arrowcolor": "#2a3f5f",
           "arrowhead": 0,
           "arrowwidth": 1
          },
          "autotypenumbers": "strict",
          "coloraxis": {
           "colorbar": {
            "outlinewidth": 0,
            "ticks": ""
           }
          },
          "colorscale": {
           "diverging": [
            [
             0,
             "#8e0152"
            ],
            [
             0.1,
             "#c51b7d"
            ],
            [
             0.2,
             "#de77ae"
            ],
            [
             0.3,
             "#f1b6da"
            ],
            [
             0.4,
             "#fde0ef"
            ],
            [
             0.5,
             "#f7f7f7"
            ],
            [
             0.6,
             "#e6f5d0"
            ],
            [
             0.7,
             "#b8e186"
            ],
            [
             0.8,
             "#7fbc41"
            ],
            [
             0.9,
             "#4d9221"
            ],
            [
             1,
             "#276419"
            ]
           ],
           "sequential": [
            [
             0,
             "#0d0887"
            ],
            [
             0.1111111111111111,
             "#46039f"
            ],
            [
             0.2222222222222222,
             "#7201a8"
            ],
            [
             0.3333333333333333,
             "#9c179e"
            ],
            [
             0.4444444444444444,
             "#bd3786"
            ],
            [
             0.5555555555555556,
             "#d8576b"
            ],
            [
             0.6666666666666666,
             "#ed7953"
            ],
            [
             0.7777777777777778,
             "#fb9f3a"
            ],
            [
             0.8888888888888888,
             "#fdca26"
            ],
            [
             1,
             "#f0f921"
            ]
           ],
           "sequentialminus": [
            [
             0,
             "#0d0887"
            ],
            [
             0.1111111111111111,
             "#46039f"
            ],
            [
             0.2222222222222222,
             "#7201a8"
            ],
            [
             0.3333333333333333,
             "#9c179e"
            ],
            [
             0.4444444444444444,
             "#bd3786"
            ],
            [
             0.5555555555555556,
             "#d8576b"
            ],
            [
             0.6666666666666666,
             "#ed7953"
            ],
            [
             0.7777777777777778,
             "#fb9f3a"
            ],
            [
             0.8888888888888888,
             "#fdca26"
            ],
            [
             1,
             "#f0f921"
            ]
           ]
          },
          "colorway": [
           "#636efa",
           "#EF553B",
           "#00cc96",
           "#ab63fa",
           "#FFA15A",
           "#19d3f3",
           "#FF6692",
           "#B6E880",
           "#FF97FF",
           "#FECB52"
          ],
          "font": {
           "color": "#2a3f5f"
          },
          "geo": {
           "bgcolor": "white",
           "lakecolor": "white",
           "landcolor": "white",
           "showlakes": true,
           "showland": true,
           "subunitcolor": "#C8D4E3"
          },
          "hoverlabel": {
           "align": "left"
          },
          "hovermode": "closest",
          "mapbox": {
           "style": "light"
          },
          "paper_bgcolor": "white",
          "plot_bgcolor": "white",
          "polar": {
           "angularaxis": {
            "gridcolor": "#EBF0F8",
            "linecolor": "#EBF0F8",
            "ticks": ""
           },
           "bgcolor": "white",
           "radialaxis": {
            "gridcolor": "#EBF0F8",
            "linecolor": "#EBF0F8",
            "ticks": ""
           }
          },
          "scene": {
           "xaxis": {
            "backgroundcolor": "white",
            "gridcolor": "#DFE8F3",
            "gridwidth": 2,
            "linecolor": "#EBF0F8",
            "showbackground": true,
            "ticks": "",
            "zerolinecolor": "#EBF0F8"
           },
           "yaxis": {
            "backgroundcolor": "white",
            "gridcolor": "#DFE8F3",
            "gridwidth": 2,
            "linecolor": "#EBF0F8",
            "showbackground": true,
            "ticks": "",
            "zerolinecolor": "#EBF0F8"
           },
           "zaxis": {
            "backgroundcolor": "white",
            "gridcolor": "#DFE8F3",
            "gridwidth": 2,
            "linecolor": "#EBF0F8",
            "showbackground": true,
            "ticks": "",
            "zerolinecolor": "#EBF0F8"
           }
          },
          "shapedefaults": {
           "line": {
            "color": "#2a3f5f"
           }
          },
          "ternary": {
           "aaxis": {
            "gridcolor": "#DFE8F3",
            "linecolor": "#A2B1C6",
            "ticks": ""
           },
           "baxis": {
            "gridcolor": "#DFE8F3",
            "linecolor": "#A2B1C6",
            "ticks": ""
           },
           "bgcolor": "white",
           "caxis": {
            "gridcolor": "#DFE8F3",
            "linecolor": "#A2B1C6",
            "ticks": ""
           }
          },
          "title": {
           "x": 0.05
          },
          "xaxis": {
           "automargin": true,
           "gridcolor": "#EBF0F8",
           "linecolor": "#EBF0F8",
           "ticks": "",
           "title": {
            "standoff": 15
           },
           "zerolinecolor": "#EBF0F8",
           "zerolinewidth": 2
          },
          "yaxis": {
           "automargin": true,
           "gridcolor": "#EBF0F8",
           "linecolor": "#EBF0F8",
           "ticks": "",
           "title": {
            "standoff": 15
           },
           "zerolinecolor": "#EBF0F8",
           "zerolinewidth": 2
          }
         }
        },
        "title": {
         "text": "Top 5 Movie Genres By Decade for Cold War Theme"
        },
        "width": 900,
        "xaxis": {
         "title": {
          "text": "Decade"
         }
        },
        "yaxis": {
         "ticksuffix": "%",
         "title": {
          "text": "Percentage of Total Genres (%)"
         }
        }
       }
      }
     },
     "metadata": {},
     "output_type": "display_data"
    }
   ],
   "source": [
    "plot_top_genres_by_decade(df_plot, theme, x=5)"
   ]
  },
  {
   "cell_type": "markdown",
   "id": "0cc66ccc",
   "metadata": {},
   "source": [
    "### 1940s"
   ]
  },
  {
   "cell_type": "markdown",
   "id": "111fba3b",
   "metadata": {},
   "source": [
    "Interesting genres: War, Spy, Propaganda Film\n",
    "These reflected the global conflict of World War II, with War films capturing battles and heroism, Spy films diving into espionage and secret missions, and Propaganda films promoting national unity and ideological messages. These genres mirrored the intense political and social atmosphere of the decade."
   ]
  },
  {
   "cell_type": "markdown",
   "id": "a6e70697",
   "metadata": {},
   "source": [
    "### 1950s"
   ]
  },
  {
   "cell_type": "markdown",
   "id": "09bc58d6",
   "metadata": {},
   "source": [
    "Interesting genres: Science-Fiction, Action-Adventure. Science Fiction explored fears of nuclear technology and the unknown, reflecting Cold War anxieties about the future and space exploration. Action/Adventure brought excitement with  heroes and quests to symbolise thhe ideoological battles of the era."
   ]
  },
  {
   "cell_type": "markdown",
   "id": "7d9d2a8a",
   "metadata": {},
   "source": [
    "In the NYT dataset, we have 4466 news having the word \"nuclear\" during this period. "
   ]
  },
  {
   "cell_type": "markdown",
   "id": "45e9c807",
   "metadata": {},
   "source": [
    "### 1960s"
   ]
  },
  {
   "cell_type": "code",
   "execution_count": 7,
   "id": "281c69df",
   "metadata": {},
   "outputs": [
    {
     "name": "stdout",
     "output_type": "stream",
     "text": [
      "There are 26 movies related to Cold War with World themes\n",
      "The origin of the movies are: [\"['United States of America', 'Italy']\" \"['Japan']\" \"['Soviet Union']\"\n",
      " \"['United Kingdom']\" \"['German Democratic Republic']\"\n",
      " \"['France', 'Italy']\" \"['United States of America']\"\n",
      " \"['France', 'Yugoslavia', 'Italy']\" \"['Soviet Union', 'Russia']\"\n",
      " \"['Italy']\" \"['France']\" \"['South Korea']\"]\n"
     ]
    }
   ],
   "source": [
    "filtered_df = df_plot[df_plot['Grouped_genres'].apply(lambda genres: 'Comedy' in genres)]\n",
    "filtered_df = df_plot[df_plot['Decade'] == 1960]\n",
    "print(\"There are {} movies related to {} with World themes\".format(filtered_df.shape[0], theme))\n",
    "print(\"The origin of the movies are: {}\".format(filtered_df['Movie_countries'].unique()))\n",
    "filtered_df = filtered_df[['Decade', 'Movie_name', 'Plot_summary']].sort_values('Decade')\n",
    "filtered_df.to_csv('plot.csv', index=False)"
   ]
  },
  {
   "cell_type": "markdown",
   "id": "db269873",
   "metadata": {},
   "source": [
    "Interesting genres: Comedy, World. The World genre include a wide range of stories exploring global conflicts, historical events, and societal changes with main themes war and revolution, cold war and espionage and global perspectives. Comedy is used in a satire way to critique the societal norms It provides a lighter yet thought-provoking lens on pressing issues of the time"
   ]
  },
  {
   "cell_type": "markdown",
   "id": "762be224",
   "metadata": {},
   "source": [
    "### 1970s"
   ]
  },
  {
   "cell_type": "code",
   "execution_count": 8,
   "id": "cc40f8e4",
   "metadata": {},
   "outputs": [
    {
     "name": "stdout",
     "output_type": "stream",
     "text": [
      "There are 30 movies related to Cold War with World themes\n",
      "The origin of the movies are: [\"['Soviet Union']\" \"['United States of America', 'France']\"\n",
      " \"['United States of America', 'Ireland']\" '[]' \"['Hong Kong']\"\n",
      " \"['France']\" \"['France', 'Italy', 'Germany']\"\n",
      " \"['German Democratic Republic']\" \"['South Korea']\"\n",
      " \"['Soviet Union', 'Russia']\" \"['Italy']\"\n",
      " \"['United States of America', 'United Kingdom']\"\n",
      " \"['German Democratic Republic', 'Germany']\"\n",
      " \"['United States of America']\" \"['United Kingdom']\"\n",
      " \"['Hong Kong', 'Taiwan']\" \"['France', 'West Germany', 'Israel']\"\n",
      " \"['France', 'United States of America', 'United Kingdom']\"\n",
      " \"['France', 'Italy', 'United Kingdom']\"]\n"
     ]
    }
   ],
   "source": [
    "filtered_df = df_plot[df_plot['Grouped_genres'].apply(lambda genres: 'Spy' in genres)]\n",
    "filtered_df = df_plot[df_plot['Decade'] == 1970]\n",
    "print(\"There are {} movies related to {} with World themes\".format(filtered_df.shape[0], theme))\n",
    "print(\"The origin of the movies are: {}\".format(filtered_df['Movie_countries'].unique()))\n",
    "filtered_df = filtered_df[['Decade', 'Movie_name', 'Plot_summary']].sort_values('Decade')\n",
    "filtered_df.to_csv('plot.csv', index=False)"
   ]
  },
  {
   "cell_type": "markdown",
   "id": "83c4c648",
   "metadata": {},
   "source": [
    "Interesting genres: War, Spy. These are the main years of the cold war. The War genre here explores those main themes: resistance, cultural identity, psychological cost of war and oppression, espionage... The Spy genre ahs thems such as paranoia, espionage and the high-stakes of world secrets and technological competition that defined East-West tensions."
   ]
  },
  {
   "cell_type": "markdown",
   "id": "0999f673",
   "metadata": {},
   "source": [
    "There are 2432 news related to the word \"espionage\" or \"spy\""
   ]
  },
  {
   "cell_type": "markdown",
   "id": "7e7603df",
   "metadata": {},
   "source": [
    "### 1980s"
   ]
  },
  {
   "cell_type": "markdown",
   "id": "2c13d7e4",
   "metadata": {},
   "source": [
    "Interesting genres: Thriller, Political For the political genres, we can see American movies criticisng the Soviet through societal and political structures through allegory and personal stories. Also, we can find explorations of ideological conflicts, cultural divides, and individual struggles under oppressive system. For the thriller genres, we also see the paranoia through movies that have assassination attempts and shows the anxiety all oover the world."
   ]
  },
  {
   "cell_type": "markdown",
   "id": "ab2429be",
   "metadata": {},
   "source": []
  },
  {
   "cell_type": "code",
   "execution_count": 9,
   "id": "f5c578a1",
   "metadata": {},
   "outputs": [
    {
     "name": "stdout",
     "output_type": "stream",
     "text": [
      "There are 24 movies related to Cold War with  themes\n",
      "The origin of the movies are: [\"['France', 'Switzerland', 'Soviet Union', 'Spain']\" \"['Germany']\"\n",
      " \"['France', 'United Kingdom']\" \"['Soviet Union']\" \"['South Korea']\"\n",
      " \"['Russia']\" \"['United States of America']\" \"['Japan']\"\n",
      " \"['United States of America', 'Soviet Union']\"\n",
      " \"['United States of America', 'Hungary']\"\n",
      " \"['United States of America', 'South Africa']\" \"['India']\"\n",
      " \"['United States of America', 'Italy']\"]\n"
     ]
    }
   ],
   "source": [
    "filtered_df = df_plot[df_plot['Grouped_genres'].apply(lambda genres: 'Thriller' in genres)]\n",
    "filtered_df = df_plot[df_plot['Decade'] == 1980]\n",
    "print(\"There are {} movies related to {} with  themes\".format(filtered_df.shape[0], theme))\n",
    "print(\"The origin of the movies are: {}\".format(filtered_df['Movie_countries'].unique()))\n",
    "filtered_df = filtered_df[['Decade', 'Movie_name', 'Plot_summary']].sort_values('Decade')\n",
    "filtered_df.to_csv('plot.csv', index=False)"
   ]
  },
  {
   "cell_type": "markdown",
   "id": "595f4be9",
   "metadata": {},
   "source": [
    "### 1990s"
   ]
  },
  {
   "cell_type": "code",
   "execution_count": 10,
   "id": "06098a4d",
   "metadata": {},
   "outputs": [
    {
     "name": "stdout",
     "output_type": "stream",
     "text": [
      "There are 39 movies related to Cold War with  themes\n",
      "The origin of the movies are: [\"['Czech Republic']\" \"['Poland']\" \"['United States of America']\"\n",
      " \"['France']\"\n",
      " \"['Serbia and Montenegro', 'Bulgaria', 'France', 'Germany', 'Serbia', 'Hungary', 'Yugoslavia']\"\n",
      " \"['United States of America', 'Czechoslovakia', 'German Democratic Republic', 'Soviet Union']\"\n",
      " \"['United States of America', 'Croatia', 'United Kingdom']\"\n",
      " \"['Italy', 'Soviet Union']\" \"['United States of America', 'Russia']\"\n",
      " \"['France', 'Russia']\" \"['Russia', 'United Kingdom']\" \"['Russia']\"\n",
      " \"['Estonia']\" \"['United States of America', 'Hungary']\" '[]'\n",
      " \"['Germany']\" \"['United States of America', 'United Kingdom']\"\n",
      " \"['Poland', 'France', 'Germany']\"\n",
      " \"['United States of America', 'Finland', 'Estonia']\"\n",
      " \"['France', 'Yugoslavia']\" \"['United States of America', 'Slovenia']\"\n",
      " \"['Czech Republic', 'United Kingdom']\"\n",
      " \"['Switzerland', 'Austria', 'Hungary', 'Germany']\"\n",
      " \"['France', 'Spain', 'Ukraine', 'Bulgaria', 'Russia']\"\n",
      " \"['United States of America', 'Italy', 'Russia']\"]\n"
     ]
    }
   ],
   "source": [
    "filtered_df = df_plot[df_plot['Grouped_genres'].apply(lambda genres: 'World' in genres)]\n",
    "filtered_df = df_plot[df_plot['Decade'] == 1990]\n",
    "print(\"There are {} movies related to {} with  themes\".format(filtered_df.shape[0], theme))\n",
    "print(\"The origin of the movies are: {}\".format(filtered_df['Movie_countries'].unique()))\n",
    "filtered_df = filtered_df[['Decade', 'Movie_name', 'Plot_summary']].sort_values('Decade')\n",
    "filtered_df.to_csv('plot.csv', index=False)"
   ]
  },
  {
   "cell_type": "markdown",
   "id": "dc5259e4",
   "metadata": {},
   "source": [
    "Interesting genres: World. The world genre was dominated by narratives reflecting the geopolitical shifts following the Cold War, such as the dissolution of the Soviet Union, the Balkan wars, and post-communist transitions. We can also see the critiique of remaining ccommunist cvoruntries from the capitalists ones, "
   ]
  },
  {
   "cell_type": "markdown",
   "id": "827d99a1",
   "metadata": {},
   "source": [
    "### 2010s"
   ]
  },
  {
   "cell_type": "code",
   "execution_count": 11,
   "id": "3dc89b4e",
   "metadata": {},
   "outputs": [
    {
     "name": "stdout",
     "output_type": "stream",
     "text": [
      "There are 12 movies related to Cold War with  themes\n",
      "The origin of the movies are: ['[]' \"['United Kingdom']\" \"['France', 'Russia', 'Germany']\"\n",
      " \"['South Korea']\" \"['France']\" \"['Russia']\" \"['Poland']\" \"['India']\"\n",
      " \"['Norway']\"]\n"
     ]
    }
   ],
   "source": [
    "filtered_df = df_plot[df_plot['Grouped_genres'].apply(lambda genres: 'Historical' in genres)]\n",
    "filtered_df = df_plot[df_plot['Decade'] == 2010]\n",
    "print(\"There are {} movies related to {} with  themes\".format(filtered_df.shape[0], theme))\n",
    "print(\"The origin of the movies are: {}\".format(filtered_df['Movie_countries'].unique()))\n",
    "filtered_df = filtered_df[['Decade', 'Movie_name', 'Plot_summary']].sort_values('Decade')\n",
    "filtered_df.to_csv('plot.csv', index=False)"
   ]
  },
  {
   "cell_type": "markdown",
   "id": "ff1a7d68",
   "metadata": {},
   "source": [
    "Interesting genres: Historical. As the world moved further from the Cold War and the collapse of communism, filmmakers in post-Soviet and post-communist states revisited their histories with a new lens, often exploring themes of identity, transformation, and reconciliation. We see thus a lot of movies related to cold war, even if it's done. "
   ]
  },
  {
   "cell_type": "code",
   "execution_count": 12,
   "id": "68e59a9c",
   "metadata": {},
   "outputs": [
    {
     "data": {
      "application/vnd.plotly.v1+json": {
       "config": {
        "plotlyServerURL": "https://plot.ly"
       },
       "data": [
        {
         "coloraxis": "coloraxis",
         "geo": "geo",
         "hovertemplate": "<b>%{hovertext}</b><br><br>Country=%{location}<br>Movie_Count=%{z}<extra></extra>",
         "hovertext": [
          "Austria",
          "Azerbaijan",
          "Belgium",
          "Bosnia and Herzegovina",
          "Bulgaria",
          "Canada",
          "Chile",
          "China",
          "Croatia",
          "Czech Republic",
          "Czechoslovakia",
          "Estonia",
          "Finland",
          "France",
          "Georgian SSR",
          "German Democratic Republic",
          "Germany",
          "Hong Kong",
          "Hungary",
          "India",
          "Ireland",
          "Israel",
          "Italy",
          "Japan",
          "Mexico",
          "Nazi Germany",
          "Norway",
          "Peru",
          "Poland",
          "Romania",
          "Russia",
          "Serbia",
          "Serbia and Montenegro",
          "Slovenia",
          "South Africa",
          "South Korea",
          "Soviet Union",
          "Spain",
          "Switzerland",
          "Taiwan",
          "Turkey",
          "Ukraine",
          "United Kingdom",
          "United States of America",
          "Venezuela",
          "Weimar Republic",
          "West Germany",
          "Yugoslavia"
         ],
         "locationmode": "country names",
         "locations": [
          "Austria",
          "Azerbaijan",
          "Belgium",
          "Bosnia and Herzegovina",
          "Bulgaria",
          "Canada",
          "Chile",
          "China",
          "Croatia",
          "Czech Republic",
          "Czechoslovakia",
          "Estonia",
          "Finland",
          "France",
          "Georgian SSR",
          "German Democratic Republic",
          "Germany",
          "Hong Kong",
          "Hungary",
          "India",
          "Ireland",
          "Israel",
          "Italy",
          "Japan",
          "Mexico",
          "Nazi Germany",
          "Norway",
          "Peru",
          "Poland",
          "Romania",
          "Russia",
          "Serbia",
          "Serbia and Montenegro",
          "Slovenia",
          "South Africa",
          "South Korea",
          "Soviet Union",
          "Spain",
          "Switzerland",
          "Taiwan",
          "Turkey",
          "Ukraine",
          "United Kingdom",
          "United States of America",
          "Venezuela",
          "Weimar Republic",
          "West Germany",
          "Yugoslavia"
         ],
         "name": "",
         "type": "choropleth",
         "z": [
          1,
          1,
          1,
          1,
          4,
          3,
          1,
          1,
          2,
          7,
          1,
          4,
          1,
          26,
          1,
          7,
          21,
          2,
          8,
          3,
          1,
          1,
          14,
          4,
          1,
          1,
          1,
          1,
          5,
          1,
          29,
          3,
          1,
          3,
          1,
          9,
          41,
          3,
          2,
          1,
          2,
          2,
          22,
          57,
          1,
          1,
          1,
          4
         ]
        }
       ],
       "layout": {
        "coloraxis": {
         "colorbar": {
          "title": {
           "text": "Number of Movies"
          }
         },
         "colorscale": [
          [
           0,
           "#440154"
          ],
          [
           0.1111111111111111,
           "#482878"
          ],
          [
           0.2222222222222222,
           "#3e4989"
          ],
          [
           0.3333333333333333,
           "#31688e"
          ],
          [
           0.4444444444444444,
           "#26828e"
          ],
          [
           0.5555555555555556,
           "#1f9e89"
          ],
          [
           0.6666666666666666,
           "#35b779"
          ],
          [
           0.7777777777777778,
           "#6ece58"
          ],
          [
           0.8888888888888888,
           "#b5de2b"
          ],
          [
           1,
           "#fde725"
          ]
         ]
        },
        "geo": {
         "center": {},
         "domain": {
          "x": [
           0,
           1
          ],
          "y": [
           0,
           1
          ]
         },
         "projection": {
          "type": "natural earth"
         },
         "showcoastlines": true,
         "showframe": false
        },
        "legend": {
         "tracegroupgap": 0
        },
        "template": {
         "data": {
          "bar": [
           {
            "error_x": {
             "color": "#2a3f5f"
            },
            "error_y": {
             "color": "#2a3f5f"
            },
            "marker": {
             "line": {
              "color": "#E5ECF6",
              "width": 0.5
             },
             "pattern": {
              "fillmode": "overlay",
              "size": 10,
              "solidity": 0.2
             }
            },
            "type": "bar"
           }
          ],
          "barpolar": [
           {
            "marker": {
             "line": {
              "color": "#E5ECF6",
              "width": 0.5
             },
             "pattern": {
              "fillmode": "overlay",
              "size": 10,
              "solidity": 0.2
             }
            },
            "type": "barpolar"
           }
          ],
          "carpet": [
           {
            "aaxis": {
             "endlinecolor": "#2a3f5f",
             "gridcolor": "white",
             "linecolor": "white",
             "minorgridcolor": "white",
             "startlinecolor": "#2a3f5f"
            },
            "baxis": {
             "endlinecolor": "#2a3f5f",
             "gridcolor": "white",
             "linecolor": "white",
             "minorgridcolor": "white",
             "startlinecolor": "#2a3f5f"
            },
            "type": "carpet"
           }
          ],
          "choropleth": [
           {
            "colorbar": {
             "outlinewidth": 0,
             "ticks": ""
            },
            "type": "choropleth"
           }
          ],
          "contour": [
           {
            "colorbar": {
             "outlinewidth": 0,
             "ticks": ""
            },
            "colorscale": [
             [
              0,
              "#0d0887"
             ],
             [
              0.1111111111111111,
              "#46039f"
             ],
             [
              0.2222222222222222,
              "#7201a8"
             ],
             [
              0.3333333333333333,
              "#9c179e"
             ],
             [
              0.4444444444444444,
              "#bd3786"
             ],
             [
              0.5555555555555556,
              "#d8576b"
             ],
             [
              0.6666666666666666,
              "#ed7953"
             ],
             [
              0.7777777777777778,
              "#fb9f3a"
             ],
             [
              0.8888888888888888,
              "#fdca26"
             ],
             [
              1,
              "#f0f921"
             ]
            ],
            "type": "contour"
           }
          ],
          "contourcarpet": [
           {
            "colorbar": {
             "outlinewidth": 0,
             "ticks": ""
            },
            "type": "contourcarpet"
           }
          ],
          "heatmap": [
           {
            "colorbar": {
             "outlinewidth": 0,
             "ticks": ""
            },
            "colorscale": [
             [
              0,
              "#0d0887"
             ],
             [
              0.1111111111111111,
              "#46039f"
             ],
             [
              0.2222222222222222,
              "#7201a8"
             ],
             [
              0.3333333333333333,
              "#9c179e"
             ],
             [
              0.4444444444444444,
              "#bd3786"
             ],
             [
              0.5555555555555556,
              "#d8576b"
             ],
             [
              0.6666666666666666,
              "#ed7953"
             ],
             [
              0.7777777777777778,
              "#fb9f3a"
             ],
             [
              0.8888888888888888,
              "#fdca26"
             ],
             [
              1,
              "#f0f921"
             ]
            ],
            "type": "heatmap"
           }
          ],
          "heatmapgl": [
           {
            "colorbar": {
             "outlinewidth": 0,
             "ticks": ""
            },
            "colorscale": [
             [
              0,
              "#0d0887"
             ],
             [
              0.1111111111111111,
              "#46039f"
             ],
             [
              0.2222222222222222,
              "#7201a8"
             ],
             [
              0.3333333333333333,
              "#9c179e"
             ],
             [
              0.4444444444444444,
              "#bd3786"
             ],
             [
              0.5555555555555556,
              "#d8576b"
             ],
             [
              0.6666666666666666,
              "#ed7953"
             ],
             [
              0.7777777777777778,
              "#fb9f3a"
             ],
             [
              0.8888888888888888,
              "#fdca26"
             ],
             [
              1,
              "#f0f921"
             ]
            ],
            "type": "heatmapgl"
           }
          ],
          "histogram": [
           {
            "marker": {
             "pattern": {
              "fillmode": "overlay",
              "size": 10,
              "solidity": 0.2
             }
            },
            "type": "histogram"
           }
          ],
          "histogram2d": [
           {
            "colorbar": {
             "outlinewidth": 0,
             "ticks": ""
            },
            "colorscale": [
             [
              0,
              "#0d0887"
             ],
             [
              0.1111111111111111,
              "#46039f"
             ],
             [
              0.2222222222222222,
              "#7201a8"
             ],
             [
              0.3333333333333333,
              "#9c179e"
             ],
             [
              0.4444444444444444,
              "#bd3786"
             ],
             [
              0.5555555555555556,
              "#d8576b"
             ],
             [
              0.6666666666666666,
              "#ed7953"
             ],
             [
              0.7777777777777778,
              "#fb9f3a"
             ],
             [
              0.8888888888888888,
              "#fdca26"
             ],
             [
              1,
              "#f0f921"
             ]
            ],
            "type": "histogram2d"
           }
          ],
          "histogram2dcontour": [
           {
            "colorbar": {
             "outlinewidth": 0,
             "ticks": ""
            },
            "colorscale": [
             [
              0,
              "#0d0887"
             ],
             [
              0.1111111111111111,
              "#46039f"
             ],
             [
              0.2222222222222222,
              "#7201a8"
             ],
             [
              0.3333333333333333,
              "#9c179e"
             ],
             [
              0.4444444444444444,
              "#bd3786"
             ],
             [
              0.5555555555555556,
              "#d8576b"
             ],
             [
              0.6666666666666666,
              "#ed7953"
             ],
             [
              0.7777777777777778,
              "#fb9f3a"
             ],
             [
              0.8888888888888888,
              "#fdca26"
             ],
             [
              1,
              "#f0f921"
             ]
            ],
            "type": "histogram2dcontour"
           }
          ],
          "mesh3d": [
           {
            "colorbar": {
             "outlinewidth": 0,
             "ticks": ""
            },
            "type": "mesh3d"
           }
          ],
          "parcoords": [
           {
            "line": {
             "colorbar": {
              "outlinewidth": 0,
              "ticks": ""
             }
            },
            "type": "parcoords"
           }
          ],
          "pie": [
           {
            "automargin": true,
            "type": "pie"
           }
          ],
          "scatter": [
           {
            "fillpattern": {
             "fillmode": "overlay",
             "size": 10,
             "solidity": 0.2
            },
            "type": "scatter"
           }
          ],
          "scatter3d": [
           {
            "line": {
             "colorbar": {
              "outlinewidth": 0,
              "ticks": ""
             }
            },
            "marker": {
             "colorbar": {
              "outlinewidth": 0,
              "ticks": ""
             }
            },
            "type": "scatter3d"
           }
          ],
          "scattercarpet": [
           {
            "marker": {
             "colorbar": {
              "outlinewidth": 0,
              "ticks": ""
             }
            },
            "type": "scattercarpet"
           }
          ],
          "scattergeo": [
           {
            "marker": {
             "colorbar": {
              "outlinewidth": 0,
              "ticks": ""
             }
            },
            "type": "scattergeo"
           }
          ],
          "scattergl": [
           {
            "marker": {
             "colorbar": {
              "outlinewidth": 0,
              "ticks": ""
             }
            },
            "type": "scattergl"
           }
          ],
          "scattermapbox": [
           {
            "marker": {
             "colorbar": {
              "outlinewidth": 0,
              "ticks": ""
             }
            },
            "type": "scattermapbox"
           }
          ],
          "scatterpolar": [
           {
            "marker": {
             "colorbar": {
              "outlinewidth": 0,
              "ticks": ""
             }
            },
            "type": "scatterpolar"
           }
          ],
          "scatterpolargl": [
           {
            "marker": {
             "colorbar": {
              "outlinewidth": 0,
              "ticks": ""
             }
            },
            "type": "scatterpolargl"
           }
          ],
          "scatterternary": [
           {
            "marker": {
             "colorbar": {
              "outlinewidth": 0,
              "ticks": ""
             }
            },
            "type": "scatterternary"
           }
          ],
          "surface": [
           {
            "colorbar": {
             "outlinewidth": 0,
             "ticks": ""
            },
            "colorscale": [
             [
              0,
              "#0d0887"
             ],
             [
              0.1111111111111111,
              "#46039f"
             ],
             [
              0.2222222222222222,
              "#7201a8"
             ],
             [
              0.3333333333333333,
              "#9c179e"
             ],
             [
              0.4444444444444444,
              "#bd3786"
             ],
             [
              0.5555555555555556,
              "#d8576b"
             ],
             [
              0.6666666666666666,
              "#ed7953"
             ],
             [
              0.7777777777777778,
              "#fb9f3a"
             ],
             [
              0.8888888888888888,
              "#fdca26"
             ],
             [
              1,
              "#f0f921"
             ]
            ],
            "type": "surface"
           }
          ],
          "table": [
           {
            "cells": {
             "fill": {
              "color": "#EBF0F8"
             },
             "line": {
              "color": "white"
             }
            },
            "header": {
             "fill": {
              "color": "#C8D4E3"
             },
             "line": {
              "color": "white"
             }
            },
            "type": "table"
           }
          ]
         },
         "layout": {
          "annotationdefaults": {
           "arrowcolor": "#2a3f5f",
           "arrowhead": 0,
           "arrowwidth": 1
          },
          "autotypenumbers": "strict",
          "coloraxis": {
           "colorbar": {
            "outlinewidth": 0,
            "ticks": ""
           }
          },
          "colorscale": {
           "diverging": [
            [
             0,
             "#8e0152"
            ],
            [
             0.1,
             "#c51b7d"
            ],
            [
             0.2,
             "#de77ae"
            ],
            [
             0.3,
             "#f1b6da"
            ],
            [
             0.4,
             "#fde0ef"
            ],
            [
             0.5,
             "#f7f7f7"
            ],
            [
             0.6,
             "#e6f5d0"
            ],
            [
             0.7,
             "#b8e186"
            ],
            [
             0.8,
             "#7fbc41"
            ],
            [
             0.9,
             "#4d9221"
            ],
            [
             1,
             "#276419"
            ]
           ],
           "sequential": [
            [
             0,
             "#0d0887"
            ],
            [
             0.1111111111111111,
             "#46039f"
            ],
            [
             0.2222222222222222,
             "#7201a8"
            ],
            [
             0.3333333333333333,
             "#9c179e"
            ],
            [
             0.4444444444444444,
             "#bd3786"
            ],
            [
             0.5555555555555556,
             "#d8576b"
            ],
            [
             0.6666666666666666,
             "#ed7953"
            ],
            [
             0.7777777777777778,
             "#fb9f3a"
            ],
            [
             0.8888888888888888,
             "#fdca26"
            ],
            [
             1,
             "#f0f921"
            ]
           ],
           "sequentialminus": [
            [
             0,
             "#0d0887"
            ],
            [
             0.1111111111111111,
             "#46039f"
            ],
            [
             0.2222222222222222,
             "#7201a8"
            ],
            [
             0.3333333333333333,
             "#9c179e"
            ],
            [
             0.4444444444444444,
             "#bd3786"
            ],
            [
             0.5555555555555556,
             "#d8576b"
            ],
            [
             0.6666666666666666,
             "#ed7953"
            ],
            [
             0.7777777777777778,
             "#fb9f3a"
            ],
            [
             0.8888888888888888,
             "#fdca26"
            ],
            [
             1,
             "#f0f921"
            ]
           ]
          },
          "colorway": [
           "#636efa",
           "#EF553B",
           "#00cc96",
           "#ab63fa",
           "#FFA15A",
           "#19d3f3",
           "#FF6692",
           "#B6E880",
           "#FF97FF",
           "#FECB52"
          ],
          "font": {
           "color": "#2a3f5f"
          },
          "geo": {
           "bgcolor": "white",
           "lakecolor": "white",
           "landcolor": "#E5ECF6",
           "showlakes": true,
           "showland": true,
           "subunitcolor": "white"
          },
          "hoverlabel": {
           "align": "left"
          },
          "hovermode": "closest",
          "mapbox": {
           "style": "light"
          },
          "paper_bgcolor": "white",
          "plot_bgcolor": "#E5ECF6",
          "polar": {
           "angularaxis": {
            "gridcolor": "white",
            "linecolor": "white",
            "ticks": ""
           },
           "bgcolor": "#E5ECF6",
           "radialaxis": {
            "gridcolor": "white",
            "linecolor": "white",
            "ticks": ""
           }
          },
          "scene": {
           "xaxis": {
            "backgroundcolor": "#E5ECF6",
            "gridcolor": "white",
            "gridwidth": 2,
            "linecolor": "white",
            "showbackground": true,
            "ticks": "",
            "zerolinecolor": "white"
           },
           "yaxis": {
            "backgroundcolor": "#E5ECF6",
            "gridcolor": "white",
            "gridwidth": 2,
            "linecolor": "white",
            "showbackground": true,
            "ticks": "",
            "zerolinecolor": "white"
           },
           "zaxis": {
            "backgroundcolor": "#E5ECF6",
            "gridcolor": "white",
            "gridwidth": 2,
            "linecolor": "white",
            "showbackground": true,
            "ticks": "",
            "zerolinecolor": "white"
           }
          },
          "shapedefaults": {
           "line": {
            "color": "#2a3f5f"
           }
          },
          "ternary": {
           "aaxis": {
            "gridcolor": "white",
            "linecolor": "white",
            "ticks": ""
           },
           "baxis": {
            "gridcolor": "white",
            "linecolor": "white",
            "ticks": ""
           },
           "bgcolor": "#E5ECF6",
           "caxis": {
            "gridcolor": "white",
            "linecolor": "white",
            "ticks": ""
           }
          },
          "title": {
           "x": 0.05
          },
          "xaxis": {
           "automargin": true,
           "gridcolor": "white",
           "linecolor": "white",
           "ticks": "",
           "title": {
            "standoff": 15
           },
           "zerolinecolor": "white",
           "zerolinewidth": 2
          },
          "yaxis": {
           "automargin": true,
           "gridcolor": "white",
           "linecolor": "white",
           "ticks": "",
           "title": {
            "standoff": 15
           },
           "zerolinecolor": "white",
           "zerolinewidth": 2
          }
         }
        },
        "title": {
         "text": "Movies by Country for Theme: Cold War"
        }
       }
      }
     },
     "metadata": {},
     "output_type": "display_data"
    }
   ],
   "source": [
    "plot_movie_countries_world_map(df_plot, theme)"
   ]
  },
  {
   "cell_type": "markdown",
   "id": "d796c199",
   "metadata": {},
   "source": [
    "With no surprise, the main countries talking about Cold War are the US and USSR. "
   ]
  },
  {
   "cell_type": "markdown",
   "id": "9fe6568e",
   "metadata": {},
   "source": [
    "## 3. Emotions Analysis"
   ]
  },
  {
   "cell_type": "code",
   "execution_count": 13,
   "id": "8d345b46",
   "metadata": {},
   "outputs": [],
   "source": [
    "df_plot = create_emotions_column(df_plot)"
   ]
  },
  {
   "cell_type": "code",
   "execution_count": 14,
   "id": "a81930bf",
   "metadata": {},
   "outputs": [
    {
     "data": {
      "application/vnd.plotly.v1+json": {
       "config": {
        "plotlyServerURL": "https://plot.ly"
       },
       "data": [
        {
         "alignmentgroup": "True",
         "hovertemplate": "Emotion=%{x}<br>Count=%{text}<extra></extra>",
         "legendgroup": "trust",
         "marker": {
          "color": "rgb(95, 70, 144)",
          "pattern": {
           "shape": ""
          }
         },
         "name": "trust",
         "offsetgroup": "trust",
         "orientation": "v",
         "showlegend": true,
         "text": [
          1105
         ],
         "textposition": "auto",
         "type": "bar",
         "x": [
          "trust"
         ],
         "xaxis": "x",
         "y": [
          1105
         ],
         "yaxis": "y"
        },
        {
         "alignmentgroup": "True",
         "hovertemplate": "Emotion=%{x}<br>Count=%{text}<extra></extra>",
         "legendgroup": "anticipation",
         "marker": {
          "color": "rgb(29, 105, 150)",
          "pattern": {
           "shape": ""
          }
         },
         "name": "anticipation",
         "offsetgroup": "anticipation",
         "orientation": "v",
         "showlegend": true,
         "text": [
          867
         ],
         "textposition": "auto",
         "type": "bar",
         "x": [
          "anticipation"
         ],
         "xaxis": "x",
         "y": [
          867
         ],
         "yaxis": "y"
        },
        {
         "alignmentgroup": "True",
         "hovertemplate": "Emotion=%{x}<br>Count=%{text}<extra></extra>",
         "legendgroup": "positive",
         "marker": {
          "color": "rgb(56, 166, 165)",
          "pattern": {
           "shape": ""
          }
         },
         "name": "positive",
         "offsetgroup": "positive",
         "orientation": "v",
         "showlegend": true,
         "text": [
          1708
         ],
         "textposition": "auto",
         "type": "bar",
         "x": [
          "positive"
         ],
         "xaxis": "x",
         "y": [
          1708
         ],
         "yaxis": "y"
        },
        {
         "alignmentgroup": "True",
         "hovertemplate": "Emotion=%{x}<br>Count=%{text}<extra></extra>",
         "legendgroup": "joy",
         "marker": {
          "color": "rgb(15, 133, 84)",
          "pattern": {
           "shape": ""
          }
         },
         "name": "joy",
         "offsetgroup": "joy",
         "orientation": "v",
         "showlegend": true,
         "text": [
          606
         ],
         "textposition": "auto",
         "type": "bar",
         "x": [
          "joy"
         ],
         "xaxis": "x",
         "y": [
          606
         ],
         "yaxis": "y"
        },
        {
         "alignmentgroup": "True",
         "hovertemplate": "Emotion=%{x}<br>Count=%{text}<extra></extra>",
         "legendgroup": "negative",
         "marker": {
          "color": "rgb(115, 175, 72)",
          "pattern": {
           "shape": ""
          }
         },
         "name": "negative",
         "offsetgroup": "negative",
         "orientation": "v",
         "showlegend": true,
         "text": [
          1673
         ],
         "textposition": "auto",
         "type": "bar",
         "x": [
          "negative"
         ],
         "xaxis": "x",
         "y": [
          1673
         ],
         "yaxis": "y"
        },
        {
         "alignmentgroup": "True",
         "hovertemplate": "Emotion=%{x}<br>Count=%{text}<extra></extra>",
         "legendgroup": "anger",
         "marker": {
          "color": "rgb(237, 173, 8)",
          "pattern": {
           "shape": ""
          }
         },
         "name": "anger",
         "offsetgroup": "anger",
         "orientation": "v",
         "showlegend": true,
         "text": [
          859
         ],
         "textposition": "auto",
         "type": "bar",
         "x": [
          "anger"
         ],
         "xaxis": "x",
         "y": [
          859
         ],
         "yaxis": "y"
        },
        {
         "alignmentgroup": "True",
         "hovertemplate": "Emotion=%{x}<br>Count=%{text}<extra></extra>",
         "legendgroup": "fear",
         "marker": {
          "color": "rgb(225, 124, 5)",
          "pattern": {
           "shape": ""
          }
         },
         "name": "fear",
         "offsetgroup": "fear",
         "orientation": "v",
         "showlegend": true,
         "text": [
          1288
         ],
         "textposition": "auto",
         "type": "bar",
         "x": [
          "fear"
         ],
         "xaxis": "x",
         "y": [
          1288
         ],
         "yaxis": "y"
        },
        {
         "alignmentgroup": "True",
         "hovertemplate": "Emotion=%{x}<br>Count=%{text}<extra></extra>",
         "legendgroup": "surprise",
         "marker": {
          "color": "rgb(204, 80, 62)",
          "pattern": {
           "shape": ""
          }
         },
         "name": "surprise",
         "offsetgroup": "surprise",
         "orientation": "v",
         "showlegend": true,
         "text": [
          474
         ],
         "textposition": "auto",
         "type": "bar",
         "x": [
          "surprise"
         ],
         "xaxis": "x",
         "y": [
          474
         ],
         "yaxis": "y"
        },
        {
         "alignmentgroup": "True",
         "hovertemplate": "Emotion=%{x}<br>Count=%{text}<extra></extra>",
         "legendgroup": "disgust",
         "marker": {
          "color": "rgb(148, 52, 110)",
          "pattern": {
           "shape": ""
          }
         },
         "name": "disgust",
         "offsetgroup": "disgust",
         "orientation": "v",
         "showlegend": true,
         "text": [
          346
         ],
         "textposition": "auto",
         "type": "bar",
         "x": [
          "disgust"
         ],
         "xaxis": "x",
         "y": [
          346
         ],
         "yaxis": "y"
        },
        {
         "alignmentgroup": "True",
         "hovertemplate": "Emotion=%{x}<br>Count=%{text}<extra></extra>",
         "legendgroup": "sadness",
         "marker": {
          "color": "rgb(111, 64, 112)",
          "pattern": {
           "shape": ""
          }
         },
         "name": "sadness",
         "offsetgroup": "sadness",
         "orientation": "v",
         "showlegend": true,
         "text": [
          736
         ],
         "textposition": "auto",
         "type": "bar",
         "x": [
          "sadness"
         ],
         "xaxis": "x",
         "y": [
          736
         ],
         "yaxis": "y"
        }
       ],
       "layout": {
        "barmode": "relative",
        "legend": {
         "title": {
          "text": "Emotion"
         },
         "tracegroupgap": 0
        },
        "template": {
         "data": {
          "bar": [
           {
            "error_x": {
             "color": "#2a3f5f"
            },
            "error_y": {
             "color": "#2a3f5f"
            },
            "marker": {
             "line": {
              "color": "#E5ECF6",
              "width": 0.5
             },
             "pattern": {
              "fillmode": "overlay",
              "size": 10,
              "solidity": 0.2
             }
            },
            "type": "bar"
           }
          ],
          "barpolar": [
           {
            "marker": {
             "line": {
              "color": "#E5ECF6",
              "width": 0.5
             },
             "pattern": {
              "fillmode": "overlay",
              "size": 10,
              "solidity": 0.2
             }
            },
            "type": "barpolar"
           }
          ],
          "carpet": [
           {
            "aaxis": {
             "endlinecolor": "#2a3f5f",
             "gridcolor": "white",
             "linecolor": "white",
             "minorgridcolor": "white",
             "startlinecolor": "#2a3f5f"
            },
            "baxis": {
             "endlinecolor": "#2a3f5f",
             "gridcolor": "white",
             "linecolor": "white",
             "minorgridcolor": "white",
             "startlinecolor": "#2a3f5f"
            },
            "type": "carpet"
           }
          ],
          "choropleth": [
           {
            "colorbar": {
             "outlinewidth": 0,
             "ticks": ""
            },
            "type": "choropleth"
           }
          ],
          "contour": [
           {
            "colorbar": {
             "outlinewidth": 0,
             "ticks": ""
            },
            "colorscale": [
             [
              0,
              "#0d0887"
             ],
             [
              0.1111111111111111,
              "#46039f"
             ],
             [
              0.2222222222222222,
              "#7201a8"
             ],
             [
              0.3333333333333333,
              "#9c179e"
             ],
             [
              0.4444444444444444,
              "#bd3786"
             ],
             [
              0.5555555555555556,
              "#d8576b"
             ],
             [
              0.6666666666666666,
              "#ed7953"
             ],
             [
              0.7777777777777778,
              "#fb9f3a"
             ],
             [
              0.8888888888888888,
              "#fdca26"
             ],
             [
              1,
              "#f0f921"
             ]
            ],
            "type": "contour"
           }
          ],
          "contourcarpet": [
           {
            "colorbar": {
             "outlinewidth": 0,
             "ticks": ""
            },
            "type": "contourcarpet"
           }
          ],
          "heatmap": [
           {
            "colorbar": {
             "outlinewidth": 0,
             "ticks": ""
            },
            "colorscale": [
             [
              0,
              "#0d0887"
             ],
             [
              0.1111111111111111,
              "#46039f"
             ],
             [
              0.2222222222222222,
              "#7201a8"
             ],
             [
              0.3333333333333333,
              "#9c179e"
             ],
             [
              0.4444444444444444,
              "#bd3786"
             ],
             [
              0.5555555555555556,
              "#d8576b"
             ],
             [
              0.6666666666666666,
              "#ed7953"
             ],
             [
              0.7777777777777778,
              "#fb9f3a"
             ],
             [
              0.8888888888888888,
              "#fdca26"
             ],
             [
              1,
              "#f0f921"
             ]
            ],
            "type": "heatmap"
           }
          ],
          "heatmapgl": [
           {
            "colorbar": {
             "outlinewidth": 0,
             "ticks": ""
            },
            "colorscale": [
             [
              0,
              "#0d0887"
             ],
             [
              0.1111111111111111,
              "#46039f"
             ],
             [
              0.2222222222222222,
              "#7201a8"
             ],
             [
              0.3333333333333333,
              "#9c179e"
             ],
             [
              0.4444444444444444,
              "#bd3786"
             ],
             [
              0.5555555555555556,
              "#d8576b"
             ],
             [
              0.6666666666666666,
              "#ed7953"
             ],
             [
              0.7777777777777778,
              "#fb9f3a"
             ],
             [
              0.8888888888888888,
              "#fdca26"
             ],
             [
              1,
              "#f0f921"
             ]
            ],
            "type": "heatmapgl"
           }
          ],
          "histogram": [
           {
            "marker": {
             "pattern": {
              "fillmode": "overlay",
              "size": 10,
              "solidity": 0.2
             }
            },
            "type": "histogram"
           }
          ],
          "histogram2d": [
           {
            "colorbar": {
             "outlinewidth": 0,
             "ticks": ""
            },
            "colorscale": [
             [
              0,
              "#0d0887"
             ],
             [
              0.1111111111111111,
              "#46039f"
             ],
             [
              0.2222222222222222,
              "#7201a8"
             ],
             [
              0.3333333333333333,
              "#9c179e"
             ],
             [
              0.4444444444444444,
              "#bd3786"
             ],
             [
              0.5555555555555556,
              "#d8576b"
             ],
             [
              0.6666666666666666,
              "#ed7953"
             ],
             [
              0.7777777777777778,
              "#fb9f3a"
             ],
             [
              0.8888888888888888,
              "#fdca26"
             ],
             [
              1,
              "#f0f921"
             ]
            ],
            "type": "histogram2d"
           }
          ],
          "histogram2dcontour": [
           {
            "colorbar": {
             "outlinewidth": 0,
             "ticks": ""
            },
            "colorscale": [
             [
              0,
              "#0d0887"
             ],
             [
              0.1111111111111111,
              "#46039f"
             ],
             [
              0.2222222222222222,
              "#7201a8"
             ],
             [
              0.3333333333333333,
              "#9c179e"
             ],
             [
              0.4444444444444444,
              "#bd3786"
             ],
             [
              0.5555555555555556,
              "#d8576b"
             ],
             [
              0.6666666666666666,
              "#ed7953"
             ],
             [
              0.7777777777777778,
              "#fb9f3a"
             ],
             [
              0.8888888888888888,
              "#fdca26"
             ],
             [
              1,
              "#f0f921"
             ]
            ],
            "type": "histogram2dcontour"
           }
          ],
          "mesh3d": [
           {
            "colorbar": {
             "outlinewidth": 0,
             "ticks": ""
            },
            "type": "mesh3d"
           }
          ],
          "parcoords": [
           {
            "line": {
             "colorbar": {
              "outlinewidth": 0,
              "ticks": ""
             }
            },
            "type": "parcoords"
           }
          ],
          "pie": [
           {
            "automargin": true,
            "type": "pie"
           }
          ],
          "scatter": [
           {
            "fillpattern": {
             "fillmode": "overlay",
             "size": 10,
             "solidity": 0.2
            },
            "type": "scatter"
           }
          ],
          "scatter3d": [
           {
            "line": {
             "colorbar": {
              "outlinewidth": 0,
              "ticks": ""
             }
            },
            "marker": {
             "colorbar": {
              "outlinewidth": 0,
              "ticks": ""
             }
            },
            "type": "scatter3d"
           }
          ],
          "scattercarpet": [
           {
            "marker": {
             "colorbar": {
              "outlinewidth": 0,
              "ticks": ""
             }
            },
            "type": "scattercarpet"
           }
          ],
          "scattergeo": [
           {
            "marker": {
             "colorbar": {
              "outlinewidth": 0,
              "ticks": ""
             }
            },
            "type": "scattergeo"
           }
          ],
          "scattergl": [
           {
            "marker": {
             "colorbar": {
              "outlinewidth": 0,
              "ticks": ""
             }
            },
            "type": "scattergl"
           }
          ],
          "scattermapbox": [
           {
            "marker": {
             "colorbar": {
              "outlinewidth": 0,
              "ticks": ""
             }
            },
            "type": "scattermapbox"
           }
          ],
          "scatterpolar": [
           {
            "marker": {
             "colorbar": {
              "outlinewidth": 0,
              "ticks": ""
             }
            },
            "type": "scatterpolar"
           }
          ],
          "scatterpolargl": [
           {
            "marker": {
             "colorbar": {
              "outlinewidth": 0,
              "ticks": ""
             }
            },
            "type": "scatterpolargl"
           }
          ],
          "scatterternary": [
           {
            "marker": {
             "colorbar": {
              "outlinewidth": 0,
              "ticks": ""
             }
            },
            "type": "scatterternary"
           }
          ],
          "surface": [
           {
            "colorbar": {
             "outlinewidth": 0,
             "ticks": ""
            },
            "colorscale": [
             [
              0,
              "#0d0887"
             ],
             [
              0.1111111111111111,
              "#46039f"
             ],
             [
              0.2222222222222222,
              "#7201a8"
             ],
             [
              0.3333333333333333,
              "#9c179e"
             ],
             [
              0.4444444444444444,
              "#bd3786"
             ],
             [
              0.5555555555555556,
              "#d8576b"
             ],
             [
              0.6666666666666666,
              "#ed7953"
             ],
             [
              0.7777777777777778,
              "#fb9f3a"
             ],
             [
              0.8888888888888888,
              "#fdca26"
             ],
             [
              1,
              "#f0f921"
             ]
            ],
            "type": "surface"
           }
          ],
          "table": [
           {
            "cells": {
             "fill": {
              "color": "#EBF0F8"
             },
             "line": {
              "color": "white"
             }
            },
            "header": {
             "fill": {
              "color": "#C8D4E3"
             },
             "line": {
              "color": "white"
             }
            },
            "type": "table"
           }
          ]
         },
         "layout": {
          "annotationdefaults": {
           "arrowcolor": "#2a3f5f",
           "arrowhead": 0,
           "arrowwidth": 1
          },
          "autotypenumbers": "strict",
          "coloraxis": {
           "colorbar": {
            "outlinewidth": 0,
            "ticks": ""
           }
          },
          "colorscale": {
           "diverging": [
            [
             0,
             "#8e0152"
            ],
            [
             0.1,
             "#c51b7d"
            ],
            [
             0.2,
             "#de77ae"
            ],
            [
             0.3,
             "#f1b6da"
            ],
            [
             0.4,
             "#fde0ef"
            ],
            [
             0.5,
             "#f7f7f7"
            ],
            [
             0.6,
             "#e6f5d0"
            ],
            [
             0.7,
             "#b8e186"
            ],
            [
             0.8,
             "#7fbc41"
            ],
            [
             0.9,
             "#4d9221"
            ],
            [
             1,
             "#276419"
            ]
           ],
           "sequential": [
            [
             0,
             "#0d0887"
            ],
            [
             0.1111111111111111,
             "#46039f"
            ],
            [
             0.2222222222222222,
             "#7201a8"
            ],
            [
             0.3333333333333333,
             "#9c179e"
            ],
            [
             0.4444444444444444,
             "#bd3786"
            ],
            [
             0.5555555555555556,
             "#d8576b"
            ],
            [
             0.6666666666666666,
             "#ed7953"
            ],
            [
             0.7777777777777778,
             "#fb9f3a"
            ],
            [
             0.8888888888888888,
             "#fdca26"
            ],
            [
             1,
             "#f0f921"
            ]
           ],
           "sequentialminus": [
            [
             0,
             "#0d0887"
            ],
            [
             0.1111111111111111,
             "#46039f"
            ],
            [
             0.2222222222222222,
             "#7201a8"
            ],
            [
             0.3333333333333333,
             "#9c179e"
            ],
            [
             0.4444444444444444,
             "#bd3786"
            ],
            [
             0.5555555555555556,
             "#d8576b"
            ],
            [
             0.6666666666666666,
             "#ed7953"
            ],
            [
             0.7777777777777778,
             "#fb9f3a"
            ],
            [
             0.8888888888888888,
             "#fdca26"
            ],
            [
             1,
             "#f0f921"
            ]
           ]
          },
          "colorway": [
           "#636efa",
           "#EF553B",
           "#00cc96",
           "#ab63fa",
           "#FFA15A",
           "#19d3f3",
           "#FF6692",
           "#B6E880",
           "#FF97FF",
           "#FECB52"
          ],
          "font": {
           "color": "#2a3f5f"
          },
          "geo": {
           "bgcolor": "white",
           "lakecolor": "white",
           "landcolor": "#E5ECF6",
           "showlakes": true,
           "showland": true,
           "subunitcolor": "white"
          },
          "hoverlabel": {
           "align": "left"
          },
          "hovermode": "closest",
          "mapbox": {
           "style": "light"
          },
          "paper_bgcolor": "white",
          "plot_bgcolor": "#E5ECF6",
          "polar": {
           "angularaxis": {
            "gridcolor": "white",
            "linecolor": "white",
            "ticks": ""
           },
           "bgcolor": "#E5ECF6",
           "radialaxis": {
            "gridcolor": "white",
            "linecolor": "white",
            "ticks": ""
           }
          },
          "scene": {
           "xaxis": {
            "backgroundcolor": "#E5ECF6",
            "gridcolor": "white",
            "gridwidth": 2,
            "linecolor": "white",
            "showbackground": true,
            "ticks": "",
            "zerolinecolor": "white"
           },
           "yaxis": {
            "backgroundcolor": "#E5ECF6",
            "gridcolor": "white",
            "gridwidth": 2,
            "linecolor": "white",
            "showbackground": true,
            "ticks": "",
            "zerolinecolor": "white"
           },
           "zaxis": {
            "backgroundcolor": "#E5ECF6",
            "gridcolor": "white",
            "gridwidth": 2,
            "linecolor": "white",
            "showbackground": true,
            "ticks": "",
            "zerolinecolor": "white"
           }
          },
          "shapedefaults": {
           "line": {
            "color": "#2a3f5f"
           }
          },
          "ternary": {
           "aaxis": {
            "gridcolor": "white",
            "linecolor": "white",
            "ticks": ""
           },
           "baxis": {
            "gridcolor": "white",
            "linecolor": "white",
            "ticks": ""
           },
           "bgcolor": "#E5ECF6",
           "caxis": {
            "gridcolor": "white",
            "linecolor": "white",
            "ticks": ""
           }
          },
          "title": {
           "x": 0.05
          },
          "xaxis": {
           "automargin": true,
           "gridcolor": "white",
           "linecolor": "white",
           "ticks": "",
           "title": {
            "standoff": 15
           },
           "zerolinecolor": "white",
           "zerolinewidth": 2
          },
          "yaxis": {
           "automargin": true,
           "gridcolor": "white",
           "linecolor": "white",
           "ticks": "",
           "title": {
            "standoff": 15
           },
           "zerolinecolor": "white",
           "zerolinewidth": 2
          }
         }
        },
        "title": {
         "text": "Total Counts of Emotions Across Movies for Cold War Theme"
        },
        "xaxis": {
         "anchor": "y",
         "categoryarray": [
          "trust",
          "anticipation",
          "positive",
          "joy",
          "negative",
          "anger",
          "fear",
          "surprise",
          "disgust",
          "sadness"
         ],
         "categoryorder": "array",
         "domain": [
          0,
          1
         ],
         "title": {
          "text": "Emotion"
         }
        },
        "yaxis": {
         "anchor": "x",
         "domain": [
          0,
          1
         ],
         "title": {
          "text": "Total Count"
         }
        }
       }
      }
     },
     "metadata": {},
     "output_type": "display_data"
    }
   ],
   "source": [
    "plot_emotion_counts(df_plot, theme)"
   ]
  },
  {
   "cell_type": "code",
   "execution_count": 15,
   "id": "de28cb83",
   "metadata": {},
   "outputs": [
    {
     "data": {
      "application/vnd.plotly.v1+json": {
       "config": {
        "plotlyServerURL": "https://plot.ly"
       },
       "data": [
        {
         "hovertemplate": "Emotion=anger<br>Decade=%{x}<br>Normalized_Count=%{y}<extra></extra>",
         "legendgroup": "anger",
         "line": {
          "color": "rgb(95, 70, 144)",
          "dash": "solid"
         },
         "marker": {
          "symbol": "circle"
         },
         "mode": "lines+markers",
         "name": "anger",
         "orientation": "v",
         "showlegend": true,
         "type": "scatter",
         "x": [
          1930,
          1940,
          1950,
          1960,
          1970,
          1980,
          1990,
          2000,
          2010
         ],
         "xaxis": "x",
         "y": [
          0.10144927536231885,
          0.09106830122591944,
          0.08602150537634409,
          0.10493827160493827,
          0.08074935400516796,
          0.08721624850657109,
          0.0923149015932521,
          0.08614501076812635,
          0.08571428571428572
         ],
         "yaxis": "y"
        },
        {
         "hovertemplate": "Emotion=anticipation<br>Decade=%{x}<br>Normalized_Count=%{y}<extra></extra>",
         "legendgroup": "anticipation",
         "line": {
          "color": "rgb(29, 105, 150)",
          "dash": "solid"
         },
         "marker": {
          "symbol": "circle"
         },
         "mode": "lines+markers",
         "name": "anticipation",
         "orientation": "v",
         "showlegend": true,
         "type": "scatter",
         "x": [
          1930,
          1940,
          1950,
          1960,
          1970,
          1980,
          1990,
          2000,
          2010
         ],
         "xaxis": "x",
         "y": [
          0.09178743961352658,
          0.10507880910683012,
          0.08243727598566308,
          0.08641975308641975,
          0.09560723514211886,
          0.1003584229390681,
          0.08575445173383317,
          0.08255563531945441,
          0.10204081632653061
         ],
         "yaxis": "y"
        },
        {
         "hovertemplate": "Emotion=disgust<br>Decade=%{x}<br>Normalized_Count=%{y}<extra></extra>",
         "legendgroup": "disgust",
         "line": {
          "color": "rgb(56, 166, 165)",
          "dash": "solid"
         },
         "marker": {
          "symbol": "circle"
         },
         "mode": "lines+markers",
         "name": "disgust",
         "orientation": "v",
         "showlegend": true,
         "type": "scatter",
         "x": [
          1930,
          1940,
          1950,
          1960,
          1970,
          1980,
          1990,
          2000,
          2010
         ],
         "xaxis": "x",
         "y": [
          0.03864734299516908,
          0.028021015761821366,
          0.043010752688172046,
          0.03209876543209877,
          0.034237726098191215,
          0.043010752688172046,
          0.037019681349578254,
          0.03625269203158651,
          0.030612244897959183
         ],
         "yaxis": "y"
        },
        {
         "hovertemplate": "Emotion=fear<br>Decade=%{x}<br>Normalized_Count=%{y}<extra></extra>",
         "legendgroup": "fear",
         "line": {
          "color": "rgb(15, 133, 84)",
          "dash": "solid"
         },
         "marker": {
          "symbol": "circle"
         },
         "mode": "lines+markers",
         "name": "fear",
         "orientation": "v",
         "showlegend": true,
         "type": "scatter",
         "x": [
          1930,
          1940,
          1950,
          1960,
          1970,
          1980,
          1990,
          2000,
          2010
         ],
         "xaxis": "x",
         "y": [
          0.14009661835748793,
          0.1330998248686515,
          0.15412186379928317,
          0.1654320987654321,
          0.12726098191214472,
          0.12305854241338113,
          0.12136832239925023,
          0.14321608040201006,
          0.09795918367346938
         ],
         "yaxis": "y"
        },
        {
         "hovertemplate": "Emotion=joy<br>Decade=%{x}<br>Normalized_Count=%{y}<extra></extra>",
         "legendgroup": "joy",
         "line": {
          "color": "rgb(115, 175, 72)",
          "dash": "solid"
         },
         "marker": {
          "symbol": "circle"
         },
         "mode": "lines+markers",
         "name": "joy",
         "orientation": "v",
         "showlegend": true,
         "type": "scatter",
         "x": [
          1930,
          1940,
          1950,
          1960,
          1970,
          1980,
          1990,
          2000,
          2010
         ],
         "xaxis": "x",
         "y": [
          0.07246376811594203,
          0.07530647985989491,
          0.05734767025089606,
          0.05555555555555555,
          0.060077519379844964,
          0.06332138590203107,
          0.06654170571696345,
          0.054917444364680545,
          0.09387755102040816
         ],
         "yaxis": "y"
        },
        {
         "hovertemplate": "Emotion=negative<br>Decade=%{x}<br>Normalized_Count=%{y}<extra></extra>",
         "legendgroup": "negative",
         "line": {
          "color": "rgb(237, 173, 8)",
          "dash": "solid"
         },
         "marker": {
          "symbol": "circle"
         },
         "mode": "lines+markers",
         "name": "negative",
         "orientation": "v",
         "showlegend": true,
         "type": "scatter",
         "x": [
          1930,
          1940,
          1950,
          1960,
          1970,
          1980,
          1990,
          2000,
          2010
         ],
         "xaxis": "x",
         "y": [
          0.17391304347826086,
          0.15061295971978983,
          0.16845878136200718,
          0.18888888888888888,
          0.16731266149870802,
          0.17801672640382318,
          0.1850984067478913,
          0.17264895908111988,
          0.13673469387755102
         ],
         "yaxis": "y"
        },
        {
         "hovertemplate": "Emotion=positive<br>Decade=%{x}<br>Normalized_Count=%{y}<extra></extra>",
         "legendgroup": "positive",
         "line": {
          "color": "rgb(225, 124, 5)",
          "dash": "solid"
         },
         "marker": {
          "symbol": "circle"
         },
         "mode": "lines+markers",
         "name": "positive",
         "orientation": "v",
         "showlegend": true,
         "type": "scatter",
         "x": [
          1930,
          1940,
          1950,
          1960,
          1970,
          1980,
          1990,
          2000,
          2010
         ],
         "xaxis": "x",
         "y": [
          0.19806763285024154,
          0.18739054290718038,
          0.17921146953405018,
          0.15432098765432098,
          0.18023255813953487,
          0.17801672640382318,
          0.1733833177132146,
          0.17587939698492464,
          0.19795918367346937
         ],
         "yaxis": "y"
        },
        {
         "hovertemplate": "Emotion=sadness<br>Decade=%{x}<br>Normalized_Count=%{y}<extra></extra>",
         "legendgroup": "sadness",
         "line": {
          "color": "rgb(204, 80, 62)",
          "dash": "solid"
         },
         "marker": {
          "symbol": "circle"
         },
         "mode": "lines+markers",
         "name": "sadness",
         "orientation": "v",
         "showlegend": true,
         "type": "scatter",
         "x": [
          1930,
          1940,
          1950,
          1960,
          1970,
          1980,
          1990,
          2000,
          2010
         ],
         "xaxis": "x",
         "y": [
          0.07246376811594203,
          0.07355516637478109,
          0.08243727598566308,
          0.07407407407407407,
          0.082687338501292,
          0.07526881720430108,
          0.07825679475164012,
          0.07501794687724336,
          0.05918367346938776
         ],
         "yaxis": "y"
        },
        {
         "hovertemplate": "Emotion=surprise<br>Decade=%{x}<br>Normalized_Count=%{y}<extra></extra>",
         "legendgroup": "surprise",
         "line": {
          "color": "rgb(148, 52, 110)",
          "dash": "solid"
         },
         "marker": {
          "symbol": "circle"
         },
         "mode": "lines+markers",
         "name": "surprise",
         "orientation": "v",
         "showlegend": true,
         "type": "scatter",
         "x": [
          1930,
          1940,
          1950,
          1960,
          1970,
          1980,
          1990,
          2000,
          2010
         ],
         "xaxis": "x",
         "y": [
          0.033816425120772944,
          0.04553415061295972,
          0.03942652329749104,
          0.0345679012345679,
          0.0562015503875969,
          0.04062126642771804,
          0.05154639175257732,
          0.05168700646087581,
          0.05510204081632653
         ],
         "yaxis": "y"
        },
        {
         "hovertemplate": "Emotion=trust<br>Decade=%{x}<br>Normalized_Count=%{y}<extra></extra>",
         "legendgroup": "trust",
         "line": {
          "color": "rgb(111, 64, 112)",
          "dash": "solid"
         },
         "marker": {
          "symbol": "circle"
         },
         "mode": "lines+markers",
         "name": "trust",
         "orientation": "v",
         "showlegend": true,
         "type": "scatter",
         "x": [
          1930,
          1940,
          1950,
          1960,
          1970,
          1980,
          1990,
          2000,
          2010
         ],
         "xaxis": "x",
         "y": [
          0.07729468599033816,
          0.11033274956217162,
          0.10752688172043011,
          0.1037037037037037,
          0.11563307493540052,
          0.1111111111111111,
          0.10871602624179943,
          0.12167982770997847,
          0.14081632653061224
         ],
         "yaxis": "y"
        }
       ],
       "layout": {
        "legend": {
         "title": {
          "text": "Emotion"
         },
         "tracegroupgap": 0
        },
        "template": {
         "data": {
          "bar": [
           {
            "error_x": {
             "color": "#2a3f5f"
            },
            "error_y": {
             "color": "#2a3f5f"
            },
            "marker": {
             "line": {
              "color": "#E5ECF6",
              "width": 0.5
             },
             "pattern": {
              "fillmode": "overlay",
              "size": 10,
              "solidity": 0.2
             }
            },
            "type": "bar"
           }
          ],
          "barpolar": [
           {
            "marker": {
             "line": {
              "color": "#E5ECF6",
              "width": 0.5
             },
             "pattern": {
              "fillmode": "overlay",
              "size": 10,
              "solidity": 0.2
             }
            },
            "type": "barpolar"
           }
          ],
          "carpet": [
           {
            "aaxis": {
             "endlinecolor": "#2a3f5f",
             "gridcolor": "white",
             "linecolor": "white",
             "minorgridcolor": "white",
             "startlinecolor": "#2a3f5f"
            },
            "baxis": {
             "endlinecolor": "#2a3f5f",
             "gridcolor": "white",
             "linecolor": "white",
             "minorgridcolor": "white",
             "startlinecolor": "#2a3f5f"
            },
            "type": "carpet"
           }
          ],
          "choropleth": [
           {
            "colorbar": {
             "outlinewidth": 0,
             "ticks": ""
            },
            "type": "choropleth"
           }
          ],
          "contour": [
           {
            "colorbar": {
             "outlinewidth": 0,
             "ticks": ""
            },
            "colorscale": [
             [
              0,
              "#0d0887"
             ],
             [
              0.1111111111111111,
              "#46039f"
             ],
             [
              0.2222222222222222,
              "#7201a8"
             ],
             [
              0.3333333333333333,
              "#9c179e"
             ],
             [
              0.4444444444444444,
              "#bd3786"
             ],
             [
              0.5555555555555556,
              "#d8576b"
             ],
             [
              0.6666666666666666,
              "#ed7953"
             ],
             [
              0.7777777777777778,
              "#fb9f3a"
             ],
             [
              0.8888888888888888,
              "#fdca26"
             ],
             [
              1,
              "#f0f921"
             ]
            ],
            "type": "contour"
           }
          ],
          "contourcarpet": [
           {
            "colorbar": {
             "outlinewidth": 0,
             "ticks": ""
            },
            "type": "contourcarpet"
           }
          ],
          "heatmap": [
           {
            "colorbar": {
             "outlinewidth": 0,
             "ticks": ""
            },
            "colorscale": [
             [
              0,
              "#0d0887"
             ],
             [
              0.1111111111111111,
              "#46039f"
             ],
             [
              0.2222222222222222,
              "#7201a8"
             ],
             [
              0.3333333333333333,
              "#9c179e"
             ],
             [
              0.4444444444444444,
              "#bd3786"
             ],
             [
              0.5555555555555556,
              "#d8576b"
             ],
             [
              0.6666666666666666,
              "#ed7953"
             ],
             [
              0.7777777777777778,
              "#fb9f3a"
             ],
             [
              0.8888888888888888,
              "#fdca26"
             ],
             [
              1,
              "#f0f921"
             ]
            ],
            "type": "heatmap"
           }
          ],
          "heatmapgl": [
           {
            "colorbar": {
             "outlinewidth": 0,
             "ticks": ""
            },
            "colorscale": [
             [
              0,
              "#0d0887"
             ],
             [
              0.1111111111111111,
              "#46039f"
             ],
             [
              0.2222222222222222,
              "#7201a8"
             ],
             [
              0.3333333333333333,
              "#9c179e"
             ],
             [
              0.4444444444444444,
              "#bd3786"
             ],
             [
              0.5555555555555556,
              "#d8576b"
             ],
             [
              0.6666666666666666,
              "#ed7953"
             ],
             [
              0.7777777777777778,
              "#fb9f3a"
             ],
             [
              0.8888888888888888,
              "#fdca26"
             ],
             [
              1,
              "#f0f921"
             ]
            ],
            "type": "heatmapgl"
           }
          ],
          "histogram": [
           {
            "marker": {
             "pattern": {
              "fillmode": "overlay",
              "size": 10,
              "solidity": 0.2
             }
            },
            "type": "histogram"
           }
          ],
          "histogram2d": [
           {
            "colorbar": {
             "outlinewidth": 0,
             "ticks": ""
            },
            "colorscale": [
             [
              0,
              "#0d0887"
             ],
             [
              0.1111111111111111,
              "#46039f"
             ],
             [
              0.2222222222222222,
              "#7201a8"
             ],
             [
              0.3333333333333333,
              "#9c179e"
             ],
             [
              0.4444444444444444,
              "#bd3786"
             ],
             [
              0.5555555555555556,
              "#d8576b"
             ],
             [
              0.6666666666666666,
              "#ed7953"
             ],
             [
              0.7777777777777778,
              "#fb9f3a"
             ],
             [
              0.8888888888888888,
              "#fdca26"
             ],
             [
              1,
              "#f0f921"
             ]
            ],
            "type": "histogram2d"
           }
          ],
          "histogram2dcontour": [
           {
            "colorbar": {
             "outlinewidth": 0,
             "ticks": ""
            },
            "colorscale": [
             [
              0,
              "#0d0887"
             ],
             [
              0.1111111111111111,
              "#46039f"
             ],
             [
              0.2222222222222222,
              "#7201a8"
             ],
             [
              0.3333333333333333,
              "#9c179e"
             ],
             [
              0.4444444444444444,
              "#bd3786"
             ],
             [
              0.5555555555555556,
              "#d8576b"
             ],
             [
              0.6666666666666666,
              "#ed7953"
             ],
             [
              0.7777777777777778,
              "#fb9f3a"
             ],
             [
              0.8888888888888888,
              "#fdca26"
             ],
             [
              1,
              "#f0f921"
             ]
            ],
            "type": "histogram2dcontour"
           }
          ],
          "mesh3d": [
           {
            "colorbar": {
             "outlinewidth": 0,
             "ticks": ""
            },
            "type": "mesh3d"
           }
          ],
          "parcoords": [
           {
            "line": {
             "colorbar": {
              "outlinewidth": 0,
              "ticks": ""
             }
            },
            "type": "parcoords"
           }
          ],
          "pie": [
           {
            "automargin": true,
            "type": "pie"
           }
          ],
          "scatter": [
           {
            "fillpattern": {
             "fillmode": "overlay",
             "size": 10,
             "solidity": 0.2
            },
            "type": "scatter"
           }
          ],
          "scatter3d": [
           {
            "line": {
             "colorbar": {
              "outlinewidth": 0,
              "ticks": ""
             }
            },
            "marker": {
             "colorbar": {
              "outlinewidth": 0,
              "ticks": ""
             }
            },
            "type": "scatter3d"
           }
          ],
          "scattercarpet": [
           {
            "marker": {
             "colorbar": {
              "outlinewidth": 0,
              "ticks": ""
             }
            },
            "type": "scattercarpet"
           }
          ],
          "scattergeo": [
           {
            "marker": {
             "colorbar": {
              "outlinewidth": 0,
              "ticks": ""
             }
            },
            "type": "scattergeo"
           }
          ],
          "scattergl": [
           {
            "marker": {
             "colorbar": {
              "outlinewidth": 0,
              "ticks": ""
             }
            },
            "type": "scattergl"
           }
          ],
          "scattermapbox": [
           {
            "marker": {
             "colorbar": {
              "outlinewidth": 0,
              "ticks": ""
             }
            },
            "type": "scattermapbox"
           }
          ],
          "scatterpolar": [
           {
            "marker": {
             "colorbar": {
              "outlinewidth": 0,
              "ticks": ""
             }
            },
            "type": "scatterpolar"
           }
          ],
          "scatterpolargl": [
           {
            "marker": {
             "colorbar": {
              "outlinewidth": 0,
              "ticks": ""
             }
            },
            "type": "scatterpolargl"
           }
          ],
          "scatterternary": [
           {
            "marker": {
             "colorbar": {
              "outlinewidth": 0,
              "ticks": ""
             }
            },
            "type": "scatterternary"
           }
          ],
          "surface": [
           {
            "colorbar": {
             "outlinewidth": 0,
             "ticks": ""
            },
            "colorscale": [
             [
              0,
              "#0d0887"
             ],
             [
              0.1111111111111111,
              "#46039f"
             ],
             [
              0.2222222222222222,
              "#7201a8"
             ],
             [
              0.3333333333333333,
              "#9c179e"
             ],
             [
              0.4444444444444444,
              "#bd3786"
             ],
             [
              0.5555555555555556,
              "#d8576b"
             ],
             [
              0.6666666666666666,
              "#ed7953"
             ],
             [
              0.7777777777777778,
              "#fb9f3a"
             ],
             [
              0.8888888888888888,
              "#fdca26"
             ],
             [
              1,
              "#f0f921"
             ]
            ],
            "type": "surface"
           }
          ],
          "table": [
           {
            "cells": {
             "fill": {
              "color": "#EBF0F8"
             },
             "line": {
              "color": "white"
             }
            },
            "header": {
             "fill": {
              "color": "#C8D4E3"
             },
             "line": {
              "color": "white"
             }
            },
            "type": "table"
           }
          ]
         },
         "layout": {
          "annotationdefaults": {
           "arrowcolor": "#2a3f5f",
           "arrowhead": 0,
           "arrowwidth": 1
          },
          "autotypenumbers": "strict",
          "coloraxis": {
           "colorbar": {
            "outlinewidth": 0,
            "ticks": ""
           }
          },
          "colorscale": {
           "diverging": [
            [
             0,
             "#8e0152"
            ],
            [
             0.1,
             "#c51b7d"
            ],
            [
             0.2,
             "#de77ae"
            ],
            [
             0.3,
             "#f1b6da"
            ],
            [
             0.4,
             "#fde0ef"
            ],
            [
             0.5,
             "#f7f7f7"
            ],
            [
             0.6,
             "#e6f5d0"
            ],
            [
             0.7,
             "#b8e186"
            ],
            [
             0.8,
             "#7fbc41"
            ],
            [
             0.9,
             "#4d9221"
            ],
            [
             1,
             "#276419"
            ]
           ],
           "sequential": [
            [
             0,
             "#0d0887"
            ],
            [
             0.1111111111111111,
             "#46039f"
            ],
            [
             0.2222222222222222,
             "#7201a8"
            ],
            [
             0.3333333333333333,
             "#9c179e"
            ],
            [
             0.4444444444444444,
             "#bd3786"
            ],
            [
             0.5555555555555556,
             "#d8576b"
            ],
            [
             0.6666666666666666,
             "#ed7953"
            ],
            [
             0.7777777777777778,
             "#fb9f3a"
            ],
            [
             0.8888888888888888,
             "#fdca26"
            ],
            [
             1,
             "#f0f921"
            ]
           ],
           "sequentialminus": [
            [
             0,
             "#0d0887"
            ],
            [
             0.1111111111111111,
             "#46039f"
            ],
            [
             0.2222222222222222,
             "#7201a8"
            ],
            [
             0.3333333333333333,
             "#9c179e"
            ],
            [
             0.4444444444444444,
             "#bd3786"
            ],
            [
             0.5555555555555556,
             "#d8576b"
            ],
            [
             0.6666666666666666,
             "#ed7953"
            ],
            [
             0.7777777777777778,
             "#fb9f3a"
            ],
            [
             0.8888888888888888,
             "#fdca26"
            ],
            [
             1,
             "#f0f921"
            ]
           ]
          },
          "colorway": [
           "#636efa",
           "#EF553B",
           "#00cc96",
           "#ab63fa",
           "#FFA15A",
           "#19d3f3",
           "#FF6692",
           "#B6E880",
           "#FF97FF",
           "#FECB52"
          ],
          "font": {
           "color": "#2a3f5f"
          },
          "geo": {
           "bgcolor": "white",
           "lakecolor": "white",
           "landcolor": "#E5ECF6",
           "showlakes": true,
           "showland": true,
           "subunitcolor": "white"
          },
          "hoverlabel": {
           "align": "left"
          },
          "hovermode": "closest",
          "mapbox": {
           "style": "light"
          },
          "paper_bgcolor": "white",
          "plot_bgcolor": "#E5ECF6",
          "polar": {
           "angularaxis": {
            "gridcolor": "white",
            "linecolor": "white",
            "ticks": ""
           },
           "bgcolor": "#E5ECF6",
           "radialaxis": {
            "gridcolor": "white",
            "linecolor": "white",
            "ticks": ""
           }
          },
          "scene": {
           "xaxis": {
            "backgroundcolor": "#E5ECF6",
            "gridcolor": "white",
            "gridwidth": 2,
            "linecolor": "white",
            "showbackground": true,
            "ticks": "",
            "zerolinecolor": "white"
           },
           "yaxis": {
            "backgroundcolor": "#E5ECF6",
            "gridcolor": "white",
            "gridwidth": 2,
            "linecolor": "white",
            "showbackground": true,
            "ticks": "",
            "zerolinecolor": "white"
           },
           "zaxis": {
            "backgroundcolor": "#E5ECF6",
            "gridcolor": "white",
            "gridwidth": 2,
            "linecolor": "white",
            "showbackground": true,
            "ticks": "",
            "zerolinecolor": "white"
           }
          },
          "shapedefaults": {
           "line": {
            "color": "#2a3f5f"
           }
          },
          "ternary": {
           "aaxis": {
            "gridcolor": "white",
            "linecolor": "white",
            "ticks": ""
           },
           "baxis": {
            "gridcolor": "white",
            "linecolor": "white",
            "ticks": ""
           },
           "bgcolor": "#E5ECF6",
           "caxis": {
            "gridcolor": "white",
            "linecolor": "white",
            "ticks": ""
           }
          },
          "title": {
           "x": 0.05
          },
          "xaxis": {
           "automargin": true,
           "gridcolor": "white",
           "linecolor": "white",
           "ticks": "",
           "title": {
            "standoff": 15
           },
           "zerolinecolor": "white",
           "zerolinewidth": 2
          },
          "yaxis": {
           "automargin": true,
           "gridcolor": "white",
           "linecolor": "white",
           "ticks": "",
           "title": {
            "standoff": 15
           },
           "zerolinecolor": "white",
           "zerolinewidth": 2
          }
         }
        },
        "title": {
         "text": "Counts of Emotions by Decade for Cold War Theme"
        },
        "xaxis": {
         "anchor": "y",
         "domain": [
          0,
          1
         ],
         "dtick": 10,
         "title": {
          "text": "Decade"
         }
        },
        "yaxis": {
         "anchor": "x",
         "domain": [
          0,
          1
         ],
         "title": {
          "text": "Total Emotion Count"
         }
        }
       }
      }
     },
     "metadata": {},
     "output_type": "display_data"
    }
   ],
   "source": [
    "plot_emotion_counts_by_decade(df_plot, theme)"
   ]
  },
  {
   "cell_type": "markdown",
   "id": "5b256180",
   "metadata": {},
   "source": [
    "We see that there is less positive emotions during the Cold War. And there's a decrease of positive emotion from 1940s to 1960s. The American and Soviet Union were allies during WW2 showcasing the positive emootions during this period. But, then we see a decrease of positive emotions in the period of the Cold War"
   ]
  },
  {
   "cell_type": "markdown",
   "id": "ad507883",
   "metadata": {},
   "source": [
    "Negative emotions like fear, sadness, and disgust are consistently prevalent, reflecting the Cold War's tension, uncertainty, and threats (e.g., nuclear warfare, espionage).\n",
    "Fear shows a peak during the Cold War decades, particularly in the 1950s-1980s, corresponding to  tensions during events like the Cuban Missile Crisis. It declines in the 1990s and 2000s, aligning with the Cold War's end.\n",
    "Trust is relatively low but stable, perhaps reflecting the theme of distrust intrinsic to espionage and ideological rivalry and increases towards th 1990s"
   ]
  },
  {
   "cell_type": "code",
   "execution_count": 16,
   "id": "288d3fa7",
   "metadata": {},
   "outputs": [
    {
     "data": {
      "application/vnd.plotly.v1+json": {
       "config": {
        "plotlyServerURL": "https://plot.ly"
       },
       "data": [
        {
         "alignmentgroup": "True",
         "hovertemplate": "Sentiment=%{x}<br>Total Emotion Count=%{text}<extra></extra>",
         "legendgroup": "Negative",
         "marker": {
          "color": "rgb(204, 80, 62)",
          "pattern": {
           "shape": ""
          }
         },
         "name": "Negative",
         "offsetgroup": "Negative",
         "orientation": "v",
         "showlegend": true,
         "text": [
          4902
         ],
         "textposition": "auto",
         "type": "bar",
         "x": [
          "Negative"
         ],
         "xaxis": "x",
         "y": [
          4902
         ],
         "yaxis": "y"
        },
        {
         "alignmentgroup": "True",
         "hovertemplate": "Sentiment=%{x}<br>Total Emotion Count=%{text}<extra></extra>",
         "legendgroup": "Positive",
         "marker": {
          "color": "rgb(56, 166, 165)",
          "pattern": {
           "shape": ""
          }
         },
         "name": "Positive",
         "offsetgroup": "Positive",
         "orientation": "v",
         "showlegend": true,
         "text": [
          4760
         ],
         "textposition": "auto",
         "type": "bar",
         "x": [
          "Positive"
         ],
         "xaxis": "x",
         "y": [
          4760
         ],
         "yaxis": "y"
        }
       ],
       "layout": {
        "barmode": "relative",
        "legend": {
         "title": {
          "text": "Sentiment"
         },
         "tracegroupgap": 0
        },
        "template": {
         "data": {
          "bar": [
           {
            "error_x": {
             "color": "#2a3f5f"
            },
            "error_y": {
             "color": "#2a3f5f"
            },
            "marker": {
             "line": {
              "color": "#E5ECF6",
              "width": 0.5
             },
             "pattern": {
              "fillmode": "overlay",
              "size": 10,
              "solidity": 0.2
             }
            },
            "type": "bar"
           }
          ],
          "barpolar": [
           {
            "marker": {
             "line": {
              "color": "#E5ECF6",
              "width": 0.5
             },
             "pattern": {
              "fillmode": "overlay",
              "size": 10,
              "solidity": 0.2
             }
            },
            "type": "barpolar"
           }
          ],
          "carpet": [
           {
            "aaxis": {
             "endlinecolor": "#2a3f5f",
             "gridcolor": "white",
             "linecolor": "white",
             "minorgridcolor": "white",
             "startlinecolor": "#2a3f5f"
            },
            "baxis": {
             "endlinecolor": "#2a3f5f",
             "gridcolor": "white",
             "linecolor": "white",
             "minorgridcolor": "white",
             "startlinecolor": "#2a3f5f"
            },
            "type": "carpet"
           }
          ],
          "choropleth": [
           {
            "colorbar": {
             "outlinewidth": 0,
             "ticks": ""
            },
            "type": "choropleth"
           }
          ],
          "contour": [
           {
            "colorbar": {
             "outlinewidth": 0,
             "ticks": ""
            },
            "colorscale": [
             [
              0,
              "#0d0887"
             ],
             [
              0.1111111111111111,
              "#46039f"
             ],
             [
              0.2222222222222222,
              "#7201a8"
             ],
             [
              0.3333333333333333,
              "#9c179e"
             ],
             [
              0.4444444444444444,
              "#bd3786"
             ],
             [
              0.5555555555555556,
              "#d8576b"
             ],
             [
              0.6666666666666666,
              "#ed7953"
             ],
             [
              0.7777777777777778,
              "#fb9f3a"
             ],
             [
              0.8888888888888888,
              "#fdca26"
             ],
             [
              1,
              "#f0f921"
             ]
            ],
            "type": "contour"
           }
          ],
          "contourcarpet": [
           {
            "colorbar": {
             "outlinewidth": 0,
             "ticks": ""
            },
            "type": "contourcarpet"
           }
          ],
          "heatmap": [
           {
            "colorbar": {
             "outlinewidth": 0,
             "ticks": ""
            },
            "colorscale": [
             [
              0,
              "#0d0887"
             ],
             [
              0.1111111111111111,
              "#46039f"
             ],
             [
              0.2222222222222222,
              "#7201a8"
             ],
             [
              0.3333333333333333,
              "#9c179e"
             ],
             [
              0.4444444444444444,
              "#bd3786"
             ],
             [
              0.5555555555555556,
              "#d8576b"
             ],
             [
              0.6666666666666666,
              "#ed7953"
             ],
             [
              0.7777777777777778,
              "#fb9f3a"
             ],
             [
              0.8888888888888888,
              "#fdca26"
             ],
             [
              1,
              "#f0f921"
             ]
            ],
            "type": "heatmap"
           }
          ],
          "heatmapgl": [
           {
            "colorbar": {
             "outlinewidth": 0,
             "ticks": ""
            },
            "colorscale": [
             [
              0,
              "#0d0887"
             ],
             [
              0.1111111111111111,
              "#46039f"
             ],
             [
              0.2222222222222222,
              "#7201a8"
             ],
             [
              0.3333333333333333,
              "#9c179e"
             ],
             [
              0.4444444444444444,
              "#bd3786"
             ],
             [
              0.5555555555555556,
              "#d8576b"
             ],
             [
              0.6666666666666666,
              "#ed7953"
             ],
             [
              0.7777777777777778,
              "#fb9f3a"
             ],
             [
              0.8888888888888888,
              "#fdca26"
             ],
             [
              1,
              "#f0f921"
             ]
            ],
            "type": "heatmapgl"
           }
          ],
          "histogram": [
           {
            "marker": {
             "pattern": {
              "fillmode": "overlay",
              "size": 10,
              "solidity": 0.2
             }
            },
            "type": "histogram"
           }
          ],
          "histogram2d": [
           {
            "colorbar": {
             "outlinewidth": 0,
             "ticks": ""
            },
            "colorscale": [
             [
              0,
              "#0d0887"
             ],
             [
              0.1111111111111111,
              "#46039f"
             ],
             [
              0.2222222222222222,
              "#7201a8"
             ],
             [
              0.3333333333333333,
              "#9c179e"
             ],
             [
              0.4444444444444444,
              "#bd3786"
             ],
             [
              0.5555555555555556,
              "#d8576b"
             ],
             [
              0.6666666666666666,
              "#ed7953"
             ],
             [
              0.7777777777777778,
              "#fb9f3a"
             ],
             [
              0.8888888888888888,
              "#fdca26"
             ],
             [
              1,
              "#f0f921"
             ]
            ],
            "type": "histogram2d"
           }
          ],
          "histogram2dcontour": [
           {
            "colorbar": {
             "outlinewidth": 0,
             "ticks": ""
            },
            "colorscale": [
             [
              0,
              "#0d0887"
             ],
             [
              0.1111111111111111,
              "#46039f"
             ],
             [
              0.2222222222222222,
              "#7201a8"
             ],
             [
              0.3333333333333333,
              "#9c179e"
             ],
             [
              0.4444444444444444,
              "#bd3786"
             ],
             [
              0.5555555555555556,
              "#d8576b"
             ],
             [
              0.6666666666666666,
              "#ed7953"
             ],
             [
              0.7777777777777778,
              "#fb9f3a"
             ],
             [
              0.8888888888888888,
              "#fdca26"
             ],
             [
              1,
              "#f0f921"
             ]
            ],
            "type": "histogram2dcontour"
           }
          ],
          "mesh3d": [
           {
            "colorbar": {
             "outlinewidth": 0,
             "ticks": ""
            },
            "type": "mesh3d"
           }
          ],
          "parcoords": [
           {
            "line": {
             "colorbar": {
              "outlinewidth": 0,
              "ticks": ""
             }
            },
            "type": "parcoords"
           }
          ],
          "pie": [
           {
            "automargin": true,
            "type": "pie"
           }
          ],
          "scatter": [
           {
            "fillpattern": {
             "fillmode": "overlay",
             "size": 10,
             "solidity": 0.2
            },
            "type": "scatter"
           }
          ],
          "scatter3d": [
           {
            "line": {
             "colorbar": {
              "outlinewidth": 0,
              "ticks": ""
             }
            },
            "marker": {
             "colorbar": {
              "outlinewidth": 0,
              "ticks": ""
             }
            },
            "type": "scatter3d"
           }
          ],
          "scattercarpet": [
           {
            "marker": {
             "colorbar": {
              "outlinewidth": 0,
              "ticks": ""
             }
            },
            "type": "scattercarpet"
           }
          ],
          "scattergeo": [
           {
            "marker": {
             "colorbar": {
              "outlinewidth": 0,
              "ticks": ""
             }
            },
            "type": "scattergeo"
           }
          ],
          "scattergl": [
           {
            "marker": {
             "colorbar": {
              "outlinewidth": 0,
              "ticks": ""
             }
            },
            "type": "scattergl"
           }
          ],
          "scattermapbox": [
           {
            "marker": {
             "colorbar": {
              "outlinewidth": 0,
              "ticks": ""
             }
            },
            "type": "scattermapbox"
           }
          ],
          "scatterpolar": [
           {
            "marker": {
             "colorbar": {
              "outlinewidth": 0,
              "ticks": ""
             }
            },
            "type": "scatterpolar"
           }
          ],
          "scatterpolargl": [
           {
            "marker": {
             "colorbar": {
              "outlinewidth": 0,
              "ticks": ""
             }
            },
            "type": "scatterpolargl"
           }
          ],
          "scatterternary": [
           {
            "marker": {
             "colorbar": {
              "outlinewidth": 0,
              "ticks": ""
             }
            },
            "type": "scatterternary"
           }
          ],
          "surface": [
           {
            "colorbar": {
             "outlinewidth": 0,
             "ticks": ""
            },
            "colorscale": [
             [
              0,
              "#0d0887"
             ],
             [
              0.1111111111111111,
              "#46039f"
             ],
             [
              0.2222222222222222,
              "#7201a8"
             ],
             [
              0.3333333333333333,
              "#9c179e"
             ],
             [
              0.4444444444444444,
              "#bd3786"
             ],
             [
              0.5555555555555556,
              "#d8576b"
             ],
             [
              0.6666666666666666,
              "#ed7953"
             ],
             [
              0.7777777777777778,
              "#fb9f3a"
             ],
             [
              0.8888888888888888,
              "#fdca26"
             ],
             [
              1,
              "#f0f921"
             ]
            ],
            "type": "surface"
           }
          ],
          "table": [
           {
            "cells": {
             "fill": {
              "color": "#EBF0F8"
             },
             "line": {
              "color": "white"
             }
            },
            "header": {
             "fill": {
              "color": "#C8D4E3"
             },
             "line": {
              "color": "white"
             }
            },
            "type": "table"
           }
          ]
         },
         "layout": {
          "annotationdefaults": {
           "arrowcolor": "#2a3f5f",
           "arrowhead": 0,
           "arrowwidth": 1
          },
          "autotypenumbers": "strict",
          "coloraxis": {
           "colorbar": {
            "outlinewidth": 0,
            "ticks": ""
           }
          },
          "colorscale": {
           "diverging": [
            [
             0,
             "#8e0152"
            ],
            [
             0.1,
             "#c51b7d"
            ],
            [
             0.2,
             "#de77ae"
            ],
            [
             0.3,
             "#f1b6da"
            ],
            [
             0.4,
             "#fde0ef"
            ],
            [
             0.5,
             "#f7f7f7"
            ],
            [
             0.6,
             "#e6f5d0"
            ],
            [
             0.7,
             "#b8e186"
            ],
            [
             0.8,
             "#7fbc41"
            ],
            [
             0.9,
             "#4d9221"
            ],
            [
             1,
             "#276419"
            ]
           ],
           "sequential": [
            [
             0,
             "#0d0887"
            ],
            [
             0.1111111111111111,
             "#46039f"
            ],
            [
             0.2222222222222222,
             "#7201a8"
            ],
            [
             0.3333333333333333,
             "#9c179e"
            ],
            [
             0.4444444444444444,
             "#bd3786"
            ],
            [
             0.5555555555555556,
             "#d8576b"
            ],
            [
             0.6666666666666666,
             "#ed7953"
            ],
            [
             0.7777777777777778,
             "#fb9f3a"
            ],
            [
             0.8888888888888888,
             "#fdca26"
            ],
            [
             1,
             "#f0f921"
            ]
           ],
           "sequentialminus": [
            [
             0,
             "#0d0887"
            ],
            [
             0.1111111111111111,
             "#46039f"
            ],
            [
             0.2222222222222222,
             "#7201a8"
            ],
            [
             0.3333333333333333,
             "#9c179e"
            ],
            [
             0.4444444444444444,
             "#bd3786"
            ],
            [
             0.5555555555555556,
             "#d8576b"
            ],
            [
             0.6666666666666666,
             "#ed7953"
            ],
            [
             0.7777777777777778,
             "#fb9f3a"
            ],
            [
             0.8888888888888888,
             "#fdca26"
            ],
            [
             1,
             "#f0f921"
            ]
           ]
          },
          "colorway": [
           "#636efa",
           "#EF553B",
           "#00cc96",
           "#ab63fa",
           "#FFA15A",
           "#19d3f3",
           "#FF6692",
           "#B6E880",
           "#FF97FF",
           "#FECB52"
          ],
          "font": {
           "color": "#2a3f5f"
          },
          "geo": {
           "bgcolor": "white",
           "lakecolor": "white",
           "landcolor": "#E5ECF6",
           "showlakes": true,
           "showland": true,
           "subunitcolor": "white"
          },
          "hoverlabel": {
           "align": "left"
          },
          "hovermode": "closest",
          "mapbox": {
           "style": "light"
          },
          "paper_bgcolor": "white",
          "plot_bgcolor": "#E5ECF6",
          "polar": {
           "angularaxis": {
            "gridcolor": "white",
            "linecolor": "white",
            "ticks": ""
           },
           "bgcolor": "#E5ECF6",
           "radialaxis": {
            "gridcolor": "white",
            "linecolor": "white",
            "ticks": ""
           }
          },
          "scene": {
           "xaxis": {
            "backgroundcolor": "#E5ECF6",
            "gridcolor": "white",
            "gridwidth": 2,
            "linecolor": "white",
            "showbackground": true,
            "ticks": "",
            "zerolinecolor": "white"
           },
           "yaxis": {
            "backgroundcolor": "#E5ECF6",
            "gridcolor": "white",
            "gridwidth": 2,
            "linecolor": "white",
            "showbackground": true,
            "ticks": "",
            "zerolinecolor": "white"
           },
           "zaxis": {
            "backgroundcolor": "#E5ECF6",
            "gridcolor": "white",
            "gridwidth": 2,
            "linecolor": "white",
            "showbackground": true,
            "ticks": "",
            "zerolinecolor": "white"
           }
          },
          "shapedefaults": {
           "line": {
            "color": "#2a3f5f"
           }
          },
          "ternary": {
           "aaxis": {
            "gridcolor": "white",
            "linecolor": "white",
            "ticks": ""
           },
           "baxis": {
            "gridcolor": "white",
            "linecolor": "white",
            "ticks": ""
           },
           "bgcolor": "#E5ECF6",
           "caxis": {
            "gridcolor": "white",
            "linecolor": "white",
            "ticks": ""
           }
          },
          "title": {
           "x": 0.05
          },
          "xaxis": {
           "automargin": true,
           "gridcolor": "white",
           "linecolor": "white",
           "ticks": "",
           "title": {
            "standoff": 15
           },
           "zerolinecolor": "white",
           "zerolinewidth": 2
          },
          "yaxis": {
           "automargin": true,
           "gridcolor": "white",
           "linecolor": "white",
           "ticks": "",
           "title": {
            "standoff": 15
           },
           "zerolinecolor": "white",
           "zerolinewidth": 2
          }
         }
        },
        "title": {
         "text": "Emotion Counts Categorized by Sentiment for Theme: Cold War"
        },
        "xaxis": {
         "anchor": "y",
         "categoryarray": [
          "Negative",
          "Positive"
         ],
         "categoryorder": "array",
         "domain": [
          0,
          1
         ],
         "title": {
          "text": "Sentiment"
         }
        },
        "yaxis": {
         "anchor": "x",
         "domain": [
          0,
          1
         ],
         "title": {
          "text": "Total Emotion Count"
         }
        }
       }
      }
     },
     "metadata": {},
     "output_type": "display_data"
    }
   ],
   "source": [
    "plot_emotion_sentiment_counts(df_plot, theme)"
   ]
  },
  {
   "cell_type": "markdown",
   "id": "51730628",
   "metadata": {},
   "source": [
    "The counts for negative (4902) and positive (4760) sentiments are relatively close, indicating that Cold War narratives balance darker and more hopeful tones.\n",
    "This balance reflects the duality of Cold War that shows fear, mistrust, and conflict alongside resilience, innovation, and eventual resolution.\n",
    "The near-equal distribution suggests that Cold War narratives don't focus only on despair or triumph but instead explore the nuanced emotions of the era.\n"
   ]
  },
  {
   "cell_type": "markdown",
   "id": "45e9e235",
   "metadata": {},
   "source": [
    "## 4. Sentiment Analysis"
   ]
  },
  {
   "cell_type": "code",
   "execution_count": 17,
   "id": "825cf485",
   "metadata": {},
   "outputs": [],
   "source": [
    "df_plot = perform_sentiment_analysis(df_plot)"
   ]
  },
  {
   "cell_type": "code",
   "execution_count": 18,
   "id": "5217efcb",
   "metadata": {},
   "outputs": [
    {
     "data": {
      "application/vnd.plotly.v1+json": {
       "config": {
        "plotlyServerURL": "https://plot.ly"
       },
       "data": [
        {
         "legendgroup": "Positive",
         "marker": {
          "color": "rgb(56, 166, 165)"
         },
         "name": "Positive",
         "showlegend": true,
         "type": "bar",
         "x": [
          1930,
          1940,
          1950,
          1960,
          1970,
          1980,
          1990,
          2000,
          2010
         ],
         "xaxis": "x",
         "y": [
          44.44444444444444,
          15.384615384615385,
          12.5,
          26.08695652173913,
          26.666666666666668,
          31.818181818181817,
          35.13513513513514,
          29.78723404255319,
          45.45454545454545
         ],
         "yaxis": "y"
        },
        {
         "legendgroup": "Negative",
         "marker": {
          "color": "rgb(204, 80, 62)"
         },
         "name": "Negative",
         "showlegend": true,
         "type": "bar",
         "x": [
          1930,
          1940,
          1950,
          1960,
          1970,
          1980,
          1990,
          2000,
          2010
         ],
         "xaxis": "x",
         "y": [
          55.55555555555556,
          84.61538461538461,
          87.5,
          73.91304347826086,
          73.33333333333333,
          68.18181818181817,
          64.86486486486487,
          70.2127659574468,
          54.54545454545454
         ],
         "yaxis": "y"
        },
        {
         "legendgroup": "Positive",
         "marker": {
          "color": "rgb(56, 166, 165)"
         },
         "name": "Positive",
         "showlegend": false,
         "type": "bar",
         "x": [
          1930,
          1940,
          1950,
          1960,
          1970,
          1980,
          1990,
          2000,
          2010
         ],
         "xaxis": "x2",
         "y": [
          50,
          50,
          55.55555555555556,
          56.52173913043478,
          42.30769230769231,
          66.66666666666666,
          60.526315789473685,
          47.82608695652174,
          72.72727272727273
         ],
         "yaxis": "y2"
        },
        {
         "legendgroup": "Negative",
         "marker": {
          "color": "rgb(204, 80, 62)"
         },
         "name": "Negative",
         "showlegend": false,
         "type": "bar",
         "x": [
          1930,
          1940,
          1950,
          1960,
          1970,
          1980,
          1990,
          2000,
          2010
         ],
         "xaxis": "x2",
         "y": [
          50,
          50,
          44.44444444444444,
          43.47826086956522,
          57.692307692307686,
          33.33333333333333,
          39.473684210526315,
          52.17391304347826,
          27.27272727272727
         ],
         "yaxis": "y2"
        },
        {
         "legendgroup": "Positive",
         "marker": {
          "color": "rgb(56, 166, 165)"
         },
         "name": "Positive",
         "showlegend": false,
         "type": "bar",
         "x": [
          1930,
          1940,
          1950,
          1960,
          1970,
          1980,
          1990,
          2000,
          2010
         ],
         "xaxis": "x3",
         "y": [
          44.44444444444444,
          15.384615384615385,
          12.5,
          26.08695652173913,
          26.666666666666668,
          30.434782608695656,
          35.8974358974359,
          29.78723404255319,
          41.66666666666667
         ],
         "yaxis": "y3"
        },
        {
         "legendgroup": "Negative",
         "marker": {
          "color": "rgb(204, 80, 62)"
         },
         "name": "Negative",
         "showlegend": false,
         "type": "bar",
         "x": [
          1930,
          1940,
          1950,
          1960,
          1970,
          1980,
          1990,
          2000,
          2010
         ],
         "xaxis": "x3",
         "y": [
          55.55555555555556,
          84.61538461538461,
          87.5,
          73.91304347826086,
          73.33333333333333,
          69.56521739130434,
          64.1025641025641,
          70.2127659574468,
          58.333333333333336
         ],
         "yaxis": "y3"
        },
        {
         "legendgroup": "Positive",
         "marker": {
          "color": "rgb(56, 166, 165)"
         },
         "name": "Positive",
         "showlegend": false,
         "type": "bar",
         "x": [
          1930,
          1940,
          1950,
          1960,
          1970,
          1980,
          1990,
          2000,
          2010
         ],
         "xaxis": "x4",
         "y": [
          50,
          69.23076923076923,
          44.44444444444444,
          42.30769230769231,
          40,
          62.5,
          48.717948717948715,
          50,
          50
         ],
         "yaxis": "y4"
        },
        {
         "legendgroup": "Negative",
         "marker": {
          "color": "rgb(204, 80, 62)"
         },
         "name": "Negative",
         "showlegend": false,
         "type": "bar",
         "x": [
          1930,
          1940,
          1950,
          1960,
          1970,
          1980,
          1990,
          2000,
          2010
         ],
         "xaxis": "x4",
         "y": [
          50,
          30.76923076923077,
          55.55555555555556,
          57.692307692307686,
          60,
          37.5,
          51.28205128205128,
          50,
          50
         ],
         "yaxis": "y4"
        }
       ],
       "layout": {
        "annotations": [
         {
          "font": {
           "size": 16
          },
          "showarrow": false,
          "text": "NLTK Sentiment",
          "x": 0.225,
          "xanchor": "center",
          "xref": "paper",
          "y": 1,
          "yanchor": "bottom",
          "yref": "paper"
         },
         {
          "font": {
           "size": 16
          },
          "showarrow": false,
          "text": "TextBlob Sentiment",
          "x": 0.775,
          "xanchor": "center",
          "xref": "paper",
          "y": 1,
          "yanchor": "bottom",
          "yref": "paper"
         },
         {
          "font": {
           "size": 16
          },
          "showarrow": false,
          "text": "VADER Sentiment",
          "x": 0.225,
          "xanchor": "center",
          "xref": "paper",
          "y": 0.375,
          "yanchor": "bottom",
          "yref": "paper"
         },
         {
          "font": {
           "size": 16
          },
          "showarrow": false,
          "text": "Emotions Sentiment",
          "x": 0.775,
          "xanchor": "center",
          "xref": "paper",
          "y": 0.375,
          "yanchor": "bottom",
          "yref": "paper"
         }
        ],
        "barmode": "stack",
        "height": 800,
        "legend": {
         "title": {
          "text": "Sentiment"
         }
        },
        "template": {
         "data": {
          "bar": [
           {
            "error_x": {
             "color": "#2a3f5f"
            },
            "error_y": {
             "color": "#2a3f5f"
            },
            "marker": {
             "line": {
              "color": "white",
              "width": 0.5
             },
             "pattern": {
              "fillmode": "overlay",
              "size": 10,
              "solidity": 0.2
             }
            },
            "type": "bar"
           }
          ],
          "barpolar": [
           {
            "marker": {
             "line": {
              "color": "white",
              "width": 0.5
             },
             "pattern": {
              "fillmode": "overlay",
              "size": 10,
              "solidity": 0.2
             }
            },
            "type": "barpolar"
           }
          ],
          "carpet": [
           {
            "aaxis": {
             "endlinecolor": "#2a3f5f",
             "gridcolor": "#C8D4E3",
             "linecolor": "#C8D4E3",
             "minorgridcolor": "#C8D4E3",
             "startlinecolor": "#2a3f5f"
            },
            "baxis": {
             "endlinecolor": "#2a3f5f",
             "gridcolor": "#C8D4E3",
             "linecolor": "#C8D4E3",
             "minorgridcolor": "#C8D4E3",
             "startlinecolor": "#2a3f5f"
            },
            "type": "carpet"
           }
          ],
          "choropleth": [
           {
            "colorbar": {
             "outlinewidth": 0,
             "ticks": ""
            },
            "type": "choropleth"
           }
          ],
          "contour": [
           {
            "colorbar": {
             "outlinewidth": 0,
             "ticks": ""
            },
            "colorscale": [
             [
              0,
              "#0d0887"
             ],
             [
              0.1111111111111111,
              "#46039f"
             ],
             [
              0.2222222222222222,
              "#7201a8"
             ],
             [
              0.3333333333333333,
              "#9c179e"
             ],
             [
              0.4444444444444444,
              "#bd3786"
             ],
             [
              0.5555555555555556,
              "#d8576b"
             ],
             [
              0.6666666666666666,
              "#ed7953"
             ],
             [
              0.7777777777777778,
              "#fb9f3a"
             ],
             [
              0.8888888888888888,
              "#fdca26"
             ],
             [
              1,
              "#f0f921"
             ]
            ],
            "type": "contour"
           }
          ],
          "contourcarpet": [
           {
            "colorbar": {
             "outlinewidth": 0,
             "ticks": ""
            },
            "type": "contourcarpet"
           }
          ],
          "heatmap": [
           {
            "colorbar": {
             "outlinewidth": 0,
             "ticks": ""
            },
            "colorscale": [
             [
              0,
              "#0d0887"
             ],
             [
              0.1111111111111111,
              "#46039f"
             ],
             [
              0.2222222222222222,
              "#7201a8"
             ],
             [
              0.3333333333333333,
              "#9c179e"
             ],
             [
              0.4444444444444444,
              "#bd3786"
             ],
             [
              0.5555555555555556,
              "#d8576b"
             ],
             [
              0.6666666666666666,
              "#ed7953"
             ],
             [
              0.7777777777777778,
              "#fb9f3a"
             ],
             [
              0.8888888888888888,
              "#fdca26"
             ],
             [
              1,
              "#f0f921"
             ]
            ],
            "type": "heatmap"
           }
          ],
          "heatmapgl": [
           {
            "colorbar": {
             "outlinewidth": 0,
             "ticks": ""
            },
            "colorscale": [
             [
              0,
              "#0d0887"
             ],
             [
              0.1111111111111111,
              "#46039f"
             ],
             [
              0.2222222222222222,
              "#7201a8"
             ],
             [
              0.3333333333333333,
              "#9c179e"
             ],
             [
              0.4444444444444444,
              "#bd3786"
             ],
             [
              0.5555555555555556,
              "#d8576b"
             ],
             [
              0.6666666666666666,
              "#ed7953"
             ],
             [
              0.7777777777777778,
              "#fb9f3a"
             ],
             [
              0.8888888888888888,
              "#fdca26"
             ],
             [
              1,
              "#f0f921"
             ]
            ],
            "type": "heatmapgl"
           }
          ],
          "histogram": [
           {
            "marker": {
             "pattern": {
              "fillmode": "overlay",
              "size": 10,
              "solidity": 0.2
             }
            },
            "type": "histogram"
           }
          ],
          "histogram2d": [
           {
            "colorbar": {
             "outlinewidth": 0,
             "ticks": ""
            },
            "colorscale": [
             [
              0,
              "#0d0887"
             ],
             [
              0.1111111111111111,
              "#46039f"
             ],
             [
              0.2222222222222222,
              "#7201a8"
             ],
             [
              0.3333333333333333,
              "#9c179e"
             ],
             [
              0.4444444444444444,
              "#bd3786"
             ],
             [
              0.5555555555555556,
              "#d8576b"
             ],
             [
              0.6666666666666666,
              "#ed7953"
             ],
             [
              0.7777777777777778,
              "#fb9f3a"
             ],
             [
              0.8888888888888888,
              "#fdca26"
             ],
             [
              1,
              "#f0f921"
             ]
            ],
            "type": "histogram2d"
           }
          ],
          "histogram2dcontour": [
           {
            "colorbar": {
             "outlinewidth": 0,
             "ticks": ""
            },
            "colorscale": [
             [
              0,
              "#0d0887"
             ],
             [
              0.1111111111111111,
              "#46039f"
             ],
             [
              0.2222222222222222,
              "#7201a8"
             ],
             [
              0.3333333333333333,
              "#9c179e"
             ],
             [
              0.4444444444444444,
              "#bd3786"
             ],
             [
              0.5555555555555556,
              "#d8576b"
             ],
             [
              0.6666666666666666,
              "#ed7953"
             ],
             [
              0.7777777777777778,
              "#fb9f3a"
             ],
             [
              0.8888888888888888,
              "#fdca26"
             ],
             [
              1,
              "#f0f921"
             ]
            ],
            "type": "histogram2dcontour"
           }
          ],
          "mesh3d": [
           {
            "colorbar": {
             "outlinewidth": 0,
             "ticks": ""
            },
            "type": "mesh3d"
           }
          ],
          "parcoords": [
           {
            "line": {
             "colorbar": {
              "outlinewidth": 0,
              "ticks": ""
             }
            },
            "type": "parcoords"
           }
          ],
          "pie": [
           {
            "automargin": true,
            "type": "pie"
           }
          ],
          "scatter": [
           {
            "fillpattern": {
             "fillmode": "overlay",
             "size": 10,
             "solidity": 0.2
            },
            "type": "scatter"
           }
          ],
          "scatter3d": [
           {
            "line": {
             "colorbar": {
              "outlinewidth": 0,
              "ticks": ""
             }
            },
            "marker": {
             "colorbar": {
              "outlinewidth": 0,
              "ticks": ""
             }
            },
            "type": "scatter3d"
           }
          ],
          "scattercarpet": [
           {
            "marker": {
             "colorbar": {
              "outlinewidth": 0,
              "ticks": ""
             }
            },
            "type": "scattercarpet"
           }
          ],
          "scattergeo": [
           {
            "marker": {
             "colorbar": {
              "outlinewidth": 0,
              "ticks": ""
             }
            },
            "type": "scattergeo"
           }
          ],
          "scattergl": [
           {
            "marker": {
             "colorbar": {
              "outlinewidth": 0,
              "ticks": ""
             }
            },
            "type": "scattergl"
           }
          ],
          "scattermapbox": [
           {
            "marker": {
             "colorbar": {
              "outlinewidth": 0,
              "ticks": ""
             }
            },
            "type": "scattermapbox"
           }
          ],
          "scatterpolar": [
           {
            "marker": {
             "colorbar": {
              "outlinewidth": 0,
              "ticks": ""
             }
            },
            "type": "scatterpolar"
           }
          ],
          "scatterpolargl": [
           {
            "marker": {
             "colorbar": {
              "outlinewidth": 0,
              "ticks": ""
             }
            },
            "type": "scatterpolargl"
           }
          ],
          "scatterternary": [
           {
            "marker": {
             "colorbar": {
              "outlinewidth": 0,
              "ticks": ""
             }
            },
            "type": "scatterternary"
           }
          ],
          "surface": [
           {
            "colorbar": {
             "outlinewidth": 0,
             "ticks": ""
            },
            "colorscale": [
             [
              0,
              "#0d0887"
             ],
             [
              0.1111111111111111,
              "#46039f"
             ],
             [
              0.2222222222222222,
              "#7201a8"
             ],
             [
              0.3333333333333333,
              "#9c179e"
             ],
             [
              0.4444444444444444,
              "#bd3786"
             ],
             [
              0.5555555555555556,
              "#d8576b"
             ],
             [
              0.6666666666666666,
              "#ed7953"
             ],
             [
              0.7777777777777778,
              "#fb9f3a"
             ],
             [
              0.8888888888888888,
              "#fdca26"
             ],
             [
              1,
              "#f0f921"
             ]
            ],
            "type": "surface"
           }
          ],
          "table": [
           {
            "cells": {
             "fill": {
              "color": "#EBF0F8"
             },
             "line": {
              "color": "white"
             }
            },
            "header": {
             "fill": {
              "color": "#C8D4E3"
             },
             "line": {
              "color": "white"
             }
            },
            "type": "table"
           }
          ]
         },
         "layout": {
          "annotationdefaults": {
           "arrowcolor": "#2a3f5f",
           "arrowhead": 0,
           "arrowwidth": 1
          },
          "autotypenumbers": "strict",
          "coloraxis": {
           "colorbar": {
            "outlinewidth": 0,
            "ticks": ""
           }
          },
          "colorscale": {
           "diverging": [
            [
             0,
             "#8e0152"
            ],
            [
             0.1,
             "#c51b7d"
            ],
            [
             0.2,
             "#de77ae"
            ],
            [
             0.3,
             "#f1b6da"
            ],
            [
             0.4,
             "#fde0ef"
            ],
            [
             0.5,
             "#f7f7f7"
            ],
            [
             0.6,
             "#e6f5d0"
            ],
            [
             0.7,
             "#b8e186"
            ],
            [
             0.8,
             "#7fbc41"
            ],
            [
             0.9,
             "#4d9221"
            ],
            [
             1,
             "#276419"
            ]
           ],
           "sequential": [
            [
             0,
             "#0d0887"
            ],
            [
             0.1111111111111111,
             "#46039f"
            ],
            [
             0.2222222222222222,
             "#7201a8"
            ],
            [
             0.3333333333333333,
             "#9c179e"
            ],
            [
             0.4444444444444444,
             "#bd3786"
            ],
            [
             0.5555555555555556,
             "#d8576b"
            ],
            [
             0.6666666666666666,
             "#ed7953"
            ],
            [
             0.7777777777777778,
             "#fb9f3a"
            ],
            [
             0.8888888888888888,
             "#fdca26"
            ],
            [
             1,
             "#f0f921"
            ]
           ],
           "sequentialminus": [
            [
             0,
             "#0d0887"
            ],
            [
             0.1111111111111111,
             "#46039f"
            ],
            [
             0.2222222222222222,
             "#7201a8"
            ],
            [
             0.3333333333333333,
             "#9c179e"
            ],
            [
             0.4444444444444444,
             "#bd3786"
            ],
            [
             0.5555555555555556,
             "#d8576b"
            ],
            [
             0.6666666666666666,
             "#ed7953"
            ],
            [
             0.7777777777777778,
             "#fb9f3a"
            ],
            [
             0.8888888888888888,
             "#fdca26"
            ],
            [
             1,
             "#f0f921"
            ]
           ]
          },
          "colorway": [
           "#636efa",
           "#EF553B",
           "#00cc96",
           "#ab63fa",
           "#FFA15A",
           "#19d3f3",
           "#FF6692",
           "#B6E880",
           "#FF97FF",
           "#FECB52"
          ],
          "font": {
           "color": "#2a3f5f"
          },
          "geo": {
           "bgcolor": "white",
           "lakecolor": "white",
           "landcolor": "white",
           "showlakes": true,
           "showland": true,
           "subunitcolor": "#C8D4E3"
          },
          "hoverlabel": {
           "align": "left"
          },
          "hovermode": "closest",
          "mapbox": {
           "style": "light"
          },
          "paper_bgcolor": "white",
          "plot_bgcolor": "white",
          "polar": {
           "angularaxis": {
            "gridcolor": "#EBF0F8",
            "linecolor": "#EBF0F8",
            "ticks": ""
           },
           "bgcolor": "white",
           "radialaxis": {
            "gridcolor": "#EBF0F8",
            "linecolor": "#EBF0F8",
            "ticks": ""
           }
          },
          "scene": {
           "xaxis": {
            "backgroundcolor": "white",
            "gridcolor": "#DFE8F3",
            "gridwidth": 2,
            "linecolor": "#EBF0F8",
            "showbackground": true,
            "ticks": "",
            "zerolinecolor": "#EBF0F8"
           },
           "yaxis": {
            "backgroundcolor": "white",
            "gridcolor": "#DFE8F3",
            "gridwidth": 2,
            "linecolor": "#EBF0F8",
            "showbackground": true,
            "ticks": "",
            "zerolinecolor": "#EBF0F8"
           },
           "zaxis": {
            "backgroundcolor": "white",
            "gridcolor": "#DFE8F3",
            "gridwidth": 2,
            "linecolor": "#EBF0F8",
            "showbackground": true,
            "ticks": "",
            "zerolinecolor": "#EBF0F8"
           }
          },
          "shapedefaults": {
           "line": {
            "color": "#2a3f5f"
           }
          },
          "ternary": {
           "aaxis": {
            "gridcolor": "#DFE8F3",
            "linecolor": "#A2B1C6",
            "ticks": ""
           },
           "baxis": {
            "gridcolor": "#DFE8F3",
            "linecolor": "#A2B1C6",
            "ticks": ""
           },
           "bgcolor": "white",
           "caxis": {
            "gridcolor": "#DFE8F3",
            "linecolor": "#A2B1C6",
            "ticks": ""
           }
          },
          "title": {
           "x": 0.05
          },
          "xaxis": {
           "automargin": true,
           "gridcolor": "#EBF0F8",
           "linecolor": "#EBF0F8",
           "ticks": "",
           "title": {
            "standoff": 15
           },
           "zerolinecolor": "#EBF0F8",
           "zerolinewidth": 2
          },
          "yaxis": {
           "automargin": true,
           "gridcolor": "#EBF0F8",
           "linecolor": "#EBF0F8",
           "ticks": "",
           "title": {
            "standoff": 15
           },
           "zerolinecolor": "#EBF0F8",
           "zerolinewidth": 2
          }
         }
        },
        "title": {
         "text": "Sentiment Evolution by Decade for Theme: Cold War"
        },
        "width": 1000,
        "xaxis": {
         "anchor": "y",
         "domain": [
          0,
          0.45
         ],
         "matches": "x3",
         "showticklabels": false,
         "title": {
          "text": "Decade"
         }
        },
        "xaxis2": {
         "anchor": "y2",
         "domain": [
          0.55,
          1
         ],
         "matches": "x4",
         "showticklabels": false
        },
        "xaxis3": {
         "anchor": "y3",
         "domain": [
          0,
          0.45
         ]
        },
        "xaxis4": {
         "anchor": "y4",
         "domain": [
          0.55,
          1
         ]
        },
        "yaxis": {
         "anchor": "x",
         "domain": [
          0.625,
          1
         ],
         "title": {
          "text": "Percentage of Sentiment"
         }
        },
        "yaxis2": {
         "anchor": "x2",
         "domain": [
          0.625,
          1
         ],
         "matches": "y",
         "showticklabels": false
        },
        "yaxis3": {
         "anchor": "x3",
         "domain": [
          0,
          0.375
         ]
        },
        "yaxis4": {
         "anchor": "x4",
         "domain": [
          0,
          0.375
         ],
         "matches": "y3",
         "showticklabels": false
        }
       }
      }
     },
     "metadata": {},
     "output_type": "display_data"
    }
   ],
   "source": [
    "plot_all_sentiments(df_plot, theme)"
   ]
  },
  {
   "cell_type": "markdown",
   "id": "32993bc0",
   "metadata": {},
   "source": [
    "Negative sentiment"
   ]
  },
  {
   "cell_type": "code",
   "execution_count": 19,
   "id": "1cefeebd",
   "metadata": {},
   "outputs": [
    {
     "data": {
      "application/vnd.plotly.v1+json": {
       "config": {
        "plotlyServerURL": "https://plot.ly"
       },
       "data": [
        {
         "marker": {
          "color": "rgb(56, 166, 165)"
         },
         "name": "Positive",
         "type": "bar",
         "x": [
          1930,
          1940,
          1950,
          1960,
          1970,
          1980,
          1990,
          2000,
          2010
         ],
         "y": [
          40.17857142857143,
          48.97959183673469,
          44.680851063829785,
          34.285714285714285,
          33.76623376623377,
          42.25352112676056,
          43.01075268817204,
          40.42553191489361,
          47.76119402985074
         ]
        },
        {
         "marker": {
          "color": "rgb(204, 80, 62)"
         },
         "name": "Negative",
         "type": "bar",
         "x": [
          1930,
          1940,
          1950,
          1960,
          1970,
          1980,
          1990,
          2000,
          2010
         ],
         "y": [
          59.82142857142857,
          51.02040816326531,
          55.319148936170215,
          65.71428571428571,
          66.23376623376623,
          57.74647887323944,
          56.98924731182796,
          59.57446808510638,
          52.23880597014925
         ]
        }
       ],
       "layout": {
        "barmode": "stack",
        "legend": {
         "title": {
          "text": "Sentiment"
         }
        },
        "template": {
         "data": {
          "bar": [
           {
            "error_x": {
             "color": "#2a3f5f"
            },
            "error_y": {
             "color": "#2a3f5f"
            },
            "marker": {
             "line": {
              "color": "#E5ECF6",
              "width": 0.5
             },
             "pattern": {
              "fillmode": "overlay",
              "size": 10,
              "solidity": 0.2
             }
            },
            "type": "bar"
           }
          ],
          "barpolar": [
           {
            "marker": {
             "line": {
              "color": "#E5ECF6",
              "width": 0.5
             },
             "pattern": {
              "fillmode": "overlay",
              "size": 10,
              "solidity": 0.2
             }
            },
            "type": "barpolar"
           }
          ],
          "carpet": [
           {
            "aaxis": {
             "endlinecolor": "#2a3f5f",
             "gridcolor": "white",
             "linecolor": "white",
             "minorgridcolor": "white",
             "startlinecolor": "#2a3f5f"
            },
            "baxis": {
             "endlinecolor": "#2a3f5f",
             "gridcolor": "white",
             "linecolor": "white",
             "minorgridcolor": "white",
             "startlinecolor": "#2a3f5f"
            },
            "type": "carpet"
           }
          ],
          "choropleth": [
           {
            "colorbar": {
             "outlinewidth": 0,
             "ticks": ""
            },
            "type": "choropleth"
           }
          ],
          "contour": [
           {
            "colorbar": {
             "outlinewidth": 0,
             "ticks": ""
            },
            "colorscale": [
             [
              0,
              "#0d0887"
             ],
             [
              0.1111111111111111,
              "#46039f"
             ],
             [
              0.2222222222222222,
              "#7201a8"
             ],
             [
              0.3333333333333333,
              "#9c179e"
             ],
             [
              0.4444444444444444,
              "#bd3786"
             ],
             [
              0.5555555555555556,
              "#d8576b"
             ],
             [
              0.6666666666666666,
              "#ed7953"
             ],
             [
              0.7777777777777778,
              "#fb9f3a"
             ],
             [
              0.8888888888888888,
              "#fdca26"
             ],
             [
              1,
              "#f0f921"
             ]
            ],
            "type": "contour"
           }
          ],
          "contourcarpet": [
           {
            "colorbar": {
             "outlinewidth": 0,
             "ticks": ""
            },
            "type": "contourcarpet"
           }
          ],
          "heatmap": [
           {
            "colorbar": {
             "outlinewidth": 0,
             "ticks": ""
            },
            "colorscale": [
             [
              0,
              "#0d0887"
             ],
             [
              0.1111111111111111,
              "#46039f"
             ],
             [
              0.2222222222222222,
              "#7201a8"
             ],
             [
              0.3333333333333333,
              "#9c179e"
             ],
             [
              0.4444444444444444,
              "#bd3786"
             ],
             [
              0.5555555555555556,
              "#d8576b"
             ],
             [
              0.6666666666666666,
              "#ed7953"
             ],
             [
              0.7777777777777778,
              "#fb9f3a"
             ],
             [
              0.8888888888888888,
              "#fdca26"
             ],
             [
              1,
              "#f0f921"
             ]
            ],
            "type": "heatmap"
           }
          ],
          "heatmapgl": [
           {
            "colorbar": {
             "outlinewidth": 0,
             "ticks": ""
            },
            "colorscale": [
             [
              0,
              "#0d0887"
             ],
             [
              0.1111111111111111,
              "#46039f"
             ],
             [
              0.2222222222222222,
              "#7201a8"
             ],
             [
              0.3333333333333333,
              "#9c179e"
             ],
             [
              0.4444444444444444,
              "#bd3786"
             ],
             [
              0.5555555555555556,
              "#d8576b"
             ],
             [
              0.6666666666666666,
              "#ed7953"
             ],
             [
              0.7777777777777778,
              "#fb9f3a"
             ],
             [
              0.8888888888888888,
              "#fdca26"
             ],
             [
              1,
              "#f0f921"
             ]
            ],
            "type": "heatmapgl"
           }
          ],
          "histogram": [
           {
            "marker": {
             "pattern": {
              "fillmode": "overlay",
              "size": 10,
              "solidity": 0.2
             }
            },
            "type": "histogram"
           }
          ],
          "histogram2d": [
           {
            "colorbar": {
             "outlinewidth": 0,
             "ticks": ""
            },
            "colorscale": [
             [
              0,
              "#0d0887"
             ],
             [
              0.1111111111111111,
              "#46039f"
             ],
             [
              0.2222222222222222,
              "#7201a8"
             ],
             [
              0.3333333333333333,
              "#9c179e"
             ],
             [
              0.4444444444444444,
              "#bd3786"
             ],
             [
              0.5555555555555556,
              "#d8576b"
             ],
             [
              0.6666666666666666,
              "#ed7953"
             ],
             [
              0.7777777777777778,
              "#fb9f3a"
             ],
             [
              0.8888888888888888,
              "#fdca26"
             ],
             [
              1,
              "#f0f921"
             ]
            ],
            "type": "histogram2d"
           }
          ],
          "histogram2dcontour": [
           {
            "colorbar": {
             "outlinewidth": 0,
             "ticks": ""
            },
            "colorscale": [
             [
              0,
              "#0d0887"
             ],
             [
              0.1111111111111111,
              "#46039f"
             ],
             [
              0.2222222222222222,
              "#7201a8"
             ],
             [
              0.3333333333333333,
              "#9c179e"
             ],
             [
              0.4444444444444444,
              "#bd3786"
             ],
             [
              0.5555555555555556,
              "#d8576b"
             ],
             [
              0.6666666666666666,
              "#ed7953"
             ],
             [
              0.7777777777777778,
              "#fb9f3a"
             ],
             [
              0.8888888888888888,
              "#fdca26"
             ],
             [
              1,
              "#f0f921"
             ]
            ],
            "type": "histogram2dcontour"
           }
          ],
          "mesh3d": [
           {
            "colorbar": {
             "outlinewidth": 0,
             "ticks": ""
            },
            "type": "mesh3d"
           }
          ],
          "parcoords": [
           {
            "line": {
             "colorbar": {
              "outlinewidth": 0,
              "ticks": ""
             }
            },
            "type": "parcoords"
           }
          ],
          "pie": [
           {
            "automargin": true,
            "type": "pie"
           }
          ],
          "scatter": [
           {
            "fillpattern": {
             "fillmode": "overlay",
             "size": 10,
             "solidity": 0.2
            },
            "type": "scatter"
           }
          ],
          "scatter3d": [
           {
            "line": {
             "colorbar": {
              "outlinewidth": 0,
              "ticks": ""
             }
            },
            "marker": {
             "colorbar": {
              "outlinewidth": 0,
              "ticks": ""
             }
            },
            "type": "scatter3d"
           }
          ],
          "scattercarpet": [
           {
            "marker": {
             "colorbar": {
              "outlinewidth": 0,
              "ticks": ""
             }
            },
            "type": "scattercarpet"
           }
          ],
          "scattergeo": [
           {
            "marker": {
             "colorbar": {
              "outlinewidth": 0,
              "ticks": ""
             }
            },
            "type": "scattergeo"
           }
          ],
          "scattergl": [
           {
            "marker": {
             "colorbar": {
              "outlinewidth": 0,
              "ticks": ""
             }
            },
            "type": "scattergl"
           }
          ],
          "scattermapbox": [
           {
            "marker": {
             "colorbar": {
              "outlinewidth": 0,
              "ticks": ""
             }
            },
            "type": "scattermapbox"
           }
          ],
          "scatterpolar": [
           {
            "marker": {
             "colorbar": {
              "outlinewidth": 0,
              "ticks": ""
             }
            },
            "type": "scatterpolar"
           }
          ],
          "scatterpolargl": [
           {
            "marker": {
             "colorbar": {
              "outlinewidth": 0,
              "ticks": ""
             }
            },
            "type": "scatterpolargl"
           }
          ],
          "scatterternary": [
           {
            "marker": {
             "colorbar": {
              "outlinewidth": 0,
              "ticks": ""
             }
            },
            "type": "scatterternary"
           }
          ],
          "surface": [
           {
            "colorbar": {
             "outlinewidth": 0,
             "ticks": ""
            },
            "colorscale": [
             [
              0,
              "#0d0887"
             ],
             [
              0.1111111111111111,
              "#46039f"
             ],
             [
              0.2222222222222222,
              "#7201a8"
             ],
             [
              0.3333333333333333,
              "#9c179e"
             ],
             [
              0.4444444444444444,
              "#bd3786"
             ],
             [
              0.5555555555555556,
              "#d8576b"
             ],
             [
              0.6666666666666666,
              "#ed7953"
             ],
             [
              0.7777777777777778,
              "#fb9f3a"
             ],
             [
              0.8888888888888888,
              "#fdca26"
             ],
             [
              1,
              "#f0f921"
             ]
            ],
            "type": "surface"
           }
          ],
          "table": [
           {
            "cells": {
             "fill": {
              "color": "#EBF0F8"
             },
             "line": {
              "color": "white"
             }
            },
            "header": {
             "fill": {
              "color": "#C8D4E3"
             },
             "line": {
              "color": "white"
             }
            },
            "type": "table"
           }
          ]
         },
         "layout": {
          "annotationdefaults": {
           "arrowcolor": "#2a3f5f",
           "arrowhead": 0,
           "arrowwidth": 1
          },
          "autotypenumbers": "strict",
          "coloraxis": {
           "colorbar": {
            "outlinewidth": 0,
            "ticks": ""
           }
          },
          "colorscale": {
           "diverging": [
            [
             0,
             "#8e0152"
            ],
            [
             0.1,
             "#c51b7d"
            ],
            [
             0.2,
             "#de77ae"
            ],
            [
             0.3,
             "#f1b6da"
            ],
            [
             0.4,
             "#fde0ef"
            ],
            [
             0.5,
             "#f7f7f7"
            ],
            [
             0.6,
             "#e6f5d0"
            ],
            [
             0.7,
             "#b8e186"
            ],
            [
             0.8,
             "#7fbc41"
            ],
            [
             0.9,
             "#4d9221"
            ],
            [
             1,
             "#276419"
            ]
           ],
           "sequential": [
            [
             0,
             "#0d0887"
            ],
            [
             0.1111111111111111,
             "#46039f"
            ],
            [
             0.2222222222222222,
             "#7201a8"
            ],
            [
             0.3333333333333333,
             "#9c179e"
            ],
            [
             0.4444444444444444,
             "#bd3786"
            ],
            [
             0.5555555555555556,
             "#d8576b"
            ],
            [
             0.6666666666666666,
             "#ed7953"
            ],
            [
             0.7777777777777778,
             "#fb9f3a"
            ],
            [
             0.8888888888888888,
             "#fdca26"
            ],
            [
             1,
             "#f0f921"
            ]
           ],
           "sequentialminus": [
            [
             0,
             "#0d0887"
            ],
            [
             0.1111111111111111,
             "#46039f"
            ],
            [
             0.2222222222222222,
             "#7201a8"
            ],
            [
             0.3333333333333333,
             "#9c179e"
            ],
            [
             0.4444444444444444,
             "#bd3786"
            ],
            [
             0.5555555555555556,
             "#d8576b"
            ],
            [
             0.6666666666666666,
             "#ed7953"
            ],
            [
             0.7777777777777778,
             "#fb9f3a"
            ],
            [
             0.8888888888888888,
             "#fdca26"
            ],
            [
             1,
             "#f0f921"
            ]
           ]
          },
          "colorway": [
           "#636efa",
           "#EF553B",
           "#00cc96",
           "#ab63fa",
           "#FFA15A",
           "#19d3f3",
           "#FF6692",
           "#B6E880",
           "#FF97FF",
           "#FECB52"
          ],
          "font": {
           "color": "#2a3f5f"
          },
          "geo": {
           "bgcolor": "white",
           "lakecolor": "white",
           "landcolor": "#E5ECF6",
           "showlakes": true,
           "showland": true,
           "subunitcolor": "white"
          },
          "hoverlabel": {
           "align": "left"
          },
          "hovermode": "closest",
          "mapbox": {
           "style": "light"
          },
          "paper_bgcolor": "white",
          "plot_bgcolor": "#E5ECF6",
          "polar": {
           "angularaxis": {
            "gridcolor": "white",
            "linecolor": "white",
            "ticks": ""
           },
           "bgcolor": "#E5ECF6",
           "radialaxis": {
            "gridcolor": "white",
            "linecolor": "white",
            "ticks": ""
           }
          },
          "scene": {
           "xaxis": {
            "backgroundcolor": "#E5ECF6",
            "gridcolor": "white",
            "gridwidth": 2,
            "linecolor": "white",
            "showbackground": true,
            "ticks": "",
            "zerolinecolor": "white"
           },
           "yaxis": {
            "backgroundcolor": "#E5ECF6",
            "gridcolor": "white",
            "gridwidth": 2,
            "linecolor": "white",
            "showbackground": true,
            "ticks": "",
            "zerolinecolor": "white"
           },
           "zaxis": {
            "backgroundcolor": "#E5ECF6",
            "gridcolor": "white",
            "gridwidth": 2,
            "linecolor": "white",
            "showbackground": true,
            "ticks": "",
            "zerolinecolor": "white"
           }
          },
          "shapedefaults": {
           "line": {
            "color": "#2a3f5f"
           }
          },
          "ternary": {
           "aaxis": {
            "gridcolor": "white",
            "linecolor": "white",
            "ticks": ""
           },
           "baxis": {
            "gridcolor": "white",
            "linecolor": "white",
            "ticks": ""
           },
           "bgcolor": "#E5ECF6",
           "caxis": {
            "gridcolor": "white",
            "linecolor": "white",
            "ticks": ""
           }
          },
          "title": {
           "x": 0.05
          },
          "xaxis": {
           "automargin": true,
           "gridcolor": "white",
           "linecolor": "white",
           "ticks": "",
           "title": {
            "standoff": 15
           },
           "zerolinecolor": "white",
           "zerolinewidth": 2
          },
          "yaxis": {
           "automargin": true,
           "gridcolor": "white",
           "linecolor": "white",
           "ticks": "",
           "title": {
            "standoff": 15
           },
           "zerolinecolor": "white",
           "zerolinewidth": 2
          }
         }
        },
        "title": {
         "text": "Sentiment Evolution across all Techniques by Decade for Cold War Theme"
        },
        "xaxis": {
         "title": {
          "text": "Decade"
         }
        },
        "yaxis": {
         "ticksuffix": "%",
         "title": {
          "text": "Percentage of Sentiment"
         }
        }
       }
      }
     },
     "metadata": {},
     "output_type": "display_data"
    }
   ],
   "source": [
    "plot_combined_sentiment_by_decade(df_plot, theme)"
   ]
  },
  {
   "cell_type": "code",
   "execution_count": 20,
   "id": "f8344730",
   "metadata": {},
   "outputs": [
    {
     "data": {
      "application/vnd.plotly.v1+json": {
       "config": {
        "plotlyServerURL": "https://plot.ly"
       },
       "data": [
        {
         "domain": {
          "x": [
           0,
           1
          ],
          "y": [
           0,
           1
          ]
         },
         "hovertemplate": "Genre=%{label}<br>Count=%{value}<extra></extra>",
         "labels": [
          "Drama",
          "Action/Adventure",
          "War",
          "Thriller",
          "Comedy"
         ],
         "legendgroup": "",
         "name": "",
         "pull": [
          0.1,
          0,
          0,
          0,
          0
         ],
         "showlegend": true,
         "textinfo": "percent+label",
         "type": "pie",
         "values": [
          92,
          41,
          40,
          36,
          28
         ]
        }
       ],
       "layout": {
        "height": 600,
        "legend": {
         "tracegroupgap": 0
        },
        "piecolorway": [
         "rgb(95, 70, 144)",
         "rgb(29, 105, 150)",
         "rgb(56, 166, 165)",
         "rgb(15, 133, 84)",
         "rgb(115, 175, 72)",
         "rgb(237, 173, 8)",
         "rgb(225, 124, 5)",
         "rgb(204, 80, 62)",
         "rgb(148, 52, 110)",
         "rgb(111, 64, 112)",
         "rgb(102, 102, 102)"
        ],
        "template": {
         "data": {
          "bar": [
           {
            "error_x": {
             "color": "#2a3f5f"
            },
            "error_y": {
             "color": "#2a3f5f"
            },
            "marker": {
             "line": {
              "color": "#E5ECF6",
              "width": 0.5
             },
             "pattern": {
              "fillmode": "overlay",
              "size": 10,
              "solidity": 0.2
             }
            },
            "type": "bar"
           }
          ],
          "barpolar": [
           {
            "marker": {
             "line": {
              "color": "#E5ECF6",
              "width": 0.5
             },
             "pattern": {
              "fillmode": "overlay",
              "size": 10,
              "solidity": 0.2
             }
            },
            "type": "barpolar"
           }
          ],
          "carpet": [
           {
            "aaxis": {
             "endlinecolor": "#2a3f5f",
             "gridcolor": "white",
             "linecolor": "white",
             "minorgridcolor": "white",
             "startlinecolor": "#2a3f5f"
            },
            "baxis": {
             "endlinecolor": "#2a3f5f",
             "gridcolor": "white",
             "linecolor": "white",
             "minorgridcolor": "white",
             "startlinecolor": "#2a3f5f"
            },
            "type": "carpet"
           }
          ],
          "choropleth": [
           {
            "colorbar": {
             "outlinewidth": 0,
             "ticks": ""
            },
            "type": "choropleth"
           }
          ],
          "contour": [
           {
            "colorbar": {
             "outlinewidth": 0,
             "ticks": ""
            },
            "colorscale": [
             [
              0,
              "#0d0887"
             ],
             [
              0.1111111111111111,
              "#46039f"
             ],
             [
              0.2222222222222222,
              "#7201a8"
             ],
             [
              0.3333333333333333,
              "#9c179e"
             ],
             [
              0.4444444444444444,
              "#bd3786"
             ],
             [
              0.5555555555555556,
              "#d8576b"
             ],
             [
              0.6666666666666666,
              "#ed7953"
             ],
             [
              0.7777777777777778,
              "#fb9f3a"
             ],
             [
              0.8888888888888888,
              "#fdca26"
             ],
             [
              1,
              "#f0f921"
             ]
            ],
            "type": "contour"
           }
          ],
          "contourcarpet": [
           {
            "colorbar": {
             "outlinewidth": 0,
             "ticks": ""
            },
            "type": "contourcarpet"
           }
          ],
          "heatmap": [
           {
            "colorbar": {
             "outlinewidth": 0,
             "ticks": ""
            },
            "colorscale": [
             [
              0,
              "#0d0887"
             ],
             [
              0.1111111111111111,
              "#46039f"
             ],
             [
              0.2222222222222222,
              "#7201a8"
             ],
             [
              0.3333333333333333,
              "#9c179e"
             ],
             [
              0.4444444444444444,
              "#bd3786"
             ],
             [
              0.5555555555555556,
              "#d8576b"
             ],
             [
              0.6666666666666666,
              "#ed7953"
             ],
             [
              0.7777777777777778,
              "#fb9f3a"
             ],
             [
              0.8888888888888888,
              "#fdca26"
             ],
             [
              1,
              "#f0f921"
             ]
            ],
            "type": "heatmap"
           }
          ],
          "heatmapgl": [
           {
            "colorbar": {
             "outlinewidth": 0,
             "ticks": ""
            },
            "colorscale": [
             [
              0,
              "#0d0887"
             ],
             [
              0.1111111111111111,
              "#46039f"
             ],
             [
              0.2222222222222222,
              "#7201a8"
             ],
             [
              0.3333333333333333,
              "#9c179e"
             ],
             [
              0.4444444444444444,
              "#bd3786"
             ],
             [
              0.5555555555555556,
              "#d8576b"
             ],
             [
              0.6666666666666666,
              "#ed7953"
             ],
             [
              0.7777777777777778,
              "#fb9f3a"
             ],
             [
              0.8888888888888888,
              "#fdca26"
             ],
             [
              1,
              "#f0f921"
             ]
            ],
            "type": "heatmapgl"
           }
          ],
          "histogram": [
           {
            "marker": {
             "pattern": {
              "fillmode": "overlay",
              "size": 10,
              "solidity": 0.2
             }
            },
            "type": "histogram"
           }
          ],
          "histogram2d": [
           {
            "colorbar": {
             "outlinewidth": 0,
             "ticks": ""
            },
            "colorscale": [
             [
              0,
              "#0d0887"
             ],
             [
              0.1111111111111111,
              "#46039f"
             ],
             [
              0.2222222222222222,
              "#7201a8"
             ],
             [
              0.3333333333333333,
              "#9c179e"
             ],
             [
              0.4444444444444444,
              "#bd3786"
             ],
             [
              0.5555555555555556,
              "#d8576b"
             ],
             [
              0.6666666666666666,
              "#ed7953"
             ],
             [
              0.7777777777777778,
              "#fb9f3a"
             ],
             [
              0.8888888888888888,
              "#fdca26"
             ],
             [
              1,
              "#f0f921"
             ]
            ],
            "type": "histogram2d"
           }
          ],
          "histogram2dcontour": [
           {
            "colorbar": {
             "outlinewidth": 0,
             "ticks": ""
            },
            "colorscale": [
             [
              0,
              "#0d0887"
             ],
             [
              0.1111111111111111,
              "#46039f"
             ],
             [
              0.2222222222222222,
              "#7201a8"
             ],
             [
              0.3333333333333333,
              "#9c179e"
             ],
             [
              0.4444444444444444,
              "#bd3786"
             ],
             [
              0.5555555555555556,
              "#d8576b"
             ],
             [
              0.6666666666666666,
              "#ed7953"
             ],
             [
              0.7777777777777778,
              "#fb9f3a"
             ],
             [
              0.8888888888888888,
              "#fdca26"
             ],
             [
              1,
              "#f0f921"
             ]
            ],
            "type": "histogram2dcontour"
           }
          ],
          "mesh3d": [
           {
            "colorbar": {
             "outlinewidth": 0,
             "ticks": ""
            },
            "type": "mesh3d"
           }
          ],
          "parcoords": [
           {
            "line": {
             "colorbar": {
              "outlinewidth": 0,
              "ticks": ""
             }
            },
            "type": "parcoords"
           }
          ],
          "pie": [
           {
            "automargin": true,
            "type": "pie"
           }
          ],
          "scatter": [
           {
            "fillpattern": {
             "fillmode": "overlay",
             "size": 10,
             "solidity": 0.2
            },
            "type": "scatter"
           }
          ],
          "scatter3d": [
           {
            "line": {
             "colorbar": {
              "outlinewidth": 0,
              "ticks": ""
             }
            },
            "marker": {
             "colorbar": {
              "outlinewidth": 0,
              "ticks": ""
             }
            },
            "type": "scatter3d"
           }
          ],
          "scattercarpet": [
           {
            "marker": {
             "colorbar": {
              "outlinewidth": 0,
              "ticks": ""
             }
            },
            "type": "scattercarpet"
           }
          ],
          "scattergeo": [
           {
            "marker": {
             "colorbar": {
              "outlinewidth": 0,
              "ticks": ""
             }
            },
            "type": "scattergeo"
           }
          ],
          "scattergl": [
           {
            "marker": {
             "colorbar": {
              "outlinewidth": 0,
              "ticks": ""
             }
            },
            "type": "scattergl"
           }
          ],
          "scattermapbox": [
           {
            "marker": {
             "colorbar": {
              "outlinewidth": 0,
              "ticks": ""
             }
            },
            "type": "scattermapbox"
           }
          ],
          "scatterpolar": [
           {
            "marker": {
             "colorbar": {
              "outlinewidth": 0,
              "ticks": ""
             }
            },
            "type": "scatterpolar"
           }
          ],
          "scatterpolargl": [
           {
            "marker": {
             "colorbar": {
              "outlinewidth": 0,
              "ticks": ""
             }
            },
            "type": "scatterpolargl"
           }
          ],
          "scatterternary": [
           {
            "marker": {
             "colorbar": {
              "outlinewidth": 0,
              "ticks": ""
             }
            },
            "type": "scatterternary"
           }
          ],
          "surface": [
           {
            "colorbar": {
             "outlinewidth": 0,
             "ticks": ""
            },
            "colorscale": [
             [
              0,
              "#0d0887"
             ],
             [
              0.1111111111111111,
              "#46039f"
             ],
             [
              0.2222222222222222,
              "#7201a8"
             ],
             [
              0.3333333333333333,
              "#9c179e"
             ],
             [
              0.4444444444444444,
              "#bd3786"
             ],
             [
              0.5555555555555556,
              "#d8576b"
             ],
             [
              0.6666666666666666,
              "#ed7953"
             ],
             [
              0.7777777777777778,
              "#fb9f3a"
             ],
             [
              0.8888888888888888,
              "#fdca26"
             ],
             [
              1,
              "#f0f921"
             ]
            ],
            "type": "surface"
           }
          ],
          "table": [
           {
            "cells": {
             "fill": {
              "color": "#EBF0F8"
             },
             "line": {
              "color": "white"
             }
            },
            "header": {
             "fill": {
              "color": "#C8D4E3"
             },
             "line": {
              "color": "white"
             }
            },
            "type": "table"
           }
          ]
         },
         "layout": {
          "annotationdefaults": {
           "arrowcolor": "#2a3f5f",
           "arrowhead": 0,
           "arrowwidth": 1
          },
          "autotypenumbers": "strict",
          "coloraxis": {
           "colorbar": {
            "outlinewidth": 0,
            "ticks": ""
           }
          },
          "colorscale": {
           "diverging": [
            [
             0,
             "#8e0152"
            ],
            [
             0.1,
             "#c51b7d"
            ],
            [
             0.2,
             "#de77ae"
            ],
            [
             0.3,
             "#f1b6da"
            ],
            [
             0.4,
             "#fde0ef"
            ],
            [
             0.5,
             "#f7f7f7"
            ],
            [
             0.6,
             "#e6f5d0"
            ],
            [
             0.7,
             "#b8e186"
            ],
            [
             0.8,
             "#7fbc41"
            ],
            [
             0.9,
             "#4d9221"
            ],
            [
             1,
             "#276419"
            ]
           ],
           "sequential": [
            [
             0,
             "#0d0887"
            ],
            [
             0.1111111111111111,
             "#46039f"
            ],
            [
             0.2222222222222222,
             "#7201a8"
            ],
            [
             0.3333333333333333,
             "#9c179e"
            ],
            [
             0.4444444444444444,
             "#bd3786"
            ],
            [
             0.5555555555555556,
             "#d8576b"
            ],
            [
             0.6666666666666666,
             "#ed7953"
            ],
            [
             0.7777777777777778,
             "#fb9f3a"
            ],
            [
             0.8888888888888888,
             "#fdca26"
            ],
            [
             1,
             "#f0f921"
            ]
           ],
           "sequentialminus": [
            [
             0,
             "#0d0887"
            ],
            [
             0.1111111111111111,
             "#46039f"
            ],
            [
             0.2222222222222222,
             "#7201a8"
            ],
            [
             0.3333333333333333,
             "#9c179e"
            ],
            [
             0.4444444444444444,
             "#bd3786"
            ],
            [
             0.5555555555555556,
             "#d8576b"
            ],
            [
             0.6666666666666666,
             "#ed7953"
            ],
            [
             0.7777777777777778,
             "#fb9f3a"
            ],
            [
             0.8888888888888888,
             "#fdca26"
            ],
            [
             1,
             "#f0f921"
            ]
           ]
          },
          "colorway": [
           "#636efa",
           "#EF553B",
           "#00cc96",
           "#ab63fa",
           "#FFA15A",
           "#19d3f3",
           "#FF6692",
           "#B6E880",
           "#FF97FF",
           "#FECB52"
          ],
          "font": {
           "color": "#2a3f5f"
          },
          "geo": {
           "bgcolor": "white",
           "lakecolor": "white",
           "landcolor": "#E5ECF6",
           "showlakes": true,
           "showland": true,
           "subunitcolor": "white"
          },
          "hoverlabel": {
           "align": "left"
          },
          "hovermode": "closest",
          "mapbox": {
           "style": "light"
          },
          "paper_bgcolor": "white",
          "plot_bgcolor": "#E5ECF6",
          "polar": {
           "angularaxis": {
            "gridcolor": "white",
            "linecolor": "white",
            "ticks": ""
           },
           "bgcolor": "#E5ECF6",
           "radialaxis": {
            "gridcolor": "white",
            "linecolor": "white",
            "ticks": ""
           }
          },
          "scene": {
           "xaxis": {
            "backgroundcolor": "#E5ECF6",
            "gridcolor": "white",
            "gridwidth": 2,
            "linecolor": "white",
            "showbackground": true,
            "ticks": "",
            "zerolinecolor": "white"
           },
           "yaxis": {
            "backgroundcolor": "#E5ECF6",
            "gridcolor": "white",
            "gridwidth": 2,
            "linecolor": "white",
            "showbackground": true,
            "ticks": "",
            "zerolinecolor": "white"
           },
           "zaxis": {
            "backgroundcolor": "#E5ECF6",
            "gridcolor": "white",
            "gridwidth": 2,
            "linecolor": "white",
            "showbackground": true,
            "ticks": "",
            "zerolinecolor": "white"
           }
          },
          "shapedefaults": {
           "line": {
            "color": "#2a3f5f"
           }
          },
          "ternary": {
           "aaxis": {
            "gridcolor": "white",
            "linecolor": "white",
            "ticks": ""
           },
           "baxis": {
            "gridcolor": "white",
            "linecolor": "white",
            "ticks": ""
           },
           "bgcolor": "#E5ECF6",
           "caxis": {
            "gridcolor": "white",
            "linecolor": "white",
            "ticks": ""
           }
          },
          "title": {
           "x": 0.05
          },
          "xaxis": {
           "automargin": true,
           "gridcolor": "white",
           "linecolor": "white",
           "ticks": "",
           "title": {
            "standoff": 15
           },
           "zerolinecolor": "white",
           "zerolinewidth": 2
          },
          "yaxis": {
           "automargin": true,
           "gridcolor": "white",
           "linecolor": "white",
           "ticks": "",
           "title": {
            "standoff": 15
           },
           "zerolinecolor": "white",
           "zerolinewidth": 2
          }
         }
        },
        "title": {
         "text": "Top 5 Movie Genres for Negative Sentiment for Cold War Theme"
        },
        "width": 600
       }
      }
     },
     "metadata": {},
     "output_type": "display_data"
    },
    {
     "data": {
      "application/vnd.plotly.v1+json": {
       "config": {
        "plotlyServerURL": "https://plot.ly"
       },
       "data": [
        {
         "domain": {
          "x": [
           0,
           1
          ],
          "y": [
           0,
           1
          ]
         },
         "hovertemplate": "Genre=%{label}<br>Count=%{value}<extra></extra>",
         "labels": [
          "Drama",
          "Comedy",
          "World",
          "Thriller",
          "Action/Adventure"
         ],
         "legendgroup": "",
         "name": "",
         "pull": [
          0.1,
          0,
          0,
          0,
          0
         ],
         "showlegend": true,
         "textinfo": "percent+label",
         "type": "pie",
         "values": [
          31,
          15,
          13,
          9,
          9
         ]
        }
       ],
       "layout": {
        "height": 600,
        "legend": {
         "tracegroupgap": 0
        },
        "piecolorway": [
         "rgb(95, 70, 144)",
         "rgb(29, 105, 150)",
         "rgb(56, 166, 165)",
         "rgb(15, 133, 84)",
         "rgb(115, 175, 72)",
         "rgb(237, 173, 8)",
         "rgb(225, 124, 5)",
         "rgb(204, 80, 62)",
         "rgb(148, 52, 110)",
         "rgb(111, 64, 112)",
         "rgb(102, 102, 102)"
        ],
        "template": {
         "data": {
          "bar": [
           {
            "error_x": {
             "color": "#2a3f5f"
            },
            "error_y": {
             "color": "#2a3f5f"
            },
            "marker": {
             "line": {
              "color": "#E5ECF6",
              "width": 0.5
             },
             "pattern": {
              "fillmode": "overlay",
              "size": 10,
              "solidity": 0.2
             }
            },
            "type": "bar"
           }
          ],
          "barpolar": [
           {
            "marker": {
             "line": {
              "color": "#E5ECF6",
              "width": 0.5
             },
             "pattern": {
              "fillmode": "overlay",
              "size": 10,
              "solidity": 0.2
             }
            },
            "type": "barpolar"
           }
          ],
          "carpet": [
           {
            "aaxis": {
             "endlinecolor": "#2a3f5f",
             "gridcolor": "white",
             "linecolor": "white",
             "minorgridcolor": "white",
             "startlinecolor": "#2a3f5f"
            },
            "baxis": {
             "endlinecolor": "#2a3f5f",
             "gridcolor": "white",
             "linecolor": "white",
             "minorgridcolor": "white",
             "startlinecolor": "#2a3f5f"
            },
            "type": "carpet"
           }
          ],
          "choropleth": [
           {
            "colorbar": {
             "outlinewidth": 0,
             "ticks": ""
            },
            "type": "choropleth"
           }
          ],
          "contour": [
           {
            "colorbar": {
             "outlinewidth": 0,
             "ticks": ""
            },
            "colorscale": [
             [
              0,
              "#0d0887"
             ],
             [
              0.1111111111111111,
              "#46039f"
             ],
             [
              0.2222222222222222,
              "#7201a8"
             ],
             [
              0.3333333333333333,
              "#9c179e"
             ],
             [
              0.4444444444444444,
              "#bd3786"
             ],
             [
              0.5555555555555556,
              "#d8576b"
             ],
             [
              0.6666666666666666,
              "#ed7953"
             ],
             [
              0.7777777777777778,
              "#fb9f3a"
             ],
             [
              0.8888888888888888,
              "#fdca26"
             ],
             [
              1,
              "#f0f921"
             ]
            ],
            "type": "contour"
           }
          ],
          "contourcarpet": [
           {
            "colorbar": {
             "outlinewidth": 0,
             "ticks": ""
            },
            "type": "contourcarpet"
           }
          ],
          "heatmap": [
           {
            "colorbar": {
             "outlinewidth": 0,
             "ticks": ""
            },
            "colorscale": [
             [
              0,
              "#0d0887"
             ],
             [
              0.1111111111111111,
              "#46039f"
             ],
             [
              0.2222222222222222,
              "#7201a8"
             ],
             [
              0.3333333333333333,
              "#9c179e"
             ],
             [
              0.4444444444444444,
              "#bd3786"
             ],
             [
              0.5555555555555556,
              "#d8576b"
             ],
             [
              0.6666666666666666,
              "#ed7953"
             ],
             [
              0.7777777777777778,
              "#fb9f3a"
             ],
             [
              0.8888888888888888,
              "#fdca26"
             ],
             [
              1,
              "#f0f921"
             ]
            ],
            "type": "heatmap"
           }
          ],
          "heatmapgl": [
           {
            "colorbar": {
             "outlinewidth": 0,
             "ticks": ""
            },
            "colorscale": [
             [
              0,
              "#0d0887"
             ],
             [
              0.1111111111111111,
              "#46039f"
             ],
             [
              0.2222222222222222,
              "#7201a8"
             ],
             [
              0.3333333333333333,
              "#9c179e"
             ],
             [
              0.4444444444444444,
              "#bd3786"
             ],
             [
              0.5555555555555556,
              "#d8576b"
             ],
             [
              0.6666666666666666,
              "#ed7953"
             ],
             [
              0.7777777777777778,
              "#fb9f3a"
             ],
             [
              0.8888888888888888,
              "#fdca26"
             ],
             [
              1,
              "#f0f921"
             ]
            ],
            "type": "heatmapgl"
           }
          ],
          "histogram": [
           {
            "marker": {
             "pattern": {
              "fillmode": "overlay",
              "size": 10,
              "solidity": 0.2
             }
            },
            "type": "histogram"
           }
          ],
          "histogram2d": [
           {
            "colorbar": {
             "outlinewidth": 0,
             "ticks": ""
            },
            "colorscale": [
             [
              0,
              "#0d0887"
             ],
             [
              0.1111111111111111,
              "#46039f"
             ],
             [
              0.2222222222222222,
              "#7201a8"
             ],
             [
              0.3333333333333333,
              "#9c179e"
             ],
             [
              0.4444444444444444,
              "#bd3786"
             ],
             [
              0.5555555555555556,
              "#d8576b"
             ],
             [
              0.6666666666666666,
              "#ed7953"
             ],
             [
              0.7777777777777778,
              "#fb9f3a"
             ],
             [
              0.8888888888888888,
              "#fdca26"
             ],
             [
              1,
              "#f0f921"
             ]
            ],
            "type": "histogram2d"
           }
          ],
          "histogram2dcontour": [
           {
            "colorbar": {
             "outlinewidth": 0,
             "ticks": ""
            },
            "colorscale": [
             [
              0,
              "#0d0887"
             ],
             [
              0.1111111111111111,
              "#46039f"
             ],
             [
              0.2222222222222222,
              "#7201a8"
             ],
             [
              0.3333333333333333,
              "#9c179e"
             ],
             [
              0.4444444444444444,
              "#bd3786"
             ],
             [
              0.5555555555555556,
              "#d8576b"
             ],
             [
              0.6666666666666666,
              "#ed7953"
             ],
             [
              0.7777777777777778,
              "#fb9f3a"
             ],
             [
              0.8888888888888888,
              "#fdca26"
             ],
             [
              1,
              "#f0f921"
             ]
            ],
            "type": "histogram2dcontour"
           }
          ],
          "mesh3d": [
           {
            "colorbar": {
             "outlinewidth": 0,
             "ticks": ""
            },
            "type": "mesh3d"
           }
          ],
          "parcoords": [
           {
            "line": {
             "colorbar": {
              "outlinewidth": 0,
              "ticks": ""
             }
            },
            "type": "parcoords"
           }
          ],
          "pie": [
           {
            "automargin": true,
            "type": "pie"
           }
          ],
          "scatter": [
           {
            "fillpattern": {
             "fillmode": "overlay",
             "size": 10,
             "solidity": 0.2
            },
            "type": "scatter"
           }
          ],
          "scatter3d": [
           {
            "line": {
             "colorbar": {
              "outlinewidth": 0,
              "ticks": ""
             }
            },
            "marker": {
             "colorbar": {
              "outlinewidth": 0,
              "ticks": ""
             }
            },
            "type": "scatter3d"
           }
          ],
          "scattercarpet": [
           {
            "marker": {
             "colorbar": {
              "outlinewidth": 0,
              "ticks": ""
             }
            },
            "type": "scattercarpet"
           }
          ],
          "scattergeo": [
           {
            "marker": {
             "colorbar": {
              "outlinewidth": 0,
              "ticks": ""
             }
            },
            "type": "scattergeo"
           }
          ],
          "scattergl": [
           {
            "marker": {
             "colorbar": {
              "outlinewidth": 0,
              "ticks": ""
             }
            },
            "type": "scattergl"
           }
          ],
          "scattermapbox": [
           {
            "marker": {
             "colorbar": {
              "outlinewidth": 0,
              "ticks": ""
             }
            },
            "type": "scattermapbox"
           }
          ],
          "scatterpolar": [
           {
            "marker": {
             "colorbar": {
              "outlinewidth": 0,
              "ticks": ""
             }
            },
            "type": "scatterpolar"
           }
          ],
          "scatterpolargl": [
           {
            "marker": {
             "colorbar": {
              "outlinewidth": 0,
              "ticks": ""
             }
            },
            "type": "scatterpolargl"
           }
          ],
          "scatterternary": [
           {
            "marker": {
             "colorbar": {
              "outlinewidth": 0,
              "ticks": ""
             }
            },
            "type": "scatterternary"
           }
          ],
          "surface": [
           {
            "colorbar": {
             "outlinewidth": 0,
             "ticks": ""
            },
            "colorscale": [
             [
              0,
              "#0d0887"
             ],
             [
              0.1111111111111111,
              "#46039f"
             ],
             [
              0.2222222222222222,
              "#7201a8"
             ],
             [
              0.3333333333333333,
              "#9c179e"
             ],
             [
              0.4444444444444444,
              "#bd3786"
             ],
             [
              0.5555555555555556,
              "#d8576b"
             ],
             [
              0.6666666666666666,
              "#ed7953"
             ],
             [
              0.7777777777777778,
              "#fb9f3a"
             ],
             [
              0.8888888888888888,
              "#fdca26"
             ],
             [
              1,
              "#f0f921"
             ]
            ],
            "type": "surface"
           }
          ],
          "table": [
           {
            "cells": {
             "fill": {
              "color": "#EBF0F8"
             },
             "line": {
              "color": "white"
             }
            },
            "header": {
             "fill": {
              "color": "#C8D4E3"
             },
             "line": {
              "color": "white"
             }
            },
            "type": "table"
           }
          ]
         },
         "layout": {
          "annotationdefaults": {
           "arrowcolor": "#2a3f5f",
           "arrowhead": 0,
           "arrowwidth": 1
          },
          "autotypenumbers": "strict",
          "coloraxis": {
           "colorbar": {
            "outlinewidth": 0,
            "ticks": ""
           }
          },
          "colorscale": {
           "diverging": [
            [
             0,
             "#8e0152"
            ],
            [
             0.1,
             "#c51b7d"
            ],
            [
             0.2,
             "#de77ae"
            ],
            [
             0.3,
             "#f1b6da"
            ],
            [
             0.4,
             "#fde0ef"
            ],
            [
             0.5,
             "#f7f7f7"
            ],
            [
             0.6,
             "#e6f5d0"
            ],
            [
             0.7,
             "#b8e186"
            ],
            [
             0.8,
             "#7fbc41"
            ],
            [
             0.9,
             "#4d9221"
            ],
            [
             1,
             "#276419"
            ]
           ],
           "sequential": [
            [
             0,
             "#0d0887"
            ],
            [
             0.1111111111111111,
             "#46039f"
            ],
            [
             0.2222222222222222,
             "#7201a8"
            ],
            [
             0.3333333333333333,
             "#9c179e"
            ],
            [
             0.4444444444444444,
             "#bd3786"
            ],
            [
             0.5555555555555556,
             "#d8576b"
            ],
            [
             0.6666666666666666,
             "#ed7953"
            ],
            [
             0.7777777777777778,
             "#fb9f3a"
            ],
            [
             0.8888888888888888,
             "#fdca26"
            ],
            [
             1,
             "#f0f921"
            ]
           ],
           "sequentialminus": [
            [
             0,
             "#0d0887"
            ],
            [
             0.1111111111111111,
             "#46039f"
            ],
            [
             0.2222222222222222,
             "#7201a8"
            ],
            [
             0.3333333333333333,
             "#9c179e"
            ],
            [
             0.4444444444444444,
             "#bd3786"
            ],
            [
             0.5555555555555556,
             "#d8576b"
            ],
            [
             0.6666666666666666,
             "#ed7953"
            ],
            [
             0.7777777777777778,
             "#fb9f3a"
            ],
            [
             0.8888888888888888,
             "#fdca26"
            ],
            [
             1,
             "#f0f921"
            ]
           ]
          },
          "colorway": [
           "#636efa",
           "#EF553B",
           "#00cc96",
           "#ab63fa",
           "#FFA15A",
           "#19d3f3",
           "#FF6692",
           "#B6E880",
           "#FF97FF",
           "#FECB52"
          ],
          "font": {
           "color": "#2a3f5f"
          },
          "geo": {
           "bgcolor": "white",
           "lakecolor": "white",
           "landcolor": "#E5ECF6",
           "showlakes": true,
           "showland": true,
           "subunitcolor": "white"
          },
          "hoverlabel": {
           "align": "left"
          },
          "hovermode": "closest",
          "mapbox": {
           "style": "light"
          },
          "paper_bgcolor": "white",
          "plot_bgcolor": "#E5ECF6",
          "polar": {
           "angularaxis": {
            "gridcolor": "white",
            "linecolor": "white",
            "ticks": ""
           },
           "bgcolor": "#E5ECF6",
           "radialaxis": {
            "gridcolor": "white",
            "linecolor": "white",
            "ticks": ""
           }
          },
          "scene": {
           "xaxis": {
            "backgroundcolor": "#E5ECF6",
            "gridcolor": "white",
            "gridwidth": 2,
            "linecolor": "white",
            "showbackground": true,
            "ticks": "",
            "zerolinecolor": "white"
           },
           "yaxis": {
            "backgroundcolor": "#E5ECF6",
            "gridcolor": "white",
            "gridwidth": 2,
            "linecolor": "white",
            "showbackground": true,
            "ticks": "",
            "zerolinecolor": "white"
           },
           "zaxis": {
            "backgroundcolor": "#E5ECF6",
            "gridcolor": "white",
            "gridwidth": 2,
            "linecolor": "white",
            "showbackground": true,
            "ticks": "",
            "zerolinecolor": "white"
           }
          },
          "shapedefaults": {
           "line": {
            "color": "#2a3f5f"
           }
          },
          "ternary": {
           "aaxis": {
            "gridcolor": "white",
            "linecolor": "white",
            "ticks": ""
           },
           "baxis": {
            "gridcolor": "white",
            "linecolor": "white",
            "ticks": ""
           },
           "bgcolor": "#E5ECF6",
           "caxis": {
            "gridcolor": "white",
            "linecolor": "white",
            "ticks": ""
           }
          },
          "title": {
           "x": 0.05
          },
          "xaxis": {
           "automargin": true,
           "gridcolor": "white",
           "linecolor": "white",
           "ticks": "",
           "title": {
            "standoff": 15
           },
           "zerolinecolor": "white",
           "zerolinewidth": 2
          },
          "yaxis": {
           "automargin": true,
           "gridcolor": "white",
           "linecolor": "white",
           "ticks": "",
           "title": {
            "standoff": 15
           },
           "zerolinecolor": "white",
           "zerolinewidth": 2
          }
         }
        },
        "title": {
         "text": "Top 5 Movie Genres for Positive Sentiment for Cold War Theme"
        },
        "width": 600
       }
      }
     },
     "metadata": {},
     "output_type": "display_data"
    }
   ],
   "source": [
    "fig = plot_top_movie_genres_by_sentiment(df_plot, theme, x=5)\n",
    "fig['negative'].show()\n",
    "fig['positive'].show()\n"
   ]
  },
  {
   "cell_type": "markdown",
   "id": "d0496974",
   "metadata": {},
   "source": [
    "Interesting: \n",
    "- Negative sentiment: Comedy is prevalent because Cold War comedies often used satire to critique political ideologies, societal paranoia, and absurdities of the era. Used humour to show the darker truth of the era. \n",
    "- Positive sentiment: World. Many Cold War-themed world cinema narratives from the post-Cold War period focus on reconciliation. "
   ]
  },
  {
   "cell_type": "code",
   "execution_count": 21,
   "id": "85b70ae7",
   "metadata": {},
   "outputs": [
    {
     "data": {
      "application/vnd.plotly.v1+json": {
       "config": {
        "plotlyServerURL": "https://plot.ly"
       },
       "data": [
        {
         "branchvalues": "total",
         "customdata": [
          [
           18.27111111111111
          ],
          [
           6.090909090909091
          ],
          [
           19.12676056338028
          ],
          [
           24.863453815261042
          ],
          [
           23.906906906906908
          ],
          [
           26.02409638554217
          ],
          [
           18.466063348416288
          ],
          [
           19.58467741935484
          ],
          [
           24.3224043715847
          ],
          [
           27.2680412371134
          ],
          [
           5.7555555555555555
          ],
          [
           3.8
          ],
          [
           7.987654320987654
          ],
          [
           9.73913043478261
          ],
          [
           11.104166666666666
          ],
          [
           24.89442815249267
          ],
          [
           9.296296296296296
          ],
          [
           32.4027149321267
          ],
          [
           40.055813953488375
          ],
          [
           37.14876033057851
          ],
          [
           10.065217391304348
          ],
          [
           13.131313131313131
          ],
          [
           12.39522546419098
          ],
          [
           8.720930232558139
          ],
          [
           14.456
          ],
          [
           27.91271820448878
          ],
          [
           11.222222222222221
          ],
          [
           31.577663671373557
          ],
          [
           39.34728033472803
          ],
          [
           40.06422018348624
          ],
          [
           49.47769028871391
          ],
          [
           33.053941908713696
          ],
          [
           38.678889990089196
          ],
          [
           52.254901960784316
          ],
          [
           51.898989898989896
          ],
          [
           11.897435897435898
          ],
          [
           5.8
          ],
          [
           16.337142857142858
          ],
          [
           20.835051546391753
          ],
          [
           20.632478632478634
          ],
          [
           13.225
          ],
          [
           11.561983471074381
          ],
          [
           11.945147679324894
          ],
          [
           13.102564102564102
          ],
          [
           17.905263157894737
          ],
          [
           43.33112582781457
          ],
          [
           22.87421383647799
          ],
          [
           30.08623298033283
          ],
          [
           45.57347670250896
          ],
          [
           43.45864661654135
          ],
          [
           21.572135201978565
          ],
          [
           8.47982062780269
          ],
          [
           25.731932773109243
          ],
          [
           32.68260568260568
          ],
          [
           31.71985815602837
          ],
          [
           37.45445641527914
          ],
          [
           23.34776119402985
          ],
          [
           27.385611510791367
          ],
          [
           38.243133265513734
          ],
          [
           38.020446096654275
          ],
          [
           28.830796777081467
          ],
          [
           21.226487523992322
          ],
          [
           26.622868217054265
          ],
          [
           34.935696619950534
          ],
          [
           34.16907514450867
          ],
          [
           29.276588226980426
          ]
         ],
         "domain": {
          "x": [
           0,
           1
          ],
          "y": [
           0,
           1
          ]
         },
         "hovertemplate": "labels=%{label}<br>Emotion_Count_sum=%{value}<br>parent=%{parent}<br>id=%{id}<br>Emotion Count=%{color}<extra></extra>",
         "ids": [
          "Cold War/Action/Adventure/NEGATIVE/anger",
          "Cold War/Comedy/NEGATIVE/anger",
          "Cold War/Drama/NEGATIVE/anger",
          "Cold War/Thriller/NEGATIVE/anger",
          "Cold War/War/NEGATIVE/anger",
          "Cold War/Action/Adventure/POSITIVE/anticipation",
          "Cold War/Comedy/POSITIVE/anticipation",
          "Cold War/Drama/POSITIVE/anticipation",
          "Cold War/Thriller/POSITIVE/anticipation",
          "Cold War/War/POSITIVE/anticipation",
          "Cold War/Action/Adventure/NEGATIVE/disgust",
          "Cold War/Comedy/NEGATIVE/disgust",
          "Cold War/Drama/NEGATIVE/disgust",
          "Cold War/Thriller/NEGATIVE/disgust",
          "Cold War/War/NEGATIVE/disgust",
          "Cold War/Action/Adventure/NEGATIVE/fear",
          "Cold War/Comedy/NEGATIVE/fear",
          "Cold War/Drama/NEGATIVE/fear",
          "Cold War/Thriller/NEGATIVE/fear",
          "Cold War/War/NEGATIVE/fear",
          "Cold War/Action/Adventure/POSITIVE/joy",
          "Cold War/Comedy/POSITIVE/joy",
          "Cold War/Drama/POSITIVE/joy",
          "Cold War/Thriller/POSITIVE/joy",
          "Cold War/War/POSITIVE/joy",
          "Cold War/Action/Adventure/NEGATIVE/negative",
          "Cold War/Comedy/NEGATIVE/negative",
          "Cold War/Drama/NEGATIVE/negative",
          "Cold War/Thriller/NEGATIVE/negative",
          "Cold War/War/NEGATIVE/negative",
          "Cold War/Action/Adventure/POSITIVE/positive",
          "Cold War/Comedy/POSITIVE/positive",
          "Cold War/Drama/POSITIVE/positive",
          "Cold War/Thriller/POSITIVE/positive",
          "Cold War/War/POSITIVE/positive",
          "Cold War/Action/Adventure/NEGATIVE/sadness",
          "Cold War/Comedy/NEGATIVE/sadness",
          "Cold War/Drama/NEGATIVE/sadness",
          "Cold War/Thriller/NEGATIVE/sadness",
          "Cold War/War/NEGATIVE/sadness",
          "Cold War/Action/Adventure/POSITIVE/surprise",
          "Cold War/Comedy/POSITIVE/surprise",
          "Cold War/Drama/POSITIVE/surprise",
          "Cold War/Thriller/POSITIVE/surprise",
          "Cold War/War/POSITIVE/surprise",
          "Cold War/Action/Adventure/POSITIVE/trust",
          "Cold War/Comedy/POSITIVE/trust",
          "Cold War/Drama/POSITIVE/trust",
          "Cold War/Thriller/POSITIVE/trust",
          "Cold War/War/POSITIVE/trust",
          "Cold War/Action/Adventure/NEGATIVE",
          "Cold War/Comedy/NEGATIVE",
          "Cold War/Drama/NEGATIVE",
          "Cold War/Thriller/NEGATIVE",
          "Cold War/War/NEGATIVE",
          "Cold War/Action/Adventure/POSITIVE",
          "Cold War/Comedy/POSITIVE",
          "Cold War/Drama/POSITIVE",
          "Cold War/Thriller/POSITIVE",
          "Cold War/War/POSITIVE",
          "Cold War/Action/Adventure",
          "Cold War/Comedy",
          "Cold War/Drama",
          "Cold War/Thriller",
          "Cold War/War",
          "Cold War"
         ],
         "labels": [
          "anger",
          "anger",
          "anger",
          "anger",
          "anger",
          "anticipation",
          "anticipation",
          "anticipation",
          "anticipation",
          "anticipation",
          "disgust",
          "disgust",
          "disgust",
          "disgust",
          "disgust",
          "fear",
          "fear",
          "fear",
          "fear",
          "fear",
          "joy",
          "joy",
          "joy",
          "joy",
          "joy",
          "negative",
          "negative",
          "negative",
          "negative",
          "negative",
          "positive",
          "positive",
          "positive",
          "positive",
          "positive",
          "sadness",
          "sadness",
          "sadness",
          "sadness",
          "sadness",
          "surprise",
          "surprise",
          "surprise",
          "surprise",
          "surprise",
          "trust",
          "trust",
          "trust",
          "trust",
          "trust",
          "NEGATIVE",
          "NEGATIVE",
          "NEGATIVE",
          "NEGATIVE",
          "NEGATIVE",
          "POSITIVE",
          "POSITIVE",
          "POSITIVE",
          "POSITIVE",
          "POSITIVE",
          "Action/Adventure",
          "Comedy",
          "Drama",
          "Thriller",
          "War",
          "Cold War"
         ],
         "marker": {
          "coloraxis": "coloraxis",
          "colors": [
           18.27111111111111,
           6.090909090909091,
           19.12676056338028,
           24.863453815261042,
           23.906906906906908,
           26.02409638554217,
           18.466063348416288,
           19.58467741935484,
           24.3224043715847,
           27.2680412371134,
           5.7555555555555555,
           3.8,
           7.987654320987654,
           9.73913043478261,
           11.104166666666666,
           24.89442815249267,
           9.296296296296296,
           32.4027149321267,
           40.055813953488375,
           37.14876033057851,
           10.065217391304348,
           13.131313131313131,
           12.39522546419098,
           8.720930232558139,
           14.456,
           27.91271820448878,
           11.222222222222221,
           31.577663671373557,
           39.34728033472803,
           40.06422018348624,
           49.47769028871391,
           33.053941908713696,
           38.678889990089196,
           52.254901960784316,
           51.898989898989896,
           11.897435897435898,
           5.8,
           16.337142857142858,
           20.835051546391753,
           20.632478632478634,
           13.225,
           11.561983471074381,
           11.945147679324894,
           13.102564102564102,
           17.905263157894737,
           43.33112582781457,
           22.87421383647799,
           30.08623298033283,
           45.57347670250896,
           43.45864661654135,
           21.572135201978565,
           8.47982062780269,
           25.731932773109243,
           32.68260568260568,
           31.71985815602837,
           37.45445641527914,
           23.34776119402985,
           27.385611510791367,
           38.243133265513734,
           38.020446096654275,
           28.830796777081467,
           21.226487523992322,
           26.622868217054265,
           34.935696619950534,
           34.16907514450867,
           29.276588226980426
          ]
         },
         "name": "",
         "parents": [
          "Cold War/Action/Adventure/NEGATIVE",
          "Cold War/Comedy/NEGATIVE",
          "Cold War/Drama/NEGATIVE",
          "Cold War/Thriller/NEGATIVE",
          "Cold War/War/NEGATIVE",
          "Cold War/Action/Adventure/POSITIVE",
          "Cold War/Comedy/POSITIVE",
          "Cold War/Drama/POSITIVE",
          "Cold War/Thriller/POSITIVE",
          "Cold War/War/POSITIVE",
          "Cold War/Action/Adventure/NEGATIVE",
          "Cold War/Comedy/NEGATIVE",
          "Cold War/Drama/NEGATIVE",
          "Cold War/Thriller/NEGATIVE",
          "Cold War/War/NEGATIVE",
          "Cold War/Action/Adventure/NEGATIVE",
          "Cold War/Comedy/NEGATIVE",
          "Cold War/Drama/NEGATIVE",
          "Cold War/Thriller/NEGATIVE",
          "Cold War/War/NEGATIVE",
          "Cold War/Action/Adventure/POSITIVE",
          "Cold War/Comedy/POSITIVE",
          "Cold War/Drama/POSITIVE",
          "Cold War/Thriller/POSITIVE",
          "Cold War/War/POSITIVE",
          "Cold War/Action/Adventure/NEGATIVE",
          "Cold War/Comedy/NEGATIVE",
          "Cold War/Drama/NEGATIVE",
          "Cold War/Thriller/NEGATIVE",
          "Cold War/War/NEGATIVE",
          "Cold War/Action/Adventure/POSITIVE",
          "Cold War/Comedy/POSITIVE",
          "Cold War/Drama/POSITIVE",
          "Cold War/Thriller/POSITIVE",
          "Cold War/War/POSITIVE",
          "Cold War/Action/Adventure/NEGATIVE",
          "Cold War/Comedy/NEGATIVE",
          "Cold War/Drama/NEGATIVE",
          "Cold War/Thriller/NEGATIVE",
          "Cold War/War/NEGATIVE",
          "Cold War/Action/Adventure/POSITIVE",
          "Cold War/Comedy/POSITIVE",
          "Cold War/Drama/POSITIVE",
          "Cold War/Thriller/POSITIVE",
          "Cold War/War/POSITIVE",
          "Cold War/Action/Adventure/POSITIVE",
          "Cold War/Comedy/POSITIVE",
          "Cold War/Drama/POSITIVE",
          "Cold War/Thriller/POSITIVE",
          "Cold War/War/POSITIVE",
          "Cold War/Action/Adventure",
          "Cold War/Comedy",
          "Cold War/Drama",
          "Cold War/Thriller",
          "Cold War/War",
          "Cold War/Action/Adventure",
          "Cold War/Comedy",
          "Cold War/Drama",
          "Cold War/Thriller",
          "Cold War/War",
          "Cold War",
          "Cold War",
          "Cold War",
          "Cold War",
          "Cold War",
          ""
         ],
         "type": "sunburst",
         "values": [
          225,
          33,
          426,
          249,
          333,
          166,
          221,
          496,
          183,
          194,
          90,
          20,
          162,
          92,
          96,
          341,
          54,
          663,
          430,
          484,
          92,
          198,
          377,
          86,
          125,
          401,
          81,
          779,
          478,
          545,
          381,
          482,
          1009,
          357,
          396,
          156,
          35,
          350,
          194,
          234,
          80,
          121,
          237,
          78,
          95,
          302,
          318,
          661,
          279,
          266,
          1213,
          223,
          2380,
          1443,
          1692,
          1021,
          1340,
          2780,
          983,
          1076,
          2234,
          1563,
          5160,
          2426,
          2768,
          14151
         ]
        }
       ],
       "layout": {
        "coloraxis": {
         "colorbar": {
          "title": {
           "text": "Emotion Count"
          }
         },
         "colorscale": [
          [
           0,
           "rgb(103,0,31)"
          ],
          [
           0.1,
           "rgb(178,24,43)"
          ],
          [
           0.2,
           "rgb(214,96,77)"
          ],
          [
           0.3,
           "rgb(244,165,130)"
          ],
          [
           0.4,
           "rgb(253,219,199)"
          ],
          [
           0.5,
           "rgb(247,247,247)"
          ],
          [
           0.6,
           "rgb(209,229,240)"
          ],
          [
           0.7,
           "rgb(146,197,222)"
          ],
          [
           0.8,
           "rgb(67,147,195)"
          ],
          [
           0.9,
           "rgb(33,102,172)"
          ],
          [
           1,
           "rgb(5,48,97)"
          ]
         ]
        },
        "legend": {
         "tracegroupgap": 0
        },
        "template": {
         "data": {
          "bar": [
           {
            "error_x": {
             "color": "#2a3f5f"
            },
            "error_y": {
             "color": "#2a3f5f"
            },
            "marker": {
             "line": {
              "color": "#E5ECF6",
              "width": 0.5
             },
             "pattern": {
              "fillmode": "overlay",
              "size": 10,
              "solidity": 0.2
             }
            },
            "type": "bar"
           }
          ],
          "barpolar": [
           {
            "marker": {
             "line": {
              "color": "#E5ECF6",
              "width": 0.5
             },
             "pattern": {
              "fillmode": "overlay",
              "size": 10,
              "solidity": 0.2
             }
            },
            "type": "barpolar"
           }
          ],
          "carpet": [
           {
            "aaxis": {
             "endlinecolor": "#2a3f5f",
             "gridcolor": "white",
             "linecolor": "white",
             "minorgridcolor": "white",
             "startlinecolor": "#2a3f5f"
            },
            "baxis": {
             "endlinecolor": "#2a3f5f",
             "gridcolor": "white",
             "linecolor": "white",
             "minorgridcolor": "white",
             "startlinecolor": "#2a3f5f"
            },
            "type": "carpet"
           }
          ],
          "choropleth": [
           {
            "colorbar": {
             "outlinewidth": 0,
             "ticks": ""
            },
            "type": "choropleth"
           }
          ],
          "contour": [
           {
            "colorbar": {
             "outlinewidth": 0,
             "ticks": ""
            },
            "colorscale": [
             [
              0,
              "#0d0887"
             ],
             [
              0.1111111111111111,
              "#46039f"
             ],
             [
              0.2222222222222222,
              "#7201a8"
             ],
             [
              0.3333333333333333,
              "#9c179e"
             ],
             [
              0.4444444444444444,
              "#bd3786"
             ],
             [
              0.5555555555555556,
              "#d8576b"
             ],
             [
              0.6666666666666666,
              "#ed7953"
             ],
             [
              0.7777777777777778,
              "#fb9f3a"
             ],
             [
              0.8888888888888888,
              "#fdca26"
             ],
             [
              1,
              "#f0f921"
             ]
            ],
            "type": "contour"
           }
          ],
          "contourcarpet": [
           {
            "colorbar": {
             "outlinewidth": 0,
             "ticks": ""
            },
            "type": "contourcarpet"
           }
          ],
          "heatmap": [
           {
            "colorbar": {
             "outlinewidth": 0,
             "ticks": ""
            },
            "colorscale": [
             [
              0,
              "#0d0887"
             ],
             [
              0.1111111111111111,
              "#46039f"
             ],
             [
              0.2222222222222222,
              "#7201a8"
             ],
             [
              0.3333333333333333,
              "#9c179e"
             ],
             [
              0.4444444444444444,
              "#bd3786"
             ],
             [
              0.5555555555555556,
              "#d8576b"
             ],
             [
              0.6666666666666666,
              "#ed7953"
             ],
             [
              0.7777777777777778,
              "#fb9f3a"
             ],
             [
              0.8888888888888888,
              "#fdca26"
             ],
             [
              1,
              "#f0f921"
             ]
            ],
            "type": "heatmap"
           }
          ],
          "heatmapgl": [
           {
            "colorbar": {
             "outlinewidth": 0,
             "ticks": ""
            },
            "colorscale": [
             [
              0,
              "#0d0887"
             ],
             [
              0.1111111111111111,
              "#46039f"
             ],
             [
              0.2222222222222222,
              "#7201a8"
             ],
             [
              0.3333333333333333,
              "#9c179e"
             ],
             [
              0.4444444444444444,
              "#bd3786"
             ],
             [
              0.5555555555555556,
              "#d8576b"
             ],
             [
              0.6666666666666666,
              "#ed7953"
             ],
             [
              0.7777777777777778,
              "#fb9f3a"
             ],
             [
              0.8888888888888888,
              "#fdca26"
             ],
             [
              1,
              "#f0f921"
             ]
            ],
            "type": "heatmapgl"
           }
          ],
          "histogram": [
           {
            "marker": {
             "pattern": {
              "fillmode": "overlay",
              "size": 10,
              "solidity": 0.2
             }
            },
            "type": "histogram"
           }
          ],
          "histogram2d": [
           {
            "colorbar": {
             "outlinewidth": 0,
             "ticks": ""
            },
            "colorscale": [
             [
              0,
              "#0d0887"
             ],
             [
              0.1111111111111111,
              "#46039f"
             ],
             [
              0.2222222222222222,
              "#7201a8"
             ],
             [
              0.3333333333333333,
              "#9c179e"
             ],
             [
              0.4444444444444444,
              "#bd3786"
             ],
             [
              0.5555555555555556,
              "#d8576b"
             ],
             [
              0.6666666666666666,
              "#ed7953"
             ],
             [
              0.7777777777777778,
              "#fb9f3a"
             ],
             [
              0.8888888888888888,
              "#fdca26"
             ],
             [
              1,
              "#f0f921"
             ]
            ],
            "type": "histogram2d"
           }
          ],
          "histogram2dcontour": [
           {
            "colorbar": {
             "outlinewidth": 0,
             "ticks": ""
            },
            "colorscale": [
             [
              0,
              "#0d0887"
             ],
             [
              0.1111111111111111,
              "#46039f"
             ],
             [
              0.2222222222222222,
              "#7201a8"
             ],
             [
              0.3333333333333333,
              "#9c179e"
             ],
             [
              0.4444444444444444,
              "#bd3786"
             ],
             [
              0.5555555555555556,
              "#d8576b"
             ],
             [
              0.6666666666666666,
              "#ed7953"
             ],
             [
              0.7777777777777778,
              "#fb9f3a"
             ],
             [
              0.8888888888888888,
              "#fdca26"
             ],
             [
              1,
              "#f0f921"
             ]
            ],
            "type": "histogram2dcontour"
           }
          ],
          "mesh3d": [
           {
            "colorbar": {
             "outlinewidth": 0,
             "ticks": ""
            },
            "type": "mesh3d"
           }
          ],
          "parcoords": [
           {
            "line": {
             "colorbar": {
              "outlinewidth": 0,
              "ticks": ""
             }
            },
            "type": "parcoords"
           }
          ],
          "pie": [
           {
            "automargin": true,
            "type": "pie"
           }
          ],
          "scatter": [
           {
            "fillpattern": {
             "fillmode": "overlay",
             "size": 10,
             "solidity": 0.2
            },
            "type": "scatter"
           }
          ],
          "scatter3d": [
           {
            "line": {
             "colorbar": {
              "outlinewidth": 0,
              "ticks": ""
             }
            },
            "marker": {
             "colorbar": {
              "outlinewidth": 0,
              "ticks": ""
             }
            },
            "type": "scatter3d"
           }
          ],
          "scattercarpet": [
           {
            "marker": {
             "colorbar": {
              "outlinewidth": 0,
              "ticks": ""
             }
            },
            "type": "scattercarpet"
           }
          ],
          "scattergeo": [
           {
            "marker": {
             "colorbar": {
              "outlinewidth": 0,
              "ticks": ""
             }
            },
            "type": "scattergeo"
           }
          ],
          "scattergl": [
           {
            "marker": {
             "colorbar": {
              "outlinewidth": 0,
              "ticks": ""
             }
            },
            "type": "scattergl"
           }
          ],
          "scattermapbox": [
           {
            "marker": {
             "colorbar": {
              "outlinewidth": 0,
              "ticks": ""
             }
            },
            "type": "scattermapbox"
           }
          ],
          "scatterpolar": [
           {
            "marker": {
             "colorbar": {
              "outlinewidth": 0,
              "ticks": ""
             }
            },
            "type": "scatterpolar"
           }
          ],
          "scatterpolargl": [
           {
            "marker": {
             "colorbar": {
              "outlinewidth": 0,
              "ticks": ""
             }
            },
            "type": "scatterpolargl"
           }
          ],
          "scatterternary": [
           {
            "marker": {
             "colorbar": {
              "outlinewidth": 0,
              "ticks": ""
             }
            },
            "type": "scatterternary"
           }
          ],
          "surface": [
           {
            "colorbar": {
             "outlinewidth": 0,
             "ticks": ""
            },
            "colorscale": [
             [
              0,
              "#0d0887"
             ],
             [
              0.1111111111111111,
              "#46039f"
             ],
             [
              0.2222222222222222,
              "#7201a8"
             ],
             [
              0.3333333333333333,
              "#9c179e"
             ],
             [
              0.4444444444444444,
              "#bd3786"
             ],
             [
              0.5555555555555556,
              "#d8576b"
             ],
             [
              0.6666666666666666,
              "#ed7953"
             ],
             [
              0.7777777777777778,
              "#fb9f3a"
             ],
             [
              0.8888888888888888,
              "#fdca26"
             ],
             [
              1,
              "#f0f921"
             ]
            ],
            "type": "surface"
           }
          ],
          "table": [
           {
            "cells": {
             "fill": {
              "color": "#EBF0F8"
             },
             "line": {
              "color": "white"
             }
            },
            "header": {
             "fill": {
              "color": "#C8D4E3"
             },
             "line": {
              "color": "white"
             }
            },
            "type": "table"
           }
          ]
         },
         "layout": {
          "annotationdefaults": {
           "arrowcolor": "#2a3f5f",
           "arrowhead": 0,
           "arrowwidth": 1
          },
          "autotypenumbers": "strict",
          "coloraxis": {
           "colorbar": {
            "outlinewidth": 0,
            "ticks": ""
           }
          },
          "colorscale": {
           "diverging": [
            [
             0,
             "#8e0152"
            ],
            [
             0.1,
             "#c51b7d"
            ],
            [
             0.2,
             "#de77ae"
            ],
            [
             0.3,
             "#f1b6da"
            ],
            [
             0.4,
             "#fde0ef"
            ],
            [
             0.5,
             "#f7f7f7"
            ],
            [
             0.6,
             "#e6f5d0"
            ],
            [
             0.7,
             "#b8e186"
            ],
            [
             0.8,
             "#7fbc41"
            ],
            [
             0.9,
             "#4d9221"
            ],
            [
             1,
             "#276419"
            ]
           ],
           "sequential": [
            [
             0,
             "#0d0887"
            ],
            [
             0.1111111111111111,
             "#46039f"
            ],
            [
             0.2222222222222222,
             "#7201a8"
            ],
            [
             0.3333333333333333,
             "#9c179e"
            ],
            [
             0.4444444444444444,
             "#bd3786"
            ],
            [
             0.5555555555555556,
             "#d8576b"
            ],
            [
             0.6666666666666666,
             "#ed7953"
            ],
            [
             0.7777777777777778,
             "#fb9f3a"
            ],
            [
             0.8888888888888888,
             "#fdca26"
            ],
            [
             1,
             "#f0f921"
            ]
           ],
           "sequentialminus": [
            [
             0,
             "#0d0887"
            ],
            [
             0.1111111111111111,
             "#46039f"
            ],
            [
             0.2222222222222222,
             "#7201a8"
            ],
            [
             0.3333333333333333,
             "#9c179e"
            ],
            [
             0.4444444444444444,
             "#bd3786"
            ],
            [
             0.5555555555555556,
             "#d8576b"
            ],
            [
             0.6666666666666666,
             "#ed7953"
            ],
            [
             0.7777777777777778,
             "#fb9f3a"
            ],
            [
             0.8888888888888888,
             "#fdca26"
            ],
            [
             1,
             "#f0f921"
            ]
           ]
          },
          "colorway": [
           "#636efa",
           "#EF553B",
           "#00cc96",
           "#ab63fa",
           "#FFA15A",
           "#19d3f3",
           "#FF6692",
           "#B6E880",
           "#FF97FF",
           "#FECB52"
          ],
          "font": {
           "color": "#2a3f5f"
          },
          "geo": {
           "bgcolor": "white",
           "lakecolor": "white",
           "landcolor": "#E5ECF6",
           "showlakes": true,
           "showland": true,
           "subunitcolor": "white"
          },
          "hoverlabel": {
           "align": "left"
          },
          "hovermode": "closest",
          "mapbox": {
           "style": "light"
          },
          "paper_bgcolor": "white",
          "plot_bgcolor": "#E5ECF6",
          "polar": {
           "angularaxis": {
            "gridcolor": "white",
            "linecolor": "white",
            "ticks": ""
           },
           "bgcolor": "#E5ECF6",
           "radialaxis": {
            "gridcolor": "white",
            "linecolor": "white",
            "ticks": ""
           }
          },
          "scene": {
           "xaxis": {
            "backgroundcolor": "#E5ECF6",
            "gridcolor": "white",
            "gridwidth": 2,
            "linecolor": "white",
            "showbackground": true,
            "ticks": "",
            "zerolinecolor": "white"
           },
           "yaxis": {
            "backgroundcolor": "#E5ECF6",
            "gridcolor": "white",
            "gridwidth": 2,
            "linecolor": "white",
            "showbackground": true,
            "ticks": "",
            "zerolinecolor": "white"
           },
           "zaxis": {
            "backgroundcolor": "#E5ECF6",
            "gridcolor": "white",
            "gridwidth": 2,
            "linecolor": "white",
            "showbackground": true,
            "ticks": "",
            "zerolinecolor": "white"
           }
          },
          "shapedefaults": {
           "line": {
            "color": "#2a3f5f"
           }
          },
          "ternary": {
           "aaxis": {
            "gridcolor": "white",
            "linecolor": "white",
            "ticks": ""
           },
           "baxis": {
            "gridcolor": "white",
            "linecolor": "white",
            "ticks": ""
           },
           "bgcolor": "#E5ECF6",
           "caxis": {
            "gridcolor": "white",
            "linecolor": "white",
            "ticks": ""
           }
          },
          "title": {
           "x": 0.05
          },
          "xaxis": {
           "automargin": true,
           "gridcolor": "white",
           "linecolor": "white",
           "ticks": "",
           "title": {
            "standoff": 15
           },
           "zerolinecolor": "white",
           "zerolinewidth": 2
          },
          "yaxis": {
           "automargin": true,
           "gridcolor": "white",
           "linecolor": "white",
           "ticks": "",
           "title": {
            "standoff": 15
           },
           "zerolinecolor": "white",
           "zerolinewidth": 2
          }
         }
        },
        "title": {
         "text": "Overall chart for Cold War Theme"
        }
       }
      }
     },
     "metadata": {},
     "output_type": "display_data"
    }
   ],
   "source": [
    "plot_sunburst_genres_sentiment_emotions(df_plot, theme)"
   ]
  },
  {
   "cell_type": "markdown",
   "id": "ce8995f4",
   "metadata": {},
   "source": [
    "## 5. Temporality Analysis"
   ]
  },
  {
   "cell_type": "code",
   "execution_count": 24,
   "id": "bdc7c1a8",
   "metadata": {},
   "outputs": [
    {
     "name": "stdout",
     "output_type": "stream",
     "text": [
      "/Users/sarah/Documents/EPFL/MA1/ada-2024-project-astonishingdataavengers24/src/sentiment_analysis ['plot.csv', '.DS_Store', 'unique_combinations.csv', 'Technology_Sentiment_Analysis.ipynb', 'filtered_df.csv', '__pycache__', 'Economy_Sentiment_Analysis.ipynb', 'VietnamWar_Sentiment_Analysis.ipynb', '.ipynb_checkpoints', 'Health_Sentiment_Analysis.ipynb', 'WorldWarII_Sentiment_Analysis.ipynb', 'GenderEquality_Sentiment_Analysis.ipynb', 'ColdWar_Sentiment_Analysis.ipynb']\n",
      "Correlation between movies and news for theme 'Cold War': 0.1791875868235498\n",
      "Optimal lag: 16 years\n"
     ]
    },
    {
     "data": {
      "application/vnd.plotly.v1+json": {
       "config": {
        "plotlyServerURL": "https://plot.ly"
       },
       "data": [
        {
         "mode": "lines",
         "name": "Cross-correlation",
         "type": "scatter",
         "x": [
          -42,
          -41,
          -40,
          -39,
          -38,
          -37,
          -36,
          -35,
          -34,
          -33,
          -32,
          -31,
          -30,
          -29,
          -28,
          -27,
          -26,
          -25,
          -24,
          -23,
          -22,
          -21,
          -20,
          -19,
          -18,
          -17,
          -16,
          -15,
          -14,
          -13,
          -12,
          -11,
          -10,
          -9,
          -8,
          -7,
          -6,
          -5,
          -4,
          -3,
          -2,
          -1,
          0,
          1,
          2,
          3,
          4,
          5,
          6,
          7,
          8,
          9,
          10,
          11,
          12,
          13,
          14,
          15,
          16,
          17,
          18,
          19,
          20,
          21,
          22,
          23,
          24,
          25,
          26,
          27,
          28,
          29,
          30,
          31,
          32,
          33,
          34,
          35,
          36,
          37,
          38,
          39,
          40,
          41,
          42
         ],
         "y": [
          -11.394214084248219,
          -11.16501554357232,
          -10.251896955951509,
          -12.41230527976668,
          -13.64236610470677,
          -22.65737481977527,
          -24.602627657339987,
          -23.833192455342903,
          -28.62650271108226,
          -28.740981813766055,
          -30.719367234102176,
          -27.256682875313338,
          -27.464760272001627,
          -22.947051261809975,
          -31.20738420942785,
          -28.27811587851513,
          -26.865965625181225,
          -23.76638740801015,
          -24.37990767667714,
          -27.150239792193936,
          -27.73231681288592,
          -25.85388544145183,
          -21.71878386805906,
          -27.14605997834108,
          -23.843908137174957,
          -21.938728968411827,
          -16.937418548945345,
          -20.04700432910371,
          -20.62838027739255,
          -23.028885465059734,
          -17.49861556813386,
          -17.109890618371647,
          -18.57431353388157,
          -15.812111374866161,
          -9.571578962812229,
          -3.4624975596724363,
          1.041905767671237,
          3.866897252862918,
          4.579851214200859,
          6.327601302345128,
          14.932574263391768,
          16.79913135171544,
          14.530809350372271,
          14.748712241228315,
          16.486443743154222,
          17.460046401072184,
          19.374067921601792,
          19.540334836643375,
          14.27437855413192,
          16.15097074673309,
          17.82459241280766,
          19.338946152343972,
          26.529016766411786,
          24.397942308776393,
          21.404473349420986,
          27.064762916133947,
          26.231083051450952,
          35.62338539987383,
          38.862571772468186,
          36.96188947790232,
          30.848845135859236,
          30.02695959235659,
          28.17875676076482,
          31.903789026365274,
          29.443659054238914,
          26.047381967396717,
          23.41244633577528,
          17.511700727753734,
          15.853386385649767,
          12.733723214258303,
          9.630477086066865,
          5.707805008936384,
          6.355305136388594,
          2.2147184049759834,
          4.432158287467676,
          -4.876755453633784,
          -1.9625716138631746,
          -0.7422600541531932,
          -3.0308514891001233,
          -4.267343120675644,
          -5.309453889981897,
          -6.343082642636811,
          -7.424779160230008,
          -6.374801377204792,
          -7.53344757161712
         ]
        }
       ],
       "layout": {
        "annotations": [
         {
          "arrowhead": 1,
          "ax": 50,
          "ay": -50,
          "bgcolor": "white",
          "opacity": 0.8,
          "showarrow": true,
          "text": "Optimal lag: 16 years",
          "x": 16,
          "y": 38.862571772468186
         }
        ],
        "shapes": [
         {
          "line": {
           "color": "red",
           "width": 2
          },
          "type": "line",
          "x0": 16,
          "x1": 16,
          "y0": -31.20738420942785,
          "y1": 38.862571772468186
         }
        ],
        "template": {
         "data": {
          "bar": [
           {
            "error_x": {
             "color": "#2a3f5f"
            },
            "error_y": {
             "color": "#2a3f5f"
            },
            "marker": {
             "line": {
              "color": "white",
              "width": 0.5
             },
             "pattern": {
              "fillmode": "overlay",
              "size": 10,
              "solidity": 0.2
             }
            },
            "type": "bar"
           }
          ],
          "barpolar": [
           {
            "marker": {
             "line": {
              "color": "white",
              "width": 0.5
             },
             "pattern": {
              "fillmode": "overlay",
              "size": 10,
              "solidity": 0.2
             }
            },
            "type": "barpolar"
           }
          ],
          "carpet": [
           {
            "aaxis": {
             "endlinecolor": "#2a3f5f",
             "gridcolor": "#C8D4E3",
             "linecolor": "#C8D4E3",
             "minorgridcolor": "#C8D4E3",
             "startlinecolor": "#2a3f5f"
            },
            "baxis": {
             "endlinecolor": "#2a3f5f",
             "gridcolor": "#C8D4E3",
             "linecolor": "#C8D4E3",
             "minorgridcolor": "#C8D4E3",
             "startlinecolor": "#2a3f5f"
            },
            "type": "carpet"
           }
          ],
          "choropleth": [
           {
            "colorbar": {
             "outlinewidth": 0,
             "ticks": ""
            },
            "type": "choropleth"
           }
          ],
          "contour": [
           {
            "colorbar": {
             "outlinewidth": 0,
             "ticks": ""
            },
            "colorscale": [
             [
              0,
              "#0d0887"
             ],
             [
              0.1111111111111111,
              "#46039f"
             ],
             [
              0.2222222222222222,
              "#7201a8"
             ],
             [
              0.3333333333333333,
              "#9c179e"
             ],
             [
              0.4444444444444444,
              "#bd3786"
             ],
             [
              0.5555555555555556,
              "#d8576b"
             ],
             [
              0.6666666666666666,
              "#ed7953"
             ],
             [
              0.7777777777777778,
              "#fb9f3a"
             ],
             [
              0.8888888888888888,
              "#fdca26"
             ],
             [
              1,
              "#f0f921"
             ]
            ],
            "type": "contour"
           }
          ],
          "contourcarpet": [
           {
            "colorbar": {
             "outlinewidth": 0,
             "ticks": ""
            },
            "type": "contourcarpet"
           }
          ],
          "heatmap": [
           {
            "colorbar": {
             "outlinewidth": 0,
             "ticks": ""
            },
            "colorscale": [
             [
              0,
              "#0d0887"
             ],
             [
              0.1111111111111111,
              "#46039f"
             ],
             [
              0.2222222222222222,
              "#7201a8"
             ],
             [
              0.3333333333333333,
              "#9c179e"
             ],
             [
              0.4444444444444444,
              "#bd3786"
             ],
             [
              0.5555555555555556,
              "#d8576b"
             ],
             [
              0.6666666666666666,
              "#ed7953"
             ],
             [
              0.7777777777777778,
              "#fb9f3a"
             ],
             [
              0.8888888888888888,
              "#fdca26"
             ],
             [
              1,
              "#f0f921"
             ]
            ],
            "type": "heatmap"
           }
          ],
          "heatmapgl": [
           {
            "colorbar": {
             "outlinewidth": 0,
             "ticks": ""
            },
            "colorscale": [
             [
              0,
              "#0d0887"
             ],
             [
              0.1111111111111111,
              "#46039f"
             ],
             [
              0.2222222222222222,
              "#7201a8"
             ],
             [
              0.3333333333333333,
              "#9c179e"
             ],
             [
              0.4444444444444444,
              "#bd3786"
             ],
             [
              0.5555555555555556,
              "#d8576b"
             ],
             [
              0.6666666666666666,
              "#ed7953"
             ],
             [
              0.7777777777777778,
              "#fb9f3a"
             ],
             [
              0.8888888888888888,
              "#fdca26"
             ],
             [
              1,
              "#f0f921"
             ]
            ],
            "type": "heatmapgl"
           }
          ],
          "histogram": [
           {
            "marker": {
             "pattern": {
              "fillmode": "overlay",
              "size": 10,
              "solidity": 0.2
             }
            },
            "type": "histogram"
           }
          ],
          "histogram2d": [
           {
            "colorbar": {
             "outlinewidth": 0,
             "ticks": ""
            },
            "colorscale": [
             [
              0,
              "#0d0887"
             ],
             [
              0.1111111111111111,
              "#46039f"
             ],
             [
              0.2222222222222222,
              "#7201a8"
             ],
             [
              0.3333333333333333,
              "#9c179e"
             ],
             [
              0.4444444444444444,
              "#bd3786"
             ],
             [
              0.5555555555555556,
              "#d8576b"
             ],
             [
              0.6666666666666666,
              "#ed7953"
             ],
             [
              0.7777777777777778,
              "#fb9f3a"
             ],
             [
              0.8888888888888888,
              "#fdca26"
             ],
             [
              1,
              "#f0f921"
             ]
            ],
            "type": "histogram2d"
           }
          ],
          "histogram2dcontour": [
           {
            "colorbar": {
             "outlinewidth": 0,
             "ticks": ""
            },
            "colorscale": [
             [
              0,
              "#0d0887"
             ],
             [
              0.1111111111111111,
              "#46039f"
             ],
             [
              0.2222222222222222,
              "#7201a8"
             ],
             [
              0.3333333333333333,
              "#9c179e"
             ],
             [
              0.4444444444444444,
              "#bd3786"
             ],
             [
              0.5555555555555556,
              "#d8576b"
             ],
             [
              0.6666666666666666,
              "#ed7953"
             ],
             [
              0.7777777777777778,
              "#fb9f3a"
             ],
             [
              0.8888888888888888,
              "#fdca26"
             ],
             [
              1,
              "#f0f921"
             ]
            ],
            "type": "histogram2dcontour"
           }
          ],
          "mesh3d": [
           {
            "colorbar": {
             "outlinewidth": 0,
             "ticks": ""
            },
            "type": "mesh3d"
           }
          ],
          "parcoords": [
           {
            "line": {
             "colorbar": {
              "outlinewidth": 0,
              "ticks": ""
             }
            },
            "type": "parcoords"
           }
          ],
          "pie": [
           {
            "automargin": true,
            "type": "pie"
           }
          ],
          "scatter": [
           {
            "fillpattern": {
             "fillmode": "overlay",
             "size": 10,
             "solidity": 0.2
            },
            "type": "scatter"
           }
          ],
          "scatter3d": [
           {
            "line": {
             "colorbar": {
              "outlinewidth": 0,
              "ticks": ""
             }
            },
            "marker": {
             "colorbar": {
              "outlinewidth": 0,
              "ticks": ""
             }
            },
            "type": "scatter3d"
           }
          ],
          "scattercarpet": [
           {
            "marker": {
             "colorbar": {
              "outlinewidth": 0,
              "ticks": ""
             }
            },
            "type": "scattercarpet"
           }
          ],
          "scattergeo": [
           {
            "marker": {
             "colorbar": {
              "outlinewidth": 0,
              "ticks": ""
             }
            },
            "type": "scattergeo"
           }
          ],
          "scattergl": [
           {
            "marker": {
             "colorbar": {
              "outlinewidth": 0,
              "ticks": ""
             }
            },
            "type": "scattergl"
           }
          ],
          "scattermapbox": [
           {
            "marker": {
             "colorbar": {
              "outlinewidth": 0,
              "ticks": ""
             }
            },
            "type": "scattermapbox"
           }
          ],
          "scatterpolar": [
           {
            "marker": {
             "colorbar": {
              "outlinewidth": 0,
              "ticks": ""
             }
            },
            "type": "scatterpolar"
           }
          ],
          "scatterpolargl": [
           {
            "marker": {
             "colorbar": {
              "outlinewidth": 0,
              "ticks": ""
             }
            },
            "type": "scatterpolargl"
           }
          ],
          "scatterternary": [
           {
            "marker": {
             "colorbar": {
              "outlinewidth": 0,
              "ticks": ""
             }
            },
            "type": "scatterternary"
           }
          ],
          "surface": [
           {
            "colorbar": {
             "outlinewidth": 0,
             "ticks": ""
            },
            "colorscale": [
             [
              0,
              "#0d0887"
             ],
             [
              0.1111111111111111,
              "#46039f"
             ],
             [
              0.2222222222222222,
              "#7201a8"
             ],
             [
              0.3333333333333333,
              "#9c179e"
             ],
             [
              0.4444444444444444,
              "#bd3786"
             ],
             [
              0.5555555555555556,
              "#d8576b"
             ],
             [
              0.6666666666666666,
              "#ed7953"
             ],
             [
              0.7777777777777778,
              "#fb9f3a"
             ],
             [
              0.8888888888888888,
              "#fdca26"
             ],
             [
              1,
              "#f0f921"
             ]
            ],
            "type": "surface"
           }
          ],
          "table": [
           {
            "cells": {
             "fill": {
              "color": "#EBF0F8"
             },
             "line": {
              "color": "white"
             }
            },
            "header": {
             "fill": {
              "color": "#C8D4E3"
             },
             "line": {
              "color": "white"
             }
            },
            "type": "table"
           }
          ]
         },
         "layout": {
          "annotationdefaults": {
           "arrowcolor": "#2a3f5f",
           "arrowhead": 0,
           "arrowwidth": 1
          },
          "autotypenumbers": "strict",
          "coloraxis": {
           "colorbar": {
            "outlinewidth": 0,
            "ticks": ""
           }
          },
          "colorscale": {
           "diverging": [
            [
             0,
             "#8e0152"
            ],
            [
             0.1,
             "#c51b7d"
            ],
            [
             0.2,
             "#de77ae"
            ],
            [
             0.3,
             "#f1b6da"
            ],
            [
             0.4,
             "#fde0ef"
            ],
            [
             0.5,
             "#f7f7f7"
            ],
            [
             0.6,
             "#e6f5d0"
            ],
            [
             0.7,
             "#b8e186"
            ],
            [
             0.8,
             "#7fbc41"
            ],
            [
             0.9,
             "#4d9221"
            ],
            [
             1,
             "#276419"
            ]
           ],
           "sequential": [
            [
             0,
             "#0d0887"
            ],
            [
             0.1111111111111111,
             "#46039f"
            ],
            [
             0.2222222222222222,
             "#7201a8"
            ],
            [
             0.3333333333333333,
             "#9c179e"
            ],
            [
             0.4444444444444444,
             "#bd3786"
            ],
            [
             0.5555555555555556,
             "#d8576b"
            ],
            [
             0.6666666666666666,
             "#ed7953"
            ],
            [
             0.7777777777777778,
             "#fb9f3a"
            ],
            [
             0.8888888888888888,
             "#fdca26"
            ],
            [
             1,
             "#f0f921"
            ]
           ],
           "sequentialminus": [
            [
             0,
             "#0d0887"
            ],
            [
             0.1111111111111111,
             "#46039f"
            ],
            [
             0.2222222222222222,
             "#7201a8"
            ],
            [
             0.3333333333333333,
             "#9c179e"
            ],
            [
             0.4444444444444444,
             "#bd3786"
            ],
            [
             0.5555555555555556,
             "#d8576b"
            ],
            [
             0.6666666666666666,
             "#ed7953"
            ],
            [
             0.7777777777777778,
             "#fb9f3a"
            ],
            [
             0.8888888888888888,
             "#fdca26"
            ],
            [
             1,
             "#f0f921"
            ]
           ]
          },
          "colorway": [
           "#636efa",
           "#EF553B",
           "#00cc96",
           "#ab63fa",
           "#FFA15A",
           "#19d3f3",
           "#FF6692",
           "#B6E880",
           "#FF97FF",
           "#FECB52"
          ],
          "font": {
           "color": "#2a3f5f"
          },
          "geo": {
           "bgcolor": "white",
           "lakecolor": "white",
           "landcolor": "white",
           "showlakes": true,
           "showland": true,
           "subunitcolor": "#C8D4E3"
          },
          "hoverlabel": {
           "align": "left"
          },
          "hovermode": "closest",
          "mapbox": {
           "style": "light"
          },
          "paper_bgcolor": "white",
          "plot_bgcolor": "white",
          "polar": {
           "angularaxis": {
            "gridcolor": "#EBF0F8",
            "linecolor": "#EBF0F8",
            "ticks": ""
           },
           "bgcolor": "white",
           "radialaxis": {
            "gridcolor": "#EBF0F8",
            "linecolor": "#EBF0F8",
            "ticks": ""
           }
          },
          "scene": {
           "xaxis": {
            "backgroundcolor": "white",
            "gridcolor": "#DFE8F3",
            "gridwidth": 2,
            "linecolor": "#EBF0F8",
            "showbackground": true,
            "ticks": "",
            "zerolinecolor": "#EBF0F8"
           },
           "yaxis": {
            "backgroundcolor": "white",
            "gridcolor": "#DFE8F3",
            "gridwidth": 2,
            "linecolor": "#EBF0F8",
            "showbackground": true,
            "ticks": "",
            "zerolinecolor": "#EBF0F8"
           },
           "zaxis": {
            "backgroundcolor": "white",
            "gridcolor": "#DFE8F3",
            "gridwidth": 2,
            "linecolor": "#EBF0F8",
            "showbackground": true,
            "ticks": "",
            "zerolinecolor": "#EBF0F8"
           }
          },
          "shapedefaults": {
           "line": {
            "color": "#2a3f5f"
           }
          },
          "ternary": {
           "aaxis": {
            "gridcolor": "#DFE8F3",
            "linecolor": "#A2B1C6",
            "ticks": ""
           },
           "baxis": {
            "gridcolor": "#DFE8F3",
            "linecolor": "#A2B1C6",
            "ticks": ""
           },
           "bgcolor": "white",
           "caxis": {
            "gridcolor": "#DFE8F3",
            "linecolor": "#A2B1C6",
            "ticks": ""
           }
          },
          "title": {
           "x": 0.05
          },
          "xaxis": {
           "automargin": true,
           "gridcolor": "#EBF0F8",
           "linecolor": "#EBF0F8",
           "ticks": "",
           "title": {
            "standoff": 15
           },
           "zerolinecolor": "#EBF0F8",
           "zerolinewidth": 2
          },
          "yaxis": {
           "automargin": true,
           "gridcolor": "#EBF0F8",
           "linecolor": "#EBF0F8",
           "ticks": "",
           "title": {
            "standoff": 15
           },
           "zerolinecolor": "#EBF0F8",
           "zerolinewidth": 2
          }
         }
        },
        "title": {
         "text": "Cross-correlation between Movies and News"
        },
        "xaxis": {
         "title": {
          "text": "Lag (years)"
         }
        },
        "yaxis": {
         "title": {
          "text": "Cross-correlation"
         }
        }
       }
      }
     },
     "metadata": {},
     "output_type": "display_data"
    },
    {
     "data": {
      "application/vnd.plotly.v1+json": {
       "config": {
        "plotlyServerURL": "https://plot.ly"
       },
       "data": [
        {
         "line": {
          "color": "rgb(148, 52, 110)",
          "width": 2
         },
         "mode": "lines+markers",
         "name": "News Frequency (Shifted by -42 years)",
         "type": "scatter",
         "visible": false,
         "x": [
          1930,
          1931,
          1932,
          1933,
          1934,
          1935,
          1936,
          1937,
          1938,
          1939,
          1940,
          1941,
          1942,
          1943,
          1944,
          1945,
          1946,
          1947,
          1948,
          1949,
          1950,
          1951,
          1952,
          1953,
          1954,
          1955,
          1956,
          1957,
          1958,
          1959,
          1960,
          1961,
          1962,
          1963,
          1964,
          1965,
          1966,
          1967,
          1968,
          1969,
          1970,
          1971,
          1972,
          1973,
          1974,
          1975,
          1976,
          1977,
          1978,
          1979,
          1980,
          1981,
          1982,
          1983,
          1984,
          1985,
          1986,
          1987,
          1988,
          1989,
          1990,
          1991,
          1992,
          1993,
          1994,
          1995,
          1996,
          1997,
          1998,
          1999,
          2000,
          2001,
          2002,
          2003,
          2004,
          2005,
          2006,
          2007,
          2008,
          2009,
          2010,
          2011,
          2012,
          2013,
          2014,
          2015
         ],
         "y": [
          0.4016558343218455,
          0.26478085628305764,
          -0.014140856616124237,
          -0.38047255669968305,
          0.013747971723989021,
          0.13789605659493331,
          -0.04928959505531014,
          -0.6226803785122488,
          1.1689386875561425,
          0.34921379744776093,
          -0.05675457006864819,
          -0.5495909254101905,
          -0.8690503023318813,
          -0.7347561936826654,
          -0.5841924666404188,
          -0.8560307543914922,
          -0.6093166834159861,
          -0.43415052907629387,
          -0.4050292048903662,
          -0.09304015969186458,
          -0.9068682303713732,
          -1.0545233779459395,
          -1.0812820226479753,
          -1.0097944089861046,
          -0.6248701409609518,
          -1.298000458061694,
          -1.4500702004993322,
          -1.2486392071519525,
          -1.1025715915203222,
          -1.1079885247803787,
          -1.093476842962425,
          -1.2527106884874188,
          -0.9054046019497809,
          -0.22481738590947492,
          -0.938437021976522,
          -1.1850393221179005,
          -1.3378864723577115,
          -1.5041727019616873,
          -1.3792969580177128,
          -1.3068689192049456,
          -1.5126902876319228,
          -0.9232848084995271,
          -0.6962360909652219,
          -0.8758659192594687,
          -0.7576139287072727,
          -0.7903612059925503,
          -0.5474835374888967,
          -0.2456724208233988,
          -0.301570482907648,
          -0.7328350992074678,
          -0.8002576463971026,
          -0.7483622063199975,
          -0.4170237356330605,
          -0.027550588321907273,
          0.016777930459893318,
          1.0107368568386927,
          0.9637397441947557,
          1.633729978604,
          1.9044031982198457,
          0.9151213135536107,
          0.8178299422245577,
          0.7773922068907236,
          1.8414395344033316,
          1.4224612099458829,
          1.3493650723018338,
          0.7901392278731111,
          1.117381161470864,
          1.5542976300321225,
          1.300600763754382,
          1.21898241036535,
          1.0897322518433272,
          0.6584092299006316,
          1.356490514518743,
          1.1984470467195387,
          1.4356851865235893,
          1.7978968393629065,
          1.2731492204388715,
          1.5722008791533644,
          0.2163811026840396,
          0.983446866216162,
          1.4679885998055082,
          1.4699988842217795,
          0.9270354134347338,
          0.5578738962316218,
          -0.1158574696137123,
          0.7885123660084198
         ]
        },
        {
         "line": {
          "color": "rgb(148, 52, 110)",
          "width": 2
         },
         "mode": "lines+markers",
         "name": "News Frequency (Shifted by -41 years)",
         "type": "scatter",
         "visible": false,
         "x": [
          1930,
          1931,
          1932,
          1933,
          1934,
          1935,
          1936,
          1937,
          1938,
          1939,
          1940,
          1941,
          1942,
          1943,
          1944,
          1945,
          1946,
          1947,
          1948,
          1949,
          1950,
          1951,
          1952,
          1953,
          1954,
          1955,
          1956,
          1957,
          1958,
          1959,
          1960,
          1961,
          1962,
          1963,
          1964,
          1965,
          1966,
          1967,
          1968,
          1969,
          1970,
          1971,
          1972,
          1973,
          1974,
          1975,
          1976,
          1977,
          1978,
          1979,
          1980,
          1981,
          1982,
          1983,
          1984,
          1985,
          1986,
          1987,
          1988,
          1989,
          1990,
          1991,
          1992,
          1993,
          1994,
          1995,
          1996,
          1997,
          1998,
          1999,
          2000,
          2001,
          2002,
          2003,
          2004,
          2005,
          2006,
          2007,
          2008,
          2009,
          2010,
          2011,
          2012,
          2013,
          2014,
          2015
         ],
         "y": [
          0.7885123660084198,
          0.4016558343218455,
          0.26478085628305764,
          -0.014140856616124237,
          -0.38047255669968305,
          0.013747971723989021,
          0.13789605659493331,
          -0.04928959505531014,
          -0.6226803785122488,
          1.1689386875561425,
          0.34921379744776093,
          -0.05675457006864819,
          -0.5495909254101905,
          -0.8690503023318813,
          -0.7347561936826654,
          -0.5841924666404188,
          -0.8560307543914922,
          -0.6093166834159861,
          -0.43415052907629387,
          -0.4050292048903662,
          -0.09304015969186458,
          -0.9068682303713732,
          -1.0545233779459395,
          -1.0812820226479753,
          -1.0097944089861046,
          -0.6248701409609518,
          -1.298000458061694,
          -1.4500702004993322,
          -1.2486392071519525,
          -1.1025715915203222,
          -1.1079885247803787,
          -1.093476842962425,
          -1.2527106884874188,
          -0.9054046019497809,
          -0.22481738590947492,
          -0.938437021976522,
          -1.1850393221179005,
          -1.3378864723577115,
          -1.5041727019616873,
          -1.3792969580177128,
          -1.3068689192049456,
          -1.5126902876319228,
          -0.9232848084995271,
          -0.6962360909652219,
          -0.8758659192594687,
          -0.7576139287072727,
          -0.7903612059925503,
          -0.5474835374888967,
          -0.2456724208233988,
          -0.301570482907648,
          -0.7328350992074678,
          -0.8002576463971026,
          -0.7483622063199975,
          -0.4170237356330605,
          -0.027550588321907273,
          0.016777930459893318,
          1.0107368568386927,
          0.9637397441947557,
          1.633729978604,
          1.9044031982198457,
          0.9151213135536107,
          0.8178299422245577,
          0.7773922068907236,
          1.8414395344033316,
          1.4224612099458829,
          1.3493650723018338,
          0.7901392278731111,
          1.117381161470864,
          1.5542976300321225,
          1.300600763754382,
          1.21898241036535,
          1.0897322518433272,
          0.6584092299006316,
          1.356490514518743,
          1.1984470467195387,
          1.4356851865235893,
          1.7978968393629065,
          1.2731492204388715,
          1.5722008791533644,
          0.2163811026840396,
          0.983446866216162,
          1.4679885998055082,
          1.4699988842217795,
          0.9270354134347338,
          0.5578738962316218,
          -0.1158574696137123
         ]
        },
        {
         "line": {
          "color": "rgb(148, 52, 110)",
          "width": 2
         },
         "mode": "lines+markers",
         "name": "News Frequency (Shifted by -40 years)",
         "type": "scatter",
         "visible": false,
         "x": [
          1930,
          1931,
          1932,
          1933,
          1934,
          1935,
          1936,
          1937,
          1938,
          1939,
          1940,
          1941,
          1942,
          1943,
          1944,
          1945,
          1946,
          1947,
          1948,
          1949,
          1950,
          1951,
          1952,
          1953,
          1954,
          1955,
          1956,
          1957,
          1958,
          1959,
          1960,
          1961,
          1962,
          1963,
          1964,
          1965,
          1966,
          1967,
          1968,
          1969,
          1970,
          1971,
          1972,
          1973,
          1974,
          1975,
          1976,
          1977,
          1978,
          1979,
          1980,
          1981,
          1982,
          1983,
          1984,
          1985,
          1986,
          1987,
          1988,
          1989,
          1990,
          1991,
          1992,
          1993,
          1994,
          1995,
          1996,
          1997,
          1998,
          1999,
          2000,
          2001,
          2002,
          2003,
          2004,
          2005,
          2006,
          2007,
          2008,
          2009,
          2010,
          2011,
          2012,
          2013,
          2014,
          2015
         ],
         "y": [
          -0.1158574696137123,
          0.7885123660084198,
          0.4016558343218455,
          0.26478085628305764,
          -0.014140856616124237,
          -0.38047255669968305,
          0.013747971723989021,
          0.13789605659493331,
          -0.04928959505531014,
          -0.6226803785122488,
          1.1689386875561425,
          0.34921379744776093,
          -0.05675457006864819,
          -0.5495909254101905,
          -0.8690503023318813,
          -0.7347561936826654,
          -0.5841924666404188,
          -0.8560307543914922,
          -0.6093166834159861,
          -0.43415052907629387,
          -0.4050292048903662,
          -0.09304015969186458,
          -0.9068682303713732,
          -1.0545233779459395,
          -1.0812820226479753,
          -1.0097944089861046,
          -0.6248701409609518,
          -1.298000458061694,
          -1.4500702004993322,
          -1.2486392071519525,
          -1.1025715915203222,
          -1.1079885247803787,
          -1.093476842962425,
          -1.2527106884874188,
          -0.9054046019497809,
          -0.22481738590947492,
          -0.938437021976522,
          -1.1850393221179005,
          -1.3378864723577115,
          -1.5041727019616873,
          -1.3792969580177128,
          -1.3068689192049456,
          -1.5126902876319228,
          -0.9232848084995271,
          -0.6962360909652219,
          -0.8758659192594687,
          -0.7576139287072727,
          -0.7903612059925503,
          -0.5474835374888967,
          -0.2456724208233988,
          -0.301570482907648,
          -0.7328350992074678,
          -0.8002576463971026,
          -0.7483622063199975,
          -0.4170237356330605,
          -0.027550588321907273,
          0.016777930459893318,
          1.0107368568386927,
          0.9637397441947557,
          1.633729978604,
          1.9044031982198457,
          0.9151213135536107,
          0.8178299422245577,
          0.7773922068907236,
          1.8414395344033316,
          1.4224612099458829,
          1.3493650723018338,
          0.7901392278731111,
          1.117381161470864,
          1.5542976300321225,
          1.300600763754382,
          1.21898241036535,
          1.0897322518433272,
          0.6584092299006316,
          1.356490514518743,
          1.1984470467195387,
          1.4356851865235893,
          1.7978968393629065,
          1.2731492204388715,
          1.5722008791533644,
          0.2163811026840396,
          0.983446866216162,
          1.4679885998055082,
          1.4699988842217795,
          0.9270354134347338,
          0.5578738962316218
         ]
        },
        {
         "line": {
          "color": "rgb(148, 52, 110)",
          "width": 2
         },
         "mode": "lines+markers",
         "name": "News Frequency (Shifted by -39 years)",
         "type": "scatter",
         "visible": false,
         "x": [
          1930,
          1931,
          1932,
          1933,
          1934,
          1935,
          1936,
          1937,
          1938,
          1939,
          1940,
          1941,
          1942,
          1943,
          1944,
          1945,
          1946,
          1947,
          1948,
          1949,
          1950,
          1951,
          1952,
          1953,
          1954,
          1955,
          1956,
          1957,
          1958,
          1959,
          1960,
          1961,
          1962,
          1963,
          1964,
          1965,
          1966,
          1967,
          1968,
          1969,
          1970,
          1971,
          1972,
          1973,
          1974,
          1975,
          1976,
          1977,
          1978,
          1979,
          1980,
          1981,
          1982,
          1983,
          1984,
          1985,
          1986,
          1987,
          1988,
          1989,
          1990,
          1991,
          1992,
          1993,
          1994,
          1995,
          1996,
          1997,
          1998,
          1999,
          2000,
          2001,
          2002,
          2003,
          2004,
          2005,
          2006,
          2007,
          2008,
          2009,
          2010,
          2011,
          2012,
          2013,
          2014,
          2015
         ],
         "y": [
          0.5578738962316218,
          -0.1158574696137123,
          0.7885123660084198,
          0.4016558343218455,
          0.26478085628305764,
          -0.014140856616124237,
          -0.38047255669968305,
          0.013747971723989021,
          0.13789605659493331,
          -0.04928959505531014,
          -0.6226803785122488,
          1.1689386875561425,
          0.34921379744776093,
          -0.05675457006864819,
          -0.5495909254101905,
          -0.8690503023318813,
          -0.7347561936826654,
          -0.5841924666404188,
          -0.8560307543914922,
          -0.6093166834159861,
          -0.43415052907629387,
          -0.4050292048903662,
          -0.09304015969186458,
          -0.9068682303713732,
          -1.0545233779459395,
          -1.0812820226479753,
          -1.0097944089861046,
          -0.6248701409609518,
          -1.298000458061694,
          -1.4500702004993322,
          -1.2486392071519525,
          -1.1025715915203222,
          -1.1079885247803787,
          -1.093476842962425,
          -1.2527106884874188,
          -0.9054046019497809,
          -0.22481738590947492,
          -0.938437021976522,
          -1.1850393221179005,
          -1.3378864723577115,
          -1.5041727019616873,
          -1.3792969580177128,
          -1.3068689192049456,
          -1.5126902876319228,
          -0.9232848084995271,
          -0.6962360909652219,
          -0.8758659192594687,
          -0.7576139287072727,
          -0.7903612059925503,
          -0.5474835374888967,
          -0.2456724208233988,
          -0.301570482907648,
          -0.7328350992074678,
          -0.8002576463971026,
          -0.7483622063199975,
          -0.4170237356330605,
          -0.027550588321907273,
          0.016777930459893318,
          1.0107368568386927,
          0.9637397441947557,
          1.633729978604,
          1.9044031982198457,
          0.9151213135536107,
          0.8178299422245577,
          0.7773922068907236,
          1.8414395344033316,
          1.4224612099458829,
          1.3493650723018338,
          0.7901392278731111,
          1.117381161470864,
          1.5542976300321225,
          1.300600763754382,
          1.21898241036535,
          1.0897322518433272,
          0.6584092299006316,
          1.356490514518743,
          1.1984470467195387,
          1.4356851865235893,
          1.7978968393629065,
          1.2731492204388715,
          1.5722008791533644,
          0.2163811026840396,
          0.983446866216162,
          1.4679885998055082,
          1.4699988842217795,
          0.9270354134347338
         ]
        },
        {
         "line": {
          "color": "rgb(148, 52, 110)",
          "width": 2
         },
         "mode": "lines+markers",
         "name": "News Frequency (Shifted by -38 years)",
         "type": "scatter",
         "visible": false,
         "x": [
          1930,
          1931,
          1932,
          1933,
          1934,
          1935,
          1936,
          1937,
          1938,
          1939,
          1940,
          1941,
          1942,
          1943,
          1944,
          1945,
          1946,
          1947,
          1948,
          1949,
          1950,
          1951,
          1952,
          1953,
          1954,
          1955,
          1956,
          1957,
          1958,
          1959,
          1960,
          1961,
          1962,
          1963,
          1964,
          1965,
          1966,
          1967,
          1968,
          1969,
          1970,
          1971,
          1972,
          1973,
          1974,
          1975,
          1976,
          1977,
          1978,
          1979,
          1980,
          1981,
          1982,
          1983,
          1984,
          1985,
          1986,
          1987,
          1988,
          1989,
          1990,
          1991,
          1992,
          1993,
          1994,
          1995,
          1996,
          1997,
          1998,
          1999,
          2000,
          2001,
          2002,
          2003,
          2004,
          2005,
          2006,
          2007,
          2008,
          2009,
          2010,
          2011,
          2012,
          2013,
          2014,
          2015
         ],
         "y": [
          0.9270354134347338,
          0.5578738962316218,
          -0.1158574696137123,
          0.7885123660084198,
          0.4016558343218455,
          0.26478085628305764,
          -0.014140856616124237,
          -0.38047255669968305,
          0.013747971723989021,
          0.13789605659493331,
          -0.04928959505531014,
          -0.6226803785122488,
          1.1689386875561425,
          0.34921379744776093,
          -0.05675457006864819,
          -0.5495909254101905,
          -0.8690503023318813,
          -0.7347561936826654,
          -0.5841924666404188,
          -0.8560307543914922,
          -0.6093166834159861,
          -0.43415052907629387,
          -0.4050292048903662,
          -0.09304015969186458,
          -0.9068682303713732,
          -1.0545233779459395,
          -1.0812820226479753,
          -1.0097944089861046,
          -0.6248701409609518,
          -1.298000458061694,
          -1.4500702004993322,
          -1.2486392071519525,
          -1.1025715915203222,
          -1.1079885247803787,
          -1.093476842962425,
          -1.2527106884874188,
          -0.9054046019497809,
          -0.22481738590947492,
          -0.938437021976522,
          -1.1850393221179005,
          -1.3378864723577115,
          -1.5041727019616873,
          -1.3792969580177128,
          -1.3068689192049456,
          -1.5126902876319228,
          -0.9232848084995271,
          -0.6962360909652219,
          -0.8758659192594687,
          -0.7576139287072727,
          -0.7903612059925503,
          -0.5474835374888967,
          -0.2456724208233988,
          -0.301570482907648,
          -0.7328350992074678,
          -0.8002576463971026,
          -0.7483622063199975,
          -0.4170237356330605,
          -0.027550588321907273,
          0.016777930459893318,
          1.0107368568386927,
          0.9637397441947557,
          1.633729978604,
          1.9044031982198457,
          0.9151213135536107,
          0.8178299422245577,
          0.7773922068907236,
          1.8414395344033316,
          1.4224612099458829,
          1.3493650723018338,
          0.7901392278731111,
          1.117381161470864,
          1.5542976300321225,
          1.300600763754382,
          1.21898241036535,
          1.0897322518433272,
          0.6584092299006316,
          1.356490514518743,
          1.1984470467195387,
          1.4356851865235893,
          1.7978968393629065,
          1.2731492204388715,
          1.5722008791533644,
          0.2163811026840396,
          0.983446866216162,
          1.4679885998055082,
          1.4699988842217795
         ]
        },
        {
         "line": {
          "color": "rgb(148, 52, 110)",
          "width": 2
         },
         "mode": "lines+markers",
         "name": "News Frequency (Shifted by -37 years)",
         "type": "scatter",
         "visible": false,
         "x": [
          1930,
          1931,
          1932,
          1933,
          1934,
          1935,
          1936,
          1937,
          1938,
          1939,
          1940,
          1941,
          1942,
          1943,
          1944,
          1945,
          1946,
          1947,
          1948,
          1949,
          1950,
          1951,
          1952,
          1953,
          1954,
          1955,
          1956,
          1957,
          1958,
          1959,
          1960,
          1961,
          1962,
          1963,
          1964,
          1965,
          1966,
          1967,
          1968,
          1969,
          1970,
          1971,
          1972,
          1973,
          1974,
          1975,
          1976,
          1977,
          1978,
          1979,
          1980,
          1981,
          1982,
          1983,
          1984,
          1985,
          1986,
          1987,
          1988,
          1989,
          1990,
          1991,
          1992,
          1993,
          1994,
          1995,
          1996,
          1997,
          1998,
          1999,
          2000,
          2001,
          2002,
          2003,
          2004,
          2005,
          2006,
          2007,
          2008,
          2009,
          2010,
          2011,
          2012,
          2013,
          2014,
          2015
         ],
         "y": [
          1.4699988842217795,
          0.9270354134347338,
          0.5578738962316218,
          -0.1158574696137123,
          0.7885123660084198,
          0.4016558343218455,
          0.26478085628305764,
          -0.014140856616124237,
          -0.38047255669968305,
          0.013747971723989021,
          0.13789605659493331,
          -0.04928959505531014,
          -0.6226803785122488,
          1.1689386875561425,
          0.34921379744776093,
          -0.05675457006864819,
          -0.5495909254101905,
          -0.8690503023318813,
          -0.7347561936826654,
          -0.5841924666404188,
          -0.8560307543914922,
          -0.6093166834159861,
          -0.43415052907629387,
          -0.4050292048903662,
          -0.09304015969186458,
          -0.9068682303713732,
          -1.0545233779459395,
          -1.0812820226479753,
          -1.0097944089861046,
          -0.6248701409609518,
          -1.298000458061694,
          -1.4500702004993322,
          -1.2486392071519525,
          -1.1025715915203222,
          -1.1079885247803787,
          -1.093476842962425,
          -1.2527106884874188,
          -0.9054046019497809,
          -0.22481738590947492,
          -0.938437021976522,
          -1.1850393221179005,
          -1.3378864723577115,
          -1.5041727019616873,
          -1.3792969580177128,
          -1.3068689192049456,
          -1.5126902876319228,
          -0.9232848084995271,
          -0.6962360909652219,
          -0.8758659192594687,
          -0.7576139287072727,
          -0.7903612059925503,
          -0.5474835374888967,
          -0.2456724208233988,
          -0.301570482907648,
          -0.7328350992074678,
          -0.8002576463971026,
          -0.7483622063199975,
          -0.4170237356330605,
          -0.027550588321907273,
          0.016777930459893318,
          1.0107368568386927,
          0.9637397441947557,
          1.633729978604,
          1.9044031982198457,
          0.9151213135536107,
          0.8178299422245577,
          0.7773922068907236,
          1.8414395344033316,
          1.4224612099458829,
          1.3493650723018338,
          0.7901392278731111,
          1.117381161470864,
          1.5542976300321225,
          1.300600763754382,
          1.21898241036535,
          1.0897322518433272,
          0.6584092299006316,
          1.356490514518743,
          1.1984470467195387,
          1.4356851865235893,
          1.7978968393629065,
          1.2731492204388715,
          1.5722008791533644,
          0.2163811026840396,
          0.983446866216162,
          1.4679885998055082
         ]
        },
        {
         "line": {
          "color": "rgb(148, 52, 110)",
          "width": 2
         },
         "mode": "lines+markers",
         "name": "News Frequency (Shifted by -36 years)",
         "type": "scatter",
         "visible": false,
         "x": [
          1930,
          1931,
          1932,
          1933,
          1934,
          1935,
          1936,
          1937,
          1938,
          1939,
          1940,
          1941,
          1942,
          1943,
          1944,
          1945,
          1946,
          1947,
          1948,
          1949,
          1950,
          1951,
          1952,
          1953,
          1954,
          1955,
          1956,
          1957,
          1958,
          1959,
          1960,
          1961,
          1962,
          1963,
          1964,
          1965,
          1966,
          1967,
          1968,
          1969,
          1970,
          1971,
          1972,
          1973,
          1974,
          1975,
          1976,
          1977,
          1978,
          1979,
          1980,
          1981,
          1982,
          1983,
          1984,
          1985,
          1986,
          1987,
          1988,
          1989,
          1990,
          1991,
          1992,
          1993,
          1994,
          1995,
          1996,
          1997,
          1998,
          1999,
          2000,
          2001,
          2002,
          2003,
          2004,
          2005,
          2006,
          2007,
          2008,
          2009,
          2010,
          2011,
          2012,
          2013,
          2014,
          2015
         ],
         "y": [
          1.4679885998055082,
          1.4699988842217795,
          0.9270354134347338,
          0.5578738962316218,
          -0.1158574696137123,
          0.7885123660084198,
          0.4016558343218455,
          0.26478085628305764,
          -0.014140856616124237,
          -0.38047255669968305,
          0.013747971723989021,
          0.13789605659493331,
          -0.04928959505531014,
          -0.6226803785122488,
          1.1689386875561425,
          0.34921379744776093,
          -0.05675457006864819,
          -0.5495909254101905,
          -0.8690503023318813,
          -0.7347561936826654,
          -0.5841924666404188,
          -0.8560307543914922,
          -0.6093166834159861,
          -0.43415052907629387,
          -0.4050292048903662,
          -0.09304015969186458,
          -0.9068682303713732,
          -1.0545233779459395,
          -1.0812820226479753,
          -1.0097944089861046,
          -0.6248701409609518,
          -1.298000458061694,
          -1.4500702004993322,
          -1.2486392071519525,
          -1.1025715915203222,
          -1.1079885247803787,
          -1.093476842962425,
          -1.2527106884874188,
          -0.9054046019497809,
          -0.22481738590947492,
          -0.938437021976522,
          -1.1850393221179005,
          -1.3378864723577115,
          -1.5041727019616873,
          -1.3792969580177128,
          -1.3068689192049456,
          -1.5126902876319228,
          -0.9232848084995271,
          -0.6962360909652219,
          -0.8758659192594687,
          -0.7576139287072727,
          -0.7903612059925503,
          -0.5474835374888967,
          -0.2456724208233988,
          -0.301570482907648,
          -0.7328350992074678,
          -0.8002576463971026,
          -0.7483622063199975,
          -0.4170237356330605,
          -0.027550588321907273,
          0.016777930459893318,
          1.0107368568386927,
          0.9637397441947557,
          1.633729978604,
          1.9044031982198457,
          0.9151213135536107,
          0.8178299422245577,
          0.7773922068907236,
          1.8414395344033316,
          1.4224612099458829,
          1.3493650723018338,
          0.7901392278731111,
          1.117381161470864,
          1.5542976300321225,
          1.300600763754382,
          1.21898241036535,
          1.0897322518433272,
          0.6584092299006316,
          1.356490514518743,
          1.1984470467195387,
          1.4356851865235893,
          1.7978968393629065,
          1.2731492204388715,
          1.5722008791533644,
          0.2163811026840396,
          0.983446866216162
         ]
        },
        {
         "line": {
          "color": "rgb(148, 52, 110)",
          "width": 2
         },
         "mode": "lines+markers",
         "name": "News Frequency (Shifted by -35 years)",
         "type": "scatter",
         "visible": false,
         "x": [
          1930,
          1931,
          1932,
          1933,
          1934,
          1935,
          1936,
          1937,
          1938,
          1939,
          1940,
          1941,
          1942,
          1943,
          1944,
          1945,
          1946,
          1947,
          1948,
          1949,
          1950,
          1951,
          1952,
          1953,
          1954,
          1955,
          1956,
          1957,
          1958,
          1959,
          1960,
          1961,
          1962,
          1963,
          1964,
          1965,
          1966,
          1967,
          1968,
          1969,
          1970,
          1971,
          1972,
          1973,
          1974,
          1975,
          1976,
          1977,
          1978,
          1979,
          1980,
          1981,
          1982,
          1983,
          1984,
          1985,
          1986,
          1987,
          1988,
          1989,
          1990,
          1991,
          1992,
          1993,
          1994,
          1995,
          1996,
          1997,
          1998,
          1999,
          2000,
          2001,
          2002,
          2003,
          2004,
          2005,
          2006,
          2007,
          2008,
          2009,
          2010,
          2011,
          2012,
          2013,
          2014,
          2015
         ],
         "y": [
          0.983446866216162,
          1.4679885998055082,
          1.4699988842217795,
          0.9270354134347338,
          0.5578738962316218,
          -0.1158574696137123,
          0.7885123660084198,
          0.4016558343218455,
          0.26478085628305764,
          -0.014140856616124237,
          -0.38047255669968305,
          0.013747971723989021,
          0.13789605659493331,
          -0.04928959505531014,
          -0.6226803785122488,
          1.1689386875561425,
          0.34921379744776093,
          -0.05675457006864819,
          -0.5495909254101905,
          -0.8690503023318813,
          -0.7347561936826654,
          -0.5841924666404188,
          -0.8560307543914922,
          -0.6093166834159861,
          -0.43415052907629387,
          -0.4050292048903662,
          -0.09304015969186458,
          -0.9068682303713732,
          -1.0545233779459395,
          -1.0812820226479753,
          -1.0097944089861046,
          -0.6248701409609518,
          -1.298000458061694,
          -1.4500702004993322,
          -1.2486392071519525,
          -1.1025715915203222,
          -1.1079885247803787,
          -1.093476842962425,
          -1.2527106884874188,
          -0.9054046019497809,
          -0.22481738590947492,
          -0.938437021976522,
          -1.1850393221179005,
          -1.3378864723577115,
          -1.5041727019616873,
          -1.3792969580177128,
          -1.3068689192049456,
          -1.5126902876319228,
          -0.9232848084995271,
          -0.6962360909652219,
          -0.8758659192594687,
          -0.7576139287072727,
          -0.7903612059925503,
          -0.5474835374888967,
          -0.2456724208233988,
          -0.301570482907648,
          -0.7328350992074678,
          -0.8002576463971026,
          -0.7483622063199975,
          -0.4170237356330605,
          -0.027550588321907273,
          0.016777930459893318,
          1.0107368568386927,
          0.9637397441947557,
          1.633729978604,
          1.9044031982198457,
          0.9151213135536107,
          0.8178299422245577,
          0.7773922068907236,
          1.8414395344033316,
          1.4224612099458829,
          1.3493650723018338,
          0.7901392278731111,
          1.117381161470864,
          1.5542976300321225,
          1.300600763754382,
          1.21898241036535,
          1.0897322518433272,
          0.6584092299006316,
          1.356490514518743,
          1.1984470467195387,
          1.4356851865235893,
          1.7978968393629065,
          1.2731492204388715,
          1.5722008791533644,
          0.2163811026840396
         ]
        },
        {
         "line": {
          "color": "rgb(148, 52, 110)",
          "width": 2
         },
         "mode": "lines+markers",
         "name": "News Frequency (Shifted by -34 years)",
         "type": "scatter",
         "visible": false,
         "x": [
          1930,
          1931,
          1932,
          1933,
          1934,
          1935,
          1936,
          1937,
          1938,
          1939,
          1940,
          1941,
          1942,
          1943,
          1944,
          1945,
          1946,
          1947,
          1948,
          1949,
          1950,
          1951,
          1952,
          1953,
          1954,
          1955,
          1956,
          1957,
          1958,
          1959,
          1960,
          1961,
          1962,
          1963,
          1964,
          1965,
          1966,
          1967,
          1968,
          1969,
          1970,
          1971,
          1972,
          1973,
          1974,
          1975,
          1976,
          1977,
          1978,
          1979,
          1980,
          1981,
          1982,
          1983,
          1984,
          1985,
          1986,
          1987,
          1988,
          1989,
          1990,
          1991,
          1992,
          1993,
          1994,
          1995,
          1996,
          1997,
          1998,
          1999,
          2000,
          2001,
          2002,
          2003,
          2004,
          2005,
          2006,
          2007,
          2008,
          2009,
          2010,
          2011,
          2012,
          2013,
          2014,
          2015
         ],
         "y": [
          0.2163811026840396,
          0.983446866216162,
          1.4679885998055082,
          1.4699988842217795,
          0.9270354134347338,
          0.5578738962316218,
          -0.1158574696137123,
          0.7885123660084198,
          0.4016558343218455,
          0.26478085628305764,
          -0.014140856616124237,
          -0.38047255669968305,
          0.013747971723989021,
          0.13789605659493331,
          -0.04928959505531014,
          -0.6226803785122488,
          1.1689386875561425,
          0.34921379744776093,
          -0.05675457006864819,
          -0.5495909254101905,
          -0.8690503023318813,
          -0.7347561936826654,
          -0.5841924666404188,
          -0.8560307543914922,
          -0.6093166834159861,
          -0.43415052907629387,
          -0.4050292048903662,
          -0.09304015969186458,
          -0.9068682303713732,
          -1.0545233779459395,
          -1.0812820226479753,
          -1.0097944089861046,
          -0.6248701409609518,
          -1.298000458061694,
          -1.4500702004993322,
          -1.2486392071519525,
          -1.1025715915203222,
          -1.1079885247803787,
          -1.093476842962425,
          -1.2527106884874188,
          -0.9054046019497809,
          -0.22481738590947492,
          -0.938437021976522,
          -1.1850393221179005,
          -1.3378864723577115,
          -1.5041727019616873,
          -1.3792969580177128,
          -1.3068689192049456,
          -1.5126902876319228,
          -0.9232848084995271,
          -0.6962360909652219,
          -0.8758659192594687,
          -0.7576139287072727,
          -0.7903612059925503,
          -0.5474835374888967,
          -0.2456724208233988,
          -0.301570482907648,
          -0.7328350992074678,
          -0.8002576463971026,
          -0.7483622063199975,
          -0.4170237356330605,
          -0.027550588321907273,
          0.016777930459893318,
          1.0107368568386927,
          0.9637397441947557,
          1.633729978604,
          1.9044031982198457,
          0.9151213135536107,
          0.8178299422245577,
          0.7773922068907236,
          1.8414395344033316,
          1.4224612099458829,
          1.3493650723018338,
          0.7901392278731111,
          1.117381161470864,
          1.5542976300321225,
          1.300600763754382,
          1.21898241036535,
          1.0897322518433272,
          0.6584092299006316,
          1.356490514518743,
          1.1984470467195387,
          1.4356851865235893,
          1.7978968393629065,
          1.2731492204388715,
          1.5722008791533644
         ]
        },
        {
         "line": {
          "color": "rgb(148, 52, 110)",
          "width": 2
         },
         "mode": "lines+markers",
         "name": "News Frequency (Shifted by -33 years)",
         "type": "scatter",
         "visible": false,
         "x": [
          1930,
          1931,
          1932,
          1933,
          1934,
          1935,
          1936,
          1937,
          1938,
          1939,
          1940,
          1941,
          1942,
          1943,
          1944,
          1945,
          1946,
          1947,
          1948,
          1949,
          1950,
          1951,
          1952,
          1953,
          1954,
          1955,
          1956,
          1957,
          1958,
          1959,
          1960,
          1961,
          1962,
          1963,
          1964,
          1965,
          1966,
          1967,
          1968,
          1969,
          1970,
          1971,
          1972,
          1973,
          1974,
          1975,
          1976,
          1977,
          1978,
          1979,
          1980,
          1981,
          1982,
          1983,
          1984,
          1985,
          1986,
          1987,
          1988,
          1989,
          1990,
          1991,
          1992,
          1993,
          1994,
          1995,
          1996,
          1997,
          1998,
          1999,
          2000,
          2001,
          2002,
          2003,
          2004,
          2005,
          2006,
          2007,
          2008,
          2009,
          2010,
          2011,
          2012,
          2013,
          2014,
          2015
         ],
         "y": [
          1.5722008791533644,
          0.2163811026840396,
          0.983446866216162,
          1.4679885998055082,
          1.4699988842217795,
          0.9270354134347338,
          0.5578738962316218,
          -0.1158574696137123,
          0.7885123660084198,
          0.4016558343218455,
          0.26478085628305764,
          -0.014140856616124237,
          -0.38047255669968305,
          0.013747971723989021,
          0.13789605659493331,
          -0.04928959505531014,
          -0.6226803785122488,
          1.1689386875561425,
          0.34921379744776093,
          -0.05675457006864819,
          -0.5495909254101905,
          -0.8690503023318813,
          -0.7347561936826654,
          -0.5841924666404188,
          -0.8560307543914922,
          -0.6093166834159861,
          -0.43415052907629387,
          -0.4050292048903662,
          -0.09304015969186458,
          -0.9068682303713732,
          -1.0545233779459395,
          -1.0812820226479753,
          -1.0097944089861046,
          -0.6248701409609518,
          -1.298000458061694,
          -1.4500702004993322,
          -1.2486392071519525,
          -1.1025715915203222,
          -1.1079885247803787,
          -1.093476842962425,
          -1.2527106884874188,
          -0.9054046019497809,
          -0.22481738590947492,
          -0.938437021976522,
          -1.1850393221179005,
          -1.3378864723577115,
          -1.5041727019616873,
          -1.3792969580177128,
          -1.3068689192049456,
          -1.5126902876319228,
          -0.9232848084995271,
          -0.6962360909652219,
          -0.8758659192594687,
          -0.7576139287072727,
          -0.7903612059925503,
          -0.5474835374888967,
          -0.2456724208233988,
          -0.301570482907648,
          -0.7328350992074678,
          -0.8002576463971026,
          -0.7483622063199975,
          -0.4170237356330605,
          -0.027550588321907273,
          0.016777930459893318,
          1.0107368568386927,
          0.9637397441947557,
          1.633729978604,
          1.9044031982198457,
          0.9151213135536107,
          0.8178299422245577,
          0.7773922068907236,
          1.8414395344033316,
          1.4224612099458829,
          1.3493650723018338,
          0.7901392278731111,
          1.117381161470864,
          1.5542976300321225,
          1.300600763754382,
          1.21898241036535,
          1.0897322518433272,
          0.6584092299006316,
          1.356490514518743,
          1.1984470467195387,
          1.4356851865235893,
          1.7978968393629065,
          1.2731492204388715
         ]
        },
        {
         "line": {
          "color": "rgb(148, 52, 110)",
          "width": 2
         },
         "mode": "lines+markers",
         "name": "News Frequency (Shifted by -32 years)",
         "type": "scatter",
         "visible": false,
         "x": [
          1930,
          1931,
          1932,
          1933,
          1934,
          1935,
          1936,
          1937,
          1938,
          1939,
          1940,
          1941,
          1942,
          1943,
          1944,
          1945,
          1946,
          1947,
          1948,
          1949,
          1950,
          1951,
          1952,
          1953,
          1954,
          1955,
          1956,
          1957,
          1958,
          1959,
          1960,
          1961,
          1962,
          1963,
          1964,
          1965,
          1966,
          1967,
          1968,
          1969,
          1970,
          1971,
          1972,
          1973,
          1974,
          1975,
          1976,
          1977,
          1978,
          1979,
          1980,
          1981,
          1982,
          1983,
          1984,
          1985,
          1986,
          1987,
          1988,
          1989,
          1990,
          1991,
          1992,
          1993,
          1994,
          1995,
          1996,
          1997,
          1998,
          1999,
          2000,
          2001,
          2002,
          2003,
          2004,
          2005,
          2006,
          2007,
          2008,
          2009,
          2010,
          2011,
          2012,
          2013,
          2014,
          2015
         ],
         "y": [
          1.2731492204388715,
          1.5722008791533644,
          0.2163811026840396,
          0.983446866216162,
          1.4679885998055082,
          1.4699988842217795,
          0.9270354134347338,
          0.5578738962316218,
          -0.1158574696137123,
          0.7885123660084198,
          0.4016558343218455,
          0.26478085628305764,
          -0.014140856616124237,
          -0.38047255669968305,
          0.013747971723989021,
          0.13789605659493331,
          -0.04928959505531014,
          -0.6226803785122488,
          1.1689386875561425,
          0.34921379744776093,
          -0.05675457006864819,
          -0.5495909254101905,
          -0.8690503023318813,
          -0.7347561936826654,
          -0.5841924666404188,
          -0.8560307543914922,
          -0.6093166834159861,
          -0.43415052907629387,
          -0.4050292048903662,
          -0.09304015969186458,
          -0.9068682303713732,
          -1.0545233779459395,
          -1.0812820226479753,
          -1.0097944089861046,
          -0.6248701409609518,
          -1.298000458061694,
          -1.4500702004993322,
          -1.2486392071519525,
          -1.1025715915203222,
          -1.1079885247803787,
          -1.093476842962425,
          -1.2527106884874188,
          -0.9054046019497809,
          -0.22481738590947492,
          -0.938437021976522,
          -1.1850393221179005,
          -1.3378864723577115,
          -1.5041727019616873,
          -1.3792969580177128,
          -1.3068689192049456,
          -1.5126902876319228,
          -0.9232848084995271,
          -0.6962360909652219,
          -0.8758659192594687,
          -0.7576139287072727,
          -0.7903612059925503,
          -0.5474835374888967,
          -0.2456724208233988,
          -0.301570482907648,
          -0.7328350992074678,
          -0.8002576463971026,
          -0.7483622063199975,
          -0.4170237356330605,
          -0.027550588321907273,
          0.016777930459893318,
          1.0107368568386927,
          0.9637397441947557,
          1.633729978604,
          1.9044031982198457,
          0.9151213135536107,
          0.8178299422245577,
          0.7773922068907236,
          1.8414395344033316,
          1.4224612099458829,
          1.3493650723018338,
          0.7901392278731111,
          1.117381161470864,
          1.5542976300321225,
          1.300600763754382,
          1.21898241036535,
          1.0897322518433272,
          0.6584092299006316,
          1.356490514518743,
          1.1984470467195387,
          1.4356851865235893,
          1.7978968393629065
         ]
        },
        {
         "line": {
          "color": "rgb(148, 52, 110)",
          "width": 2
         },
         "mode": "lines+markers",
         "name": "News Frequency (Shifted by -31 years)",
         "type": "scatter",
         "visible": false,
         "x": [
          1930,
          1931,
          1932,
          1933,
          1934,
          1935,
          1936,
          1937,
          1938,
          1939,
          1940,
          1941,
          1942,
          1943,
          1944,
          1945,
          1946,
          1947,
          1948,
          1949,
          1950,
          1951,
          1952,
          1953,
          1954,
          1955,
          1956,
          1957,
          1958,
          1959,
          1960,
          1961,
          1962,
          1963,
          1964,
          1965,
          1966,
          1967,
          1968,
          1969,
          1970,
          1971,
          1972,
          1973,
          1974,
          1975,
          1976,
          1977,
          1978,
          1979,
          1980,
          1981,
          1982,
          1983,
          1984,
          1985,
          1986,
          1987,
          1988,
          1989,
          1990,
          1991,
          1992,
          1993,
          1994,
          1995,
          1996,
          1997,
          1998,
          1999,
          2000,
          2001,
          2002,
          2003,
          2004,
          2005,
          2006,
          2007,
          2008,
          2009,
          2010,
          2011,
          2012,
          2013,
          2014,
          2015
         ],
         "y": [
          1.7978968393629065,
          1.2731492204388715,
          1.5722008791533644,
          0.2163811026840396,
          0.983446866216162,
          1.4679885998055082,
          1.4699988842217795,
          0.9270354134347338,
          0.5578738962316218,
          -0.1158574696137123,
          0.7885123660084198,
          0.4016558343218455,
          0.26478085628305764,
          -0.014140856616124237,
          -0.38047255669968305,
          0.013747971723989021,
          0.13789605659493331,
          -0.04928959505531014,
          -0.6226803785122488,
          1.1689386875561425,
          0.34921379744776093,
          -0.05675457006864819,
          -0.5495909254101905,
          -0.8690503023318813,
          -0.7347561936826654,
          -0.5841924666404188,
          -0.8560307543914922,
          -0.6093166834159861,
          -0.43415052907629387,
          -0.4050292048903662,
          -0.09304015969186458,
          -0.9068682303713732,
          -1.0545233779459395,
          -1.0812820226479753,
          -1.0097944089861046,
          -0.6248701409609518,
          -1.298000458061694,
          -1.4500702004993322,
          -1.2486392071519525,
          -1.1025715915203222,
          -1.1079885247803787,
          -1.093476842962425,
          -1.2527106884874188,
          -0.9054046019497809,
          -0.22481738590947492,
          -0.938437021976522,
          -1.1850393221179005,
          -1.3378864723577115,
          -1.5041727019616873,
          -1.3792969580177128,
          -1.3068689192049456,
          -1.5126902876319228,
          -0.9232848084995271,
          -0.6962360909652219,
          -0.8758659192594687,
          -0.7576139287072727,
          -0.7903612059925503,
          -0.5474835374888967,
          -0.2456724208233988,
          -0.301570482907648,
          -0.7328350992074678,
          -0.8002576463971026,
          -0.7483622063199975,
          -0.4170237356330605,
          -0.027550588321907273,
          0.016777930459893318,
          1.0107368568386927,
          0.9637397441947557,
          1.633729978604,
          1.9044031982198457,
          0.9151213135536107,
          0.8178299422245577,
          0.7773922068907236,
          1.8414395344033316,
          1.4224612099458829,
          1.3493650723018338,
          0.7901392278731111,
          1.117381161470864,
          1.5542976300321225,
          1.300600763754382,
          1.21898241036535,
          1.0897322518433272,
          0.6584092299006316,
          1.356490514518743,
          1.1984470467195387,
          1.4356851865235893
         ]
        },
        {
         "line": {
          "color": "rgb(148, 52, 110)",
          "width": 2
         },
         "mode": "lines+markers",
         "name": "News Frequency (Shifted by -30 years)",
         "type": "scatter",
         "visible": false,
         "x": [
          1930,
          1931,
          1932,
          1933,
          1934,
          1935,
          1936,
          1937,
          1938,
          1939,
          1940,
          1941,
          1942,
          1943,
          1944,
          1945,
          1946,
          1947,
          1948,
          1949,
          1950,
          1951,
          1952,
          1953,
          1954,
          1955,
          1956,
          1957,
          1958,
          1959,
          1960,
          1961,
          1962,
          1963,
          1964,
          1965,
          1966,
          1967,
          1968,
          1969,
          1970,
          1971,
          1972,
          1973,
          1974,
          1975,
          1976,
          1977,
          1978,
          1979,
          1980,
          1981,
          1982,
          1983,
          1984,
          1985,
          1986,
          1987,
          1988,
          1989,
          1990,
          1991,
          1992,
          1993,
          1994,
          1995,
          1996,
          1997,
          1998,
          1999,
          2000,
          2001,
          2002,
          2003,
          2004,
          2005,
          2006,
          2007,
          2008,
          2009,
          2010,
          2011,
          2012,
          2013,
          2014,
          2015
         ],
         "y": [
          1.4356851865235893,
          1.7978968393629065,
          1.2731492204388715,
          1.5722008791533644,
          0.2163811026840396,
          0.983446866216162,
          1.4679885998055082,
          1.4699988842217795,
          0.9270354134347338,
          0.5578738962316218,
          -0.1158574696137123,
          0.7885123660084198,
          0.4016558343218455,
          0.26478085628305764,
          -0.014140856616124237,
          -0.38047255669968305,
          0.013747971723989021,
          0.13789605659493331,
          -0.04928959505531014,
          -0.6226803785122488,
          1.1689386875561425,
          0.34921379744776093,
          -0.05675457006864819,
          -0.5495909254101905,
          -0.8690503023318813,
          -0.7347561936826654,
          -0.5841924666404188,
          -0.8560307543914922,
          -0.6093166834159861,
          -0.43415052907629387,
          -0.4050292048903662,
          -0.09304015969186458,
          -0.9068682303713732,
          -1.0545233779459395,
          -1.0812820226479753,
          -1.0097944089861046,
          -0.6248701409609518,
          -1.298000458061694,
          -1.4500702004993322,
          -1.2486392071519525,
          -1.1025715915203222,
          -1.1079885247803787,
          -1.093476842962425,
          -1.2527106884874188,
          -0.9054046019497809,
          -0.22481738590947492,
          -0.938437021976522,
          -1.1850393221179005,
          -1.3378864723577115,
          -1.5041727019616873,
          -1.3792969580177128,
          -1.3068689192049456,
          -1.5126902876319228,
          -0.9232848084995271,
          -0.6962360909652219,
          -0.8758659192594687,
          -0.7576139287072727,
          -0.7903612059925503,
          -0.5474835374888967,
          -0.2456724208233988,
          -0.301570482907648,
          -0.7328350992074678,
          -0.8002576463971026,
          -0.7483622063199975,
          -0.4170237356330605,
          -0.027550588321907273,
          0.016777930459893318,
          1.0107368568386927,
          0.9637397441947557,
          1.633729978604,
          1.9044031982198457,
          0.9151213135536107,
          0.8178299422245577,
          0.7773922068907236,
          1.8414395344033316,
          1.4224612099458829,
          1.3493650723018338,
          0.7901392278731111,
          1.117381161470864,
          1.5542976300321225,
          1.300600763754382,
          1.21898241036535,
          1.0897322518433272,
          0.6584092299006316,
          1.356490514518743,
          1.1984470467195387
         ]
        },
        {
         "line": {
          "color": "rgb(148, 52, 110)",
          "width": 2
         },
         "mode": "lines+markers",
         "name": "News Frequency (Shifted by -29 years)",
         "type": "scatter",
         "visible": false,
         "x": [
          1930,
          1931,
          1932,
          1933,
          1934,
          1935,
          1936,
          1937,
          1938,
          1939,
          1940,
          1941,
          1942,
          1943,
          1944,
          1945,
          1946,
          1947,
          1948,
          1949,
          1950,
          1951,
          1952,
          1953,
          1954,
          1955,
          1956,
          1957,
          1958,
          1959,
          1960,
          1961,
          1962,
          1963,
          1964,
          1965,
          1966,
          1967,
          1968,
          1969,
          1970,
          1971,
          1972,
          1973,
          1974,
          1975,
          1976,
          1977,
          1978,
          1979,
          1980,
          1981,
          1982,
          1983,
          1984,
          1985,
          1986,
          1987,
          1988,
          1989,
          1990,
          1991,
          1992,
          1993,
          1994,
          1995,
          1996,
          1997,
          1998,
          1999,
          2000,
          2001,
          2002,
          2003,
          2004,
          2005,
          2006,
          2007,
          2008,
          2009,
          2010,
          2011,
          2012,
          2013,
          2014,
          2015
         ],
         "y": [
          1.1984470467195387,
          1.4356851865235893,
          1.7978968393629065,
          1.2731492204388715,
          1.5722008791533644,
          0.2163811026840396,
          0.983446866216162,
          1.4679885998055082,
          1.4699988842217795,
          0.9270354134347338,
          0.5578738962316218,
          -0.1158574696137123,
          0.7885123660084198,
          0.4016558343218455,
          0.26478085628305764,
          -0.014140856616124237,
          -0.38047255669968305,
          0.013747971723989021,
          0.13789605659493331,
          -0.04928959505531014,
          -0.6226803785122488,
          1.1689386875561425,
          0.34921379744776093,
          -0.05675457006864819,
          -0.5495909254101905,
          -0.8690503023318813,
          -0.7347561936826654,
          -0.5841924666404188,
          -0.8560307543914922,
          -0.6093166834159861,
          -0.43415052907629387,
          -0.4050292048903662,
          -0.09304015969186458,
          -0.9068682303713732,
          -1.0545233779459395,
          -1.0812820226479753,
          -1.0097944089861046,
          -0.6248701409609518,
          -1.298000458061694,
          -1.4500702004993322,
          -1.2486392071519525,
          -1.1025715915203222,
          -1.1079885247803787,
          -1.093476842962425,
          -1.2527106884874188,
          -0.9054046019497809,
          -0.22481738590947492,
          -0.938437021976522,
          -1.1850393221179005,
          -1.3378864723577115,
          -1.5041727019616873,
          -1.3792969580177128,
          -1.3068689192049456,
          -1.5126902876319228,
          -0.9232848084995271,
          -0.6962360909652219,
          -0.8758659192594687,
          -0.7576139287072727,
          -0.7903612059925503,
          -0.5474835374888967,
          -0.2456724208233988,
          -0.301570482907648,
          -0.7328350992074678,
          -0.8002576463971026,
          -0.7483622063199975,
          -0.4170237356330605,
          -0.027550588321907273,
          0.016777930459893318,
          1.0107368568386927,
          0.9637397441947557,
          1.633729978604,
          1.9044031982198457,
          0.9151213135536107,
          0.8178299422245577,
          0.7773922068907236,
          1.8414395344033316,
          1.4224612099458829,
          1.3493650723018338,
          0.7901392278731111,
          1.117381161470864,
          1.5542976300321225,
          1.300600763754382,
          1.21898241036535,
          1.0897322518433272,
          0.6584092299006316,
          1.356490514518743
         ]
        },
        {
         "line": {
          "color": "rgb(148, 52, 110)",
          "width": 2
         },
         "mode": "lines+markers",
         "name": "News Frequency (Shifted by -28 years)",
         "type": "scatter",
         "visible": false,
         "x": [
          1930,
          1931,
          1932,
          1933,
          1934,
          1935,
          1936,
          1937,
          1938,
          1939,
          1940,
          1941,
          1942,
          1943,
          1944,
          1945,
          1946,
          1947,
          1948,
          1949,
          1950,
          1951,
          1952,
          1953,
          1954,
          1955,
          1956,
          1957,
          1958,
          1959,
          1960,
          1961,
          1962,
          1963,
          1964,
          1965,
          1966,
          1967,
          1968,
          1969,
          1970,
          1971,
          1972,
          1973,
          1974,
          1975,
          1976,
          1977,
          1978,
          1979,
          1980,
          1981,
          1982,
          1983,
          1984,
          1985,
          1986,
          1987,
          1988,
          1989,
          1990,
          1991,
          1992,
          1993,
          1994,
          1995,
          1996,
          1997,
          1998,
          1999,
          2000,
          2001,
          2002,
          2003,
          2004,
          2005,
          2006,
          2007,
          2008,
          2009,
          2010,
          2011,
          2012,
          2013,
          2014,
          2015
         ],
         "y": [
          1.356490514518743,
          1.1984470467195387,
          1.4356851865235893,
          1.7978968393629065,
          1.2731492204388715,
          1.5722008791533644,
          0.2163811026840396,
          0.983446866216162,
          1.4679885998055082,
          1.4699988842217795,
          0.9270354134347338,
          0.5578738962316218,
          -0.1158574696137123,
          0.7885123660084198,
          0.4016558343218455,
          0.26478085628305764,
          -0.014140856616124237,
          -0.38047255669968305,
          0.013747971723989021,
          0.13789605659493331,
          -0.04928959505531014,
          -0.6226803785122488,
          1.1689386875561425,
          0.34921379744776093,
          -0.05675457006864819,
          -0.5495909254101905,
          -0.8690503023318813,
          -0.7347561936826654,
          -0.5841924666404188,
          -0.8560307543914922,
          -0.6093166834159861,
          -0.43415052907629387,
          -0.4050292048903662,
          -0.09304015969186458,
          -0.9068682303713732,
          -1.0545233779459395,
          -1.0812820226479753,
          -1.0097944089861046,
          -0.6248701409609518,
          -1.298000458061694,
          -1.4500702004993322,
          -1.2486392071519525,
          -1.1025715915203222,
          -1.1079885247803787,
          -1.093476842962425,
          -1.2527106884874188,
          -0.9054046019497809,
          -0.22481738590947492,
          -0.938437021976522,
          -1.1850393221179005,
          -1.3378864723577115,
          -1.5041727019616873,
          -1.3792969580177128,
          -1.3068689192049456,
          -1.5126902876319228,
          -0.9232848084995271,
          -0.6962360909652219,
          -0.8758659192594687,
          -0.7576139287072727,
          -0.7903612059925503,
          -0.5474835374888967,
          -0.2456724208233988,
          -0.301570482907648,
          -0.7328350992074678,
          -0.8002576463971026,
          -0.7483622063199975,
          -0.4170237356330605,
          -0.027550588321907273,
          0.016777930459893318,
          1.0107368568386927,
          0.9637397441947557,
          1.633729978604,
          1.9044031982198457,
          0.9151213135536107,
          0.8178299422245577,
          0.7773922068907236,
          1.8414395344033316,
          1.4224612099458829,
          1.3493650723018338,
          0.7901392278731111,
          1.117381161470864,
          1.5542976300321225,
          1.300600763754382,
          1.21898241036535,
          1.0897322518433272,
          0.6584092299006316
         ]
        },
        {
         "line": {
          "color": "rgb(148, 52, 110)",
          "width": 2
         },
         "mode": "lines+markers",
         "name": "News Frequency (Shifted by -27 years)",
         "type": "scatter",
         "visible": false,
         "x": [
          1930,
          1931,
          1932,
          1933,
          1934,
          1935,
          1936,
          1937,
          1938,
          1939,
          1940,
          1941,
          1942,
          1943,
          1944,
          1945,
          1946,
          1947,
          1948,
          1949,
          1950,
          1951,
          1952,
          1953,
          1954,
          1955,
          1956,
          1957,
          1958,
          1959,
          1960,
          1961,
          1962,
          1963,
          1964,
          1965,
          1966,
          1967,
          1968,
          1969,
          1970,
          1971,
          1972,
          1973,
          1974,
          1975,
          1976,
          1977,
          1978,
          1979,
          1980,
          1981,
          1982,
          1983,
          1984,
          1985,
          1986,
          1987,
          1988,
          1989,
          1990,
          1991,
          1992,
          1993,
          1994,
          1995,
          1996,
          1997,
          1998,
          1999,
          2000,
          2001,
          2002,
          2003,
          2004,
          2005,
          2006,
          2007,
          2008,
          2009,
          2010,
          2011,
          2012,
          2013,
          2014,
          2015
         ],
         "y": [
          0.6584092299006316,
          1.356490514518743,
          1.1984470467195387,
          1.4356851865235893,
          1.7978968393629065,
          1.2731492204388715,
          1.5722008791533644,
          0.2163811026840396,
          0.983446866216162,
          1.4679885998055082,
          1.4699988842217795,
          0.9270354134347338,
          0.5578738962316218,
          -0.1158574696137123,
          0.7885123660084198,
          0.4016558343218455,
          0.26478085628305764,
          -0.014140856616124237,
          -0.38047255669968305,
          0.013747971723989021,
          0.13789605659493331,
          -0.04928959505531014,
          -0.6226803785122488,
          1.1689386875561425,
          0.34921379744776093,
          -0.05675457006864819,
          -0.5495909254101905,
          -0.8690503023318813,
          -0.7347561936826654,
          -0.5841924666404188,
          -0.8560307543914922,
          -0.6093166834159861,
          -0.43415052907629387,
          -0.4050292048903662,
          -0.09304015969186458,
          -0.9068682303713732,
          -1.0545233779459395,
          -1.0812820226479753,
          -1.0097944089861046,
          -0.6248701409609518,
          -1.298000458061694,
          -1.4500702004993322,
          -1.2486392071519525,
          -1.1025715915203222,
          -1.1079885247803787,
          -1.093476842962425,
          -1.2527106884874188,
          -0.9054046019497809,
          -0.22481738590947492,
          -0.938437021976522,
          -1.1850393221179005,
          -1.3378864723577115,
          -1.5041727019616873,
          -1.3792969580177128,
          -1.3068689192049456,
          -1.5126902876319228,
          -0.9232848084995271,
          -0.6962360909652219,
          -0.8758659192594687,
          -0.7576139287072727,
          -0.7903612059925503,
          -0.5474835374888967,
          -0.2456724208233988,
          -0.301570482907648,
          -0.7328350992074678,
          -0.8002576463971026,
          -0.7483622063199975,
          -0.4170237356330605,
          -0.027550588321907273,
          0.016777930459893318,
          1.0107368568386927,
          0.9637397441947557,
          1.633729978604,
          1.9044031982198457,
          0.9151213135536107,
          0.8178299422245577,
          0.7773922068907236,
          1.8414395344033316,
          1.4224612099458829,
          1.3493650723018338,
          0.7901392278731111,
          1.117381161470864,
          1.5542976300321225,
          1.300600763754382,
          1.21898241036535,
          1.0897322518433272
         ]
        },
        {
         "line": {
          "color": "rgb(148, 52, 110)",
          "width": 2
         },
         "mode": "lines+markers",
         "name": "News Frequency (Shifted by -26 years)",
         "type": "scatter",
         "visible": false,
         "x": [
          1930,
          1931,
          1932,
          1933,
          1934,
          1935,
          1936,
          1937,
          1938,
          1939,
          1940,
          1941,
          1942,
          1943,
          1944,
          1945,
          1946,
          1947,
          1948,
          1949,
          1950,
          1951,
          1952,
          1953,
          1954,
          1955,
          1956,
          1957,
          1958,
          1959,
          1960,
          1961,
          1962,
          1963,
          1964,
          1965,
          1966,
          1967,
          1968,
          1969,
          1970,
          1971,
          1972,
          1973,
          1974,
          1975,
          1976,
          1977,
          1978,
          1979,
          1980,
          1981,
          1982,
          1983,
          1984,
          1985,
          1986,
          1987,
          1988,
          1989,
          1990,
          1991,
          1992,
          1993,
          1994,
          1995,
          1996,
          1997,
          1998,
          1999,
          2000,
          2001,
          2002,
          2003,
          2004,
          2005,
          2006,
          2007,
          2008,
          2009,
          2010,
          2011,
          2012,
          2013,
          2014,
          2015
         ],
         "y": [
          1.0897322518433272,
          0.6584092299006316,
          1.356490514518743,
          1.1984470467195387,
          1.4356851865235893,
          1.7978968393629065,
          1.2731492204388715,
          1.5722008791533644,
          0.2163811026840396,
          0.983446866216162,
          1.4679885998055082,
          1.4699988842217795,
          0.9270354134347338,
          0.5578738962316218,
          -0.1158574696137123,
          0.7885123660084198,
          0.4016558343218455,
          0.26478085628305764,
          -0.014140856616124237,
          -0.38047255669968305,
          0.013747971723989021,
          0.13789605659493331,
          -0.04928959505531014,
          -0.6226803785122488,
          1.1689386875561425,
          0.34921379744776093,
          -0.05675457006864819,
          -0.5495909254101905,
          -0.8690503023318813,
          -0.7347561936826654,
          -0.5841924666404188,
          -0.8560307543914922,
          -0.6093166834159861,
          -0.43415052907629387,
          -0.4050292048903662,
          -0.09304015969186458,
          -0.9068682303713732,
          -1.0545233779459395,
          -1.0812820226479753,
          -1.0097944089861046,
          -0.6248701409609518,
          -1.298000458061694,
          -1.4500702004993322,
          -1.2486392071519525,
          -1.1025715915203222,
          -1.1079885247803787,
          -1.093476842962425,
          -1.2527106884874188,
          -0.9054046019497809,
          -0.22481738590947492,
          -0.938437021976522,
          -1.1850393221179005,
          -1.3378864723577115,
          -1.5041727019616873,
          -1.3792969580177128,
          -1.3068689192049456,
          -1.5126902876319228,
          -0.9232848084995271,
          -0.6962360909652219,
          -0.8758659192594687,
          -0.7576139287072727,
          -0.7903612059925503,
          -0.5474835374888967,
          -0.2456724208233988,
          -0.301570482907648,
          -0.7328350992074678,
          -0.8002576463971026,
          -0.7483622063199975,
          -0.4170237356330605,
          -0.027550588321907273,
          0.016777930459893318,
          1.0107368568386927,
          0.9637397441947557,
          1.633729978604,
          1.9044031982198457,
          0.9151213135536107,
          0.8178299422245577,
          0.7773922068907236,
          1.8414395344033316,
          1.4224612099458829,
          1.3493650723018338,
          0.7901392278731111,
          1.117381161470864,
          1.5542976300321225,
          1.300600763754382,
          1.21898241036535
         ]
        },
        {
         "line": {
          "color": "rgb(148, 52, 110)",
          "width": 2
         },
         "mode": "lines+markers",
         "name": "News Frequency (Shifted by -25 years)",
         "type": "scatter",
         "visible": false,
         "x": [
          1930,
          1931,
          1932,
          1933,
          1934,
          1935,
          1936,
          1937,
          1938,
          1939,
          1940,
          1941,
          1942,
          1943,
          1944,
          1945,
          1946,
          1947,
          1948,
          1949,
          1950,
          1951,
          1952,
          1953,
          1954,
          1955,
          1956,
          1957,
          1958,
          1959,
          1960,
          1961,
          1962,
          1963,
          1964,
          1965,
          1966,
          1967,
          1968,
          1969,
          1970,
          1971,
          1972,
          1973,
          1974,
          1975,
          1976,
          1977,
          1978,
          1979,
          1980,
          1981,
          1982,
          1983,
          1984,
          1985,
          1986,
          1987,
          1988,
          1989,
          1990,
          1991,
          1992,
          1993,
          1994,
          1995,
          1996,
          1997,
          1998,
          1999,
          2000,
          2001,
          2002,
          2003,
          2004,
          2005,
          2006,
          2007,
          2008,
          2009,
          2010,
          2011,
          2012,
          2013,
          2014,
          2015
         ],
         "y": [
          1.21898241036535,
          1.0897322518433272,
          0.6584092299006316,
          1.356490514518743,
          1.1984470467195387,
          1.4356851865235893,
          1.7978968393629065,
          1.2731492204388715,
          1.5722008791533644,
          0.2163811026840396,
          0.983446866216162,
          1.4679885998055082,
          1.4699988842217795,
          0.9270354134347338,
          0.5578738962316218,
          -0.1158574696137123,
          0.7885123660084198,
          0.4016558343218455,
          0.26478085628305764,
          -0.014140856616124237,
          -0.38047255669968305,
          0.013747971723989021,
          0.13789605659493331,
          -0.04928959505531014,
          -0.6226803785122488,
          1.1689386875561425,
          0.34921379744776093,
          -0.05675457006864819,
          -0.5495909254101905,
          -0.8690503023318813,
          -0.7347561936826654,
          -0.5841924666404188,
          -0.8560307543914922,
          -0.6093166834159861,
          -0.43415052907629387,
          -0.4050292048903662,
          -0.09304015969186458,
          -0.9068682303713732,
          -1.0545233779459395,
          -1.0812820226479753,
          -1.0097944089861046,
          -0.6248701409609518,
          -1.298000458061694,
          -1.4500702004993322,
          -1.2486392071519525,
          -1.1025715915203222,
          -1.1079885247803787,
          -1.093476842962425,
          -1.2527106884874188,
          -0.9054046019497809,
          -0.22481738590947492,
          -0.938437021976522,
          -1.1850393221179005,
          -1.3378864723577115,
          -1.5041727019616873,
          -1.3792969580177128,
          -1.3068689192049456,
          -1.5126902876319228,
          -0.9232848084995271,
          -0.6962360909652219,
          -0.8758659192594687,
          -0.7576139287072727,
          -0.7903612059925503,
          -0.5474835374888967,
          -0.2456724208233988,
          -0.301570482907648,
          -0.7328350992074678,
          -0.8002576463971026,
          -0.7483622063199975,
          -0.4170237356330605,
          -0.027550588321907273,
          0.016777930459893318,
          1.0107368568386927,
          0.9637397441947557,
          1.633729978604,
          1.9044031982198457,
          0.9151213135536107,
          0.8178299422245577,
          0.7773922068907236,
          1.8414395344033316,
          1.4224612099458829,
          1.3493650723018338,
          0.7901392278731111,
          1.117381161470864,
          1.5542976300321225,
          1.300600763754382
         ]
        },
        {
         "line": {
          "color": "rgb(148, 52, 110)",
          "width": 2
         },
         "mode": "lines+markers",
         "name": "News Frequency (Shifted by -24 years)",
         "type": "scatter",
         "visible": false,
         "x": [
          1930,
          1931,
          1932,
          1933,
          1934,
          1935,
          1936,
          1937,
          1938,
          1939,
          1940,
          1941,
          1942,
          1943,
          1944,
          1945,
          1946,
          1947,
          1948,
          1949,
          1950,
          1951,
          1952,
          1953,
          1954,
          1955,
          1956,
          1957,
          1958,
          1959,
          1960,
          1961,
          1962,
          1963,
          1964,
          1965,
          1966,
          1967,
          1968,
          1969,
          1970,
          1971,
          1972,
          1973,
          1974,
          1975,
          1976,
          1977,
          1978,
          1979,
          1980,
          1981,
          1982,
          1983,
          1984,
          1985,
          1986,
          1987,
          1988,
          1989,
          1990,
          1991,
          1992,
          1993,
          1994,
          1995,
          1996,
          1997,
          1998,
          1999,
          2000,
          2001,
          2002,
          2003,
          2004,
          2005,
          2006,
          2007,
          2008,
          2009,
          2010,
          2011,
          2012,
          2013,
          2014,
          2015
         ],
         "y": [
          1.300600763754382,
          1.21898241036535,
          1.0897322518433272,
          0.6584092299006316,
          1.356490514518743,
          1.1984470467195387,
          1.4356851865235893,
          1.7978968393629065,
          1.2731492204388715,
          1.5722008791533644,
          0.2163811026840396,
          0.983446866216162,
          1.4679885998055082,
          1.4699988842217795,
          0.9270354134347338,
          0.5578738962316218,
          -0.1158574696137123,
          0.7885123660084198,
          0.4016558343218455,
          0.26478085628305764,
          -0.014140856616124237,
          -0.38047255669968305,
          0.013747971723989021,
          0.13789605659493331,
          -0.04928959505531014,
          -0.6226803785122488,
          1.1689386875561425,
          0.34921379744776093,
          -0.05675457006864819,
          -0.5495909254101905,
          -0.8690503023318813,
          -0.7347561936826654,
          -0.5841924666404188,
          -0.8560307543914922,
          -0.6093166834159861,
          -0.43415052907629387,
          -0.4050292048903662,
          -0.09304015969186458,
          -0.9068682303713732,
          -1.0545233779459395,
          -1.0812820226479753,
          -1.0097944089861046,
          -0.6248701409609518,
          -1.298000458061694,
          -1.4500702004993322,
          -1.2486392071519525,
          -1.1025715915203222,
          -1.1079885247803787,
          -1.093476842962425,
          -1.2527106884874188,
          -0.9054046019497809,
          -0.22481738590947492,
          -0.938437021976522,
          -1.1850393221179005,
          -1.3378864723577115,
          -1.5041727019616873,
          -1.3792969580177128,
          -1.3068689192049456,
          -1.5126902876319228,
          -0.9232848084995271,
          -0.6962360909652219,
          -0.8758659192594687,
          -0.7576139287072727,
          -0.7903612059925503,
          -0.5474835374888967,
          -0.2456724208233988,
          -0.301570482907648,
          -0.7328350992074678,
          -0.8002576463971026,
          -0.7483622063199975,
          -0.4170237356330605,
          -0.027550588321907273,
          0.016777930459893318,
          1.0107368568386927,
          0.9637397441947557,
          1.633729978604,
          1.9044031982198457,
          0.9151213135536107,
          0.8178299422245577,
          0.7773922068907236,
          1.8414395344033316,
          1.4224612099458829,
          1.3493650723018338,
          0.7901392278731111,
          1.117381161470864,
          1.5542976300321225
         ]
        },
        {
         "line": {
          "color": "rgb(148, 52, 110)",
          "width": 2
         },
         "mode": "lines+markers",
         "name": "News Frequency (Shifted by -23 years)",
         "type": "scatter",
         "visible": false,
         "x": [
          1930,
          1931,
          1932,
          1933,
          1934,
          1935,
          1936,
          1937,
          1938,
          1939,
          1940,
          1941,
          1942,
          1943,
          1944,
          1945,
          1946,
          1947,
          1948,
          1949,
          1950,
          1951,
          1952,
          1953,
          1954,
          1955,
          1956,
          1957,
          1958,
          1959,
          1960,
          1961,
          1962,
          1963,
          1964,
          1965,
          1966,
          1967,
          1968,
          1969,
          1970,
          1971,
          1972,
          1973,
          1974,
          1975,
          1976,
          1977,
          1978,
          1979,
          1980,
          1981,
          1982,
          1983,
          1984,
          1985,
          1986,
          1987,
          1988,
          1989,
          1990,
          1991,
          1992,
          1993,
          1994,
          1995,
          1996,
          1997,
          1998,
          1999,
          2000,
          2001,
          2002,
          2003,
          2004,
          2005,
          2006,
          2007,
          2008,
          2009,
          2010,
          2011,
          2012,
          2013,
          2014,
          2015
         ],
         "y": [
          1.5542976300321225,
          1.300600763754382,
          1.21898241036535,
          1.0897322518433272,
          0.6584092299006316,
          1.356490514518743,
          1.1984470467195387,
          1.4356851865235893,
          1.7978968393629065,
          1.2731492204388715,
          1.5722008791533644,
          0.2163811026840396,
          0.983446866216162,
          1.4679885998055082,
          1.4699988842217795,
          0.9270354134347338,
          0.5578738962316218,
          -0.1158574696137123,
          0.7885123660084198,
          0.4016558343218455,
          0.26478085628305764,
          -0.014140856616124237,
          -0.38047255669968305,
          0.013747971723989021,
          0.13789605659493331,
          -0.04928959505531014,
          -0.6226803785122488,
          1.1689386875561425,
          0.34921379744776093,
          -0.05675457006864819,
          -0.5495909254101905,
          -0.8690503023318813,
          -0.7347561936826654,
          -0.5841924666404188,
          -0.8560307543914922,
          -0.6093166834159861,
          -0.43415052907629387,
          -0.4050292048903662,
          -0.09304015969186458,
          -0.9068682303713732,
          -1.0545233779459395,
          -1.0812820226479753,
          -1.0097944089861046,
          -0.6248701409609518,
          -1.298000458061694,
          -1.4500702004993322,
          -1.2486392071519525,
          -1.1025715915203222,
          -1.1079885247803787,
          -1.093476842962425,
          -1.2527106884874188,
          -0.9054046019497809,
          -0.22481738590947492,
          -0.938437021976522,
          -1.1850393221179005,
          -1.3378864723577115,
          -1.5041727019616873,
          -1.3792969580177128,
          -1.3068689192049456,
          -1.5126902876319228,
          -0.9232848084995271,
          -0.6962360909652219,
          -0.8758659192594687,
          -0.7576139287072727,
          -0.7903612059925503,
          -0.5474835374888967,
          -0.2456724208233988,
          -0.301570482907648,
          -0.7328350992074678,
          -0.8002576463971026,
          -0.7483622063199975,
          -0.4170237356330605,
          -0.027550588321907273,
          0.016777930459893318,
          1.0107368568386927,
          0.9637397441947557,
          1.633729978604,
          1.9044031982198457,
          0.9151213135536107,
          0.8178299422245577,
          0.7773922068907236,
          1.8414395344033316,
          1.4224612099458829,
          1.3493650723018338,
          0.7901392278731111,
          1.117381161470864
         ]
        },
        {
         "line": {
          "color": "rgb(148, 52, 110)",
          "width": 2
         },
         "mode": "lines+markers",
         "name": "News Frequency (Shifted by -22 years)",
         "type": "scatter",
         "visible": false,
         "x": [
          1930,
          1931,
          1932,
          1933,
          1934,
          1935,
          1936,
          1937,
          1938,
          1939,
          1940,
          1941,
          1942,
          1943,
          1944,
          1945,
          1946,
          1947,
          1948,
          1949,
          1950,
          1951,
          1952,
          1953,
          1954,
          1955,
          1956,
          1957,
          1958,
          1959,
          1960,
          1961,
          1962,
          1963,
          1964,
          1965,
          1966,
          1967,
          1968,
          1969,
          1970,
          1971,
          1972,
          1973,
          1974,
          1975,
          1976,
          1977,
          1978,
          1979,
          1980,
          1981,
          1982,
          1983,
          1984,
          1985,
          1986,
          1987,
          1988,
          1989,
          1990,
          1991,
          1992,
          1993,
          1994,
          1995,
          1996,
          1997,
          1998,
          1999,
          2000,
          2001,
          2002,
          2003,
          2004,
          2005,
          2006,
          2007,
          2008,
          2009,
          2010,
          2011,
          2012,
          2013,
          2014,
          2015
         ],
         "y": [
          1.117381161470864,
          1.5542976300321225,
          1.300600763754382,
          1.21898241036535,
          1.0897322518433272,
          0.6584092299006316,
          1.356490514518743,
          1.1984470467195387,
          1.4356851865235893,
          1.7978968393629065,
          1.2731492204388715,
          1.5722008791533644,
          0.2163811026840396,
          0.983446866216162,
          1.4679885998055082,
          1.4699988842217795,
          0.9270354134347338,
          0.5578738962316218,
          -0.1158574696137123,
          0.7885123660084198,
          0.4016558343218455,
          0.26478085628305764,
          -0.014140856616124237,
          -0.38047255669968305,
          0.013747971723989021,
          0.13789605659493331,
          -0.04928959505531014,
          -0.6226803785122488,
          1.1689386875561425,
          0.34921379744776093,
          -0.05675457006864819,
          -0.5495909254101905,
          -0.8690503023318813,
          -0.7347561936826654,
          -0.5841924666404188,
          -0.8560307543914922,
          -0.6093166834159861,
          -0.43415052907629387,
          -0.4050292048903662,
          -0.09304015969186458,
          -0.9068682303713732,
          -1.0545233779459395,
          -1.0812820226479753,
          -1.0097944089861046,
          -0.6248701409609518,
          -1.298000458061694,
          -1.4500702004993322,
          -1.2486392071519525,
          -1.1025715915203222,
          -1.1079885247803787,
          -1.093476842962425,
          -1.2527106884874188,
          -0.9054046019497809,
          -0.22481738590947492,
          -0.938437021976522,
          -1.1850393221179005,
          -1.3378864723577115,
          -1.5041727019616873,
          -1.3792969580177128,
          -1.3068689192049456,
          -1.5126902876319228,
          -0.9232848084995271,
          -0.6962360909652219,
          -0.8758659192594687,
          -0.7576139287072727,
          -0.7903612059925503,
          -0.5474835374888967,
          -0.2456724208233988,
          -0.301570482907648,
          -0.7328350992074678,
          -0.8002576463971026,
          -0.7483622063199975,
          -0.4170237356330605,
          -0.027550588321907273,
          0.016777930459893318,
          1.0107368568386927,
          0.9637397441947557,
          1.633729978604,
          1.9044031982198457,
          0.9151213135536107,
          0.8178299422245577,
          0.7773922068907236,
          1.8414395344033316,
          1.4224612099458829,
          1.3493650723018338,
          0.7901392278731111
         ]
        },
        {
         "line": {
          "color": "rgb(148, 52, 110)",
          "width": 2
         },
         "mode": "lines+markers",
         "name": "News Frequency (Shifted by -21 years)",
         "type": "scatter",
         "visible": false,
         "x": [
          1930,
          1931,
          1932,
          1933,
          1934,
          1935,
          1936,
          1937,
          1938,
          1939,
          1940,
          1941,
          1942,
          1943,
          1944,
          1945,
          1946,
          1947,
          1948,
          1949,
          1950,
          1951,
          1952,
          1953,
          1954,
          1955,
          1956,
          1957,
          1958,
          1959,
          1960,
          1961,
          1962,
          1963,
          1964,
          1965,
          1966,
          1967,
          1968,
          1969,
          1970,
          1971,
          1972,
          1973,
          1974,
          1975,
          1976,
          1977,
          1978,
          1979,
          1980,
          1981,
          1982,
          1983,
          1984,
          1985,
          1986,
          1987,
          1988,
          1989,
          1990,
          1991,
          1992,
          1993,
          1994,
          1995,
          1996,
          1997,
          1998,
          1999,
          2000,
          2001,
          2002,
          2003,
          2004,
          2005,
          2006,
          2007,
          2008,
          2009,
          2010,
          2011,
          2012,
          2013,
          2014,
          2015
         ],
         "y": [
          0.7901392278731111,
          1.117381161470864,
          1.5542976300321225,
          1.300600763754382,
          1.21898241036535,
          1.0897322518433272,
          0.6584092299006316,
          1.356490514518743,
          1.1984470467195387,
          1.4356851865235893,
          1.7978968393629065,
          1.2731492204388715,
          1.5722008791533644,
          0.2163811026840396,
          0.983446866216162,
          1.4679885998055082,
          1.4699988842217795,
          0.9270354134347338,
          0.5578738962316218,
          -0.1158574696137123,
          0.7885123660084198,
          0.4016558343218455,
          0.26478085628305764,
          -0.014140856616124237,
          -0.38047255669968305,
          0.013747971723989021,
          0.13789605659493331,
          -0.04928959505531014,
          -0.6226803785122488,
          1.1689386875561425,
          0.34921379744776093,
          -0.05675457006864819,
          -0.5495909254101905,
          -0.8690503023318813,
          -0.7347561936826654,
          -0.5841924666404188,
          -0.8560307543914922,
          -0.6093166834159861,
          -0.43415052907629387,
          -0.4050292048903662,
          -0.09304015969186458,
          -0.9068682303713732,
          -1.0545233779459395,
          -1.0812820226479753,
          -1.0097944089861046,
          -0.6248701409609518,
          -1.298000458061694,
          -1.4500702004993322,
          -1.2486392071519525,
          -1.1025715915203222,
          -1.1079885247803787,
          -1.093476842962425,
          -1.2527106884874188,
          -0.9054046019497809,
          -0.22481738590947492,
          -0.938437021976522,
          -1.1850393221179005,
          -1.3378864723577115,
          -1.5041727019616873,
          -1.3792969580177128,
          -1.3068689192049456,
          -1.5126902876319228,
          -0.9232848084995271,
          -0.6962360909652219,
          -0.8758659192594687,
          -0.7576139287072727,
          -0.7903612059925503,
          -0.5474835374888967,
          -0.2456724208233988,
          -0.301570482907648,
          -0.7328350992074678,
          -0.8002576463971026,
          -0.7483622063199975,
          -0.4170237356330605,
          -0.027550588321907273,
          0.016777930459893318,
          1.0107368568386927,
          0.9637397441947557,
          1.633729978604,
          1.9044031982198457,
          0.9151213135536107,
          0.8178299422245577,
          0.7773922068907236,
          1.8414395344033316,
          1.4224612099458829,
          1.3493650723018338
         ]
        },
        {
         "line": {
          "color": "rgb(148, 52, 110)",
          "width": 2
         },
         "mode": "lines+markers",
         "name": "News Frequency (Shifted by -20 years)",
         "type": "scatter",
         "visible": false,
         "x": [
          1930,
          1931,
          1932,
          1933,
          1934,
          1935,
          1936,
          1937,
          1938,
          1939,
          1940,
          1941,
          1942,
          1943,
          1944,
          1945,
          1946,
          1947,
          1948,
          1949,
          1950,
          1951,
          1952,
          1953,
          1954,
          1955,
          1956,
          1957,
          1958,
          1959,
          1960,
          1961,
          1962,
          1963,
          1964,
          1965,
          1966,
          1967,
          1968,
          1969,
          1970,
          1971,
          1972,
          1973,
          1974,
          1975,
          1976,
          1977,
          1978,
          1979,
          1980,
          1981,
          1982,
          1983,
          1984,
          1985,
          1986,
          1987,
          1988,
          1989,
          1990,
          1991,
          1992,
          1993,
          1994,
          1995,
          1996,
          1997,
          1998,
          1999,
          2000,
          2001,
          2002,
          2003,
          2004,
          2005,
          2006,
          2007,
          2008,
          2009,
          2010,
          2011,
          2012,
          2013,
          2014,
          2015
         ],
         "y": [
          1.3493650723018338,
          0.7901392278731111,
          1.117381161470864,
          1.5542976300321225,
          1.300600763754382,
          1.21898241036535,
          1.0897322518433272,
          0.6584092299006316,
          1.356490514518743,
          1.1984470467195387,
          1.4356851865235893,
          1.7978968393629065,
          1.2731492204388715,
          1.5722008791533644,
          0.2163811026840396,
          0.983446866216162,
          1.4679885998055082,
          1.4699988842217795,
          0.9270354134347338,
          0.5578738962316218,
          -0.1158574696137123,
          0.7885123660084198,
          0.4016558343218455,
          0.26478085628305764,
          -0.014140856616124237,
          -0.38047255669968305,
          0.013747971723989021,
          0.13789605659493331,
          -0.04928959505531014,
          -0.6226803785122488,
          1.1689386875561425,
          0.34921379744776093,
          -0.05675457006864819,
          -0.5495909254101905,
          -0.8690503023318813,
          -0.7347561936826654,
          -0.5841924666404188,
          -0.8560307543914922,
          -0.6093166834159861,
          -0.43415052907629387,
          -0.4050292048903662,
          -0.09304015969186458,
          -0.9068682303713732,
          -1.0545233779459395,
          -1.0812820226479753,
          -1.0097944089861046,
          -0.6248701409609518,
          -1.298000458061694,
          -1.4500702004993322,
          -1.2486392071519525,
          -1.1025715915203222,
          -1.1079885247803787,
          -1.093476842962425,
          -1.2527106884874188,
          -0.9054046019497809,
          -0.22481738590947492,
          -0.938437021976522,
          -1.1850393221179005,
          -1.3378864723577115,
          -1.5041727019616873,
          -1.3792969580177128,
          -1.3068689192049456,
          -1.5126902876319228,
          -0.9232848084995271,
          -0.6962360909652219,
          -0.8758659192594687,
          -0.7576139287072727,
          -0.7903612059925503,
          -0.5474835374888967,
          -0.2456724208233988,
          -0.301570482907648,
          -0.7328350992074678,
          -0.8002576463971026,
          -0.7483622063199975,
          -0.4170237356330605,
          -0.027550588321907273,
          0.016777930459893318,
          1.0107368568386927,
          0.9637397441947557,
          1.633729978604,
          1.9044031982198457,
          0.9151213135536107,
          0.8178299422245577,
          0.7773922068907236,
          1.8414395344033316,
          1.4224612099458829
         ]
        },
        {
         "line": {
          "color": "rgb(148, 52, 110)",
          "width": 2
         },
         "mode": "lines+markers",
         "name": "News Frequency (Shifted by -19 years)",
         "type": "scatter",
         "visible": false,
         "x": [
          1930,
          1931,
          1932,
          1933,
          1934,
          1935,
          1936,
          1937,
          1938,
          1939,
          1940,
          1941,
          1942,
          1943,
          1944,
          1945,
          1946,
          1947,
          1948,
          1949,
          1950,
          1951,
          1952,
          1953,
          1954,
          1955,
          1956,
          1957,
          1958,
          1959,
          1960,
          1961,
          1962,
          1963,
          1964,
          1965,
          1966,
          1967,
          1968,
          1969,
          1970,
          1971,
          1972,
          1973,
          1974,
          1975,
          1976,
          1977,
          1978,
          1979,
          1980,
          1981,
          1982,
          1983,
          1984,
          1985,
          1986,
          1987,
          1988,
          1989,
          1990,
          1991,
          1992,
          1993,
          1994,
          1995,
          1996,
          1997,
          1998,
          1999,
          2000,
          2001,
          2002,
          2003,
          2004,
          2005,
          2006,
          2007,
          2008,
          2009,
          2010,
          2011,
          2012,
          2013,
          2014,
          2015
         ],
         "y": [
          1.4224612099458829,
          1.3493650723018338,
          0.7901392278731111,
          1.117381161470864,
          1.5542976300321225,
          1.300600763754382,
          1.21898241036535,
          1.0897322518433272,
          0.6584092299006316,
          1.356490514518743,
          1.1984470467195387,
          1.4356851865235893,
          1.7978968393629065,
          1.2731492204388715,
          1.5722008791533644,
          0.2163811026840396,
          0.983446866216162,
          1.4679885998055082,
          1.4699988842217795,
          0.9270354134347338,
          0.5578738962316218,
          -0.1158574696137123,
          0.7885123660084198,
          0.4016558343218455,
          0.26478085628305764,
          -0.014140856616124237,
          -0.38047255669968305,
          0.013747971723989021,
          0.13789605659493331,
          -0.04928959505531014,
          -0.6226803785122488,
          1.1689386875561425,
          0.34921379744776093,
          -0.05675457006864819,
          -0.5495909254101905,
          -0.8690503023318813,
          -0.7347561936826654,
          -0.5841924666404188,
          -0.8560307543914922,
          -0.6093166834159861,
          -0.43415052907629387,
          -0.4050292048903662,
          -0.09304015969186458,
          -0.9068682303713732,
          -1.0545233779459395,
          -1.0812820226479753,
          -1.0097944089861046,
          -0.6248701409609518,
          -1.298000458061694,
          -1.4500702004993322,
          -1.2486392071519525,
          -1.1025715915203222,
          -1.1079885247803787,
          -1.093476842962425,
          -1.2527106884874188,
          -0.9054046019497809,
          -0.22481738590947492,
          -0.938437021976522,
          -1.1850393221179005,
          -1.3378864723577115,
          -1.5041727019616873,
          -1.3792969580177128,
          -1.3068689192049456,
          -1.5126902876319228,
          -0.9232848084995271,
          -0.6962360909652219,
          -0.8758659192594687,
          -0.7576139287072727,
          -0.7903612059925503,
          -0.5474835374888967,
          -0.2456724208233988,
          -0.301570482907648,
          -0.7328350992074678,
          -0.8002576463971026,
          -0.7483622063199975,
          -0.4170237356330605,
          -0.027550588321907273,
          0.016777930459893318,
          1.0107368568386927,
          0.9637397441947557,
          1.633729978604,
          1.9044031982198457,
          0.9151213135536107,
          0.8178299422245577,
          0.7773922068907236,
          1.8414395344033316
         ]
        },
        {
         "line": {
          "color": "rgb(148, 52, 110)",
          "width": 2
         },
         "mode": "lines+markers",
         "name": "News Frequency (Shifted by -18 years)",
         "type": "scatter",
         "visible": false,
         "x": [
          1930,
          1931,
          1932,
          1933,
          1934,
          1935,
          1936,
          1937,
          1938,
          1939,
          1940,
          1941,
          1942,
          1943,
          1944,
          1945,
          1946,
          1947,
          1948,
          1949,
          1950,
          1951,
          1952,
          1953,
          1954,
          1955,
          1956,
          1957,
          1958,
          1959,
          1960,
          1961,
          1962,
          1963,
          1964,
          1965,
          1966,
          1967,
          1968,
          1969,
          1970,
          1971,
          1972,
          1973,
          1974,
          1975,
          1976,
          1977,
          1978,
          1979,
          1980,
          1981,
          1982,
          1983,
          1984,
          1985,
          1986,
          1987,
          1988,
          1989,
          1990,
          1991,
          1992,
          1993,
          1994,
          1995,
          1996,
          1997,
          1998,
          1999,
          2000,
          2001,
          2002,
          2003,
          2004,
          2005,
          2006,
          2007,
          2008,
          2009,
          2010,
          2011,
          2012,
          2013,
          2014,
          2015
         ],
         "y": [
          1.8414395344033316,
          1.4224612099458829,
          1.3493650723018338,
          0.7901392278731111,
          1.117381161470864,
          1.5542976300321225,
          1.300600763754382,
          1.21898241036535,
          1.0897322518433272,
          0.6584092299006316,
          1.356490514518743,
          1.1984470467195387,
          1.4356851865235893,
          1.7978968393629065,
          1.2731492204388715,
          1.5722008791533644,
          0.2163811026840396,
          0.983446866216162,
          1.4679885998055082,
          1.4699988842217795,
          0.9270354134347338,
          0.5578738962316218,
          -0.1158574696137123,
          0.7885123660084198,
          0.4016558343218455,
          0.26478085628305764,
          -0.014140856616124237,
          -0.38047255669968305,
          0.013747971723989021,
          0.13789605659493331,
          -0.04928959505531014,
          -0.6226803785122488,
          1.1689386875561425,
          0.34921379744776093,
          -0.05675457006864819,
          -0.5495909254101905,
          -0.8690503023318813,
          -0.7347561936826654,
          -0.5841924666404188,
          -0.8560307543914922,
          -0.6093166834159861,
          -0.43415052907629387,
          -0.4050292048903662,
          -0.09304015969186458,
          -0.9068682303713732,
          -1.0545233779459395,
          -1.0812820226479753,
          -1.0097944089861046,
          -0.6248701409609518,
          -1.298000458061694,
          -1.4500702004993322,
          -1.2486392071519525,
          -1.1025715915203222,
          -1.1079885247803787,
          -1.093476842962425,
          -1.2527106884874188,
          -0.9054046019497809,
          -0.22481738590947492,
          -0.938437021976522,
          -1.1850393221179005,
          -1.3378864723577115,
          -1.5041727019616873,
          -1.3792969580177128,
          -1.3068689192049456,
          -1.5126902876319228,
          -0.9232848084995271,
          -0.6962360909652219,
          -0.8758659192594687,
          -0.7576139287072727,
          -0.7903612059925503,
          -0.5474835374888967,
          -0.2456724208233988,
          -0.301570482907648,
          -0.7328350992074678,
          -0.8002576463971026,
          -0.7483622063199975,
          -0.4170237356330605,
          -0.027550588321907273,
          0.016777930459893318,
          1.0107368568386927,
          0.9637397441947557,
          1.633729978604,
          1.9044031982198457,
          0.9151213135536107,
          0.8178299422245577,
          0.7773922068907236
         ]
        },
        {
         "line": {
          "color": "rgb(148, 52, 110)",
          "width": 2
         },
         "mode": "lines+markers",
         "name": "News Frequency (Shifted by -17 years)",
         "type": "scatter",
         "visible": false,
         "x": [
          1930,
          1931,
          1932,
          1933,
          1934,
          1935,
          1936,
          1937,
          1938,
          1939,
          1940,
          1941,
          1942,
          1943,
          1944,
          1945,
          1946,
          1947,
          1948,
          1949,
          1950,
          1951,
          1952,
          1953,
          1954,
          1955,
          1956,
          1957,
          1958,
          1959,
          1960,
          1961,
          1962,
          1963,
          1964,
          1965,
          1966,
          1967,
          1968,
          1969,
          1970,
          1971,
          1972,
          1973,
          1974,
          1975,
          1976,
          1977,
          1978,
          1979,
          1980,
          1981,
          1982,
          1983,
          1984,
          1985,
          1986,
          1987,
          1988,
          1989,
          1990,
          1991,
          1992,
          1993,
          1994,
          1995,
          1996,
          1997,
          1998,
          1999,
          2000,
          2001,
          2002,
          2003,
          2004,
          2005,
          2006,
          2007,
          2008,
          2009,
          2010,
          2011,
          2012,
          2013,
          2014,
          2015
         ],
         "y": [
          0.7773922068907236,
          1.8414395344033316,
          1.4224612099458829,
          1.3493650723018338,
          0.7901392278731111,
          1.117381161470864,
          1.5542976300321225,
          1.300600763754382,
          1.21898241036535,
          1.0897322518433272,
          0.6584092299006316,
          1.356490514518743,
          1.1984470467195387,
          1.4356851865235893,
          1.7978968393629065,
          1.2731492204388715,
          1.5722008791533644,
          0.2163811026840396,
          0.983446866216162,
          1.4679885998055082,
          1.4699988842217795,
          0.9270354134347338,
          0.5578738962316218,
          -0.1158574696137123,
          0.7885123660084198,
          0.4016558343218455,
          0.26478085628305764,
          -0.014140856616124237,
          -0.38047255669968305,
          0.013747971723989021,
          0.13789605659493331,
          -0.04928959505531014,
          -0.6226803785122488,
          1.1689386875561425,
          0.34921379744776093,
          -0.05675457006864819,
          -0.5495909254101905,
          -0.8690503023318813,
          -0.7347561936826654,
          -0.5841924666404188,
          -0.8560307543914922,
          -0.6093166834159861,
          -0.43415052907629387,
          -0.4050292048903662,
          -0.09304015969186458,
          -0.9068682303713732,
          -1.0545233779459395,
          -1.0812820226479753,
          -1.0097944089861046,
          -0.6248701409609518,
          -1.298000458061694,
          -1.4500702004993322,
          -1.2486392071519525,
          -1.1025715915203222,
          -1.1079885247803787,
          -1.093476842962425,
          -1.2527106884874188,
          -0.9054046019497809,
          -0.22481738590947492,
          -0.938437021976522,
          -1.1850393221179005,
          -1.3378864723577115,
          -1.5041727019616873,
          -1.3792969580177128,
          -1.3068689192049456,
          -1.5126902876319228,
          -0.9232848084995271,
          -0.6962360909652219,
          -0.8758659192594687,
          -0.7576139287072727,
          -0.7903612059925503,
          -0.5474835374888967,
          -0.2456724208233988,
          -0.301570482907648,
          -0.7328350992074678,
          -0.8002576463971026,
          -0.7483622063199975,
          -0.4170237356330605,
          -0.027550588321907273,
          0.016777930459893318,
          1.0107368568386927,
          0.9637397441947557,
          1.633729978604,
          1.9044031982198457,
          0.9151213135536107,
          0.8178299422245577
         ]
        },
        {
         "line": {
          "color": "rgb(148, 52, 110)",
          "width": 2
         },
         "mode": "lines+markers",
         "name": "News Frequency (Shifted by -16 years)",
         "type": "scatter",
         "visible": false,
         "x": [
          1930,
          1931,
          1932,
          1933,
          1934,
          1935,
          1936,
          1937,
          1938,
          1939,
          1940,
          1941,
          1942,
          1943,
          1944,
          1945,
          1946,
          1947,
          1948,
          1949,
          1950,
          1951,
          1952,
          1953,
          1954,
          1955,
          1956,
          1957,
          1958,
          1959,
          1960,
          1961,
          1962,
          1963,
          1964,
          1965,
          1966,
          1967,
          1968,
          1969,
          1970,
          1971,
          1972,
          1973,
          1974,
          1975,
          1976,
          1977,
          1978,
          1979,
          1980,
          1981,
          1982,
          1983,
          1984,
          1985,
          1986,
          1987,
          1988,
          1989,
          1990,
          1991,
          1992,
          1993,
          1994,
          1995,
          1996,
          1997,
          1998,
          1999,
          2000,
          2001,
          2002,
          2003,
          2004,
          2005,
          2006,
          2007,
          2008,
          2009,
          2010,
          2011,
          2012,
          2013,
          2014,
          2015
         ],
         "y": [
          0.8178299422245577,
          0.7773922068907236,
          1.8414395344033316,
          1.4224612099458829,
          1.3493650723018338,
          0.7901392278731111,
          1.117381161470864,
          1.5542976300321225,
          1.300600763754382,
          1.21898241036535,
          1.0897322518433272,
          0.6584092299006316,
          1.356490514518743,
          1.1984470467195387,
          1.4356851865235893,
          1.7978968393629065,
          1.2731492204388715,
          1.5722008791533644,
          0.2163811026840396,
          0.983446866216162,
          1.4679885998055082,
          1.4699988842217795,
          0.9270354134347338,
          0.5578738962316218,
          -0.1158574696137123,
          0.7885123660084198,
          0.4016558343218455,
          0.26478085628305764,
          -0.014140856616124237,
          -0.38047255669968305,
          0.013747971723989021,
          0.13789605659493331,
          -0.04928959505531014,
          -0.6226803785122488,
          1.1689386875561425,
          0.34921379744776093,
          -0.05675457006864819,
          -0.5495909254101905,
          -0.8690503023318813,
          -0.7347561936826654,
          -0.5841924666404188,
          -0.8560307543914922,
          -0.6093166834159861,
          -0.43415052907629387,
          -0.4050292048903662,
          -0.09304015969186458,
          -0.9068682303713732,
          -1.0545233779459395,
          -1.0812820226479753,
          -1.0097944089861046,
          -0.6248701409609518,
          -1.298000458061694,
          -1.4500702004993322,
          -1.2486392071519525,
          -1.1025715915203222,
          -1.1079885247803787,
          -1.093476842962425,
          -1.2527106884874188,
          -0.9054046019497809,
          -0.22481738590947492,
          -0.938437021976522,
          -1.1850393221179005,
          -1.3378864723577115,
          -1.5041727019616873,
          -1.3792969580177128,
          -1.3068689192049456,
          -1.5126902876319228,
          -0.9232848084995271,
          -0.6962360909652219,
          -0.8758659192594687,
          -0.7576139287072727,
          -0.7903612059925503,
          -0.5474835374888967,
          -0.2456724208233988,
          -0.301570482907648,
          -0.7328350992074678,
          -0.8002576463971026,
          -0.7483622063199975,
          -0.4170237356330605,
          -0.027550588321907273,
          0.016777930459893318,
          1.0107368568386927,
          0.9637397441947557,
          1.633729978604,
          1.9044031982198457,
          0.9151213135536107
         ]
        },
        {
         "line": {
          "color": "rgb(148, 52, 110)",
          "width": 2
         },
         "mode": "lines+markers",
         "name": "News Frequency (Shifted by -15 years)",
         "type": "scatter",
         "visible": false,
         "x": [
          1930,
          1931,
          1932,
          1933,
          1934,
          1935,
          1936,
          1937,
          1938,
          1939,
          1940,
          1941,
          1942,
          1943,
          1944,
          1945,
          1946,
          1947,
          1948,
          1949,
          1950,
          1951,
          1952,
          1953,
          1954,
          1955,
          1956,
          1957,
          1958,
          1959,
          1960,
          1961,
          1962,
          1963,
          1964,
          1965,
          1966,
          1967,
          1968,
          1969,
          1970,
          1971,
          1972,
          1973,
          1974,
          1975,
          1976,
          1977,
          1978,
          1979,
          1980,
          1981,
          1982,
          1983,
          1984,
          1985,
          1986,
          1987,
          1988,
          1989,
          1990,
          1991,
          1992,
          1993,
          1994,
          1995,
          1996,
          1997,
          1998,
          1999,
          2000,
          2001,
          2002,
          2003,
          2004,
          2005,
          2006,
          2007,
          2008,
          2009,
          2010,
          2011,
          2012,
          2013,
          2014,
          2015
         ],
         "y": [
          0.9151213135536107,
          0.8178299422245577,
          0.7773922068907236,
          1.8414395344033316,
          1.4224612099458829,
          1.3493650723018338,
          0.7901392278731111,
          1.117381161470864,
          1.5542976300321225,
          1.300600763754382,
          1.21898241036535,
          1.0897322518433272,
          0.6584092299006316,
          1.356490514518743,
          1.1984470467195387,
          1.4356851865235893,
          1.7978968393629065,
          1.2731492204388715,
          1.5722008791533644,
          0.2163811026840396,
          0.983446866216162,
          1.4679885998055082,
          1.4699988842217795,
          0.9270354134347338,
          0.5578738962316218,
          -0.1158574696137123,
          0.7885123660084198,
          0.4016558343218455,
          0.26478085628305764,
          -0.014140856616124237,
          -0.38047255669968305,
          0.013747971723989021,
          0.13789605659493331,
          -0.04928959505531014,
          -0.6226803785122488,
          1.1689386875561425,
          0.34921379744776093,
          -0.05675457006864819,
          -0.5495909254101905,
          -0.8690503023318813,
          -0.7347561936826654,
          -0.5841924666404188,
          -0.8560307543914922,
          -0.6093166834159861,
          -0.43415052907629387,
          -0.4050292048903662,
          -0.09304015969186458,
          -0.9068682303713732,
          -1.0545233779459395,
          -1.0812820226479753,
          -1.0097944089861046,
          -0.6248701409609518,
          -1.298000458061694,
          -1.4500702004993322,
          -1.2486392071519525,
          -1.1025715915203222,
          -1.1079885247803787,
          -1.093476842962425,
          -1.2527106884874188,
          -0.9054046019497809,
          -0.22481738590947492,
          -0.938437021976522,
          -1.1850393221179005,
          -1.3378864723577115,
          -1.5041727019616873,
          -1.3792969580177128,
          -1.3068689192049456,
          -1.5126902876319228,
          -0.9232848084995271,
          -0.6962360909652219,
          -0.8758659192594687,
          -0.7576139287072727,
          -0.7903612059925503,
          -0.5474835374888967,
          -0.2456724208233988,
          -0.301570482907648,
          -0.7328350992074678,
          -0.8002576463971026,
          -0.7483622063199975,
          -0.4170237356330605,
          -0.027550588321907273,
          0.016777930459893318,
          1.0107368568386927,
          0.9637397441947557,
          1.633729978604,
          1.9044031982198457
         ]
        },
        {
         "line": {
          "color": "rgb(148, 52, 110)",
          "width": 2
         },
         "mode": "lines+markers",
         "name": "News Frequency (Shifted by -14 years)",
         "type": "scatter",
         "visible": false,
         "x": [
          1930,
          1931,
          1932,
          1933,
          1934,
          1935,
          1936,
          1937,
          1938,
          1939,
          1940,
          1941,
          1942,
          1943,
          1944,
          1945,
          1946,
          1947,
          1948,
          1949,
          1950,
          1951,
          1952,
          1953,
          1954,
          1955,
          1956,
          1957,
          1958,
          1959,
          1960,
          1961,
          1962,
          1963,
          1964,
          1965,
          1966,
          1967,
          1968,
          1969,
          1970,
          1971,
          1972,
          1973,
          1974,
          1975,
          1976,
          1977,
          1978,
          1979,
          1980,
          1981,
          1982,
          1983,
          1984,
          1985,
          1986,
          1987,
          1988,
          1989,
          1990,
          1991,
          1992,
          1993,
          1994,
          1995,
          1996,
          1997,
          1998,
          1999,
          2000,
          2001,
          2002,
          2003,
          2004,
          2005,
          2006,
          2007,
          2008,
          2009,
          2010,
          2011,
          2012,
          2013,
          2014,
          2015
         ],
         "y": [
          1.9044031982198457,
          0.9151213135536107,
          0.8178299422245577,
          0.7773922068907236,
          1.8414395344033316,
          1.4224612099458829,
          1.3493650723018338,
          0.7901392278731111,
          1.117381161470864,
          1.5542976300321225,
          1.300600763754382,
          1.21898241036535,
          1.0897322518433272,
          0.6584092299006316,
          1.356490514518743,
          1.1984470467195387,
          1.4356851865235893,
          1.7978968393629065,
          1.2731492204388715,
          1.5722008791533644,
          0.2163811026840396,
          0.983446866216162,
          1.4679885998055082,
          1.4699988842217795,
          0.9270354134347338,
          0.5578738962316218,
          -0.1158574696137123,
          0.7885123660084198,
          0.4016558343218455,
          0.26478085628305764,
          -0.014140856616124237,
          -0.38047255669968305,
          0.013747971723989021,
          0.13789605659493331,
          -0.04928959505531014,
          -0.6226803785122488,
          1.1689386875561425,
          0.34921379744776093,
          -0.05675457006864819,
          -0.5495909254101905,
          -0.8690503023318813,
          -0.7347561936826654,
          -0.5841924666404188,
          -0.8560307543914922,
          -0.6093166834159861,
          -0.43415052907629387,
          -0.4050292048903662,
          -0.09304015969186458,
          -0.9068682303713732,
          -1.0545233779459395,
          -1.0812820226479753,
          -1.0097944089861046,
          -0.6248701409609518,
          -1.298000458061694,
          -1.4500702004993322,
          -1.2486392071519525,
          -1.1025715915203222,
          -1.1079885247803787,
          -1.093476842962425,
          -1.2527106884874188,
          -0.9054046019497809,
          -0.22481738590947492,
          -0.938437021976522,
          -1.1850393221179005,
          -1.3378864723577115,
          -1.5041727019616873,
          -1.3792969580177128,
          -1.3068689192049456,
          -1.5126902876319228,
          -0.9232848084995271,
          -0.6962360909652219,
          -0.8758659192594687,
          -0.7576139287072727,
          -0.7903612059925503,
          -0.5474835374888967,
          -0.2456724208233988,
          -0.301570482907648,
          -0.7328350992074678,
          -0.8002576463971026,
          -0.7483622063199975,
          -0.4170237356330605,
          -0.027550588321907273,
          0.016777930459893318,
          1.0107368568386927,
          0.9637397441947557,
          1.633729978604
         ]
        },
        {
         "line": {
          "color": "rgb(148, 52, 110)",
          "width": 2
         },
         "mode": "lines+markers",
         "name": "News Frequency (Shifted by -13 years)",
         "type": "scatter",
         "visible": false,
         "x": [
          1930,
          1931,
          1932,
          1933,
          1934,
          1935,
          1936,
          1937,
          1938,
          1939,
          1940,
          1941,
          1942,
          1943,
          1944,
          1945,
          1946,
          1947,
          1948,
          1949,
          1950,
          1951,
          1952,
          1953,
          1954,
          1955,
          1956,
          1957,
          1958,
          1959,
          1960,
          1961,
          1962,
          1963,
          1964,
          1965,
          1966,
          1967,
          1968,
          1969,
          1970,
          1971,
          1972,
          1973,
          1974,
          1975,
          1976,
          1977,
          1978,
          1979,
          1980,
          1981,
          1982,
          1983,
          1984,
          1985,
          1986,
          1987,
          1988,
          1989,
          1990,
          1991,
          1992,
          1993,
          1994,
          1995,
          1996,
          1997,
          1998,
          1999,
          2000,
          2001,
          2002,
          2003,
          2004,
          2005,
          2006,
          2007,
          2008,
          2009,
          2010,
          2011,
          2012,
          2013,
          2014,
          2015
         ],
         "y": [
          1.633729978604,
          1.9044031982198457,
          0.9151213135536107,
          0.8178299422245577,
          0.7773922068907236,
          1.8414395344033316,
          1.4224612099458829,
          1.3493650723018338,
          0.7901392278731111,
          1.117381161470864,
          1.5542976300321225,
          1.300600763754382,
          1.21898241036535,
          1.0897322518433272,
          0.6584092299006316,
          1.356490514518743,
          1.1984470467195387,
          1.4356851865235893,
          1.7978968393629065,
          1.2731492204388715,
          1.5722008791533644,
          0.2163811026840396,
          0.983446866216162,
          1.4679885998055082,
          1.4699988842217795,
          0.9270354134347338,
          0.5578738962316218,
          -0.1158574696137123,
          0.7885123660084198,
          0.4016558343218455,
          0.26478085628305764,
          -0.014140856616124237,
          -0.38047255669968305,
          0.013747971723989021,
          0.13789605659493331,
          -0.04928959505531014,
          -0.6226803785122488,
          1.1689386875561425,
          0.34921379744776093,
          -0.05675457006864819,
          -0.5495909254101905,
          -0.8690503023318813,
          -0.7347561936826654,
          -0.5841924666404188,
          -0.8560307543914922,
          -0.6093166834159861,
          -0.43415052907629387,
          -0.4050292048903662,
          -0.09304015969186458,
          -0.9068682303713732,
          -1.0545233779459395,
          -1.0812820226479753,
          -1.0097944089861046,
          -0.6248701409609518,
          -1.298000458061694,
          -1.4500702004993322,
          -1.2486392071519525,
          -1.1025715915203222,
          -1.1079885247803787,
          -1.093476842962425,
          -1.2527106884874188,
          -0.9054046019497809,
          -0.22481738590947492,
          -0.938437021976522,
          -1.1850393221179005,
          -1.3378864723577115,
          -1.5041727019616873,
          -1.3792969580177128,
          -1.3068689192049456,
          -1.5126902876319228,
          -0.9232848084995271,
          -0.6962360909652219,
          -0.8758659192594687,
          -0.7576139287072727,
          -0.7903612059925503,
          -0.5474835374888967,
          -0.2456724208233988,
          -0.301570482907648,
          -0.7328350992074678,
          -0.8002576463971026,
          -0.7483622063199975,
          -0.4170237356330605,
          -0.027550588321907273,
          0.016777930459893318,
          1.0107368568386927,
          0.9637397441947557
         ]
        },
        {
         "line": {
          "color": "rgb(148, 52, 110)",
          "width": 2
         },
         "mode": "lines+markers",
         "name": "News Frequency (Shifted by -12 years)",
         "type": "scatter",
         "visible": false,
         "x": [
          1930,
          1931,
          1932,
          1933,
          1934,
          1935,
          1936,
          1937,
          1938,
          1939,
          1940,
          1941,
          1942,
          1943,
          1944,
          1945,
          1946,
          1947,
          1948,
          1949,
          1950,
          1951,
          1952,
          1953,
          1954,
          1955,
          1956,
          1957,
          1958,
          1959,
          1960,
          1961,
          1962,
          1963,
          1964,
          1965,
          1966,
          1967,
          1968,
          1969,
          1970,
          1971,
          1972,
          1973,
          1974,
          1975,
          1976,
          1977,
          1978,
          1979,
          1980,
          1981,
          1982,
          1983,
          1984,
          1985,
          1986,
          1987,
          1988,
          1989,
          1990,
          1991,
          1992,
          1993,
          1994,
          1995,
          1996,
          1997,
          1998,
          1999,
          2000,
          2001,
          2002,
          2003,
          2004,
          2005,
          2006,
          2007,
          2008,
          2009,
          2010,
          2011,
          2012,
          2013,
          2014,
          2015
         ],
         "y": [
          0.9637397441947557,
          1.633729978604,
          1.9044031982198457,
          0.9151213135536107,
          0.8178299422245577,
          0.7773922068907236,
          1.8414395344033316,
          1.4224612099458829,
          1.3493650723018338,
          0.7901392278731111,
          1.117381161470864,
          1.5542976300321225,
          1.300600763754382,
          1.21898241036535,
          1.0897322518433272,
          0.6584092299006316,
          1.356490514518743,
          1.1984470467195387,
          1.4356851865235893,
          1.7978968393629065,
          1.2731492204388715,
          1.5722008791533644,
          0.2163811026840396,
          0.983446866216162,
          1.4679885998055082,
          1.4699988842217795,
          0.9270354134347338,
          0.5578738962316218,
          -0.1158574696137123,
          0.7885123660084198,
          0.4016558343218455,
          0.26478085628305764,
          -0.014140856616124237,
          -0.38047255669968305,
          0.013747971723989021,
          0.13789605659493331,
          -0.04928959505531014,
          -0.6226803785122488,
          1.1689386875561425,
          0.34921379744776093,
          -0.05675457006864819,
          -0.5495909254101905,
          -0.8690503023318813,
          -0.7347561936826654,
          -0.5841924666404188,
          -0.8560307543914922,
          -0.6093166834159861,
          -0.43415052907629387,
          -0.4050292048903662,
          -0.09304015969186458,
          -0.9068682303713732,
          -1.0545233779459395,
          -1.0812820226479753,
          -1.0097944089861046,
          -0.6248701409609518,
          -1.298000458061694,
          -1.4500702004993322,
          -1.2486392071519525,
          -1.1025715915203222,
          -1.1079885247803787,
          -1.093476842962425,
          -1.2527106884874188,
          -0.9054046019497809,
          -0.22481738590947492,
          -0.938437021976522,
          -1.1850393221179005,
          -1.3378864723577115,
          -1.5041727019616873,
          -1.3792969580177128,
          -1.3068689192049456,
          -1.5126902876319228,
          -0.9232848084995271,
          -0.6962360909652219,
          -0.8758659192594687,
          -0.7576139287072727,
          -0.7903612059925503,
          -0.5474835374888967,
          -0.2456724208233988,
          -0.301570482907648,
          -0.7328350992074678,
          -0.8002576463971026,
          -0.7483622063199975,
          -0.4170237356330605,
          -0.027550588321907273,
          0.016777930459893318,
          1.0107368568386927
         ]
        },
        {
         "line": {
          "color": "rgb(148, 52, 110)",
          "width": 2
         },
         "mode": "lines+markers",
         "name": "News Frequency (Shifted by -11 years)",
         "type": "scatter",
         "visible": false,
         "x": [
          1930,
          1931,
          1932,
          1933,
          1934,
          1935,
          1936,
          1937,
          1938,
          1939,
          1940,
          1941,
          1942,
          1943,
          1944,
          1945,
          1946,
          1947,
          1948,
          1949,
          1950,
          1951,
          1952,
          1953,
          1954,
          1955,
          1956,
          1957,
          1958,
          1959,
          1960,
          1961,
          1962,
          1963,
          1964,
          1965,
          1966,
          1967,
          1968,
          1969,
          1970,
          1971,
          1972,
          1973,
          1974,
          1975,
          1976,
          1977,
          1978,
          1979,
          1980,
          1981,
          1982,
          1983,
          1984,
          1985,
          1986,
          1987,
          1988,
          1989,
          1990,
          1991,
          1992,
          1993,
          1994,
          1995,
          1996,
          1997,
          1998,
          1999,
          2000,
          2001,
          2002,
          2003,
          2004,
          2005,
          2006,
          2007,
          2008,
          2009,
          2010,
          2011,
          2012,
          2013,
          2014,
          2015
         ],
         "y": [
          1.0107368568386927,
          0.9637397441947557,
          1.633729978604,
          1.9044031982198457,
          0.9151213135536107,
          0.8178299422245577,
          0.7773922068907236,
          1.8414395344033316,
          1.4224612099458829,
          1.3493650723018338,
          0.7901392278731111,
          1.117381161470864,
          1.5542976300321225,
          1.300600763754382,
          1.21898241036535,
          1.0897322518433272,
          0.6584092299006316,
          1.356490514518743,
          1.1984470467195387,
          1.4356851865235893,
          1.7978968393629065,
          1.2731492204388715,
          1.5722008791533644,
          0.2163811026840396,
          0.983446866216162,
          1.4679885998055082,
          1.4699988842217795,
          0.9270354134347338,
          0.5578738962316218,
          -0.1158574696137123,
          0.7885123660084198,
          0.4016558343218455,
          0.26478085628305764,
          -0.014140856616124237,
          -0.38047255669968305,
          0.013747971723989021,
          0.13789605659493331,
          -0.04928959505531014,
          -0.6226803785122488,
          1.1689386875561425,
          0.34921379744776093,
          -0.05675457006864819,
          -0.5495909254101905,
          -0.8690503023318813,
          -0.7347561936826654,
          -0.5841924666404188,
          -0.8560307543914922,
          -0.6093166834159861,
          -0.43415052907629387,
          -0.4050292048903662,
          -0.09304015969186458,
          -0.9068682303713732,
          -1.0545233779459395,
          -1.0812820226479753,
          -1.0097944089861046,
          -0.6248701409609518,
          -1.298000458061694,
          -1.4500702004993322,
          -1.2486392071519525,
          -1.1025715915203222,
          -1.1079885247803787,
          -1.093476842962425,
          -1.2527106884874188,
          -0.9054046019497809,
          -0.22481738590947492,
          -0.938437021976522,
          -1.1850393221179005,
          -1.3378864723577115,
          -1.5041727019616873,
          -1.3792969580177128,
          -1.3068689192049456,
          -1.5126902876319228,
          -0.9232848084995271,
          -0.6962360909652219,
          -0.8758659192594687,
          -0.7576139287072727,
          -0.7903612059925503,
          -0.5474835374888967,
          -0.2456724208233988,
          -0.301570482907648,
          -0.7328350992074678,
          -0.8002576463971026,
          -0.7483622063199975,
          -0.4170237356330605,
          -0.027550588321907273,
          0.016777930459893318
         ]
        },
        {
         "line": {
          "color": "rgb(148, 52, 110)",
          "width": 2
         },
         "mode": "lines+markers",
         "name": "News Frequency (Shifted by -10 years)",
         "type": "scatter",
         "visible": false,
         "x": [
          1930,
          1931,
          1932,
          1933,
          1934,
          1935,
          1936,
          1937,
          1938,
          1939,
          1940,
          1941,
          1942,
          1943,
          1944,
          1945,
          1946,
          1947,
          1948,
          1949,
          1950,
          1951,
          1952,
          1953,
          1954,
          1955,
          1956,
          1957,
          1958,
          1959,
          1960,
          1961,
          1962,
          1963,
          1964,
          1965,
          1966,
          1967,
          1968,
          1969,
          1970,
          1971,
          1972,
          1973,
          1974,
          1975,
          1976,
          1977,
          1978,
          1979,
          1980,
          1981,
          1982,
          1983,
          1984,
          1985,
          1986,
          1987,
          1988,
          1989,
          1990,
          1991,
          1992,
          1993,
          1994,
          1995,
          1996,
          1997,
          1998,
          1999,
          2000,
          2001,
          2002,
          2003,
          2004,
          2005,
          2006,
          2007,
          2008,
          2009,
          2010,
          2011,
          2012,
          2013,
          2014,
          2015
         ],
         "y": [
          0.016777930459893318,
          1.0107368568386927,
          0.9637397441947557,
          1.633729978604,
          1.9044031982198457,
          0.9151213135536107,
          0.8178299422245577,
          0.7773922068907236,
          1.8414395344033316,
          1.4224612099458829,
          1.3493650723018338,
          0.7901392278731111,
          1.117381161470864,
          1.5542976300321225,
          1.300600763754382,
          1.21898241036535,
          1.0897322518433272,
          0.6584092299006316,
          1.356490514518743,
          1.1984470467195387,
          1.4356851865235893,
          1.7978968393629065,
          1.2731492204388715,
          1.5722008791533644,
          0.2163811026840396,
          0.983446866216162,
          1.4679885998055082,
          1.4699988842217795,
          0.9270354134347338,
          0.5578738962316218,
          -0.1158574696137123,
          0.7885123660084198,
          0.4016558343218455,
          0.26478085628305764,
          -0.014140856616124237,
          -0.38047255669968305,
          0.013747971723989021,
          0.13789605659493331,
          -0.04928959505531014,
          -0.6226803785122488,
          1.1689386875561425,
          0.34921379744776093,
          -0.05675457006864819,
          -0.5495909254101905,
          -0.8690503023318813,
          -0.7347561936826654,
          -0.5841924666404188,
          -0.8560307543914922,
          -0.6093166834159861,
          -0.43415052907629387,
          -0.4050292048903662,
          -0.09304015969186458,
          -0.9068682303713732,
          -1.0545233779459395,
          -1.0812820226479753,
          -1.0097944089861046,
          -0.6248701409609518,
          -1.298000458061694,
          -1.4500702004993322,
          -1.2486392071519525,
          -1.1025715915203222,
          -1.1079885247803787,
          -1.093476842962425,
          -1.2527106884874188,
          -0.9054046019497809,
          -0.22481738590947492,
          -0.938437021976522,
          -1.1850393221179005,
          -1.3378864723577115,
          -1.5041727019616873,
          -1.3792969580177128,
          -1.3068689192049456,
          -1.5126902876319228,
          -0.9232848084995271,
          -0.6962360909652219,
          -0.8758659192594687,
          -0.7576139287072727,
          -0.7903612059925503,
          -0.5474835374888967,
          -0.2456724208233988,
          -0.301570482907648,
          -0.7328350992074678,
          -0.8002576463971026,
          -0.7483622063199975,
          -0.4170237356330605,
          -0.027550588321907273
         ]
        },
        {
         "line": {
          "color": "rgb(148, 52, 110)",
          "width": 2
         },
         "mode": "lines+markers",
         "name": "News Frequency (Shifted by -9 years)",
         "type": "scatter",
         "visible": false,
         "x": [
          1930,
          1931,
          1932,
          1933,
          1934,
          1935,
          1936,
          1937,
          1938,
          1939,
          1940,
          1941,
          1942,
          1943,
          1944,
          1945,
          1946,
          1947,
          1948,
          1949,
          1950,
          1951,
          1952,
          1953,
          1954,
          1955,
          1956,
          1957,
          1958,
          1959,
          1960,
          1961,
          1962,
          1963,
          1964,
          1965,
          1966,
          1967,
          1968,
          1969,
          1970,
          1971,
          1972,
          1973,
          1974,
          1975,
          1976,
          1977,
          1978,
          1979,
          1980,
          1981,
          1982,
          1983,
          1984,
          1985,
          1986,
          1987,
          1988,
          1989,
          1990,
          1991,
          1992,
          1993,
          1994,
          1995,
          1996,
          1997,
          1998,
          1999,
          2000,
          2001,
          2002,
          2003,
          2004,
          2005,
          2006,
          2007,
          2008,
          2009,
          2010,
          2011,
          2012,
          2013,
          2014,
          2015
         ],
         "y": [
          -0.027550588321907273,
          0.016777930459893318,
          1.0107368568386927,
          0.9637397441947557,
          1.633729978604,
          1.9044031982198457,
          0.9151213135536107,
          0.8178299422245577,
          0.7773922068907236,
          1.8414395344033316,
          1.4224612099458829,
          1.3493650723018338,
          0.7901392278731111,
          1.117381161470864,
          1.5542976300321225,
          1.300600763754382,
          1.21898241036535,
          1.0897322518433272,
          0.6584092299006316,
          1.356490514518743,
          1.1984470467195387,
          1.4356851865235893,
          1.7978968393629065,
          1.2731492204388715,
          1.5722008791533644,
          0.2163811026840396,
          0.983446866216162,
          1.4679885998055082,
          1.4699988842217795,
          0.9270354134347338,
          0.5578738962316218,
          -0.1158574696137123,
          0.7885123660084198,
          0.4016558343218455,
          0.26478085628305764,
          -0.014140856616124237,
          -0.38047255669968305,
          0.013747971723989021,
          0.13789605659493331,
          -0.04928959505531014,
          -0.6226803785122488,
          1.1689386875561425,
          0.34921379744776093,
          -0.05675457006864819,
          -0.5495909254101905,
          -0.8690503023318813,
          -0.7347561936826654,
          -0.5841924666404188,
          -0.8560307543914922,
          -0.6093166834159861,
          -0.43415052907629387,
          -0.4050292048903662,
          -0.09304015969186458,
          -0.9068682303713732,
          -1.0545233779459395,
          -1.0812820226479753,
          -1.0097944089861046,
          -0.6248701409609518,
          -1.298000458061694,
          -1.4500702004993322,
          -1.2486392071519525,
          -1.1025715915203222,
          -1.1079885247803787,
          -1.093476842962425,
          -1.2527106884874188,
          -0.9054046019497809,
          -0.22481738590947492,
          -0.938437021976522,
          -1.1850393221179005,
          -1.3378864723577115,
          -1.5041727019616873,
          -1.3792969580177128,
          -1.3068689192049456,
          -1.5126902876319228,
          -0.9232848084995271,
          -0.6962360909652219,
          -0.8758659192594687,
          -0.7576139287072727,
          -0.7903612059925503,
          -0.5474835374888967,
          -0.2456724208233988,
          -0.301570482907648,
          -0.7328350992074678,
          -0.8002576463971026,
          -0.7483622063199975,
          -0.4170237356330605
         ]
        },
        {
         "line": {
          "color": "rgb(148, 52, 110)",
          "width": 2
         },
         "mode": "lines+markers",
         "name": "News Frequency (Shifted by -8 years)",
         "type": "scatter",
         "visible": false,
         "x": [
          1930,
          1931,
          1932,
          1933,
          1934,
          1935,
          1936,
          1937,
          1938,
          1939,
          1940,
          1941,
          1942,
          1943,
          1944,
          1945,
          1946,
          1947,
          1948,
          1949,
          1950,
          1951,
          1952,
          1953,
          1954,
          1955,
          1956,
          1957,
          1958,
          1959,
          1960,
          1961,
          1962,
          1963,
          1964,
          1965,
          1966,
          1967,
          1968,
          1969,
          1970,
          1971,
          1972,
          1973,
          1974,
          1975,
          1976,
          1977,
          1978,
          1979,
          1980,
          1981,
          1982,
          1983,
          1984,
          1985,
          1986,
          1987,
          1988,
          1989,
          1990,
          1991,
          1992,
          1993,
          1994,
          1995,
          1996,
          1997,
          1998,
          1999,
          2000,
          2001,
          2002,
          2003,
          2004,
          2005,
          2006,
          2007,
          2008,
          2009,
          2010,
          2011,
          2012,
          2013,
          2014,
          2015
         ],
         "y": [
          -0.4170237356330605,
          -0.027550588321907273,
          0.016777930459893318,
          1.0107368568386927,
          0.9637397441947557,
          1.633729978604,
          1.9044031982198457,
          0.9151213135536107,
          0.8178299422245577,
          0.7773922068907236,
          1.8414395344033316,
          1.4224612099458829,
          1.3493650723018338,
          0.7901392278731111,
          1.117381161470864,
          1.5542976300321225,
          1.300600763754382,
          1.21898241036535,
          1.0897322518433272,
          0.6584092299006316,
          1.356490514518743,
          1.1984470467195387,
          1.4356851865235893,
          1.7978968393629065,
          1.2731492204388715,
          1.5722008791533644,
          0.2163811026840396,
          0.983446866216162,
          1.4679885998055082,
          1.4699988842217795,
          0.9270354134347338,
          0.5578738962316218,
          -0.1158574696137123,
          0.7885123660084198,
          0.4016558343218455,
          0.26478085628305764,
          -0.014140856616124237,
          -0.38047255669968305,
          0.013747971723989021,
          0.13789605659493331,
          -0.04928959505531014,
          -0.6226803785122488,
          1.1689386875561425,
          0.34921379744776093,
          -0.05675457006864819,
          -0.5495909254101905,
          -0.8690503023318813,
          -0.7347561936826654,
          -0.5841924666404188,
          -0.8560307543914922,
          -0.6093166834159861,
          -0.43415052907629387,
          -0.4050292048903662,
          -0.09304015969186458,
          -0.9068682303713732,
          -1.0545233779459395,
          -1.0812820226479753,
          -1.0097944089861046,
          -0.6248701409609518,
          -1.298000458061694,
          -1.4500702004993322,
          -1.2486392071519525,
          -1.1025715915203222,
          -1.1079885247803787,
          -1.093476842962425,
          -1.2527106884874188,
          -0.9054046019497809,
          -0.22481738590947492,
          -0.938437021976522,
          -1.1850393221179005,
          -1.3378864723577115,
          -1.5041727019616873,
          -1.3792969580177128,
          -1.3068689192049456,
          -1.5126902876319228,
          -0.9232848084995271,
          -0.6962360909652219,
          -0.8758659192594687,
          -0.7576139287072727,
          -0.7903612059925503,
          -0.5474835374888967,
          -0.2456724208233988,
          -0.301570482907648,
          -0.7328350992074678,
          -0.8002576463971026,
          -0.7483622063199975
         ]
        },
        {
         "line": {
          "color": "rgb(148, 52, 110)",
          "width": 2
         },
         "mode": "lines+markers",
         "name": "News Frequency (Shifted by -7 years)",
         "type": "scatter",
         "visible": false,
         "x": [
          1930,
          1931,
          1932,
          1933,
          1934,
          1935,
          1936,
          1937,
          1938,
          1939,
          1940,
          1941,
          1942,
          1943,
          1944,
          1945,
          1946,
          1947,
          1948,
          1949,
          1950,
          1951,
          1952,
          1953,
          1954,
          1955,
          1956,
          1957,
          1958,
          1959,
          1960,
          1961,
          1962,
          1963,
          1964,
          1965,
          1966,
          1967,
          1968,
          1969,
          1970,
          1971,
          1972,
          1973,
          1974,
          1975,
          1976,
          1977,
          1978,
          1979,
          1980,
          1981,
          1982,
          1983,
          1984,
          1985,
          1986,
          1987,
          1988,
          1989,
          1990,
          1991,
          1992,
          1993,
          1994,
          1995,
          1996,
          1997,
          1998,
          1999,
          2000,
          2001,
          2002,
          2003,
          2004,
          2005,
          2006,
          2007,
          2008,
          2009,
          2010,
          2011,
          2012,
          2013,
          2014,
          2015
         ],
         "y": [
          -0.7483622063199975,
          -0.4170237356330605,
          -0.027550588321907273,
          0.016777930459893318,
          1.0107368568386927,
          0.9637397441947557,
          1.633729978604,
          1.9044031982198457,
          0.9151213135536107,
          0.8178299422245577,
          0.7773922068907236,
          1.8414395344033316,
          1.4224612099458829,
          1.3493650723018338,
          0.7901392278731111,
          1.117381161470864,
          1.5542976300321225,
          1.300600763754382,
          1.21898241036535,
          1.0897322518433272,
          0.6584092299006316,
          1.356490514518743,
          1.1984470467195387,
          1.4356851865235893,
          1.7978968393629065,
          1.2731492204388715,
          1.5722008791533644,
          0.2163811026840396,
          0.983446866216162,
          1.4679885998055082,
          1.4699988842217795,
          0.9270354134347338,
          0.5578738962316218,
          -0.1158574696137123,
          0.7885123660084198,
          0.4016558343218455,
          0.26478085628305764,
          -0.014140856616124237,
          -0.38047255669968305,
          0.013747971723989021,
          0.13789605659493331,
          -0.04928959505531014,
          -0.6226803785122488,
          1.1689386875561425,
          0.34921379744776093,
          -0.05675457006864819,
          -0.5495909254101905,
          -0.8690503023318813,
          -0.7347561936826654,
          -0.5841924666404188,
          -0.8560307543914922,
          -0.6093166834159861,
          -0.43415052907629387,
          -0.4050292048903662,
          -0.09304015969186458,
          -0.9068682303713732,
          -1.0545233779459395,
          -1.0812820226479753,
          -1.0097944089861046,
          -0.6248701409609518,
          -1.298000458061694,
          -1.4500702004993322,
          -1.2486392071519525,
          -1.1025715915203222,
          -1.1079885247803787,
          -1.093476842962425,
          -1.2527106884874188,
          -0.9054046019497809,
          -0.22481738590947492,
          -0.938437021976522,
          -1.1850393221179005,
          -1.3378864723577115,
          -1.5041727019616873,
          -1.3792969580177128,
          -1.3068689192049456,
          -1.5126902876319228,
          -0.9232848084995271,
          -0.6962360909652219,
          -0.8758659192594687,
          -0.7576139287072727,
          -0.7903612059925503,
          -0.5474835374888967,
          -0.2456724208233988,
          -0.301570482907648,
          -0.7328350992074678,
          -0.8002576463971026
         ]
        },
        {
         "line": {
          "color": "rgb(148, 52, 110)",
          "width": 2
         },
         "mode": "lines+markers",
         "name": "News Frequency (Shifted by -6 years)",
         "type": "scatter",
         "visible": false,
         "x": [
          1930,
          1931,
          1932,
          1933,
          1934,
          1935,
          1936,
          1937,
          1938,
          1939,
          1940,
          1941,
          1942,
          1943,
          1944,
          1945,
          1946,
          1947,
          1948,
          1949,
          1950,
          1951,
          1952,
          1953,
          1954,
          1955,
          1956,
          1957,
          1958,
          1959,
          1960,
          1961,
          1962,
          1963,
          1964,
          1965,
          1966,
          1967,
          1968,
          1969,
          1970,
          1971,
          1972,
          1973,
          1974,
          1975,
          1976,
          1977,
          1978,
          1979,
          1980,
          1981,
          1982,
          1983,
          1984,
          1985,
          1986,
          1987,
          1988,
          1989,
          1990,
          1991,
          1992,
          1993,
          1994,
          1995,
          1996,
          1997,
          1998,
          1999,
          2000,
          2001,
          2002,
          2003,
          2004,
          2005,
          2006,
          2007,
          2008,
          2009,
          2010,
          2011,
          2012,
          2013,
          2014,
          2015
         ],
         "y": [
          -0.8002576463971026,
          -0.7483622063199975,
          -0.4170237356330605,
          -0.027550588321907273,
          0.016777930459893318,
          1.0107368568386927,
          0.9637397441947557,
          1.633729978604,
          1.9044031982198457,
          0.9151213135536107,
          0.8178299422245577,
          0.7773922068907236,
          1.8414395344033316,
          1.4224612099458829,
          1.3493650723018338,
          0.7901392278731111,
          1.117381161470864,
          1.5542976300321225,
          1.300600763754382,
          1.21898241036535,
          1.0897322518433272,
          0.6584092299006316,
          1.356490514518743,
          1.1984470467195387,
          1.4356851865235893,
          1.7978968393629065,
          1.2731492204388715,
          1.5722008791533644,
          0.2163811026840396,
          0.983446866216162,
          1.4679885998055082,
          1.4699988842217795,
          0.9270354134347338,
          0.5578738962316218,
          -0.1158574696137123,
          0.7885123660084198,
          0.4016558343218455,
          0.26478085628305764,
          -0.014140856616124237,
          -0.38047255669968305,
          0.013747971723989021,
          0.13789605659493331,
          -0.04928959505531014,
          -0.6226803785122488,
          1.1689386875561425,
          0.34921379744776093,
          -0.05675457006864819,
          -0.5495909254101905,
          -0.8690503023318813,
          -0.7347561936826654,
          -0.5841924666404188,
          -0.8560307543914922,
          -0.6093166834159861,
          -0.43415052907629387,
          -0.4050292048903662,
          -0.09304015969186458,
          -0.9068682303713732,
          -1.0545233779459395,
          -1.0812820226479753,
          -1.0097944089861046,
          -0.6248701409609518,
          -1.298000458061694,
          -1.4500702004993322,
          -1.2486392071519525,
          -1.1025715915203222,
          -1.1079885247803787,
          -1.093476842962425,
          -1.2527106884874188,
          -0.9054046019497809,
          -0.22481738590947492,
          -0.938437021976522,
          -1.1850393221179005,
          -1.3378864723577115,
          -1.5041727019616873,
          -1.3792969580177128,
          -1.3068689192049456,
          -1.5126902876319228,
          -0.9232848084995271,
          -0.6962360909652219,
          -0.8758659192594687,
          -0.7576139287072727,
          -0.7903612059925503,
          -0.5474835374888967,
          -0.2456724208233988,
          -0.301570482907648,
          -0.7328350992074678
         ]
        },
        {
         "line": {
          "color": "rgb(148, 52, 110)",
          "width": 2
         },
         "mode": "lines+markers",
         "name": "News Frequency (Shifted by -5 years)",
         "type": "scatter",
         "visible": false,
         "x": [
          1930,
          1931,
          1932,
          1933,
          1934,
          1935,
          1936,
          1937,
          1938,
          1939,
          1940,
          1941,
          1942,
          1943,
          1944,
          1945,
          1946,
          1947,
          1948,
          1949,
          1950,
          1951,
          1952,
          1953,
          1954,
          1955,
          1956,
          1957,
          1958,
          1959,
          1960,
          1961,
          1962,
          1963,
          1964,
          1965,
          1966,
          1967,
          1968,
          1969,
          1970,
          1971,
          1972,
          1973,
          1974,
          1975,
          1976,
          1977,
          1978,
          1979,
          1980,
          1981,
          1982,
          1983,
          1984,
          1985,
          1986,
          1987,
          1988,
          1989,
          1990,
          1991,
          1992,
          1993,
          1994,
          1995,
          1996,
          1997,
          1998,
          1999,
          2000,
          2001,
          2002,
          2003,
          2004,
          2005,
          2006,
          2007,
          2008,
          2009,
          2010,
          2011,
          2012,
          2013,
          2014,
          2015
         ],
         "y": [
          -0.7328350992074678,
          -0.8002576463971026,
          -0.7483622063199975,
          -0.4170237356330605,
          -0.027550588321907273,
          0.016777930459893318,
          1.0107368568386927,
          0.9637397441947557,
          1.633729978604,
          1.9044031982198457,
          0.9151213135536107,
          0.8178299422245577,
          0.7773922068907236,
          1.8414395344033316,
          1.4224612099458829,
          1.3493650723018338,
          0.7901392278731111,
          1.117381161470864,
          1.5542976300321225,
          1.300600763754382,
          1.21898241036535,
          1.0897322518433272,
          0.6584092299006316,
          1.356490514518743,
          1.1984470467195387,
          1.4356851865235893,
          1.7978968393629065,
          1.2731492204388715,
          1.5722008791533644,
          0.2163811026840396,
          0.983446866216162,
          1.4679885998055082,
          1.4699988842217795,
          0.9270354134347338,
          0.5578738962316218,
          -0.1158574696137123,
          0.7885123660084198,
          0.4016558343218455,
          0.26478085628305764,
          -0.014140856616124237,
          -0.38047255669968305,
          0.013747971723989021,
          0.13789605659493331,
          -0.04928959505531014,
          -0.6226803785122488,
          1.1689386875561425,
          0.34921379744776093,
          -0.05675457006864819,
          -0.5495909254101905,
          -0.8690503023318813,
          -0.7347561936826654,
          -0.5841924666404188,
          -0.8560307543914922,
          -0.6093166834159861,
          -0.43415052907629387,
          -0.4050292048903662,
          -0.09304015969186458,
          -0.9068682303713732,
          -1.0545233779459395,
          -1.0812820226479753,
          -1.0097944089861046,
          -0.6248701409609518,
          -1.298000458061694,
          -1.4500702004993322,
          -1.2486392071519525,
          -1.1025715915203222,
          -1.1079885247803787,
          -1.093476842962425,
          -1.2527106884874188,
          -0.9054046019497809,
          -0.22481738590947492,
          -0.938437021976522,
          -1.1850393221179005,
          -1.3378864723577115,
          -1.5041727019616873,
          -1.3792969580177128,
          -1.3068689192049456,
          -1.5126902876319228,
          -0.9232848084995271,
          -0.6962360909652219,
          -0.8758659192594687,
          -0.7576139287072727,
          -0.7903612059925503,
          -0.5474835374888967,
          -0.2456724208233988,
          -0.301570482907648
         ]
        },
        {
         "line": {
          "color": "rgb(148, 52, 110)",
          "width": 2
         },
         "mode": "lines+markers",
         "name": "News Frequency (Shifted by -4 years)",
         "type": "scatter",
         "visible": false,
         "x": [
          1930,
          1931,
          1932,
          1933,
          1934,
          1935,
          1936,
          1937,
          1938,
          1939,
          1940,
          1941,
          1942,
          1943,
          1944,
          1945,
          1946,
          1947,
          1948,
          1949,
          1950,
          1951,
          1952,
          1953,
          1954,
          1955,
          1956,
          1957,
          1958,
          1959,
          1960,
          1961,
          1962,
          1963,
          1964,
          1965,
          1966,
          1967,
          1968,
          1969,
          1970,
          1971,
          1972,
          1973,
          1974,
          1975,
          1976,
          1977,
          1978,
          1979,
          1980,
          1981,
          1982,
          1983,
          1984,
          1985,
          1986,
          1987,
          1988,
          1989,
          1990,
          1991,
          1992,
          1993,
          1994,
          1995,
          1996,
          1997,
          1998,
          1999,
          2000,
          2001,
          2002,
          2003,
          2004,
          2005,
          2006,
          2007,
          2008,
          2009,
          2010,
          2011,
          2012,
          2013,
          2014,
          2015
         ],
         "y": [
          -0.301570482907648,
          -0.7328350992074678,
          -0.8002576463971026,
          -0.7483622063199975,
          -0.4170237356330605,
          -0.027550588321907273,
          0.016777930459893318,
          1.0107368568386927,
          0.9637397441947557,
          1.633729978604,
          1.9044031982198457,
          0.9151213135536107,
          0.8178299422245577,
          0.7773922068907236,
          1.8414395344033316,
          1.4224612099458829,
          1.3493650723018338,
          0.7901392278731111,
          1.117381161470864,
          1.5542976300321225,
          1.300600763754382,
          1.21898241036535,
          1.0897322518433272,
          0.6584092299006316,
          1.356490514518743,
          1.1984470467195387,
          1.4356851865235893,
          1.7978968393629065,
          1.2731492204388715,
          1.5722008791533644,
          0.2163811026840396,
          0.983446866216162,
          1.4679885998055082,
          1.4699988842217795,
          0.9270354134347338,
          0.5578738962316218,
          -0.1158574696137123,
          0.7885123660084198,
          0.4016558343218455,
          0.26478085628305764,
          -0.014140856616124237,
          -0.38047255669968305,
          0.013747971723989021,
          0.13789605659493331,
          -0.04928959505531014,
          -0.6226803785122488,
          1.1689386875561425,
          0.34921379744776093,
          -0.05675457006864819,
          -0.5495909254101905,
          -0.8690503023318813,
          -0.7347561936826654,
          -0.5841924666404188,
          -0.8560307543914922,
          -0.6093166834159861,
          -0.43415052907629387,
          -0.4050292048903662,
          -0.09304015969186458,
          -0.9068682303713732,
          -1.0545233779459395,
          -1.0812820226479753,
          -1.0097944089861046,
          -0.6248701409609518,
          -1.298000458061694,
          -1.4500702004993322,
          -1.2486392071519525,
          -1.1025715915203222,
          -1.1079885247803787,
          -1.093476842962425,
          -1.2527106884874188,
          -0.9054046019497809,
          -0.22481738590947492,
          -0.938437021976522,
          -1.1850393221179005,
          -1.3378864723577115,
          -1.5041727019616873,
          -1.3792969580177128,
          -1.3068689192049456,
          -1.5126902876319228,
          -0.9232848084995271,
          -0.6962360909652219,
          -0.8758659192594687,
          -0.7576139287072727,
          -0.7903612059925503,
          -0.5474835374888967,
          -0.2456724208233988
         ]
        },
        {
         "line": {
          "color": "rgb(148, 52, 110)",
          "width": 2
         },
         "mode": "lines+markers",
         "name": "News Frequency (Shifted by -3 years)",
         "type": "scatter",
         "visible": false,
         "x": [
          1930,
          1931,
          1932,
          1933,
          1934,
          1935,
          1936,
          1937,
          1938,
          1939,
          1940,
          1941,
          1942,
          1943,
          1944,
          1945,
          1946,
          1947,
          1948,
          1949,
          1950,
          1951,
          1952,
          1953,
          1954,
          1955,
          1956,
          1957,
          1958,
          1959,
          1960,
          1961,
          1962,
          1963,
          1964,
          1965,
          1966,
          1967,
          1968,
          1969,
          1970,
          1971,
          1972,
          1973,
          1974,
          1975,
          1976,
          1977,
          1978,
          1979,
          1980,
          1981,
          1982,
          1983,
          1984,
          1985,
          1986,
          1987,
          1988,
          1989,
          1990,
          1991,
          1992,
          1993,
          1994,
          1995,
          1996,
          1997,
          1998,
          1999,
          2000,
          2001,
          2002,
          2003,
          2004,
          2005,
          2006,
          2007,
          2008,
          2009,
          2010,
          2011,
          2012,
          2013,
          2014,
          2015
         ],
         "y": [
          -0.2456724208233988,
          -0.301570482907648,
          -0.7328350992074678,
          -0.8002576463971026,
          -0.7483622063199975,
          -0.4170237356330605,
          -0.027550588321907273,
          0.016777930459893318,
          1.0107368568386927,
          0.9637397441947557,
          1.633729978604,
          1.9044031982198457,
          0.9151213135536107,
          0.8178299422245577,
          0.7773922068907236,
          1.8414395344033316,
          1.4224612099458829,
          1.3493650723018338,
          0.7901392278731111,
          1.117381161470864,
          1.5542976300321225,
          1.300600763754382,
          1.21898241036535,
          1.0897322518433272,
          0.6584092299006316,
          1.356490514518743,
          1.1984470467195387,
          1.4356851865235893,
          1.7978968393629065,
          1.2731492204388715,
          1.5722008791533644,
          0.2163811026840396,
          0.983446866216162,
          1.4679885998055082,
          1.4699988842217795,
          0.9270354134347338,
          0.5578738962316218,
          -0.1158574696137123,
          0.7885123660084198,
          0.4016558343218455,
          0.26478085628305764,
          -0.014140856616124237,
          -0.38047255669968305,
          0.013747971723989021,
          0.13789605659493331,
          -0.04928959505531014,
          -0.6226803785122488,
          1.1689386875561425,
          0.34921379744776093,
          -0.05675457006864819,
          -0.5495909254101905,
          -0.8690503023318813,
          -0.7347561936826654,
          -0.5841924666404188,
          -0.8560307543914922,
          -0.6093166834159861,
          -0.43415052907629387,
          -0.4050292048903662,
          -0.09304015969186458,
          -0.9068682303713732,
          -1.0545233779459395,
          -1.0812820226479753,
          -1.0097944089861046,
          -0.6248701409609518,
          -1.298000458061694,
          -1.4500702004993322,
          -1.2486392071519525,
          -1.1025715915203222,
          -1.1079885247803787,
          -1.093476842962425,
          -1.2527106884874188,
          -0.9054046019497809,
          -0.22481738590947492,
          -0.938437021976522,
          -1.1850393221179005,
          -1.3378864723577115,
          -1.5041727019616873,
          -1.3792969580177128,
          -1.3068689192049456,
          -1.5126902876319228,
          -0.9232848084995271,
          -0.6962360909652219,
          -0.8758659192594687,
          -0.7576139287072727,
          -0.7903612059925503,
          -0.5474835374888967
         ]
        },
        {
         "line": {
          "color": "rgb(148, 52, 110)",
          "width": 2
         },
         "mode": "lines+markers",
         "name": "News Frequency (Shifted by -2 years)",
         "type": "scatter",
         "visible": false,
         "x": [
          1930,
          1931,
          1932,
          1933,
          1934,
          1935,
          1936,
          1937,
          1938,
          1939,
          1940,
          1941,
          1942,
          1943,
          1944,
          1945,
          1946,
          1947,
          1948,
          1949,
          1950,
          1951,
          1952,
          1953,
          1954,
          1955,
          1956,
          1957,
          1958,
          1959,
          1960,
          1961,
          1962,
          1963,
          1964,
          1965,
          1966,
          1967,
          1968,
          1969,
          1970,
          1971,
          1972,
          1973,
          1974,
          1975,
          1976,
          1977,
          1978,
          1979,
          1980,
          1981,
          1982,
          1983,
          1984,
          1985,
          1986,
          1987,
          1988,
          1989,
          1990,
          1991,
          1992,
          1993,
          1994,
          1995,
          1996,
          1997,
          1998,
          1999,
          2000,
          2001,
          2002,
          2003,
          2004,
          2005,
          2006,
          2007,
          2008,
          2009,
          2010,
          2011,
          2012,
          2013,
          2014,
          2015
         ],
         "y": [
          -0.5474835374888967,
          -0.2456724208233988,
          -0.301570482907648,
          -0.7328350992074678,
          -0.8002576463971026,
          -0.7483622063199975,
          -0.4170237356330605,
          -0.027550588321907273,
          0.016777930459893318,
          1.0107368568386927,
          0.9637397441947557,
          1.633729978604,
          1.9044031982198457,
          0.9151213135536107,
          0.8178299422245577,
          0.7773922068907236,
          1.8414395344033316,
          1.4224612099458829,
          1.3493650723018338,
          0.7901392278731111,
          1.117381161470864,
          1.5542976300321225,
          1.300600763754382,
          1.21898241036535,
          1.0897322518433272,
          0.6584092299006316,
          1.356490514518743,
          1.1984470467195387,
          1.4356851865235893,
          1.7978968393629065,
          1.2731492204388715,
          1.5722008791533644,
          0.2163811026840396,
          0.983446866216162,
          1.4679885998055082,
          1.4699988842217795,
          0.9270354134347338,
          0.5578738962316218,
          -0.1158574696137123,
          0.7885123660084198,
          0.4016558343218455,
          0.26478085628305764,
          -0.014140856616124237,
          -0.38047255669968305,
          0.013747971723989021,
          0.13789605659493331,
          -0.04928959505531014,
          -0.6226803785122488,
          1.1689386875561425,
          0.34921379744776093,
          -0.05675457006864819,
          -0.5495909254101905,
          -0.8690503023318813,
          -0.7347561936826654,
          -0.5841924666404188,
          -0.8560307543914922,
          -0.6093166834159861,
          -0.43415052907629387,
          -0.4050292048903662,
          -0.09304015969186458,
          -0.9068682303713732,
          -1.0545233779459395,
          -1.0812820226479753,
          -1.0097944089861046,
          -0.6248701409609518,
          -1.298000458061694,
          -1.4500702004993322,
          -1.2486392071519525,
          -1.1025715915203222,
          -1.1079885247803787,
          -1.093476842962425,
          -1.2527106884874188,
          -0.9054046019497809,
          -0.22481738590947492,
          -0.938437021976522,
          -1.1850393221179005,
          -1.3378864723577115,
          -1.5041727019616873,
          -1.3792969580177128,
          -1.3068689192049456,
          -1.5126902876319228,
          -0.9232848084995271,
          -0.6962360909652219,
          -0.8758659192594687,
          -0.7576139287072727,
          -0.7903612059925503
         ]
        },
        {
         "line": {
          "color": "rgb(148, 52, 110)",
          "width": 2
         },
         "mode": "lines+markers",
         "name": "News Frequency (Shifted by -1 years)",
         "type": "scatter",
         "visible": false,
         "x": [
          1930,
          1931,
          1932,
          1933,
          1934,
          1935,
          1936,
          1937,
          1938,
          1939,
          1940,
          1941,
          1942,
          1943,
          1944,
          1945,
          1946,
          1947,
          1948,
          1949,
          1950,
          1951,
          1952,
          1953,
          1954,
          1955,
          1956,
          1957,
          1958,
          1959,
          1960,
          1961,
          1962,
          1963,
          1964,
          1965,
          1966,
          1967,
          1968,
          1969,
          1970,
          1971,
          1972,
          1973,
          1974,
          1975,
          1976,
          1977,
          1978,
          1979,
          1980,
          1981,
          1982,
          1983,
          1984,
          1985,
          1986,
          1987,
          1988,
          1989,
          1990,
          1991,
          1992,
          1993,
          1994,
          1995,
          1996,
          1997,
          1998,
          1999,
          2000,
          2001,
          2002,
          2003,
          2004,
          2005,
          2006,
          2007,
          2008,
          2009,
          2010,
          2011,
          2012,
          2013,
          2014,
          2015
         ],
         "y": [
          -0.7903612059925503,
          -0.5474835374888967,
          -0.2456724208233988,
          -0.301570482907648,
          -0.7328350992074678,
          -0.8002576463971026,
          -0.7483622063199975,
          -0.4170237356330605,
          -0.027550588321907273,
          0.016777930459893318,
          1.0107368568386927,
          0.9637397441947557,
          1.633729978604,
          1.9044031982198457,
          0.9151213135536107,
          0.8178299422245577,
          0.7773922068907236,
          1.8414395344033316,
          1.4224612099458829,
          1.3493650723018338,
          0.7901392278731111,
          1.117381161470864,
          1.5542976300321225,
          1.300600763754382,
          1.21898241036535,
          1.0897322518433272,
          0.6584092299006316,
          1.356490514518743,
          1.1984470467195387,
          1.4356851865235893,
          1.7978968393629065,
          1.2731492204388715,
          1.5722008791533644,
          0.2163811026840396,
          0.983446866216162,
          1.4679885998055082,
          1.4699988842217795,
          0.9270354134347338,
          0.5578738962316218,
          -0.1158574696137123,
          0.7885123660084198,
          0.4016558343218455,
          0.26478085628305764,
          -0.014140856616124237,
          -0.38047255669968305,
          0.013747971723989021,
          0.13789605659493331,
          -0.04928959505531014,
          -0.6226803785122488,
          1.1689386875561425,
          0.34921379744776093,
          -0.05675457006864819,
          -0.5495909254101905,
          -0.8690503023318813,
          -0.7347561936826654,
          -0.5841924666404188,
          -0.8560307543914922,
          -0.6093166834159861,
          -0.43415052907629387,
          -0.4050292048903662,
          -0.09304015969186458,
          -0.9068682303713732,
          -1.0545233779459395,
          -1.0812820226479753,
          -1.0097944089861046,
          -0.6248701409609518,
          -1.298000458061694,
          -1.4500702004993322,
          -1.2486392071519525,
          -1.1025715915203222,
          -1.1079885247803787,
          -1.093476842962425,
          -1.2527106884874188,
          -0.9054046019497809,
          -0.22481738590947492,
          -0.938437021976522,
          -1.1850393221179005,
          -1.3378864723577115,
          -1.5041727019616873,
          -1.3792969580177128,
          -1.3068689192049456,
          -1.5126902876319228,
          -0.9232848084995271,
          -0.6962360909652219,
          -0.8758659192594687,
          -0.7576139287072727
         ]
        },
        {
         "line": {
          "color": "rgb(148, 52, 110)",
          "width": 2
         },
         "mode": "lines+markers",
         "name": "News Frequency (Shifted by 0 years)",
         "type": "scatter",
         "visible": true,
         "x": [
          1930,
          1931,
          1932,
          1933,
          1934,
          1935,
          1936,
          1937,
          1938,
          1939,
          1940,
          1941,
          1942,
          1943,
          1944,
          1945,
          1946,
          1947,
          1948,
          1949,
          1950,
          1951,
          1952,
          1953,
          1954,
          1955,
          1956,
          1957,
          1958,
          1959,
          1960,
          1961,
          1962,
          1963,
          1964,
          1965,
          1966,
          1967,
          1968,
          1969,
          1970,
          1971,
          1972,
          1973,
          1974,
          1975,
          1976,
          1977,
          1978,
          1979,
          1980,
          1981,
          1982,
          1983,
          1984,
          1985,
          1986,
          1987,
          1988,
          1989,
          1990,
          1991,
          1992,
          1993,
          1994,
          1995,
          1996,
          1997,
          1998,
          1999,
          2000,
          2001,
          2002,
          2003,
          2004,
          2005,
          2006,
          2007,
          2008,
          2009,
          2010,
          2011,
          2012,
          2013,
          2014,
          2015
         ],
         "y": [
          -0.7576139287072727,
          -0.7903612059925503,
          -0.5474835374888967,
          -0.2456724208233988,
          -0.301570482907648,
          -0.7328350992074678,
          -0.8002576463971026,
          -0.7483622063199975,
          -0.4170237356330605,
          -0.027550588321907273,
          0.016777930459893318,
          1.0107368568386927,
          0.9637397441947557,
          1.633729978604,
          1.9044031982198457,
          0.9151213135536107,
          0.8178299422245577,
          0.7773922068907236,
          1.8414395344033316,
          1.4224612099458829,
          1.3493650723018338,
          0.7901392278731111,
          1.117381161470864,
          1.5542976300321225,
          1.300600763754382,
          1.21898241036535,
          1.0897322518433272,
          0.6584092299006316,
          1.356490514518743,
          1.1984470467195387,
          1.4356851865235893,
          1.7978968393629065,
          1.2731492204388715,
          1.5722008791533644,
          0.2163811026840396,
          0.983446866216162,
          1.4679885998055082,
          1.4699988842217795,
          0.9270354134347338,
          0.5578738962316218,
          -0.1158574696137123,
          0.7885123660084198,
          0.4016558343218455,
          0.26478085628305764,
          -0.014140856616124237,
          -0.38047255669968305,
          0.013747971723989021,
          0.13789605659493331,
          -0.04928959505531014,
          -0.6226803785122488,
          1.1689386875561425,
          0.34921379744776093,
          -0.05675457006864819,
          -0.5495909254101905,
          -0.8690503023318813,
          -0.7347561936826654,
          -0.5841924666404188,
          -0.8560307543914922,
          -0.6093166834159861,
          -0.43415052907629387,
          -0.4050292048903662,
          -0.09304015969186458,
          -0.9068682303713732,
          -1.0545233779459395,
          -1.0812820226479753,
          -1.0097944089861046,
          -0.6248701409609518,
          -1.298000458061694,
          -1.4500702004993322,
          -1.2486392071519525,
          -1.1025715915203222,
          -1.1079885247803787,
          -1.093476842962425,
          -1.2527106884874188,
          -0.9054046019497809,
          -0.22481738590947492,
          -0.938437021976522,
          -1.1850393221179005,
          -1.3378864723577115,
          -1.5041727019616873,
          -1.3792969580177128,
          -1.3068689192049456,
          -1.5126902876319228,
          -0.9232848084995271,
          -0.6962360909652219,
          -0.8758659192594687
         ]
        },
        {
         "line": {
          "color": "rgb(148, 52, 110)",
          "width": 2
         },
         "mode": "lines+markers",
         "name": "News Frequency (Shifted by 1 years)",
         "type": "scatter",
         "visible": false,
         "x": [
          1930,
          1931,
          1932,
          1933,
          1934,
          1935,
          1936,
          1937,
          1938,
          1939,
          1940,
          1941,
          1942,
          1943,
          1944,
          1945,
          1946,
          1947,
          1948,
          1949,
          1950,
          1951,
          1952,
          1953,
          1954,
          1955,
          1956,
          1957,
          1958,
          1959,
          1960,
          1961,
          1962,
          1963,
          1964,
          1965,
          1966,
          1967,
          1968,
          1969,
          1970,
          1971,
          1972,
          1973,
          1974,
          1975,
          1976,
          1977,
          1978,
          1979,
          1980,
          1981,
          1982,
          1983,
          1984,
          1985,
          1986,
          1987,
          1988,
          1989,
          1990,
          1991,
          1992,
          1993,
          1994,
          1995,
          1996,
          1997,
          1998,
          1999,
          2000,
          2001,
          2002,
          2003,
          2004,
          2005,
          2006,
          2007,
          2008,
          2009,
          2010,
          2011,
          2012,
          2013,
          2014,
          2015
         ],
         "y": [
          -0.8758659192594687,
          -0.7576139287072727,
          -0.7903612059925503,
          -0.5474835374888967,
          -0.2456724208233988,
          -0.301570482907648,
          -0.7328350992074678,
          -0.8002576463971026,
          -0.7483622063199975,
          -0.4170237356330605,
          -0.027550588321907273,
          0.016777930459893318,
          1.0107368568386927,
          0.9637397441947557,
          1.633729978604,
          1.9044031982198457,
          0.9151213135536107,
          0.8178299422245577,
          0.7773922068907236,
          1.8414395344033316,
          1.4224612099458829,
          1.3493650723018338,
          0.7901392278731111,
          1.117381161470864,
          1.5542976300321225,
          1.300600763754382,
          1.21898241036535,
          1.0897322518433272,
          0.6584092299006316,
          1.356490514518743,
          1.1984470467195387,
          1.4356851865235893,
          1.7978968393629065,
          1.2731492204388715,
          1.5722008791533644,
          0.2163811026840396,
          0.983446866216162,
          1.4679885998055082,
          1.4699988842217795,
          0.9270354134347338,
          0.5578738962316218,
          -0.1158574696137123,
          0.7885123660084198,
          0.4016558343218455,
          0.26478085628305764,
          -0.014140856616124237,
          -0.38047255669968305,
          0.013747971723989021,
          0.13789605659493331,
          -0.04928959505531014,
          -0.6226803785122488,
          1.1689386875561425,
          0.34921379744776093,
          -0.05675457006864819,
          -0.5495909254101905,
          -0.8690503023318813,
          -0.7347561936826654,
          -0.5841924666404188,
          -0.8560307543914922,
          -0.6093166834159861,
          -0.43415052907629387,
          -0.4050292048903662,
          -0.09304015969186458,
          -0.9068682303713732,
          -1.0545233779459395,
          -1.0812820226479753,
          -1.0097944089861046,
          -0.6248701409609518,
          -1.298000458061694,
          -1.4500702004993322,
          -1.2486392071519525,
          -1.1025715915203222,
          -1.1079885247803787,
          -1.093476842962425,
          -1.2527106884874188,
          -0.9054046019497809,
          -0.22481738590947492,
          -0.938437021976522,
          -1.1850393221179005,
          -1.3378864723577115,
          -1.5041727019616873,
          -1.3792969580177128,
          -1.3068689192049456,
          -1.5126902876319228,
          -0.9232848084995271,
          -0.6962360909652219
         ]
        },
        {
         "line": {
          "color": "rgb(148, 52, 110)",
          "width": 2
         },
         "mode": "lines+markers",
         "name": "News Frequency (Shifted by 2 years)",
         "type": "scatter",
         "visible": false,
         "x": [
          1930,
          1931,
          1932,
          1933,
          1934,
          1935,
          1936,
          1937,
          1938,
          1939,
          1940,
          1941,
          1942,
          1943,
          1944,
          1945,
          1946,
          1947,
          1948,
          1949,
          1950,
          1951,
          1952,
          1953,
          1954,
          1955,
          1956,
          1957,
          1958,
          1959,
          1960,
          1961,
          1962,
          1963,
          1964,
          1965,
          1966,
          1967,
          1968,
          1969,
          1970,
          1971,
          1972,
          1973,
          1974,
          1975,
          1976,
          1977,
          1978,
          1979,
          1980,
          1981,
          1982,
          1983,
          1984,
          1985,
          1986,
          1987,
          1988,
          1989,
          1990,
          1991,
          1992,
          1993,
          1994,
          1995,
          1996,
          1997,
          1998,
          1999,
          2000,
          2001,
          2002,
          2003,
          2004,
          2005,
          2006,
          2007,
          2008,
          2009,
          2010,
          2011,
          2012,
          2013,
          2014,
          2015
         ],
         "y": [
          -0.6962360909652219,
          -0.8758659192594687,
          -0.7576139287072727,
          -0.7903612059925503,
          -0.5474835374888967,
          -0.2456724208233988,
          -0.301570482907648,
          -0.7328350992074678,
          -0.8002576463971026,
          -0.7483622063199975,
          -0.4170237356330605,
          -0.027550588321907273,
          0.016777930459893318,
          1.0107368568386927,
          0.9637397441947557,
          1.633729978604,
          1.9044031982198457,
          0.9151213135536107,
          0.8178299422245577,
          0.7773922068907236,
          1.8414395344033316,
          1.4224612099458829,
          1.3493650723018338,
          0.7901392278731111,
          1.117381161470864,
          1.5542976300321225,
          1.300600763754382,
          1.21898241036535,
          1.0897322518433272,
          0.6584092299006316,
          1.356490514518743,
          1.1984470467195387,
          1.4356851865235893,
          1.7978968393629065,
          1.2731492204388715,
          1.5722008791533644,
          0.2163811026840396,
          0.983446866216162,
          1.4679885998055082,
          1.4699988842217795,
          0.9270354134347338,
          0.5578738962316218,
          -0.1158574696137123,
          0.7885123660084198,
          0.4016558343218455,
          0.26478085628305764,
          -0.014140856616124237,
          -0.38047255669968305,
          0.013747971723989021,
          0.13789605659493331,
          -0.04928959505531014,
          -0.6226803785122488,
          1.1689386875561425,
          0.34921379744776093,
          -0.05675457006864819,
          -0.5495909254101905,
          -0.8690503023318813,
          -0.7347561936826654,
          -0.5841924666404188,
          -0.8560307543914922,
          -0.6093166834159861,
          -0.43415052907629387,
          -0.4050292048903662,
          -0.09304015969186458,
          -0.9068682303713732,
          -1.0545233779459395,
          -1.0812820226479753,
          -1.0097944089861046,
          -0.6248701409609518,
          -1.298000458061694,
          -1.4500702004993322,
          -1.2486392071519525,
          -1.1025715915203222,
          -1.1079885247803787,
          -1.093476842962425,
          -1.2527106884874188,
          -0.9054046019497809,
          -0.22481738590947492,
          -0.938437021976522,
          -1.1850393221179005,
          -1.3378864723577115,
          -1.5041727019616873,
          -1.3792969580177128,
          -1.3068689192049456,
          -1.5126902876319228,
          -0.9232848084995271
         ]
        },
        {
         "line": {
          "color": "rgb(148, 52, 110)",
          "width": 2
         },
         "mode": "lines+markers",
         "name": "News Frequency (Shifted by 3 years)",
         "type": "scatter",
         "visible": false,
         "x": [
          1930,
          1931,
          1932,
          1933,
          1934,
          1935,
          1936,
          1937,
          1938,
          1939,
          1940,
          1941,
          1942,
          1943,
          1944,
          1945,
          1946,
          1947,
          1948,
          1949,
          1950,
          1951,
          1952,
          1953,
          1954,
          1955,
          1956,
          1957,
          1958,
          1959,
          1960,
          1961,
          1962,
          1963,
          1964,
          1965,
          1966,
          1967,
          1968,
          1969,
          1970,
          1971,
          1972,
          1973,
          1974,
          1975,
          1976,
          1977,
          1978,
          1979,
          1980,
          1981,
          1982,
          1983,
          1984,
          1985,
          1986,
          1987,
          1988,
          1989,
          1990,
          1991,
          1992,
          1993,
          1994,
          1995,
          1996,
          1997,
          1998,
          1999,
          2000,
          2001,
          2002,
          2003,
          2004,
          2005,
          2006,
          2007,
          2008,
          2009,
          2010,
          2011,
          2012,
          2013,
          2014,
          2015
         ],
         "y": [
          -0.9232848084995271,
          -0.6962360909652219,
          -0.8758659192594687,
          -0.7576139287072727,
          -0.7903612059925503,
          -0.5474835374888967,
          -0.2456724208233988,
          -0.301570482907648,
          -0.7328350992074678,
          -0.8002576463971026,
          -0.7483622063199975,
          -0.4170237356330605,
          -0.027550588321907273,
          0.016777930459893318,
          1.0107368568386927,
          0.9637397441947557,
          1.633729978604,
          1.9044031982198457,
          0.9151213135536107,
          0.8178299422245577,
          0.7773922068907236,
          1.8414395344033316,
          1.4224612099458829,
          1.3493650723018338,
          0.7901392278731111,
          1.117381161470864,
          1.5542976300321225,
          1.300600763754382,
          1.21898241036535,
          1.0897322518433272,
          0.6584092299006316,
          1.356490514518743,
          1.1984470467195387,
          1.4356851865235893,
          1.7978968393629065,
          1.2731492204388715,
          1.5722008791533644,
          0.2163811026840396,
          0.983446866216162,
          1.4679885998055082,
          1.4699988842217795,
          0.9270354134347338,
          0.5578738962316218,
          -0.1158574696137123,
          0.7885123660084198,
          0.4016558343218455,
          0.26478085628305764,
          -0.014140856616124237,
          -0.38047255669968305,
          0.013747971723989021,
          0.13789605659493331,
          -0.04928959505531014,
          -0.6226803785122488,
          1.1689386875561425,
          0.34921379744776093,
          -0.05675457006864819,
          -0.5495909254101905,
          -0.8690503023318813,
          -0.7347561936826654,
          -0.5841924666404188,
          -0.8560307543914922,
          -0.6093166834159861,
          -0.43415052907629387,
          -0.4050292048903662,
          -0.09304015969186458,
          -0.9068682303713732,
          -1.0545233779459395,
          -1.0812820226479753,
          -1.0097944089861046,
          -0.6248701409609518,
          -1.298000458061694,
          -1.4500702004993322,
          -1.2486392071519525,
          -1.1025715915203222,
          -1.1079885247803787,
          -1.093476842962425,
          -1.2527106884874188,
          -0.9054046019497809,
          -0.22481738590947492,
          -0.938437021976522,
          -1.1850393221179005,
          -1.3378864723577115,
          -1.5041727019616873,
          -1.3792969580177128,
          -1.3068689192049456,
          -1.5126902876319228
         ]
        },
        {
         "line": {
          "color": "rgb(148, 52, 110)",
          "width": 2
         },
         "mode": "lines+markers",
         "name": "News Frequency (Shifted by 4 years)",
         "type": "scatter",
         "visible": false,
         "x": [
          1930,
          1931,
          1932,
          1933,
          1934,
          1935,
          1936,
          1937,
          1938,
          1939,
          1940,
          1941,
          1942,
          1943,
          1944,
          1945,
          1946,
          1947,
          1948,
          1949,
          1950,
          1951,
          1952,
          1953,
          1954,
          1955,
          1956,
          1957,
          1958,
          1959,
          1960,
          1961,
          1962,
          1963,
          1964,
          1965,
          1966,
          1967,
          1968,
          1969,
          1970,
          1971,
          1972,
          1973,
          1974,
          1975,
          1976,
          1977,
          1978,
          1979,
          1980,
          1981,
          1982,
          1983,
          1984,
          1985,
          1986,
          1987,
          1988,
          1989,
          1990,
          1991,
          1992,
          1993,
          1994,
          1995,
          1996,
          1997,
          1998,
          1999,
          2000,
          2001,
          2002,
          2003,
          2004,
          2005,
          2006,
          2007,
          2008,
          2009,
          2010,
          2011,
          2012,
          2013,
          2014,
          2015
         ],
         "y": [
          -1.5126902876319228,
          -0.9232848084995271,
          -0.6962360909652219,
          -0.8758659192594687,
          -0.7576139287072727,
          -0.7903612059925503,
          -0.5474835374888967,
          -0.2456724208233988,
          -0.301570482907648,
          -0.7328350992074678,
          -0.8002576463971026,
          -0.7483622063199975,
          -0.4170237356330605,
          -0.027550588321907273,
          0.016777930459893318,
          1.0107368568386927,
          0.9637397441947557,
          1.633729978604,
          1.9044031982198457,
          0.9151213135536107,
          0.8178299422245577,
          0.7773922068907236,
          1.8414395344033316,
          1.4224612099458829,
          1.3493650723018338,
          0.7901392278731111,
          1.117381161470864,
          1.5542976300321225,
          1.300600763754382,
          1.21898241036535,
          1.0897322518433272,
          0.6584092299006316,
          1.356490514518743,
          1.1984470467195387,
          1.4356851865235893,
          1.7978968393629065,
          1.2731492204388715,
          1.5722008791533644,
          0.2163811026840396,
          0.983446866216162,
          1.4679885998055082,
          1.4699988842217795,
          0.9270354134347338,
          0.5578738962316218,
          -0.1158574696137123,
          0.7885123660084198,
          0.4016558343218455,
          0.26478085628305764,
          -0.014140856616124237,
          -0.38047255669968305,
          0.013747971723989021,
          0.13789605659493331,
          -0.04928959505531014,
          -0.6226803785122488,
          1.1689386875561425,
          0.34921379744776093,
          -0.05675457006864819,
          -0.5495909254101905,
          -0.8690503023318813,
          -0.7347561936826654,
          -0.5841924666404188,
          -0.8560307543914922,
          -0.6093166834159861,
          -0.43415052907629387,
          -0.4050292048903662,
          -0.09304015969186458,
          -0.9068682303713732,
          -1.0545233779459395,
          -1.0812820226479753,
          -1.0097944089861046,
          -0.6248701409609518,
          -1.298000458061694,
          -1.4500702004993322,
          -1.2486392071519525,
          -1.1025715915203222,
          -1.1079885247803787,
          -1.093476842962425,
          -1.2527106884874188,
          -0.9054046019497809,
          -0.22481738590947492,
          -0.938437021976522,
          -1.1850393221179005,
          -1.3378864723577115,
          -1.5041727019616873,
          -1.3792969580177128,
          -1.3068689192049456
         ]
        },
        {
         "line": {
          "color": "rgb(148, 52, 110)",
          "width": 2
         },
         "mode": "lines+markers",
         "name": "News Frequency (Shifted by 5 years)",
         "type": "scatter",
         "visible": false,
         "x": [
          1930,
          1931,
          1932,
          1933,
          1934,
          1935,
          1936,
          1937,
          1938,
          1939,
          1940,
          1941,
          1942,
          1943,
          1944,
          1945,
          1946,
          1947,
          1948,
          1949,
          1950,
          1951,
          1952,
          1953,
          1954,
          1955,
          1956,
          1957,
          1958,
          1959,
          1960,
          1961,
          1962,
          1963,
          1964,
          1965,
          1966,
          1967,
          1968,
          1969,
          1970,
          1971,
          1972,
          1973,
          1974,
          1975,
          1976,
          1977,
          1978,
          1979,
          1980,
          1981,
          1982,
          1983,
          1984,
          1985,
          1986,
          1987,
          1988,
          1989,
          1990,
          1991,
          1992,
          1993,
          1994,
          1995,
          1996,
          1997,
          1998,
          1999,
          2000,
          2001,
          2002,
          2003,
          2004,
          2005,
          2006,
          2007,
          2008,
          2009,
          2010,
          2011,
          2012,
          2013,
          2014,
          2015
         ],
         "y": [
          -1.3068689192049456,
          -1.5126902876319228,
          -0.9232848084995271,
          -0.6962360909652219,
          -0.8758659192594687,
          -0.7576139287072727,
          -0.7903612059925503,
          -0.5474835374888967,
          -0.2456724208233988,
          -0.301570482907648,
          -0.7328350992074678,
          -0.8002576463971026,
          -0.7483622063199975,
          -0.4170237356330605,
          -0.027550588321907273,
          0.016777930459893318,
          1.0107368568386927,
          0.9637397441947557,
          1.633729978604,
          1.9044031982198457,
          0.9151213135536107,
          0.8178299422245577,
          0.7773922068907236,
          1.8414395344033316,
          1.4224612099458829,
          1.3493650723018338,
          0.7901392278731111,
          1.117381161470864,
          1.5542976300321225,
          1.300600763754382,
          1.21898241036535,
          1.0897322518433272,
          0.6584092299006316,
          1.356490514518743,
          1.1984470467195387,
          1.4356851865235893,
          1.7978968393629065,
          1.2731492204388715,
          1.5722008791533644,
          0.2163811026840396,
          0.983446866216162,
          1.4679885998055082,
          1.4699988842217795,
          0.9270354134347338,
          0.5578738962316218,
          -0.1158574696137123,
          0.7885123660084198,
          0.4016558343218455,
          0.26478085628305764,
          -0.014140856616124237,
          -0.38047255669968305,
          0.013747971723989021,
          0.13789605659493331,
          -0.04928959505531014,
          -0.6226803785122488,
          1.1689386875561425,
          0.34921379744776093,
          -0.05675457006864819,
          -0.5495909254101905,
          -0.8690503023318813,
          -0.7347561936826654,
          -0.5841924666404188,
          -0.8560307543914922,
          -0.6093166834159861,
          -0.43415052907629387,
          -0.4050292048903662,
          -0.09304015969186458,
          -0.9068682303713732,
          -1.0545233779459395,
          -1.0812820226479753,
          -1.0097944089861046,
          -0.6248701409609518,
          -1.298000458061694,
          -1.4500702004993322,
          -1.2486392071519525,
          -1.1025715915203222,
          -1.1079885247803787,
          -1.093476842962425,
          -1.2527106884874188,
          -0.9054046019497809,
          -0.22481738590947492,
          -0.938437021976522,
          -1.1850393221179005,
          -1.3378864723577115,
          -1.5041727019616873,
          -1.3792969580177128
         ]
        },
        {
         "line": {
          "color": "rgb(148, 52, 110)",
          "width": 2
         },
         "mode": "lines+markers",
         "name": "News Frequency (Shifted by 6 years)",
         "type": "scatter",
         "visible": false,
         "x": [
          1930,
          1931,
          1932,
          1933,
          1934,
          1935,
          1936,
          1937,
          1938,
          1939,
          1940,
          1941,
          1942,
          1943,
          1944,
          1945,
          1946,
          1947,
          1948,
          1949,
          1950,
          1951,
          1952,
          1953,
          1954,
          1955,
          1956,
          1957,
          1958,
          1959,
          1960,
          1961,
          1962,
          1963,
          1964,
          1965,
          1966,
          1967,
          1968,
          1969,
          1970,
          1971,
          1972,
          1973,
          1974,
          1975,
          1976,
          1977,
          1978,
          1979,
          1980,
          1981,
          1982,
          1983,
          1984,
          1985,
          1986,
          1987,
          1988,
          1989,
          1990,
          1991,
          1992,
          1993,
          1994,
          1995,
          1996,
          1997,
          1998,
          1999,
          2000,
          2001,
          2002,
          2003,
          2004,
          2005,
          2006,
          2007,
          2008,
          2009,
          2010,
          2011,
          2012,
          2013,
          2014,
          2015
         ],
         "y": [
          -1.3792969580177128,
          -1.3068689192049456,
          -1.5126902876319228,
          -0.9232848084995271,
          -0.6962360909652219,
          -0.8758659192594687,
          -0.7576139287072727,
          -0.7903612059925503,
          -0.5474835374888967,
          -0.2456724208233988,
          -0.301570482907648,
          -0.7328350992074678,
          -0.8002576463971026,
          -0.7483622063199975,
          -0.4170237356330605,
          -0.027550588321907273,
          0.016777930459893318,
          1.0107368568386927,
          0.9637397441947557,
          1.633729978604,
          1.9044031982198457,
          0.9151213135536107,
          0.8178299422245577,
          0.7773922068907236,
          1.8414395344033316,
          1.4224612099458829,
          1.3493650723018338,
          0.7901392278731111,
          1.117381161470864,
          1.5542976300321225,
          1.300600763754382,
          1.21898241036535,
          1.0897322518433272,
          0.6584092299006316,
          1.356490514518743,
          1.1984470467195387,
          1.4356851865235893,
          1.7978968393629065,
          1.2731492204388715,
          1.5722008791533644,
          0.2163811026840396,
          0.983446866216162,
          1.4679885998055082,
          1.4699988842217795,
          0.9270354134347338,
          0.5578738962316218,
          -0.1158574696137123,
          0.7885123660084198,
          0.4016558343218455,
          0.26478085628305764,
          -0.014140856616124237,
          -0.38047255669968305,
          0.013747971723989021,
          0.13789605659493331,
          -0.04928959505531014,
          -0.6226803785122488,
          1.1689386875561425,
          0.34921379744776093,
          -0.05675457006864819,
          -0.5495909254101905,
          -0.8690503023318813,
          -0.7347561936826654,
          -0.5841924666404188,
          -0.8560307543914922,
          -0.6093166834159861,
          -0.43415052907629387,
          -0.4050292048903662,
          -0.09304015969186458,
          -0.9068682303713732,
          -1.0545233779459395,
          -1.0812820226479753,
          -1.0097944089861046,
          -0.6248701409609518,
          -1.298000458061694,
          -1.4500702004993322,
          -1.2486392071519525,
          -1.1025715915203222,
          -1.1079885247803787,
          -1.093476842962425,
          -1.2527106884874188,
          -0.9054046019497809,
          -0.22481738590947492,
          -0.938437021976522,
          -1.1850393221179005,
          -1.3378864723577115,
          -1.5041727019616873
         ]
        },
        {
         "line": {
          "color": "rgb(148, 52, 110)",
          "width": 2
         },
         "mode": "lines+markers",
         "name": "News Frequency (Shifted by 7 years)",
         "type": "scatter",
         "visible": false,
         "x": [
          1930,
          1931,
          1932,
          1933,
          1934,
          1935,
          1936,
          1937,
          1938,
          1939,
          1940,
          1941,
          1942,
          1943,
          1944,
          1945,
          1946,
          1947,
          1948,
          1949,
          1950,
          1951,
          1952,
          1953,
          1954,
          1955,
          1956,
          1957,
          1958,
          1959,
          1960,
          1961,
          1962,
          1963,
          1964,
          1965,
          1966,
          1967,
          1968,
          1969,
          1970,
          1971,
          1972,
          1973,
          1974,
          1975,
          1976,
          1977,
          1978,
          1979,
          1980,
          1981,
          1982,
          1983,
          1984,
          1985,
          1986,
          1987,
          1988,
          1989,
          1990,
          1991,
          1992,
          1993,
          1994,
          1995,
          1996,
          1997,
          1998,
          1999,
          2000,
          2001,
          2002,
          2003,
          2004,
          2005,
          2006,
          2007,
          2008,
          2009,
          2010,
          2011,
          2012,
          2013,
          2014,
          2015
         ],
         "y": [
          -1.5041727019616873,
          -1.3792969580177128,
          -1.3068689192049456,
          -1.5126902876319228,
          -0.9232848084995271,
          -0.6962360909652219,
          -0.8758659192594687,
          -0.7576139287072727,
          -0.7903612059925503,
          -0.5474835374888967,
          -0.2456724208233988,
          -0.301570482907648,
          -0.7328350992074678,
          -0.8002576463971026,
          -0.7483622063199975,
          -0.4170237356330605,
          -0.027550588321907273,
          0.016777930459893318,
          1.0107368568386927,
          0.9637397441947557,
          1.633729978604,
          1.9044031982198457,
          0.9151213135536107,
          0.8178299422245577,
          0.7773922068907236,
          1.8414395344033316,
          1.4224612099458829,
          1.3493650723018338,
          0.7901392278731111,
          1.117381161470864,
          1.5542976300321225,
          1.300600763754382,
          1.21898241036535,
          1.0897322518433272,
          0.6584092299006316,
          1.356490514518743,
          1.1984470467195387,
          1.4356851865235893,
          1.7978968393629065,
          1.2731492204388715,
          1.5722008791533644,
          0.2163811026840396,
          0.983446866216162,
          1.4679885998055082,
          1.4699988842217795,
          0.9270354134347338,
          0.5578738962316218,
          -0.1158574696137123,
          0.7885123660084198,
          0.4016558343218455,
          0.26478085628305764,
          -0.014140856616124237,
          -0.38047255669968305,
          0.013747971723989021,
          0.13789605659493331,
          -0.04928959505531014,
          -0.6226803785122488,
          1.1689386875561425,
          0.34921379744776093,
          -0.05675457006864819,
          -0.5495909254101905,
          -0.8690503023318813,
          -0.7347561936826654,
          -0.5841924666404188,
          -0.8560307543914922,
          -0.6093166834159861,
          -0.43415052907629387,
          -0.4050292048903662,
          -0.09304015969186458,
          -0.9068682303713732,
          -1.0545233779459395,
          -1.0812820226479753,
          -1.0097944089861046,
          -0.6248701409609518,
          -1.298000458061694,
          -1.4500702004993322,
          -1.2486392071519525,
          -1.1025715915203222,
          -1.1079885247803787,
          -1.093476842962425,
          -1.2527106884874188,
          -0.9054046019497809,
          -0.22481738590947492,
          -0.938437021976522,
          -1.1850393221179005,
          -1.3378864723577115
         ]
        },
        {
         "line": {
          "color": "rgb(148, 52, 110)",
          "width": 2
         },
         "mode": "lines+markers",
         "name": "News Frequency (Shifted by 8 years)",
         "type": "scatter",
         "visible": false,
         "x": [
          1930,
          1931,
          1932,
          1933,
          1934,
          1935,
          1936,
          1937,
          1938,
          1939,
          1940,
          1941,
          1942,
          1943,
          1944,
          1945,
          1946,
          1947,
          1948,
          1949,
          1950,
          1951,
          1952,
          1953,
          1954,
          1955,
          1956,
          1957,
          1958,
          1959,
          1960,
          1961,
          1962,
          1963,
          1964,
          1965,
          1966,
          1967,
          1968,
          1969,
          1970,
          1971,
          1972,
          1973,
          1974,
          1975,
          1976,
          1977,
          1978,
          1979,
          1980,
          1981,
          1982,
          1983,
          1984,
          1985,
          1986,
          1987,
          1988,
          1989,
          1990,
          1991,
          1992,
          1993,
          1994,
          1995,
          1996,
          1997,
          1998,
          1999,
          2000,
          2001,
          2002,
          2003,
          2004,
          2005,
          2006,
          2007,
          2008,
          2009,
          2010,
          2011,
          2012,
          2013,
          2014,
          2015
         ],
         "y": [
          -1.3378864723577115,
          -1.5041727019616873,
          -1.3792969580177128,
          -1.3068689192049456,
          -1.5126902876319228,
          -0.9232848084995271,
          -0.6962360909652219,
          -0.8758659192594687,
          -0.7576139287072727,
          -0.7903612059925503,
          -0.5474835374888967,
          -0.2456724208233988,
          -0.301570482907648,
          -0.7328350992074678,
          -0.8002576463971026,
          -0.7483622063199975,
          -0.4170237356330605,
          -0.027550588321907273,
          0.016777930459893318,
          1.0107368568386927,
          0.9637397441947557,
          1.633729978604,
          1.9044031982198457,
          0.9151213135536107,
          0.8178299422245577,
          0.7773922068907236,
          1.8414395344033316,
          1.4224612099458829,
          1.3493650723018338,
          0.7901392278731111,
          1.117381161470864,
          1.5542976300321225,
          1.300600763754382,
          1.21898241036535,
          1.0897322518433272,
          0.6584092299006316,
          1.356490514518743,
          1.1984470467195387,
          1.4356851865235893,
          1.7978968393629065,
          1.2731492204388715,
          1.5722008791533644,
          0.2163811026840396,
          0.983446866216162,
          1.4679885998055082,
          1.4699988842217795,
          0.9270354134347338,
          0.5578738962316218,
          -0.1158574696137123,
          0.7885123660084198,
          0.4016558343218455,
          0.26478085628305764,
          -0.014140856616124237,
          -0.38047255669968305,
          0.013747971723989021,
          0.13789605659493331,
          -0.04928959505531014,
          -0.6226803785122488,
          1.1689386875561425,
          0.34921379744776093,
          -0.05675457006864819,
          -0.5495909254101905,
          -0.8690503023318813,
          -0.7347561936826654,
          -0.5841924666404188,
          -0.8560307543914922,
          -0.6093166834159861,
          -0.43415052907629387,
          -0.4050292048903662,
          -0.09304015969186458,
          -0.9068682303713732,
          -1.0545233779459395,
          -1.0812820226479753,
          -1.0097944089861046,
          -0.6248701409609518,
          -1.298000458061694,
          -1.4500702004993322,
          -1.2486392071519525,
          -1.1025715915203222,
          -1.1079885247803787,
          -1.093476842962425,
          -1.2527106884874188,
          -0.9054046019497809,
          -0.22481738590947492,
          -0.938437021976522,
          -1.1850393221179005
         ]
        },
        {
         "line": {
          "color": "rgb(148, 52, 110)",
          "width": 2
         },
         "mode": "lines+markers",
         "name": "News Frequency (Shifted by 9 years)",
         "type": "scatter",
         "visible": false,
         "x": [
          1930,
          1931,
          1932,
          1933,
          1934,
          1935,
          1936,
          1937,
          1938,
          1939,
          1940,
          1941,
          1942,
          1943,
          1944,
          1945,
          1946,
          1947,
          1948,
          1949,
          1950,
          1951,
          1952,
          1953,
          1954,
          1955,
          1956,
          1957,
          1958,
          1959,
          1960,
          1961,
          1962,
          1963,
          1964,
          1965,
          1966,
          1967,
          1968,
          1969,
          1970,
          1971,
          1972,
          1973,
          1974,
          1975,
          1976,
          1977,
          1978,
          1979,
          1980,
          1981,
          1982,
          1983,
          1984,
          1985,
          1986,
          1987,
          1988,
          1989,
          1990,
          1991,
          1992,
          1993,
          1994,
          1995,
          1996,
          1997,
          1998,
          1999,
          2000,
          2001,
          2002,
          2003,
          2004,
          2005,
          2006,
          2007,
          2008,
          2009,
          2010,
          2011,
          2012,
          2013,
          2014,
          2015
         ],
         "y": [
          -1.1850393221179005,
          -1.3378864723577115,
          -1.5041727019616873,
          -1.3792969580177128,
          -1.3068689192049456,
          -1.5126902876319228,
          -0.9232848084995271,
          -0.6962360909652219,
          -0.8758659192594687,
          -0.7576139287072727,
          -0.7903612059925503,
          -0.5474835374888967,
          -0.2456724208233988,
          -0.301570482907648,
          -0.7328350992074678,
          -0.8002576463971026,
          -0.7483622063199975,
          -0.4170237356330605,
          -0.027550588321907273,
          0.016777930459893318,
          1.0107368568386927,
          0.9637397441947557,
          1.633729978604,
          1.9044031982198457,
          0.9151213135536107,
          0.8178299422245577,
          0.7773922068907236,
          1.8414395344033316,
          1.4224612099458829,
          1.3493650723018338,
          0.7901392278731111,
          1.117381161470864,
          1.5542976300321225,
          1.300600763754382,
          1.21898241036535,
          1.0897322518433272,
          0.6584092299006316,
          1.356490514518743,
          1.1984470467195387,
          1.4356851865235893,
          1.7978968393629065,
          1.2731492204388715,
          1.5722008791533644,
          0.2163811026840396,
          0.983446866216162,
          1.4679885998055082,
          1.4699988842217795,
          0.9270354134347338,
          0.5578738962316218,
          -0.1158574696137123,
          0.7885123660084198,
          0.4016558343218455,
          0.26478085628305764,
          -0.014140856616124237,
          -0.38047255669968305,
          0.013747971723989021,
          0.13789605659493331,
          -0.04928959505531014,
          -0.6226803785122488,
          1.1689386875561425,
          0.34921379744776093,
          -0.05675457006864819,
          -0.5495909254101905,
          -0.8690503023318813,
          -0.7347561936826654,
          -0.5841924666404188,
          -0.8560307543914922,
          -0.6093166834159861,
          -0.43415052907629387,
          -0.4050292048903662,
          -0.09304015969186458,
          -0.9068682303713732,
          -1.0545233779459395,
          -1.0812820226479753,
          -1.0097944089861046,
          -0.6248701409609518,
          -1.298000458061694,
          -1.4500702004993322,
          -1.2486392071519525,
          -1.1025715915203222,
          -1.1079885247803787,
          -1.093476842962425,
          -1.2527106884874188,
          -0.9054046019497809,
          -0.22481738590947492,
          -0.938437021976522
         ]
        },
        {
         "line": {
          "color": "rgb(148, 52, 110)",
          "width": 2
         },
         "mode": "lines+markers",
         "name": "News Frequency (Shifted by 10 years)",
         "type": "scatter",
         "visible": false,
         "x": [
          1930,
          1931,
          1932,
          1933,
          1934,
          1935,
          1936,
          1937,
          1938,
          1939,
          1940,
          1941,
          1942,
          1943,
          1944,
          1945,
          1946,
          1947,
          1948,
          1949,
          1950,
          1951,
          1952,
          1953,
          1954,
          1955,
          1956,
          1957,
          1958,
          1959,
          1960,
          1961,
          1962,
          1963,
          1964,
          1965,
          1966,
          1967,
          1968,
          1969,
          1970,
          1971,
          1972,
          1973,
          1974,
          1975,
          1976,
          1977,
          1978,
          1979,
          1980,
          1981,
          1982,
          1983,
          1984,
          1985,
          1986,
          1987,
          1988,
          1989,
          1990,
          1991,
          1992,
          1993,
          1994,
          1995,
          1996,
          1997,
          1998,
          1999,
          2000,
          2001,
          2002,
          2003,
          2004,
          2005,
          2006,
          2007,
          2008,
          2009,
          2010,
          2011,
          2012,
          2013,
          2014,
          2015
         ],
         "y": [
          -0.938437021976522,
          -1.1850393221179005,
          -1.3378864723577115,
          -1.5041727019616873,
          -1.3792969580177128,
          -1.3068689192049456,
          -1.5126902876319228,
          -0.9232848084995271,
          -0.6962360909652219,
          -0.8758659192594687,
          -0.7576139287072727,
          -0.7903612059925503,
          -0.5474835374888967,
          -0.2456724208233988,
          -0.301570482907648,
          -0.7328350992074678,
          -0.8002576463971026,
          -0.7483622063199975,
          -0.4170237356330605,
          -0.027550588321907273,
          0.016777930459893318,
          1.0107368568386927,
          0.9637397441947557,
          1.633729978604,
          1.9044031982198457,
          0.9151213135536107,
          0.8178299422245577,
          0.7773922068907236,
          1.8414395344033316,
          1.4224612099458829,
          1.3493650723018338,
          0.7901392278731111,
          1.117381161470864,
          1.5542976300321225,
          1.300600763754382,
          1.21898241036535,
          1.0897322518433272,
          0.6584092299006316,
          1.356490514518743,
          1.1984470467195387,
          1.4356851865235893,
          1.7978968393629065,
          1.2731492204388715,
          1.5722008791533644,
          0.2163811026840396,
          0.983446866216162,
          1.4679885998055082,
          1.4699988842217795,
          0.9270354134347338,
          0.5578738962316218,
          -0.1158574696137123,
          0.7885123660084198,
          0.4016558343218455,
          0.26478085628305764,
          -0.014140856616124237,
          -0.38047255669968305,
          0.013747971723989021,
          0.13789605659493331,
          -0.04928959505531014,
          -0.6226803785122488,
          1.1689386875561425,
          0.34921379744776093,
          -0.05675457006864819,
          -0.5495909254101905,
          -0.8690503023318813,
          -0.7347561936826654,
          -0.5841924666404188,
          -0.8560307543914922,
          -0.6093166834159861,
          -0.43415052907629387,
          -0.4050292048903662,
          -0.09304015969186458,
          -0.9068682303713732,
          -1.0545233779459395,
          -1.0812820226479753,
          -1.0097944089861046,
          -0.6248701409609518,
          -1.298000458061694,
          -1.4500702004993322,
          -1.2486392071519525,
          -1.1025715915203222,
          -1.1079885247803787,
          -1.093476842962425,
          -1.2527106884874188,
          -0.9054046019497809,
          -0.22481738590947492
         ]
        },
        {
         "line": {
          "color": "rgb(148, 52, 110)",
          "width": 2
         },
         "mode": "lines+markers",
         "name": "News Frequency (Shifted by 11 years)",
         "type": "scatter",
         "visible": false,
         "x": [
          1930,
          1931,
          1932,
          1933,
          1934,
          1935,
          1936,
          1937,
          1938,
          1939,
          1940,
          1941,
          1942,
          1943,
          1944,
          1945,
          1946,
          1947,
          1948,
          1949,
          1950,
          1951,
          1952,
          1953,
          1954,
          1955,
          1956,
          1957,
          1958,
          1959,
          1960,
          1961,
          1962,
          1963,
          1964,
          1965,
          1966,
          1967,
          1968,
          1969,
          1970,
          1971,
          1972,
          1973,
          1974,
          1975,
          1976,
          1977,
          1978,
          1979,
          1980,
          1981,
          1982,
          1983,
          1984,
          1985,
          1986,
          1987,
          1988,
          1989,
          1990,
          1991,
          1992,
          1993,
          1994,
          1995,
          1996,
          1997,
          1998,
          1999,
          2000,
          2001,
          2002,
          2003,
          2004,
          2005,
          2006,
          2007,
          2008,
          2009,
          2010,
          2011,
          2012,
          2013,
          2014,
          2015
         ],
         "y": [
          -0.22481738590947492,
          -0.938437021976522,
          -1.1850393221179005,
          -1.3378864723577115,
          -1.5041727019616873,
          -1.3792969580177128,
          -1.3068689192049456,
          -1.5126902876319228,
          -0.9232848084995271,
          -0.6962360909652219,
          -0.8758659192594687,
          -0.7576139287072727,
          -0.7903612059925503,
          -0.5474835374888967,
          -0.2456724208233988,
          -0.301570482907648,
          -0.7328350992074678,
          -0.8002576463971026,
          -0.7483622063199975,
          -0.4170237356330605,
          -0.027550588321907273,
          0.016777930459893318,
          1.0107368568386927,
          0.9637397441947557,
          1.633729978604,
          1.9044031982198457,
          0.9151213135536107,
          0.8178299422245577,
          0.7773922068907236,
          1.8414395344033316,
          1.4224612099458829,
          1.3493650723018338,
          0.7901392278731111,
          1.117381161470864,
          1.5542976300321225,
          1.300600763754382,
          1.21898241036535,
          1.0897322518433272,
          0.6584092299006316,
          1.356490514518743,
          1.1984470467195387,
          1.4356851865235893,
          1.7978968393629065,
          1.2731492204388715,
          1.5722008791533644,
          0.2163811026840396,
          0.983446866216162,
          1.4679885998055082,
          1.4699988842217795,
          0.9270354134347338,
          0.5578738962316218,
          -0.1158574696137123,
          0.7885123660084198,
          0.4016558343218455,
          0.26478085628305764,
          -0.014140856616124237,
          -0.38047255669968305,
          0.013747971723989021,
          0.13789605659493331,
          -0.04928959505531014,
          -0.6226803785122488,
          1.1689386875561425,
          0.34921379744776093,
          -0.05675457006864819,
          -0.5495909254101905,
          -0.8690503023318813,
          -0.7347561936826654,
          -0.5841924666404188,
          -0.8560307543914922,
          -0.6093166834159861,
          -0.43415052907629387,
          -0.4050292048903662,
          -0.09304015969186458,
          -0.9068682303713732,
          -1.0545233779459395,
          -1.0812820226479753,
          -1.0097944089861046,
          -0.6248701409609518,
          -1.298000458061694,
          -1.4500702004993322,
          -1.2486392071519525,
          -1.1025715915203222,
          -1.1079885247803787,
          -1.093476842962425,
          -1.2527106884874188,
          -0.9054046019497809
         ]
        },
        {
         "line": {
          "color": "rgb(148, 52, 110)",
          "width": 2
         },
         "mode": "lines+markers",
         "name": "News Frequency (Shifted by 12 years)",
         "type": "scatter",
         "visible": false,
         "x": [
          1930,
          1931,
          1932,
          1933,
          1934,
          1935,
          1936,
          1937,
          1938,
          1939,
          1940,
          1941,
          1942,
          1943,
          1944,
          1945,
          1946,
          1947,
          1948,
          1949,
          1950,
          1951,
          1952,
          1953,
          1954,
          1955,
          1956,
          1957,
          1958,
          1959,
          1960,
          1961,
          1962,
          1963,
          1964,
          1965,
          1966,
          1967,
          1968,
          1969,
          1970,
          1971,
          1972,
          1973,
          1974,
          1975,
          1976,
          1977,
          1978,
          1979,
          1980,
          1981,
          1982,
          1983,
          1984,
          1985,
          1986,
          1987,
          1988,
          1989,
          1990,
          1991,
          1992,
          1993,
          1994,
          1995,
          1996,
          1997,
          1998,
          1999,
          2000,
          2001,
          2002,
          2003,
          2004,
          2005,
          2006,
          2007,
          2008,
          2009,
          2010,
          2011,
          2012,
          2013,
          2014,
          2015
         ],
         "y": [
          -0.9054046019497809,
          -0.22481738590947492,
          -0.938437021976522,
          -1.1850393221179005,
          -1.3378864723577115,
          -1.5041727019616873,
          -1.3792969580177128,
          -1.3068689192049456,
          -1.5126902876319228,
          -0.9232848084995271,
          -0.6962360909652219,
          -0.8758659192594687,
          -0.7576139287072727,
          -0.7903612059925503,
          -0.5474835374888967,
          -0.2456724208233988,
          -0.301570482907648,
          -0.7328350992074678,
          -0.8002576463971026,
          -0.7483622063199975,
          -0.4170237356330605,
          -0.027550588321907273,
          0.016777930459893318,
          1.0107368568386927,
          0.9637397441947557,
          1.633729978604,
          1.9044031982198457,
          0.9151213135536107,
          0.8178299422245577,
          0.7773922068907236,
          1.8414395344033316,
          1.4224612099458829,
          1.3493650723018338,
          0.7901392278731111,
          1.117381161470864,
          1.5542976300321225,
          1.300600763754382,
          1.21898241036535,
          1.0897322518433272,
          0.6584092299006316,
          1.356490514518743,
          1.1984470467195387,
          1.4356851865235893,
          1.7978968393629065,
          1.2731492204388715,
          1.5722008791533644,
          0.2163811026840396,
          0.983446866216162,
          1.4679885998055082,
          1.4699988842217795,
          0.9270354134347338,
          0.5578738962316218,
          -0.1158574696137123,
          0.7885123660084198,
          0.4016558343218455,
          0.26478085628305764,
          -0.014140856616124237,
          -0.38047255669968305,
          0.013747971723989021,
          0.13789605659493331,
          -0.04928959505531014,
          -0.6226803785122488,
          1.1689386875561425,
          0.34921379744776093,
          -0.05675457006864819,
          -0.5495909254101905,
          -0.8690503023318813,
          -0.7347561936826654,
          -0.5841924666404188,
          -0.8560307543914922,
          -0.6093166834159861,
          -0.43415052907629387,
          -0.4050292048903662,
          -0.09304015969186458,
          -0.9068682303713732,
          -1.0545233779459395,
          -1.0812820226479753,
          -1.0097944089861046,
          -0.6248701409609518,
          -1.298000458061694,
          -1.4500702004993322,
          -1.2486392071519525,
          -1.1025715915203222,
          -1.1079885247803787,
          -1.093476842962425,
          -1.2527106884874188
         ]
        },
        {
         "line": {
          "color": "rgb(148, 52, 110)",
          "width": 2
         },
         "mode": "lines+markers",
         "name": "News Frequency (Shifted by 13 years)",
         "type": "scatter",
         "visible": false,
         "x": [
          1930,
          1931,
          1932,
          1933,
          1934,
          1935,
          1936,
          1937,
          1938,
          1939,
          1940,
          1941,
          1942,
          1943,
          1944,
          1945,
          1946,
          1947,
          1948,
          1949,
          1950,
          1951,
          1952,
          1953,
          1954,
          1955,
          1956,
          1957,
          1958,
          1959,
          1960,
          1961,
          1962,
          1963,
          1964,
          1965,
          1966,
          1967,
          1968,
          1969,
          1970,
          1971,
          1972,
          1973,
          1974,
          1975,
          1976,
          1977,
          1978,
          1979,
          1980,
          1981,
          1982,
          1983,
          1984,
          1985,
          1986,
          1987,
          1988,
          1989,
          1990,
          1991,
          1992,
          1993,
          1994,
          1995,
          1996,
          1997,
          1998,
          1999,
          2000,
          2001,
          2002,
          2003,
          2004,
          2005,
          2006,
          2007,
          2008,
          2009,
          2010,
          2011,
          2012,
          2013,
          2014,
          2015
         ],
         "y": [
          -1.2527106884874188,
          -0.9054046019497809,
          -0.22481738590947492,
          -0.938437021976522,
          -1.1850393221179005,
          -1.3378864723577115,
          -1.5041727019616873,
          -1.3792969580177128,
          -1.3068689192049456,
          -1.5126902876319228,
          -0.9232848084995271,
          -0.6962360909652219,
          -0.8758659192594687,
          -0.7576139287072727,
          -0.7903612059925503,
          -0.5474835374888967,
          -0.2456724208233988,
          -0.301570482907648,
          -0.7328350992074678,
          -0.8002576463971026,
          -0.7483622063199975,
          -0.4170237356330605,
          -0.027550588321907273,
          0.016777930459893318,
          1.0107368568386927,
          0.9637397441947557,
          1.633729978604,
          1.9044031982198457,
          0.9151213135536107,
          0.8178299422245577,
          0.7773922068907236,
          1.8414395344033316,
          1.4224612099458829,
          1.3493650723018338,
          0.7901392278731111,
          1.117381161470864,
          1.5542976300321225,
          1.300600763754382,
          1.21898241036535,
          1.0897322518433272,
          0.6584092299006316,
          1.356490514518743,
          1.1984470467195387,
          1.4356851865235893,
          1.7978968393629065,
          1.2731492204388715,
          1.5722008791533644,
          0.2163811026840396,
          0.983446866216162,
          1.4679885998055082,
          1.4699988842217795,
          0.9270354134347338,
          0.5578738962316218,
          -0.1158574696137123,
          0.7885123660084198,
          0.4016558343218455,
          0.26478085628305764,
          -0.014140856616124237,
          -0.38047255669968305,
          0.013747971723989021,
          0.13789605659493331,
          -0.04928959505531014,
          -0.6226803785122488,
          1.1689386875561425,
          0.34921379744776093,
          -0.05675457006864819,
          -0.5495909254101905,
          -0.8690503023318813,
          -0.7347561936826654,
          -0.5841924666404188,
          -0.8560307543914922,
          -0.6093166834159861,
          -0.43415052907629387,
          -0.4050292048903662,
          -0.09304015969186458,
          -0.9068682303713732,
          -1.0545233779459395,
          -1.0812820226479753,
          -1.0097944089861046,
          -0.6248701409609518,
          -1.298000458061694,
          -1.4500702004993322,
          -1.2486392071519525,
          -1.1025715915203222,
          -1.1079885247803787,
          -1.093476842962425
         ]
        },
        {
         "line": {
          "color": "rgb(148, 52, 110)",
          "width": 2
         },
         "mode": "lines+markers",
         "name": "News Frequency (Shifted by 14 years)",
         "type": "scatter",
         "visible": false,
         "x": [
          1930,
          1931,
          1932,
          1933,
          1934,
          1935,
          1936,
          1937,
          1938,
          1939,
          1940,
          1941,
          1942,
          1943,
          1944,
          1945,
          1946,
          1947,
          1948,
          1949,
          1950,
          1951,
          1952,
          1953,
          1954,
          1955,
          1956,
          1957,
          1958,
          1959,
          1960,
          1961,
          1962,
          1963,
          1964,
          1965,
          1966,
          1967,
          1968,
          1969,
          1970,
          1971,
          1972,
          1973,
          1974,
          1975,
          1976,
          1977,
          1978,
          1979,
          1980,
          1981,
          1982,
          1983,
          1984,
          1985,
          1986,
          1987,
          1988,
          1989,
          1990,
          1991,
          1992,
          1993,
          1994,
          1995,
          1996,
          1997,
          1998,
          1999,
          2000,
          2001,
          2002,
          2003,
          2004,
          2005,
          2006,
          2007,
          2008,
          2009,
          2010,
          2011,
          2012,
          2013,
          2014,
          2015
         ],
         "y": [
          -1.093476842962425,
          -1.2527106884874188,
          -0.9054046019497809,
          -0.22481738590947492,
          -0.938437021976522,
          -1.1850393221179005,
          -1.3378864723577115,
          -1.5041727019616873,
          -1.3792969580177128,
          -1.3068689192049456,
          -1.5126902876319228,
          -0.9232848084995271,
          -0.6962360909652219,
          -0.8758659192594687,
          -0.7576139287072727,
          -0.7903612059925503,
          -0.5474835374888967,
          -0.2456724208233988,
          -0.301570482907648,
          -0.7328350992074678,
          -0.8002576463971026,
          -0.7483622063199975,
          -0.4170237356330605,
          -0.027550588321907273,
          0.016777930459893318,
          1.0107368568386927,
          0.9637397441947557,
          1.633729978604,
          1.9044031982198457,
          0.9151213135536107,
          0.8178299422245577,
          0.7773922068907236,
          1.8414395344033316,
          1.4224612099458829,
          1.3493650723018338,
          0.7901392278731111,
          1.117381161470864,
          1.5542976300321225,
          1.300600763754382,
          1.21898241036535,
          1.0897322518433272,
          0.6584092299006316,
          1.356490514518743,
          1.1984470467195387,
          1.4356851865235893,
          1.7978968393629065,
          1.2731492204388715,
          1.5722008791533644,
          0.2163811026840396,
          0.983446866216162,
          1.4679885998055082,
          1.4699988842217795,
          0.9270354134347338,
          0.5578738962316218,
          -0.1158574696137123,
          0.7885123660084198,
          0.4016558343218455,
          0.26478085628305764,
          -0.014140856616124237,
          -0.38047255669968305,
          0.013747971723989021,
          0.13789605659493331,
          -0.04928959505531014,
          -0.6226803785122488,
          1.1689386875561425,
          0.34921379744776093,
          -0.05675457006864819,
          -0.5495909254101905,
          -0.8690503023318813,
          -0.7347561936826654,
          -0.5841924666404188,
          -0.8560307543914922,
          -0.6093166834159861,
          -0.43415052907629387,
          -0.4050292048903662,
          -0.09304015969186458,
          -0.9068682303713732,
          -1.0545233779459395,
          -1.0812820226479753,
          -1.0097944089861046,
          -0.6248701409609518,
          -1.298000458061694,
          -1.4500702004993322,
          -1.2486392071519525,
          -1.1025715915203222,
          -1.1079885247803787
         ]
        },
        {
         "line": {
          "color": "rgb(148, 52, 110)",
          "width": 2
         },
         "mode": "lines+markers",
         "name": "News Frequency (Shifted by 15 years)",
         "type": "scatter",
         "visible": false,
         "x": [
          1930,
          1931,
          1932,
          1933,
          1934,
          1935,
          1936,
          1937,
          1938,
          1939,
          1940,
          1941,
          1942,
          1943,
          1944,
          1945,
          1946,
          1947,
          1948,
          1949,
          1950,
          1951,
          1952,
          1953,
          1954,
          1955,
          1956,
          1957,
          1958,
          1959,
          1960,
          1961,
          1962,
          1963,
          1964,
          1965,
          1966,
          1967,
          1968,
          1969,
          1970,
          1971,
          1972,
          1973,
          1974,
          1975,
          1976,
          1977,
          1978,
          1979,
          1980,
          1981,
          1982,
          1983,
          1984,
          1985,
          1986,
          1987,
          1988,
          1989,
          1990,
          1991,
          1992,
          1993,
          1994,
          1995,
          1996,
          1997,
          1998,
          1999,
          2000,
          2001,
          2002,
          2003,
          2004,
          2005,
          2006,
          2007,
          2008,
          2009,
          2010,
          2011,
          2012,
          2013,
          2014,
          2015
         ],
         "y": [
          -1.1079885247803787,
          -1.093476842962425,
          -1.2527106884874188,
          -0.9054046019497809,
          -0.22481738590947492,
          -0.938437021976522,
          -1.1850393221179005,
          -1.3378864723577115,
          -1.5041727019616873,
          -1.3792969580177128,
          -1.3068689192049456,
          -1.5126902876319228,
          -0.9232848084995271,
          -0.6962360909652219,
          -0.8758659192594687,
          -0.7576139287072727,
          -0.7903612059925503,
          -0.5474835374888967,
          -0.2456724208233988,
          -0.301570482907648,
          -0.7328350992074678,
          -0.8002576463971026,
          -0.7483622063199975,
          -0.4170237356330605,
          -0.027550588321907273,
          0.016777930459893318,
          1.0107368568386927,
          0.9637397441947557,
          1.633729978604,
          1.9044031982198457,
          0.9151213135536107,
          0.8178299422245577,
          0.7773922068907236,
          1.8414395344033316,
          1.4224612099458829,
          1.3493650723018338,
          0.7901392278731111,
          1.117381161470864,
          1.5542976300321225,
          1.300600763754382,
          1.21898241036535,
          1.0897322518433272,
          0.6584092299006316,
          1.356490514518743,
          1.1984470467195387,
          1.4356851865235893,
          1.7978968393629065,
          1.2731492204388715,
          1.5722008791533644,
          0.2163811026840396,
          0.983446866216162,
          1.4679885998055082,
          1.4699988842217795,
          0.9270354134347338,
          0.5578738962316218,
          -0.1158574696137123,
          0.7885123660084198,
          0.4016558343218455,
          0.26478085628305764,
          -0.014140856616124237,
          -0.38047255669968305,
          0.013747971723989021,
          0.13789605659493331,
          -0.04928959505531014,
          -0.6226803785122488,
          1.1689386875561425,
          0.34921379744776093,
          -0.05675457006864819,
          -0.5495909254101905,
          -0.8690503023318813,
          -0.7347561936826654,
          -0.5841924666404188,
          -0.8560307543914922,
          -0.6093166834159861,
          -0.43415052907629387,
          -0.4050292048903662,
          -0.09304015969186458,
          -0.9068682303713732,
          -1.0545233779459395,
          -1.0812820226479753,
          -1.0097944089861046,
          -0.6248701409609518,
          -1.298000458061694,
          -1.4500702004993322,
          -1.2486392071519525,
          -1.1025715915203222
         ]
        },
        {
         "line": {
          "color": "rgb(148, 52, 110)",
          "width": 2
         },
         "mode": "lines+markers",
         "name": "News Frequency (Shifted by 16 years)",
         "type": "scatter",
         "visible": false,
         "x": [
          1930,
          1931,
          1932,
          1933,
          1934,
          1935,
          1936,
          1937,
          1938,
          1939,
          1940,
          1941,
          1942,
          1943,
          1944,
          1945,
          1946,
          1947,
          1948,
          1949,
          1950,
          1951,
          1952,
          1953,
          1954,
          1955,
          1956,
          1957,
          1958,
          1959,
          1960,
          1961,
          1962,
          1963,
          1964,
          1965,
          1966,
          1967,
          1968,
          1969,
          1970,
          1971,
          1972,
          1973,
          1974,
          1975,
          1976,
          1977,
          1978,
          1979,
          1980,
          1981,
          1982,
          1983,
          1984,
          1985,
          1986,
          1987,
          1988,
          1989,
          1990,
          1991,
          1992,
          1993,
          1994,
          1995,
          1996,
          1997,
          1998,
          1999,
          2000,
          2001,
          2002,
          2003,
          2004,
          2005,
          2006,
          2007,
          2008,
          2009,
          2010,
          2011,
          2012,
          2013,
          2014,
          2015
         ],
         "y": [
          -1.1025715915203222,
          -1.1079885247803787,
          -1.093476842962425,
          -1.2527106884874188,
          -0.9054046019497809,
          -0.22481738590947492,
          -0.938437021976522,
          -1.1850393221179005,
          -1.3378864723577115,
          -1.5041727019616873,
          -1.3792969580177128,
          -1.3068689192049456,
          -1.5126902876319228,
          -0.9232848084995271,
          -0.6962360909652219,
          -0.8758659192594687,
          -0.7576139287072727,
          -0.7903612059925503,
          -0.5474835374888967,
          -0.2456724208233988,
          -0.301570482907648,
          -0.7328350992074678,
          -0.8002576463971026,
          -0.7483622063199975,
          -0.4170237356330605,
          -0.027550588321907273,
          0.016777930459893318,
          1.0107368568386927,
          0.9637397441947557,
          1.633729978604,
          1.9044031982198457,
          0.9151213135536107,
          0.8178299422245577,
          0.7773922068907236,
          1.8414395344033316,
          1.4224612099458829,
          1.3493650723018338,
          0.7901392278731111,
          1.117381161470864,
          1.5542976300321225,
          1.300600763754382,
          1.21898241036535,
          1.0897322518433272,
          0.6584092299006316,
          1.356490514518743,
          1.1984470467195387,
          1.4356851865235893,
          1.7978968393629065,
          1.2731492204388715,
          1.5722008791533644,
          0.2163811026840396,
          0.983446866216162,
          1.4679885998055082,
          1.4699988842217795,
          0.9270354134347338,
          0.5578738962316218,
          -0.1158574696137123,
          0.7885123660084198,
          0.4016558343218455,
          0.26478085628305764,
          -0.014140856616124237,
          -0.38047255669968305,
          0.013747971723989021,
          0.13789605659493331,
          -0.04928959505531014,
          -0.6226803785122488,
          1.1689386875561425,
          0.34921379744776093,
          -0.05675457006864819,
          -0.5495909254101905,
          -0.8690503023318813,
          -0.7347561936826654,
          -0.5841924666404188,
          -0.8560307543914922,
          -0.6093166834159861,
          -0.43415052907629387,
          -0.4050292048903662,
          -0.09304015969186458,
          -0.9068682303713732,
          -1.0545233779459395,
          -1.0812820226479753,
          -1.0097944089861046,
          -0.6248701409609518,
          -1.298000458061694,
          -1.4500702004993322,
          -1.2486392071519525
         ]
        },
        {
         "line": {
          "color": "rgb(148, 52, 110)",
          "width": 2
         },
         "mode": "lines+markers",
         "name": "News Frequency (Shifted by 17 years)",
         "type": "scatter",
         "visible": false,
         "x": [
          1930,
          1931,
          1932,
          1933,
          1934,
          1935,
          1936,
          1937,
          1938,
          1939,
          1940,
          1941,
          1942,
          1943,
          1944,
          1945,
          1946,
          1947,
          1948,
          1949,
          1950,
          1951,
          1952,
          1953,
          1954,
          1955,
          1956,
          1957,
          1958,
          1959,
          1960,
          1961,
          1962,
          1963,
          1964,
          1965,
          1966,
          1967,
          1968,
          1969,
          1970,
          1971,
          1972,
          1973,
          1974,
          1975,
          1976,
          1977,
          1978,
          1979,
          1980,
          1981,
          1982,
          1983,
          1984,
          1985,
          1986,
          1987,
          1988,
          1989,
          1990,
          1991,
          1992,
          1993,
          1994,
          1995,
          1996,
          1997,
          1998,
          1999,
          2000,
          2001,
          2002,
          2003,
          2004,
          2005,
          2006,
          2007,
          2008,
          2009,
          2010,
          2011,
          2012,
          2013,
          2014,
          2015
         ],
         "y": [
          -1.2486392071519525,
          -1.1025715915203222,
          -1.1079885247803787,
          -1.093476842962425,
          -1.2527106884874188,
          -0.9054046019497809,
          -0.22481738590947492,
          -0.938437021976522,
          -1.1850393221179005,
          -1.3378864723577115,
          -1.5041727019616873,
          -1.3792969580177128,
          -1.3068689192049456,
          -1.5126902876319228,
          -0.9232848084995271,
          -0.6962360909652219,
          -0.8758659192594687,
          -0.7576139287072727,
          -0.7903612059925503,
          -0.5474835374888967,
          -0.2456724208233988,
          -0.301570482907648,
          -0.7328350992074678,
          -0.8002576463971026,
          -0.7483622063199975,
          -0.4170237356330605,
          -0.027550588321907273,
          0.016777930459893318,
          1.0107368568386927,
          0.9637397441947557,
          1.633729978604,
          1.9044031982198457,
          0.9151213135536107,
          0.8178299422245577,
          0.7773922068907236,
          1.8414395344033316,
          1.4224612099458829,
          1.3493650723018338,
          0.7901392278731111,
          1.117381161470864,
          1.5542976300321225,
          1.300600763754382,
          1.21898241036535,
          1.0897322518433272,
          0.6584092299006316,
          1.356490514518743,
          1.1984470467195387,
          1.4356851865235893,
          1.7978968393629065,
          1.2731492204388715,
          1.5722008791533644,
          0.2163811026840396,
          0.983446866216162,
          1.4679885998055082,
          1.4699988842217795,
          0.9270354134347338,
          0.5578738962316218,
          -0.1158574696137123,
          0.7885123660084198,
          0.4016558343218455,
          0.26478085628305764,
          -0.014140856616124237,
          -0.38047255669968305,
          0.013747971723989021,
          0.13789605659493331,
          -0.04928959505531014,
          -0.6226803785122488,
          1.1689386875561425,
          0.34921379744776093,
          -0.05675457006864819,
          -0.5495909254101905,
          -0.8690503023318813,
          -0.7347561936826654,
          -0.5841924666404188,
          -0.8560307543914922,
          -0.6093166834159861,
          -0.43415052907629387,
          -0.4050292048903662,
          -0.09304015969186458,
          -0.9068682303713732,
          -1.0545233779459395,
          -1.0812820226479753,
          -1.0097944089861046,
          -0.6248701409609518,
          -1.298000458061694,
          -1.4500702004993322
         ]
        },
        {
         "line": {
          "color": "rgb(148, 52, 110)",
          "width": 2
         },
         "mode": "lines+markers",
         "name": "News Frequency (Shifted by 18 years)",
         "type": "scatter",
         "visible": false,
         "x": [
          1930,
          1931,
          1932,
          1933,
          1934,
          1935,
          1936,
          1937,
          1938,
          1939,
          1940,
          1941,
          1942,
          1943,
          1944,
          1945,
          1946,
          1947,
          1948,
          1949,
          1950,
          1951,
          1952,
          1953,
          1954,
          1955,
          1956,
          1957,
          1958,
          1959,
          1960,
          1961,
          1962,
          1963,
          1964,
          1965,
          1966,
          1967,
          1968,
          1969,
          1970,
          1971,
          1972,
          1973,
          1974,
          1975,
          1976,
          1977,
          1978,
          1979,
          1980,
          1981,
          1982,
          1983,
          1984,
          1985,
          1986,
          1987,
          1988,
          1989,
          1990,
          1991,
          1992,
          1993,
          1994,
          1995,
          1996,
          1997,
          1998,
          1999,
          2000,
          2001,
          2002,
          2003,
          2004,
          2005,
          2006,
          2007,
          2008,
          2009,
          2010,
          2011,
          2012,
          2013,
          2014,
          2015
         ],
         "y": [
          -1.4500702004993322,
          -1.2486392071519525,
          -1.1025715915203222,
          -1.1079885247803787,
          -1.093476842962425,
          -1.2527106884874188,
          -0.9054046019497809,
          -0.22481738590947492,
          -0.938437021976522,
          -1.1850393221179005,
          -1.3378864723577115,
          -1.5041727019616873,
          -1.3792969580177128,
          -1.3068689192049456,
          -1.5126902876319228,
          -0.9232848084995271,
          -0.6962360909652219,
          -0.8758659192594687,
          -0.7576139287072727,
          -0.7903612059925503,
          -0.5474835374888967,
          -0.2456724208233988,
          -0.301570482907648,
          -0.7328350992074678,
          -0.8002576463971026,
          -0.7483622063199975,
          -0.4170237356330605,
          -0.027550588321907273,
          0.016777930459893318,
          1.0107368568386927,
          0.9637397441947557,
          1.633729978604,
          1.9044031982198457,
          0.9151213135536107,
          0.8178299422245577,
          0.7773922068907236,
          1.8414395344033316,
          1.4224612099458829,
          1.3493650723018338,
          0.7901392278731111,
          1.117381161470864,
          1.5542976300321225,
          1.300600763754382,
          1.21898241036535,
          1.0897322518433272,
          0.6584092299006316,
          1.356490514518743,
          1.1984470467195387,
          1.4356851865235893,
          1.7978968393629065,
          1.2731492204388715,
          1.5722008791533644,
          0.2163811026840396,
          0.983446866216162,
          1.4679885998055082,
          1.4699988842217795,
          0.9270354134347338,
          0.5578738962316218,
          -0.1158574696137123,
          0.7885123660084198,
          0.4016558343218455,
          0.26478085628305764,
          -0.014140856616124237,
          -0.38047255669968305,
          0.013747971723989021,
          0.13789605659493331,
          -0.04928959505531014,
          -0.6226803785122488,
          1.1689386875561425,
          0.34921379744776093,
          -0.05675457006864819,
          -0.5495909254101905,
          -0.8690503023318813,
          -0.7347561936826654,
          -0.5841924666404188,
          -0.8560307543914922,
          -0.6093166834159861,
          -0.43415052907629387,
          -0.4050292048903662,
          -0.09304015969186458,
          -0.9068682303713732,
          -1.0545233779459395,
          -1.0812820226479753,
          -1.0097944089861046,
          -0.6248701409609518,
          -1.298000458061694
         ]
        },
        {
         "line": {
          "color": "rgb(148, 52, 110)",
          "width": 2
         },
         "mode": "lines+markers",
         "name": "News Frequency (Shifted by 19 years)",
         "type": "scatter",
         "visible": false,
         "x": [
          1930,
          1931,
          1932,
          1933,
          1934,
          1935,
          1936,
          1937,
          1938,
          1939,
          1940,
          1941,
          1942,
          1943,
          1944,
          1945,
          1946,
          1947,
          1948,
          1949,
          1950,
          1951,
          1952,
          1953,
          1954,
          1955,
          1956,
          1957,
          1958,
          1959,
          1960,
          1961,
          1962,
          1963,
          1964,
          1965,
          1966,
          1967,
          1968,
          1969,
          1970,
          1971,
          1972,
          1973,
          1974,
          1975,
          1976,
          1977,
          1978,
          1979,
          1980,
          1981,
          1982,
          1983,
          1984,
          1985,
          1986,
          1987,
          1988,
          1989,
          1990,
          1991,
          1992,
          1993,
          1994,
          1995,
          1996,
          1997,
          1998,
          1999,
          2000,
          2001,
          2002,
          2003,
          2004,
          2005,
          2006,
          2007,
          2008,
          2009,
          2010,
          2011,
          2012,
          2013,
          2014,
          2015
         ],
         "y": [
          -1.298000458061694,
          -1.4500702004993322,
          -1.2486392071519525,
          -1.1025715915203222,
          -1.1079885247803787,
          -1.093476842962425,
          -1.2527106884874188,
          -0.9054046019497809,
          -0.22481738590947492,
          -0.938437021976522,
          -1.1850393221179005,
          -1.3378864723577115,
          -1.5041727019616873,
          -1.3792969580177128,
          -1.3068689192049456,
          -1.5126902876319228,
          -0.9232848084995271,
          -0.6962360909652219,
          -0.8758659192594687,
          -0.7576139287072727,
          -0.7903612059925503,
          -0.5474835374888967,
          -0.2456724208233988,
          -0.301570482907648,
          -0.7328350992074678,
          -0.8002576463971026,
          -0.7483622063199975,
          -0.4170237356330605,
          -0.027550588321907273,
          0.016777930459893318,
          1.0107368568386927,
          0.9637397441947557,
          1.633729978604,
          1.9044031982198457,
          0.9151213135536107,
          0.8178299422245577,
          0.7773922068907236,
          1.8414395344033316,
          1.4224612099458829,
          1.3493650723018338,
          0.7901392278731111,
          1.117381161470864,
          1.5542976300321225,
          1.300600763754382,
          1.21898241036535,
          1.0897322518433272,
          0.6584092299006316,
          1.356490514518743,
          1.1984470467195387,
          1.4356851865235893,
          1.7978968393629065,
          1.2731492204388715,
          1.5722008791533644,
          0.2163811026840396,
          0.983446866216162,
          1.4679885998055082,
          1.4699988842217795,
          0.9270354134347338,
          0.5578738962316218,
          -0.1158574696137123,
          0.7885123660084198,
          0.4016558343218455,
          0.26478085628305764,
          -0.014140856616124237,
          -0.38047255669968305,
          0.013747971723989021,
          0.13789605659493331,
          -0.04928959505531014,
          -0.6226803785122488,
          1.1689386875561425,
          0.34921379744776093,
          -0.05675457006864819,
          -0.5495909254101905,
          -0.8690503023318813,
          -0.7347561936826654,
          -0.5841924666404188,
          -0.8560307543914922,
          -0.6093166834159861,
          -0.43415052907629387,
          -0.4050292048903662,
          -0.09304015969186458,
          -0.9068682303713732,
          -1.0545233779459395,
          -1.0812820226479753,
          -1.0097944089861046,
          -0.6248701409609518
         ]
        },
        {
         "line": {
          "color": "rgb(148, 52, 110)",
          "width": 2
         },
         "mode": "lines+markers",
         "name": "News Frequency (Shifted by 20 years)",
         "type": "scatter",
         "visible": false,
         "x": [
          1930,
          1931,
          1932,
          1933,
          1934,
          1935,
          1936,
          1937,
          1938,
          1939,
          1940,
          1941,
          1942,
          1943,
          1944,
          1945,
          1946,
          1947,
          1948,
          1949,
          1950,
          1951,
          1952,
          1953,
          1954,
          1955,
          1956,
          1957,
          1958,
          1959,
          1960,
          1961,
          1962,
          1963,
          1964,
          1965,
          1966,
          1967,
          1968,
          1969,
          1970,
          1971,
          1972,
          1973,
          1974,
          1975,
          1976,
          1977,
          1978,
          1979,
          1980,
          1981,
          1982,
          1983,
          1984,
          1985,
          1986,
          1987,
          1988,
          1989,
          1990,
          1991,
          1992,
          1993,
          1994,
          1995,
          1996,
          1997,
          1998,
          1999,
          2000,
          2001,
          2002,
          2003,
          2004,
          2005,
          2006,
          2007,
          2008,
          2009,
          2010,
          2011,
          2012,
          2013,
          2014,
          2015
         ],
         "y": [
          -0.6248701409609518,
          -1.298000458061694,
          -1.4500702004993322,
          -1.2486392071519525,
          -1.1025715915203222,
          -1.1079885247803787,
          -1.093476842962425,
          -1.2527106884874188,
          -0.9054046019497809,
          -0.22481738590947492,
          -0.938437021976522,
          -1.1850393221179005,
          -1.3378864723577115,
          -1.5041727019616873,
          -1.3792969580177128,
          -1.3068689192049456,
          -1.5126902876319228,
          -0.9232848084995271,
          -0.6962360909652219,
          -0.8758659192594687,
          -0.7576139287072727,
          -0.7903612059925503,
          -0.5474835374888967,
          -0.2456724208233988,
          -0.301570482907648,
          -0.7328350992074678,
          -0.8002576463971026,
          -0.7483622063199975,
          -0.4170237356330605,
          -0.027550588321907273,
          0.016777930459893318,
          1.0107368568386927,
          0.9637397441947557,
          1.633729978604,
          1.9044031982198457,
          0.9151213135536107,
          0.8178299422245577,
          0.7773922068907236,
          1.8414395344033316,
          1.4224612099458829,
          1.3493650723018338,
          0.7901392278731111,
          1.117381161470864,
          1.5542976300321225,
          1.300600763754382,
          1.21898241036535,
          1.0897322518433272,
          0.6584092299006316,
          1.356490514518743,
          1.1984470467195387,
          1.4356851865235893,
          1.7978968393629065,
          1.2731492204388715,
          1.5722008791533644,
          0.2163811026840396,
          0.983446866216162,
          1.4679885998055082,
          1.4699988842217795,
          0.9270354134347338,
          0.5578738962316218,
          -0.1158574696137123,
          0.7885123660084198,
          0.4016558343218455,
          0.26478085628305764,
          -0.014140856616124237,
          -0.38047255669968305,
          0.013747971723989021,
          0.13789605659493331,
          -0.04928959505531014,
          -0.6226803785122488,
          1.1689386875561425,
          0.34921379744776093,
          -0.05675457006864819,
          -0.5495909254101905,
          -0.8690503023318813,
          -0.7347561936826654,
          -0.5841924666404188,
          -0.8560307543914922,
          -0.6093166834159861,
          -0.43415052907629387,
          -0.4050292048903662,
          -0.09304015969186458,
          -0.9068682303713732,
          -1.0545233779459395,
          -1.0812820226479753,
          -1.0097944089861046
         ]
        },
        {
         "line": {
          "color": "rgb(148, 52, 110)",
          "width": 2
         },
         "mode": "lines+markers",
         "name": "News Frequency (Shifted by 21 years)",
         "type": "scatter",
         "visible": false,
         "x": [
          1930,
          1931,
          1932,
          1933,
          1934,
          1935,
          1936,
          1937,
          1938,
          1939,
          1940,
          1941,
          1942,
          1943,
          1944,
          1945,
          1946,
          1947,
          1948,
          1949,
          1950,
          1951,
          1952,
          1953,
          1954,
          1955,
          1956,
          1957,
          1958,
          1959,
          1960,
          1961,
          1962,
          1963,
          1964,
          1965,
          1966,
          1967,
          1968,
          1969,
          1970,
          1971,
          1972,
          1973,
          1974,
          1975,
          1976,
          1977,
          1978,
          1979,
          1980,
          1981,
          1982,
          1983,
          1984,
          1985,
          1986,
          1987,
          1988,
          1989,
          1990,
          1991,
          1992,
          1993,
          1994,
          1995,
          1996,
          1997,
          1998,
          1999,
          2000,
          2001,
          2002,
          2003,
          2004,
          2005,
          2006,
          2007,
          2008,
          2009,
          2010,
          2011,
          2012,
          2013,
          2014,
          2015
         ],
         "y": [
          -1.0097944089861046,
          -0.6248701409609518,
          -1.298000458061694,
          -1.4500702004993322,
          -1.2486392071519525,
          -1.1025715915203222,
          -1.1079885247803787,
          -1.093476842962425,
          -1.2527106884874188,
          -0.9054046019497809,
          -0.22481738590947492,
          -0.938437021976522,
          -1.1850393221179005,
          -1.3378864723577115,
          -1.5041727019616873,
          -1.3792969580177128,
          -1.3068689192049456,
          -1.5126902876319228,
          -0.9232848084995271,
          -0.6962360909652219,
          -0.8758659192594687,
          -0.7576139287072727,
          -0.7903612059925503,
          -0.5474835374888967,
          -0.2456724208233988,
          -0.301570482907648,
          -0.7328350992074678,
          -0.8002576463971026,
          -0.7483622063199975,
          -0.4170237356330605,
          -0.027550588321907273,
          0.016777930459893318,
          1.0107368568386927,
          0.9637397441947557,
          1.633729978604,
          1.9044031982198457,
          0.9151213135536107,
          0.8178299422245577,
          0.7773922068907236,
          1.8414395344033316,
          1.4224612099458829,
          1.3493650723018338,
          0.7901392278731111,
          1.117381161470864,
          1.5542976300321225,
          1.300600763754382,
          1.21898241036535,
          1.0897322518433272,
          0.6584092299006316,
          1.356490514518743,
          1.1984470467195387,
          1.4356851865235893,
          1.7978968393629065,
          1.2731492204388715,
          1.5722008791533644,
          0.2163811026840396,
          0.983446866216162,
          1.4679885998055082,
          1.4699988842217795,
          0.9270354134347338,
          0.5578738962316218,
          -0.1158574696137123,
          0.7885123660084198,
          0.4016558343218455,
          0.26478085628305764,
          -0.014140856616124237,
          -0.38047255669968305,
          0.013747971723989021,
          0.13789605659493331,
          -0.04928959505531014,
          -0.6226803785122488,
          1.1689386875561425,
          0.34921379744776093,
          -0.05675457006864819,
          -0.5495909254101905,
          -0.8690503023318813,
          -0.7347561936826654,
          -0.5841924666404188,
          -0.8560307543914922,
          -0.6093166834159861,
          -0.43415052907629387,
          -0.4050292048903662,
          -0.09304015969186458,
          -0.9068682303713732,
          -1.0545233779459395,
          -1.0812820226479753
         ]
        },
        {
         "line": {
          "color": "rgb(148, 52, 110)",
          "width": 2
         },
         "mode": "lines+markers",
         "name": "News Frequency (Shifted by 22 years)",
         "type": "scatter",
         "visible": false,
         "x": [
          1930,
          1931,
          1932,
          1933,
          1934,
          1935,
          1936,
          1937,
          1938,
          1939,
          1940,
          1941,
          1942,
          1943,
          1944,
          1945,
          1946,
          1947,
          1948,
          1949,
          1950,
          1951,
          1952,
          1953,
          1954,
          1955,
          1956,
          1957,
          1958,
          1959,
          1960,
          1961,
          1962,
          1963,
          1964,
          1965,
          1966,
          1967,
          1968,
          1969,
          1970,
          1971,
          1972,
          1973,
          1974,
          1975,
          1976,
          1977,
          1978,
          1979,
          1980,
          1981,
          1982,
          1983,
          1984,
          1985,
          1986,
          1987,
          1988,
          1989,
          1990,
          1991,
          1992,
          1993,
          1994,
          1995,
          1996,
          1997,
          1998,
          1999,
          2000,
          2001,
          2002,
          2003,
          2004,
          2005,
          2006,
          2007,
          2008,
          2009,
          2010,
          2011,
          2012,
          2013,
          2014,
          2015
         ],
         "y": [
          -1.0812820226479753,
          -1.0097944089861046,
          -0.6248701409609518,
          -1.298000458061694,
          -1.4500702004993322,
          -1.2486392071519525,
          -1.1025715915203222,
          -1.1079885247803787,
          -1.093476842962425,
          -1.2527106884874188,
          -0.9054046019497809,
          -0.22481738590947492,
          -0.938437021976522,
          -1.1850393221179005,
          -1.3378864723577115,
          -1.5041727019616873,
          -1.3792969580177128,
          -1.3068689192049456,
          -1.5126902876319228,
          -0.9232848084995271,
          -0.6962360909652219,
          -0.8758659192594687,
          -0.7576139287072727,
          -0.7903612059925503,
          -0.5474835374888967,
          -0.2456724208233988,
          -0.301570482907648,
          -0.7328350992074678,
          -0.8002576463971026,
          -0.7483622063199975,
          -0.4170237356330605,
          -0.027550588321907273,
          0.016777930459893318,
          1.0107368568386927,
          0.9637397441947557,
          1.633729978604,
          1.9044031982198457,
          0.9151213135536107,
          0.8178299422245577,
          0.7773922068907236,
          1.8414395344033316,
          1.4224612099458829,
          1.3493650723018338,
          0.7901392278731111,
          1.117381161470864,
          1.5542976300321225,
          1.300600763754382,
          1.21898241036535,
          1.0897322518433272,
          0.6584092299006316,
          1.356490514518743,
          1.1984470467195387,
          1.4356851865235893,
          1.7978968393629065,
          1.2731492204388715,
          1.5722008791533644,
          0.2163811026840396,
          0.983446866216162,
          1.4679885998055082,
          1.4699988842217795,
          0.9270354134347338,
          0.5578738962316218,
          -0.1158574696137123,
          0.7885123660084198,
          0.4016558343218455,
          0.26478085628305764,
          -0.014140856616124237,
          -0.38047255669968305,
          0.013747971723989021,
          0.13789605659493331,
          -0.04928959505531014,
          -0.6226803785122488,
          1.1689386875561425,
          0.34921379744776093,
          -0.05675457006864819,
          -0.5495909254101905,
          -0.8690503023318813,
          -0.7347561936826654,
          -0.5841924666404188,
          -0.8560307543914922,
          -0.6093166834159861,
          -0.43415052907629387,
          -0.4050292048903662,
          -0.09304015969186458,
          -0.9068682303713732,
          -1.0545233779459395
         ]
        },
        {
         "line": {
          "color": "rgb(148, 52, 110)",
          "width": 2
         },
         "mode": "lines+markers",
         "name": "News Frequency (Shifted by 23 years)",
         "type": "scatter",
         "visible": false,
         "x": [
          1930,
          1931,
          1932,
          1933,
          1934,
          1935,
          1936,
          1937,
          1938,
          1939,
          1940,
          1941,
          1942,
          1943,
          1944,
          1945,
          1946,
          1947,
          1948,
          1949,
          1950,
          1951,
          1952,
          1953,
          1954,
          1955,
          1956,
          1957,
          1958,
          1959,
          1960,
          1961,
          1962,
          1963,
          1964,
          1965,
          1966,
          1967,
          1968,
          1969,
          1970,
          1971,
          1972,
          1973,
          1974,
          1975,
          1976,
          1977,
          1978,
          1979,
          1980,
          1981,
          1982,
          1983,
          1984,
          1985,
          1986,
          1987,
          1988,
          1989,
          1990,
          1991,
          1992,
          1993,
          1994,
          1995,
          1996,
          1997,
          1998,
          1999,
          2000,
          2001,
          2002,
          2003,
          2004,
          2005,
          2006,
          2007,
          2008,
          2009,
          2010,
          2011,
          2012,
          2013,
          2014,
          2015
         ],
         "y": [
          -1.0545233779459395,
          -1.0812820226479753,
          -1.0097944089861046,
          -0.6248701409609518,
          -1.298000458061694,
          -1.4500702004993322,
          -1.2486392071519525,
          -1.1025715915203222,
          -1.1079885247803787,
          -1.093476842962425,
          -1.2527106884874188,
          -0.9054046019497809,
          -0.22481738590947492,
          -0.938437021976522,
          -1.1850393221179005,
          -1.3378864723577115,
          -1.5041727019616873,
          -1.3792969580177128,
          -1.3068689192049456,
          -1.5126902876319228,
          -0.9232848084995271,
          -0.6962360909652219,
          -0.8758659192594687,
          -0.7576139287072727,
          -0.7903612059925503,
          -0.5474835374888967,
          -0.2456724208233988,
          -0.301570482907648,
          -0.7328350992074678,
          -0.8002576463971026,
          -0.7483622063199975,
          -0.4170237356330605,
          -0.027550588321907273,
          0.016777930459893318,
          1.0107368568386927,
          0.9637397441947557,
          1.633729978604,
          1.9044031982198457,
          0.9151213135536107,
          0.8178299422245577,
          0.7773922068907236,
          1.8414395344033316,
          1.4224612099458829,
          1.3493650723018338,
          0.7901392278731111,
          1.117381161470864,
          1.5542976300321225,
          1.300600763754382,
          1.21898241036535,
          1.0897322518433272,
          0.6584092299006316,
          1.356490514518743,
          1.1984470467195387,
          1.4356851865235893,
          1.7978968393629065,
          1.2731492204388715,
          1.5722008791533644,
          0.2163811026840396,
          0.983446866216162,
          1.4679885998055082,
          1.4699988842217795,
          0.9270354134347338,
          0.5578738962316218,
          -0.1158574696137123,
          0.7885123660084198,
          0.4016558343218455,
          0.26478085628305764,
          -0.014140856616124237,
          -0.38047255669968305,
          0.013747971723989021,
          0.13789605659493331,
          -0.04928959505531014,
          -0.6226803785122488,
          1.1689386875561425,
          0.34921379744776093,
          -0.05675457006864819,
          -0.5495909254101905,
          -0.8690503023318813,
          -0.7347561936826654,
          -0.5841924666404188,
          -0.8560307543914922,
          -0.6093166834159861,
          -0.43415052907629387,
          -0.4050292048903662,
          -0.09304015969186458,
          -0.9068682303713732
         ]
        },
        {
         "line": {
          "color": "rgb(148, 52, 110)",
          "width": 2
         },
         "mode": "lines+markers",
         "name": "News Frequency (Shifted by 24 years)",
         "type": "scatter",
         "visible": false,
         "x": [
          1930,
          1931,
          1932,
          1933,
          1934,
          1935,
          1936,
          1937,
          1938,
          1939,
          1940,
          1941,
          1942,
          1943,
          1944,
          1945,
          1946,
          1947,
          1948,
          1949,
          1950,
          1951,
          1952,
          1953,
          1954,
          1955,
          1956,
          1957,
          1958,
          1959,
          1960,
          1961,
          1962,
          1963,
          1964,
          1965,
          1966,
          1967,
          1968,
          1969,
          1970,
          1971,
          1972,
          1973,
          1974,
          1975,
          1976,
          1977,
          1978,
          1979,
          1980,
          1981,
          1982,
          1983,
          1984,
          1985,
          1986,
          1987,
          1988,
          1989,
          1990,
          1991,
          1992,
          1993,
          1994,
          1995,
          1996,
          1997,
          1998,
          1999,
          2000,
          2001,
          2002,
          2003,
          2004,
          2005,
          2006,
          2007,
          2008,
          2009,
          2010,
          2011,
          2012,
          2013,
          2014,
          2015
         ],
         "y": [
          -0.9068682303713732,
          -1.0545233779459395,
          -1.0812820226479753,
          -1.0097944089861046,
          -0.6248701409609518,
          -1.298000458061694,
          -1.4500702004993322,
          -1.2486392071519525,
          -1.1025715915203222,
          -1.1079885247803787,
          -1.093476842962425,
          -1.2527106884874188,
          -0.9054046019497809,
          -0.22481738590947492,
          -0.938437021976522,
          -1.1850393221179005,
          -1.3378864723577115,
          -1.5041727019616873,
          -1.3792969580177128,
          -1.3068689192049456,
          -1.5126902876319228,
          -0.9232848084995271,
          -0.6962360909652219,
          -0.8758659192594687,
          -0.7576139287072727,
          -0.7903612059925503,
          -0.5474835374888967,
          -0.2456724208233988,
          -0.301570482907648,
          -0.7328350992074678,
          -0.8002576463971026,
          -0.7483622063199975,
          -0.4170237356330605,
          -0.027550588321907273,
          0.016777930459893318,
          1.0107368568386927,
          0.9637397441947557,
          1.633729978604,
          1.9044031982198457,
          0.9151213135536107,
          0.8178299422245577,
          0.7773922068907236,
          1.8414395344033316,
          1.4224612099458829,
          1.3493650723018338,
          0.7901392278731111,
          1.117381161470864,
          1.5542976300321225,
          1.300600763754382,
          1.21898241036535,
          1.0897322518433272,
          0.6584092299006316,
          1.356490514518743,
          1.1984470467195387,
          1.4356851865235893,
          1.7978968393629065,
          1.2731492204388715,
          1.5722008791533644,
          0.2163811026840396,
          0.983446866216162,
          1.4679885998055082,
          1.4699988842217795,
          0.9270354134347338,
          0.5578738962316218,
          -0.1158574696137123,
          0.7885123660084198,
          0.4016558343218455,
          0.26478085628305764,
          -0.014140856616124237,
          -0.38047255669968305,
          0.013747971723989021,
          0.13789605659493331,
          -0.04928959505531014,
          -0.6226803785122488,
          1.1689386875561425,
          0.34921379744776093,
          -0.05675457006864819,
          -0.5495909254101905,
          -0.8690503023318813,
          -0.7347561936826654,
          -0.5841924666404188,
          -0.8560307543914922,
          -0.6093166834159861,
          -0.43415052907629387,
          -0.4050292048903662,
          -0.09304015969186458
         ]
        },
        {
         "line": {
          "color": "rgb(148, 52, 110)",
          "width": 2
         },
         "mode": "lines+markers",
         "name": "News Frequency (Shifted by 25 years)",
         "type": "scatter",
         "visible": false,
         "x": [
          1930,
          1931,
          1932,
          1933,
          1934,
          1935,
          1936,
          1937,
          1938,
          1939,
          1940,
          1941,
          1942,
          1943,
          1944,
          1945,
          1946,
          1947,
          1948,
          1949,
          1950,
          1951,
          1952,
          1953,
          1954,
          1955,
          1956,
          1957,
          1958,
          1959,
          1960,
          1961,
          1962,
          1963,
          1964,
          1965,
          1966,
          1967,
          1968,
          1969,
          1970,
          1971,
          1972,
          1973,
          1974,
          1975,
          1976,
          1977,
          1978,
          1979,
          1980,
          1981,
          1982,
          1983,
          1984,
          1985,
          1986,
          1987,
          1988,
          1989,
          1990,
          1991,
          1992,
          1993,
          1994,
          1995,
          1996,
          1997,
          1998,
          1999,
          2000,
          2001,
          2002,
          2003,
          2004,
          2005,
          2006,
          2007,
          2008,
          2009,
          2010,
          2011,
          2012,
          2013,
          2014,
          2015
         ],
         "y": [
          -0.09304015969186458,
          -0.9068682303713732,
          -1.0545233779459395,
          -1.0812820226479753,
          -1.0097944089861046,
          -0.6248701409609518,
          -1.298000458061694,
          -1.4500702004993322,
          -1.2486392071519525,
          -1.1025715915203222,
          -1.1079885247803787,
          -1.093476842962425,
          -1.2527106884874188,
          -0.9054046019497809,
          -0.22481738590947492,
          -0.938437021976522,
          -1.1850393221179005,
          -1.3378864723577115,
          -1.5041727019616873,
          -1.3792969580177128,
          -1.3068689192049456,
          -1.5126902876319228,
          -0.9232848084995271,
          -0.6962360909652219,
          -0.8758659192594687,
          -0.7576139287072727,
          -0.7903612059925503,
          -0.5474835374888967,
          -0.2456724208233988,
          -0.301570482907648,
          -0.7328350992074678,
          -0.8002576463971026,
          -0.7483622063199975,
          -0.4170237356330605,
          -0.027550588321907273,
          0.016777930459893318,
          1.0107368568386927,
          0.9637397441947557,
          1.633729978604,
          1.9044031982198457,
          0.9151213135536107,
          0.8178299422245577,
          0.7773922068907236,
          1.8414395344033316,
          1.4224612099458829,
          1.3493650723018338,
          0.7901392278731111,
          1.117381161470864,
          1.5542976300321225,
          1.300600763754382,
          1.21898241036535,
          1.0897322518433272,
          0.6584092299006316,
          1.356490514518743,
          1.1984470467195387,
          1.4356851865235893,
          1.7978968393629065,
          1.2731492204388715,
          1.5722008791533644,
          0.2163811026840396,
          0.983446866216162,
          1.4679885998055082,
          1.4699988842217795,
          0.9270354134347338,
          0.5578738962316218,
          -0.1158574696137123,
          0.7885123660084198,
          0.4016558343218455,
          0.26478085628305764,
          -0.014140856616124237,
          -0.38047255669968305,
          0.013747971723989021,
          0.13789605659493331,
          -0.04928959505531014,
          -0.6226803785122488,
          1.1689386875561425,
          0.34921379744776093,
          -0.05675457006864819,
          -0.5495909254101905,
          -0.8690503023318813,
          -0.7347561936826654,
          -0.5841924666404188,
          -0.8560307543914922,
          -0.6093166834159861,
          -0.43415052907629387,
          -0.4050292048903662
         ]
        },
        {
         "line": {
          "color": "rgb(148, 52, 110)",
          "width": 2
         },
         "mode": "lines+markers",
         "name": "News Frequency (Shifted by 26 years)",
         "type": "scatter",
         "visible": false,
         "x": [
          1930,
          1931,
          1932,
          1933,
          1934,
          1935,
          1936,
          1937,
          1938,
          1939,
          1940,
          1941,
          1942,
          1943,
          1944,
          1945,
          1946,
          1947,
          1948,
          1949,
          1950,
          1951,
          1952,
          1953,
          1954,
          1955,
          1956,
          1957,
          1958,
          1959,
          1960,
          1961,
          1962,
          1963,
          1964,
          1965,
          1966,
          1967,
          1968,
          1969,
          1970,
          1971,
          1972,
          1973,
          1974,
          1975,
          1976,
          1977,
          1978,
          1979,
          1980,
          1981,
          1982,
          1983,
          1984,
          1985,
          1986,
          1987,
          1988,
          1989,
          1990,
          1991,
          1992,
          1993,
          1994,
          1995,
          1996,
          1997,
          1998,
          1999,
          2000,
          2001,
          2002,
          2003,
          2004,
          2005,
          2006,
          2007,
          2008,
          2009,
          2010,
          2011,
          2012,
          2013,
          2014,
          2015
         ],
         "y": [
          -0.4050292048903662,
          -0.09304015969186458,
          -0.9068682303713732,
          -1.0545233779459395,
          -1.0812820226479753,
          -1.0097944089861046,
          -0.6248701409609518,
          -1.298000458061694,
          -1.4500702004993322,
          -1.2486392071519525,
          -1.1025715915203222,
          -1.1079885247803787,
          -1.093476842962425,
          -1.2527106884874188,
          -0.9054046019497809,
          -0.22481738590947492,
          -0.938437021976522,
          -1.1850393221179005,
          -1.3378864723577115,
          -1.5041727019616873,
          -1.3792969580177128,
          -1.3068689192049456,
          -1.5126902876319228,
          -0.9232848084995271,
          -0.6962360909652219,
          -0.8758659192594687,
          -0.7576139287072727,
          -0.7903612059925503,
          -0.5474835374888967,
          -0.2456724208233988,
          -0.301570482907648,
          -0.7328350992074678,
          -0.8002576463971026,
          -0.7483622063199975,
          -0.4170237356330605,
          -0.027550588321907273,
          0.016777930459893318,
          1.0107368568386927,
          0.9637397441947557,
          1.633729978604,
          1.9044031982198457,
          0.9151213135536107,
          0.8178299422245577,
          0.7773922068907236,
          1.8414395344033316,
          1.4224612099458829,
          1.3493650723018338,
          0.7901392278731111,
          1.117381161470864,
          1.5542976300321225,
          1.300600763754382,
          1.21898241036535,
          1.0897322518433272,
          0.6584092299006316,
          1.356490514518743,
          1.1984470467195387,
          1.4356851865235893,
          1.7978968393629065,
          1.2731492204388715,
          1.5722008791533644,
          0.2163811026840396,
          0.983446866216162,
          1.4679885998055082,
          1.4699988842217795,
          0.9270354134347338,
          0.5578738962316218,
          -0.1158574696137123,
          0.7885123660084198,
          0.4016558343218455,
          0.26478085628305764,
          -0.014140856616124237,
          -0.38047255669968305,
          0.013747971723989021,
          0.13789605659493331,
          -0.04928959505531014,
          -0.6226803785122488,
          1.1689386875561425,
          0.34921379744776093,
          -0.05675457006864819,
          -0.5495909254101905,
          -0.8690503023318813,
          -0.7347561936826654,
          -0.5841924666404188,
          -0.8560307543914922,
          -0.6093166834159861,
          -0.43415052907629387
         ]
        },
        {
         "line": {
          "color": "rgb(148, 52, 110)",
          "width": 2
         },
         "mode": "lines+markers",
         "name": "News Frequency (Shifted by 27 years)",
         "type": "scatter",
         "visible": false,
         "x": [
          1930,
          1931,
          1932,
          1933,
          1934,
          1935,
          1936,
          1937,
          1938,
          1939,
          1940,
          1941,
          1942,
          1943,
          1944,
          1945,
          1946,
          1947,
          1948,
          1949,
          1950,
          1951,
          1952,
          1953,
          1954,
          1955,
          1956,
          1957,
          1958,
          1959,
          1960,
          1961,
          1962,
          1963,
          1964,
          1965,
          1966,
          1967,
          1968,
          1969,
          1970,
          1971,
          1972,
          1973,
          1974,
          1975,
          1976,
          1977,
          1978,
          1979,
          1980,
          1981,
          1982,
          1983,
          1984,
          1985,
          1986,
          1987,
          1988,
          1989,
          1990,
          1991,
          1992,
          1993,
          1994,
          1995,
          1996,
          1997,
          1998,
          1999,
          2000,
          2001,
          2002,
          2003,
          2004,
          2005,
          2006,
          2007,
          2008,
          2009,
          2010,
          2011,
          2012,
          2013,
          2014,
          2015
         ],
         "y": [
          -0.43415052907629387,
          -0.4050292048903662,
          -0.09304015969186458,
          -0.9068682303713732,
          -1.0545233779459395,
          -1.0812820226479753,
          -1.0097944089861046,
          -0.6248701409609518,
          -1.298000458061694,
          -1.4500702004993322,
          -1.2486392071519525,
          -1.1025715915203222,
          -1.1079885247803787,
          -1.093476842962425,
          -1.2527106884874188,
          -0.9054046019497809,
          -0.22481738590947492,
          -0.938437021976522,
          -1.1850393221179005,
          -1.3378864723577115,
          -1.5041727019616873,
          -1.3792969580177128,
          -1.3068689192049456,
          -1.5126902876319228,
          -0.9232848084995271,
          -0.6962360909652219,
          -0.8758659192594687,
          -0.7576139287072727,
          -0.7903612059925503,
          -0.5474835374888967,
          -0.2456724208233988,
          -0.301570482907648,
          -0.7328350992074678,
          -0.8002576463971026,
          -0.7483622063199975,
          -0.4170237356330605,
          -0.027550588321907273,
          0.016777930459893318,
          1.0107368568386927,
          0.9637397441947557,
          1.633729978604,
          1.9044031982198457,
          0.9151213135536107,
          0.8178299422245577,
          0.7773922068907236,
          1.8414395344033316,
          1.4224612099458829,
          1.3493650723018338,
          0.7901392278731111,
          1.117381161470864,
          1.5542976300321225,
          1.300600763754382,
          1.21898241036535,
          1.0897322518433272,
          0.6584092299006316,
          1.356490514518743,
          1.1984470467195387,
          1.4356851865235893,
          1.7978968393629065,
          1.2731492204388715,
          1.5722008791533644,
          0.2163811026840396,
          0.983446866216162,
          1.4679885998055082,
          1.4699988842217795,
          0.9270354134347338,
          0.5578738962316218,
          -0.1158574696137123,
          0.7885123660084198,
          0.4016558343218455,
          0.26478085628305764,
          -0.014140856616124237,
          -0.38047255669968305,
          0.013747971723989021,
          0.13789605659493331,
          -0.04928959505531014,
          -0.6226803785122488,
          1.1689386875561425,
          0.34921379744776093,
          -0.05675457006864819,
          -0.5495909254101905,
          -0.8690503023318813,
          -0.7347561936826654,
          -0.5841924666404188,
          -0.8560307543914922,
          -0.6093166834159861
         ]
        },
        {
         "line": {
          "color": "rgb(148, 52, 110)",
          "width": 2
         },
         "mode": "lines+markers",
         "name": "News Frequency (Shifted by 28 years)",
         "type": "scatter",
         "visible": false,
         "x": [
          1930,
          1931,
          1932,
          1933,
          1934,
          1935,
          1936,
          1937,
          1938,
          1939,
          1940,
          1941,
          1942,
          1943,
          1944,
          1945,
          1946,
          1947,
          1948,
          1949,
          1950,
          1951,
          1952,
          1953,
          1954,
          1955,
          1956,
          1957,
          1958,
          1959,
          1960,
          1961,
          1962,
          1963,
          1964,
          1965,
          1966,
          1967,
          1968,
          1969,
          1970,
          1971,
          1972,
          1973,
          1974,
          1975,
          1976,
          1977,
          1978,
          1979,
          1980,
          1981,
          1982,
          1983,
          1984,
          1985,
          1986,
          1987,
          1988,
          1989,
          1990,
          1991,
          1992,
          1993,
          1994,
          1995,
          1996,
          1997,
          1998,
          1999,
          2000,
          2001,
          2002,
          2003,
          2004,
          2005,
          2006,
          2007,
          2008,
          2009,
          2010,
          2011,
          2012,
          2013,
          2014,
          2015
         ],
         "y": [
          -0.6093166834159861,
          -0.43415052907629387,
          -0.4050292048903662,
          -0.09304015969186458,
          -0.9068682303713732,
          -1.0545233779459395,
          -1.0812820226479753,
          -1.0097944089861046,
          -0.6248701409609518,
          -1.298000458061694,
          -1.4500702004993322,
          -1.2486392071519525,
          -1.1025715915203222,
          -1.1079885247803787,
          -1.093476842962425,
          -1.2527106884874188,
          -0.9054046019497809,
          -0.22481738590947492,
          -0.938437021976522,
          -1.1850393221179005,
          -1.3378864723577115,
          -1.5041727019616873,
          -1.3792969580177128,
          -1.3068689192049456,
          -1.5126902876319228,
          -0.9232848084995271,
          -0.6962360909652219,
          -0.8758659192594687,
          -0.7576139287072727,
          -0.7903612059925503,
          -0.5474835374888967,
          -0.2456724208233988,
          -0.301570482907648,
          -0.7328350992074678,
          -0.8002576463971026,
          -0.7483622063199975,
          -0.4170237356330605,
          -0.027550588321907273,
          0.016777930459893318,
          1.0107368568386927,
          0.9637397441947557,
          1.633729978604,
          1.9044031982198457,
          0.9151213135536107,
          0.8178299422245577,
          0.7773922068907236,
          1.8414395344033316,
          1.4224612099458829,
          1.3493650723018338,
          0.7901392278731111,
          1.117381161470864,
          1.5542976300321225,
          1.300600763754382,
          1.21898241036535,
          1.0897322518433272,
          0.6584092299006316,
          1.356490514518743,
          1.1984470467195387,
          1.4356851865235893,
          1.7978968393629065,
          1.2731492204388715,
          1.5722008791533644,
          0.2163811026840396,
          0.983446866216162,
          1.4679885998055082,
          1.4699988842217795,
          0.9270354134347338,
          0.5578738962316218,
          -0.1158574696137123,
          0.7885123660084198,
          0.4016558343218455,
          0.26478085628305764,
          -0.014140856616124237,
          -0.38047255669968305,
          0.013747971723989021,
          0.13789605659493331,
          -0.04928959505531014,
          -0.6226803785122488,
          1.1689386875561425,
          0.34921379744776093,
          -0.05675457006864819,
          -0.5495909254101905,
          -0.8690503023318813,
          -0.7347561936826654,
          -0.5841924666404188,
          -0.8560307543914922
         ]
        },
        {
         "line": {
          "color": "rgb(148, 52, 110)",
          "width": 2
         },
         "mode": "lines+markers",
         "name": "News Frequency (Shifted by 29 years)",
         "type": "scatter",
         "visible": false,
         "x": [
          1930,
          1931,
          1932,
          1933,
          1934,
          1935,
          1936,
          1937,
          1938,
          1939,
          1940,
          1941,
          1942,
          1943,
          1944,
          1945,
          1946,
          1947,
          1948,
          1949,
          1950,
          1951,
          1952,
          1953,
          1954,
          1955,
          1956,
          1957,
          1958,
          1959,
          1960,
          1961,
          1962,
          1963,
          1964,
          1965,
          1966,
          1967,
          1968,
          1969,
          1970,
          1971,
          1972,
          1973,
          1974,
          1975,
          1976,
          1977,
          1978,
          1979,
          1980,
          1981,
          1982,
          1983,
          1984,
          1985,
          1986,
          1987,
          1988,
          1989,
          1990,
          1991,
          1992,
          1993,
          1994,
          1995,
          1996,
          1997,
          1998,
          1999,
          2000,
          2001,
          2002,
          2003,
          2004,
          2005,
          2006,
          2007,
          2008,
          2009,
          2010,
          2011,
          2012,
          2013,
          2014,
          2015
         ],
         "y": [
          -0.8560307543914922,
          -0.6093166834159861,
          -0.43415052907629387,
          -0.4050292048903662,
          -0.09304015969186458,
          -0.9068682303713732,
          -1.0545233779459395,
          -1.0812820226479753,
          -1.0097944089861046,
          -0.6248701409609518,
          -1.298000458061694,
          -1.4500702004993322,
          -1.2486392071519525,
          -1.1025715915203222,
          -1.1079885247803787,
          -1.093476842962425,
          -1.2527106884874188,
          -0.9054046019497809,
          -0.22481738590947492,
          -0.938437021976522,
          -1.1850393221179005,
          -1.3378864723577115,
          -1.5041727019616873,
          -1.3792969580177128,
          -1.3068689192049456,
          -1.5126902876319228,
          -0.9232848084995271,
          -0.6962360909652219,
          -0.8758659192594687,
          -0.7576139287072727,
          -0.7903612059925503,
          -0.5474835374888967,
          -0.2456724208233988,
          -0.301570482907648,
          -0.7328350992074678,
          -0.8002576463971026,
          -0.7483622063199975,
          -0.4170237356330605,
          -0.027550588321907273,
          0.016777930459893318,
          1.0107368568386927,
          0.9637397441947557,
          1.633729978604,
          1.9044031982198457,
          0.9151213135536107,
          0.8178299422245577,
          0.7773922068907236,
          1.8414395344033316,
          1.4224612099458829,
          1.3493650723018338,
          0.7901392278731111,
          1.117381161470864,
          1.5542976300321225,
          1.300600763754382,
          1.21898241036535,
          1.0897322518433272,
          0.6584092299006316,
          1.356490514518743,
          1.1984470467195387,
          1.4356851865235893,
          1.7978968393629065,
          1.2731492204388715,
          1.5722008791533644,
          0.2163811026840396,
          0.983446866216162,
          1.4679885998055082,
          1.4699988842217795,
          0.9270354134347338,
          0.5578738962316218,
          -0.1158574696137123,
          0.7885123660084198,
          0.4016558343218455,
          0.26478085628305764,
          -0.014140856616124237,
          -0.38047255669968305,
          0.013747971723989021,
          0.13789605659493331,
          -0.04928959505531014,
          -0.6226803785122488,
          1.1689386875561425,
          0.34921379744776093,
          -0.05675457006864819,
          -0.5495909254101905,
          -0.8690503023318813,
          -0.7347561936826654,
          -0.5841924666404188
         ]
        },
        {
         "line": {
          "color": "rgb(148, 52, 110)",
          "width": 2
         },
         "mode": "lines+markers",
         "name": "News Frequency (Shifted by 30 years)",
         "type": "scatter",
         "visible": false,
         "x": [
          1930,
          1931,
          1932,
          1933,
          1934,
          1935,
          1936,
          1937,
          1938,
          1939,
          1940,
          1941,
          1942,
          1943,
          1944,
          1945,
          1946,
          1947,
          1948,
          1949,
          1950,
          1951,
          1952,
          1953,
          1954,
          1955,
          1956,
          1957,
          1958,
          1959,
          1960,
          1961,
          1962,
          1963,
          1964,
          1965,
          1966,
          1967,
          1968,
          1969,
          1970,
          1971,
          1972,
          1973,
          1974,
          1975,
          1976,
          1977,
          1978,
          1979,
          1980,
          1981,
          1982,
          1983,
          1984,
          1985,
          1986,
          1987,
          1988,
          1989,
          1990,
          1991,
          1992,
          1993,
          1994,
          1995,
          1996,
          1997,
          1998,
          1999,
          2000,
          2001,
          2002,
          2003,
          2004,
          2005,
          2006,
          2007,
          2008,
          2009,
          2010,
          2011,
          2012,
          2013,
          2014,
          2015
         ],
         "y": [
          -0.5841924666404188,
          -0.8560307543914922,
          -0.6093166834159861,
          -0.43415052907629387,
          -0.4050292048903662,
          -0.09304015969186458,
          -0.9068682303713732,
          -1.0545233779459395,
          -1.0812820226479753,
          -1.0097944089861046,
          -0.6248701409609518,
          -1.298000458061694,
          -1.4500702004993322,
          -1.2486392071519525,
          -1.1025715915203222,
          -1.1079885247803787,
          -1.093476842962425,
          -1.2527106884874188,
          -0.9054046019497809,
          -0.22481738590947492,
          -0.938437021976522,
          -1.1850393221179005,
          -1.3378864723577115,
          -1.5041727019616873,
          -1.3792969580177128,
          -1.3068689192049456,
          -1.5126902876319228,
          -0.9232848084995271,
          -0.6962360909652219,
          -0.8758659192594687,
          -0.7576139287072727,
          -0.7903612059925503,
          -0.5474835374888967,
          -0.2456724208233988,
          -0.301570482907648,
          -0.7328350992074678,
          -0.8002576463971026,
          -0.7483622063199975,
          -0.4170237356330605,
          -0.027550588321907273,
          0.016777930459893318,
          1.0107368568386927,
          0.9637397441947557,
          1.633729978604,
          1.9044031982198457,
          0.9151213135536107,
          0.8178299422245577,
          0.7773922068907236,
          1.8414395344033316,
          1.4224612099458829,
          1.3493650723018338,
          0.7901392278731111,
          1.117381161470864,
          1.5542976300321225,
          1.300600763754382,
          1.21898241036535,
          1.0897322518433272,
          0.6584092299006316,
          1.356490514518743,
          1.1984470467195387,
          1.4356851865235893,
          1.7978968393629065,
          1.2731492204388715,
          1.5722008791533644,
          0.2163811026840396,
          0.983446866216162,
          1.4679885998055082,
          1.4699988842217795,
          0.9270354134347338,
          0.5578738962316218,
          -0.1158574696137123,
          0.7885123660084198,
          0.4016558343218455,
          0.26478085628305764,
          -0.014140856616124237,
          -0.38047255669968305,
          0.013747971723989021,
          0.13789605659493331,
          -0.04928959505531014,
          -0.6226803785122488,
          1.1689386875561425,
          0.34921379744776093,
          -0.05675457006864819,
          -0.5495909254101905,
          -0.8690503023318813,
          -0.7347561936826654
         ]
        },
        {
         "line": {
          "color": "rgb(148, 52, 110)",
          "width": 2
         },
         "mode": "lines+markers",
         "name": "News Frequency (Shifted by 31 years)",
         "type": "scatter",
         "visible": false,
         "x": [
          1930,
          1931,
          1932,
          1933,
          1934,
          1935,
          1936,
          1937,
          1938,
          1939,
          1940,
          1941,
          1942,
          1943,
          1944,
          1945,
          1946,
          1947,
          1948,
          1949,
          1950,
          1951,
          1952,
          1953,
          1954,
          1955,
          1956,
          1957,
          1958,
          1959,
          1960,
          1961,
          1962,
          1963,
          1964,
          1965,
          1966,
          1967,
          1968,
          1969,
          1970,
          1971,
          1972,
          1973,
          1974,
          1975,
          1976,
          1977,
          1978,
          1979,
          1980,
          1981,
          1982,
          1983,
          1984,
          1985,
          1986,
          1987,
          1988,
          1989,
          1990,
          1991,
          1992,
          1993,
          1994,
          1995,
          1996,
          1997,
          1998,
          1999,
          2000,
          2001,
          2002,
          2003,
          2004,
          2005,
          2006,
          2007,
          2008,
          2009,
          2010,
          2011,
          2012,
          2013,
          2014,
          2015
         ],
         "y": [
          -0.7347561936826654,
          -0.5841924666404188,
          -0.8560307543914922,
          -0.6093166834159861,
          -0.43415052907629387,
          -0.4050292048903662,
          -0.09304015969186458,
          -0.9068682303713732,
          -1.0545233779459395,
          -1.0812820226479753,
          -1.0097944089861046,
          -0.6248701409609518,
          -1.298000458061694,
          -1.4500702004993322,
          -1.2486392071519525,
          -1.1025715915203222,
          -1.1079885247803787,
          -1.093476842962425,
          -1.2527106884874188,
          -0.9054046019497809,
          -0.22481738590947492,
          -0.938437021976522,
          -1.1850393221179005,
          -1.3378864723577115,
          -1.5041727019616873,
          -1.3792969580177128,
          -1.3068689192049456,
          -1.5126902876319228,
          -0.9232848084995271,
          -0.6962360909652219,
          -0.8758659192594687,
          -0.7576139287072727,
          -0.7903612059925503,
          -0.5474835374888967,
          -0.2456724208233988,
          -0.301570482907648,
          -0.7328350992074678,
          -0.8002576463971026,
          -0.7483622063199975,
          -0.4170237356330605,
          -0.027550588321907273,
          0.016777930459893318,
          1.0107368568386927,
          0.9637397441947557,
          1.633729978604,
          1.9044031982198457,
          0.9151213135536107,
          0.8178299422245577,
          0.7773922068907236,
          1.8414395344033316,
          1.4224612099458829,
          1.3493650723018338,
          0.7901392278731111,
          1.117381161470864,
          1.5542976300321225,
          1.300600763754382,
          1.21898241036535,
          1.0897322518433272,
          0.6584092299006316,
          1.356490514518743,
          1.1984470467195387,
          1.4356851865235893,
          1.7978968393629065,
          1.2731492204388715,
          1.5722008791533644,
          0.2163811026840396,
          0.983446866216162,
          1.4679885998055082,
          1.4699988842217795,
          0.9270354134347338,
          0.5578738962316218,
          -0.1158574696137123,
          0.7885123660084198,
          0.4016558343218455,
          0.26478085628305764,
          -0.014140856616124237,
          -0.38047255669968305,
          0.013747971723989021,
          0.13789605659493331,
          -0.04928959505531014,
          -0.6226803785122488,
          1.1689386875561425,
          0.34921379744776093,
          -0.05675457006864819,
          -0.5495909254101905,
          -0.8690503023318813
         ]
        },
        {
         "line": {
          "color": "rgb(148, 52, 110)",
          "width": 2
         },
         "mode": "lines+markers",
         "name": "News Frequency (Shifted by 32 years)",
         "type": "scatter",
         "visible": false,
         "x": [
          1930,
          1931,
          1932,
          1933,
          1934,
          1935,
          1936,
          1937,
          1938,
          1939,
          1940,
          1941,
          1942,
          1943,
          1944,
          1945,
          1946,
          1947,
          1948,
          1949,
          1950,
          1951,
          1952,
          1953,
          1954,
          1955,
          1956,
          1957,
          1958,
          1959,
          1960,
          1961,
          1962,
          1963,
          1964,
          1965,
          1966,
          1967,
          1968,
          1969,
          1970,
          1971,
          1972,
          1973,
          1974,
          1975,
          1976,
          1977,
          1978,
          1979,
          1980,
          1981,
          1982,
          1983,
          1984,
          1985,
          1986,
          1987,
          1988,
          1989,
          1990,
          1991,
          1992,
          1993,
          1994,
          1995,
          1996,
          1997,
          1998,
          1999,
          2000,
          2001,
          2002,
          2003,
          2004,
          2005,
          2006,
          2007,
          2008,
          2009,
          2010,
          2011,
          2012,
          2013,
          2014,
          2015
         ],
         "y": [
          -0.8690503023318813,
          -0.7347561936826654,
          -0.5841924666404188,
          -0.8560307543914922,
          -0.6093166834159861,
          -0.43415052907629387,
          -0.4050292048903662,
          -0.09304015969186458,
          -0.9068682303713732,
          -1.0545233779459395,
          -1.0812820226479753,
          -1.0097944089861046,
          -0.6248701409609518,
          -1.298000458061694,
          -1.4500702004993322,
          -1.2486392071519525,
          -1.1025715915203222,
          -1.1079885247803787,
          -1.093476842962425,
          -1.2527106884874188,
          -0.9054046019497809,
          -0.22481738590947492,
          -0.938437021976522,
          -1.1850393221179005,
          -1.3378864723577115,
          -1.5041727019616873,
          -1.3792969580177128,
          -1.3068689192049456,
          -1.5126902876319228,
          -0.9232848084995271,
          -0.6962360909652219,
          -0.8758659192594687,
          -0.7576139287072727,
          -0.7903612059925503,
          -0.5474835374888967,
          -0.2456724208233988,
          -0.301570482907648,
          -0.7328350992074678,
          -0.8002576463971026,
          -0.7483622063199975,
          -0.4170237356330605,
          -0.027550588321907273,
          0.016777930459893318,
          1.0107368568386927,
          0.9637397441947557,
          1.633729978604,
          1.9044031982198457,
          0.9151213135536107,
          0.8178299422245577,
          0.7773922068907236,
          1.8414395344033316,
          1.4224612099458829,
          1.3493650723018338,
          0.7901392278731111,
          1.117381161470864,
          1.5542976300321225,
          1.300600763754382,
          1.21898241036535,
          1.0897322518433272,
          0.6584092299006316,
          1.356490514518743,
          1.1984470467195387,
          1.4356851865235893,
          1.7978968393629065,
          1.2731492204388715,
          1.5722008791533644,
          0.2163811026840396,
          0.983446866216162,
          1.4679885998055082,
          1.4699988842217795,
          0.9270354134347338,
          0.5578738962316218,
          -0.1158574696137123,
          0.7885123660084198,
          0.4016558343218455,
          0.26478085628305764,
          -0.014140856616124237,
          -0.38047255669968305,
          0.013747971723989021,
          0.13789605659493331,
          -0.04928959505531014,
          -0.6226803785122488,
          1.1689386875561425,
          0.34921379744776093,
          -0.05675457006864819,
          -0.5495909254101905
         ]
        },
        {
         "line": {
          "color": "rgb(148, 52, 110)",
          "width": 2
         },
         "mode": "lines+markers",
         "name": "News Frequency (Shifted by 33 years)",
         "type": "scatter",
         "visible": false,
         "x": [
          1930,
          1931,
          1932,
          1933,
          1934,
          1935,
          1936,
          1937,
          1938,
          1939,
          1940,
          1941,
          1942,
          1943,
          1944,
          1945,
          1946,
          1947,
          1948,
          1949,
          1950,
          1951,
          1952,
          1953,
          1954,
          1955,
          1956,
          1957,
          1958,
          1959,
          1960,
          1961,
          1962,
          1963,
          1964,
          1965,
          1966,
          1967,
          1968,
          1969,
          1970,
          1971,
          1972,
          1973,
          1974,
          1975,
          1976,
          1977,
          1978,
          1979,
          1980,
          1981,
          1982,
          1983,
          1984,
          1985,
          1986,
          1987,
          1988,
          1989,
          1990,
          1991,
          1992,
          1993,
          1994,
          1995,
          1996,
          1997,
          1998,
          1999,
          2000,
          2001,
          2002,
          2003,
          2004,
          2005,
          2006,
          2007,
          2008,
          2009,
          2010,
          2011,
          2012,
          2013,
          2014,
          2015
         ],
         "y": [
          -0.5495909254101905,
          -0.8690503023318813,
          -0.7347561936826654,
          -0.5841924666404188,
          -0.8560307543914922,
          -0.6093166834159861,
          -0.43415052907629387,
          -0.4050292048903662,
          -0.09304015969186458,
          -0.9068682303713732,
          -1.0545233779459395,
          -1.0812820226479753,
          -1.0097944089861046,
          -0.6248701409609518,
          -1.298000458061694,
          -1.4500702004993322,
          -1.2486392071519525,
          -1.1025715915203222,
          -1.1079885247803787,
          -1.093476842962425,
          -1.2527106884874188,
          -0.9054046019497809,
          -0.22481738590947492,
          -0.938437021976522,
          -1.1850393221179005,
          -1.3378864723577115,
          -1.5041727019616873,
          -1.3792969580177128,
          -1.3068689192049456,
          -1.5126902876319228,
          -0.9232848084995271,
          -0.6962360909652219,
          -0.8758659192594687,
          -0.7576139287072727,
          -0.7903612059925503,
          -0.5474835374888967,
          -0.2456724208233988,
          -0.301570482907648,
          -0.7328350992074678,
          -0.8002576463971026,
          -0.7483622063199975,
          -0.4170237356330605,
          -0.027550588321907273,
          0.016777930459893318,
          1.0107368568386927,
          0.9637397441947557,
          1.633729978604,
          1.9044031982198457,
          0.9151213135536107,
          0.8178299422245577,
          0.7773922068907236,
          1.8414395344033316,
          1.4224612099458829,
          1.3493650723018338,
          0.7901392278731111,
          1.117381161470864,
          1.5542976300321225,
          1.300600763754382,
          1.21898241036535,
          1.0897322518433272,
          0.6584092299006316,
          1.356490514518743,
          1.1984470467195387,
          1.4356851865235893,
          1.7978968393629065,
          1.2731492204388715,
          1.5722008791533644,
          0.2163811026840396,
          0.983446866216162,
          1.4679885998055082,
          1.4699988842217795,
          0.9270354134347338,
          0.5578738962316218,
          -0.1158574696137123,
          0.7885123660084198,
          0.4016558343218455,
          0.26478085628305764,
          -0.014140856616124237,
          -0.38047255669968305,
          0.013747971723989021,
          0.13789605659493331,
          -0.04928959505531014,
          -0.6226803785122488,
          1.1689386875561425,
          0.34921379744776093,
          -0.05675457006864819
         ]
        },
        {
         "line": {
          "color": "rgb(148, 52, 110)",
          "width": 2
         },
         "mode": "lines+markers",
         "name": "News Frequency (Shifted by 34 years)",
         "type": "scatter",
         "visible": false,
         "x": [
          1930,
          1931,
          1932,
          1933,
          1934,
          1935,
          1936,
          1937,
          1938,
          1939,
          1940,
          1941,
          1942,
          1943,
          1944,
          1945,
          1946,
          1947,
          1948,
          1949,
          1950,
          1951,
          1952,
          1953,
          1954,
          1955,
          1956,
          1957,
          1958,
          1959,
          1960,
          1961,
          1962,
          1963,
          1964,
          1965,
          1966,
          1967,
          1968,
          1969,
          1970,
          1971,
          1972,
          1973,
          1974,
          1975,
          1976,
          1977,
          1978,
          1979,
          1980,
          1981,
          1982,
          1983,
          1984,
          1985,
          1986,
          1987,
          1988,
          1989,
          1990,
          1991,
          1992,
          1993,
          1994,
          1995,
          1996,
          1997,
          1998,
          1999,
          2000,
          2001,
          2002,
          2003,
          2004,
          2005,
          2006,
          2007,
          2008,
          2009,
          2010,
          2011,
          2012,
          2013,
          2014,
          2015
         ],
         "y": [
          -0.05675457006864819,
          -0.5495909254101905,
          -0.8690503023318813,
          -0.7347561936826654,
          -0.5841924666404188,
          -0.8560307543914922,
          -0.6093166834159861,
          -0.43415052907629387,
          -0.4050292048903662,
          -0.09304015969186458,
          -0.9068682303713732,
          -1.0545233779459395,
          -1.0812820226479753,
          -1.0097944089861046,
          -0.6248701409609518,
          -1.298000458061694,
          -1.4500702004993322,
          -1.2486392071519525,
          -1.1025715915203222,
          -1.1079885247803787,
          -1.093476842962425,
          -1.2527106884874188,
          -0.9054046019497809,
          -0.22481738590947492,
          -0.938437021976522,
          -1.1850393221179005,
          -1.3378864723577115,
          -1.5041727019616873,
          -1.3792969580177128,
          -1.3068689192049456,
          -1.5126902876319228,
          -0.9232848084995271,
          -0.6962360909652219,
          -0.8758659192594687,
          -0.7576139287072727,
          -0.7903612059925503,
          -0.5474835374888967,
          -0.2456724208233988,
          -0.301570482907648,
          -0.7328350992074678,
          -0.8002576463971026,
          -0.7483622063199975,
          -0.4170237356330605,
          -0.027550588321907273,
          0.016777930459893318,
          1.0107368568386927,
          0.9637397441947557,
          1.633729978604,
          1.9044031982198457,
          0.9151213135536107,
          0.8178299422245577,
          0.7773922068907236,
          1.8414395344033316,
          1.4224612099458829,
          1.3493650723018338,
          0.7901392278731111,
          1.117381161470864,
          1.5542976300321225,
          1.300600763754382,
          1.21898241036535,
          1.0897322518433272,
          0.6584092299006316,
          1.356490514518743,
          1.1984470467195387,
          1.4356851865235893,
          1.7978968393629065,
          1.2731492204388715,
          1.5722008791533644,
          0.2163811026840396,
          0.983446866216162,
          1.4679885998055082,
          1.4699988842217795,
          0.9270354134347338,
          0.5578738962316218,
          -0.1158574696137123,
          0.7885123660084198,
          0.4016558343218455,
          0.26478085628305764,
          -0.014140856616124237,
          -0.38047255669968305,
          0.013747971723989021,
          0.13789605659493331,
          -0.04928959505531014,
          -0.6226803785122488,
          1.1689386875561425,
          0.34921379744776093
         ]
        },
        {
         "line": {
          "color": "rgb(148, 52, 110)",
          "width": 2
         },
         "mode": "lines+markers",
         "name": "News Frequency (Shifted by 35 years)",
         "type": "scatter",
         "visible": false,
         "x": [
          1930,
          1931,
          1932,
          1933,
          1934,
          1935,
          1936,
          1937,
          1938,
          1939,
          1940,
          1941,
          1942,
          1943,
          1944,
          1945,
          1946,
          1947,
          1948,
          1949,
          1950,
          1951,
          1952,
          1953,
          1954,
          1955,
          1956,
          1957,
          1958,
          1959,
          1960,
          1961,
          1962,
          1963,
          1964,
          1965,
          1966,
          1967,
          1968,
          1969,
          1970,
          1971,
          1972,
          1973,
          1974,
          1975,
          1976,
          1977,
          1978,
          1979,
          1980,
          1981,
          1982,
          1983,
          1984,
          1985,
          1986,
          1987,
          1988,
          1989,
          1990,
          1991,
          1992,
          1993,
          1994,
          1995,
          1996,
          1997,
          1998,
          1999,
          2000,
          2001,
          2002,
          2003,
          2004,
          2005,
          2006,
          2007,
          2008,
          2009,
          2010,
          2011,
          2012,
          2013,
          2014,
          2015
         ],
         "y": [
          0.34921379744776093,
          -0.05675457006864819,
          -0.5495909254101905,
          -0.8690503023318813,
          -0.7347561936826654,
          -0.5841924666404188,
          -0.8560307543914922,
          -0.6093166834159861,
          -0.43415052907629387,
          -0.4050292048903662,
          -0.09304015969186458,
          -0.9068682303713732,
          -1.0545233779459395,
          -1.0812820226479753,
          -1.0097944089861046,
          -0.6248701409609518,
          -1.298000458061694,
          -1.4500702004993322,
          -1.2486392071519525,
          -1.1025715915203222,
          -1.1079885247803787,
          -1.093476842962425,
          -1.2527106884874188,
          -0.9054046019497809,
          -0.22481738590947492,
          -0.938437021976522,
          -1.1850393221179005,
          -1.3378864723577115,
          -1.5041727019616873,
          -1.3792969580177128,
          -1.3068689192049456,
          -1.5126902876319228,
          -0.9232848084995271,
          -0.6962360909652219,
          -0.8758659192594687,
          -0.7576139287072727,
          -0.7903612059925503,
          -0.5474835374888967,
          -0.2456724208233988,
          -0.301570482907648,
          -0.7328350992074678,
          -0.8002576463971026,
          -0.7483622063199975,
          -0.4170237356330605,
          -0.027550588321907273,
          0.016777930459893318,
          1.0107368568386927,
          0.9637397441947557,
          1.633729978604,
          1.9044031982198457,
          0.9151213135536107,
          0.8178299422245577,
          0.7773922068907236,
          1.8414395344033316,
          1.4224612099458829,
          1.3493650723018338,
          0.7901392278731111,
          1.117381161470864,
          1.5542976300321225,
          1.300600763754382,
          1.21898241036535,
          1.0897322518433272,
          0.6584092299006316,
          1.356490514518743,
          1.1984470467195387,
          1.4356851865235893,
          1.7978968393629065,
          1.2731492204388715,
          1.5722008791533644,
          0.2163811026840396,
          0.983446866216162,
          1.4679885998055082,
          1.4699988842217795,
          0.9270354134347338,
          0.5578738962316218,
          -0.1158574696137123,
          0.7885123660084198,
          0.4016558343218455,
          0.26478085628305764,
          -0.014140856616124237,
          -0.38047255669968305,
          0.013747971723989021,
          0.13789605659493331,
          -0.04928959505531014,
          -0.6226803785122488,
          1.1689386875561425
         ]
        },
        {
         "line": {
          "color": "rgb(148, 52, 110)",
          "width": 2
         },
         "mode": "lines+markers",
         "name": "News Frequency (Shifted by 36 years)",
         "type": "scatter",
         "visible": false,
         "x": [
          1930,
          1931,
          1932,
          1933,
          1934,
          1935,
          1936,
          1937,
          1938,
          1939,
          1940,
          1941,
          1942,
          1943,
          1944,
          1945,
          1946,
          1947,
          1948,
          1949,
          1950,
          1951,
          1952,
          1953,
          1954,
          1955,
          1956,
          1957,
          1958,
          1959,
          1960,
          1961,
          1962,
          1963,
          1964,
          1965,
          1966,
          1967,
          1968,
          1969,
          1970,
          1971,
          1972,
          1973,
          1974,
          1975,
          1976,
          1977,
          1978,
          1979,
          1980,
          1981,
          1982,
          1983,
          1984,
          1985,
          1986,
          1987,
          1988,
          1989,
          1990,
          1991,
          1992,
          1993,
          1994,
          1995,
          1996,
          1997,
          1998,
          1999,
          2000,
          2001,
          2002,
          2003,
          2004,
          2005,
          2006,
          2007,
          2008,
          2009,
          2010,
          2011,
          2012,
          2013,
          2014,
          2015
         ],
         "y": [
          1.1689386875561425,
          0.34921379744776093,
          -0.05675457006864819,
          -0.5495909254101905,
          -0.8690503023318813,
          -0.7347561936826654,
          -0.5841924666404188,
          -0.8560307543914922,
          -0.6093166834159861,
          -0.43415052907629387,
          -0.4050292048903662,
          -0.09304015969186458,
          -0.9068682303713732,
          -1.0545233779459395,
          -1.0812820226479753,
          -1.0097944089861046,
          -0.6248701409609518,
          -1.298000458061694,
          -1.4500702004993322,
          -1.2486392071519525,
          -1.1025715915203222,
          -1.1079885247803787,
          -1.093476842962425,
          -1.2527106884874188,
          -0.9054046019497809,
          -0.22481738590947492,
          -0.938437021976522,
          -1.1850393221179005,
          -1.3378864723577115,
          -1.5041727019616873,
          -1.3792969580177128,
          -1.3068689192049456,
          -1.5126902876319228,
          -0.9232848084995271,
          -0.6962360909652219,
          -0.8758659192594687,
          -0.7576139287072727,
          -0.7903612059925503,
          -0.5474835374888967,
          -0.2456724208233988,
          -0.301570482907648,
          -0.7328350992074678,
          -0.8002576463971026,
          -0.7483622063199975,
          -0.4170237356330605,
          -0.027550588321907273,
          0.016777930459893318,
          1.0107368568386927,
          0.9637397441947557,
          1.633729978604,
          1.9044031982198457,
          0.9151213135536107,
          0.8178299422245577,
          0.7773922068907236,
          1.8414395344033316,
          1.4224612099458829,
          1.3493650723018338,
          0.7901392278731111,
          1.117381161470864,
          1.5542976300321225,
          1.300600763754382,
          1.21898241036535,
          1.0897322518433272,
          0.6584092299006316,
          1.356490514518743,
          1.1984470467195387,
          1.4356851865235893,
          1.7978968393629065,
          1.2731492204388715,
          1.5722008791533644,
          0.2163811026840396,
          0.983446866216162,
          1.4679885998055082,
          1.4699988842217795,
          0.9270354134347338,
          0.5578738962316218,
          -0.1158574696137123,
          0.7885123660084198,
          0.4016558343218455,
          0.26478085628305764,
          -0.014140856616124237,
          -0.38047255669968305,
          0.013747971723989021,
          0.13789605659493331,
          -0.04928959505531014,
          -0.6226803785122488
         ]
        },
        {
         "line": {
          "color": "rgb(148, 52, 110)",
          "width": 2
         },
         "mode": "lines+markers",
         "name": "News Frequency (Shifted by 37 years)",
         "type": "scatter",
         "visible": false,
         "x": [
          1930,
          1931,
          1932,
          1933,
          1934,
          1935,
          1936,
          1937,
          1938,
          1939,
          1940,
          1941,
          1942,
          1943,
          1944,
          1945,
          1946,
          1947,
          1948,
          1949,
          1950,
          1951,
          1952,
          1953,
          1954,
          1955,
          1956,
          1957,
          1958,
          1959,
          1960,
          1961,
          1962,
          1963,
          1964,
          1965,
          1966,
          1967,
          1968,
          1969,
          1970,
          1971,
          1972,
          1973,
          1974,
          1975,
          1976,
          1977,
          1978,
          1979,
          1980,
          1981,
          1982,
          1983,
          1984,
          1985,
          1986,
          1987,
          1988,
          1989,
          1990,
          1991,
          1992,
          1993,
          1994,
          1995,
          1996,
          1997,
          1998,
          1999,
          2000,
          2001,
          2002,
          2003,
          2004,
          2005,
          2006,
          2007,
          2008,
          2009,
          2010,
          2011,
          2012,
          2013,
          2014,
          2015
         ],
         "y": [
          -0.6226803785122488,
          1.1689386875561425,
          0.34921379744776093,
          -0.05675457006864819,
          -0.5495909254101905,
          -0.8690503023318813,
          -0.7347561936826654,
          -0.5841924666404188,
          -0.8560307543914922,
          -0.6093166834159861,
          -0.43415052907629387,
          -0.4050292048903662,
          -0.09304015969186458,
          -0.9068682303713732,
          -1.0545233779459395,
          -1.0812820226479753,
          -1.0097944089861046,
          -0.6248701409609518,
          -1.298000458061694,
          -1.4500702004993322,
          -1.2486392071519525,
          -1.1025715915203222,
          -1.1079885247803787,
          -1.093476842962425,
          -1.2527106884874188,
          -0.9054046019497809,
          -0.22481738590947492,
          -0.938437021976522,
          -1.1850393221179005,
          -1.3378864723577115,
          -1.5041727019616873,
          -1.3792969580177128,
          -1.3068689192049456,
          -1.5126902876319228,
          -0.9232848084995271,
          -0.6962360909652219,
          -0.8758659192594687,
          -0.7576139287072727,
          -0.7903612059925503,
          -0.5474835374888967,
          -0.2456724208233988,
          -0.301570482907648,
          -0.7328350992074678,
          -0.8002576463971026,
          -0.7483622063199975,
          -0.4170237356330605,
          -0.027550588321907273,
          0.016777930459893318,
          1.0107368568386927,
          0.9637397441947557,
          1.633729978604,
          1.9044031982198457,
          0.9151213135536107,
          0.8178299422245577,
          0.7773922068907236,
          1.8414395344033316,
          1.4224612099458829,
          1.3493650723018338,
          0.7901392278731111,
          1.117381161470864,
          1.5542976300321225,
          1.300600763754382,
          1.21898241036535,
          1.0897322518433272,
          0.6584092299006316,
          1.356490514518743,
          1.1984470467195387,
          1.4356851865235893,
          1.7978968393629065,
          1.2731492204388715,
          1.5722008791533644,
          0.2163811026840396,
          0.983446866216162,
          1.4679885998055082,
          1.4699988842217795,
          0.9270354134347338,
          0.5578738962316218,
          -0.1158574696137123,
          0.7885123660084198,
          0.4016558343218455,
          0.26478085628305764,
          -0.014140856616124237,
          -0.38047255669968305,
          0.013747971723989021,
          0.13789605659493331,
          -0.04928959505531014
         ]
        },
        {
         "line": {
          "color": "rgb(148, 52, 110)",
          "width": 2
         },
         "mode": "lines+markers",
         "name": "News Frequency (Shifted by 38 years)",
         "type": "scatter",
         "visible": false,
         "x": [
          1930,
          1931,
          1932,
          1933,
          1934,
          1935,
          1936,
          1937,
          1938,
          1939,
          1940,
          1941,
          1942,
          1943,
          1944,
          1945,
          1946,
          1947,
          1948,
          1949,
          1950,
          1951,
          1952,
          1953,
          1954,
          1955,
          1956,
          1957,
          1958,
          1959,
          1960,
          1961,
          1962,
          1963,
          1964,
          1965,
          1966,
          1967,
          1968,
          1969,
          1970,
          1971,
          1972,
          1973,
          1974,
          1975,
          1976,
          1977,
          1978,
          1979,
          1980,
          1981,
          1982,
          1983,
          1984,
          1985,
          1986,
          1987,
          1988,
          1989,
          1990,
          1991,
          1992,
          1993,
          1994,
          1995,
          1996,
          1997,
          1998,
          1999,
          2000,
          2001,
          2002,
          2003,
          2004,
          2005,
          2006,
          2007,
          2008,
          2009,
          2010,
          2011,
          2012,
          2013,
          2014,
          2015
         ],
         "y": [
          -0.04928959505531014,
          -0.6226803785122488,
          1.1689386875561425,
          0.34921379744776093,
          -0.05675457006864819,
          -0.5495909254101905,
          -0.8690503023318813,
          -0.7347561936826654,
          -0.5841924666404188,
          -0.8560307543914922,
          -0.6093166834159861,
          -0.43415052907629387,
          -0.4050292048903662,
          -0.09304015969186458,
          -0.9068682303713732,
          -1.0545233779459395,
          -1.0812820226479753,
          -1.0097944089861046,
          -0.6248701409609518,
          -1.298000458061694,
          -1.4500702004993322,
          -1.2486392071519525,
          -1.1025715915203222,
          -1.1079885247803787,
          -1.093476842962425,
          -1.2527106884874188,
          -0.9054046019497809,
          -0.22481738590947492,
          -0.938437021976522,
          -1.1850393221179005,
          -1.3378864723577115,
          -1.5041727019616873,
          -1.3792969580177128,
          -1.3068689192049456,
          -1.5126902876319228,
          -0.9232848084995271,
          -0.6962360909652219,
          -0.8758659192594687,
          -0.7576139287072727,
          -0.7903612059925503,
          -0.5474835374888967,
          -0.2456724208233988,
          -0.301570482907648,
          -0.7328350992074678,
          -0.8002576463971026,
          -0.7483622063199975,
          -0.4170237356330605,
          -0.027550588321907273,
          0.016777930459893318,
          1.0107368568386927,
          0.9637397441947557,
          1.633729978604,
          1.9044031982198457,
          0.9151213135536107,
          0.8178299422245577,
          0.7773922068907236,
          1.8414395344033316,
          1.4224612099458829,
          1.3493650723018338,
          0.7901392278731111,
          1.117381161470864,
          1.5542976300321225,
          1.300600763754382,
          1.21898241036535,
          1.0897322518433272,
          0.6584092299006316,
          1.356490514518743,
          1.1984470467195387,
          1.4356851865235893,
          1.7978968393629065,
          1.2731492204388715,
          1.5722008791533644,
          0.2163811026840396,
          0.983446866216162,
          1.4679885998055082,
          1.4699988842217795,
          0.9270354134347338,
          0.5578738962316218,
          -0.1158574696137123,
          0.7885123660084198,
          0.4016558343218455,
          0.26478085628305764,
          -0.014140856616124237,
          -0.38047255669968305,
          0.013747971723989021,
          0.13789605659493331
         ]
        },
        {
         "line": {
          "color": "rgb(148, 52, 110)",
          "width": 2
         },
         "mode": "lines+markers",
         "name": "News Frequency (Shifted by 39 years)",
         "type": "scatter",
         "visible": false,
         "x": [
          1930,
          1931,
          1932,
          1933,
          1934,
          1935,
          1936,
          1937,
          1938,
          1939,
          1940,
          1941,
          1942,
          1943,
          1944,
          1945,
          1946,
          1947,
          1948,
          1949,
          1950,
          1951,
          1952,
          1953,
          1954,
          1955,
          1956,
          1957,
          1958,
          1959,
          1960,
          1961,
          1962,
          1963,
          1964,
          1965,
          1966,
          1967,
          1968,
          1969,
          1970,
          1971,
          1972,
          1973,
          1974,
          1975,
          1976,
          1977,
          1978,
          1979,
          1980,
          1981,
          1982,
          1983,
          1984,
          1985,
          1986,
          1987,
          1988,
          1989,
          1990,
          1991,
          1992,
          1993,
          1994,
          1995,
          1996,
          1997,
          1998,
          1999,
          2000,
          2001,
          2002,
          2003,
          2004,
          2005,
          2006,
          2007,
          2008,
          2009,
          2010,
          2011,
          2012,
          2013,
          2014,
          2015
         ],
         "y": [
          0.13789605659493331,
          -0.04928959505531014,
          -0.6226803785122488,
          1.1689386875561425,
          0.34921379744776093,
          -0.05675457006864819,
          -0.5495909254101905,
          -0.8690503023318813,
          -0.7347561936826654,
          -0.5841924666404188,
          -0.8560307543914922,
          -0.6093166834159861,
          -0.43415052907629387,
          -0.4050292048903662,
          -0.09304015969186458,
          -0.9068682303713732,
          -1.0545233779459395,
          -1.0812820226479753,
          -1.0097944089861046,
          -0.6248701409609518,
          -1.298000458061694,
          -1.4500702004993322,
          -1.2486392071519525,
          -1.1025715915203222,
          -1.1079885247803787,
          -1.093476842962425,
          -1.2527106884874188,
          -0.9054046019497809,
          -0.22481738590947492,
          -0.938437021976522,
          -1.1850393221179005,
          -1.3378864723577115,
          -1.5041727019616873,
          -1.3792969580177128,
          -1.3068689192049456,
          -1.5126902876319228,
          -0.9232848084995271,
          -0.6962360909652219,
          -0.8758659192594687,
          -0.7576139287072727,
          -0.7903612059925503,
          -0.5474835374888967,
          -0.2456724208233988,
          -0.301570482907648,
          -0.7328350992074678,
          -0.8002576463971026,
          -0.7483622063199975,
          -0.4170237356330605,
          -0.027550588321907273,
          0.016777930459893318,
          1.0107368568386927,
          0.9637397441947557,
          1.633729978604,
          1.9044031982198457,
          0.9151213135536107,
          0.8178299422245577,
          0.7773922068907236,
          1.8414395344033316,
          1.4224612099458829,
          1.3493650723018338,
          0.7901392278731111,
          1.117381161470864,
          1.5542976300321225,
          1.300600763754382,
          1.21898241036535,
          1.0897322518433272,
          0.6584092299006316,
          1.356490514518743,
          1.1984470467195387,
          1.4356851865235893,
          1.7978968393629065,
          1.2731492204388715,
          1.5722008791533644,
          0.2163811026840396,
          0.983446866216162,
          1.4679885998055082,
          1.4699988842217795,
          0.9270354134347338,
          0.5578738962316218,
          -0.1158574696137123,
          0.7885123660084198,
          0.4016558343218455,
          0.26478085628305764,
          -0.014140856616124237,
          -0.38047255669968305,
          0.013747971723989021
         ]
        },
        {
         "line": {
          "color": "rgb(148, 52, 110)",
          "width": 2
         },
         "mode": "lines+markers",
         "name": "News Frequency (Shifted by 40 years)",
         "type": "scatter",
         "visible": false,
         "x": [
          1930,
          1931,
          1932,
          1933,
          1934,
          1935,
          1936,
          1937,
          1938,
          1939,
          1940,
          1941,
          1942,
          1943,
          1944,
          1945,
          1946,
          1947,
          1948,
          1949,
          1950,
          1951,
          1952,
          1953,
          1954,
          1955,
          1956,
          1957,
          1958,
          1959,
          1960,
          1961,
          1962,
          1963,
          1964,
          1965,
          1966,
          1967,
          1968,
          1969,
          1970,
          1971,
          1972,
          1973,
          1974,
          1975,
          1976,
          1977,
          1978,
          1979,
          1980,
          1981,
          1982,
          1983,
          1984,
          1985,
          1986,
          1987,
          1988,
          1989,
          1990,
          1991,
          1992,
          1993,
          1994,
          1995,
          1996,
          1997,
          1998,
          1999,
          2000,
          2001,
          2002,
          2003,
          2004,
          2005,
          2006,
          2007,
          2008,
          2009,
          2010,
          2011,
          2012,
          2013,
          2014,
          2015
         ],
         "y": [
          0.013747971723989021,
          0.13789605659493331,
          -0.04928959505531014,
          -0.6226803785122488,
          1.1689386875561425,
          0.34921379744776093,
          -0.05675457006864819,
          -0.5495909254101905,
          -0.8690503023318813,
          -0.7347561936826654,
          -0.5841924666404188,
          -0.8560307543914922,
          -0.6093166834159861,
          -0.43415052907629387,
          -0.4050292048903662,
          -0.09304015969186458,
          -0.9068682303713732,
          -1.0545233779459395,
          -1.0812820226479753,
          -1.0097944089861046,
          -0.6248701409609518,
          -1.298000458061694,
          -1.4500702004993322,
          -1.2486392071519525,
          -1.1025715915203222,
          -1.1079885247803787,
          -1.093476842962425,
          -1.2527106884874188,
          -0.9054046019497809,
          -0.22481738590947492,
          -0.938437021976522,
          -1.1850393221179005,
          -1.3378864723577115,
          -1.5041727019616873,
          -1.3792969580177128,
          -1.3068689192049456,
          -1.5126902876319228,
          -0.9232848084995271,
          -0.6962360909652219,
          -0.8758659192594687,
          -0.7576139287072727,
          -0.7903612059925503,
          -0.5474835374888967,
          -0.2456724208233988,
          -0.301570482907648,
          -0.7328350992074678,
          -0.8002576463971026,
          -0.7483622063199975,
          -0.4170237356330605,
          -0.027550588321907273,
          0.016777930459893318,
          1.0107368568386927,
          0.9637397441947557,
          1.633729978604,
          1.9044031982198457,
          0.9151213135536107,
          0.8178299422245577,
          0.7773922068907236,
          1.8414395344033316,
          1.4224612099458829,
          1.3493650723018338,
          0.7901392278731111,
          1.117381161470864,
          1.5542976300321225,
          1.300600763754382,
          1.21898241036535,
          1.0897322518433272,
          0.6584092299006316,
          1.356490514518743,
          1.1984470467195387,
          1.4356851865235893,
          1.7978968393629065,
          1.2731492204388715,
          1.5722008791533644,
          0.2163811026840396,
          0.983446866216162,
          1.4679885998055082,
          1.4699988842217795,
          0.9270354134347338,
          0.5578738962316218,
          -0.1158574696137123,
          0.7885123660084198,
          0.4016558343218455,
          0.26478085628305764,
          -0.014140856616124237,
          -0.38047255669968305
         ]
        },
        {
         "line": {
          "color": "rgb(148, 52, 110)",
          "width": 2
         },
         "mode": "lines+markers",
         "name": "News Frequency (Shifted by 41 years)",
         "type": "scatter",
         "visible": false,
         "x": [
          1930,
          1931,
          1932,
          1933,
          1934,
          1935,
          1936,
          1937,
          1938,
          1939,
          1940,
          1941,
          1942,
          1943,
          1944,
          1945,
          1946,
          1947,
          1948,
          1949,
          1950,
          1951,
          1952,
          1953,
          1954,
          1955,
          1956,
          1957,
          1958,
          1959,
          1960,
          1961,
          1962,
          1963,
          1964,
          1965,
          1966,
          1967,
          1968,
          1969,
          1970,
          1971,
          1972,
          1973,
          1974,
          1975,
          1976,
          1977,
          1978,
          1979,
          1980,
          1981,
          1982,
          1983,
          1984,
          1985,
          1986,
          1987,
          1988,
          1989,
          1990,
          1991,
          1992,
          1993,
          1994,
          1995,
          1996,
          1997,
          1998,
          1999,
          2000,
          2001,
          2002,
          2003,
          2004,
          2005,
          2006,
          2007,
          2008,
          2009,
          2010,
          2011,
          2012,
          2013,
          2014,
          2015
         ],
         "y": [
          -0.38047255669968305,
          0.013747971723989021,
          0.13789605659493331,
          -0.04928959505531014,
          -0.6226803785122488,
          1.1689386875561425,
          0.34921379744776093,
          -0.05675457006864819,
          -0.5495909254101905,
          -0.8690503023318813,
          -0.7347561936826654,
          -0.5841924666404188,
          -0.8560307543914922,
          -0.6093166834159861,
          -0.43415052907629387,
          -0.4050292048903662,
          -0.09304015969186458,
          -0.9068682303713732,
          -1.0545233779459395,
          -1.0812820226479753,
          -1.0097944089861046,
          -0.6248701409609518,
          -1.298000458061694,
          -1.4500702004993322,
          -1.2486392071519525,
          -1.1025715915203222,
          -1.1079885247803787,
          -1.093476842962425,
          -1.2527106884874188,
          -0.9054046019497809,
          -0.22481738590947492,
          -0.938437021976522,
          -1.1850393221179005,
          -1.3378864723577115,
          -1.5041727019616873,
          -1.3792969580177128,
          -1.3068689192049456,
          -1.5126902876319228,
          -0.9232848084995271,
          -0.6962360909652219,
          -0.8758659192594687,
          -0.7576139287072727,
          -0.7903612059925503,
          -0.5474835374888967,
          -0.2456724208233988,
          -0.301570482907648,
          -0.7328350992074678,
          -0.8002576463971026,
          -0.7483622063199975,
          -0.4170237356330605,
          -0.027550588321907273,
          0.016777930459893318,
          1.0107368568386927,
          0.9637397441947557,
          1.633729978604,
          1.9044031982198457,
          0.9151213135536107,
          0.8178299422245577,
          0.7773922068907236,
          1.8414395344033316,
          1.4224612099458829,
          1.3493650723018338,
          0.7901392278731111,
          1.117381161470864,
          1.5542976300321225,
          1.300600763754382,
          1.21898241036535,
          1.0897322518433272,
          0.6584092299006316,
          1.356490514518743,
          1.1984470467195387,
          1.4356851865235893,
          1.7978968393629065,
          1.2731492204388715,
          1.5722008791533644,
          0.2163811026840396,
          0.983446866216162,
          1.4679885998055082,
          1.4699988842217795,
          0.9270354134347338,
          0.5578738962316218,
          -0.1158574696137123,
          0.7885123660084198,
          0.4016558343218455,
          0.26478085628305764,
          -0.014140856616124237
         ]
        },
        {
         "line": {
          "color": "rgb(148, 52, 110)",
          "width": 2
         },
         "mode": "lines+markers",
         "name": "News Frequency (Shifted by 42 years)",
         "type": "scatter",
         "visible": false,
         "x": [
          1930,
          1931,
          1932,
          1933,
          1934,
          1935,
          1936,
          1937,
          1938,
          1939,
          1940,
          1941,
          1942,
          1943,
          1944,
          1945,
          1946,
          1947,
          1948,
          1949,
          1950,
          1951,
          1952,
          1953,
          1954,
          1955,
          1956,
          1957,
          1958,
          1959,
          1960,
          1961,
          1962,
          1963,
          1964,
          1965,
          1966,
          1967,
          1968,
          1969,
          1970,
          1971,
          1972,
          1973,
          1974,
          1975,
          1976,
          1977,
          1978,
          1979,
          1980,
          1981,
          1982,
          1983,
          1984,
          1985,
          1986,
          1987,
          1988,
          1989,
          1990,
          1991,
          1992,
          1993,
          1994,
          1995,
          1996,
          1997,
          1998,
          1999,
          2000,
          2001,
          2002,
          2003,
          2004,
          2005,
          2006,
          2007,
          2008,
          2009,
          2010,
          2011,
          2012,
          2013,
          2014,
          2015
         ],
         "y": [
          -0.014140856616124237,
          -0.38047255669968305,
          0.013747971723989021,
          0.13789605659493331,
          -0.04928959505531014,
          -0.6226803785122488,
          1.1689386875561425,
          0.34921379744776093,
          -0.05675457006864819,
          -0.5495909254101905,
          -0.8690503023318813,
          -0.7347561936826654,
          -0.5841924666404188,
          -0.8560307543914922,
          -0.6093166834159861,
          -0.43415052907629387,
          -0.4050292048903662,
          -0.09304015969186458,
          -0.9068682303713732,
          -1.0545233779459395,
          -1.0812820226479753,
          -1.0097944089861046,
          -0.6248701409609518,
          -1.298000458061694,
          -1.4500702004993322,
          -1.2486392071519525,
          -1.1025715915203222,
          -1.1079885247803787,
          -1.093476842962425,
          -1.2527106884874188,
          -0.9054046019497809,
          -0.22481738590947492,
          -0.938437021976522,
          -1.1850393221179005,
          -1.3378864723577115,
          -1.5041727019616873,
          -1.3792969580177128,
          -1.3068689192049456,
          -1.5126902876319228,
          -0.9232848084995271,
          -0.6962360909652219,
          -0.8758659192594687,
          -0.7576139287072727,
          -0.7903612059925503,
          -0.5474835374888967,
          -0.2456724208233988,
          -0.301570482907648,
          -0.7328350992074678,
          -0.8002576463971026,
          -0.7483622063199975,
          -0.4170237356330605,
          -0.027550588321907273,
          0.016777930459893318,
          1.0107368568386927,
          0.9637397441947557,
          1.633729978604,
          1.9044031982198457,
          0.9151213135536107,
          0.8178299422245577,
          0.7773922068907236,
          1.8414395344033316,
          1.4224612099458829,
          1.3493650723018338,
          0.7901392278731111,
          1.117381161470864,
          1.5542976300321225,
          1.300600763754382,
          1.21898241036535,
          1.0897322518433272,
          0.6584092299006316,
          1.356490514518743,
          1.1984470467195387,
          1.4356851865235893,
          1.7978968393629065,
          1.2731492204388715,
          1.5722008791533644,
          0.2163811026840396,
          0.983446866216162,
          1.4679885998055082,
          1.4699988842217795,
          0.9270354134347338,
          0.5578738962316218,
          -0.1158574696137123,
          0.7885123660084198,
          0.4016558343218455,
          0.26478085628305764
         ]
        },
        {
         "line": {
          "color": "rgb(29, 105, 150)",
          "width": 2
         },
         "mode": "lines+markers",
         "name": "Movies Frequency",
         "type": "scatter",
         "visible": true,
         "x": [
          1930,
          1931,
          1932,
          1933,
          1934,
          1935,
          1936,
          1937,
          1938,
          1939,
          1940,
          1941,
          1942,
          1943,
          1944,
          1945,
          1946,
          1947,
          1948,
          1949,
          1950,
          1951,
          1952,
          1953,
          1954,
          1955,
          1956,
          1957,
          1958,
          1959,
          1960,
          1961,
          1962,
          1963,
          1964,
          1965,
          1966,
          1967,
          1968,
          1969,
          1970,
          1971,
          1972,
          1973,
          1974,
          1975,
          1976,
          1977,
          1978,
          1979,
          1980,
          1981,
          1982,
          1983,
          1984,
          1985,
          1986,
          1987,
          1988,
          1989,
          1990,
          1991,
          1992,
          1993,
          1994,
          1995,
          1996,
          1997,
          1998,
          1999,
          2000,
          2001,
          2002,
          2003,
          2004,
          2005,
          2006,
          2007,
          2008,
          2009,
          2010,
          2011,
          2012,
          2013,
          2014,
          2015
         ],
         "y": [
          -0.45186852124034604,
          -1.4676680686918537,
          -1.542824495400584,
          -0.9509291403141894,
          -0.9565168061870019,
          -0.8083088703719457,
          -1.3520927704667165,
          -0.28285845475884075,
          -0.24188706162022164,
          0.09305475787591716,
          -0.05771862117533849,
          -0.8251099020569014,
          -0.25022832282422736,
          2.813993560904512,
          0.8183969597981753,
          -0.5413591447109822,
          0.4768874255024885,
          -1.534759632688378,
          -0.0589828572229195,
          -1.1505079479810119,
          -0.14375486771630613,
          -1.3583944136570258,
          0.3842553947691544,
          -1.2622476346371447,
          -0.6918261797816667,
          -1.1909183108515051,
          -0.14285162350855826,
          -0.739141850821405,
          -0.800698991314642,
          0.3467271879030003,
          -0.10226687105534786,
          1.0028423452662831,
          0.22970269590292874,
          -0.5630722461426699,
          1.151234986883701,
          1.8867798983993287,
          2.813993560904512,
          2.6016754070067223,
          0.03539511206822326,
          1.1084488301431479,
          1.4853498119807151,
          -0.20514643062104262,
          1.0677194037369064,
          0.8476008124972925,
          0.08289252145003997,
          -0.017473029116484604,
          0.8755149051402968,
          3.416597790255112,
          0.34870888374709247,
          1.3579402794592836,
          -0.37616488730932857,
          -0.14104263303154532,
          -0.6473964140314845,
          0.9604266259304935,
          -0.7475851415677482,
          1.189963835657478,
          0.7393590098326749,
          -0.21046823148535027,
          -0.12785385797243082,
          0.204274789870239,
          0.12190825058510385,
          0.33568865072185905,
          -0.3107398550867179,
          0.31226613188109187,
          -0.2775001930346737,
          -0.6896620267271365,
          -0.05771862117533849,
          -0.1562323671618656,
          0.5044232857134109,
          -0.013044172287170792,
          -0.14062469917027456,
          -0.7660599828285372,
          0.015984871909022293,
          -0.6577450485715117,
          -0.46479470579955867,
          0.07773950062088064,
          -0.20899725565472096,
          0.061430037839396094,
          -0.01992540003530477,
          -0.05734373218048479,
          -0.04114001483959543,
          0.13177970012530085,
          -0.31975923300729586,
          0.42623093783860233,
          -2.1019883101135375,
          -2.1019883101135375
         ]
        }
       ],
       "layout": {
        "sliders": [
         {
          "active": 42,
          "currentvalue": {
           "prefix": "Lag: "
          },
          "pad": {
           "t": 50
          },
          "steps": [
           {
            "args": [
             {
              "visible": [
               true,
               false,
               false,
               false,
               false,
               false,
               false,
               false,
               false,
               false,
               false,
               false,
               false,
               false,
               false,
               false,
               false,
               false,
               false,
               false,
               false,
               false,
               false,
               false,
               false,
               false,
               false,
               false,
               false,
               false,
               false,
               false,
               false,
               false,
               false,
               false,
               false,
               false,
               false,
               false,
               false,
               false,
               false,
               false,
               false,
               false,
               false,
               false,
               false,
               false,
               false,
               false,
               false,
               false,
               false,
               false,
               false,
               false,
               false,
               false,
               false,
               false,
               false,
               false,
               false,
               false,
               false,
               false,
               false,
               false,
               false,
               false,
               false,
               false,
               false,
               false,
               false,
               false,
               false,
               false,
               false,
               false,
               false,
               false,
               false,
               true
              ]
             }
            ],
            "method": "update"
           },
           {
            "args": [
             {
              "visible": [
               false,
               true,
               false,
               false,
               false,
               false,
               false,
               false,
               false,
               false,
               false,
               false,
               false,
               false,
               false,
               false,
               false,
               false,
               false,
               false,
               false,
               false,
               false,
               false,
               false,
               false,
               false,
               false,
               false,
               false,
               false,
               false,
               false,
               false,
               false,
               false,
               false,
               false,
               false,
               false,
               false,
               false,
               false,
               false,
               false,
               false,
               false,
               false,
               false,
               false,
               false,
               false,
               false,
               false,
               false,
               false,
               false,
               false,
               false,
               false,
               false,
               false,
               false,
               false,
               false,
               false,
               false,
               false,
               false,
               false,
               false,
               false,
               false,
               false,
               false,
               false,
               false,
               false,
               false,
               false,
               false,
               false,
               false,
               false,
               false,
               true
              ]
             }
            ],
            "method": "update"
           },
           {
            "args": [
             {
              "visible": [
               false,
               false,
               true,
               false,
               false,
               false,
               false,
               false,
               false,
               false,
               false,
               false,
               false,
               false,
               false,
               false,
               false,
               false,
               false,
               false,
               false,
               false,
               false,
               false,
               false,
               false,
               false,
               false,
               false,
               false,
               false,
               false,
               false,
               false,
               false,
               false,
               false,
               false,
               false,
               false,
               false,
               false,
               false,
               false,
               false,
               false,
               false,
               false,
               false,
               false,
               false,
               false,
               false,
               false,
               false,
               false,
               false,
               false,
               false,
               false,
               false,
               false,
               false,
               false,
               false,
               false,
               false,
               false,
               false,
               false,
               false,
               false,
               false,
               false,
               false,
               false,
               false,
               false,
               false,
               false,
               false,
               false,
               false,
               false,
               false,
               true
              ]
             }
            ],
            "method": "update"
           },
           {
            "args": [
             {
              "visible": [
               false,
               false,
               false,
               true,
               false,
               false,
               false,
               false,
               false,
               false,
               false,
               false,
               false,
               false,
               false,
               false,
               false,
               false,
               false,
               false,
               false,
               false,
               false,
               false,
               false,
               false,
               false,
               false,
               false,
               false,
               false,
               false,
               false,
               false,
               false,
               false,
               false,
               false,
               false,
               false,
               false,
               false,
               false,
               false,
               false,
               false,
               false,
               false,
               false,
               false,
               false,
               false,
               false,
               false,
               false,
               false,
               false,
               false,
               false,
               false,
               false,
               false,
               false,
               false,
               false,
               false,
               false,
               false,
               false,
               false,
               false,
               false,
               false,
               false,
               false,
               false,
               false,
               false,
               false,
               false,
               false,
               false,
               false,
               false,
               false,
               true
              ]
             }
            ],
            "method": "update"
           },
           {
            "args": [
             {
              "visible": [
               false,
               false,
               false,
               false,
               true,
               false,
               false,
               false,
               false,
               false,
               false,
               false,
               false,
               false,
               false,
               false,
               false,
               false,
               false,
               false,
               false,
               false,
               false,
               false,
               false,
               false,
               false,
               false,
               false,
               false,
               false,
               false,
               false,
               false,
               false,
               false,
               false,
               false,
               false,
               false,
               false,
               false,
               false,
               false,
               false,
               false,
               false,
               false,
               false,
               false,
               false,
               false,
               false,
               false,
               false,
               false,
               false,
               false,
               false,
               false,
               false,
               false,
               false,
               false,
               false,
               false,
               false,
               false,
               false,
               false,
               false,
               false,
               false,
               false,
               false,
               false,
               false,
               false,
               false,
               false,
               false,
               false,
               false,
               false,
               false,
               true
              ]
             }
            ],
            "method": "update"
           },
           {
            "args": [
             {
              "visible": [
               false,
               false,
               false,
               false,
               false,
               true,
               false,
               false,
               false,
               false,
               false,
               false,
               false,
               false,
               false,
               false,
               false,
               false,
               false,
               false,
               false,
               false,
               false,
               false,
               false,
               false,
               false,
               false,
               false,
               false,
               false,
               false,
               false,
               false,
               false,
               false,
               false,
               false,
               false,
               false,
               false,
               false,
               false,
               false,
               false,
               false,
               false,
               false,
               false,
               false,
               false,
               false,
               false,
               false,
               false,
               false,
               false,
               false,
               false,
               false,
               false,
               false,
               false,
               false,
               false,
               false,
               false,
               false,
               false,
               false,
               false,
               false,
               false,
               false,
               false,
               false,
               false,
               false,
               false,
               false,
               false,
               false,
               false,
               false,
               false,
               true
              ]
             }
            ],
            "method": "update"
           },
           {
            "args": [
             {
              "visible": [
               false,
               false,
               false,
               false,
               false,
               false,
               true,
               false,
               false,
               false,
               false,
               false,
               false,
               false,
               false,
               false,
               false,
               false,
               false,
               false,
               false,
               false,
               false,
               false,
               false,
               false,
               false,
               false,
               false,
               false,
               false,
               false,
               false,
               false,
               false,
               false,
               false,
               false,
               false,
               false,
               false,
               false,
               false,
               false,
               false,
               false,
               false,
               false,
               false,
               false,
               false,
               false,
               false,
               false,
               false,
               false,
               false,
               false,
               false,
               false,
               false,
               false,
               false,
               false,
               false,
               false,
               false,
               false,
               false,
               false,
               false,
               false,
               false,
               false,
               false,
               false,
               false,
               false,
               false,
               false,
               false,
               false,
               false,
               false,
               false,
               true
              ]
             }
            ],
            "method": "update"
           },
           {
            "args": [
             {
              "visible": [
               false,
               false,
               false,
               false,
               false,
               false,
               false,
               true,
               false,
               false,
               false,
               false,
               false,
               false,
               false,
               false,
               false,
               false,
               false,
               false,
               false,
               false,
               false,
               false,
               false,
               false,
               false,
               false,
               false,
               false,
               false,
               false,
               false,
               false,
               false,
               false,
               false,
               false,
               false,
               false,
               false,
               false,
               false,
               false,
               false,
               false,
               false,
               false,
               false,
               false,
               false,
               false,
               false,
               false,
               false,
               false,
               false,
               false,
               false,
               false,
               false,
               false,
               false,
               false,
               false,
               false,
               false,
               false,
               false,
               false,
               false,
               false,
               false,
               false,
               false,
               false,
               false,
               false,
               false,
               false,
               false,
               false,
               false,
               false,
               false,
               true
              ]
             }
            ],
            "method": "update"
           },
           {
            "args": [
             {
              "visible": [
               false,
               false,
               false,
               false,
               false,
               false,
               false,
               false,
               true,
               false,
               false,
               false,
               false,
               false,
               false,
               false,
               false,
               false,
               false,
               false,
               false,
               false,
               false,
               false,
               false,
               false,
               false,
               false,
               false,
               false,
               false,
               false,
               false,
               false,
               false,
               false,
               false,
               false,
               false,
               false,
               false,
               false,
               false,
               false,
               false,
               false,
               false,
               false,
               false,
               false,
               false,
               false,
               false,
               false,
               false,
               false,
               false,
               false,
               false,
               false,
               false,
               false,
               false,
               false,
               false,
               false,
               false,
               false,
               false,
               false,
               false,
               false,
               false,
               false,
               false,
               false,
               false,
               false,
               false,
               false,
               false,
               false,
               false,
               false,
               false,
               true
              ]
             }
            ],
            "method": "update"
           },
           {
            "args": [
             {
              "visible": [
               false,
               false,
               false,
               false,
               false,
               false,
               false,
               false,
               false,
               true,
               false,
               false,
               false,
               false,
               false,
               false,
               false,
               false,
               false,
               false,
               false,
               false,
               false,
               false,
               false,
               false,
               false,
               false,
               false,
               false,
               false,
               false,
               false,
               false,
               false,
               false,
               false,
               false,
               false,
               false,
               false,
               false,
               false,
               false,
               false,
               false,
               false,
               false,
               false,
               false,
               false,
               false,
               false,
               false,
               false,
               false,
               false,
               false,
               false,
               false,
               false,
               false,
               false,
               false,
               false,
               false,
               false,
               false,
               false,
               false,
               false,
               false,
               false,
               false,
               false,
               false,
               false,
               false,
               false,
               false,
               false,
               false,
               false,
               false,
               false,
               true
              ]
             }
            ],
            "method": "update"
           },
           {
            "args": [
             {
              "visible": [
               false,
               false,
               false,
               false,
               false,
               false,
               false,
               false,
               false,
               false,
               true,
               false,
               false,
               false,
               false,
               false,
               false,
               false,
               false,
               false,
               false,
               false,
               false,
               false,
               false,
               false,
               false,
               false,
               false,
               false,
               false,
               false,
               false,
               false,
               false,
               false,
               false,
               false,
               false,
               false,
               false,
               false,
               false,
               false,
               false,
               false,
               false,
               false,
               false,
               false,
               false,
               false,
               false,
               false,
               false,
               false,
               false,
               false,
               false,
               false,
               false,
               false,
               false,
               false,
               false,
               false,
               false,
               false,
               false,
               false,
               false,
               false,
               false,
               false,
               false,
               false,
               false,
               false,
               false,
               false,
               false,
               false,
               false,
               false,
               false,
               true
              ]
             }
            ],
            "method": "update"
           },
           {
            "args": [
             {
              "visible": [
               false,
               false,
               false,
               false,
               false,
               false,
               false,
               false,
               false,
               false,
               false,
               true,
               false,
               false,
               false,
               false,
               false,
               false,
               false,
               false,
               false,
               false,
               false,
               false,
               false,
               false,
               false,
               false,
               false,
               false,
               false,
               false,
               false,
               false,
               false,
               false,
               false,
               false,
               false,
               false,
               false,
               false,
               false,
               false,
               false,
               false,
               false,
               false,
               false,
               false,
               false,
               false,
               false,
               false,
               false,
               false,
               false,
               false,
               false,
               false,
               false,
               false,
               false,
               false,
               false,
               false,
               false,
               false,
               false,
               false,
               false,
               false,
               false,
               false,
               false,
               false,
               false,
               false,
               false,
               false,
               false,
               false,
               false,
               false,
               false,
               true
              ]
             }
            ],
            "method": "update"
           },
           {
            "args": [
             {
              "visible": [
               false,
               false,
               false,
               false,
               false,
               false,
               false,
               false,
               false,
               false,
               false,
               false,
               true,
               false,
               false,
               false,
               false,
               false,
               false,
               false,
               false,
               false,
               false,
               false,
               false,
               false,
               false,
               false,
               false,
               false,
               false,
               false,
               false,
               false,
               false,
               false,
               false,
               false,
               false,
               false,
               false,
               false,
               false,
               false,
               false,
               false,
               false,
               false,
               false,
               false,
               false,
               false,
               false,
               false,
               false,
               false,
               false,
               false,
               false,
               false,
               false,
               false,
               false,
               false,
               false,
               false,
               false,
               false,
               false,
               false,
               false,
               false,
               false,
               false,
               false,
               false,
               false,
               false,
               false,
               false,
               false,
               false,
               false,
               false,
               false,
               true
              ]
             }
            ],
            "method": "update"
           },
           {
            "args": [
             {
              "visible": [
               false,
               false,
               false,
               false,
               false,
               false,
               false,
               false,
               false,
               false,
               false,
               false,
               false,
               true,
               false,
               false,
               false,
               false,
               false,
               false,
               false,
               false,
               false,
               false,
               false,
               false,
               false,
               false,
               false,
               false,
               false,
               false,
               false,
               false,
               false,
               false,
               false,
               false,
               false,
               false,
               false,
               false,
               false,
               false,
               false,
               false,
               false,
               false,
               false,
               false,
               false,
               false,
               false,
               false,
               false,
               false,
               false,
               false,
               false,
               false,
               false,
               false,
               false,
               false,
               false,
               false,
               false,
               false,
               false,
               false,
               false,
               false,
               false,
               false,
               false,
               false,
               false,
               false,
               false,
               false,
               false,
               false,
               false,
               false,
               false,
               true
              ]
             }
            ],
            "method": "update"
           },
           {
            "args": [
             {
              "visible": [
               false,
               false,
               false,
               false,
               false,
               false,
               false,
               false,
               false,
               false,
               false,
               false,
               false,
               false,
               true,
               false,
               false,
               false,
               false,
               false,
               false,
               false,
               false,
               false,
               false,
               false,
               false,
               false,
               false,
               false,
               false,
               false,
               false,
               false,
               false,
               false,
               false,
               false,
               false,
               false,
               false,
               false,
               false,
               false,
               false,
               false,
               false,
               false,
               false,
               false,
               false,
               false,
               false,
               false,
               false,
               false,
               false,
               false,
               false,
               false,
               false,
               false,
               false,
               false,
               false,
               false,
               false,
               false,
               false,
               false,
               false,
               false,
               false,
               false,
               false,
               false,
               false,
               false,
               false,
               false,
               false,
               false,
               false,
               false,
               false,
               true
              ]
             }
            ],
            "method": "update"
           },
           {
            "args": [
             {
              "visible": [
               false,
               false,
               false,
               false,
               false,
               false,
               false,
               false,
               false,
               false,
               false,
               false,
               false,
               false,
               false,
               true,
               false,
               false,
               false,
               false,
               false,
               false,
               false,
               false,
               false,
               false,
               false,
               false,
               false,
               false,
               false,
               false,
               false,
               false,
               false,
               false,
               false,
               false,
               false,
               false,
               false,
               false,
               false,
               false,
               false,
               false,
               false,
               false,
               false,
               false,
               false,
               false,
               false,
               false,
               false,
               false,
               false,
               false,
               false,
               false,
               false,
               false,
               false,
               false,
               false,
               false,
               false,
               false,
               false,
               false,
               false,
               false,
               false,
               false,
               false,
               false,
               false,
               false,
               false,
               false,
               false,
               false,
               false,
               false,
               false,
               true
              ]
             }
            ],
            "method": "update"
           },
           {
            "args": [
             {
              "visible": [
               false,
               false,
               false,
               false,
               false,
               false,
               false,
               false,
               false,
               false,
               false,
               false,
               false,
               false,
               false,
               false,
               true,
               false,
               false,
               false,
               false,
               false,
               false,
               false,
               false,
               false,
               false,
               false,
               false,
               false,
               false,
               false,
               false,
               false,
               false,
               false,
               false,
               false,
               false,
               false,
               false,
               false,
               false,
               false,
               false,
               false,
               false,
               false,
               false,
               false,
               false,
               false,
               false,
               false,
               false,
               false,
               false,
               false,
               false,
               false,
               false,
               false,
               false,
               false,
               false,
               false,
               false,
               false,
               false,
               false,
               false,
               false,
               false,
               false,
               false,
               false,
               false,
               false,
               false,
               false,
               false,
               false,
               false,
               false,
               false,
               true
              ]
             }
            ],
            "method": "update"
           },
           {
            "args": [
             {
              "visible": [
               false,
               false,
               false,
               false,
               false,
               false,
               false,
               false,
               false,
               false,
               false,
               false,
               false,
               false,
               false,
               false,
               false,
               true,
               false,
               false,
               false,
               false,
               false,
               false,
               false,
               false,
               false,
               false,
               false,
               false,
               false,
               false,
               false,
               false,
               false,
               false,
               false,
               false,
               false,
               false,
               false,
               false,
               false,
               false,
               false,
               false,
               false,
               false,
               false,
               false,
               false,
               false,
               false,
               false,
               false,
               false,
               false,
               false,
               false,
               false,
               false,
               false,
               false,
               false,
               false,
               false,
               false,
               false,
               false,
               false,
               false,
               false,
               false,
               false,
               false,
               false,
               false,
               false,
               false,
               false,
               false,
               false,
               false,
               false,
               false,
               true
              ]
             }
            ],
            "method": "update"
           },
           {
            "args": [
             {
              "visible": [
               false,
               false,
               false,
               false,
               false,
               false,
               false,
               false,
               false,
               false,
               false,
               false,
               false,
               false,
               false,
               false,
               false,
               false,
               true,
               false,
               false,
               false,
               false,
               false,
               false,
               false,
               false,
               false,
               false,
               false,
               false,
               false,
               false,
               false,
               false,
               false,
               false,
               false,
               false,
               false,
               false,
               false,
               false,
               false,
               false,
               false,
               false,
               false,
               false,
               false,
               false,
               false,
               false,
               false,
               false,
               false,
               false,
               false,
               false,
               false,
               false,
               false,
               false,
               false,
               false,
               false,
               false,
               false,
               false,
               false,
               false,
               false,
               false,
               false,
               false,
               false,
               false,
               false,
               false,
               false,
               false,
               false,
               false,
               false,
               false,
               true
              ]
             }
            ],
            "method": "update"
           },
           {
            "args": [
             {
              "visible": [
               false,
               false,
               false,
               false,
               false,
               false,
               false,
               false,
               false,
               false,
               false,
               false,
               false,
               false,
               false,
               false,
               false,
               false,
               false,
               true,
               false,
               false,
               false,
               false,
               false,
               false,
               false,
               false,
               false,
               false,
               false,
               false,
               false,
               false,
               false,
               false,
               false,
               false,
               false,
               false,
               false,
               false,
               false,
               false,
               false,
               false,
               false,
               false,
               false,
               false,
               false,
               false,
               false,
               false,
               false,
               false,
               false,
               false,
               false,
               false,
               false,
               false,
               false,
               false,
               false,
               false,
               false,
               false,
               false,
               false,
               false,
               false,
               false,
               false,
               false,
               false,
               false,
               false,
               false,
               false,
               false,
               false,
               false,
               false,
               false,
               true
              ]
             }
            ],
            "method": "update"
           },
           {
            "args": [
             {
              "visible": [
               false,
               false,
               false,
               false,
               false,
               false,
               false,
               false,
               false,
               false,
               false,
               false,
               false,
               false,
               false,
               false,
               false,
               false,
               false,
               false,
               true,
               false,
               false,
               false,
               false,
               false,
               false,
               false,
               false,
               false,
               false,
               false,
               false,
               false,
               false,
               false,
               false,
               false,
               false,
               false,
               false,
               false,
               false,
               false,
               false,
               false,
               false,
               false,
               false,
               false,
               false,
               false,
               false,
               false,
               false,
               false,
               false,
               false,
               false,
               false,
               false,
               false,
               false,
               false,
               false,
               false,
               false,
               false,
               false,
               false,
               false,
               false,
               false,
               false,
               false,
               false,
               false,
               false,
               false,
               false,
               false,
               false,
               false,
               false,
               false,
               true
              ]
             }
            ],
            "method": "update"
           },
           {
            "args": [
             {
              "visible": [
               false,
               false,
               false,
               false,
               false,
               false,
               false,
               false,
               false,
               false,
               false,
               false,
               false,
               false,
               false,
               false,
               false,
               false,
               false,
               false,
               false,
               true,
               false,
               false,
               false,
               false,
               false,
               false,
               false,
               false,
               false,
               false,
               false,
               false,
               false,
               false,
               false,
               false,
               false,
               false,
               false,
               false,
               false,
               false,
               false,
               false,
               false,
               false,
               false,
               false,
               false,
               false,
               false,
               false,
               false,
               false,
               false,
               false,
               false,
               false,
               false,
               false,
               false,
               false,
               false,
               false,
               false,
               false,
               false,
               false,
               false,
               false,
               false,
               false,
               false,
               false,
               false,
               false,
               false,
               false,
               false,
               false,
               false,
               false,
               false,
               true
              ]
             }
            ],
            "method": "update"
           },
           {
            "args": [
             {
              "visible": [
               false,
               false,
               false,
               false,
               false,
               false,
               false,
               false,
               false,
               false,
               false,
               false,
               false,
               false,
               false,
               false,
               false,
               false,
               false,
               false,
               false,
               false,
               true,
               false,
               false,
               false,
               false,
               false,
               false,
               false,
               false,
               false,
               false,
               false,
               false,
               false,
               false,
               false,
               false,
               false,
               false,
               false,
               false,
               false,
               false,
               false,
               false,
               false,
               false,
               false,
               false,
               false,
               false,
               false,
               false,
               false,
               false,
               false,
               false,
               false,
               false,
               false,
               false,
               false,
               false,
               false,
               false,
               false,
               false,
               false,
               false,
               false,
               false,
               false,
               false,
               false,
               false,
               false,
               false,
               false,
               false,
               false,
               false,
               false,
               false,
               true
              ]
             }
            ],
            "method": "update"
           },
           {
            "args": [
             {
              "visible": [
               false,
               false,
               false,
               false,
               false,
               false,
               false,
               false,
               false,
               false,
               false,
               false,
               false,
               false,
               false,
               false,
               false,
               false,
               false,
               false,
               false,
               false,
               false,
               true,
               false,
               false,
               false,
               false,
               false,
               false,
               false,
               false,
               false,
               false,
               false,
               false,
               false,
               false,
               false,
               false,
               false,
               false,
               false,
               false,
               false,
               false,
               false,
               false,
               false,
               false,
               false,
               false,
               false,
               false,
               false,
               false,
               false,
               false,
               false,
               false,
               false,
               false,
               false,
               false,
               false,
               false,
               false,
               false,
               false,
               false,
               false,
               false,
               false,
               false,
               false,
               false,
               false,
               false,
               false,
               false,
               false,
               false,
               false,
               false,
               false,
               true
              ]
             }
            ],
            "method": "update"
           },
           {
            "args": [
             {
              "visible": [
               false,
               false,
               false,
               false,
               false,
               false,
               false,
               false,
               false,
               false,
               false,
               false,
               false,
               false,
               false,
               false,
               false,
               false,
               false,
               false,
               false,
               false,
               false,
               false,
               true,
               false,
               false,
               false,
               false,
               false,
               false,
               false,
               false,
               false,
               false,
               false,
               false,
               false,
               false,
               false,
               false,
               false,
               false,
               false,
               false,
               false,
               false,
               false,
               false,
               false,
               false,
               false,
               false,
               false,
               false,
               false,
               false,
               false,
               false,
               false,
               false,
               false,
               false,
               false,
               false,
               false,
               false,
               false,
               false,
               false,
               false,
               false,
               false,
               false,
               false,
               false,
               false,
               false,
               false,
               false,
               false,
               false,
               false,
               false,
               false,
               true
              ]
             }
            ],
            "method": "update"
           },
           {
            "args": [
             {
              "visible": [
               false,
               false,
               false,
               false,
               false,
               false,
               false,
               false,
               false,
               false,
               false,
               false,
               false,
               false,
               false,
               false,
               false,
               false,
               false,
               false,
               false,
               false,
               false,
               false,
               false,
               true,
               false,
               false,
               false,
               false,
               false,
               false,
               false,
               false,
               false,
               false,
               false,
               false,
               false,
               false,
               false,
               false,
               false,
               false,
               false,
               false,
               false,
               false,
               false,
               false,
               false,
               false,
               false,
               false,
               false,
               false,
               false,
               false,
               false,
               false,
               false,
               false,
               false,
               false,
               false,
               false,
               false,
               false,
               false,
               false,
               false,
               false,
               false,
               false,
               false,
               false,
               false,
               false,
               false,
               false,
               false,
               false,
               false,
               false,
               false,
               true
              ]
             }
            ],
            "method": "update"
           },
           {
            "args": [
             {
              "visible": [
               false,
               false,
               false,
               false,
               false,
               false,
               false,
               false,
               false,
               false,
               false,
               false,
               false,
               false,
               false,
               false,
               false,
               false,
               false,
               false,
               false,
               false,
               false,
               false,
               false,
               false,
               true,
               false,
               false,
               false,
               false,
               false,
               false,
               false,
               false,
               false,
               false,
               false,
               false,
               false,
               false,
               false,
               false,
               false,
               false,
               false,
               false,
               false,
               false,
               false,
               false,
               false,
               false,
               false,
               false,
               false,
               false,
               false,
               false,
               false,
               false,
               false,
               false,
               false,
               false,
               false,
               false,
               false,
               false,
               false,
               false,
               false,
               false,
               false,
               false,
               false,
               false,
               false,
               false,
               false,
               false,
               false,
               false,
               false,
               false,
               true
              ]
             }
            ],
            "method": "update"
           },
           {
            "args": [
             {
              "visible": [
               false,
               false,
               false,
               false,
               false,
               false,
               false,
               false,
               false,
               false,
               false,
               false,
               false,
               false,
               false,
               false,
               false,
               false,
               false,
               false,
               false,
               false,
               false,
               false,
               false,
               false,
               false,
               true,
               false,
               false,
               false,
               false,
               false,
               false,
               false,
               false,
               false,
               false,
               false,
               false,
               false,
               false,
               false,
               false,
               false,
               false,
               false,
               false,
               false,
               false,
               false,
               false,
               false,
               false,
               false,
               false,
               false,
               false,
               false,
               false,
               false,
               false,
               false,
               false,
               false,
               false,
               false,
               false,
               false,
               false,
               false,
               false,
               false,
               false,
               false,
               false,
               false,
               false,
               false,
               false,
               false,
               false,
               false,
               false,
               false,
               true
              ]
             }
            ],
            "method": "update"
           },
           {
            "args": [
             {
              "visible": [
               false,
               false,
               false,
               false,
               false,
               false,
               false,
               false,
               false,
               false,
               false,
               false,
               false,
               false,
               false,
               false,
               false,
               false,
               false,
               false,
               false,
               false,
               false,
               false,
               false,
               false,
               false,
               false,
               true,
               false,
               false,
               false,
               false,
               false,
               false,
               false,
               false,
               false,
               false,
               false,
               false,
               false,
               false,
               false,
               false,
               false,
               false,
               false,
               false,
               false,
               false,
               false,
               false,
               false,
               false,
               false,
               false,
               false,
               false,
               false,
               false,
               false,
               false,
               false,
               false,
               false,
               false,
               false,
               false,
               false,
               false,
               false,
               false,
               false,
               false,
               false,
               false,
               false,
               false,
               false,
               false,
               false,
               false,
               false,
               false,
               true
              ]
             }
            ],
            "method": "update"
           },
           {
            "args": [
             {
              "visible": [
               false,
               false,
               false,
               false,
               false,
               false,
               false,
               false,
               false,
               false,
               false,
               false,
               false,
               false,
               false,
               false,
               false,
               false,
               false,
               false,
               false,
               false,
               false,
               false,
               false,
               false,
               false,
               false,
               false,
               true,
               false,
               false,
               false,
               false,
               false,
               false,
               false,
               false,
               false,
               false,
               false,
               false,
               false,
               false,
               false,
               false,
               false,
               false,
               false,
               false,
               false,
               false,
               false,
               false,
               false,
               false,
               false,
               false,
               false,
               false,
               false,
               false,
               false,
               false,
               false,
               false,
               false,
               false,
               false,
               false,
               false,
               false,
               false,
               false,
               false,
               false,
               false,
               false,
               false,
               false,
               false,
               false,
               false,
               false,
               false,
               true
              ]
             }
            ],
            "method": "update"
           },
           {
            "args": [
             {
              "visible": [
               false,
               false,
               false,
               false,
               false,
               false,
               false,
               false,
               false,
               false,
               false,
               false,
               false,
               false,
               false,
               false,
               false,
               false,
               false,
               false,
               false,
               false,
               false,
               false,
               false,
               false,
               false,
               false,
               false,
               false,
               true,
               false,
               false,
               false,
               false,
               false,
               false,
               false,
               false,
               false,
               false,
               false,
               false,
               false,
               false,
               false,
               false,
               false,
               false,
               false,
               false,
               false,
               false,
               false,
               false,
               false,
               false,
               false,
               false,
               false,
               false,
               false,
               false,
               false,
               false,
               false,
               false,
               false,
               false,
               false,
               false,
               false,
               false,
               false,
               false,
               false,
               false,
               false,
               false,
               false,
               false,
               false,
               false,
               false,
               false,
               true
              ]
             }
            ],
            "method": "update"
           },
           {
            "args": [
             {
              "visible": [
               false,
               false,
               false,
               false,
               false,
               false,
               false,
               false,
               false,
               false,
               false,
               false,
               false,
               false,
               false,
               false,
               false,
               false,
               false,
               false,
               false,
               false,
               false,
               false,
               false,
               false,
               false,
               false,
               false,
               false,
               false,
               true,
               false,
               false,
               false,
               false,
               false,
               false,
               false,
               false,
               false,
               false,
               false,
               false,
               false,
               false,
               false,
               false,
               false,
               false,
               false,
               false,
               false,
               false,
               false,
               false,
               false,
               false,
               false,
               false,
               false,
               false,
               false,
               false,
               false,
               false,
               false,
               false,
               false,
               false,
               false,
               false,
               false,
               false,
               false,
               false,
               false,
               false,
               false,
               false,
               false,
               false,
               false,
               false,
               false,
               true
              ]
             }
            ],
            "method": "update"
           },
           {
            "args": [
             {
              "visible": [
               false,
               false,
               false,
               false,
               false,
               false,
               false,
               false,
               false,
               false,
               false,
               false,
               false,
               false,
               false,
               false,
               false,
               false,
               false,
               false,
               false,
               false,
               false,
               false,
               false,
               false,
               false,
               false,
               false,
               false,
               false,
               false,
               true,
               false,
               false,
               false,
               false,
               false,
               false,
               false,
               false,
               false,
               false,
               false,
               false,
               false,
               false,
               false,
               false,
               false,
               false,
               false,
               false,
               false,
               false,
               false,
               false,
               false,
               false,
               false,
               false,
               false,
               false,
               false,
               false,
               false,
               false,
               false,
               false,
               false,
               false,
               false,
               false,
               false,
               false,
               false,
               false,
               false,
               false,
               false,
               false,
               false,
               false,
               false,
               false,
               true
              ]
             }
            ],
            "method": "update"
           },
           {
            "args": [
             {
              "visible": [
               false,
               false,
               false,
               false,
               false,
               false,
               false,
               false,
               false,
               false,
               false,
               false,
               false,
               false,
               false,
               false,
               false,
               false,
               false,
               false,
               false,
               false,
               false,
               false,
               false,
               false,
               false,
               false,
               false,
               false,
               false,
               false,
               false,
               true,
               false,
               false,
               false,
               false,
               false,
               false,
               false,
               false,
               false,
               false,
               false,
               false,
               false,
               false,
               false,
               false,
               false,
               false,
               false,
               false,
               false,
               false,
               false,
               false,
               false,
               false,
               false,
               false,
               false,
               false,
               false,
               false,
               false,
               false,
               false,
               false,
               false,
               false,
               false,
               false,
               false,
               false,
               false,
               false,
               false,
               false,
               false,
               false,
               false,
               false,
               false,
               true
              ]
             }
            ],
            "method": "update"
           },
           {
            "args": [
             {
              "visible": [
               false,
               false,
               false,
               false,
               false,
               false,
               false,
               false,
               false,
               false,
               false,
               false,
               false,
               false,
               false,
               false,
               false,
               false,
               false,
               false,
               false,
               false,
               false,
               false,
               false,
               false,
               false,
               false,
               false,
               false,
               false,
               false,
               false,
               false,
               true,
               false,
               false,
               false,
               false,
               false,
               false,
               false,
               false,
               false,
               false,
               false,
               false,
               false,
               false,
               false,
               false,
               false,
               false,
               false,
               false,
               false,
               false,
               false,
               false,
               false,
               false,
               false,
               false,
               false,
               false,
               false,
               false,
               false,
               false,
               false,
               false,
               false,
               false,
               false,
               false,
               false,
               false,
               false,
               false,
               false,
               false,
               false,
               false,
               false,
               false,
               true
              ]
             }
            ],
            "method": "update"
           },
           {
            "args": [
             {
              "visible": [
               false,
               false,
               false,
               false,
               false,
               false,
               false,
               false,
               false,
               false,
               false,
               false,
               false,
               false,
               false,
               false,
               false,
               false,
               false,
               false,
               false,
               false,
               false,
               false,
               false,
               false,
               false,
               false,
               false,
               false,
               false,
               false,
               false,
               false,
               false,
               true,
               false,
               false,
               false,
               false,
               false,
               false,
               false,
               false,
               false,
               false,
               false,
               false,
               false,
               false,
               false,
               false,
               false,
               false,
               false,
               false,
               false,
               false,
               false,
               false,
               false,
               false,
               false,
               false,
               false,
               false,
               false,
               false,
               false,
               false,
               false,
               false,
               false,
               false,
               false,
               false,
               false,
               false,
               false,
               false,
               false,
               false,
               false,
               false,
               false,
               true
              ]
             }
            ],
            "method": "update"
           },
           {
            "args": [
             {
              "visible": [
               false,
               false,
               false,
               false,
               false,
               false,
               false,
               false,
               false,
               false,
               false,
               false,
               false,
               false,
               false,
               false,
               false,
               false,
               false,
               false,
               false,
               false,
               false,
               false,
               false,
               false,
               false,
               false,
               false,
               false,
               false,
               false,
               false,
               false,
               false,
               false,
               true,
               false,
               false,
               false,
               false,
               false,
               false,
               false,
               false,
               false,
               false,
               false,
               false,
               false,
               false,
               false,
               false,
               false,
               false,
               false,
               false,
               false,
               false,
               false,
               false,
               false,
               false,
               false,
               false,
               false,
               false,
               false,
               false,
               false,
               false,
               false,
               false,
               false,
               false,
               false,
               false,
               false,
               false,
               false,
               false,
               false,
               false,
               false,
               false,
               true
              ]
             }
            ],
            "method": "update"
           },
           {
            "args": [
             {
              "visible": [
               false,
               false,
               false,
               false,
               false,
               false,
               false,
               false,
               false,
               false,
               false,
               false,
               false,
               false,
               false,
               false,
               false,
               false,
               false,
               false,
               false,
               false,
               false,
               false,
               false,
               false,
               false,
               false,
               false,
               false,
               false,
               false,
               false,
               false,
               false,
               false,
               false,
               true,
               false,
               false,
               false,
               false,
               false,
               false,
               false,
               false,
               false,
               false,
               false,
               false,
               false,
               false,
               false,
               false,
               false,
               false,
               false,
               false,
               false,
               false,
               false,
               false,
               false,
               false,
               false,
               false,
               false,
               false,
               false,
               false,
               false,
               false,
               false,
               false,
               false,
               false,
               false,
               false,
               false,
               false,
               false,
               false,
               false,
               false,
               false,
               true
              ]
             }
            ],
            "method": "update"
           },
           {
            "args": [
             {
              "visible": [
               false,
               false,
               false,
               false,
               false,
               false,
               false,
               false,
               false,
               false,
               false,
               false,
               false,
               false,
               false,
               false,
               false,
               false,
               false,
               false,
               false,
               false,
               false,
               false,
               false,
               false,
               false,
               false,
               false,
               false,
               false,
               false,
               false,
               false,
               false,
               false,
               false,
               false,
               true,
               false,
               false,
               false,
               false,
               false,
               false,
               false,
               false,
               false,
               false,
               false,
               false,
               false,
               false,
               false,
               false,
               false,
               false,
               false,
               false,
               false,
               false,
               false,
               false,
               false,
               false,
               false,
               false,
               false,
               false,
               false,
               false,
               false,
               false,
               false,
               false,
               false,
               false,
               false,
               false,
               false,
               false,
               false,
               false,
               false,
               false,
               true
              ]
             }
            ],
            "method": "update"
           },
           {
            "args": [
             {
              "visible": [
               false,
               false,
               false,
               false,
               false,
               false,
               false,
               false,
               false,
               false,
               false,
               false,
               false,
               false,
               false,
               false,
               false,
               false,
               false,
               false,
               false,
               false,
               false,
               false,
               false,
               false,
               false,
               false,
               false,
               false,
               false,
               false,
               false,
               false,
               false,
               false,
               false,
               false,
               false,
               true,
               false,
               false,
               false,
               false,
               false,
               false,
               false,
               false,
               false,
               false,
               false,
               false,
               false,
               false,
               false,
               false,
               false,
               false,
               false,
               false,
               false,
               false,
               false,
               false,
               false,
               false,
               false,
               false,
               false,
               false,
               false,
               false,
               false,
               false,
               false,
               false,
               false,
               false,
               false,
               false,
               false,
               false,
               false,
               false,
               false,
               true
              ]
             }
            ],
            "method": "update"
           },
           {
            "args": [
             {
              "visible": [
               false,
               false,
               false,
               false,
               false,
               false,
               false,
               false,
               false,
               false,
               false,
               false,
               false,
               false,
               false,
               false,
               false,
               false,
               false,
               false,
               false,
               false,
               false,
               false,
               false,
               false,
               false,
               false,
               false,
               false,
               false,
               false,
               false,
               false,
               false,
               false,
               false,
               false,
               false,
               false,
               true,
               false,
               false,
               false,
               false,
               false,
               false,
               false,
               false,
               false,
               false,
               false,
               false,
               false,
               false,
               false,
               false,
               false,
               false,
               false,
               false,
               false,
               false,
               false,
               false,
               false,
               false,
               false,
               false,
               false,
               false,
               false,
               false,
               false,
               false,
               false,
               false,
               false,
               false,
               false,
               false,
               false,
               false,
               false,
               false,
               true
              ]
             }
            ],
            "method": "update"
           },
           {
            "args": [
             {
              "visible": [
               false,
               false,
               false,
               false,
               false,
               false,
               false,
               false,
               false,
               false,
               false,
               false,
               false,
               false,
               false,
               false,
               false,
               false,
               false,
               false,
               false,
               false,
               false,
               false,
               false,
               false,
               false,
               false,
               false,
               false,
               false,
               false,
               false,
               false,
               false,
               false,
               false,
               false,
               false,
               false,
               false,
               true,
               false,
               false,
               false,
               false,
               false,
               false,
               false,
               false,
               false,
               false,
               false,
               false,
               false,
               false,
               false,
               false,
               false,
               false,
               false,
               false,
               false,
               false,
               false,
               false,
               false,
               false,
               false,
               false,
               false,
               false,
               false,
               false,
               false,
               false,
               false,
               false,
               false,
               false,
               false,
               false,
               false,
               false,
               false,
               true
              ]
             }
            ],
            "method": "update"
           },
           {
            "args": [
             {
              "visible": [
               false,
               false,
               false,
               false,
               false,
               false,
               false,
               false,
               false,
               false,
               false,
               false,
               false,
               false,
               false,
               false,
               false,
               false,
               false,
               false,
               false,
               false,
               false,
               false,
               false,
               false,
               false,
               false,
               false,
               false,
               false,
               false,
               false,
               false,
               false,
               false,
               false,
               false,
               false,
               false,
               false,
               false,
               true,
               false,
               false,
               false,
               false,
               false,
               false,
               false,
               false,
               false,
               false,
               false,
               false,
               false,
               false,
               false,
               false,
               false,
               false,
               false,
               false,
               false,
               false,
               false,
               false,
               false,
               false,
               false,
               false,
               false,
               false,
               false,
               false,
               false,
               false,
               false,
               false,
               false,
               false,
               false,
               false,
               false,
               false,
               true
              ]
             }
            ],
            "method": "update"
           },
           {
            "args": [
             {
              "visible": [
               false,
               false,
               false,
               false,
               false,
               false,
               false,
               false,
               false,
               false,
               false,
               false,
               false,
               false,
               false,
               false,
               false,
               false,
               false,
               false,
               false,
               false,
               false,
               false,
               false,
               false,
               false,
               false,
               false,
               false,
               false,
               false,
               false,
               false,
               false,
               false,
               false,
               false,
               false,
               false,
               false,
               false,
               false,
               true,
               false,
               false,
               false,
               false,
               false,
               false,
               false,
               false,
               false,
               false,
               false,
               false,
               false,
               false,
               false,
               false,
               false,
               false,
               false,
               false,
               false,
               false,
               false,
               false,
               false,
               false,
               false,
               false,
               false,
               false,
               false,
               false,
               false,
               false,
               false,
               false,
               false,
               false,
               false,
               false,
               false,
               true
              ]
             }
            ],
            "method": "update"
           },
           {
            "args": [
             {
              "visible": [
               false,
               false,
               false,
               false,
               false,
               false,
               false,
               false,
               false,
               false,
               false,
               false,
               false,
               false,
               false,
               false,
               false,
               false,
               false,
               false,
               false,
               false,
               false,
               false,
               false,
               false,
               false,
               false,
               false,
               false,
               false,
               false,
               false,
               false,
               false,
               false,
               false,
               false,
               false,
               false,
               false,
               false,
               false,
               false,
               true,
               false,
               false,
               false,
               false,
               false,
               false,
               false,
               false,
               false,
               false,
               false,
               false,
               false,
               false,
               false,
               false,
               false,
               false,
               false,
               false,
               false,
               false,
               false,
               false,
               false,
               false,
               false,
               false,
               false,
               false,
               false,
               false,
               false,
               false,
               false,
               false,
               false,
               false,
               false,
               false,
               true
              ]
             }
            ],
            "method": "update"
           },
           {
            "args": [
             {
              "visible": [
               false,
               false,
               false,
               false,
               false,
               false,
               false,
               false,
               false,
               false,
               false,
               false,
               false,
               false,
               false,
               false,
               false,
               false,
               false,
               false,
               false,
               false,
               false,
               false,
               false,
               false,
               false,
               false,
               false,
               false,
               false,
               false,
               false,
               false,
               false,
               false,
               false,
               false,
               false,
               false,
               false,
               false,
               false,
               false,
               false,
               true,
               false,
               false,
               false,
               false,
               false,
               false,
               false,
               false,
               false,
               false,
               false,
               false,
               false,
               false,
               false,
               false,
               false,
               false,
               false,
               false,
               false,
               false,
               false,
               false,
               false,
               false,
               false,
               false,
               false,
               false,
               false,
               false,
               false,
               false,
               false,
               false,
               false,
               false,
               false,
               true
              ]
             }
            ],
            "method": "update"
           },
           {
            "args": [
             {
              "visible": [
               false,
               false,
               false,
               false,
               false,
               false,
               false,
               false,
               false,
               false,
               false,
               false,
               false,
               false,
               false,
               false,
               false,
               false,
               false,
               false,
               false,
               false,
               false,
               false,
               false,
               false,
               false,
               false,
               false,
               false,
               false,
               false,
               false,
               false,
               false,
               false,
               false,
               false,
               false,
               false,
               false,
               false,
               false,
               false,
               false,
               false,
               true,
               false,
               false,
               false,
               false,
               false,
               false,
               false,
               false,
               false,
               false,
               false,
               false,
               false,
               false,
               false,
               false,
               false,
               false,
               false,
               false,
               false,
               false,
               false,
               false,
               false,
               false,
               false,
               false,
               false,
               false,
               false,
               false,
               false,
               false,
               false,
               false,
               false,
               false,
               true
              ]
             }
            ],
            "method": "update"
           },
           {
            "args": [
             {
              "visible": [
               false,
               false,
               false,
               false,
               false,
               false,
               false,
               false,
               false,
               false,
               false,
               false,
               false,
               false,
               false,
               false,
               false,
               false,
               false,
               false,
               false,
               false,
               false,
               false,
               false,
               false,
               false,
               false,
               false,
               false,
               false,
               false,
               false,
               false,
               false,
               false,
               false,
               false,
               false,
               false,
               false,
               false,
               false,
               false,
               false,
               false,
               false,
               true,
               false,
               false,
               false,
               false,
               false,
               false,
               false,
               false,
               false,
               false,
               false,
               false,
               false,
               false,
               false,
               false,
               false,
               false,
               false,
               false,
               false,
               false,
               false,
               false,
               false,
               false,
               false,
               false,
               false,
               false,
               false,
               false,
               false,
               false,
               false,
               false,
               false,
               true
              ]
             }
            ],
            "method": "update"
           },
           {
            "args": [
             {
              "visible": [
               false,
               false,
               false,
               false,
               false,
               false,
               false,
               false,
               false,
               false,
               false,
               false,
               false,
               false,
               false,
               false,
               false,
               false,
               false,
               false,
               false,
               false,
               false,
               false,
               false,
               false,
               false,
               false,
               false,
               false,
               false,
               false,
               false,
               false,
               false,
               false,
               false,
               false,
               false,
               false,
               false,
               false,
               false,
               false,
               false,
               false,
               false,
               false,
               true,
               false,
               false,
               false,
               false,
               false,
               false,
               false,
               false,
               false,
               false,
               false,
               false,
               false,
               false,
               false,
               false,
               false,
               false,
               false,
               false,
               false,
               false,
               false,
               false,
               false,
               false,
               false,
               false,
               false,
               false,
               false,
               false,
               false,
               false,
               false,
               false,
               true
              ]
             }
            ],
            "method": "update"
           },
           {
            "args": [
             {
              "visible": [
               false,
               false,
               false,
               false,
               false,
               false,
               false,
               false,
               false,
               false,
               false,
               false,
               false,
               false,
               false,
               false,
               false,
               false,
               false,
               false,
               false,
               false,
               false,
               false,
               false,
               false,
               false,
               false,
               false,
               false,
               false,
               false,
               false,
               false,
               false,
               false,
               false,
               false,
               false,
               false,
               false,
               false,
               false,
               false,
               false,
               false,
               false,
               false,
               false,
               true,
               false,
               false,
               false,
               false,
               false,
               false,
               false,
               false,
               false,
               false,
               false,
               false,
               false,
               false,
               false,
               false,
               false,
               false,
               false,
               false,
               false,
               false,
               false,
               false,
               false,
               false,
               false,
               false,
               false,
               false,
               false,
               false,
               false,
               false,
               false,
               true
              ]
             }
            ],
            "method": "update"
           },
           {
            "args": [
             {
              "visible": [
               false,
               false,
               false,
               false,
               false,
               false,
               false,
               false,
               false,
               false,
               false,
               false,
               false,
               false,
               false,
               false,
               false,
               false,
               false,
               false,
               false,
               false,
               false,
               false,
               false,
               false,
               false,
               false,
               false,
               false,
               false,
               false,
               false,
               false,
               false,
               false,
               false,
               false,
               false,
               false,
               false,
               false,
               false,
               false,
               false,
               false,
               false,
               false,
               false,
               false,
               true,
               false,
               false,
               false,
               false,
               false,
               false,
               false,
               false,
               false,
               false,
               false,
               false,
               false,
               false,
               false,
               false,
               false,
               false,
               false,
               false,
               false,
               false,
               false,
               false,
               false,
               false,
               false,
               false,
               false,
               false,
               false,
               false,
               false,
               false,
               true
              ]
             }
            ],
            "method": "update"
           },
           {
            "args": [
             {
              "visible": [
               false,
               false,
               false,
               false,
               false,
               false,
               false,
               false,
               false,
               false,
               false,
               false,
               false,
               false,
               false,
               false,
               false,
               false,
               false,
               false,
               false,
               false,
               false,
               false,
               false,
               false,
               false,
               false,
               false,
               false,
               false,
               false,
               false,
               false,
               false,
               false,
               false,
               false,
               false,
               false,
               false,
               false,
               false,
               false,
               false,
               false,
               false,
               false,
               false,
               false,
               false,
               true,
               false,
               false,
               false,
               false,
               false,
               false,
               false,
               false,
               false,
               false,
               false,
               false,
               false,
               false,
               false,
               false,
               false,
               false,
               false,
               false,
               false,
               false,
               false,
               false,
               false,
               false,
               false,
               false,
               false,
               false,
               false,
               false,
               false,
               true
              ]
             }
            ],
            "method": "update"
           },
           {
            "args": [
             {
              "visible": [
               false,
               false,
               false,
               false,
               false,
               false,
               false,
               false,
               false,
               false,
               false,
               false,
               false,
               false,
               false,
               false,
               false,
               false,
               false,
               false,
               false,
               false,
               false,
               false,
               false,
               false,
               false,
               false,
               false,
               false,
               false,
               false,
               false,
               false,
               false,
               false,
               false,
               false,
               false,
               false,
               false,
               false,
               false,
               false,
               false,
               false,
               false,
               false,
               false,
               false,
               false,
               false,
               true,
               false,
               false,
               false,
               false,
               false,
               false,
               false,
               false,
               false,
               false,
               false,
               false,
               false,
               false,
               false,
               false,
               false,
               false,
               false,
               false,
               false,
               false,
               false,
               false,
               false,
               false,
               false,
               false,
               false,
               false,
               false,
               false,
               true
              ]
             }
            ],
            "method": "update"
           },
           {
            "args": [
             {
              "visible": [
               false,
               false,
               false,
               false,
               false,
               false,
               false,
               false,
               false,
               false,
               false,
               false,
               false,
               false,
               false,
               false,
               false,
               false,
               false,
               false,
               false,
               false,
               false,
               false,
               false,
               false,
               false,
               false,
               false,
               false,
               false,
               false,
               false,
               false,
               false,
               false,
               false,
               false,
               false,
               false,
               false,
               false,
               false,
               false,
               false,
               false,
               false,
               false,
               false,
               false,
               false,
               false,
               false,
               true,
               false,
               false,
               false,
               false,
               false,
               false,
               false,
               false,
               false,
               false,
               false,
               false,
               false,
               false,
               false,
               false,
               false,
               false,
               false,
               false,
               false,
               false,
               false,
               false,
               false,
               false,
               false,
               false,
               false,
               false,
               false,
               true
              ]
             }
            ],
            "method": "update"
           },
           {
            "args": [
             {
              "visible": [
               false,
               false,
               false,
               false,
               false,
               false,
               false,
               false,
               false,
               false,
               false,
               false,
               false,
               false,
               false,
               false,
               false,
               false,
               false,
               false,
               false,
               false,
               false,
               false,
               false,
               false,
               false,
               false,
               false,
               false,
               false,
               false,
               false,
               false,
               false,
               false,
               false,
               false,
               false,
               false,
               false,
               false,
               false,
               false,
               false,
               false,
               false,
               false,
               false,
               false,
               false,
               false,
               false,
               false,
               true,
               false,
               false,
               false,
               false,
               false,
               false,
               false,
               false,
               false,
               false,
               false,
               false,
               false,
               false,
               false,
               false,
               false,
               false,
               false,
               false,
               false,
               false,
               false,
               false,
               false,
               false,
               false,
               false,
               false,
               false,
               true
              ]
             }
            ],
            "method": "update"
           },
           {
            "args": [
             {
              "visible": [
               false,
               false,
               false,
               false,
               false,
               false,
               false,
               false,
               false,
               false,
               false,
               false,
               false,
               false,
               false,
               false,
               false,
               false,
               false,
               false,
               false,
               false,
               false,
               false,
               false,
               false,
               false,
               false,
               false,
               false,
               false,
               false,
               false,
               false,
               false,
               false,
               false,
               false,
               false,
               false,
               false,
               false,
               false,
               false,
               false,
               false,
               false,
               false,
               false,
               false,
               false,
               false,
               false,
               false,
               false,
               true,
               false,
               false,
               false,
               false,
               false,
               false,
               false,
               false,
               false,
               false,
               false,
               false,
               false,
               false,
               false,
               false,
               false,
               false,
               false,
               false,
               false,
               false,
               false,
               false,
               false,
               false,
               false,
               false,
               false,
               true
              ]
             }
            ],
            "method": "update"
           },
           {
            "args": [
             {
              "visible": [
               false,
               false,
               false,
               false,
               false,
               false,
               false,
               false,
               false,
               false,
               false,
               false,
               false,
               false,
               false,
               false,
               false,
               false,
               false,
               false,
               false,
               false,
               false,
               false,
               false,
               false,
               false,
               false,
               false,
               false,
               false,
               false,
               false,
               false,
               false,
               false,
               false,
               false,
               false,
               false,
               false,
               false,
               false,
               false,
               false,
               false,
               false,
               false,
               false,
               false,
               false,
               false,
               false,
               false,
               false,
               false,
               true,
               false,
               false,
               false,
               false,
               false,
               false,
               false,
               false,
               false,
               false,
               false,
               false,
               false,
               false,
               false,
               false,
               false,
               false,
               false,
               false,
               false,
               false,
               false,
               false,
               false,
               false,
               false,
               false,
               true
              ]
             }
            ],
            "method": "update"
           },
           {
            "args": [
             {
              "visible": [
               false,
               false,
               false,
               false,
               false,
               false,
               false,
               false,
               false,
               false,
               false,
               false,
               false,
               false,
               false,
               false,
               false,
               false,
               false,
               false,
               false,
               false,
               false,
               false,
               false,
               false,
               false,
               false,
               false,
               false,
               false,
               false,
               false,
               false,
               false,
               false,
               false,
               false,
               false,
               false,
               false,
               false,
               false,
               false,
               false,
               false,
               false,
               false,
               false,
               false,
               false,
               false,
               false,
               false,
               false,
               false,
               false,
               true,
               false,
               false,
               false,
               false,
               false,
               false,
               false,
               false,
               false,
               false,
               false,
               false,
               false,
               false,
               false,
               false,
               false,
               false,
               false,
               false,
               false,
               false,
               false,
               false,
               false,
               false,
               false,
               true
              ]
             }
            ],
            "method": "update"
           },
           {
            "args": [
             {
              "visible": [
               false,
               false,
               false,
               false,
               false,
               false,
               false,
               false,
               false,
               false,
               false,
               false,
               false,
               false,
               false,
               false,
               false,
               false,
               false,
               false,
               false,
               false,
               false,
               false,
               false,
               false,
               false,
               false,
               false,
               false,
               false,
               false,
               false,
               false,
               false,
               false,
               false,
               false,
               false,
               false,
               false,
               false,
               false,
               false,
               false,
               false,
               false,
               false,
               false,
               false,
               false,
               false,
               false,
               false,
               false,
               false,
               false,
               false,
               true,
               false,
               false,
               false,
               false,
               false,
               false,
               false,
               false,
               false,
               false,
               false,
               false,
               false,
               false,
               false,
               false,
               false,
               false,
               false,
               false,
               false,
               false,
               false,
               false,
               false,
               false,
               true
              ]
             }
            ],
            "method": "update"
           },
           {
            "args": [
             {
              "visible": [
               false,
               false,
               false,
               false,
               false,
               false,
               false,
               false,
               false,
               false,
               false,
               false,
               false,
               false,
               false,
               false,
               false,
               false,
               false,
               false,
               false,
               false,
               false,
               false,
               false,
               false,
               false,
               false,
               false,
               false,
               false,
               false,
               false,
               false,
               false,
               false,
               false,
               false,
               false,
               false,
               false,
               false,
               false,
               false,
               false,
               false,
               false,
               false,
               false,
               false,
               false,
               false,
               false,
               false,
               false,
               false,
               false,
               false,
               false,
               true,
               false,
               false,
               false,
               false,
               false,
               false,
               false,
               false,
               false,
               false,
               false,
               false,
               false,
               false,
               false,
               false,
               false,
               false,
               false,
               false,
               false,
               false,
               false,
               false,
               false,
               true
              ]
             }
            ],
            "method": "update"
           },
           {
            "args": [
             {
              "visible": [
               false,
               false,
               false,
               false,
               false,
               false,
               false,
               false,
               false,
               false,
               false,
               false,
               false,
               false,
               false,
               false,
               false,
               false,
               false,
               false,
               false,
               false,
               false,
               false,
               false,
               false,
               false,
               false,
               false,
               false,
               false,
               false,
               false,
               false,
               false,
               false,
               false,
               false,
               false,
               false,
               false,
               false,
               false,
               false,
               false,
               false,
               false,
               false,
               false,
               false,
               false,
               false,
               false,
               false,
               false,
               false,
               false,
               false,
               false,
               false,
               true,
               false,
               false,
               false,
               false,
               false,
               false,
               false,
               false,
               false,
               false,
               false,
               false,
               false,
               false,
               false,
               false,
               false,
               false,
               false,
               false,
               false,
               false,
               false,
               false,
               true
              ]
             }
            ],
            "method": "update"
           },
           {
            "args": [
             {
              "visible": [
               false,
               false,
               false,
               false,
               false,
               false,
               false,
               false,
               false,
               false,
               false,
               false,
               false,
               false,
               false,
               false,
               false,
               false,
               false,
               false,
               false,
               false,
               false,
               false,
               false,
               false,
               false,
               false,
               false,
               false,
               false,
               false,
               false,
               false,
               false,
               false,
               false,
               false,
               false,
               false,
               false,
               false,
               false,
               false,
               false,
               false,
               false,
               false,
               false,
               false,
               false,
               false,
               false,
               false,
               false,
               false,
               false,
               false,
               false,
               false,
               false,
               true,
               false,
               false,
               false,
               false,
               false,
               false,
               false,
               false,
               false,
               false,
               false,
               false,
               false,
               false,
               false,
               false,
               false,
               false,
               false,
               false,
               false,
               false,
               false,
               true
              ]
             }
            ],
            "method": "update"
           },
           {
            "args": [
             {
              "visible": [
               false,
               false,
               false,
               false,
               false,
               false,
               false,
               false,
               false,
               false,
               false,
               false,
               false,
               false,
               false,
               false,
               false,
               false,
               false,
               false,
               false,
               false,
               false,
               false,
               false,
               false,
               false,
               false,
               false,
               false,
               false,
               false,
               false,
               false,
               false,
               false,
               false,
               false,
               false,
               false,
               false,
               false,
               false,
               false,
               false,
               false,
               false,
               false,
               false,
               false,
               false,
               false,
               false,
               false,
               false,
               false,
               false,
               false,
               false,
               false,
               false,
               false,
               true,
               false,
               false,
               false,
               false,
               false,
               false,
               false,
               false,
               false,
               false,
               false,
               false,
               false,
               false,
               false,
               false,
               false,
               false,
               false,
               false,
               false,
               false,
               true
              ]
             }
            ],
            "method": "update"
           },
           {
            "args": [
             {
              "visible": [
               false,
               false,
               false,
               false,
               false,
               false,
               false,
               false,
               false,
               false,
               false,
               false,
               false,
               false,
               false,
               false,
               false,
               false,
               false,
               false,
               false,
               false,
               false,
               false,
               false,
               false,
               false,
               false,
               false,
               false,
               false,
               false,
               false,
               false,
               false,
               false,
               false,
               false,
               false,
               false,
               false,
               false,
               false,
               false,
               false,
               false,
               false,
               false,
               false,
               false,
               false,
               false,
               false,
               false,
               false,
               false,
               false,
               false,
               false,
               false,
               false,
               false,
               false,
               true,
               false,
               false,
               false,
               false,
               false,
               false,
               false,
               false,
               false,
               false,
               false,
               false,
               false,
               false,
               false,
               false,
               false,
               false,
               false,
               false,
               false,
               true
              ]
             }
            ],
            "method": "update"
           },
           {
            "args": [
             {
              "visible": [
               false,
               false,
               false,
               false,
               false,
               false,
               false,
               false,
               false,
               false,
               false,
               false,
               false,
               false,
               false,
               false,
               false,
               false,
               false,
               false,
               false,
               false,
               false,
               false,
               false,
               false,
               false,
               false,
               false,
               false,
               false,
               false,
               false,
               false,
               false,
               false,
               false,
               false,
               false,
               false,
               false,
               false,
               false,
               false,
               false,
               false,
               false,
               false,
               false,
               false,
               false,
               false,
               false,
               false,
               false,
               false,
               false,
               false,
               false,
               false,
               false,
               false,
               false,
               false,
               true,
               false,
               false,
               false,
               false,
               false,
               false,
               false,
               false,
               false,
               false,
               false,
               false,
               false,
               false,
               false,
               false,
               false,
               false,
               false,
               false,
               true
              ]
             }
            ],
            "method": "update"
           },
           {
            "args": [
             {
              "visible": [
               false,
               false,
               false,
               false,
               false,
               false,
               false,
               false,
               false,
               false,
               false,
               false,
               false,
               false,
               false,
               false,
               false,
               false,
               false,
               false,
               false,
               false,
               false,
               false,
               false,
               false,
               false,
               false,
               false,
               false,
               false,
               false,
               false,
               false,
               false,
               false,
               false,
               false,
               false,
               false,
               false,
               false,
               false,
               false,
               false,
               false,
               false,
               false,
               false,
               false,
               false,
               false,
               false,
               false,
               false,
               false,
               false,
               false,
               false,
               false,
               false,
               false,
               false,
               false,
               false,
               true,
               false,
               false,
               false,
               false,
               false,
               false,
               false,
               false,
               false,
               false,
               false,
               false,
               false,
               false,
               false,
               false,
               false,
               false,
               false,
               true
              ]
             }
            ],
            "method": "update"
           },
           {
            "args": [
             {
              "visible": [
               false,
               false,
               false,
               false,
               false,
               false,
               false,
               false,
               false,
               false,
               false,
               false,
               false,
               false,
               false,
               false,
               false,
               false,
               false,
               false,
               false,
               false,
               false,
               false,
               false,
               false,
               false,
               false,
               false,
               false,
               false,
               false,
               false,
               false,
               false,
               false,
               false,
               false,
               false,
               false,
               false,
               false,
               false,
               false,
               false,
               false,
               false,
               false,
               false,
               false,
               false,
               false,
               false,
               false,
               false,
               false,
               false,
               false,
               false,
               false,
               false,
               false,
               false,
               false,
               false,
               false,
               true,
               false,
               false,
               false,
               false,
               false,
               false,
               false,
               false,
               false,
               false,
               false,
               false,
               false,
               false,
               false,
               false,
               false,
               false,
               true
              ]
             }
            ],
            "method": "update"
           },
           {
            "args": [
             {
              "visible": [
               false,
               false,
               false,
               false,
               false,
               false,
               false,
               false,
               false,
               false,
               false,
               false,
               false,
               false,
               false,
               false,
               false,
               false,
               false,
               false,
               false,
               false,
               false,
               false,
               false,
               false,
               false,
               false,
               false,
               false,
               false,
               false,
               false,
               false,
               false,
               false,
               false,
               false,
               false,
               false,
               false,
               false,
               false,
               false,
               false,
               false,
               false,
               false,
               false,
               false,
               false,
               false,
               false,
               false,
               false,
               false,
               false,
               false,
               false,
               false,
               false,
               false,
               false,
               false,
               false,
               false,
               false,
               true,
               false,
               false,
               false,
               false,
               false,
               false,
               false,
               false,
               false,
               false,
               false,
               false,
               false,
               false,
               false,
               false,
               false,
               true
              ]
             }
            ],
            "method": "update"
           },
           {
            "args": [
             {
              "visible": [
               false,
               false,
               false,
               false,
               false,
               false,
               false,
               false,
               false,
               false,
               false,
               false,
               false,
               false,
               false,
               false,
               false,
               false,
               false,
               false,
               false,
               false,
               false,
               false,
               false,
               false,
               false,
               false,
               false,
               false,
               false,
               false,
               false,
               false,
               false,
               false,
               false,
               false,
               false,
               false,
               false,
               false,
               false,
               false,
               false,
               false,
               false,
               false,
               false,
               false,
               false,
               false,
               false,
               false,
               false,
               false,
               false,
               false,
               false,
               false,
               false,
               false,
               false,
               false,
               false,
               false,
               false,
               false,
               true,
               false,
               false,
               false,
               false,
               false,
               false,
               false,
               false,
               false,
               false,
               false,
               false,
               false,
               false,
               false,
               false,
               true
              ]
             }
            ],
            "method": "update"
           },
           {
            "args": [
             {
              "visible": [
               false,
               false,
               false,
               false,
               false,
               false,
               false,
               false,
               false,
               false,
               false,
               false,
               false,
               false,
               false,
               false,
               false,
               false,
               false,
               false,
               false,
               false,
               false,
               false,
               false,
               false,
               false,
               false,
               false,
               false,
               false,
               false,
               false,
               false,
               false,
               false,
               false,
               false,
               false,
               false,
               false,
               false,
               false,
               false,
               false,
               false,
               false,
               false,
               false,
               false,
               false,
               false,
               false,
               false,
               false,
               false,
               false,
               false,
               false,
               false,
               false,
               false,
               false,
               false,
               false,
               false,
               false,
               false,
               false,
               true,
               false,
               false,
               false,
               false,
               false,
               false,
               false,
               false,
               false,
               false,
               false,
               false,
               false,
               false,
               false,
               true
              ]
             }
            ],
            "method": "update"
           },
           {
            "args": [
             {
              "visible": [
               false,
               false,
               false,
               false,
               false,
               false,
               false,
               false,
               false,
               false,
               false,
               false,
               false,
               false,
               false,
               false,
               false,
               false,
               false,
               false,
               false,
               false,
               false,
               false,
               false,
               false,
               false,
               false,
               false,
               false,
               false,
               false,
               false,
               false,
               false,
               false,
               false,
               false,
               false,
               false,
               false,
               false,
               false,
               false,
               false,
               false,
               false,
               false,
               false,
               false,
               false,
               false,
               false,
               false,
               false,
               false,
               false,
               false,
               false,
               false,
               false,
               false,
               false,
               false,
               false,
               false,
               false,
               false,
               false,
               false,
               true,
               false,
               false,
               false,
               false,
               false,
               false,
               false,
               false,
               false,
               false,
               false,
               false,
               false,
               false,
               true
              ]
             }
            ],
            "method": "update"
           },
           {
            "args": [
             {
              "visible": [
               false,
               false,
               false,
               false,
               false,
               false,
               false,
               false,
               false,
               false,
               false,
               false,
               false,
               false,
               false,
               false,
               false,
               false,
               false,
               false,
               false,
               false,
               false,
               false,
               false,
               false,
               false,
               false,
               false,
               false,
               false,
               false,
               false,
               false,
               false,
               false,
               false,
               false,
               false,
               false,
               false,
               false,
               false,
               false,
               false,
               false,
               false,
               false,
               false,
               false,
               false,
               false,
               false,
               false,
               false,
               false,
               false,
               false,
               false,
               false,
               false,
               false,
               false,
               false,
               false,
               false,
               false,
               false,
               false,
               false,
               false,
               true,
               false,
               false,
               false,
               false,
               false,
               false,
               false,
               false,
               false,
               false,
               false,
               false,
               false,
               true
              ]
             }
            ],
            "method": "update"
           },
           {
            "args": [
             {
              "visible": [
               false,
               false,
               false,
               false,
               false,
               false,
               false,
               false,
               false,
               false,
               false,
               false,
               false,
               false,
               false,
               false,
               false,
               false,
               false,
               false,
               false,
               false,
               false,
               false,
               false,
               false,
               false,
               false,
               false,
               false,
               false,
               false,
               false,
               false,
               false,
               false,
               false,
               false,
               false,
               false,
               false,
               false,
               false,
               false,
               false,
               false,
               false,
               false,
               false,
               false,
               false,
               false,
               false,
               false,
               false,
               false,
               false,
               false,
               false,
               false,
               false,
               false,
               false,
               false,
               false,
               false,
               false,
               false,
               false,
               false,
               false,
               false,
               true,
               false,
               false,
               false,
               false,
               false,
               false,
               false,
               false,
               false,
               false,
               false,
               false,
               true
              ]
             }
            ],
            "method": "update"
           },
           {
            "args": [
             {
              "visible": [
               false,
               false,
               false,
               false,
               false,
               false,
               false,
               false,
               false,
               false,
               false,
               false,
               false,
               false,
               false,
               false,
               false,
               false,
               false,
               false,
               false,
               false,
               false,
               false,
               false,
               false,
               false,
               false,
               false,
               false,
               false,
               false,
               false,
               false,
               false,
               false,
               false,
               false,
               false,
               false,
               false,
               false,
               false,
               false,
               false,
               false,
               false,
               false,
               false,
               false,
               false,
               false,
               false,
               false,
               false,
               false,
               false,
               false,
               false,
               false,
               false,
               false,
               false,
               false,
               false,
               false,
               false,
               false,
               false,
               false,
               false,
               false,
               false,
               true,
               false,
               false,
               false,
               false,
               false,
               false,
               false,
               false,
               false,
               false,
               false,
               true
              ]
             }
            ],
            "method": "update"
           },
           {
            "args": [
             {
              "visible": [
               false,
               false,
               false,
               false,
               false,
               false,
               false,
               false,
               false,
               false,
               false,
               false,
               false,
               false,
               false,
               false,
               false,
               false,
               false,
               false,
               false,
               false,
               false,
               false,
               false,
               false,
               false,
               false,
               false,
               false,
               false,
               false,
               false,
               false,
               false,
               false,
               false,
               false,
               false,
               false,
               false,
               false,
               false,
               false,
               false,
               false,
               false,
               false,
               false,
               false,
               false,
               false,
               false,
               false,
               false,
               false,
               false,
               false,
               false,
               false,
               false,
               false,
               false,
               false,
               false,
               false,
               false,
               false,
               false,
               false,
               false,
               false,
               false,
               false,
               true,
               false,
               false,
               false,
               false,
               false,
               false,
               false,
               false,
               false,
               false,
               true
              ]
             }
            ],
            "method": "update"
           },
           {
            "args": [
             {
              "visible": [
               false,
               false,
               false,
               false,
               false,
               false,
               false,
               false,
               false,
               false,
               false,
               false,
               false,
               false,
               false,
               false,
               false,
               false,
               false,
               false,
               false,
               false,
               false,
               false,
               false,
               false,
               false,
               false,
               false,
               false,
               false,
               false,
               false,
               false,
               false,
               false,
               false,
               false,
               false,
               false,
               false,
               false,
               false,
               false,
               false,
               false,
               false,
               false,
               false,
               false,
               false,
               false,
               false,
               false,
               false,
               false,
               false,
               false,
               false,
               false,
               false,
               false,
               false,
               false,
               false,
               false,
               false,
               false,
               false,
               false,
               false,
               false,
               false,
               false,
               false,
               true,
               false,
               false,
               false,
               false,
               false,
               false,
               false,
               false,
               false,
               true
              ]
             }
            ],
            "method": "update"
           },
           {
            "args": [
             {
              "visible": [
               false,
               false,
               false,
               false,
               false,
               false,
               false,
               false,
               false,
               false,
               false,
               false,
               false,
               false,
               false,
               false,
               false,
               false,
               false,
               false,
               false,
               false,
               false,
               false,
               false,
               false,
               false,
               false,
               false,
               false,
               false,
               false,
               false,
               false,
               false,
               false,
               false,
               false,
               false,
               false,
               false,
               false,
               false,
               false,
               false,
               false,
               false,
               false,
               false,
               false,
               false,
               false,
               false,
               false,
               false,
               false,
               false,
               false,
               false,
               false,
               false,
               false,
               false,
               false,
               false,
               false,
               false,
               false,
               false,
               false,
               false,
               false,
               false,
               false,
               false,
               false,
               true,
               false,
               false,
               false,
               false,
               false,
               false,
               false,
               false,
               true
              ]
             }
            ],
            "method": "update"
           },
           {
            "args": [
             {
              "visible": [
               false,
               false,
               false,
               false,
               false,
               false,
               false,
               false,
               false,
               false,
               false,
               false,
               false,
               false,
               false,
               false,
               false,
               false,
               false,
               false,
               false,
               false,
               false,
               false,
               false,
               false,
               false,
               false,
               false,
               false,
               false,
               false,
               false,
               false,
               false,
               false,
               false,
               false,
               false,
               false,
               false,
               false,
               false,
               false,
               false,
               false,
               false,
               false,
               false,
               false,
               false,
               false,
               false,
               false,
               false,
               false,
               false,
               false,
               false,
               false,
               false,
               false,
               false,
               false,
               false,
               false,
               false,
               false,
               false,
               false,
               false,
               false,
               false,
               false,
               false,
               false,
               false,
               true,
               false,
               false,
               false,
               false,
               false,
               false,
               false,
               true
              ]
             }
            ],
            "method": "update"
           },
           {
            "args": [
             {
              "visible": [
               false,
               false,
               false,
               false,
               false,
               false,
               false,
               false,
               false,
               false,
               false,
               false,
               false,
               false,
               false,
               false,
               false,
               false,
               false,
               false,
               false,
               false,
               false,
               false,
               false,
               false,
               false,
               false,
               false,
               false,
               false,
               false,
               false,
               false,
               false,
               false,
               false,
               false,
               false,
               false,
               false,
               false,
               false,
               false,
               false,
               false,
               false,
               false,
               false,
               false,
               false,
               false,
               false,
               false,
               false,
               false,
               false,
               false,
               false,
               false,
               false,
               false,
               false,
               false,
               false,
               false,
               false,
               false,
               false,
               false,
               false,
               false,
               false,
               false,
               false,
               false,
               false,
               false,
               true,
               false,
               false,
               false,
               false,
               false,
               false,
               true
              ]
             }
            ],
            "method": "update"
           },
           {
            "args": [
             {
              "visible": [
               false,
               false,
               false,
               false,
               false,
               false,
               false,
               false,
               false,
               false,
               false,
               false,
               false,
               false,
               false,
               false,
               false,
               false,
               false,
               false,
               false,
               false,
               false,
               false,
               false,
               false,
               false,
               false,
               false,
               false,
               false,
               false,
               false,
               false,
               false,
               false,
               false,
               false,
               false,
               false,
               false,
               false,
               false,
               false,
               false,
               false,
               false,
               false,
               false,
               false,
               false,
               false,
               false,
               false,
               false,
               false,
               false,
               false,
               false,
               false,
               false,
               false,
               false,
               false,
               false,
               false,
               false,
               false,
               false,
               false,
               false,
               false,
               false,
               false,
               false,
               false,
               false,
               false,
               false,
               true,
               false,
               false,
               false,
               false,
               false,
               true
              ]
             }
            ],
            "method": "update"
           },
           {
            "args": [
             {
              "visible": [
               false,
               false,
               false,
               false,
               false,
               false,
               false,
               false,
               false,
               false,
               false,
               false,
               false,
               false,
               false,
               false,
               false,
               false,
               false,
               false,
               false,
               false,
               false,
               false,
               false,
               false,
               false,
               false,
               false,
               false,
               false,
               false,
               false,
               false,
               false,
               false,
               false,
               false,
               false,
               false,
               false,
               false,
               false,
               false,
               false,
               false,
               false,
               false,
               false,
               false,
               false,
               false,
               false,
               false,
               false,
               false,
               false,
               false,
               false,
               false,
               false,
               false,
               false,
               false,
               false,
               false,
               false,
               false,
               false,
               false,
               false,
               false,
               false,
               false,
               false,
               false,
               false,
               false,
               false,
               false,
               true,
               false,
               false,
               false,
               false,
               true
              ]
             }
            ],
            "method": "update"
           },
           {
            "args": [
             {
              "visible": [
               false,
               false,
               false,
               false,
               false,
               false,
               false,
               false,
               false,
               false,
               false,
               false,
               false,
               false,
               false,
               false,
               false,
               false,
               false,
               false,
               false,
               false,
               false,
               false,
               false,
               false,
               false,
               false,
               false,
               false,
               false,
               false,
               false,
               false,
               false,
               false,
               false,
               false,
               false,
               false,
               false,
               false,
               false,
               false,
               false,
               false,
               false,
               false,
               false,
               false,
               false,
               false,
               false,
               false,
               false,
               false,
               false,
               false,
               false,
               false,
               false,
               false,
               false,
               false,
               false,
               false,
               false,
               false,
               false,
               false,
               false,
               false,
               false,
               false,
               false,
               false,
               false,
               false,
               false,
               false,
               false,
               true,
               false,
               false,
               false,
               true
              ]
             }
            ],
            "method": "update"
           },
           {
            "args": [
             {
              "visible": [
               false,
               false,
               false,
               false,
               false,
               false,
               false,
               false,
               false,
               false,
               false,
               false,
               false,
               false,
               false,
               false,
               false,
               false,
               false,
               false,
               false,
               false,
               false,
               false,
               false,
               false,
               false,
               false,
               false,
               false,
               false,
               false,
               false,
               false,
               false,
               false,
               false,
               false,
               false,
               false,
               false,
               false,
               false,
               false,
               false,
               false,
               false,
               false,
               false,
               false,
               false,
               false,
               false,
               false,
               false,
               false,
               false,
               false,
               false,
               false,
               false,
               false,
               false,
               false,
               false,
               false,
               false,
               false,
               false,
               false,
               false,
               false,
               false,
               false,
               false,
               false,
               false,
               false,
               false,
               false,
               false,
               false,
               true,
               false,
               false,
               true
              ]
             }
            ],
            "method": "update"
           },
           {
            "args": [
             {
              "visible": [
               false,
               false,
               false,
               false,
               false,
               false,
               false,
               false,
               false,
               false,
               false,
               false,
               false,
               false,
               false,
               false,
               false,
               false,
               false,
               false,
               false,
               false,
               false,
               false,
               false,
               false,
               false,
               false,
               false,
               false,
               false,
               false,
               false,
               false,
               false,
               false,
               false,
               false,
               false,
               false,
               false,
               false,
               false,
               false,
               false,
               false,
               false,
               false,
               false,
               false,
               false,
               false,
               false,
               false,
               false,
               false,
               false,
               false,
               false,
               false,
               false,
               false,
               false,
               false,
               false,
               false,
               false,
               false,
               false,
               false,
               false,
               false,
               false,
               false,
               false,
               false,
               false,
               false,
               false,
               false,
               false,
               false,
               false,
               true,
               false,
               true
              ]
             }
            ],
            "method": "update"
           },
           {
            "args": [
             {
              "visible": [
               false,
               false,
               false,
               false,
               false,
               false,
               false,
               false,
               false,
               false,
               false,
               false,
               false,
               false,
               false,
               false,
               false,
               false,
               false,
               false,
               false,
               false,
               false,
               false,
               false,
               false,
               false,
               false,
               false,
               false,
               false,
               false,
               false,
               false,
               false,
               false,
               false,
               false,
               false,
               false,
               false,
               false,
               false,
               false,
               false,
               false,
               false,
               false,
               false,
               false,
               false,
               false,
               false,
               false,
               false,
               false,
               false,
               false,
               false,
               false,
               false,
               false,
               false,
               false,
               false,
               false,
               false,
               false,
               false,
               false,
               false,
               false,
               false,
               false,
               false,
               false,
               false,
               false,
               false,
               false,
               false,
               false,
               false,
               false,
               true,
               true
              ]
             }
            ],
            "method": "update"
           }
          ]
         }
        ],
        "template": {
         "data": {
          "bar": [
           {
            "error_x": {
             "color": "#2a3f5f"
            },
            "error_y": {
             "color": "#2a3f5f"
            },
            "marker": {
             "line": {
              "color": "white",
              "width": 0.5
             },
             "pattern": {
              "fillmode": "overlay",
              "size": 10,
              "solidity": 0.2
             }
            },
            "type": "bar"
           }
          ],
          "barpolar": [
           {
            "marker": {
             "line": {
              "color": "white",
              "width": 0.5
             },
             "pattern": {
              "fillmode": "overlay",
              "size": 10,
              "solidity": 0.2
             }
            },
            "type": "barpolar"
           }
          ],
          "carpet": [
           {
            "aaxis": {
             "endlinecolor": "#2a3f5f",
             "gridcolor": "#C8D4E3",
             "linecolor": "#C8D4E3",
             "minorgridcolor": "#C8D4E3",
             "startlinecolor": "#2a3f5f"
            },
            "baxis": {
             "endlinecolor": "#2a3f5f",
             "gridcolor": "#C8D4E3",
             "linecolor": "#C8D4E3",
             "minorgridcolor": "#C8D4E3",
             "startlinecolor": "#2a3f5f"
            },
            "type": "carpet"
           }
          ],
          "choropleth": [
           {
            "colorbar": {
             "outlinewidth": 0,
             "ticks": ""
            },
            "type": "choropleth"
           }
          ],
          "contour": [
           {
            "colorbar": {
             "outlinewidth": 0,
             "ticks": ""
            },
            "colorscale": [
             [
              0,
              "#0d0887"
             ],
             [
              0.1111111111111111,
              "#46039f"
             ],
             [
              0.2222222222222222,
              "#7201a8"
             ],
             [
              0.3333333333333333,
              "#9c179e"
             ],
             [
              0.4444444444444444,
              "#bd3786"
             ],
             [
              0.5555555555555556,
              "#d8576b"
             ],
             [
              0.6666666666666666,
              "#ed7953"
             ],
             [
              0.7777777777777778,
              "#fb9f3a"
             ],
             [
              0.8888888888888888,
              "#fdca26"
             ],
             [
              1,
              "#f0f921"
             ]
            ],
            "type": "contour"
           }
          ],
          "contourcarpet": [
           {
            "colorbar": {
             "outlinewidth": 0,
             "ticks": ""
            },
            "type": "contourcarpet"
           }
          ],
          "heatmap": [
           {
            "colorbar": {
             "outlinewidth": 0,
             "ticks": ""
            },
            "colorscale": [
             [
              0,
              "#0d0887"
             ],
             [
              0.1111111111111111,
              "#46039f"
             ],
             [
              0.2222222222222222,
              "#7201a8"
             ],
             [
              0.3333333333333333,
              "#9c179e"
             ],
             [
              0.4444444444444444,
              "#bd3786"
             ],
             [
              0.5555555555555556,
              "#d8576b"
             ],
             [
              0.6666666666666666,
              "#ed7953"
             ],
             [
              0.7777777777777778,
              "#fb9f3a"
             ],
             [
              0.8888888888888888,
              "#fdca26"
             ],
             [
              1,
              "#f0f921"
             ]
            ],
            "type": "heatmap"
           }
          ],
          "heatmapgl": [
           {
            "colorbar": {
             "outlinewidth": 0,
             "ticks": ""
            },
            "colorscale": [
             [
              0,
              "#0d0887"
             ],
             [
              0.1111111111111111,
              "#46039f"
             ],
             [
              0.2222222222222222,
              "#7201a8"
             ],
             [
              0.3333333333333333,
              "#9c179e"
             ],
             [
              0.4444444444444444,
              "#bd3786"
             ],
             [
              0.5555555555555556,
              "#d8576b"
             ],
             [
              0.6666666666666666,
              "#ed7953"
             ],
             [
              0.7777777777777778,
              "#fb9f3a"
             ],
             [
              0.8888888888888888,
              "#fdca26"
             ],
             [
              1,
              "#f0f921"
             ]
            ],
            "type": "heatmapgl"
           }
          ],
          "histogram": [
           {
            "marker": {
             "pattern": {
              "fillmode": "overlay",
              "size": 10,
              "solidity": 0.2
             }
            },
            "type": "histogram"
           }
          ],
          "histogram2d": [
           {
            "colorbar": {
             "outlinewidth": 0,
             "ticks": ""
            },
            "colorscale": [
             [
              0,
              "#0d0887"
             ],
             [
              0.1111111111111111,
              "#46039f"
             ],
             [
              0.2222222222222222,
              "#7201a8"
             ],
             [
              0.3333333333333333,
              "#9c179e"
             ],
             [
              0.4444444444444444,
              "#bd3786"
             ],
             [
              0.5555555555555556,
              "#d8576b"
             ],
             [
              0.6666666666666666,
              "#ed7953"
             ],
             [
              0.7777777777777778,
              "#fb9f3a"
             ],
             [
              0.8888888888888888,
              "#fdca26"
             ],
             [
              1,
              "#f0f921"
             ]
            ],
            "type": "histogram2d"
           }
          ],
          "histogram2dcontour": [
           {
            "colorbar": {
             "outlinewidth": 0,
             "ticks": ""
            },
            "colorscale": [
             [
              0,
              "#0d0887"
             ],
             [
              0.1111111111111111,
              "#46039f"
             ],
             [
              0.2222222222222222,
              "#7201a8"
             ],
             [
              0.3333333333333333,
              "#9c179e"
             ],
             [
              0.4444444444444444,
              "#bd3786"
             ],
             [
              0.5555555555555556,
              "#d8576b"
             ],
             [
              0.6666666666666666,
              "#ed7953"
             ],
             [
              0.7777777777777778,
              "#fb9f3a"
             ],
             [
              0.8888888888888888,
              "#fdca26"
             ],
             [
              1,
              "#f0f921"
             ]
            ],
            "type": "histogram2dcontour"
           }
          ],
          "mesh3d": [
           {
            "colorbar": {
             "outlinewidth": 0,
             "ticks": ""
            },
            "type": "mesh3d"
           }
          ],
          "parcoords": [
           {
            "line": {
             "colorbar": {
              "outlinewidth": 0,
              "ticks": ""
             }
            },
            "type": "parcoords"
           }
          ],
          "pie": [
           {
            "automargin": true,
            "type": "pie"
           }
          ],
          "scatter": [
           {
            "fillpattern": {
             "fillmode": "overlay",
             "size": 10,
             "solidity": 0.2
            },
            "type": "scatter"
           }
          ],
          "scatter3d": [
           {
            "line": {
             "colorbar": {
              "outlinewidth": 0,
              "ticks": ""
             }
            },
            "marker": {
             "colorbar": {
              "outlinewidth": 0,
              "ticks": ""
             }
            },
            "type": "scatter3d"
           }
          ],
          "scattercarpet": [
           {
            "marker": {
             "colorbar": {
              "outlinewidth": 0,
              "ticks": ""
             }
            },
            "type": "scattercarpet"
           }
          ],
          "scattergeo": [
           {
            "marker": {
             "colorbar": {
              "outlinewidth": 0,
              "ticks": ""
             }
            },
            "type": "scattergeo"
           }
          ],
          "scattergl": [
           {
            "marker": {
             "colorbar": {
              "outlinewidth": 0,
              "ticks": ""
             }
            },
            "type": "scattergl"
           }
          ],
          "scattermapbox": [
           {
            "marker": {
             "colorbar": {
              "outlinewidth": 0,
              "ticks": ""
             }
            },
            "type": "scattermapbox"
           }
          ],
          "scatterpolar": [
           {
            "marker": {
             "colorbar": {
              "outlinewidth": 0,
              "ticks": ""
             }
            },
            "type": "scatterpolar"
           }
          ],
          "scatterpolargl": [
           {
            "marker": {
             "colorbar": {
              "outlinewidth": 0,
              "ticks": ""
             }
            },
            "type": "scatterpolargl"
           }
          ],
          "scatterternary": [
           {
            "marker": {
             "colorbar": {
              "outlinewidth": 0,
              "ticks": ""
             }
            },
            "type": "scatterternary"
           }
          ],
          "surface": [
           {
            "colorbar": {
             "outlinewidth": 0,
             "ticks": ""
            },
            "colorscale": [
             [
              0,
              "#0d0887"
             ],
             [
              0.1111111111111111,
              "#46039f"
             ],
             [
              0.2222222222222222,
              "#7201a8"
             ],
             [
              0.3333333333333333,
              "#9c179e"
             ],
             [
              0.4444444444444444,
              "#bd3786"
             ],
             [
              0.5555555555555556,
              "#d8576b"
             ],
             [
              0.6666666666666666,
              "#ed7953"
             ],
             [
              0.7777777777777778,
              "#fb9f3a"
             ],
             [
              0.8888888888888888,
              "#fdca26"
             ],
             [
              1,
              "#f0f921"
             ]
            ],
            "type": "surface"
           }
          ],
          "table": [
           {
            "cells": {
             "fill": {
              "color": "#EBF0F8"
             },
             "line": {
              "color": "white"
             }
            },
            "header": {
             "fill": {
              "color": "#C8D4E3"
             },
             "line": {
              "color": "white"
             }
            },
            "type": "table"
           }
          ]
         },
         "layout": {
          "annotationdefaults": {
           "arrowcolor": "#2a3f5f",
           "arrowhead": 0,
           "arrowwidth": 1
          },
          "autotypenumbers": "strict",
          "coloraxis": {
           "colorbar": {
            "outlinewidth": 0,
            "ticks": ""
           }
          },
          "colorscale": {
           "diverging": [
            [
             0,
             "#8e0152"
            ],
            [
             0.1,
             "#c51b7d"
            ],
            [
             0.2,
             "#de77ae"
            ],
            [
             0.3,
             "#f1b6da"
            ],
            [
             0.4,
             "#fde0ef"
            ],
            [
             0.5,
             "#f7f7f7"
            ],
            [
             0.6,
             "#e6f5d0"
            ],
            [
             0.7,
             "#b8e186"
            ],
            [
             0.8,
             "#7fbc41"
            ],
            [
             0.9,
             "#4d9221"
            ],
            [
             1,
             "#276419"
            ]
           ],
           "sequential": [
            [
             0,
             "#0d0887"
            ],
            [
             0.1111111111111111,
             "#46039f"
            ],
            [
             0.2222222222222222,
             "#7201a8"
            ],
            [
             0.3333333333333333,
             "#9c179e"
            ],
            [
             0.4444444444444444,
             "#bd3786"
            ],
            [
             0.5555555555555556,
             "#d8576b"
            ],
            [
             0.6666666666666666,
             "#ed7953"
            ],
            [
             0.7777777777777778,
             "#fb9f3a"
            ],
            [
             0.8888888888888888,
             "#fdca26"
            ],
            [
             1,
             "#f0f921"
            ]
           ],
           "sequentialminus": [
            [
             0,
             "#0d0887"
            ],
            [
             0.1111111111111111,
             "#46039f"
            ],
            [
             0.2222222222222222,
             "#7201a8"
            ],
            [
             0.3333333333333333,
             "#9c179e"
            ],
            [
             0.4444444444444444,
             "#bd3786"
            ],
            [
             0.5555555555555556,
             "#d8576b"
            ],
            [
             0.6666666666666666,
             "#ed7953"
            ],
            [
             0.7777777777777778,
             "#fb9f3a"
            ],
            [
             0.8888888888888888,
             "#fdca26"
            ],
            [
             1,
             "#f0f921"
            ]
           ]
          },
          "colorway": [
           "#636efa",
           "#EF553B",
           "#00cc96",
           "#ab63fa",
           "#FFA15A",
           "#19d3f3",
           "#FF6692",
           "#B6E880",
           "#FF97FF",
           "#FECB52"
          ],
          "font": {
           "color": "#2a3f5f"
          },
          "geo": {
           "bgcolor": "white",
           "lakecolor": "white",
           "landcolor": "white",
           "showlakes": true,
           "showland": true,
           "subunitcolor": "#C8D4E3"
          },
          "hoverlabel": {
           "align": "left"
          },
          "hovermode": "closest",
          "mapbox": {
           "style": "light"
          },
          "paper_bgcolor": "white",
          "plot_bgcolor": "white",
          "polar": {
           "angularaxis": {
            "gridcolor": "#EBF0F8",
            "linecolor": "#EBF0F8",
            "ticks": ""
           },
           "bgcolor": "white",
           "radialaxis": {
            "gridcolor": "#EBF0F8",
            "linecolor": "#EBF0F8",
            "ticks": ""
           }
          },
          "scene": {
           "xaxis": {
            "backgroundcolor": "white",
            "gridcolor": "#DFE8F3",
            "gridwidth": 2,
            "linecolor": "#EBF0F8",
            "showbackground": true,
            "ticks": "",
            "zerolinecolor": "#EBF0F8"
           },
           "yaxis": {
            "backgroundcolor": "white",
            "gridcolor": "#DFE8F3",
            "gridwidth": 2,
            "linecolor": "#EBF0F8",
            "showbackground": true,
            "ticks": "",
            "zerolinecolor": "#EBF0F8"
           },
           "zaxis": {
            "backgroundcolor": "white",
            "gridcolor": "#DFE8F3",
            "gridwidth": 2,
            "linecolor": "#EBF0F8",
            "showbackground": true,
            "ticks": "",
            "zerolinecolor": "#EBF0F8"
           }
          },
          "shapedefaults": {
           "line": {
            "color": "#2a3f5f"
           }
          },
          "ternary": {
           "aaxis": {
            "gridcolor": "#DFE8F3",
            "linecolor": "#A2B1C6",
            "ticks": ""
           },
           "baxis": {
            "gridcolor": "#DFE8F3",
            "linecolor": "#A2B1C6",
            "ticks": ""
           },
           "bgcolor": "white",
           "caxis": {
            "gridcolor": "#DFE8F3",
            "linecolor": "#A2B1C6",
            "ticks": ""
           }
          },
          "title": {
           "x": 0.05
          },
          "xaxis": {
           "automargin": true,
           "gridcolor": "#EBF0F8",
           "linecolor": "#EBF0F8",
           "ticks": "",
           "title": {
            "standoff": 15
           },
           "zerolinecolor": "#EBF0F8",
           "zerolinewidth": 2
          },
          "yaxis": {
           "automargin": true,
           "gridcolor": "#EBF0F8",
           "linecolor": "#EBF0F8",
           "ticks": "",
           "title": {
            "standoff": 15
           },
           "zerolinecolor": "#EBF0F8",
           "zerolinewidth": 2
          }
         }
        },
        "title": {
         "text": "Interactive Lag Visualization"
        },
        "xaxis": {
         "title": {
          "text": "Year"
         }
        },
        "yaxis": {
         "title": {
          "text": "Proportion"
         }
        }
       }
      }
     },
     "metadata": {},
     "output_type": "display_data"
    }
   ],
   "source": [
    "fig = plot_movies_and_news_frequency(theme, time_unit='Year')\n",
    "fig[0].show()\n",
    "fig[1].show()\n"
   ]
  },
  {
   "cell_type": "markdown",
   "id": "a391ebe6",
   "metadata": {},
   "source": [
    "There is a lag of 16 years between the movies and news related to cold war. Meaning that there's 16 years for both to align thematically. This could be due to following reasons:\n",
    "- Movies often serve as a medium for processing historical and geopolitical events years after the events have passed\n",
    "- historical distance: A lag allows for new perspectives to emerge, moving beyond immediate reactions to provide deeper or more nuanced storytelling\n",
    "- The patterns confirm that significant geopolitical events inspire filmmakers, creating a relationship where news informs art"
   ]
  },
  {
   "cell_type": "markdown",
   "id": "29fb3f72",
   "metadata": {},
   "source": [
    "# 6. Conclusion"
   ]
  },
  {
   "cell_type": "markdown",
   "id": "70d11bad",
   "metadata": {},
   "source": [
    "Cold War-themed movies transitioned through genres, from war and propaganda films of the 1940s to science fiction, thrillers, and political dramas in later decades.\n",
    "\n",
    "Comedy, surprisingly, played a significant role, using satire to critique societal norms and political ideologies. \n",
    "\n",
    "Negative emotions like fear, sadness, and disgust dominate Cold War cinema, showing  the era's anxiety, distrust, and uncertainty. Positive emotions dropped from the 1940s where URSS and US were allies.\n",
    "\n",
    "Unsurprisingly, the US and USSR dominate Cold War narratives, yet global cinema adds diverse perspectives, from Europe to post-communist nation. Central themes like nuclear anxiety, espionage, and ideological conflict are interconnected with personal stories of resilience, family, and love, showing the human side of global tensions.\n",
    "\n",
    "As a conclusion, films not only captured the geopolitical struggles but also gave voice to the emotional and human stories of the time. As we move further from the Cold War, cinema continues to revisit this period, offering new insights and perspectives on an era that shaped the modern world."
   ]
  }
 ],
 "metadata": {
  "kernelspec": {
   "display_name": "ada",
   "language": "python",
   "name": "python3"
  },
  "language_info": {
   "codemirror_mode": {
    "name": "ipython",
    "version": 3
   },
   "file_extension": ".py",
   "mimetype": "text/x-python",
   "name": "python",
   "nbconvert_exporter": "python",
   "pygments_lexer": "ipython3",
   "version": "3.11.9"
  }
 },
 "nbformat": 4,
 "nbformat_minor": 5
}
