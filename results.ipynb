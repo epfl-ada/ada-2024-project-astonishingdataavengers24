{
 "cells": [
  {
   "cell_type": "code",
   "execution_count": 1,
   "id": "22760bd2",
   "metadata": {},
   "outputs": [],
   "source": [
    "import dask.dataframe as dd\n",
    "from nltk.corpus import stopwords\n",
    "import nltk\n",
    "import re\n",
    "import pandas as pd\n",
    "import matplotlib.pyplot as plt\n",
    "from sentence_transformers import SentenceTransformer\n",
    "from sklearn.metrics.pairwise import cosine_similarity\n",
    "import numpy as np\n",
    "from dask.diagnostics import ProgressBar\n",
    "%matplotlib inline\n",
    "import seaborn as sns\n",
    "import ast\n",
    "from sklearn.feature_extraction.text import CountVectorizer\n",
    "from sklearn.decomposition import LatentDirichletAllocation\n",
    "from sklearn.feature_extraction.text import TfidfVectorizer\n",
    "from sklearn.decomposition import TruncatedSVD\n",
    "from gensim.models import Word2Vec\n",
    "from gensim.models import KeyedVectors\n",
    "from gensim.utils import simple_preprocess\n",
    "from src.utils.helpers_news_movies import *\n",
    "from src.utils.movies_genres_utils import *"
   ]
  },
  {
   "cell_type": "markdown",
   "id": "1fba9c22",
   "metadata": {},
   "source": [
    "## Topic modeling  for news"
   ]
  },
  {
   "cell_type": "markdown",
   "id": "fd63acf8",
   "metadata": {},
   "source": [
    "The goal of this part is to test other topic modeling methods to find themes in news papers. We'll test LDA and LSI methods. We'll also try try to find a title for each theme."
   ]
  },
  {
   "cell_type": "code",
   "execution_count": 2,
   "id": "940965a4",
   "metadata": {},
   "outputs": [],
   "source": [
    "# Load stopwords\n",
    "# nltk.download('stopwords')\n",
    "# stop_words_ = set(stopwords.words('english'))"
   ]
  },
  {
   "cell_type": "code",
   "execution_count": 3,
   "id": "3540f3c0",
   "metadata": {},
   "outputs": [],
   "source": [
    "ddf = dd.read_parquet('data/nyt_data.parquet')"
   ]
  },
  {
   "cell_type": "code",
   "execution_count": 4,
   "id": "9e7baaec",
   "metadata": {},
   "outputs": [],
   "source": [
    "# Filter dataset for a particular year\n",
    "filtered_ddf = ddf[(ddf['year'] >= 1968) & (ddf['year'] <= 1968)]\n",
    "\n",
    "filtered_ddf = filtered_ddf.reset_index(drop=True)"
   ]
  },
  {
   "cell_type": "code",
   "execution_count": 5,
   "id": "3af65f52",
   "metadata": {},
   "outputs": [],
   "source": [
    "# Combine the text and process it\n",
    "filtered_ddf['combined_text'] = filtered_ddf['title'] + filtered_ddf['excerpt']\n",
    "filtered_ddf['processed_text'] = filtered_ddf['combined_text'].apply(preprocess_text, meta=('processed_text', 'str'), args= ('stop_words_',))"
   ]
  },
  {
   "cell_type": "markdown",
   "id": "6568956d",
   "metadata": {},
   "source": [
    "## Topic modeling by LDA"
   ]
  },
  {
   "cell_type": "code",
   "execution_count": 6,
   "id": "3ad65ec2",
   "metadata": {},
   "outputs": [],
   "source": [
    "# Create the TF matrix\n",
    "stop_words = stopwords.words('english')\n",
    "vectorizer = CountVectorizer(max_df=0.90, min_df=2, stop_words=stop_words, token_pattern=r'\\b[a-zA-Z]+\\b')\n",
    "\n",
    "processed_text = filtered_ddf['processed_text'].compute() \n",
    "tf_matrix = vectorizer.fit_transform(processed_text)"
   ]
  },
  {
   "cell_type": "code",
   "execution_count": 7,
   "id": "478b4ecc",
   "metadata": {},
   "outputs": [
    {
     "data": {
      "text/html": [
       "<style>#sk-container-id-1 {\n",
       "  /* Definition of color scheme common for light and dark mode */\n",
       "  --sklearn-color-text: black;\n",
       "  --sklearn-color-line: gray;\n",
       "  /* Definition of color scheme for unfitted estimators */\n",
       "  --sklearn-color-unfitted-level-0: #fff5e6;\n",
       "  --sklearn-color-unfitted-level-1: #f6e4d2;\n",
       "  --sklearn-color-unfitted-level-2: #ffe0b3;\n",
       "  --sklearn-color-unfitted-level-3: chocolate;\n",
       "  /* Definition of color scheme for fitted estimators */\n",
       "  --sklearn-color-fitted-level-0: #f0f8ff;\n",
       "  --sklearn-color-fitted-level-1: #d4ebff;\n",
       "  --sklearn-color-fitted-level-2: #b3dbfd;\n",
       "  --sklearn-color-fitted-level-3: cornflowerblue;\n",
       "\n",
       "  /* Specific color for light theme */\n",
       "  --sklearn-color-text-on-default-background: var(--sg-text-color, var(--theme-code-foreground, var(--jp-content-font-color1, black)));\n",
       "  --sklearn-color-background: var(--sg-background-color, var(--theme-background, var(--jp-layout-color0, white)));\n",
       "  --sklearn-color-border-box: var(--sg-text-color, var(--theme-code-foreground, var(--jp-content-font-color1, black)));\n",
       "  --sklearn-color-icon: #696969;\n",
       "\n",
       "  @media (prefers-color-scheme: dark) {\n",
       "    /* Redefinition of color scheme for dark theme */\n",
       "    --sklearn-color-text-on-default-background: var(--sg-text-color, var(--theme-code-foreground, var(--jp-content-font-color1, white)));\n",
       "    --sklearn-color-background: var(--sg-background-color, var(--theme-background, var(--jp-layout-color0, #111)));\n",
       "    --sklearn-color-border-box: var(--sg-text-color, var(--theme-code-foreground, var(--jp-content-font-color1, white)));\n",
       "    --sklearn-color-icon: #878787;\n",
       "  }\n",
       "}\n",
       "\n",
       "#sk-container-id-1 {\n",
       "  color: var(--sklearn-color-text);\n",
       "}\n",
       "\n",
       "#sk-container-id-1 pre {\n",
       "  padding: 0;\n",
       "}\n",
       "\n",
       "#sk-container-id-1 input.sk-hidden--visually {\n",
       "  border: 0;\n",
       "  clip: rect(1px 1px 1px 1px);\n",
       "  clip: rect(1px, 1px, 1px, 1px);\n",
       "  height: 1px;\n",
       "  margin: -1px;\n",
       "  overflow: hidden;\n",
       "  padding: 0;\n",
       "  position: absolute;\n",
       "  width: 1px;\n",
       "}\n",
       "\n",
       "#sk-container-id-1 div.sk-dashed-wrapped {\n",
       "  border: 1px dashed var(--sklearn-color-line);\n",
       "  margin: 0 0.4em 0.5em 0.4em;\n",
       "  box-sizing: border-box;\n",
       "  padding-bottom: 0.4em;\n",
       "  background-color: var(--sklearn-color-background);\n",
       "}\n",
       "\n",
       "#sk-container-id-1 div.sk-container {\n",
       "  /* jupyter's `normalize.less` sets `[hidden] { display: none; }`\n",
       "     but bootstrap.min.css set `[hidden] { display: none !important; }`\n",
       "     so we also need the `!important` here to be able to override the\n",
       "     default hidden behavior on the sphinx rendered scikit-learn.org.\n",
       "     See: https://github.com/scikit-learn/scikit-learn/issues/21755 */\n",
       "  display: inline-block !important;\n",
       "  position: relative;\n",
       "}\n",
       "\n",
       "#sk-container-id-1 div.sk-text-repr-fallback {\n",
       "  display: none;\n",
       "}\n",
       "\n",
       "div.sk-parallel-item,\n",
       "div.sk-serial,\n",
       "div.sk-item {\n",
       "  /* draw centered vertical line to link estimators */\n",
       "  background-image: linear-gradient(var(--sklearn-color-text-on-default-background), var(--sklearn-color-text-on-default-background));\n",
       "  background-size: 2px 100%;\n",
       "  background-repeat: no-repeat;\n",
       "  background-position: center center;\n",
       "}\n",
       "\n",
       "/* Parallel-specific style estimator block */\n",
       "\n",
       "#sk-container-id-1 div.sk-parallel-item::after {\n",
       "  content: \"\";\n",
       "  width: 100%;\n",
       "  border-bottom: 2px solid var(--sklearn-color-text-on-default-background);\n",
       "  flex-grow: 1;\n",
       "}\n",
       "\n",
       "#sk-container-id-1 div.sk-parallel {\n",
       "  display: flex;\n",
       "  align-items: stretch;\n",
       "  justify-content: center;\n",
       "  background-color: var(--sklearn-color-background);\n",
       "  position: relative;\n",
       "}\n",
       "\n",
       "#sk-container-id-1 div.sk-parallel-item {\n",
       "  display: flex;\n",
       "  flex-direction: column;\n",
       "}\n",
       "\n",
       "#sk-container-id-1 div.sk-parallel-item:first-child::after {\n",
       "  align-self: flex-end;\n",
       "  width: 50%;\n",
       "}\n",
       "\n",
       "#sk-container-id-1 div.sk-parallel-item:last-child::after {\n",
       "  align-self: flex-start;\n",
       "  width: 50%;\n",
       "}\n",
       "\n",
       "#sk-container-id-1 div.sk-parallel-item:only-child::after {\n",
       "  width: 0;\n",
       "}\n",
       "\n",
       "/* Serial-specific style estimator block */\n",
       "\n",
       "#sk-container-id-1 div.sk-serial {\n",
       "  display: flex;\n",
       "  flex-direction: column;\n",
       "  align-items: center;\n",
       "  background-color: var(--sklearn-color-background);\n",
       "  padding-right: 1em;\n",
       "  padding-left: 1em;\n",
       "}\n",
       "\n",
       "\n",
       "/* Toggleable style: style used for estimator/Pipeline/ColumnTransformer box that is\n",
       "clickable and can be expanded/collapsed.\n",
       "- Pipeline and ColumnTransformer use this feature and define the default style\n",
       "- Estimators will overwrite some part of the style using the `sk-estimator` class\n",
       "*/\n",
       "\n",
       "/* Pipeline and ColumnTransformer style (default) */\n",
       "\n",
       "#sk-container-id-1 div.sk-toggleable {\n",
       "  /* Default theme specific background. It is overwritten whether we have a\n",
       "  specific estimator or a Pipeline/ColumnTransformer */\n",
       "  background-color: var(--sklearn-color-background);\n",
       "}\n",
       "\n",
       "/* Toggleable label */\n",
       "#sk-container-id-1 label.sk-toggleable__label {\n",
       "  cursor: pointer;\n",
       "  display: block;\n",
       "  width: 100%;\n",
       "  margin-bottom: 0;\n",
       "  padding: 0.5em;\n",
       "  box-sizing: border-box;\n",
       "  text-align: center;\n",
       "}\n",
       "\n",
       "#sk-container-id-1 label.sk-toggleable__label-arrow:before {\n",
       "  /* Arrow on the left of the label */\n",
       "  content: \"▸\";\n",
       "  float: left;\n",
       "  margin-right: 0.25em;\n",
       "  color: var(--sklearn-color-icon);\n",
       "}\n",
       "\n",
       "#sk-container-id-1 label.sk-toggleable__label-arrow:hover:before {\n",
       "  color: var(--sklearn-color-text);\n",
       "}\n",
       "\n",
       "/* Toggleable content - dropdown */\n",
       "\n",
       "#sk-container-id-1 div.sk-toggleable__content {\n",
       "  max-height: 0;\n",
       "  max-width: 0;\n",
       "  overflow: hidden;\n",
       "  text-align: left;\n",
       "  /* unfitted */\n",
       "  background-color: var(--sklearn-color-unfitted-level-0);\n",
       "}\n",
       "\n",
       "#sk-container-id-1 div.sk-toggleable__content.fitted {\n",
       "  /* fitted */\n",
       "  background-color: var(--sklearn-color-fitted-level-0);\n",
       "}\n",
       "\n",
       "#sk-container-id-1 div.sk-toggleable__content pre {\n",
       "  margin: 0.2em;\n",
       "  border-radius: 0.25em;\n",
       "  color: var(--sklearn-color-text);\n",
       "  /* unfitted */\n",
       "  background-color: var(--sklearn-color-unfitted-level-0);\n",
       "}\n",
       "\n",
       "#sk-container-id-1 div.sk-toggleable__content.fitted pre {\n",
       "  /* unfitted */\n",
       "  background-color: var(--sklearn-color-fitted-level-0);\n",
       "}\n",
       "\n",
       "#sk-container-id-1 input.sk-toggleable__control:checked~div.sk-toggleable__content {\n",
       "  /* Expand drop-down */\n",
       "  max-height: 200px;\n",
       "  max-width: 100%;\n",
       "  overflow: auto;\n",
       "}\n",
       "\n",
       "#sk-container-id-1 input.sk-toggleable__control:checked~label.sk-toggleable__label-arrow:before {\n",
       "  content: \"▾\";\n",
       "}\n",
       "\n",
       "/* Pipeline/ColumnTransformer-specific style */\n",
       "\n",
       "#sk-container-id-1 div.sk-label input.sk-toggleable__control:checked~label.sk-toggleable__label {\n",
       "  color: var(--sklearn-color-text);\n",
       "  background-color: var(--sklearn-color-unfitted-level-2);\n",
       "}\n",
       "\n",
       "#sk-container-id-1 div.sk-label.fitted input.sk-toggleable__control:checked~label.sk-toggleable__label {\n",
       "  background-color: var(--sklearn-color-fitted-level-2);\n",
       "}\n",
       "\n",
       "/* Estimator-specific style */\n",
       "\n",
       "/* Colorize estimator box */\n",
       "#sk-container-id-1 div.sk-estimator input.sk-toggleable__control:checked~label.sk-toggleable__label {\n",
       "  /* unfitted */\n",
       "  background-color: var(--sklearn-color-unfitted-level-2);\n",
       "}\n",
       "\n",
       "#sk-container-id-1 div.sk-estimator.fitted input.sk-toggleable__control:checked~label.sk-toggleable__label {\n",
       "  /* fitted */\n",
       "  background-color: var(--sklearn-color-fitted-level-2);\n",
       "}\n",
       "\n",
       "#sk-container-id-1 div.sk-label label.sk-toggleable__label,\n",
       "#sk-container-id-1 div.sk-label label {\n",
       "  /* The background is the default theme color */\n",
       "  color: var(--sklearn-color-text-on-default-background);\n",
       "}\n",
       "\n",
       "/* On hover, darken the color of the background */\n",
       "#sk-container-id-1 div.sk-label:hover label.sk-toggleable__label {\n",
       "  color: var(--sklearn-color-text);\n",
       "  background-color: var(--sklearn-color-unfitted-level-2);\n",
       "}\n",
       "\n",
       "/* Label box, darken color on hover, fitted */\n",
       "#sk-container-id-1 div.sk-label.fitted:hover label.sk-toggleable__label.fitted {\n",
       "  color: var(--sklearn-color-text);\n",
       "  background-color: var(--sklearn-color-fitted-level-2);\n",
       "}\n",
       "\n",
       "/* Estimator label */\n",
       "\n",
       "#sk-container-id-1 div.sk-label label {\n",
       "  font-family: monospace;\n",
       "  font-weight: bold;\n",
       "  display: inline-block;\n",
       "  line-height: 1.2em;\n",
       "}\n",
       "\n",
       "#sk-container-id-1 div.sk-label-container {\n",
       "  text-align: center;\n",
       "}\n",
       "\n",
       "/* Estimator-specific */\n",
       "#sk-container-id-1 div.sk-estimator {\n",
       "  font-family: monospace;\n",
       "  border: 1px dotted var(--sklearn-color-border-box);\n",
       "  border-radius: 0.25em;\n",
       "  box-sizing: border-box;\n",
       "  margin-bottom: 0.5em;\n",
       "  /* unfitted */\n",
       "  background-color: var(--sklearn-color-unfitted-level-0);\n",
       "}\n",
       "\n",
       "#sk-container-id-1 div.sk-estimator.fitted {\n",
       "  /* fitted */\n",
       "  background-color: var(--sklearn-color-fitted-level-0);\n",
       "}\n",
       "\n",
       "/* on hover */\n",
       "#sk-container-id-1 div.sk-estimator:hover {\n",
       "  /* unfitted */\n",
       "  background-color: var(--sklearn-color-unfitted-level-2);\n",
       "}\n",
       "\n",
       "#sk-container-id-1 div.sk-estimator.fitted:hover {\n",
       "  /* fitted */\n",
       "  background-color: var(--sklearn-color-fitted-level-2);\n",
       "}\n",
       "\n",
       "/* Specification for estimator info (e.g. \"i\" and \"?\") */\n",
       "\n",
       "/* Common style for \"i\" and \"?\" */\n",
       "\n",
       ".sk-estimator-doc-link,\n",
       "a:link.sk-estimator-doc-link,\n",
       "a:visited.sk-estimator-doc-link {\n",
       "  float: right;\n",
       "  font-size: smaller;\n",
       "  line-height: 1em;\n",
       "  font-family: monospace;\n",
       "  background-color: var(--sklearn-color-background);\n",
       "  border-radius: 1em;\n",
       "  height: 1em;\n",
       "  width: 1em;\n",
       "  text-decoration: none !important;\n",
       "  margin-left: 1ex;\n",
       "  /* unfitted */\n",
       "  border: var(--sklearn-color-unfitted-level-1) 1pt solid;\n",
       "  color: var(--sklearn-color-unfitted-level-1);\n",
       "}\n",
       "\n",
       ".sk-estimator-doc-link.fitted,\n",
       "a:link.sk-estimator-doc-link.fitted,\n",
       "a:visited.sk-estimator-doc-link.fitted {\n",
       "  /* fitted */\n",
       "  border: var(--sklearn-color-fitted-level-1) 1pt solid;\n",
       "  color: var(--sklearn-color-fitted-level-1);\n",
       "}\n",
       "\n",
       "/* On hover */\n",
       "div.sk-estimator:hover .sk-estimator-doc-link:hover,\n",
       ".sk-estimator-doc-link:hover,\n",
       "div.sk-label-container:hover .sk-estimator-doc-link:hover,\n",
       ".sk-estimator-doc-link:hover {\n",
       "  /* unfitted */\n",
       "  background-color: var(--sklearn-color-unfitted-level-3);\n",
       "  color: var(--sklearn-color-background);\n",
       "  text-decoration: none;\n",
       "}\n",
       "\n",
       "div.sk-estimator.fitted:hover .sk-estimator-doc-link.fitted:hover,\n",
       ".sk-estimator-doc-link.fitted:hover,\n",
       "div.sk-label-container:hover .sk-estimator-doc-link.fitted:hover,\n",
       ".sk-estimator-doc-link.fitted:hover {\n",
       "  /* fitted */\n",
       "  background-color: var(--sklearn-color-fitted-level-3);\n",
       "  color: var(--sklearn-color-background);\n",
       "  text-decoration: none;\n",
       "}\n",
       "\n",
       "/* Span, style for the box shown on hovering the info icon */\n",
       ".sk-estimator-doc-link span {\n",
       "  display: none;\n",
       "  z-index: 9999;\n",
       "  position: relative;\n",
       "  font-weight: normal;\n",
       "  right: .2ex;\n",
       "  padding: .5ex;\n",
       "  margin: .5ex;\n",
       "  width: min-content;\n",
       "  min-width: 20ex;\n",
       "  max-width: 50ex;\n",
       "  color: var(--sklearn-color-text);\n",
       "  box-shadow: 2pt 2pt 4pt #999;\n",
       "  /* unfitted */\n",
       "  background: var(--sklearn-color-unfitted-level-0);\n",
       "  border: .5pt solid var(--sklearn-color-unfitted-level-3);\n",
       "}\n",
       "\n",
       ".sk-estimator-doc-link.fitted span {\n",
       "  /* fitted */\n",
       "  background: var(--sklearn-color-fitted-level-0);\n",
       "  border: var(--sklearn-color-fitted-level-3);\n",
       "}\n",
       "\n",
       ".sk-estimator-doc-link:hover span {\n",
       "  display: block;\n",
       "}\n",
       "\n",
       "/* \"?\"-specific style due to the `<a>` HTML tag */\n",
       "\n",
       "#sk-container-id-1 a.estimator_doc_link {\n",
       "  float: right;\n",
       "  font-size: 1rem;\n",
       "  line-height: 1em;\n",
       "  font-family: monospace;\n",
       "  background-color: var(--sklearn-color-background);\n",
       "  border-radius: 1rem;\n",
       "  height: 1rem;\n",
       "  width: 1rem;\n",
       "  text-decoration: none;\n",
       "  /* unfitted */\n",
       "  color: var(--sklearn-color-unfitted-level-1);\n",
       "  border: var(--sklearn-color-unfitted-level-1) 1pt solid;\n",
       "}\n",
       "\n",
       "#sk-container-id-1 a.estimator_doc_link.fitted {\n",
       "  /* fitted */\n",
       "  border: var(--sklearn-color-fitted-level-1) 1pt solid;\n",
       "  color: var(--sklearn-color-fitted-level-1);\n",
       "}\n",
       "\n",
       "/* On hover */\n",
       "#sk-container-id-1 a.estimator_doc_link:hover {\n",
       "  /* unfitted */\n",
       "  background-color: var(--sklearn-color-unfitted-level-3);\n",
       "  color: var(--sklearn-color-background);\n",
       "  text-decoration: none;\n",
       "}\n",
       "\n",
       "#sk-container-id-1 a.estimator_doc_link.fitted:hover {\n",
       "  /* fitted */\n",
       "  background-color: var(--sklearn-color-fitted-level-3);\n",
       "}\n",
       "</style><div id=\"sk-container-id-1\" class=\"sk-top-container\"><div class=\"sk-text-repr-fallback\"><pre>LatentDirichletAllocation(n_components=30, random_state=0)</pre><b>In a Jupyter environment, please rerun this cell to show the HTML representation or trust the notebook. <br />On GitHub, the HTML representation is unable to render, please try loading this page with nbviewer.org.</b></div><div class=\"sk-container\" hidden><div class=\"sk-item\"><div class=\"sk-estimator fitted sk-toggleable\"><input class=\"sk-toggleable__control sk-hidden--visually\" id=\"sk-estimator-id-1\" type=\"checkbox\" checked><label for=\"sk-estimator-id-1\" class=\"sk-toggleable__label fitted sk-toggleable__label-arrow fitted\">&nbsp;&nbsp;LatentDirichletAllocation<a class=\"sk-estimator-doc-link fitted\" rel=\"noreferrer\" target=\"_blank\" href=\"https://scikit-learn.org/1.4/modules/generated/sklearn.decomposition.LatentDirichletAllocation.html\">?<span>Documentation for LatentDirichletAllocation</span></a><span class=\"sk-estimator-doc-link fitted\">i<span>Fitted</span></span></label><div class=\"sk-toggleable__content fitted\"><pre>LatentDirichletAllocation(n_components=30, random_state=0)</pre></div> </div></div></div></div>"
      ],
      "text/plain": [
       "LatentDirichletAllocation(n_components=30, random_state=0)"
      ]
     },
     "execution_count": 7,
     "metadata": {},
     "output_type": "execute_result"
    }
   ],
   "source": [
    "# Create and fit the model\n",
    "lda = LatentDirichletAllocation(n_components=30, random_state=0)\n",
    "lda.fit(tf_matrix)"
   ]
  },
  {
   "cell_type": "code",
   "execution_count": 8,
   "id": "566f0bfd",
   "metadata": {},
   "outputs": [
    {
     "name": "stdout",
     "output_type": "stream",
     "text": [
      "Theme 1: look another near street aboard train even screen father pilot said mother injured yesterday life time people children movie kills death years hurt girl like young crash plane film killed\n",
      "Theme 2: miller writer submarine author search books graham elizabeth alexander norman russell queen kong hong john frank dead martin illustrated edward review thomas george mary obituary smith york william married dies\n",
      "Theme 3: seen jerusalem canal cairo urges arabs contract would auto strikes unions wage holds israelis cars rise repts state welfare safety govt labor arab jordan says union workers israeli israel strike\n",
      "Theme 4: housing ships indus would plans planning maritime ship council assn amer development urges jobs comm project health cities urban help lines says dept study system service plan million city program\n",
      "Theme 5: olympics france year indians night three london wood winter week field first louis opera last today chess mexico ballet time season games play city world olympic team theater states united\n",
      "Theme 6: american increase drop decline stocks reserve last issues sales bond rates gains shares credit interest steel repts record exchange trading week price rate billion market yesterday rise prices stock million\n",
      "Theme 7: racial arrest newark charge riot dept disorders policemen probe guard mayor state persons seized march youth youths held negroes says violence protest civil negro charges rights chicago arrested city police\n",
      "Theme 8: jury veterans convicted given medal trial fraud says case city sentenced negro memorial prison slaying guilty honor indicted contract held woman charges charged death black award awards murder gets king\n",
      "Theme 9: life laws plot hearing phone rules antitrust charge gets evidence filed dist state dept made files atty grant cases foundation denies court says justice judge charges ford case trial suit\n",
      "Theme 10: anti ties treaty leader west pres arms regime crisis role press korean pueblo korea nation nuclear seen premier invasion conf prague leaders govt moscow says communist czech party soviet ussr\n",
      "Theme 11: raceway opera conducts american lincoln plays musical first jazz group director rock program yonkers trust announced yesterday concert dance last festival york hall night theater company vice bank music president\n",
      "Theme 12: aluminum western agreement quake chile reach denver black times puerto signed sign reached contract award negro anti accord negroes copper strike washington plant cartoon editorial sports pact letter proceedings editor\n",
      "Theme 13: dodgers weather trip ralph francis colts hits hall spring series last years back tigers paul wagner around career atlanta today cross houston detroit orioles harry baseball washington cards senators baltimore\n",
      "Theme 14: shot leads jersey mile championship high champion long women victor green calif miami beach sets world race year mark second track first takes record round lead open golf today wins\n",
      "Theme 15: beat triumph lead association back second points boston college night university scored state yesterday basketball three season final last tennis football team first national tonight league york game victory today\n",
      "Theme 16: swiss countries govt payments internatl pound bank europe silver canada abroad visit crisis canadian paris gaulle million dollar travel brit plans british britain world trade france london french foreign gold\n",
      "Theme 17: planes first army soldiers today report allied wounded repts company vietcong quarter attack reptd ended yesterday months fighting last vietnamese forces year earnings saigon sales killed near troops reported enemy\n",
      "Theme 18: natl drive president reagan senator vice nomination race candidates primary delegates candidate state poll repub conv support vote party election wallace johnson pres rockefeller says campaign mccarthy kennedy humphrey nixon\n",
      "Theme 19: house educ policy members demonstrations prof pres negroes demands university boycott says fortas dean group black protests amer faculty college school white campus protest coll columbia univ negro student students\n",
      "Theme 20: harvard director gets ruling appeal picks chairman african unit appeals bank brown apptd officer resigns aide president executive draft elects court names exec head chmn chief pres post elected named\n",
      "Theme 21: story project astronauts estate construction earth airport housing flights mayor manhattan planned test harlem moon realty area apollo craft news plans center building million site flight bldg space office city\n",
      "Theme 22: ocean approved proposal hill action union board mayor funds urges senate proposed local control vote says strike would approves merger lindsay legis educ teachers schools state city plan bill school\n",
      "Theme 23: doctors lung review houston widow condition illus cont clinic hospital operation transplants undergoes hosp blaiberg dies blood smoking walter sworn patient surgery announcement transplant marriage page front heart title article\n",
      "Theme 24: bernard door stakes heroin acquired magazine stamps opens rice marijuana motors gallagher pays barnes news italian modern million american world little sold dutch life stamp films marine film paper child\n",
      "Theme 25: takes charles saturday international races boat sailing victor mile next week long best event benefit annual yacht conn wins class island park first year horse racing club today race show\n",
      "Theme 26: wife cruise boat york samuel explosion castro library antiques dead ship history auction amer american missing collection cuban bomb cuba blast sale revd joseph family james found books home book\n",
      "Theme 27: works dancer history dedicated comment area poor great hosp work tests scientists snow program lake image river children natl water pollution budget hospital arts research center illus museum fund million\n",
      "Theme 28: prospective peter carol michael anne elizabeth charles affianced lawrence bridal clark fiancee plans barbara richard marry nancy susan fiance daughter nuptials betrothed becomes weds david engaged robert john bride miss\n",
      "Theme 29: state mail asks cardinal curb signs catholic religious group members congress bishops birth security repts greek says africa priests bishop pres church control cong natl govt pope johnson council fire\n",
      "Theme 30: thant noted meeting north conf thieu news defense said today policy rusk govt nguyen washington amer halt saigon officials statement would paris hanoi bombing vietnamese peace johnson talks says vietnam\n"
     ]
    }
   ],
   "source": [
    "# Find and print the terms for each topic\n",
    "topics_lda = {}\n",
    "words = vectorizer.get_feature_names_out()\n",
    "for idx, topic in enumerate(lda.components_):\n",
    "\n",
    "    top_words = [words[i] for i in topic.argsort()[-30:]]\n",
    "    topics_lda[f\"Theme {idx+1}\"] = top_words\n",
    "\n",
    "for theme, words in topics_lda.items():\n",
    "    print(f\"{theme}: {' '.join(words)}\")"
   ]
  },
  {
   "cell_type": "markdown",
   "id": "116adcb5",
   "metadata": {},
   "source": [
    "## Topic modeling by LSI"
   ]
  },
  {
   "cell_type": "code",
   "execution_count": 9,
   "id": "97bf91e7",
   "metadata": {},
   "outputs": [],
   "source": [
    "# Create the TF-IDF matrix\n",
    "tf_idf_vectorizer = TfidfVectorizer(max_features=5000)  \n",
    "tf_idf_matrix = tf_idf_vectorizer.fit_transform(filtered_ddf['processed_text'])"
   ]
  },
  {
   "cell_type": "code",
   "execution_count": 10,
   "id": "32945663",
   "metadata": {},
   "outputs": [
    {
     "data": {
      "text/plain": [
       "array([[ 3.76234009e-04,  5.79988863e-02, -7.67179495e-03, ...,\n",
       "        -5.55559870e-02,  2.79686122e-02, -4.19531684e-02],\n",
       "       [ 1.38636861e-04,  1.50470607e-02, -2.20691625e-03, ...,\n",
       "        -4.53609122e-03,  3.73392478e-03,  8.47512817e-04],\n",
       "       [ 3.31872722e-05,  5.74100379e-03,  3.16885118e-04, ...,\n",
       "         4.86015780e-04, -3.79888176e-03,  1.75201265e-03],\n",
       "       ...,\n",
       "       [ 3.87023220e-04,  5.34929457e-02, -2.89754484e-03, ...,\n",
       "        -1.85650502e-02, -3.79454851e-02, -7.52958754e-02],\n",
       "       [ 1.24373123e-04,  2.76736563e-02, -3.92877356e-03, ...,\n",
       "        -3.92825075e-03, -1.08952268e-02, -3.29337429e-03],\n",
       "       [ 1.99147662e-04,  2.68113920e-02, -3.98172698e-03, ...,\n",
       "         3.17849636e-03, -1.86902588e-02, -1.60824652e-02]])"
      ]
     },
     "execution_count": 10,
     "metadata": {},
     "output_type": "execute_result"
    }
   ],
   "source": [
    "# Create and fit the model\n",
    "svd_model = TruncatedSVD(n_components=30, random_state=42)\n",
    "svd_model.fit_transform(tf_idf_matrix)"
   ]
  },
  {
   "cell_type": "code",
   "execution_count": 11,
   "id": "92c5b478",
   "metadata": {},
   "outputs": [
    {
     "name": "stdout",
     "output_type": "stream",
     "text": [
      "Topic 1: that illus from wins with today birth notice review marriage announcement letter editor editorial cartoon front page obituary article title\n",
      "Topic 2: more their york humphrey after vietnam nixon state have million pres over today johnson city says from that will with\n",
      "Topic 3: david james nancy affianced fiancee mary marry susan robert prospective weds fiance john nuptials betrothed becomes engaged married bride miss\n",
      "Topic 4: killed senators reston miss identified servicemen week capital states united treasury department following casualties vietnam court supreme today washington proceedings\n",
      "Topic 5: game announcement victory with engaged marriage first york letter editor today editorial cartoon married wins miss front page title obituary\n",
      "Topic 6: chief vice exec letter editor john elects president editorial pres prospective cartoon named elected becomes front page title obituary bride\n",
      "Topic 7: title post nixon head executive humphrey married johnson names obituary chmn miss chief vice exec elects president pres named elected\n",
      "Topic 8: league over victor article national american team game year president yesterday victory john york elects first today named elected wins\n",
      "Topic 9: charles debutante nancy lawyer barbara david alumna robert york jane susan william james mary dies john here bride will married\n",
      "Topic 10: scores party final rockefeller golf campaign victor victory wallace today says vietnam married race mccarthy kennedy johnson humphrey nixon wins\n",
      "Topic 11: crash game washington nixon johnson president william kennedy today humphrey killed york with dead casualties engaged obituary vietnam dies john\n",
      "Topic 12: exchange trading market kennedy last york american week president stock yesterday johnson today nixon casualties humphrey prices vietnam front page\n",
      "Topic 13: after talks saigon protest strike wins casualties named student negro city killed school with police vietnam students dies front page\n",
      "Topic 14: troops soviet north washington from that hanoi married elects with today vietnamese enemy saigon talks elected killed obituary casualties vietnam\n",
      "Topic 15: yesterday london exchange market trading index page front killed johnson rise john stock casualties from prices million vietnam wins dies\n",
      "Topic 16: govt plan hanoi named obituary talks city vietnamese enemy will saigon from million elected says casualties wins engaged vietnam john\n",
      "Topic 17: czech police exchange trading market married johnson london soviet merger strike ussr wins stock john prices talks elects elected with\n",
      "Topic 18: married index talks market exchange trading police yesterday london strike editorial names nixon cartoon post stock aide prices with named\n",
      "Topic 19: after over protest wallace editorial cartoon married elects strike student negro school elected killed humphrey students police nixon engaged from\n",
      "Topic 20: william editorial cartoon barbara tennis aide marry james victor dies letter mary million susan editor says named with will engaged\n",
      "Topic 21: ussr soviet william gets house bank white letter editor president pres with bill kennedy title million johnson from editorial cartoon\n",
      "Topic 22: been they william world excerpts london moscow letter editor nixon will party have wins czech ussr soviet named that from\n",
      "Topic 23: washington gets article state robert house white pres william kennedy front bill page with engaged president obituary million from johnson\n",
      "Topic 24: engaged says exchange yesterday pres victor white strike kennedy letter stock london negro editor will student prices school students johnson\n",
      "Topic 25: lindsay william editor plans vietnam theater prices wins vice london will nuptials nixon school president york johnson with from city\n",
      "Topic 26: million illus show protest bridal police marriage negro kennedy after held humphrey student vice william killed president students plans nuptials\n",
      "Topic 27: crash near president engaged vice been enemy fire york plans letter have editor betrothed killed mccarthy humphrey that kennedy city\n",
      "Topic 28: wounded plane dead here says city saigon child pres kills police hurt nixon enemy fire near will crash johnson killed\n",
      "Topic 29: nixon post after school child mccarthy london york vietnam casualties negro student police betrothed will with robert students million kennedy\n",
      "Topic 30: sales student nixon wins killed william negro have humphrey bank will that students child million strike vice president letter editor\n"
     ]
    }
   ],
   "source": [
    "# Find and print the terms for each topic\n",
    "topics_lsi = {}\n",
    "terms = tf_idf_vectorizer.get_feature_names_out()\n",
    "for i, topic in enumerate(svd_model.components_):\n",
    "    top_terms = [terms[j] for j in topic.argsort()[-20:]]\n",
    "    topics_lsi[f\"Topic {i+1}\"] = top_terms\n",
    "\n",
    "for topic, terms in topics_lsi.items():\n",
    "    print(f\"{topic}: {' '.join(terms)}\")"
   ]
  },
  {
   "cell_type": "markdown",
   "id": "496afe20",
   "metadata": {},
   "source": [
    "We tried to find topics for the year 1968. It seems to work since we recognized some hot topics of society from this year, such as the Vietnam war or students' protests."
   ]
  },
  {
   "cell_type": "markdown",
   "id": "26f97e44",
   "metadata": {},
   "source": [
    "## Find title for topic"
   ]
  },
  {
   "cell_type": "code",
   "execution_count": 12,
   "id": "ea654cb5",
   "metadata": {},
   "outputs": [],
   "source": [
    "# Load a model already trained to encode words\n",
    "model = KeyedVectors.load_word2vec_format(\"data/word2vec.bin\", binary=True)"
   ]
  },
  {
   "cell_type": "code",
   "execution_count": 13,
   "id": "bda2ea42",
   "metadata": {},
   "outputs": [],
   "source": [
    "# Find a word that summarizes the themes found above\n",
    "def find_theme(list_words, model):\n",
    "    vectors = []\n",
    "    # Calculate the average vector for the theme\n",
    "    for w in list_words:\n",
    "        if w in model:\n",
    "            vectors.append(model[w])\n",
    "    if vectors:\n",
    "        avg_vec = sum(vectors) / len(vectors)\n",
    "    else:\n",
    "        avg_vec = None\n",
    "        \n",
    "    # Find the closest word\n",
    "    closest_words = model.most_similar(positive=[avg_vec], topn=1)\n",
    "\n",
    "    closest_w, sim_max = closest_words[0] \n",
    "    return closest_w"
   ]
  },
  {
   "cell_type": "code",
   "execution_count": 14,
   "id": "052894ef",
   "metadata": {
    "scrolled": false
   },
   "outputs": [
    {
     "name": "stdout",
     "output_type": "stream",
     "text": [
      "Topic 1\n",
      "Terms ['that', 'illus', 'from', 'wins', 'with', 'today', 'birth', 'notice', 'review', 'marriage', 'announcement', 'letter', 'editor', 'editorial', 'cartoon', 'front', 'page', 'obituary', 'article', 'title']\n",
      "Theme word : editorial\n",
      "Topic 2\n",
      "Terms ['more', 'their', 'york', 'humphrey', 'after', 'vietnam', 'nixon', 'state', 'have', 'million', 'pres', 'over', 'today', 'johnson', 'city', 'says', 'from', 'that', 'will', 'with']\n",
      "Theme word : nixon\n",
      "Topic 3\n",
      "Terms ['david', 'james', 'nancy', 'affianced', 'fiancee', 'mary', 'marry', 'susan', 'robert', 'prospective', 'weds', 'fiance', 'john', 'nuptials', 'betrothed', 'becomes', 'engaged', 'married', 'bride', 'miss']\n",
      "Theme word : betrothed\n",
      "Topic 4\n",
      "Terms ['killed', 'senators', 'reston', 'miss', 'identified', 'servicemen', 'week', 'capital', 'states', 'united', 'treasury', 'department', 'following', 'casualties', 'vietnam', 'court', 'supreme', 'today', 'washington', 'proceedings']\n",
      "Theme word : washington\n",
      "Topic 5\n",
      "Terms ['game', 'announcement', 'victory', 'with', 'engaged', 'marriage', 'first', 'york', 'letter', 'editor', 'today', 'editorial', 'cartoon', 'married', 'wins', 'miss', 'front', 'page', 'title', 'obituary']\n",
      "Theme word : championsihp\n",
      "Topic 6\n",
      "Terms ['chief', 'vice', 'exec', 'letter', 'editor', 'john', 'elects', 'president', 'editorial', 'pres', 'prospective', 'cartoon', 'named', 'elected', 'becomes', 'front', 'page', 'title', 'obituary', 'bride']\n",
      "Theme word : elected\n",
      "Topic 7\n",
      "Terms ['title', 'post', 'nixon', 'head', 'executive', 'humphrey', 'married', 'johnson', 'names', 'obituary', 'chmn', 'miss', 'chief', 'vice', 'exec', 'elects', 'president', 'pres', 'named', 'elected']\n",
      "Theme word : elected\n",
      "Topic 8\n",
      "Terms ['league', 'over', 'victor', 'article', 'national', 'american', 'team', 'game', 'year', 'president', 'yesterday', 'victory', 'john', 'york', 'elects', 'first', 'today', 'named', 'elected', 'wins']\n",
      "Theme word : national\n",
      "Topic 9\n",
      "Terms ['charles', 'debutante', 'nancy', 'lawyer', 'barbara', 'david', 'alumna', 'robert', 'york', 'jane', 'susan', 'william', 'james', 'mary', 'dies', 'john', 'here', 'bride', 'will', 'married']\n",
      "Theme word : susan\n",
      "Topic 10\n",
      "Terms ['scores', 'party', 'final', 'rockefeller', 'golf', 'campaign', 'victor', 'victory', 'wallace', 'today', 'says', 'vietnam', 'married', 'race', 'mccarthy', 'kennedy', 'johnson', 'humphrey', 'nixon', 'wins']\n",
      "Theme word : nixon\n",
      "Topic 11\n",
      "Terms ['crash', 'game', 'washington', 'nixon', 'johnson', 'president', 'william', 'kennedy', 'today', 'humphrey', 'killed', 'york', 'with', 'dead', 'casualties', 'engaged', 'obituary', 'vietnam', 'dies', 'john']\n",
      "Theme word : johnson\n",
      "Topic 12\n",
      "Terms ['exchange', 'trading', 'market', 'kennedy', 'last', 'york', 'american', 'week', 'president', 'stock', 'yesterday', 'johnson', 'today', 'nixon', 'casualties', 'humphrey', 'prices', 'vietnam', 'front', 'page']\n",
      "Theme word : market\n",
      "Topic 13\n",
      "Terms ['after', 'talks', 'saigon', 'protest', 'strike', 'wins', 'casualties', 'named', 'student', 'negro', 'city', 'killed', 'school', 'with', 'police', 'vietnam', 'students', 'dies', 'front', 'page']\n",
      "Theme word : students\n",
      "Topic 14\n",
      "Terms ['troops', 'soviet', 'north', 'washington', 'from', 'that', 'hanoi', 'married', 'elects', 'with', 'today', 'vietnamese', 'enemy', 'saigon', 'talks', 'elected', 'killed', 'obituary', 'casualties', 'vietnam']\n",
      "Theme word : vietnamese\n",
      "Topic 15\n",
      "Terms ['yesterday', 'london', 'exchange', 'market', 'trading', 'index', 'page', 'front', 'killed', 'johnson', 'rise', 'john', 'stock', 'casualties', 'from', 'prices', 'million', 'vietnam', 'wins', 'dies']\n",
      "Theme word : trading\n",
      "Topic 16\n",
      "Terms ['govt', 'plan', 'hanoi', 'named', 'obituary', 'talks', 'city', 'vietnamese', 'enemy', 'will', 'saigon', 'from', 'million', 'elected', 'says', 'casualties', 'wins', 'engaged', 'vietnam', 'john']\n",
      "Theme word : vietnamese\n",
      "Topic 17\n",
      "Terms ['czech', 'police', 'exchange', 'trading', 'market', 'married', 'johnson', 'london', 'soviet', 'merger', 'strike', 'ussr', 'wins', 'stock', 'john', 'prices', 'talks', 'elects', 'elected', 'with']\n",
      "Theme word : trading\n",
      "Topic 18\n",
      "Terms ['married', 'index', 'talks', 'market', 'exchange', 'trading', 'police', 'yesterday', 'london', 'strike', 'editorial', 'names', 'nixon', 'cartoon', 'post', 'stock', 'aide', 'prices', 'with', 'named']\n",
      "Theme word : trading\n",
      "Topic 19\n",
      "Terms ['after', 'over', 'protest', 'wallace', 'editorial', 'cartoon', 'married', 'elects', 'strike', 'student', 'negro', 'school', 'elected', 'killed', 'humphrey', 'students', 'police', 'nixon', 'engaged', 'from']\n",
      "Theme word : student\n",
      "Topic 20\n",
      "Terms ['william', 'editorial', 'cartoon', 'barbara', 'tennis', 'aide', 'marry', 'james', 'victor', 'dies', 'letter', 'mary', 'million', 'susan', 'editor', 'says', 'named', 'with', 'will', 'engaged']\n",
      "Theme word : ottoson\n",
      "Topic 21\n",
      "Terms ['ussr', 'soviet', 'william', 'gets', 'house', 'bank', 'white', 'letter', 'editor', 'president', 'pres', 'with', 'bill', 'kennedy', 'title', 'million', 'johnson', 'from', 'editorial', 'cartoon']\n",
      "Theme word : johnson\n",
      "Topic 22\n",
      "Terms ['been', 'they', 'william', 'world', 'excerpts', 'london', 'moscow', 'letter', 'editor', 'nixon', 'will', 'party', 'have', 'wins', 'czech', 'ussr', 'soviet', 'named', 'that', 'from']\n",
      "Theme word : moscow\n",
      "Topic 23\n",
      "Terms ['washington', 'gets', 'article', 'state', 'robert', 'house', 'white', 'pres', 'william', 'kennedy', 'front', 'bill', 'page', 'with', 'engaged', 'president', 'obituary', 'million', 'from', 'johnson']\n",
      "Theme word : johnson\n",
      "Topic 24\n",
      "Terms ['engaged', 'says', 'exchange', 'yesterday', 'pres', 'victor', 'white', 'strike', 'kennedy', 'letter', 'stock', 'london', 'negro', 'editor', 'will', 'student', 'prices', 'school', 'students', 'johnson']\n",
      "Theme word : students\n",
      "Topic 25\n",
      "Terms ['lindsay', 'william', 'editor', 'plans', 'vietnam', 'theater', 'prices', 'wins', 'vice', 'london', 'will', 'nuptials', 'nixon', 'school', 'president', 'york', 'johnson', 'with', 'from', 'city']\n",
      "Theme word : nixon\n",
      "Topic 26\n",
      "Terms ['million', 'illus', 'show', 'protest', 'bridal', 'police', 'marriage', 'negro', 'kennedy', 'after', 'held', 'humphrey', 'student', 'vice', 'william', 'killed', 'president', 'students', 'plans', 'nuptials']\n",
      "Theme word : student\n",
      "Topic 27\n",
      "Terms ['crash', 'near', 'president', 'engaged', 'vice', 'been', 'enemy', 'fire', 'york', 'plans', 'letter', 'have', 'editor', 'betrothed', 'killed', 'mccarthy', 'humphrey', 'that', 'kennedy', 'city']\n",
      "Theme word : mccarthy\n",
      "Topic 28\n",
      "Terms ['wounded', 'plane', 'dead', 'here', 'says', 'city', 'saigon', 'child', 'pres', 'kills', 'police', 'hurt', 'nixon', 'enemy', 'fire', 'near', 'will', 'crash', 'johnson', 'killed']\n",
      "Theme word : wounded\n",
      "Topic 29\n",
      "Terms ['nixon', 'post', 'after', 'school', 'child', 'mccarthy', 'london', 'york', 'vietnam', 'casualties', 'negro', 'student', 'police', 'betrothed', 'will', 'with', 'robert', 'students', 'million', 'kennedy']\n",
      "Theme word : students\n",
      "Topic 30\n",
      "Terms ['sales', 'student', 'nixon', 'wins', 'killed', 'william', 'negro', 'have', 'humphrey', 'bank', 'will', 'that', 'students', 'child', 'million', 'strike', 'vice', 'president', 'letter', 'editor']\n",
      "Theme word : johnson\n"
     ]
    }
   ],
   "source": [
    "# Print the topics found\n",
    "for t, ws in topics_lsi.items():\n",
    "    print(t)\n",
    "    print(f\"Terms {ws}\")\n",
    "    theme = find_theme(ws, model)\n",
    "    print(f\"Theme word : {theme}\")"
   ]
  },
  {
   "cell_type": "markdown",
   "id": "c07b3dba",
   "metadata": {},
   "source": [
    "The results are coherent but do not seem sufficient for further analysis. We will maybe have to find n-grams to better define the themes or do it manually."
   ]
  },
  {
   "cell_type": "markdown",
   "id": "737f8ae1",
   "metadata": {},
   "source": [
    "## Compare Topics in News and in Movies"
   ]
  },
  {
   "cell_type": "markdown",
   "id": "f59e26c4",
   "metadata": {},
   "source": [
    "This part shows an example of how we could explore similarities in societal issues between news articles and movies plots. Once we have our topics of interests, we can do semantic search with a sentence-transformer model and compare their presence over time. We will also do more advanced statistical analysis, which we haven't done yet in this part."
   ]
  },
  {
   "cell_type": "markdown",
   "id": "f1133daa",
   "metadata": {},
   "source": [
    "## Load NYT dataset"
   ]
  },
  {
   "cell_type": "code",
   "execution_count": null,
   "id": "1c83f9bf",
   "metadata": {},
   "outputs": [
    {
     "name": "stdout",
     "output_type": "stream",
     "text": [
      "[########################################] | 100% Completed | 50.14 s\n"
     ]
    }
   ],
   "source": [
    "# Select a time period and compute\n",
    "with ProgressBar():\n",
    "    filtered_ddf = ddf[(ddf['year'] >= 1950) & (ddf['year'] <= 2000)].compute()\n",
    "\n",
    "filtered_ddf = dd.from_pandas(filtered_ddf, npartitions=100)\n",
    "\n",
    "# Select only a tiny fraction because the data is too large and a small percentage is sufficient for our analyses\n",
    "filtered_ddf = filtered_ddf.sample(frac=0.01, random_state=42).reset_index(drop=True)\n"
   ]
  },
  {
   "cell_type": "code",
   "execution_count": null,
   "id": "41db7a75",
   "metadata": {},
   "outputs": [],
   "source": [
    "# Create a combined text field for further analysis\n",
    "filtered_ddf['combined_text'] = filtered_ddf['title'] + filtered_ddf['excerpt']"
   ]
  },
  {
   "cell_type": "code",
   "execution_count": null,
   "id": "d7be8182",
   "metadata": {},
   "outputs": [],
   "source": [
    "df_movies = pd.read_csv('data/MovieSummaries/movies_metadata_cleaned.csv')"
   ]
  },
  {
   "cell_type": "code",
   "execution_count": null,
   "id": "6a70f6e7",
   "metadata": {},
   "outputs": [],
   "source": [
    "df_movies.head()"
   ]
  },
  {
   "cell_type": "code",
   "execution_count": null,
   "id": "ae5fcb47",
   "metadata": {},
   "outputs": [],
   "source": [
    "# Select period of time\n",
    "start_date = 1950\n",
    "end_date = 2000\n",
    "\n",
    "df_movies = df_movies[(df_movies['Movie_release_date'] >= start_date) & (df_movies['Movie_release_date'] < end_date)]"
   ]
  },
  {
   "cell_type": "code",
   "execution_count": null,
   "id": "a7f9099f",
   "metadata": {},
   "outputs": [],
   "source": [
    "# Create lists\n",
    "ids = df_movies[\"Wikipedia_movie_ID\"].to_list()\n",
    "movies_dict = load_plot_summaries(\"data/MovieSummaries/plot_summaries.txt\")\n",
    "movies_dict = {k: movies_dict[k] for k in movies_dict if k in ids}\n",
    "movie_descriptions = list(movies_dict.values())\n",
    "movie_ids = list(movies_dict.keys())"
   ]
  },
  {
   "cell_type": "markdown",
   "id": "f238d774",
   "metadata": {},
   "source": [
    "## Launch Model for movies topic 1\n",
    "\n",
    "We use a model from sentence-transformers to do semantic search. We will try the methods for 2 different topics."
   ]
  },
  {
   "cell_type": "code",
   "execution_count": null,
   "id": "ee1f2c03",
   "metadata": {},
   "outputs": [],
   "source": [
    "# Load the model\n",
    "model_miniLM = SentenceTransformer(\"all-MiniLM-L6-v2\")"
   ]
  },
  {
   "cell_type": "code",
   "execution_count": null,
   "id": "c12122a7",
   "metadata": {},
   "outputs": [],
   "source": [
    "# Encode the query\n",
    "query_embedding = model_miniLM.encode([\"women's rights\"])"
   ]
  },
  {
   "cell_type": "code",
   "execution_count": null,
   "id": "c30efb6b",
   "metadata": {},
   "outputs": [],
   "source": [
    "# Encode the movie descriptions\n",
    "movie_embeddings = model_miniLM.encode(movie_descriptions, batch_size=64)"
   ]
  },
  {
   "cell_type": "code",
   "execution_count": null,
   "id": "607d4bb4",
   "metadata": {},
   "outputs": [],
   "source": [
    "# Calculate similarity with the query\n",
    "similarities = cosine_similarity(query_embedding, movie_embeddings).flatten()\n",
    "ids = [movie_ids[i] for i, sim in enumerate(similarities) if sim > 0.2]"
   ]
  },
  {
   "cell_type": "code",
   "execution_count": null,
   "id": "c900864e",
   "metadata": {},
   "outputs": [],
   "source": [
    "df_movies_new = df_movies[df_movies['Wikipedia_movie_ID'].isin(ids)]\n",
    "df_movies_new.head()"
   ]
  },
  {
   "cell_type": "markdown",
   "id": "23511d1f",
   "metadata": {},
   "source": [
    "## Launch model for news topic 1"
   ]
  },
  {
   "cell_type": "code",
   "execution_count": null,
   "id": "70ef1ad7",
   "metadata": {},
   "outputs": [],
   "source": [
    "# Encode the text\n",
    "with ProgressBar():\n",
    "    news = filtered_ddf['combined_text'].compute().tolist()  # Utilisation de compute() pour Dask\n",
    "news_embeddings = model_miniLM.encode(news, batch_size=64)"
   ]
  },
  {
   "cell_type": "code",
   "execution_count": null,
   "id": "2430cd1e",
   "metadata": {},
   "outputs": [],
   "source": [
    "filtered_ddf_pandas = filtered_ddf.compute()"
   ]
  },
  {
   "cell_type": "code",
   "execution_count": null,
   "id": "df40dc43",
   "metadata": {},
   "outputs": [],
   "source": [
    "# Calculate similarity with the query\n",
    "similarities = cosine_similarity(query_embedding, news_embeddings).flatten()\n",
    "similar_entries_indices = np.where(similarities >= 0.3)[0]\n",
    "filtered_similar_ddf = filtered_ddf_pandas.iloc[similar_entries_indices].reset_index(drop=True)"
   ]
  },
  {
   "cell_type": "markdown",
   "id": "c0622608",
   "metadata": {},
   "source": [
    "## Plot evolution"
   ]
  },
  {
   "cell_type": "code",
   "execution_count": null,
   "id": "aa2a0613",
   "metadata": {},
   "outputs": [],
   "source": [
    "# Calculate the relative presence of the topic across the years\n",
    "count_per_year = df_movies_new.groupby('Movie_release_date').size()\n",
    "total_count_per_year = df_movies.groupby('Movie_release_date').size()\n",
    "\n",
    "relative_count_per_year = count_per_year / total_count_per_year\n",
    "\n",
    "# Create the line plot\n",
    "relative_count_per_year.plot(kind='line', figsize=(10, 6), title=\"Number of Movies per Year\")\n",
    "plt.xlabel(\"Year\")\n",
    "plt.ylabel(\"Number of Movies\")\n",
    "plt.show()\n"
   ]
  },
  {
   "cell_type": "code",
   "execution_count": null,
   "id": "6b336016",
   "metadata": {},
   "outputs": [],
   "source": [
    "# Calculate the relative presence of the topic accross the years\n",
    "count_per_year_similar = filtered_similar_ddf.groupby('year').size()\n",
    "total_count_per_year_similar = filtered_ddf_pandas.groupby('year').size()\n",
    "\n",
    "relative_count_per_year_similar = count_per_year_similar / total_count_per_year_similar\n",
    "\n",
    "relative_count_per_year_similar = relative_count_per_year_similar.dropna()\n",
    "\n",
    "# Line plot\n",
    "relative_count_per_year_similar.plot(kind='line', figsize=(10, 6), title=\"Relative Number of news articles per Year\")\n",
    "plt.xlabel(\"Year\")\n",
    "plt.ylabel(\"Number of articles\")\n",
    "plt.show()"
   ]
  },
  {
   "cell_type": "markdown",
   "id": "5b3d40f5",
   "metadata": {},
   "source": [
    "The tendencies need to be examined in details to draw conclusions. At first glance, we see that there is no particular tendency for women's rights presence in movies while in news articles it tends to increase."
   ]
  },
  {
   "cell_type": "markdown",
   "id": "7e402c9d",
   "metadata": {},
   "source": [
    "## Launch model for news topic 2"
   ]
  },
  {
   "cell_type": "code",
   "execution_count": null,
   "id": "7ff840c5",
   "metadata": {},
   "outputs": [],
   "source": [
    "# Calculate similarity for the new topic\n",
    "query_embedding_env = model.encode([\"environmental issues\"])\n",
    "\n",
    "similarities_env = cosine_similarity(query_embedding_env, movie_embeddings).flatten()\n",
    "ids_env = [movie_ids[i] for i, sim in enumerate(similarities_env) if sim > 0.2]\n",
    "\n",
    "df_movies_new_env = df_movies[df_movies['Wikipedia_movie_ID'].isin(ids_env)]\n",
    "df_movies_new_env"
   ]
  },
  {
   "cell_type": "code",
   "execution_count": null,
   "id": "4bc18b3f",
   "metadata": {},
   "outputs": [],
   "source": [
    "# Calculate the relative presence of the topic accross the years\n",
    "count_per_year = df_movies_new_env.groupby('Movie_release_date').size()\n",
    "\n",
    "total_count_per_year = df_movies.groupby('Movie_release_date').size()\n",
    "\n",
    "relative_count_per_year = count_per_year / total_count_per_year\n",
    "\n",
    "relative_count_per_year = relative_count_per_year.dropna()\n",
    "\n",
    "# Create the line plot\n",
    "relative_count_per_year.plot(kind='line', figsize=(10, 6), title=\"Relative Number of Movies per Year\")\n",
    "plt.xlabel(\"Year\")\n",
    "plt.ylabel(\"Number of Movies\")\n",
    "\n",
    "# Generate a linear regression line to the data\n",
    "x = relative_count_per_year.index.astype(int)  # Ensure 'Year' is in integer format\n",
    "y = relative_count_per_year.values\n",
    "a, b = np.polyfit(x, y, 1)  # 1 indicates a linear fit (degree 1 polynomial)\n",
    "\n",
    "regression_line = a * x + b\n",
    "\n",
    "plt.plot(x, regression_line, color='red', label='Tendency')\n",
    "plt.legend()\n",
    "\n",
    "plt.show()"
   ]
  },
  {
   "cell_type": "code",
   "execution_count": null,
   "id": "be9af7c6",
   "metadata": {},
   "outputs": [],
   "source": [
    "# Calculate similarity with new query\n",
    "similarities_env_news = cosine_similarity(query_embedding_env, news_embeddings).flatten()\n",
    "similar_entries_indices_env_news = np.where(similarities_env_news >= 0.4)[0]\n",
    "filtered_similar_ddf_env_news = filtered_ddf_pandas.iloc[similar_entries_indices_env_news].reset_index(drop=True)"
   ]
  },
  {
   "cell_type": "code",
   "execution_count": null,
   "id": "39edc927",
   "metadata": {},
   "outputs": [],
   "source": [
    "# Calculate the relative presence of the topic accross the years\n",
    "count_per_year_similar = filtered_similar_ddf_env_news.groupby('year').size()\n",
    "\n",
    "relative_count_per_year_similar = count_per_year_similar / total_count_per_year_similar\n",
    "\n",
    "relative_count_per_year_similar = relative_count_per_year_similar.dropna()\n",
    "\n",
    "# Create a line plot\n",
    "relative_count_per_year_similar.plot(kind='line', figsize=(10, 6), title=\"Relative number of articles per year\")\n",
    "plt.xlabel(\"Year\")\n",
    "plt.ylabel(\"Number of news articles\")\n",
    "\n",
    "# Generate a linear regression line to the data\n",
    "x = relative_count_per_year_similar.index.astype(int)  \n",
    "y = relative_count_per_year_similar.values\n",
    "a, b = np.polyfit(x, y, 1) \n",
    "\n",
    "regression_line = a * x + b\n",
    "\n",
    "plt.plot(x, regression_line, color='red', label='Tendency')\n",
    "\n",
    "plt.show()"
   ]
  },
  {
   "cell_type": "markdown",
   "id": "ffe16044",
   "metadata": {},
   "source": [
    "In this case, we observe that the relative presence of \"environmental issues\" tends to increase over time. We would need more in-depth analysis to draw conclusions."
   ]
  },
  {
   "cell_type": "markdown",
   "id": "728b3653",
   "metadata": {},
   "source": [
    "# Initial results about movies dataset"
   ]
  },
  {
   "cell_type": "code",
   "execution_count": null,
   "id": "30b267ee",
   "metadata": {},
   "outputs": [],
   "source": [
    "# Load preprocessed data\n",
    "data_folder = 'data/MovieSummaries/'\n",
    "df_metadata = pd.read_csv(data_folder + 'movies_metadata_cleaned.csv')\n",
    "\n",
    "df_metadata"
   ]
  },
  {
   "cell_type": "code",
   "execution_count": null,
   "id": "c1766070",
   "metadata": {},
   "outputs": [],
   "source": [
    "# Identify NaNs in the 'Grouped_genres' and remove them\n",
    "problematic_values = []\n",
    "for index, value in df_metadata['Grouped_genres'].items(): \n",
    "    if isinstance(value, str):\n",
    "        try:\n",
    "            ast.literal_eval(value)\n",
    "        except (ValueError, SyntaxError):\n",
    "            problematic_values.append((index, value))\n",
    "\n",
    "            \n",
    "df_metadata = df_metadata.drop([index for index, _ in problematic_values])"
   ]
  },
  {
   "cell_type": "markdown",
   "id": "3256f36f",
   "metadata": {},
   "source": [
    "## Analysis of genres across the world throughout the decades"
   ]
  },
  {
   "cell_type": "code",
   "execution_count": null,
   "id": "b1adc42f",
   "metadata": {},
   "outputs": [],
   "source": [
    "# Count of Genres per decade\n",
    "\n",
    "# Expand the genres\n",
    "df_metadata['Grouped_genres'] = df_metadata['Grouped_genres'].apply(lambda x: ast.literal_eval(x) if isinstance(x, str) else x)\n",
    "df_expanded = df_metadata.explode('Grouped_genres')\n",
    "\n",
    "# Group by 'Decade' and 'Movie_genres' and count occurrences\n",
    "genre_distribution = df_expanded.groupby(['Decade', 'Grouped_genres']).size().reset_index(name=\"Count\")\n",
    "\n",
    "# Sort 'Decade' and 'Count' in descending order\n",
    "genre_distribution = genre_distribution.sort_values(by=['Decade', 'Count'], ascending=[True, False])"
   ]
  },
  {
   "cell_type": "code",
   "execution_count": null,
   "id": "7fc59a97",
   "metadata": {
    "scrolled": false
   },
   "outputs": [],
   "source": [
    "plot_top_genres(5, genre_distribution)"
   ]
  },
  {
   "cell_type": "markdown",
   "id": "f7c369ef",
   "metadata": {},
   "source": [
    "### Observations\n",
    "\n",
    "We can observe the evolution of movie genres across the decades. Some genres, like Silent Films, disappeared from the top 5, while others emerged over time. Certain genres, such as Romance and Action/Adventure, were prominent in most decades but less so in others.\n",
    "\n",
    "Drama and Comedy, however, were consistently dominant across most decades. \n",
    "\n",
    "The World genre stood out in three specific decades: the 1960s, 1970s, and 2000s. Its prominence in the first two may be attributed to the Cold War, while in the 2000s, it could be due to globalization.\n",
    "\n",
    "We can also observe the emergence of Action/Adventure during 1960 and Thriller during 1970."
   ]
  },
  {
   "cell_type": "code",
   "execution_count": null,
   "id": "2c72fcc3",
   "metadata": {},
   "outputs": [],
   "source": [
    "all_genre_distr = df_expanded.groupby(['Grouped_genres']).size().reset_index(name=\"Count\")\n",
    "all_genre_distr = all_genre_distr.sort_values(by=['Count'], ascending=False)"
   ]
  },
  {
   "cell_type": "code",
   "execution_count": null,
   "id": "0438c71d",
   "metadata": {},
   "outputs": [],
   "source": [
    "plot_top_genres_overall(10, all_genre_distr)"
   ]
  },
  {
   "cell_type": "markdown",
   "id": "bd15d90e",
   "metadata": {},
   "source": [
    "### Observations\n",
    "\n",
    "We see that the two prevalent genres are Drama and Comedy, which supports our previous observations."
   ]
  },
  {
   "cell_type": "markdown",
   "id": "bbf51ccb",
   "metadata": {},
   "source": [
    "## Analysis of movies genres throughout the decades by continent"
   ]
  },
  {
   "cell_type": "code",
   "execution_count": null,
   "id": "a67b6ea8",
   "metadata": {
    "scrolled": false
   },
   "outputs": [],
   "source": [
    "# Top 5 genres in each continent for each decade\n",
    "plot_top_genres_by_continent(df_expanded)"
   ]
  },
  {
   "cell_type": "markdown",
   "id": "539bd3ed",
   "metadata": {},
   "source": [
    "### Observations\n",
    "\n",
    "Drama is, as expected, the most prevalent genre across each continent. Surprisingly, the Middle East shows only two genres—Short Film and Documentary—in the 2000s, suggesting a limited representation of Middle Eastern films in the dataset.\n",
    "\n",
    "The appearance of War as a genre in Europe and Oceania during the 1940s correlates with World War II, reflecting how cinema often mirrors historical events during major conflicts.\n",
    "\n",
    "In North America, the last seven decades show a stable composition of Action/Adventure, Comedy, and Drama, with a touch of Thriller, suggesting a stable trend in popular genres.\n",
    "\n",
    "Interestingly, in Africa, the most common genres in the recent decade are Documentary and Short Film. This may show a focus on real-life stories on Africa that may resonate with African Audiences."
   ]
  },
  {
   "cell_type": "code",
   "execution_count": null,
   "id": "32849d5d",
   "metadata": {
    "scrolled": false
   },
   "outputs": [],
   "source": [
    "# Evolution of the overall top 5 genres in each continent\n",
    "plot_top_genres_by_continent_overall(df_expanded)"
   ]
  },
  {
   "cell_type": "markdown",
   "id": "aa43fc36",
   "metadata": {},
   "source": [
    "### Observations\n",
    "\n",
    "A really interesting first observation is the significant drop in the percentage of the Comedy genre in Africa, North America and Europe, with the biggest one happening in Europe. We observe that a really big part of movies before 1900 are comedies, but only less than 20% are comedies from the 1910 decade.\n",
    "\n",
    "Among the overall top five genres, Drama stands out as the dominant genre across all continents, with each producing more Drama movies than any other genre. However, the distribution of the overall top five genres varies considerably between continents: the distribution seems more balanced in North America (every genre in the overall top 5 takes between 10% and 30% of the total number of movies of these genres) compared to Africa, which has more than 50% of their movies in the Drama genre, leaving less than half distributed over the four other genres.\n",
    "\n",
    "Other genres do not seem to have a strong fluctuation in their distribution across the decades. We just note that Africa also has a strong decline in the Romance genre between 1930 and 1960, to produce more Drama movies. A guess that could explain this trend is the historical background of Africa during these decades (colonization, global conflicts...)."
   ]
  },
  {
   "cell_type": "markdown",
   "id": "7424aabf",
   "metadata": {},
   "source": [
    "## Conclusion on the movies genres analysis\n",
    "\n",
    "From the observations of the evolution of movies genres throughout the decades, there seems to be a hint that societal themes and topics are related to the movies"
   ]
  }
 ],
 "metadata": {
  "kernelspec": {
   "display_name": "Python 3 (ipykernel)",
   "language": "python",
   "name": "python3"
  },
  "language_info": {
   "codemirror_mode": {
    "name": "ipython",
    "version": 3
   },
   "file_extension": ".py",
   "mimetype": "text/x-python",
   "name": "python",
   "nbconvert_exporter": "python",
   "pygments_lexer": "ipython3",
   "version": "3.11.5"
  }
 },
 "nbformat": 4,
 "nbformat_minor": 5
}
