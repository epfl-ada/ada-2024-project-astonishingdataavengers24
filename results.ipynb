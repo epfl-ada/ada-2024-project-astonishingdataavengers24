{
 "cells": [
  {
   "cell_type": "code",
   "execution_count": 1,
   "id": "22760bd2",
   "metadata": {},
   "outputs": [
    {
     "ename": "ModuleNotFoundError",
     "evalue": "No module named 'src.utils.helpers_news_movies'",
     "output_type": "error",
     "traceback": [
      "\u001b[0;31m---------------------------------------------------------------------------\u001b[0m",
      "\u001b[0;31mModuleNotFoundError\u001b[0m                       Traceback (most recent call last)",
      "Cell \u001b[0;32mIn[1], line 21\u001b[0m\n\u001b[1;32m     19\u001b[0m \u001b[38;5;28;01mfrom\u001b[39;00m \u001b[38;5;21;01mgensim\u001b[39;00m\u001b[38;5;21;01m.\u001b[39;00m\u001b[38;5;21;01mmodels\u001b[39;00m \u001b[38;5;28;01mimport\u001b[39;00m KeyedVectors\n\u001b[1;32m     20\u001b[0m \u001b[38;5;28;01mfrom\u001b[39;00m \u001b[38;5;21;01mgensim\u001b[39;00m\u001b[38;5;21;01m.\u001b[39;00m\u001b[38;5;21;01mutils\u001b[39;00m \u001b[38;5;28;01mimport\u001b[39;00m simple_preprocess\n\u001b[0;32m---> 21\u001b[0m \u001b[38;5;28;01mfrom\u001b[39;00m \u001b[38;5;21;01msrc\u001b[39;00m\u001b[38;5;21;01m.\u001b[39;00m\u001b[38;5;21;01mutils\u001b[39;00m\u001b[38;5;21;01m.\u001b[39;00m\u001b[38;5;21;01mhelpers_news_movies\u001b[39;00m \u001b[38;5;28;01mimport\u001b[39;00m \u001b[38;5;241m*\u001b[39m\n\u001b[1;32m     22\u001b[0m \u001b[38;5;28;01mfrom\u001b[39;00m \u001b[38;5;21;01msrc\u001b[39;00m\u001b[38;5;21;01m.\u001b[39;00m\u001b[38;5;21;01mutils\u001b[39;00m\u001b[38;5;21;01m.\u001b[39;00m\u001b[38;5;21;01mmovies_genres_utils\u001b[39;00m \u001b[38;5;28;01mimport\u001b[39;00m \u001b[38;5;241m*\u001b[39m\n",
      "\u001b[0;31mModuleNotFoundError\u001b[0m: No module named 'src.utils.helpers_news_movies'"
     ]
    }
   ],
   "source": [
    "import dask.dataframe as dd\n",
    "from nltk.corpus import stopwords\n",
    "import nltk\n",
    "import re\n",
    "import pandas as pd\n",
    "import matplotlib.pyplot as plt\n",
    "from sentence_transformers import SentenceTransformer\n",
    "from sklearn.metrics.pairwise import cosine_similarity\n",
    "import numpy as np\n",
    "from dask.diagnostics import ProgressBar\n",
    "%matplotlib inline\n",
    "import seaborn as sns\n",
    "import ast\n",
    "from sklearn.feature_extraction.text import CountVectorizer\n",
    "from sklearn.decomposition import LatentDirichletAllocation\n",
    "from sklearn.feature_extraction.text import TfidfVectorizer\n",
    "from sklearn.decomposition import TruncatedSVD\n",
    "from gensim.models import Word2Vec\n",
    "from gensim.models import KeyedVectors\n",
    "from gensim.utils import simple_preprocess\n",
    "from src.utils.helpers_news_movies import *\n",
    "from src.utils.movies_genres_utils import *"
   ]
  },
  {
   "cell_type": "markdown",
   "id": "1fba9c22",
   "metadata": {},
   "source": [
    "## Topic modeling  for news"
   ]
  },
  {
   "cell_type": "markdown",
   "id": "fd63acf8",
   "metadata": {},
   "source": [
    "The goal of this part is to test other topic modeling methods to find themes in news papers. We'll test LDA and LSI methods. We'll also try try to find a title for each theme."
   ]
  },
  {
   "cell_type": "code",
   "execution_count": null,
   "id": "940965a4",
   "metadata": {},
   "outputs": [],
   "source": [
    "# Load stopwords\n",
    "nltk.download('stopwords')\n",
    "stop_words_ = set(stopwords.words('english'))"
   ]
  },
  {
   "cell_type": "code",
   "execution_count": null,
   "id": "3540f3c0",
   "metadata": {},
   "outputs": [],
   "source": [
    "ddf = dd.read_parquet('data/nyt_data.parquet')"
   ]
  },
  {
   "cell_type": "code",
   "execution_count": null,
   "id": "9e7baaec",
   "metadata": {},
   "outputs": [],
   "source": [
    "# Filter dataset for a particular year\n",
    "filtered_ddf = ddf[(ddf['year'] >= 1968) & (ddf['year'] <= 1968)]\n",
    "\n",
    "filtered_ddf = filtered_ddf.reset_index(drop=True)"
   ]
  },
  {
   "cell_type": "code",
   "execution_count": null,
   "id": "3af65f52",
   "metadata": {},
   "outputs": [],
   "source": [
    "# Combine the text and process it\n",
    "filtered_ddf['combined_text'] = filtered_ddf['title'] + filtered_ddf['excerpt']\n",
    "filtered_ddf['processed_text'] = filtered_ddf['combined_text'].apply(preprocess_text, meta=('processed_text', 'str'), args= ('stop_words_',))"
   ]
  },
  {
   "cell_type": "markdown",
   "id": "6568956d",
   "metadata": {},
   "source": [
    "## Topic modeling by LDA"
   ]
  },
  {
   "cell_type": "code",
   "execution_count": null,
   "id": "3ad65ec2",
   "metadata": {},
   "outputs": [],
   "source": [
    "# Create the TF matrix\n",
    "stop_words = stopwords.words('english')\n",
    "vectorizer = CountVectorizer(max_df=0.90, min_df=2, stop_words=stop_words, token_pattern=r'\\b[a-zA-Z]+\\b')\n",
    "\n",
    "processed_text = filtered_ddf['processed_text'].compute() \n",
    "tf_matrix = vectorizer.fit_transform(processed_text)"
   ]
  },
  {
   "cell_type": "code",
   "execution_count": null,
   "id": "478b4ecc",
   "metadata": {},
   "outputs": [],
   "source": [
    "# Create and fit the model\n",
    "lda = LatentDirichletAllocation(n_components=30, random_state=0)\n",
    "lda.fit(tf_matrix)"
   ]
  },
  {
   "cell_type": "code",
   "execution_count": null,
   "id": "566f0bfd",
   "metadata": {},
   "outputs": [],
   "source": [
    "# Find and print the terms for each topic\n",
    "topics_lda = {}\n",
    "words = vectorizer.get_feature_names_out()\n",
    "for idx, topic in enumerate(lda.components_):\n",
    "\n",
    "    top_words = [words[i] for i in topic.argsort()[-30:]]\n",
    "    topics_lda[f\"Theme {idx+1}\"] = top_words\n",
    "\n",
    "for theme, words in topics_lda.items():\n",
    "    print(f\"{theme}: {' '.join(words)}\")"
   ]
  },
  {
   "cell_type": "markdown",
   "id": "116adcb5",
   "metadata": {},
   "source": [
    "## Topic modeling by LSI"
   ]
  },
  {
   "cell_type": "code",
   "execution_count": null,
   "id": "97bf91e7",
   "metadata": {},
   "outputs": [],
   "source": [
    "# Create the TF-IDF matrix\n",
    "tf_idf_vectorizer = TfidfVectorizer(max_features=5000)  \n",
    "tf_idf_matrix = tf_idf_vectorizer.fit_transform(filtered_ddf['processed_text'])"
   ]
  },
  {
   "cell_type": "code",
   "execution_count": null,
   "id": "32945663",
   "metadata": {},
   "outputs": [],
   "source": [
    "# Create and fit the model\n",
    "svd_model = TruncatedSVD(n_components=30, random_state=42)\n",
    "svd_model.fit_transform(tf_idf_matrix)"
   ]
  },
  {
   "cell_type": "code",
   "execution_count": null,
   "id": "92c5b478",
   "metadata": {},
   "outputs": [],
   "source": [
    "# Find and print the terms for each topic\n",
    "topics_lsi = {}\n",
    "terms = tf_idf_vectorizer.get_feature_names_out()\n",
    "for i, topic in enumerate(svd_model.components_):\n",
    "    top_terms = [terms[j] for j in topic.argsort()[-20:]]\n",
    "    topics_lsi[f\"Topic {i+1}\"] = top_terms\n",
    "\n",
    "for topic, terms in topics_lsi.items():\n",
    "    print(f\"{topic}: {' '.join(terms)}\")"
   ]
  },
  {
   "cell_type": "markdown",
   "id": "496afe20",
   "metadata": {},
   "source": [
    "We tried to find topics for the year 1968. It seems to work since we recognized some hot topics of society from this year, such as the Vietnam war or students' protests."
   ]
  },
  {
   "cell_type": "markdown",
   "id": "26f97e44",
   "metadata": {},
   "source": [
    "## Find title for topic"
   ]
  },
  {
   "cell_type": "code",
   "execution_count": null,
   "id": "ea654cb5",
   "metadata": {},
   "outputs": [],
   "source": [
    "# Load a model already trained to encode words\n",
    "model = KeyedVectors.load_word2vec_format(\"data/word2vec.bin\", binary=True)"
   ]
  },
  {
   "cell_type": "code",
   "execution_count": null,
   "id": "bda2ea42",
   "metadata": {},
   "outputs": [],
   "source": [
    "# Find a word that summarizes the themes found above\n",
    "def find_theme(list_words, model):\n",
    "    vectors = []\n",
    "    # Calculate the average vector for the theme\n",
    "    for w in list_words:\n",
    "        if w in model:\n",
    "            vectors.append(model[w])\n",
    "    if vectors:\n",
    "        avg_vec = sum(vectors) / len(vectors)\n",
    "    else:\n",
    "        avg_vec = None\n",
    "        \n",
    "    # Find the closest word\n",
    "    closest_words = model.most_similar(positive=[avg_vec], topn=1)\n",
    "\n",
    "    closest_w, sim_max = closest_words[0] \n",
    "    return closest_w"
   ]
  },
  {
   "cell_type": "code",
   "execution_count": null,
   "id": "052894ef",
   "metadata": {
    "scrolled": false
   },
   "outputs": [],
   "source": [
    "# Print the topics found\n",
    "for t, ws in topics_lsi.items():\n",
    "    print(t)\n",
    "    print(f\"Terms {ws}\")\n",
    "    theme = find_theme(ws, model)\n",
    "    print(f\"Theme word : {theme}\")"
   ]
  },
  {
   "cell_type": "markdown",
   "id": "c07b3dba",
   "metadata": {},
   "source": [
    "The results are coherent but do not seem sufficient for further analysis. We will maybe have to find n-grams to better define the themes or do it manually."
   ]
  },
  {
   "cell_type": "markdown",
   "id": "737f8ae1",
   "metadata": {},
   "source": [
    "## Compare Topics in News and in Movies"
   ]
  },
  {
   "cell_type": "markdown",
   "id": "f59e26c4",
   "metadata": {},
   "source": [
    "This part shows an example of how we could explore similarities in societal issues between news articles and movies plots. Once we have our topics of interests, we can do semantic search with a sentence-transformer model and compare their presence over time. We will also do more advanced statistical analysis, which we haven't done yet in this part."
   ]
  },
  {
   "cell_type": "markdown",
   "id": "f1133daa",
   "metadata": {},
   "source": [
    "## Load NYT dataset"
   ]
  },
  {
   "cell_type": "code",
   "execution_count": null,
   "id": "1c83f9bf",
   "metadata": {},
   "outputs": [],
   "source": [
    "# Select a time period and compute\n",
    "with ProgressBar():\n",
    "    filtered_ddf = ddf[(ddf['year'] >= 1950) & (ddf['year'] <= 2000)].compute()\n",
    "\n",
    "filtered_ddf = dd.from_pandas(filtered_ddf, npartitions=100)\n",
    "\n",
    "# Select only a tiny fraction because the data is too large and a small percentage is sufficient for our analyses\n",
    "filtered_ddf = filtered_ddf.sample(frac=0.01, random_state=42).reset_index(drop=True)\n"
   ]
  },
  {
   "cell_type": "code",
   "execution_count": null,
   "id": "41db7a75",
   "metadata": {},
   "outputs": [],
   "source": [
    "# Create a combined text field for further analysis\n",
    "filtered_ddf['combined_text'] = filtered_ddf['title'] + filtered_ddf['excerpt']"
   ]
  },
  {
   "cell_type": "code",
   "execution_count": null,
   "id": "d7be8182",
   "metadata": {},
   "outputs": [],
   "source": [
    "col_names = ['Wikipedia movie ID', 'Freebase movie ID', 'Movie name', 'Movie release date','Movie box office revenue', 'Movie runtime', 'Movie languages','Movie countries', 'Movie genres']\n",
    "df_movies = pd.read_csv('data/MovieSummaries/movie.metadata.tsv', sep='\\t', header=None, names=col_names)"
   ]
  },
  {
   "cell_type": "code",
   "execution_count": null,
   "id": "6271f1aa",
   "metadata": {},
   "outputs": [],
   "source": [
    "# Reformate dates\n",
    "df_movies['Movie release date'] = pd.to_datetime(df_movies['Movie release date'], errors='coerce', format='%Y-%m-%d')\n",
    "\n",
    "df_movies['Movie release date'] = df_movies['Movie release date'].fillna(\n",
    "    pd.to_datetime(df_movies['Movie release date'].astype(str) + '-01-01', errors='coerce')\n",
    ")\n",
    "\n",
    "df_movies['Release Year'] = df_movies['Movie release date'].dt.year"
   ]
  },
  {
   "cell_type": "code",
   "execution_count": null,
   "id": "6a70f6e7",
   "metadata": {},
   "outputs": [],
   "source": [
    "df_movies.head()"
   ]
  },
  {
   "cell_type": "code",
   "execution_count": null,
   "id": "ae5fcb47",
   "metadata": {},
   "outputs": [],
   "source": [
    "# Select period of time\n",
    "start_date = 1950\n",
    "end_date = 2000\n",
    "\n",
    "df_movies = df_movies[(df_movies['Release Year'] >= start_date) & (df_movies['Release Year'] < end_date)]"
   ]
  },
  {
   "cell_type": "code",
   "execution_count": null,
   "id": "a7f9099f",
   "metadata": {},
   "outputs": [],
   "source": [
    "# Create lists\n",
    "ids = df_movies[\"Wikipedia movie ID\"].to_list()\n",
    "movies_dict = load_plot_summaries(\"data/MovieSummaries/plot_summaries.txt\")\n",
    "movies_dict = {k: movies_dict[k] for k in movies_dict if k in ids}\n",
    "movie_descriptions = list(movies_dict.values())\n",
    "movie_ids = list(movies_dict.keys())"
   ]
  },
  {
   "cell_type": "markdown",
   "id": "f238d774",
   "metadata": {},
   "source": [
    "## Launch Model for movies topic 1\n",
    "\n",
    "We use a model from sentence-transformers to do semantic search. We will try the methods for 2 different topics."
   ]
  },
  {
   "cell_type": "code",
   "execution_count": null,
   "id": "ee1f2c03",
   "metadata": {},
   "outputs": [],
   "source": [
    "# Load the model\n",
    "model_miniLM = SentenceTransformer(\"all-MiniLM-L6-v2\")"
   ]
  },
  {
   "cell_type": "code",
   "execution_count": null,
   "id": "c12122a7",
   "metadata": {},
   "outputs": [],
   "source": [
    "# Encode the query\n",
    "query_embedding = model_miniLM.encode([\"women's rights\"])"
   ]
  },
  {
   "cell_type": "code",
   "execution_count": null,
   "id": "c30efb6b",
   "metadata": {},
   "outputs": [],
   "source": [
    "# Encode the movie descriptions\n",
    "movie_embeddings = model_miniLM.encode(movie_descriptions, batch_size=64)"
   ]
  },
  {
   "cell_type": "code",
   "execution_count": null,
   "id": "607d4bb4",
   "metadata": {},
   "outputs": [],
   "source": [
    "# Calculate similarity with the query\n",
    "similarities = cosine_similarity(query_embedding, movie_embeddings).flatten()\n",
    "ids = [movie_ids[i] for i, sim in enumerate(similarities) if sim > 0.2]"
   ]
  },
  {
   "cell_type": "code",
   "execution_count": null,
   "id": "c900864e",
   "metadata": {},
   "outputs": [],
   "source": [
    "df_movies_new = df_movies[df_movies['Wikipedia movie ID'].isin(ids)]\n",
    "df_movies_new.head()"
   ]
  },
  {
   "cell_type": "markdown",
   "id": "23511d1f",
   "metadata": {},
   "source": [
    "## Launch model for news topic 1"
   ]
  },
  {
   "cell_type": "code",
   "execution_count": null,
   "id": "70ef1ad7",
   "metadata": {},
   "outputs": [],
   "source": [
    "# Encode the text\n",
    "with ProgressBar():\n",
    "    news = filtered_ddf['combined_text'].compute().tolist()  # Utilisation de compute() pour Dask\n",
    "news_embeddings = model_miniLM.encode(news, batch_size=64)"
   ]
  },
  {
   "cell_type": "code",
   "execution_count": null,
   "id": "2430cd1e",
   "metadata": {},
   "outputs": [],
   "source": [
    "filtered_ddf_pandas = filtered_ddf.compute()"
   ]
  },
  {
   "cell_type": "code",
   "execution_count": null,
   "id": "df40dc43",
   "metadata": {},
   "outputs": [],
   "source": [
    "# Calculate similarity with the query\n",
    "similarities = cosine_similarity(query_embedding, news_embeddings).flatten()\n",
    "similar_entries_indices = np.where(similarities >= 0.3)[0]\n",
    "filtered_similar_ddf = filtered_ddf_pandas.iloc[similar_entries_indices].reset_index(drop=True)"
   ]
  },
  {
   "cell_type": "markdown",
   "id": "c0622608",
   "metadata": {},
   "source": [
    "## Plot evolution"
   ]
  },
  {
   "cell_type": "code",
   "execution_count": null,
   "id": "aa2a0613",
   "metadata": {},
   "outputs": [],
   "source": [
    "# Calculate the relative presence of the topic across the years\n",
    "count_per_year = df_movies_new.groupby('Release Year').size()\n",
    "total_count_per_year = df_movies.groupby('Release Year').size()\n",
    "\n",
    "relative_count_per_year = count_per_year / total_count_per_year\n",
    "\n",
    "# Create the line plot\n",
    "relative_count_per_year.plot(kind='line', figsize=(10, 6), title=\"Number of Movies per Year\")\n",
    "plt.xlabel(\"Year\")\n",
    "plt.ylabel(\"Number of Movies\")\n",
    "plt.show()\n"
   ]
  },
  {
   "cell_type": "code",
   "execution_count": null,
   "id": "6b336016",
   "metadata": {},
   "outputs": [],
   "source": [
    "# Calculate the relative presence of the topic accross the years\n",
    "count_per_year_similar = filtered_similar_ddf.groupby('year').size()\n",
    "total_count_per_year_similar = filtered_ddf_pandas.groupby('year').size()\n",
    "\n",
    "relative_count_per_year_similar = count_per_year_similar / total_count_per_year_similar\n",
    "\n",
    "relative_count_per_year_similar = relative_count_per_year_similar.dropna()\n",
    "\n",
    "# Line plot\n",
    "relative_count_per_year_similar.plot(kind='line', figsize=(10, 6), title=\"Relative Number of news articles per Year\")\n",
    "plt.xlabel(\"Year\")\n",
    "plt.ylabel(\"Number of articles\")\n",
    "plt.show()"
   ]
  },
  {
   "cell_type": "markdown",
   "id": "6ddd0889",
   "metadata": {},
   "source": [
    "The tendencies need to be examined in details to draw conclusions. At first glance, we see that there is no particular tendency for women's rights presence in movies while in news articles it tends to increase."
   ]
  },
  {
   "cell_type": "markdown",
   "id": "7e402c9d",
   "metadata": {},
   "source": [
    "## Launch model for news topic 2"
   ]
  },
  {
   "cell_type": "code",
   "execution_count": null,
   "id": "7ff840c5",
   "metadata": {},
   "outputs": [],
   "source": [
    "# Calculate similarity for the new topic\n",
    "query_embedding_env = model.encode([\"environmental issues\"])\n",
    "\n",
    "similarities_env = cosine_similarity(query_embedding_env, movie_embeddings).flatten()\n",
    "ids_env = [movie_ids[i] for i, sim in enumerate(similarities_env) if sim > 0.2]\n",
    "\n",
    "df_movies_new_env = df_movies[df_movies['Wikipedia movie ID'].isin(ids_env)]\n",
    "df_movies_new_env"
   ]
  },
  {
   "cell_type": "code",
   "execution_count": null,
   "id": "4bc18b3f",
   "metadata": {},
   "outputs": [],
   "source": [
    "# Calculate the relative presence of the topic accross the years\n",
    "count_per_year = df_movies_new_env.groupby('Release Year').size()\n",
    "\n",
    "total_count_per_year = df_movies.groupby('Release Year').size()\n",
    "\n",
    "relative_count_per_year = count_per_year / total_count_per_year\n",
    "\n",
    "relative_count_per_year = relative_count_per_year.dropna()\n",
    "\n",
    "# Create the line plot\n",
    "relative_count_per_year.plot(kind='line', figsize=(10, 6), title=\"Relative Number of Movies per Year\")\n",
    "plt.xlabel(\"Year\")\n",
    "plt.ylabel(\"Number of Movies\")\n",
    "\n",
    "# Generate a linear regression line to the data\n",
    "x = relative_count_per_year.index.astype(int)  # Ensure 'Year' is in integer format\n",
    "y = relative_count_per_year.values\n",
    "a, b = np.polyfit(x, y, 1)  # 1 indicates a linear fit (degree 1 polynomial)\n",
    "\n",
    "regression_line = a * x + b\n",
    "\n",
    "plt.plot(x, regression_line, color='red', label='Tendency')\n",
    "plt.legend()\n",
    "\n",
    "plt.show()"
   ]
  },
  {
   "cell_type": "code",
   "execution_count": null,
   "id": "be9af7c6",
   "metadata": {},
   "outputs": [],
   "source": [
    "# Calculate similarity with new query\n",
    "similarities_env_news = cosine_similarity(query_embedding_env, news_embeddings).flatten()\n",
    "similar_entries_indices_env_news = np.where(similarities_env_news >= 0.4)[0]\n",
    "filtered_similar_ddf_env_news = filtered_ddf_pandas.iloc[similar_entries_indices_env_news].reset_index(drop=True)"
   ]
  },
  {
   "cell_type": "code",
   "execution_count": null,
   "id": "39edc927",
   "metadata": {},
   "outputs": [],
   "source": [
    "# Calculate the relative presence of the topic accross the years\n",
    "count_per_year_similar = filtered_similar_ddf_env_news.groupby('year').size()\n",
    "\n",
    "relative_count_per_year_similar = count_per_year_similar / total_count_per_year_similar\n",
    "\n",
    "relative_count_per_year_similar = relative_count_per_year_similar.dropna()\n",
    "\n",
    "# Create a line plot\n",
    "relative_count_per_year_similar.plot(kind='line', figsize=(10, 6), title=\"Relative number of articles per year\")\n",
    "plt.xlabel(\"Year\")\n",
    "plt.ylabel(\"Number of news articles\")\n",
    "\n",
    "# Generate a linear regression line to the data\n",
    "x = relative_count_per_year_similar.index.astype(int)  \n",
    "y = relative_count_per_year_similar.values\n",
    "a, b = np.polyfit(x, y, 1) \n",
    "\n",
    "regression_line = a * x + b\n",
    "\n",
    "plt.plot(x, regression_line, color='red', label='Tendency')\n",
    "\n",
    "plt.show()"
   ]
  },
  {
   "cell_type": "markdown",
   "id": "f507d6c2",
   "metadata": {},
   "source": [
    "In this case, we observe that the relative presence of \"environmental issues\" tends to increase over time. We would need more in-depth analysis to draw conclusions."
   ]
  },
  {
   "cell_type": "markdown",
   "id": "728b3653",
   "metadata": {},
   "source": [
    "# Initial results about movies dataset"
   ]
  },
  {
   "cell_type": "code",
   "execution_count": null,
   "id": "30b267ee",
   "metadata": {},
   "outputs": [],
   "source": [
    "# Load preprocessed data\n",
    "data_folder = 'data/MovieSummaries/'\n",
    "df_metadata = pd.read_csv(data_folder + 'movies_metadata_cleaned.csv')\n",
    "\n",
    "df_metadata"
   ]
  },
  {
   "cell_type": "code",
   "execution_count": null,
   "id": "c1766070",
   "metadata": {},
   "outputs": [],
   "source": [
    "# Identify NaNs in the 'Grouped_genres' and remove them\n",
    "problematic_values = []\n",
    "for index, value in df_metadata['Grouped_genres'].items(): \n",
    "    if isinstance(value, str):\n",
    "        try:\n",
    "            ast.literal_eval(value)\n",
    "        except (ValueError, SyntaxError):\n",
    "            problematic_values.append((index, value))\n",
    "\n",
    "            \n",
    "df_metadata = df_metadata.drop([index for index, _ in problematic_values])"
   ]
  },
  {
   "cell_type": "markdown",
   "id": "3256f36f",
   "metadata": {},
   "source": [
    "## Analysis of genres across the world throughout the decades"
   ]
  },
  {
   "cell_type": "code",
   "execution_count": null,
   "id": "b1adc42f",
   "metadata": {},
   "outputs": [],
   "source": [
    "# Count of Genres per decade\n",
    "\n",
    "# Expand the genres\n",
    "df_metadata['Grouped_genres'] = df_metadata['Grouped_genres'].apply(lambda x: ast.literal_eval(x) if isinstance(x, str) else x)\n",
    "df_expanded = df_metadata.explode('Grouped_genres')\n",
    "\n",
    "# Group by 'Decade' and 'Movie_genres' and count occurrences\n",
    "genre_distribution = df_expanded.groupby(['Decade', 'Grouped_genres']).size().reset_index(name=\"Count\")\n",
    "\n",
    "# Sort 'Decade' and 'Count' in descending order\n",
    "genre_distribution = genre_distribution.sort_values(by=['Decade', 'Count'], ascending=[True, False])"
   ]
  },
  {
   "cell_type": "code",
   "execution_count": null,
   "id": "7fc59a97",
   "metadata": {
    "scrolled": false
   },
   "outputs": [],
   "source": [
    "plot_top_genres(5, genre_distribution)"
   ]
  },
  {
   "cell_type": "markdown",
   "id": "f7c369ef",
   "metadata": {},
   "source": [
    "### Observations\n",
    "\n",
    "We can observe the evolution of movie genres across the decades. Some genres, like Silent Films, disappeared from the top 5, while others emerged over time. Certain genres, such as Romance and Action/Adventure, were prominent in most decades but less so in others.\n",
    "\n",
    "Drama and Comedy, however, were consistently dominant across most decades. \n",
    "\n",
    "The World genre stood out in three specific decades: the 1960s, 1970s, and 2000s. Its prominence in the first two may be attributed to the Cold War, while in the 2000s, it could be due to globalization.\n",
    "\n",
    "We can also observe the emergence of Action/Adventure during 1960 and Thriller during 1970."
   ]
  },
  {
   "cell_type": "code",
   "execution_count": null,
   "id": "2c72fcc3",
   "metadata": {},
   "outputs": [],
   "source": [
    "all_genre_distr = df_expanded.groupby(['Grouped_genres']).size().reset_index(name=\"Count\")\n",
    "all_genre_distr = all_genre_distr.sort_values(by=['Count'], ascending=False)"
   ]
  },
  {
   "cell_type": "code",
   "execution_count": null,
   "id": "0438c71d",
   "metadata": {},
   "outputs": [],
   "source": [
    "plot_top_genres_overall(10, all_genre_distr)"
   ]
  },
  {
   "cell_type": "markdown",
   "id": "bd15d90e",
   "metadata": {},
   "source": [
    "### Observations\n",
    "\n",
    "We see that the two prevalent genres are Drama and Comedy, which supports our previous observations."
   ]
  },
  {
   "cell_type": "markdown",
   "id": "bbf51ccb",
   "metadata": {},
   "source": [
    "## Analysis of movies genres throughout the decades by continent"
   ]
  },
  {
   "cell_type": "code",
   "execution_count": null,
   "id": "a67b6ea8",
   "metadata": {
    "scrolled": false
   },
   "outputs": [],
   "source": [
    "# Top 5 genres in each continent for each decade\n",
    "plot_top_genres_by_continent(df_expanded)"
   ]
  },
  {
   "cell_type": "markdown",
   "id": "539bd3ed",
   "metadata": {},
   "source": [
    "### Observations\n",
    "\n",
    "Drama is, as expected, the most prevalent genre across each continent. Surprisingly, the Middle East shows only two genres—Short Film and Documentary—in the 2000s, suggesting a limited representation of Middle Eastern films in the dataset.\n",
    "\n",
    "The appearance of War as a genre in Europe and Oceania during the 1940s correlates with World War II, reflecting how cinema often mirrors historical events during major conflicts.\n",
    "\n",
    "In North America, the last seven decades show a stable composition of Action/Adventure, Comedy, and Drama, with a touch of Thriller, suggesting a stable trend in popular genres.\n",
    "\n",
    "Interestingly, in Africa, the most common genres in the recent decade are Documentary and Short Film. This may show a focus on real-life stories on Africa that may resonate with African Audiences."
   ]
  },
  {
   "cell_type": "code",
   "execution_count": null,
   "id": "32849d5d",
   "metadata": {
    "scrolled": false
   },
   "outputs": [],
   "source": [
    "# Evolution of the overall top 5 genres in each continent\n",
    "plot_top_genres_by_continent_overall(df_expanded)"
   ]
  },
  {
   "cell_type": "markdown",
   "id": "aa43fc36",
   "metadata": {},
   "source": [
    "### Observations\n",
    "\n",
    "A really interesting first observation is the significant drop in the percentage of the Comedy genre in Africa, North America and Europe, with the biggest one happening in Europe. We observe that a really big part of movies before 1900 are comedies, but only less than 20% are comedies from the 1910 decade.\n",
    "\n",
    "Among the overall top five genres, Drama stands out as the dominant genre across all continents, with each producing more Drama movies than any other genre. However, the distribution of the overall top five genres varies considerably between continents: the distribution seems more balanced in North America (every genre in the overall top 5 takes between 10% and 30% of the total number of movies of these genres) compared to Africa, which has more than 50% of their movies in the Drama genre, leaving less than half distributed over the four other genres.\n",
    "\n",
    "Other genres do not seem to have a strong fluctuation in their distribution across the decades. We just note that Africa also has a strong decline in the Romance genre between 1930 and 1960, to produce more Drama movies. A guess that could explain this trend is the historical background of Africa during these decades (colonization, global conflicts...)."
   ]
  },
  {
   "cell_type": "markdown",
   "id": "7424aabf",
   "metadata": {},
   "source": [
    "## Conclusion on the movies genres analysis\n",
    "\n",
    "From the observations of the evolution of movies genres throughout the decades, there seems to be a hint that societal themes and topics are related to the movies"
   ]
  }
 ],
 "metadata": {
  "kernelspec": {
   "display_name": "Python 3 (ipykernel)",
   "language": "python",
   "name": "python3"
  },
  "language_info": {
   "codemirror_mode": {
    "name": "ipython",
    "version": 3
   },
   "file_extension": ".py",
   "mimetype": "text/x-python",
   "name": "python",
   "nbconvert_exporter": "python",
   "pygments_lexer": "ipython3",
   "version": "3.11.5"
  }
 },
 "nbformat": 4,
 "nbformat_minor": 5
}
