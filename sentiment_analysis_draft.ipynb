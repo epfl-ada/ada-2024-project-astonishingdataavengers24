{
 "cells": [
  {
   "cell_type": "code",
   "execution_count": 1,
   "id": "418dfc3b",
   "metadata": {},
   "outputs": [],
   "source": [
    "import pandas as pd\n",
    "import matplotlib.pyplot as plt\n",
    "%matplotlib inline\n",
    "import seaborn as sns\n",
    "\n",
    "from src.utils.helpers_sentiment_analysis import *"
   ]
  },
  {
   "cell_type": "markdown",
   "id": "055b004f",
   "metadata": {},
   "source": [
    "# Health topic"
   ]
  },
  {
   "cell_type": "code",
   "execution_count": null,
   "id": "b72f733b",
   "metadata": {},
   "outputs": [],
   "source": [
    "# Health theme sentiment analysis\n",
    "df_health = pd.read_csv('src/df_movies_themes/df_movies/movies_health.csv')\n",
    "df_health = perform_sentiment_analysis(df_health)\n",
    "df_health[['Decade', 'NLTK_Sentiment', 'TB_Sentiment', 'VADER_Sentiment', 'Emotions_Sentiment', 'Grouped_genres']]"
   ]
  },
  {
   "cell_type": "code",
   "execution_count": null,
   "id": "44761659",
   "metadata": {},
   "outputs": [],
   "source": [
    "sentiment_counts = count_sentiments(df_health)\n",
    "print(sentiment_counts)"
   ]
  },
  {
   "cell_type": "markdown",
   "id": "d8a58a2b",
   "metadata": {},
   "source": [
    "We observe that there are more positive movies concerning health than negative ones."
   ]
  },
  {
   "cell_type": "code",
   "execution_count": null,
   "id": "f0cd1ba3",
   "metadata": {},
   "outputs": [],
   "source": [
    "plot_movie_frequency_by_decade(df_health)"
   ]
  },
  {
   "cell_type": "code",
   "execution_count": null,
   "id": "5c146fea",
   "metadata": {},
   "outputs": [],
   "source": [
    "plot_sentiment_by_decade(df_health, technique='NLTK')"
   ]
  },
  {
   "cell_type": "code",
   "execution_count": null,
   "id": "e91e5095",
   "metadata": {},
   "outputs": [],
   "source": [
    "plot_sentiment_by_decade(df_health, technique='TextBlob')"
   ]
  },
  {
   "cell_type": "code",
   "execution_count": null,
   "id": "968df102",
   "metadata": {},
   "outputs": [],
   "source": [
    "plot_sentiment_by_decade(df_health, technique='VADER')"
   ]
  },
  {
   "cell_type": "code",
   "execution_count": null,
   "id": "0626cb19",
   "metadata": {},
   "outputs": [],
   "source": [
    "plot_sentiment_by_decade(df_health, technique='Emotions')"
   ]
  },
  {
   "cell_type": "code",
   "execution_count": null,
   "id": "fac77597",
   "metadata": {},
   "outputs": [],
   "source": [
    "plot_combined_sentiment_by_decade(df_health)"
   ]
  },
  {
   "cell_type": "code",
   "execution_count": null,
   "id": "4c14d47b",
   "metadata": {},
   "outputs": [],
   "source": [
    "plot_top_genres_overall(10, df_health)"
   ]
  },
  {
   "cell_type": "code",
   "execution_count": null,
   "id": "d187111b",
   "metadata": {},
   "outputs": [],
   "source": [
    "# [TODO] find better colors and fix the legend (display only the top 10 genres representated in graph)\n",
    "plot_top_genres(10, df_health)"
   ]
  }
 ],
 "metadata": {
  "kernelspec": {
   "display_name": "Python 3 (ipykernel)",
   "language": "python",
   "name": "python3"
  },
  "language_info": {
   "codemirror_mode": {
    "name": "ipython",
    "version": 3
   },
   "file_extension": ".py",
   "mimetype": "text/x-python",
   "name": "python",
   "nbconvert_exporter": "python",
   "pygments_lexer": "ipython3",
   "version": "3.11.5"
  }
 },
 "nbformat": 4,
 "nbformat_minor": 5
}
